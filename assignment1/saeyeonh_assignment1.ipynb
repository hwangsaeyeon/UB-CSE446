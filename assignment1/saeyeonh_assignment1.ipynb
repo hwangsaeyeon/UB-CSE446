{
  "nbformat": 4,
  "nbformat_minor": 0,
  "metadata": {
    "colab": {
      "name": "saeyeonh_assignment1.ipynb",
      "provenance": [],
      "collapsed_sections": []
    },
    "kernelspec": {
      "name": "python3",
      "display_name": "Python 3"
    },
    "language_info": {
      "name": "python"
    }
  },
  "cells": [
    {
      "cell_type": "markdown",
      "source": [
        "## 0. gym environment"
      ],
      "metadata": {
        "id": "QopPgjFGVodP"
      }
    },
    {
      "cell_type": "code",
      "execution_count": 196,
      "metadata": {
        "colab": {
          "base_uri": "https://localhost:8080/"
        },
        "id": "l9k0UMQc5Ic3",
        "outputId": "a457b311-4880-4d92-ea9d-7566628ec396"
      },
      "outputs": [
        {
          "output_type": "stream",
          "name": "stdout",
          "text": [
            "Requirement already satisfied: gym in /usr/local/lib/python3.7/dist-packages (0.17.3)\n",
            "Requirement already satisfied: pyglet<=1.5.0,>=1.4.0 in /usr/local/lib/python3.7/dist-packages (from gym) (1.5.0)\n",
            "Requirement already satisfied: scipy in /usr/local/lib/python3.7/dist-packages (from gym) (1.4.1)\n",
            "Requirement already satisfied: cloudpickle<1.7.0,>=1.2.0 in /usr/local/lib/python3.7/dist-packages (from gym) (1.3.0)\n",
            "Requirement already satisfied: numpy>=1.10.4 in /usr/local/lib/python3.7/dist-packages (from gym) (1.21.5)\n",
            "Requirement already satisfied: future in /usr/local/lib/python3.7/dist-packages (from pyglet<=1.5.0,>=1.4.0->gym) (0.16.0)\n"
          ]
        }
      ],
      "source": [
        "!pip install gym"
      ]
    },
    {
      "cell_type": "code",
      "source": [
        "import gym\n",
        "import numpy as np\n",
        "from gym import spaces\n",
        "import matplotlib.pyplot as plt\n",
        "from google.colab import widgets\n",
        "import time"
      ],
      "metadata": {
        "id": "pRtSAobkRZVl"
      },
      "execution_count": 197,
      "outputs": []
    },
    {
      "cell_type": "code",
      "source": [
        "grid = np.zeros((4,4))\n",
        "print(grid)"
      ],
      "metadata": {
        "colab": {
          "base_uri": "https://localhost:8080/"
        },
        "id": "pr-fnVycUy4x",
        "outputId": "ac39f179-de84-40c2-ce47-34a780e8f193"
      },
      "execution_count": 198,
      "outputs": [
        {
          "output_type": "stream",
          "name": "stdout",
          "text": [
            "[[0. 0. 0. 0.]\n",
            " [0. 0. 0. 0.]\n",
            " [0. 0. 0. 0.]\n",
            " [0. 0. 0. 0.]]\n"
          ]
        }
      ]
    },
    {
      "cell_type": "code",
      "source": [
        "grid = np.zeros((4, 4))\n",
        "pos1 = [0, 0]\n",
        "pos2 = [3, 3]\n",
        "\n",
        "reward1 = [0,3]\n",
        "reward2 = [1,3]\n",
        "reward3 = [2,2]\n",
        "reward4 = [3,2]\n",
        "\n",
        "grid[tuple(pos1)] = 1\n",
        "grid[tuple(pos2)] = 0.5\n",
        "grid[tuple(reward1)] = 0.25\n",
        "grid[tuple(reward2)] = 0.25\n",
        "grid[tuple(reward3)] = 0.25\n",
        "grid[tuple(reward4)] = 0.25\n",
        "\n",
        "print(grid)"
      ],
      "metadata": {
        "colab": {
          "base_uri": "https://localhost:8080/"
        },
        "id": "0Q-6jDObU0GG",
        "outputId": "c99739c3-d64d-44a2-dda9-ed5663c1c189"
      },
      "execution_count": 199,
      "outputs": [
        {
          "output_type": "stream",
          "name": "stdout",
          "text": [
            "[[1.   0.   0.   0.25]\n",
            " [0.   0.   0.   0.25]\n",
            " [0.   0.   0.25 0.  ]\n",
            " [0.   0.   0.25 0.5 ]]\n"
          ]
        }
      ]
    },
    {
      "cell_type": "code",
      "source": [
        "plt.imshow(grid)"
      ],
      "metadata": {
        "colab": {
          "base_uri": "https://localhost:8080/",
          "height": 287
        },
        "id": "NGSkPV8E8Eit",
        "outputId": "ce032d00-e3a6-44b7-f809-4f1dd1f5a512"
      },
      "execution_count": 200,
      "outputs": [
        {
          "output_type": "execute_result",
          "data": {
            "text/plain": [
              "<matplotlib.image.AxesImage at 0x7fb7ffd082d0>"
            ]
          },
          "metadata": {},
          "execution_count": 200
        },
        {
          "output_type": "display_data",
          "data": {
            "image/png": "[encoded data removed]",
            "text/plain": [
              "<Figure size 432x288 with 1 Axes>"
            ]
          },
          "metadata": {
            "needs_background": "light"
          }
        }
      ]
    },
    {
      "cell_type": "code",
      "source": [
        "from google.colab import widgets\n",
        "import time\n",
        "\n",
        "output_grid = widgets.Grid(1, 1)\n",
        "for _ in range(5):\n",
        "  grid = np.zeros((4, 4))\n",
        "  grid[np.random.randint(4), np.random.randint(4)] = 1\n",
        "  with output_grid.output_to(0, 0):\n",
        "    output_grid.clear_cell()\n",
        "    plt.imshow(grid)\n",
        "  time.sleep(1)"
      ],
      "metadata": {
        "colab": {
          "base_uri": "https://localhost:8080/",
          "height": 273
        },
        "id": "vaKEC34tValQ",
        "outputId": "88bcf347-873a-4e24-86f5-a71ae8478d26"
      },
      "execution_count": 201,
      "outputs": [
        {
          "output_type": "display_data",
          "data": {
            "text/html": [
              "<style>\n",
              "       table#id100, #id100 > tbody > tr > th, #id100 > tbody > tr > td {\n",
              "         border: 1px solid lightgray;\n",
              "         border-collapse:collapse;\n",
              "         \n",
              "        }</style>"
            ],
            "text/plain": [
              "<IPython.core.display.HTML object>"
            ]
          },
          "metadata": {}
        },
        {
          "output_type": "display_data",
          "data": {
            "text/html": [
              "<table id=id100><tr><td id=id100-0-0></td></tr></table>"
            ],
            "text/plain": [
              "<IPython.core.display.HTML object>"
            ]
          },
          "metadata": {}
        },
        {
          "output_type": "display_data",
          "data": {
            "application/javascript": [
              "window[\"27a66af0-a025-11ec-918f-0242ac1c0002\"] = google.colab.output.getActiveOutputArea();\n",
              "//# sourceURL=js_68d83c1657"
            ],
            "text/plain": [
              "<IPython.core.display.Javascript object>"
            ]
          },
          "metadata": {}
        },
        {
          "output_type": "display_data",
          "data": {
            "application/javascript": [
              "window[\"27a6d85a-a025-11ec-918f-0242ac1c0002\"] = document.querySelector(\"#id100-0-0\");\n",
              "//# sourceURL=js_5399bb7022"
            ],
            "text/plain": [
              "<IPython.core.display.Javascript object>"
            ]
          },
          "metadata": {}
        },
        {
          "output_type": "display_data",
          "data": {
            "application/javascript": [
              "window[\"27a73be2-a025-11ec-918f-0242ac1c0002\"] = google.colab.output.setActiveOutputArea(window[\"27a6d85a-a025-11ec-918f-0242ac1c0002\"]);\n",
              "//# sourceURL=js_f29666a22a"
            ],
            "text/plain": [
              "<IPython.core.display.Javascript object>"
            ]
          },
          "metadata": {}
        },
        {
          "output_type": "display_data",
          "data": {
            "application/javascript": [
              "window[\"27c1ca48-a025-11ec-918f-0242ac1c0002\"] = google.colab.output.setActiveOutputArea(window[\"27a66af0-a025-11ec-918f-0242ac1c0002\"]);\n",
              "//# sourceURL=js_53428f398b"
            ],
            "text/plain": [
              "<IPython.core.display.Javascript object>"
            ]
          },
          "metadata": {}
        },
        {
          "output_type": "display_data",
          "data": {
            "application/javascript": [
              "window[\"285e5552-a025-11ec-918f-0242ac1c0002\"] = google.colab.output.getActiveOutputArea();\n",
              "//# sourceURL=js_d923e9a845"
            ],
            "text/plain": [
              "<IPython.core.display.Javascript object>"
            ]
          },
          "metadata": {}
        },
        {
          "output_type": "display_data",
          "data": {
            "application/javascript": [
              "window[\"285eaf98-a025-11ec-918f-0242ac1c0002\"] = document.querySelector(\"#id100-0-0\");\n",
              "//# sourceURL=js_f7362ba487"
            ],
            "text/plain": [
              "<IPython.core.display.Javascript object>"
            ]
          },
          "metadata": {}
        },
        {
          "output_type": "display_data",
          "data": {
            "application/javascript": [
              "window[\"285f23c4-a025-11ec-918f-0242ac1c0002\"] = google.colab.output.setActiveOutputArea(window[\"285eaf98-a025-11ec-918f-0242ac1c0002\"]);\n",
              "//# sourceURL=js_30961d8f2f"
            ],
            "text/plain": [
              "<IPython.core.display.Javascript object>"
            ]
          },
          "metadata": {}
        },
        {
          "output_type": "display_data",
          "data": {
            "application/javascript": [
              "window[\"287989d0-a025-11ec-918f-0242ac1c0002\"] = google.colab.output.setActiveOutputArea(window[\"285e5552-a025-11ec-918f-0242ac1c0002\"]);\n",
              "//# sourceURL=js_2613408d8a"
            ],
            "text/plain": [
              "<IPython.core.display.Javascript object>"
            ]
          },
          "metadata": {}
        },
        {
          "output_type": "display_data",
          "data": {
            "application/javascript": [
              "window[\"29155eb4-a025-11ec-918f-0242ac1c0002\"] = google.colab.output.getActiveOutputArea();\n",
              "//# sourceURL=js_1d03de50e3"
            ],
            "text/plain": [
              "<IPython.core.display.Javascript object>"
            ]
          },
          "metadata": {}
        },
        {
          "output_type": "display_data",
          "data": {
            "application/javascript": [
              "window[\"29171fd8-a025-11ec-918f-0242ac1c0002\"] = document.querySelector(\"#id100-0-0\");\n",
              "//# sourceURL=js_77feb067ef"
            ],
            "text/plain": [
              "<IPython.core.display.Javascript object>"
            ]
          },
          "metadata": {}
        },
        {
          "output_type": "display_data",
          "data": {
            "application/javascript": [
              "window[\"29181ce4-a025-11ec-918f-0242ac1c0002\"] = google.colab.output.setActiveOutputArea(window[\"29171fd8-a025-11ec-918f-0242ac1c0002\"]);\n",
              "//# sourceURL=js_cb83476532"
            ],
            "text/plain": [
              "<IPython.core.display.Javascript object>"
            ]
          },
          "metadata": {}
        },
        {
          "output_type": "display_data",
          "data": {
            "application/javascript": [
              "window[\"29435684-a025-11ec-918f-0242ac1c0002\"] = google.colab.output.setActiveOutputArea(window[\"29155eb4-a025-11ec-918f-0242ac1c0002\"]);\n",
              "//# sourceURL=js_7b3b9fb897"
            ],
            "text/plain": [
              "<IPython.core.display.Javascript object>"
            ]
          },
          "metadata": {}
        },
        {
          "output_type": "display_data",
          "data": {
            "application/javascript": [
              "window[\"29e188f4-a025-11ec-918f-0242ac1c0002\"] = google.colab.output.getActiveOutputArea();\n",
              "//# sourceURL=js_0fcc74cfbc"
            ],
            "text/plain": [
              "<IPython.core.display.Javascript object>"
            ]
          },
          "metadata": {}
        },
        {
          "output_type": "display_data",
          "data": {
            "application/javascript": [
              "window[\"29e2fd92-a025-11ec-918f-0242ac1c0002\"] = document.querySelector(\"#id100-0-0\");\n",
              "//# sourceURL=js_a68ee7e6b8"
            ],
            "text/plain": [
              "<IPython.core.display.Javascript object>"
            ]
          },
          "metadata": {}
        },
        {
          "output_type": "display_data",
          "data": {
            "application/javascript": [
              "window[\"29e5287e-a025-11ec-918f-0242ac1c0002\"] = google.colab.output.setActiveOutputArea(window[\"29e2fd92-a025-11ec-918f-0242ac1c0002\"]);\n",
              "//# sourceURL=js_bd23e1cc99"
            ],
            "text/plain": [
              "<IPython.core.display.Javascript object>"
            ]
          },
          "metadata": {}
        },
        {
          "output_type": "display_data",
          "data": {
            "application/javascript": [
              "window[\"2a25fef8-a025-11ec-918f-0242ac1c0002\"] = google.colab.output.setActiveOutputArea(window[\"29e188f4-a025-11ec-918f-0242ac1c0002\"]);\n",
              "//# sourceURL=js_0cf63e3efc"
            ],
            "text/plain": [
              "<IPython.core.display.Javascript object>"
            ]
          },
          "metadata": {}
        },
        {
          "output_type": "display_data",
          "data": {
            "application/javascript": [
              "window[\"2ac69516-a025-11ec-918f-0242ac1c0002\"] = google.colab.output.getActiveOutputArea();\n",
              "//# sourceURL=js_de3e1a0636"
            ],
            "text/plain": [
              "<IPython.core.display.Javascript object>"
            ]
          },
          "metadata": {}
        },
        {
          "output_type": "display_data",
          "data": {
            "application/javascript": [
              "window[\"2ac9d1d6-a025-11ec-918f-0242ac1c0002\"] = document.querySelector(\"#id100-0-0\");\n",
              "//# sourceURL=js_a06c010265"
            ],
            "text/plain": [
              "<IPython.core.display.Javascript object>"
            ]
          },
          "metadata": {}
        },
        {
          "output_type": "display_data",
          "data": {
            "application/javascript": [
              "window[\"2acb2d4c-a025-11ec-918f-0242ac1c0002\"] = google.colab.output.setActiveOutputArea(window[\"2ac9d1d6-a025-11ec-918f-0242ac1c0002\"]);\n",
              "//# sourceURL=js_abd43bc571"
            ],
            "text/plain": [
              "<IPython.core.display.Javascript object>"
            ]
          },
          "metadata": {}
        },
        {
          "output_type": "display_data",
          "data": {
            "image/png": "[encoded data removed]",
            "text/plain": [
              "<Figure size 432x288 with 1 Axes>"
            ]
          },
          "metadata": {
            "needs_background": "light"
          }
        },
        {
          "output_type": "display_data",
          "data": {
            "application/javascript": [
              "window[\"2b0951b2-a025-11ec-918f-0242ac1c0002\"] = google.colab.output.setActiveOutputArea(window[\"2ac69516-a025-11ec-918f-0242ac1c0002\"]);\n",
              "//# sourceURL=js_94b991668e"
            ],
            "text/plain": [
              "<IPython.core.display.Javascript object>"
            ]
          },
          "metadata": {}
        }
      ]
    },
    {
      "cell_type": "markdown",
      "source": [
        "##1. Deterministic Environment"
      ],
      "metadata": {
        "id": "2cNLjVOZj_hl"
      }
    },
    {
      "cell_type": "code",
      "source": [
        "class DGridEnvironment(gym.Env):\n",
        "    metadata = {'render.modes': []}\n",
        "    \n",
        "    def __init__(self):\n",
        "        self.observation_space = spaces.Discrete(16)\n",
        "        self.action_space = spaces.Discrete(4)\n",
        "        self.max_timestep = 50000\n",
        "        self.rewards = [[0,3],[1,3],[2,2],[3,2]]\n",
        "        \n",
        "    def reset(self):\n",
        "        self.timestep = 0\n",
        "        self.agent_pos = [0,0]\n",
        "        self.goal_pos = [3,3]\n",
        "        self.state = np.zeros((4,4))\n",
        "        self.state[tuple(self.agent_pos)] = 1\n",
        "        self.state[tuple(self.goal_pos)] = 0.5\n",
        "        for i in self.rewards :\n",
        "          self.state[tuple(i)] = 0.25\n",
        "        observation = self.agent_pos #I changed it self.state.flatten() to self.agent_pos to use it in algorithm\n",
        "        return observation\n",
        "    \n",
        "    def step(self, action):\n",
        "        if action == 0:           \n",
        "          self.agent_pos[0] += 1 #down\n",
        "          if self.agent_pos[0] > 3:\n",
        "            self.agent_pos[0] = 3 \n",
        "        if action == 1:           \n",
        "          self.agent_pos[0] -= 1 #up\n",
        "          if self.agent_pos[0] < 0:\n",
        "            self.agent_pos[0] = 0 \n",
        "        if action == 2:\n",
        "          self.agent_pos[1] += 1 #right\n",
        "          if self.agent_pos[1] > 3:\n",
        "            self.agent_pos[1] = 3\n",
        "        if action == 3:\n",
        "          self.agent_pos[1] -= 1 #left\n",
        "          if self.agent_pos[1] < 0:\n",
        "            self.agent_pos[1] = 0  \n",
        "\n",
        "        self.agent_pos = np.clip(self.agent_pos, 0, 3)\n",
        "        self.state = np.zeros((4,4))\n",
        "        self.state[tuple(self.agent_pos)] = 1\n",
        "        self.state[tuple(self.goal_pos)] = 0.5\n",
        "        for i in self.rewards :\n",
        "          self.state[tuple(i)] = 0.25\n",
        "        observation = self.agent_pos #I changed it self.state.flatten() to self.agent_pos to use it in algorithm\n",
        "        \n",
        "        reward = 0\n",
        "        if (self.agent_pos == self.goal_pos).all():\n",
        "          reward = 5\n",
        "        elif (self.agent_pos == self.rewards[0]).all():\n",
        "          reward = 1\n",
        "        elif (self.agent_pos == self.rewards[1]).all():\n",
        "          reward = 2\n",
        "        elif (self.agent_pos == self.rewards[2]).all():\n",
        "          reward = 3\n",
        "        elif (self.agent_pos == self.rewards[3]).all():\n",
        "          reward = 4\n",
        "        else:\n",
        "          reward = -0.1\n",
        "        \n",
        "        self.timestep += 1\n",
        "        done = True if self.timestep >= self.max_timestep or (self.agent_pos == self.goal_pos).all() else False\n",
        "        info = {}\n",
        "        \n",
        "        return observation, reward, done, info\n",
        "        \n",
        "    def render(self):\n",
        "        plt.imshow(self.state)"
      ],
      "metadata": {
        "id": "nXmuQyfIN9rH"
      },
      "execution_count": 202,
      "outputs": []
    },
    {
      "cell_type": "code",
      "source": [
        "class RandomAgent:\n",
        "  def __init__(self, env):\n",
        "    self.env = env\n",
        "    self.observation_space = env.observation_space\n",
        "    self.action_space = env.action_space\n",
        "\n",
        "  def step(self, observation):\n",
        "    return np.random.choice(self.action_space.n)"
      ],
      "metadata": {
        "id": "kVE3XOqFOArz"
      },
      "execution_count": 203,
      "outputs": []
    },
    {
      "cell_type": "code",
      "source": [
        "env = DGridEnvironment()\n",
        "agent = RandomAgent(env)\n",
        "\n",
        "obs = env.reset()\n",
        "done = False\n",
        "\n",
        "output_grid = widgets.Grid(1, 1)\n",
        "with output_grid.output_to(0, 0):\n",
        "  env.render()\n",
        "\n",
        "\n",
        "for i in range(100):\n",
        "  action = agent.step(obs)\n",
        "  obs, reward, done, _= env.step(action)\n",
        "  with output_grid.output_to(0, 0):\n",
        "    output_grid.clear_cell()\n",
        "    env.render()"
      ],
      "metadata": {
        "colab": {
          "base_uri": "https://localhost:8080/",
          "height": 0
        },
        "id": "6EV8CqTXOB8M",
        "outputId": "b0ad97cc-c860-4572-ad3a-a37fac38e207"
      },
      "execution_count": 204,
      "outputs": [
        {
          "output_type": "display_data",
          "data": {
            "text/html": [
              "<style>\n",
              "       table#id102, #id102 > tbody > tr > th, #id102 > tbody > tr > td {\n",
              "         border: 1px solid lightgray;\n",
              "         border-collapse:collapse;\n",
              "         \n",
              "        }</style>"
            ],
            "text/plain": [
              "<IPython.core.display.HTML object>"
            ]
          },
          "metadata": {}
        },
        {
          "output_type": "display_data",
          "data": {
            "text/html": [
              "<table id=id102><tr><td id=id102-0-0></td></tr></table>"
            ],
            "text/plain": [
              "<IPython.core.display.HTML object>"
            ]
          },
          "metadata": {}
        },
        {
          "output_type": "display_data",
          "data": {
            "application/javascript": [
              "window[\"2bd29612-a025-11ec-918f-0242ac1c0002\"] = google.colab.output.getActiveOutputArea();\n",
              "//# sourceURL=js_686cc569a0"
            ],
            "text/plain": [
              "<IPython.core.display.Javascript object>"
            ]
          },
          "metadata": {}
        },
        {
          "output_type": "display_data",
          "data": {
            "application/javascript": [
              "window[\"2bd391f2-a025-11ec-918f-0242ac1c0002\"] = document.querySelector(\"#id102-0-0\");\n",
              "//# sourceURL=js_35982341a4"
            ],
            "text/plain": [
              "<IPython.core.display.Javascript object>"
            ]
          },
          "metadata": {}
        },
        {
          "output_type": "display_data",
          "data": {
            "application/javascript": [
              "window[\"2bd4c3e2-a025-11ec-918f-0242ac1c0002\"] = google.colab.output.setActiveOutputArea(window[\"2bd391f2-a025-11ec-918f-0242ac1c0002\"]);\n",
              "//# sourceURL=js_878468289f"
            ],
            "text/plain": [
              "<IPython.core.display.Javascript object>"
            ]
          },
          "metadata": {}
        },
        {
          "output_type": "display_data",
          "data": {
            "application/javascript": [
              "window[\"2c0d509a-a025-11ec-918f-0242ac1c0002\"] = google.colab.output.setActiveOutputArea(window[\"2bd29612-a025-11ec-918f-0242ac1c0002\"]);\n",
              "//# sourceURL=js_f9030051e3"
            ],
            "text/plain": [
              "<IPython.core.display.Javascript object>"
            ]
          },
          "metadata": {}
        },
        {
          "output_type": "display_data",
          "data": {
            "application/javascript": [
              "window[\"2c13dbc2-a025-11ec-918f-0242ac1c0002\"] = google.colab.output.getActiveOutputArea();\n",
              "//# sourceURL=js_ff6e3b252c"
            ],
            "text/plain": [
              "<IPython.core.display.Javascript object>"
            ]
          },
          "metadata": {}
        },
        {
          "output_type": "display_data",
          "data": {
            "application/javascript": [
              "window[\"2c161a5e-a025-11ec-918f-0242ac1c0002\"] = document.querySelector(\"#id102-0-0\");\n",
              "//# sourceURL=js_deb460a73b"
            ],
            "text/plain": [
              "<IPython.core.display.Javascript object>"
            ]
          },
          "metadata": {}
        },
        {
          "output_type": "display_data",
          "data": {
            "application/javascript": [
              "window[\"2c1694f2-a025-11ec-918f-0242ac1c0002\"] = google.colab.output.setActiveOutputArea(window[\"2c161a5e-a025-11ec-918f-0242ac1c0002\"]);\n",
              "//# sourceURL=js_ef696d3740"
            ],
            "text/plain": [
              "<IPython.core.display.Javascript object>"
            ]
          },
          "metadata": {}
        },
        {
          "output_type": "display_data",
          "data": {
            "application/javascript": [
              "window[\"2c53fc5c-a025-11ec-918f-0242ac1c0002\"] = google.colab.output.setActiveOutputArea(window[\"2c13dbc2-a025-11ec-918f-0242ac1c0002\"]);\n",
              "//# sourceURL=js_cb01cb2a22"
            ],
            "text/plain": [
              "<IPython.core.display.Javascript object>"
            ]
          },
          "metadata": {}
        },
        {
          "output_type": "display_data",
          "data": {
            "application/javascript": [
              "window[\"2c57fbd6-a025-11ec-918f-0242ac1c0002\"] = google.colab.output.getActiveOutputArea();\n",
              "//# sourceURL=js_a7820600b0"
            ],
            "text/plain": [
              "<IPython.core.display.Javascript object>"
            ]
          },
          "metadata": {}
        },
        {
          "output_type": "display_data",
          "data": {
            "application/javascript": [
              "window[\"2c5864fe-a025-11ec-918f-0242ac1c0002\"] = document.querySelector(\"#id102-0-0\");\n",
              "//# sourceURL=js_4d238046ce"
            ],
            "text/plain": [
              "<IPython.core.display.Javascript object>"
            ]
          },
          "metadata": {}
        },
        {
          "output_type": "display_data",
          "data": {
            "application/javascript": [
              "window[\"2c58d6be-a025-11ec-918f-0242ac1c0002\"] = google.colab.output.setActiveOutputArea(window[\"2c5864fe-a025-11ec-918f-0242ac1c0002\"]);\n",
              "//# sourceURL=js_7c2a46ed35"
            ],
            "text/plain": [
              "<IPython.core.display.Javascript object>"
            ]
          },
          "metadata": {}
        },
        {
          "output_type": "display_data",
          "data": {
            "application/javascript": [
              "window[\"2c734706-a025-11ec-918f-0242ac1c0002\"] = google.colab.output.setActiveOutputArea(window[\"2c57fbd6-a025-11ec-918f-0242ac1c0002\"]);\n",
              "//# sourceURL=js_1d40cd35de"
            ],
            "text/plain": [
              "<IPython.core.display.Javascript object>"
            ]
          },
          "metadata": {}
        },
        {
          "output_type": "display_data",
          "data": {
            "application/javascript": [
              "window[\"2c7650ae-a025-11ec-918f-0242ac1c0002\"] = google.colab.output.getActiveOutputArea();\n",
              "//# sourceURL=js_5c7260926b"
            ],
            "text/plain": [
              "<IPython.core.display.Javascript object>"
            ]
          },
          "metadata": {}
        },
        {
          "output_type": "display_data",
          "data": {
            "application/javascript": [
              "window[\"2c76b792-a025-11ec-918f-0242ac1c0002\"] = document.querySelector(\"#id102-0-0\");\n",
              "//# sourceURL=js_bca840eaaf"
            ],
            "text/plain": [
              "<IPython.core.display.Javascript object>"
            ]
          },
          "metadata": {}
        },
        {
          "output_type": "display_data",
          "data": {
            "application/javascript": [
              "window[\"2c771aac-a025-11ec-918f-0242ac1c0002\"] = google.colab.output.setActiveOutputArea(window[\"2c76b792-a025-11ec-918f-0242ac1c0002\"]);\n",
              "//# sourceURL=js_218b9f48e2"
            ],
            "text/plain": [
              "<IPython.core.display.Javascript object>"
            ]
          },
          "metadata": {}
        },
        {
          "output_type": "display_data",
          "data": {
            "application/javascript": [
              "window[\"2c924b6a-a025-11ec-918f-0242ac1c0002\"] = google.colab.output.setActiveOutputArea(window[\"2c7650ae-a025-11ec-918f-0242ac1c0002\"]);\n",
              "//# sourceURL=js_7c29ee4fc4"
            ],
            "text/plain": [
              "<IPython.core.display.Javascript object>"
            ]
          },
          "metadata": {}
        },
        {
          "output_type": "display_data",
          "data": {
            "application/javascript": [
              "window[\"2c96610a-a025-11ec-918f-0242ac1c0002\"] = google.colab.output.getActiveOutputArea();\n",
              "//# sourceURL=js_fabe8c9d3d"
            ],
            "text/plain": [
              "<IPython.core.display.Javascript object>"
            ]
          },
          "metadata": {}
        },
        {
          "output_type": "display_data",
          "data": {
            "application/javascript": [
              "window[\"2c96bc68-a025-11ec-918f-0242ac1c0002\"] = document.querySelector(\"#id102-0-0\");\n",
              "//# sourceURL=js_5b5a3d9ab4"
            ],
            "text/plain": [
              "<IPython.core.display.Javascript object>"
            ]
          },
          "metadata": {}
        },
        {
          "output_type": "display_data",
          "data": {
            "application/javascript": [
              "window[\"2c972f86-a025-11ec-918f-0242ac1c0002\"] = google.colab.output.setActiveOutputArea(window[\"2c96bc68-a025-11ec-918f-0242ac1c0002\"]);\n",
              "//# sourceURL=js_38e85319a9"
            ],
            "text/plain": [
              "<IPython.core.display.Javascript object>"
            ]
          },
          "metadata": {}
        },
        {
          "output_type": "display_data",
          "data": {
            "application/javascript": [
              "window[\"2cc1e258-a025-11ec-918f-0242ac1c0002\"] = google.colab.output.setActiveOutputArea(window[\"2c96610a-a025-11ec-918f-0242ac1c0002\"]);\n",
              "//# sourceURL=js_8a40f23342"
            ],
            "text/plain": [
              "<IPython.core.display.Javascript object>"
            ]
          },
          "metadata": {}
        },
        {
          "output_type": "display_data",
          "data": {
            "application/javascript": [
              "window[\"2cc689f2-a025-11ec-918f-0242ac1c0002\"] = google.colab.output.getActiveOutputArea();\n",
              "//# sourceURL=js_2805e90c40"
            ],
            "text/plain": [
              "<IPython.core.display.Javascript object>"
            ]
          },
          "metadata": {}
        },
        {
          "output_type": "display_data",
          "data": {
            "application/javascript": [
              "window[\"2cc76f5c-a025-11ec-918f-0242ac1c0002\"] = document.querySelector(\"#id102-0-0\");\n",
              "//# sourceURL=js_efb1f38df2"
            ],
            "text/plain": [
              "<IPython.core.display.Javascript object>"
            ]
          },
          "metadata": {}
        },
        {
          "output_type": "display_data",
          "data": {
            "application/javascript": [
              "window[\"2cc858c2-a025-11ec-918f-0242ac1c0002\"] = google.colab.output.setActiveOutputArea(window[\"2cc76f5c-a025-11ec-918f-0242ac1c0002\"]);\n",
              "//# sourceURL=js_2a1d84cd87"
            ],
            "text/plain": [
              "<IPython.core.display.Javascript object>"
            ]
          },
          "metadata": {}
        },
        {
          "output_type": "display_data",
          "data": {
            "application/javascript": [
              "window[\"2ce5404a-a025-11ec-918f-0242ac1c0002\"] = google.colab.output.setActiveOutputArea(window[\"2cc689f2-a025-11ec-918f-0242ac1c0002\"]);\n",
              "//# sourceURL=js_4027867d36"
            ],
            "text/plain": [
              "<IPython.core.display.Javascript object>"
            ]
          },
          "metadata": {}
        },
        {
          "output_type": "display_data",
          "data": {
            "application/javascript": [
              "window[\"2ce77bf8-a025-11ec-918f-0242ac1c0002\"] = google.colab.output.getActiveOutputArea();\n",
              "//# sourceURL=js_36566cff58"
            ],
            "text/plain": [
              "<IPython.core.display.Javascript object>"
            ]
          },
          "metadata": {}
        },
        {
          "output_type": "display_data",
          "data": {
            "application/javascript": [
              "window[\"2ce7e264-a025-11ec-918f-0242ac1c0002\"] = document.querySelector(\"#id102-0-0\");\n",
              "//# sourceURL=js_e9d6cdeaf6"
            ],
            "text/plain": [
              "<IPython.core.display.Javascript object>"
            ]
          },
          "metadata": {}
        },
        {
          "output_type": "display_data",
          "data": {
            "application/javascript": [
              "window[\"2ce84768-a025-11ec-918f-0242ac1c0002\"] = google.colab.output.setActiveOutputArea(window[\"2ce7e264-a025-11ec-918f-0242ac1c0002\"]);\n",
              "//# sourceURL=js_42492fcc25"
            ],
            "text/plain": [
              "<IPython.core.display.Javascript object>"
            ]
          },
          "metadata": {}
        },
        {
          "output_type": "display_data",
          "data": {
            "application/javascript": [
              "window[\"2d026652-a025-11ec-918f-0242ac1c0002\"] = google.colab.output.setActiveOutputArea(window[\"2ce77bf8-a025-11ec-918f-0242ac1c0002\"]);\n",
              "//# sourceURL=js_9acdef8d43"
            ],
            "text/plain": [
              "<IPython.core.display.Javascript object>"
            ]
          },
          "metadata": {}
        },
        {
          "output_type": "display_data",
          "data": {
            "application/javascript": [
              "window[\"2d04b0ce-a025-11ec-918f-0242ac1c0002\"] = google.colab.output.getActiveOutputArea();\n",
              "//# sourceURL=js_66c39c7bf1"
            ],
            "text/plain": [
              "<IPython.core.display.Javascript object>"
            ]
          },
          "metadata": {}
        },
        {
          "output_type": "display_data",
          "data": {
            "application/javascript": [
              "window[\"2d050d8a-a025-11ec-918f-0242ac1c0002\"] = document.querySelector(\"#id102-0-0\");\n",
              "//# sourceURL=js_5e6403ab4e"
            ],
            "text/plain": [
              "<IPython.core.display.Javascript object>"
            ]
          },
          "metadata": {}
        },
        {
          "output_type": "display_data",
          "data": {
            "application/javascript": [
              "window[\"2d056fbe-a025-11ec-918f-0242ac1c0002\"] = google.colab.output.setActiveOutputArea(window[\"2d050d8a-a025-11ec-918f-0242ac1c0002\"]);\n",
              "//# sourceURL=js_6ce75906c4"
            ],
            "text/plain": [
              "<IPython.core.display.Javascript object>"
            ]
          },
          "metadata": {}
        },
        {
          "output_type": "display_data",
          "data": {
            "application/javascript": [
              "window[\"2d205ba8-a025-11ec-918f-0242ac1c0002\"] = google.colab.output.setActiveOutputArea(window[\"2d04b0ce-a025-11ec-918f-0242ac1c0002\"]);\n",
              "//# sourceURL=js_463ac6b671"
            ],
            "text/plain": [
              "<IPython.core.display.Javascript object>"
            ]
          },
          "metadata": {}
        },
        {
          "output_type": "display_data",
          "data": {
            "application/javascript": [
              "window[\"2d25316e-a025-11ec-918f-0242ac1c0002\"] = google.colab.output.getActiveOutputArea();\n",
              "//# sourceURL=js_1baf957c79"
            ],
            "text/plain": [
              "<IPython.core.display.Javascript object>"
            ]
          },
          "metadata": {}
        },
        {
          "output_type": "display_data",
          "data": {
            "application/javascript": [
              "window[\"2d266516-a025-11ec-918f-0242ac1c0002\"] = document.querySelector(\"#id102-0-0\");\n",
              "//# sourceURL=js_c23c649e14"
            ],
            "text/plain": [
              "<IPython.core.display.Javascript object>"
            ]
          },
          "metadata": {}
        },
        {
          "output_type": "display_data",
          "data": {
            "application/javascript": [
              "window[\"2d271696-a025-11ec-918f-0242ac1c0002\"] = google.colab.output.setActiveOutputArea(window[\"2d266516-a025-11ec-918f-0242ac1c0002\"]);\n",
              "//# sourceURL=js_43b9c0e70b"
            ],
            "text/plain": [
              "<IPython.core.display.Javascript object>"
            ]
          },
          "metadata": {}
        },
        {
          "output_type": "display_data",
          "data": {
            "application/javascript": [
              "window[\"2d5c851a-a025-11ec-918f-0242ac1c0002\"] = google.colab.output.setActiveOutputArea(window[\"2d25316e-a025-11ec-918f-0242ac1c0002\"]);\n",
              "//# sourceURL=js_d2ec250fb2"
            ],
            "text/plain": [
              "<IPython.core.display.Javascript object>"
            ]
          },
          "metadata": {}
        },
        {
          "output_type": "display_data",
          "data": {
            "application/javascript": [
              "window[\"2d60a4e2-a025-11ec-918f-0242ac1c0002\"] = google.colab.output.getActiveOutputArea();\n",
              "//# sourceURL=js_5c94bae9c9"
            ],
            "text/plain": [
              "<IPython.core.display.Javascript object>"
            ]
          },
          "metadata": {}
        },
        {
          "output_type": "display_data",
          "data": {
            "application/javascript": [
              "window[\"2d613e02-a025-11ec-918f-0242ac1c0002\"] = document.querySelector(\"#id102-0-0\");\n",
              "//# sourceURL=js_870a4943ad"
            ],
            "text/plain": [
              "<IPython.core.display.Javascript object>"
            ]
          },
          "metadata": {}
        },
        {
          "output_type": "display_data",
          "data": {
            "application/javascript": [
              "window[\"2d61b0d0-a025-11ec-918f-0242ac1c0002\"] = google.colab.output.setActiveOutputArea(window[\"2d613e02-a025-11ec-918f-0242ac1c0002\"]);\n",
              "//# sourceURL=js_3f07cb4776"
            ],
            "text/plain": [
              "<IPython.core.display.Javascript object>"
            ]
          },
          "metadata": {}
        },
        {
          "output_type": "display_data",
          "data": {
            "application/javascript": [
              "window[\"2d978638-a025-11ec-918f-0242ac1c0002\"] = google.colab.output.setActiveOutputArea(window[\"2d60a4e2-a025-11ec-918f-0242ac1c0002\"]);\n",
              "//# sourceURL=js_80352e7395"
            ],
            "text/plain": [
              "<IPython.core.display.Javascript object>"
            ]
          },
          "metadata": {}
        },
        {
          "output_type": "display_data",
          "data": {
            "application/javascript": [
              "window[\"2d9cc076-a025-11ec-918f-0242ac1c0002\"] = google.colab.output.getActiveOutputArea();\n",
              "//# sourceURL=js_0af6f596fa"
            ],
            "text/plain": [
              "<IPython.core.display.Javascript object>"
            ]
          },
          "metadata": {}
        },
        {
          "output_type": "display_data",
          "data": {
            "application/javascript": [
              "window[\"2d9db51c-a025-11ec-918f-0242ac1c0002\"] = document.querySelector(\"#id102-0-0\");\n",
              "//# sourceURL=js_b7aadc2332"
            ],
            "text/plain": [
              "<IPython.core.display.Javascript object>"
            ]
          },
          "metadata": {}
        },
        {
          "output_type": "display_data",
          "data": {
            "application/javascript": [
              "window[\"2d9f0520-a025-11ec-918f-0242ac1c0002\"] = google.colab.output.setActiveOutputArea(window[\"2d9db51c-a025-11ec-918f-0242ac1c0002\"]);\n",
              "//# sourceURL=js_47c0eeb635"
            ],
            "text/plain": [
              "<IPython.core.display.Javascript object>"
            ]
          },
          "metadata": {}
        },
        {
          "output_type": "display_data",
          "data": {
            "application/javascript": [
              "window[\"2ddc254a-a025-11ec-918f-0242ac1c0002\"] = google.colab.output.setActiveOutputArea(window[\"2d9cc076-a025-11ec-918f-0242ac1c0002\"]);\n",
              "//# sourceURL=js_4032531898"
            ],
            "text/plain": [
              "<IPython.core.display.Javascript object>"
            ]
          },
          "metadata": {}
        },
        {
          "output_type": "display_data",
          "data": {
            "application/javascript": [
              "window[\"2de20528-a025-11ec-918f-0242ac1c0002\"] = google.colab.output.getActiveOutputArea();\n",
              "//# sourceURL=js_3c5559f940"
            ],
            "text/plain": [
              "<IPython.core.display.Javascript object>"
            ]
          },
          "metadata": {}
        },
        {
          "output_type": "display_data",
          "data": {
            "application/javascript": [
              "window[\"2de4a242-a025-11ec-918f-0242ac1c0002\"] = document.querySelector(\"#id102-0-0\");\n",
              "//# sourceURL=js_93feae3a34"
            ],
            "text/plain": [
              "<IPython.core.display.Javascript object>"
            ]
          },
          "metadata": {}
        },
        {
          "output_type": "display_data",
          "data": {
            "application/javascript": [
              "window[\"2de6df76-a025-11ec-918f-0242ac1c0002\"] = google.colab.output.setActiveOutputArea(window[\"2de4a242-a025-11ec-918f-0242ac1c0002\"]);\n",
              "//# sourceURL=js_e85c81fe76"
            ],
            "text/plain": [
              "<IPython.core.display.Javascript object>"
            ]
          },
          "metadata": {}
        },
        {
          "output_type": "display_data",
          "data": {
            "application/javascript": [
              "window[\"2e2081ea-a025-11ec-918f-0242ac1c0002\"] = google.colab.output.setActiveOutputArea(window[\"2de20528-a025-11ec-918f-0242ac1c0002\"]);\n",
              "//# sourceURL=js_63e5fcbc42"
            ],
            "text/plain": [
              "<IPython.core.display.Javascript object>"
            ]
          },
          "metadata": {}
        },
        {
          "output_type": "display_data",
          "data": {
            "application/javascript": [
              "window[\"2e25289e-a025-11ec-918f-0242ac1c0002\"] = google.colab.output.getActiveOutputArea();\n",
              "//# sourceURL=js_93ed52c9b1"
            ],
            "text/plain": [
              "<IPython.core.display.Javascript object>"
            ]
          },
          "metadata": {}
        },
        {
          "output_type": "display_data",
          "data": {
            "application/javascript": [
              "window[\"2e265700-a025-11ec-918f-0242ac1c0002\"] = document.querySelector(\"#id102-0-0\");\n",
              "//# sourceURL=js_2f32184373"
            ],
            "text/plain": [
              "<IPython.core.display.Javascript object>"
            ]
          },
          "metadata": {}
        },
        {
          "output_type": "display_data",
          "data": {
            "application/javascript": [
              "window[\"2e26d8e2-a025-11ec-918f-0242ac1c0002\"] = google.colab.output.setActiveOutputArea(window[\"2e265700-a025-11ec-918f-0242ac1c0002\"]);\n",
              "//# sourceURL=js_376ae9dd96"
            ],
            "text/plain": [
              "<IPython.core.display.Javascript object>"
            ]
          },
          "metadata": {}
        },
        {
          "output_type": "display_data",
          "data": {
            "application/javascript": [
              "window[\"2e592dba-a025-11ec-918f-0242ac1c0002\"] = google.colab.output.setActiveOutputArea(window[\"2e25289e-a025-11ec-918f-0242ac1c0002\"]);\n",
              "//# sourceURL=js_2587b352b1"
            ],
            "text/plain": [
              "<IPython.core.display.Javascript object>"
            ]
          },
          "metadata": {}
        },
        {
          "output_type": "display_data",
          "data": {
            "application/javascript": [
              "window[\"2e60c638-a025-11ec-918f-0242ac1c0002\"] = google.colab.output.getActiveOutputArea();\n",
              "//# sourceURL=js_8ea9c8bca5"
            ],
            "text/plain": [
              "<IPython.core.display.Javascript object>"
            ]
          },
          "metadata": {}
        },
        {
          "output_type": "display_data",
          "data": {
            "application/javascript": [
              "window[\"2e621bfa-a025-11ec-918f-0242ac1c0002\"] = document.querySelector(\"#id102-0-0\");\n",
              "//# sourceURL=js_da2f7a2d43"
            ],
            "text/plain": [
              "<IPython.core.display.Javascript object>"
            ]
          },
          "metadata": {}
        },
        {
          "output_type": "display_data",
          "data": {
            "application/javascript": [
              "window[\"2e63714e-a025-11ec-918f-0242ac1c0002\"] = google.colab.output.setActiveOutputArea(window[\"2e621bfa-a025-11ec-918f-0242ac1c0002\"]);\n",
              "//# sourceURL=js_1c81dac08e"
            ],
            "text/plain": [
              "<IPython.core.display.Javascript object>"
            ]
          },
          "metadata": {}
        },
        {
          "output_type": "display_data",
          "data": {
            "application/javascript": [
              "window[\"2e9fbadc-a025-11ec-918f-0242ac1c0002\"] = google.colab.output.setActiveOutputArea(window[\"2e60c638-a025-11ec-918f-0242ac1c0002\"]);\n",
              "//# sourceURL=js_ec391b00e4"
            ],
            "text/plain": [
              "<IPython.core.display.Javascript object>"
            ]
          },
          "metadata": {}
        },
        {
          "output_type": "display_data",
          "data": {
            "application/javascript": [
              "window[\"2ea4de54-a025-11ec-918f-0242ac1c0002\"] = google.colab.output.getActiveOutputArea();\n",
              "//# sourceURL=js_42fb232b16"
            ],
            "text/plain": [
              "<IPython.core.display.Javascript object>"
            ]
          },
          "metadata": {}
        },
        {
          "output_type": "display_data",
          "data": {
            "application/javascript": [
              "window[\"2ea57c06-a025-11ec-918f-0242ac1c0002\"] = document.querySelector(\"#id102-0-0\");\n",
              "//# sourceURL=js_41a71cf904"
            ],
            "text/plain": [
              "<IPython.core.display.Javascript object>"
            ]
          },
          "metadata": {}
        },
        {
          "output_type": "display_data",
          "data": {
            "application/javascript": [
              "window[\"2ea69ff0-a025-11ec-918f-0242ac1c0002\"] = google.colab.output.setActiveOutputArea(window[\"2ea57c06-a025-11ec-918f-0242ac1c0002\"]);\n",
              "//# sourceURL=js_e6625396fb"
            ],
            "text/plain": [
              "<IPython.core.display.Javascript object>"
            ]
          },
          "metadata": {}
        },
        {
          "output_type": "display_data",
          "data": {
            "application/javascript": [
              "window[\"2ee8c52e-a025-11ec-918f-0242ac1c0002\"] = google.colab.output.setActiveOutputArea(window[\"2ea4de54-a025-11ec-918f-0242ac1c0002\"]);\n",
              "//# sourceURL=js_3f1d72e782"
            ],
            "text/plain": [
              "<IPython.core.display.Javascript object>"
            ]
          },
          "metadata": {}
        },
        {
          "output_type": "display_data",
          "data": {
            "application/javascript": [
              "window[\"2eeb7094-a025-11ec-918f-0242ac1c0002\"] = google.colab.output.getActiveOutputArea();\n",
              "//# sourceURL=js_9548d9a8c2"
            ],
            "text/plain": [
              "<IPython.core.display.Javascript object>"
            ]
          },
          "metadata": {}
        },
        {
          "output_type": "display_data",
          "data": {
            "application/javascript": [
              "window[\"2eebd840-a025-11ec-918f-0242ac1c0002\"] = document.querySelector(\"#id102-0-0\");\n",
              "//# sourceURL=js_1d5bb81e71"
            ],
            "text/plain": [
              "<IPython.core.display.Javascript object>"
            ]
          },
          "metadata": {}
        },
        {
          "output_type": "display_data",
          "data": {
            "application/javascript": [
              "window[\"2eec557c-a025-11ec-918f-0242ac1c0002\"] = google.colab.output.setActiveOutputArea(window[\"2eebd840-a025-11ec-918f-0242ac1c0002\"]);\n",
              "//# sourceURL=js_c25955b74b"
            ],
            "text/plain": [
              "<IPython.core.display.Javascript object>"
            ]
          },
          "metadata": {}
        },
        {
          "output_type": "display_data",
          "data": {
            "application/javascript": [
              "window[\"2f263940-a025-11ec-918f-0242ac1c0002\"] = google.colab.output.setActiveOutputArea(window[\"2eeb7094-a025-11ec-918f-0242ac1c0002\"]);\n",
              "//# sourceURL=js_75df247250"
            ],
            "text/plain": [
              "<IPython.core.display.Javascript object>"
            ]
          },
          "metadata": {}
        },
        {
          "output_type": "display_data",
          "data": {
            "application/javascript": [
              "window[\"2f2982ee-a025-11ec-918f-0242ac1c0002\"] = google.colab.output.getActiveOutputArea();\n",
              "//# sourceURL=js_5a198502ca"
            ],
            "text/plain": [
              "<IPython.core.display.Javascript object>"
            ]
          },
          "metadata": {}
        },
        {
          "output_type": "display_data",
          "data": {
            "application/javascript": [
              "window[\"2f29de1a-a025-11ec-918f-0242ac1c0002\"] = document.querySelector(\"#id102-0-0\");\n",
              "//# sourceURL=js_279927d822"
            ],
            "text/plain": [
              "<IPython.core.display.Javascript object>"
            ]
          },
          "metadata": {}
        },
        {
          "output_type": "display_data",
          "data": {
            "application/javascript": [
              "window[\"2f2a366c-a025-11ec-918f-0242ac1c0002\"] = google.colab.output.setActiveOutputArea(window[\"2f29de1a-a025-11ec-918f-0242ac1c0002\"]);\n",
              "//# sourceURL=js_787f477d34"
            ],
            "text/plain": [
              "<IPython.core.display.Javascript object>"
            ]
          },
          "metadata": {}
        },
        {
          "output_type": "display_data",
          "data": {
            "application/javascript": [
              "window[\"2f565a94-a025-11ec-918f-0242ac1c0002\"] = google.colab.output.setActiveOutputArea(window[\"2f2982ee-a025-11ec-918f-0242ac1c0002\"]);\n",
              "//# sourceURL=js_fcee76978b"
            ],
            "text/plain": [
              "<IPython.core.display.Javascript object>"
            ]
          },
          "metadata": {}
        },
        {
          "output_type": "display_data",
          "data": {
            "application/javascript": [
              "window[\"2f5c6164-a025-11ec-918f-0242ac1c0002\"] = google.colab.output.getActiveOutputArea();\n",
              "//# sourceURL=js_4609aa54e4"
            ],
            "text/plain": [
              "<IPython.core.display.Javascript object>"
            ]
          },
          "metadata": {}
        },
        {
          "output_type": "display_data",
          "data": {
            "application/javascript": [
              "window[\"2f5cd874-a025-11ec-918f-0242ac1c0002\"] = document.querySelector(\"#id102-0-0\");\n",
              "//# sourceURL=js_460b245bcd"
            ],
            "text/plain": [
              "<IPython.core.display.Javascript object>"
            ]
          },
          "metadata": {}
        },
        {
          "output_type": "display_data",
          "data": {
            "application/javascript": [
              "window[\"2f5d962e-a025-11ec-918f-0242ac1c0002\"] = google.colab.output.setActiveOutputArea(window[\"2f5cd874-a025-11ec-918f-0242ac1c0002\"]);\n",
              "//# sourceURL=js_bc6b9fece5"
            ],
            "text/plain": [
              "<IPython.core.display.Javascript object>"
            ]
          },
          "metadata": {}
        },
        {
          "output_type": "display_data",
          "data": {
            "application/javascript": [
              "window[\"2faf552c-a025-11ec-918f-0242ac1c0002\"] = google.colab.output.setActiveOutputArea(window[\"2f5c6164-a025-11ec-918f-0242ac1c0002\"]);\n",
              "//# sourceURL=js_8eb2673270"
            ],
            "text/plain": [
              "<IPython.core.display.Javascript object>"
            ]
          },
          "metadata": {}
        },
        {
          "output_type": "display_data",
          "data": {
            "application/javascript": [
              "window[\"2fb49f8c-a025-11ec-918f-0242ac1c0002\"] = google.colab.output.getActiveOutputArea();\n",
              "//# sourceURL=js_0e83025678"
            ],
            "text/plain": [
              "<IPython.core.display.Javascript object>"
            ]
          },
          "metadata": {}
        },
        {
          "output_type": "display_data",
          "data": {
            "application/javascript": [
              "window[\"2fb532f8-a025-11ec-918f-0242ac1c0002\"] = document.querySelector(\"#id102-0-0\");\n",
              "//# sourceURL=js_ad8b935b4c"
            ],
            "text/plain": [
              "<IPython.core.display.Javascript object>"
            ]
          },
          "metadata": {}
        },
        {
          "output_type": "display_data",
          "data": {
            "application/javascript": [
              "window[\"2fb5fed6-a025-11ec-918f-0242ac1c0002\"] = google.colab.output.setActiveOutputArea(window[\"2fb532f8-a025-11ec-918f-0242ac1c0002\"]);\n",
              "//# sourceURL=js_adf1eeef79"
            ],
            "text/plain": [
              "<IPython.core.display.Javascript object>"
            ]
          },
          "metadata": {}
        },
        {
          "output_type": "display_data",
          "data": {
            "application/javascript": [
              "window[\"2fe8ed8c-a025-11ec-918f-0242ac1c0002\"] = google.colab.output.setActiveOutputArea(window[\"2fb49f8c-a025-11ec-918f-0242ac1c0002\"]);\n",
              "//# sourceURL=js_979b5112b1"
            ],
            "text/plain": [
              "<IPython.core.display.Javascript object>"
            ]
          },
          "metadata": {}
        },
        {
          "output_type": "display_data",
          "data": {
            "application/javascript": [
              "window[\"2fec8da2-a025-11ec-918f-0242ac1c0002\"] = google.colab.output.getActiveOutputArea();\n",
              "//# sourceURL=js_75445b31a2"
            ],
            "text/plain": [
              "<IPython.core.display.Javascript object>"
            ]
          },
          "metadata": {}
        },
        {
          "output_type": "display_data",
          "data": {
            "application/javascript": [
              "window[\"2fecdbae-a025-11ec-918f-0242ac1c0002\"] = document.querySelector(\"#id102-0-0\");\n",
              "//# sourceURL=js_e8416dd1da"
            ],
            "text/plain": [
              "<IPython.core.display.Javascript object>"
            ]
          },
          "metadata": {}
        },
        {
          "output_type": "display_data",
          "data": {
            "application/javascript": [
              "window[\"2fed4896-a025-11ec-918f-0242ac1c0002\"] = google.colab.output.setActiveOutputArea(window[\"2fecdbae-a025-11ec-918f-0242ac1c0002\"]);\n",
              "//# sourceURL=js_a128d2e150"
            ],
            "text/plain": [
              "<IPython.core.display.Javascript object>"
            ]
          },
          "metadata": {}
        },
        {
          "output_type": "display_data",
          "data": {
            "application/javascript": [
              "window[\"3026311a-a025-11ec-918f-0242ac1c0002\"] = google.colab.output.setActiveOutputArea(window[\"2fec8da2-a025-11ec-918f-0242ac1c0002\"]);\n",
              "//# sourceURL=js_195e23727c"
            ],
            "text/plain": [
              "<IPython.core.display.Javascript object>"
            ]
          },
          "metadata": {}
        },
        {
          "output_type": "display_data",
          "data": {
            "application/javascript": [
              "window[\"302a709a-a025-11ec-918f-0242ac1c0002\"] = google.colab.output.getActiveOutputArea();\n",
              "//# sourceURL=js_1dd7f355b2"
            ],
            "text/plain": [
              "<IPython.core.display.Javascript object>"
            ]
          },
          "metadata": {}
        },
        {
          "output_type": "display_data",
          "data": {
            "application/javascript": [
              "window[\"302b2ad0-a025-11ec-918f-0242ac1c0002\"] = document.querySelector(\"#id102-0-0\");\n",
              "//# sourceURL=js_37e49077aa"
            ],
            "text/plain": [
              "<IPython.core.display.Javascript object>"
            ]
          },
          "metadata": {}
        },
        {
          "output_type": "display_data",
          "data": {
            "application/javascript": [
              "window[\"302d63f4-a025-11ec-918f-0242ac1c0002\"] = google.colab.output.setActiveOutputArea(window[\"302b2ad0-a025-11ec-918f-0242ac1c0002\"]);\n",
              "//# sourceURL=js_fcf1e72754"
            ],
            "text/plain": [
              "<IPython.core.display.Javascript object>"
            ]
          },
          "metadata": {}
        },
        {
          "output_type": "display_data",
          "data": {
            "application/javascript": [
              "window[\"306777ec-a025-11ec-918f-0242ac1c0002\"] = google.colab.output.setActiveOutputArea(window[\"302a709a-a025-11ec-918f-0242ac1c0002\"]);\n",
              "//# sourceURL=js_d4e54ca641"
            ],
            "text/plain": [
              "<IPython.core.display.Javascript object>"
            ]
          },
          "metadata": {}
        },
        {
          "output_type": "display_data",
          "data": {
            "application/javascript": [
              "window[\"306cb5e0-a025-11ec-918f-0242ac1c0002\"] = google.colab.output.getActiveOutputArea();\n",
              "//# sourceURL=js_0302d4fb2b"
            ],
            "text/plain": [
              "<IPython.core.display.Javascript object>"
            ]
          },
          "metadata": {}
        },
        {
          "output_type": "display_data",
          "data": {
            "application/javascript": [
              "window[\"306da356-a025-11ec-918f-0242ac1c0002\"] = document.querySelector(\"#id102-0-0\");\n",
              "//# sourceURL=js_945f875f98"
            ],
            "text/plain": [
              "<IPython.core.display.Javascript object>"
            ]
          },
          "metadata": {}
        },
        {
          "output_type": "display_data",
          "data": {
            "application/javascript": [
              "window[\"306ee6ee-a025-11ec-918f-0242ac1c0002\"] = google.colab.output.setActiveOutputArea(window[\"306da356-a025-11ec-918f-0242ac1c0002\"]);\n",
              "//# sourceURL=js_5fe0af112b"
            ],
            "text/plain": [
              "<IPython.core.display.Javascript object>"
            ]
          },
          "metadata": {}
        },
        {
          "output_type": "display_data",
          "data": {
            "application/javascript": [
              "window[\"30a2cff4-a025-11ec-918f-0242ac1c0002\"] = google.colab.output.setActiveOutputArea(window[\"306cb5e0-a025-11ec-918f-0242ac1c0002\"]);\n",
              "//# sourceURL=js_bb007a44f6"
            ],
            "text/plain": [
              "<IPython.core.display.Javascript object>"
            ]
          },
          "metadata": {}
        },
        {
          "output_type": "display_data",
          "data": {
            "application/javascript": [
              "window[\"30aabcb4-a025-11ec-918f-0242ac1c0002\"] = google.colab.output.getActiveOutputArea();\n",
              "//# sourceURL=js_26deb05821"
            ],
            "text/plain": [
              "<IPython.core.display.Javascript object>"
            ]
          },
          "metadata": {}
        },
        {
          "output_type": "display_data",
          "data": {
            "application/javascript": [
              "window[\"30ad15cc-a025-11ec-918f-0242ac1c0002\"] = document.querySelector(\"#id102-0-0\");\n",
              "//# sourceURL=js_da627d125e"
            ],
            "text/plain": [
              "<IPython.core.display.Javascript object>"
            ]
          },
          "metadata": {}
        },
        {
          "output_type": "display_data",
          "data": {
            "application/javascript": [
              "window[\"30ae35e2-a025-11ec-918f-0242ac1c0002\"] = google.colab.output.setActiveOutputArea(window[\"30ad15cc-a025-11ec-918f-0242ac1c0002\"]);\n",
              "//# sourceURL=js_91f7b8a683"
            ],
            "text/plain": [
              "<IPython.core.display.Javascript object>"
            ]
          },
          "metadata": {}
        },
        {
          "output_type": "display_data",
          "data": {
            "application/javascript": [
              "window[\"30fa25ba-a025-11ec-918f-0242ac1c0002\"] = google.colab.output.setActiveOutputArea(window[\"30aabcb4-a025-11ec-918f-0242ac1c0002\"]);\n",
              "//# sourceURL=js_0ba30950de"
            ],
            "text/plain": [
              "<IPython.core.display.Javascript object>"
            ]
          },
          "metadata": {}
        },
        {
          "output_type": "display_data",
          "data": {
            "application/javascript": [
              "window[\"3100a066-a025-11ec-918f-0242ac1c0002\"] = google.colab.output.getActiveOutputArea();\n",
              "//# sourceURL=js_3fa2c74479"
            ],
            "text/plain": [
              "<IPython.core.display.Javascript object>"
            ]
          },
          "metadata": {}
        },
        {
          "output_type": "display_data",
          "data": {
            "application/javascript": [
              "window[\"310120c2-a025-11ec-918f-0242ac1c0002\"] = document.querySelector(\"#id102-0-0\");\n",
              "//# sourceURL=js_e70a508cbf"
            ],
            "text/plain": [
              "<IPython.core.display.Javascript object>"
            ]
          },
          "metadata": {}
        },
        {
          "output_type": "display_data",
          "data": {
            "application/javascript": [
              "window[\"310182c4-a025-11ec-918f-0242ac1c0002\"] = google.colab.output.setActiveOutputArea(window[\"310120c2-a025-11ec-918f-0242ac1c0002\"]);\n",
              "//# sourceURL=js_34a63f79f3"
            ],
            "text/plain": [
              "<IPython.core.display.Javascript object>"
            ]
          },
          "metadata": {}
        },
        {
          "output_type": "display_data",
          "data": {
            "application/javascript": [
              "window[\"31489b50-a025-11ec-918f-0242ac1c0002\"] = google.colab.output.setActiveOutputArea(window[\"3100a066-a025-11ec-918f-0242ac1c0002\"]);\n",
              "//# sourceURL=js_f7e5168846"
            ],
            "text/plain": [
              "<IPython.core.display.Javascript object>"
            ]
          },
          "metadata": {}
        },
        {
          "output_type": "display_data",
          "data": {
            "application/javascript": [
              "window[\"314e7872-a025-11ec-918f-0242ac1c0002\"] = google.colab.output.getActiveOutputArea();\n",
              "//# sourceURL=js_f7eafb7697"
            ],
            "text/plain": [
              "<IPython.core.display.Javascript object>"
            ]
          },
          "metadata": {}
        },
        {
          "output_type": "display_data",
          "data": {
            "application/javascript": [
              "window[\"314f8834-a025-11ec-918f-0242ac1c0002\"] = document.querySelector(\"#id102-0-0\");\n",
              "//# sourceURL=js_f7aff86848"
            ],
            "text/plain": [
              "<IPython.core.display.Javascript object>"
            ]
          },
          "metadata": {}
        },
        {
          "output_type": "display_data",
          "data": {
            "application/javascript": [
              "window[\"31508388-a025-11ec-918f-0242ac1c0002\"] = google.colab.output.setActiveOutputArea(window[\"314f8834-a025-11ec-918f-0242ac1c0002\"]);\n",
              "//# sourceURL=js_92b33bcfb1"
            ],
            "text/plain": [
              "<IPython.core.display.Javascript object>"
            ]
          },
          "metadata": {}
        },
        {
          "output_type": "display_data",
          "data": {
            "application/javascript": [
              "window[\"31841a04-a025-11ec-918f-0242ac1c0002\"] = google.colab.output.setActiveOutputArea(window[\"314e7872-a025-11ec-918f-0242ac1c0002\"]);\n",
              "//# sourceURL=js_3228941628"
            ],
            "text/plain": [
              "<IPython.core.display.Javascript object>"
            ]
          },
          "metadata": {}
        },
        {
          "output_type": "display_data",
          "data": {
            "application/javascript": [
              "window[\"318a23c2-a025-11ec-918f-0242ac1c0002\"] = google.colab.output.getActiveOutputArea();\n",
              "//# sourceURL=js_620f9acbb2"
            ],
            "text/plain": [
              "<IPython.core.display.Javascript object>"
            ]
          },
          "metadata": {}
        },
        {
          "output_type": "display_data",
          "data": {
            "application/javascript": [
              "window[\"318b00f8-a025-11ec-918f-0242ac1c0002\"] = document.querySelector(\"#id102-0-0\");\n",
              "//# sourceURL=js_44d5c16c91"
            ],
            "text/plain": [
              "<IPython.core.display.Javascript object>"
            ]
          },
          "metadata": {}
        },
        {
          "output_type": "display_data",
          "data": {
            "application/javascript": [
              "window[\"318bf6ca-a025-11ec-918f-0242ac1c0002\"] = google.colab.output.setActiveOutputArea(window[\"318b00f8-a025-11ec-918f-0242ac1c0002\"]);\n",
              "//# sourceURL=js_2e51c5621f"
            ],
            "text/plain": [
              "<IPython.core.display.Javascript object>"
            ]
          },
          "metadata": {}
        },
        {
          "output_type": "display_data",
          "data": {
            "application/javascript": [
              "window[\"31c2a6f2-a025-11ec-918f-0242ac1c0002\"] = google.colab.output.setActiveOutputArea(window[\"318a23c2-a025-11ec-918f-0242ac1c0002\"]);\n",
              "//# sourceURL=js_43eaaf972a"
            ],
            "text/plain": [
              "<IPython.core.display.Javascript object>"
            ]
          },
          "metadata": {}
        },
        {
          "output_type": "display_data",
          "data": {
            "application/javascript": [
              "window[\"31ca2fda-a025-11ec-918f-0242ac1c0002\"] = google.colab.output.getActiveOutputArea();\n",
              "//# sourceURL=js_47d8b34bd5"
            ],
            "text/plain": [
              "<IPython.core.display.Javascript object>"
            ]
          },
          "metadata": {}
        },
        {
          "output_type": "display_data",
          "data": {
            "application/javascript": [
              "window[\"31cb9136-a025-11ec-918f-0242ac1c0002\"] = document.querySelector(\"#id102-0-0\");\n",
              "//# sourceURL=js_05758e5e94"
            ],
            "text/plain": [
              "<IPython.core.display.Javascript object>"
            ]
          },
          "metadata": {}
        },
        {
          "output_type": "display_data",
          "data": {
            "application/javascript": [
              "window[\"31cd7186-a025-11ec-918f-0242ac1c0002\"] = google.colab.output.setActiveOutputArea(window[\"31cb9136-a025-11ec-918f-0242ac1c0002\"]);\n",
              "//# sourceURL=js_724fb139ea"
            ],
            "text/plain": [
              "<IPython.core.display.Javascript object>"
            ]
          },
          "metadata": {}
        },
        {
          "output_type": "display_data",
          "data": {
            "application/javascript": [
              "window[\"3211d0f6-a025-11ec-918f-0242ac1c0002\"] = google.colab.output.setActiveOutputArea(window[\"31ca2fda-a025-11ec-918f-0242ac1c0002\"]);\n",
              "//# sourceURL=js_fe094e506d"
            ],
            "text/plain": [
              "<IPython.core.display.Javascript object>"
            ]
          },
          "metadata": {}
        },
        {
          "output_type": "display_data",
          "data": {
            "application/javascript": [
              "window[\"321484f4-a025-11ec-918f-0242ac1c0002\"] = google.colab.output.getActiveOutputArea();\n",
              "//# sourceURL=js_9d06fdec23"
            ],
            "text/plain": [
              "<IPython.core.display.Javascript object>"
            ]
          },
          "metadata": {}
        },
        {
          "output_type": "display_data",
          "data": {
            "application/javascript": [
              "window[\"3214e552-a025-11ec-918f-0242ac1c0002\"] = document.querySelector(\"#id102-0-0\");\n",
              "//# sourceURL=js_ca164e6aa5"
            ],
            "text/plain": [
              "<IPython.core.display.Javascript object>"
            ]
          },
          "metadata": {}
        },
        {
          "output_type": "display_data",
          "data": {
            "application/javascript": [
              "window[\"32157328-a025-11ec-918f-0242ac1c0002\"] = google.colab.output.setActiveOutputArea(window[\"3214e552-a025-11ec-918f-0242ac1c0002\"]);\n",
              "//# sourceURL=js_ddc5d5ba9f"
            ],
            "text/plain": [
              "<IPython.core.display.Javascript object>"
            ]
          },
          "metadata": {}
        },
        {
          "output_type": "display_data",
          "data": {
            "application/javascript": [
              "window[\"32405b1a-a025-11ec-918f-0242ac1c0002\"] = google.colab.output.setActiveOutputArea(window[\"321484f4-a025-11ec-918f-0242ac1c0002\"]);\n",
              "//# sourceURL=js_cafd2f7a37"
            ],
            "text/plain": [
              "<IPython.core.display.Javascript object>"
            ]
          },
          "metadata": {}
        },
        {
          "output_type": "display_data",
          "data": {
            "application/javascript": [
              "window[\"32442dbc-a025-11ec-918f-0242ac1c0002\"] = google.colab.output.getActiveOutputArea();\n",
              "//# sourceURL=js_44e2a95126"
            ],
            "text/plain": [
              "<IPython.core.display.Javascript object>"
            ]
          },
          "metadata": {}
        },
        {
          "output_type": "display_data",
          "data": {
            "application/javascript": [
              "window[\"3244e73e-a025-11ec-918f-0242ac1c0002\"] = document.querySelector(\"#id102-0-0\");\n",
              "//# sourceURL=js_de8995a018"
            ],
            "text/plain": [
              "<IPython.core.display.Javascript object>"
            ]
          },
          "metadata": {}
        },
        {
          "output_type": "display_data",
          "data": {
            "application/javascript": [
              "window[\"32459f58-a025-11ec-918f-0242ac1c0002\"] = google.colab.output.setActiveOutputArea(window[\"3244e73e-a025-11ec-918f-0242ac1c0002\"]);\n",
              "//# sourceURL=js_bc0145e75d"
            ],
            "text/plain": [
              "<IPython.core.display.Javascript object>"
            ]
          },
          "metadata": {}
        },
        {
          "output_type": "display_data",
          "data": {
            "application/javascript": [
              "window[\"327bcf92-a025-11ec-918f-0242ac1c0002\"] = google.colab.output.setActiveOutputArea(window[\"32442dbc-a025-11ec-918f-0242ac1c0002\"]);\n",
              "//# sourceURL=js_83a3f2df1d"
            ],
            "text/plain": [
              "<IPython.core.display.Javascript object>"
            ]
          },
          "metadata": {}
        },
        {
          "output_type": "display_data",
          "data": {
            "application/javascript": [
              "window[\"328188ec-a025-11ec-918f-0242ac1c0002\"] = google.colab.output.getActiveOutputArea();\n",
              "//# sourceURL=js_ff88fbeb6b"
            ],
            "text/plain": [
              "<IPython.core.display.Javascript object>"
            ]
          },
          "metadata": {}
        },
        {
          "output_type": "display_data",
          "data": {
            "application/javascript": [
              "window[\"3282dd8c-a025-11ec-918f-0242ac1c0002\"] = document.querySelector(\"#id102-0-0\");\n",
              "//# sourceURL=js_c23adca565"
            ],
            "text/plain": [
              "<IPython.core.display.Javascript object>"
            ]
          },
          "metadata": {}
        },
        {
          "output_type": "display_data",
          "data": {
            "application/javascript": [
              "window[\"3283a9ba-a025-11ec-918f-0242ac1c0002\"] = google.colab.output.setActiveOutputArea(window[\"3282dd8c-a025-11ec-918f-0242ac1c0002\"]);\n",
              "//# sourceURL=js_9ffabc6f33"
            ],
            "text/plain": [
              "<IPython.core.display.Javascript object>"
            ]
          },
          "metadata": {}
        },
        {
          "output_type": "display_data",
          "data": {
            "application/javascript": [
              "window[\"32ca54f0-a025-11ec-918f-0242ac1c0002\"] = google.colab.output.setActiveOutputArea(window[\"328188ec-a025-11ec-918f-0242ac1c0002\"]);\n",
              "//# sourceURL=js_cc2d444d32"
            ],
            "text/plain": [
              "<IPython.core.display.Javascript object>"
            ]
          },
          "metadata": {}
        },
        {
          "output_type": "display_data",
          "data": {
            "application/javascript": [
              "window[\"32d1c24e-a025-11ec-918f-0242ac1c0002\"] = google.colab.output.getActiveOutputArea();\n",
              "//# sourceURL=js_d2e0dedb40"
            ],
            "text/plain": [
              "<IPython.core.display.Javascript object>"
            ]
          },
          "metadata": {}
        },
        {
          "output_type": "display_data",
          "data": {
            "application/javascript": [
              "window[\"32d30974-a025-11ec-918f-0242ac1c0002\"] = document.querySelector(\"#id102-0-0\");\n",
              "//# sourceURL=js_e5a48f29c5"
            ],
            "text/plain": [
              "<IPython.core.display.Javascript object>"
            ]
          },
          "metadata": {}
        },
        {
          "output_type": "display_data",
          "data": {
            "application/javascript": [
              "window[\"32d44dde-a025-11ec-918f-0242ac1c0002\"] = google.colab.output.setActiveOutputArea(window[\"32d30974-a025-11ec-918f-0242ac1c0002\"]);\n",
              "//# sourceURL=js_24c819f13d"
            ],
            "text/plain": [
              "<IPython.core.display.Javascript object>"
            ]
          },
          "metadata": {}
        },
        {
          "output_type": "display_data",
          "data": {
            "application/javascript": [
              "window[\"331ed26e-a025-11ec-918f-0242ac1c0002\"] = google.colab.output.setActiveOutputArea(window[\"32d1c24e-a025-11ec-918f-0242ac1c0002\"]);\n",
              "//# sourceURL=js_199a05664d"
            ],
            "text/plain": [
              "<IPython.core.display.Javascript object>"
            ]
          },
          "metadata": {}
        },
        {
          "output_type": "display_data",
          "data": {
            "application/javascript": [
              "window[\"3322ec0a-a025-11ec-918f-0242ac1c0002\"] = google.colab.output.getActiveOutputArea();\n",
              "//# sourceURL=js_ea35a1211e"
            ],
            "text/plain": [
              "<IPython.core.display.Javascript object>"
            ]
          },
          "metadata": {}
        },
        {
          "output_type": "display_data",
          "data": {
            "application/javascript": [
              "window[\"33239146-a025-11ec-918f-0242ac1c0002\"] = document.querySelector(\"#id102-0-0\");\n",
              "//# sourceURL=js_9dd3df55fd"
            ],
            "text/plain": [
              "<IPython.core.display.Javascript object>"
            ]
          },
          "metadata": {}
        },
        {
          "output_type": "display_data",
          "data": {
            "application/javascript": [
              "window[\"332636b2-a025-11ec-918f-0242ac1c0002\"] = google.colab.output.setActiveOutputArea(window[\"33239146-a025-11ec-918f-0242ac1c0002\"]);\n",
              "//# sourceURL=js_9ded321a16"
            ],
            "text/plain": [
              "<IPython.core.display.Javascript object>"
            ]
          },
          "metadata": {}
        },
        {
          "output_type": "display_data",
          "data": {
            "application/javascript": [
              "window[\"336f5ff4-a025-11ec-918f-0242ac1c0002\"] = google.colab.output.setActiveOutputArea(window[\"3322ec0a-a025-11ec-918f-0242ac1c0002\"]);\n",
              "//# sourceURL=js_0ecf6aecf5"
            ],
            "text/plain": [
              "<IPython.core.display.Javascript object>"
            ]
          },
          "metadata": {}
        },
        {
          "output_type": "display_data",
          "data": {
            "application/javascript": [
              "window[\"3376576e-a025-11ec-918f-0242ac1c0002\"] = google.colab.output.getActiveOutputArea();\n",
              "//# sourceURL=js_8c2a11a942"
            ],
            "text/plain": [
              "<IPython.core.display.Javascript object>"
            ]
          },
          "metadata": {}
        },
        {
          "output_type": "display_data",
          "data": {
            "application/javascript": [
              "window[\"3377a330-a025-11ec-918f-0242ac1c0002\"] = document.querySelector(\"#id102-0-0\");\n",
              "//# sourceURL=js_f69fb4a70c"
            ],
            "text/plain": [
              "<IPython.core.display.Javascript object>"
            ]
          },
          "metadata": {}
        },
        {
          "output_type": "display_data",
          "data": {
            "application/javascript": [
              "window[\"33796468-a025-11ec-918f-0242ac1c0002\"] = google.colab.output.setActiveOutputArea(window[\"3377a330-a025-11ec-918f-0242ac1c0002\"]);\n",
              "//# sourceURL=js_98c14fbc98"
            ],
            "text/plain": [
              "<IPython.core.display.Javascript object>"
            ]
          },
          "metadata": {}
        },
        {
          "output_type": "display_data",
          "data": {
            "application/javascript": [
              "window[\"33afe862-a025-11ec-918f-0242ac1c0002\"] = google.colab.output.setActiveOutputArea(window[\"3376576e-a025-11ec-918f-0242ac1c0002\"]);\n",
              "//# sourceURL=js_4df5bbb063"
            ],
            "text/plain": [
              "<IPython.core.display.Javascript object>"
            ]
          },
          "metadata": {}
        },
        {
          "output_type": "display_data",
          "data": {
            "application/javascript": [
              "window[\"33b5a680-a025-11ec-918f-0242ac1c0002\"] = google.colab.output.getActiveOutputArea();\n",
              "//# sourceURL=js_89cfb7307b"
            ],
            "text/plain": [
              "<IPython.core.display.Javascript object>"
            ]
          },
          "metadata": {}
        },
        {
          "output_type": "display_data",
          "data": {
            "application/javascript": [
              "window[\"33b6b41c-a025-11ec-918f-0242ac1c0002\"] = document.querySelector(\"#id102-0-0\");\n",
              "//# sourceURL=js_6a9b8913a8"
            ],
            "text/plain": [
              "<IPython.core.display.Javascript object>"
            ]
          },
          "metadata": {}
        },
        {
          "output_type": "display_data",
          "data": {
            "application/javascript": [
              "window[\"33b7ed96-a025-11ec-918f-0242ac1c0002\"] = google.colab.output.setActiveOutputArea(window[\"33b6b41c-a025-11ec-918f-0242ac1c0002\"]);\n",
              "//# sourceURL=js_ffcd620ba1"
            ],
            "text/plain": [
              "<IPython.core.display.Javascript object>"
            ]
          },
          "metadata": {}
        },
        {
          "output_type": "display_data",
          "data": {
            "application/javascript": [
              "window[\"341f7704-a025-11ec-918f-0242ac1c0002\"] = google.colab.output.setActiveOutputArea(window[\"33b5a680-a025-11ec-918f-0242ac1c0002\"]);\n",
              "//# sourceURL=js_e6a1451b5d"
            ],
            "text/plain": [
              "<IPython.core.display.Javascript object>"
            ]
          },
          "metadata": {}
        },
        {
          "output_type": "display_data",
          "data": {
            "application/javascript": [
              "window[\"3424c614-a025-11ec-918f-0242ac1c0002\"] = google.colab.output.getActiveOutputArea();\n",
              "//# sourceURL=js_5f9274d0b5"
            ],
            "text/plain": [
              "<IPython.core.display.Javascript object>"
            ]
          },
          "metadata": {}
        },
        {
          "output_type": "display_data",
          "data": {
            "application/javascript": [
              "window[\"3425b326-a025-11ec-918f-0242ac1c0002\"] = document.querySelector(\"#id102-0-0\");\n",
              "//# sourceURL=js_ad600aa26e"
            ],
            "text/plain": [
              "<IPython.core.display.Javascript object>"
            ]
          },
          "metadata": {}
        },
        {
          "output_type": "display_data",
          "data": {
            "application/javascript": [
              "window[\"34275596-a025-11ec-918f-0242ac1c0002\"] = google.colab.output.setActiveOutputArea(window[\"3425b326-a025-11ec-918f-0242ac1c0002\"]);\n",
              "//# sourceURL=js_7d74feb2cb"
            ],
            "text/plain": [
              "<IPython.core.display.Javascript object>"
            ]
          },
          "metadata": {}
        },
        {
          "output_type": "display_data",
          "data": {
            "application/javascript": [
              "window[\"345dab28-a025-11ec-918f-0242ac1c0002\"] = google.colab.output.setActiveOutputArea(window[\"3424c614-a025-11ec-918f-0242ac1c0002\"]);\n",
              "//# sourceURL=js_8047381756"
            ],
            "text/plain": [
              "<IPython.core.display.Javascript object>"
            ]
          },
          "metadata": {}
        },
        {
          "output_type": "display_data",
          "data": {
            "application/javascript": [
              "window[\"346070d8-a025-11ec-918f-0242ac1c0002\"] = google.colab.output.getActiveOutputArea();\n",
              "//# sourceURL=js_d4f180b1c4"
            ],
            "text/plain": [
              "<IPython.core.display.Javascript object>"
            ]
          },
          "metadata": {}
        },
        {
          "output_type": "display_data",
          "data": {
            "application/javascript": [
              "window[\"3461c7a8-a025-11ec-918f-0242ac1c0002\"] = document.querySelector(\"#id102-0-0\");\n",
              "//# sourceURL=js_65cdc214ef"
            ],
            "text/plain": [
              "<IPython.core.display.Javascript object>"
            ]
          },
          "metadata": {}
        },
        {
          "output_type": "display_data",
          "data": {
            "application/javascript": [
              "window[\"34624d04-a025-11ec-918f-0242ac1c0002\"] = google.colab.output.setActiveOutputArea(window[\"3461c7a8-a025-11ec-918f-0242ac1c0002\"]);\n",
              "//# sourceURL=js_be8ad46fc0"
            ],
            "text/plain": [
              "<IPython.core.display.Javascript object>"
            ]
          },
          "metadata": {}
        },
        {
          "output_type": "display_data",
          "data": {
            "application/javascript": [
              "window[\"34a3bd98-a025-11ec-918f-0242ac1c0002\"] = google.colab.output.setActiveOutputArea(window[\"346070d8-a025-11ec-918f-0242ac1c0002\"]);\n",
              "//# sourceURL=js_1a3ed0aa7c"
            ],
            "text/plain": [
              "<IPython.core.display.Javascript object>"
            ]
          },
          "metadata": {}
        },
        {
          "output_type": "display_data",
          "data": {
            "application/javascript": [
              "window[\"34a82ac2-a025-11ec-918f-0242ac1c0002\"] = google.colab.output.getActiveOutputArea();\n",
              "//# sourceURL=js_d4891bd5e4"
            ],
            "text/plain": [
              "<IPython.core.display.Javascript object>"
            ]
          },
          "metadata": {}
        },
        {
          "output_type": "display_data",
          "data": {
            "application/javascript": [
              "window[\"34a8af10-a025-11ec-918f-0242ac1c0002\"] = document.querySelector(\"#id102-0-0\");\n",
              "//# sourceURL=js_1eaae4f605"
            ],
            "text/plain": [
              "<IPython.core.display.Javascript object>"
            ]
          },
          "metadata": {}
        },
        {
          "output_type": "display_data",
          "data": {
            "application/javascript": [
              "window[\"34a90a82-a025-11ec-918f-0242ac1c0002\"] = google.colab.output.setActiveOutputArea(window[\"34a8af10-a025-11ec-918f-0242ac1c0002\"]);\n",
              "//# sourceURL=js_7d863b8deb"
            ],
            "text/plain": [
              "<IPython.core.display.Javascript object>"
            ]
          },
          "metadata": {}
        },
        {
          "output_type": "display_data",
          "data": {
            "application/javascript": [
              "window[\"34dfdde6-a025-11ec-918f-0242ac1c0002\"] = google.colab.output.setActiveOutputArea(window[\"34a82ac2-a025-11ec-918f-0242ac1c0002\"]);\n",
              "//# sourceURL=js_ad5ac003a2"
            ],
            "text/plain": [
              "<IPython.core.display.Javascript object>"
            ]
          },
          "metadata": {}
        },
        {
          "output_type": "display_data",
          "data": {
            "application/javascript": [
              "window[\"34e305ac-a025-11ec-918f-0242ac1c0002\"] = google.colab.output.getActiveOutputArea();\n",
              "//# sourceURL=js_5066ab61eb"
            ],
            "text/plain": [
              "<IPython.core.display.Javascript object>"
            ]
          },
          "metadata": {}
        },
        {
          "output_type": "display_data",
          "data": {
            "application/javascript": [
              "window[\"34e3fca0-a025-11ec-918f-0242ac1c0002\"] = document.querySelector(\"#id102-0-0\");\n",
              "//# sourceURL=js_9d9b842744"
            ],
            "text/plain": [
              "<IPython.core.display.Javascript object>"
            ]
          },
          "metadata": {}
        },
        {
          "output_type": "display_data",
          "data": {
            "application/javascript": [
              "window[\"34e4bd7a-a025-11ec-918f-0242ac1c0002\"] = google.colab.output.setActiveOutputArea(window[\"34e3fca0-a025-11ec-918f-0242ac1c0002\"]);\n",
              "//# sourceURL=js_fe3f192a99"
            ],
            "text/plain": [
              "<IPython.core.display.Javascript object>"
            ]
          },
          "metadata": {}
        },
        {
          "output_type": "display_data",
          "data": {
            "application/javascript": [
              "window[\"3514acb0-a025-11ec-918f-0242ac1c0002\"] = google.colab.output.setActiveOutputArea(window[\"34e305ac-a025-11ec-918f-0242ac1c0002\"]);\n",
              "//# sourceURL=js_d16e5d2db9"
            ],
            "text/plain": [
              "<IPython.core.display.Javascript object>"
            ]
          },
          "metadata": {}
        },
        {
          "output_type": "display_data",
          "data": {
            "application/javascript": [
              "window[\"351915b6-a025-11ec-918f-0242ac1c0002\"] = google.colab.output.getActiveOutputArea();\n",
              "//# sourceURL=js_ca5c4b5d47"
            ],
            "text/plain": [
              "<IPython.core.display.Javascript object>"
            ]
          },
          "metadata": {}
        },
        {
          "output_type": "display_data",
          "data": {
            "application/javascript": [
              "window[\"351a13b2-a025-11ec-918f-0242ac1c0002\"] = document.querySelector(\"#id102-0-0\");\n",
              "//# sourceURL=js_4a04a43c18"
            ],
            "text/plain": [
              "<IPython.core.display.Javascript object>"
            ]
          },
          "metadata": {}
        },
        {
          "output_type": "display_data",
          "data": {
            "application/javascript": [
              "window[\"351aa764-a025-11ec-918f-0242ac1c0002\"] = google.colab.output.setActiveOutputArea(window[\"351a13b2-a025-11ec-918f-0242ac1c0002\"]);\n",
              "//# sourceURL=js_3c16e259f3"
            ],
            "text/plain": [
              "<IPython.core.display.Javascript object>"
            ]
          },
          "metadata": {}
        },
        {
          "output_type": "display_data",
          "data": {
            "application/javascript": [
              "window[\"3552e020-a025-11ec-918f-0242ac1c0002\"] = google.colab.output.setActiveOutputArea(window[\"351915b6-a025-11ec-918f-0242ac1c0002\"]);\n",
              "//# sourceURL=js_c6c6110109"
            ],
            "text/plain": [
              "<IPython.core.display.Javascript object>"
            ]
          },
          "metadata": {}
        },
        {
          "output_type": "display_data",
          "data": {
            "application/javascript": [
              "window[\"35566092-a025-11ec-918f-0242ac1c0002\"] = google.colab.output.getActiveOutputArea();\n",
              "//# sourceURL=js_cd3efe58c1"
            ],
            "text/plain": [
              "<IPython.core.display.Javascript object>"
            ]
          },
          "metadata": {}
        },
        {
          "output_type": "display_data",
          "data": {
            "application/javascript": [
              "window[\"3556c65e-a025-11ec-918f-0242ac1c0002\"] = document.querySelector(\"#id102-0-0\");\n",
              "//# sourceURL=js_bd20bc5bb3"
            ],
            "text/plain": [
              "<IPython.core.display.Javascript object>"
            ]
          },
          "metadata": {}
        },
        {
          "output_type": "display_data",
          "data": {
            "application/javascript": [
              "window[\"355871fc-a025-11ec-918f-0242ac1c0002\"] = google.colab.output.setActiveOutputArea(window[\"3556c65e-a025-11ec-918f-0242ac1c0002\"]);\n",
              "//# sourceURL=js_3d4f7db207"
            ],
            "text/plain": [
              "<IPython.core.display.Javascript object>"
            ]
          },
          "metadata": {}
        },
        {
          "output_type": "display_data",
          "data": {
            "application/javascript": [
              "window[\"35836a1a-a025-11ec-918f-0242ac1c0002\"] = google.colab.output.setActiveOutputArea(window[\"35566092-a025-11ec-918f-0242ac1c0002\"]);\n",
              "//# sourceURL=js_602c5788df"
            ],
            "text/plain": [
              "<IPython.core.display.Javascript object>"
            ]
          },
          "metadata": {}
        },
        {
          "output_type": "display_data",
          "data": {
            "application/javascript": [
              "window[\"3585f096-a025-11ec-918f-0242ac1c0002\"] = google.colab.output.getActiveOutputArea();\n",
              "//# sourceURL=js_72d36f6079"
            ],
            "text/plain": [
              "<IPython.core.display.Javascript object>"
            ]
          },
          "metadata": {}
        },
        {
          "output_type": "display_data",
          "data": {
            "application/javascript": [
              "window[\"35865fd6-a025-11ec-918f-0242ac1c0002\"] = document.querySelector(\"#id102-0-0\");\n",
              "//# sourceURL=js_38067a0103"
            ],
            "text/plain": [
              "<IPython.core.display.Javascript object>"
            ]
          },
          "metadata": {}
        },
        {
          "output_type": "display_data",
          "data": {
            "application/javascript": [
              "window[\"3586b508-a025-11ec-918f-0242ac1c0002\"] = google.colab.output.setActiveOutputArea(window[\"35865fd6-a025-11ec-918f-0242ac1c0002\"]);\n",
              "//# sourceURL=js_ad1b4904f7"
            ],
            "text/plain": [
              "<IPython.core.display.Javascript object>"
            ]
          },
          "metadata": {}
        },
        {
          "output_type": "display_data",
          "data": {
            "application/javascript": [
              "window[\"35a3ad2a-a025-11ec-918f-0242ac1c0002\"] = google.colab.output.setActiveOutputArea(window[\"3585f096-a025-11ec-918f-0242ac1c0002\"]);\n",
              "//# sourceURL=js_41bd7979b8"
            ],
            "text/plain": [
              "<IPython.core.display.Javascript object>"
            ]
          },
          "metadata": {}
        },
        {
          "output_type": "display_data",
          "data": {
            "application/javascript": [
              "window[\"35a65b42-a025-11ec-918f-0242ac1c0002\"] = google.colab.output.getActiveOutputArea();\n",
              "//# sourceURL=js_512d2f07dd"
            ],
            "text/plain": [
              "<IPython.core.display.Javascript object>"
            ]
          },
          "metadata": {}
        },
        {
          "output_type": "display_data",
          "data": {
            "application/javascript": [
              "window[\"35a6b56a-a025-11ec-918f-0242ac1c0002\"] = document.querySelector(\"#id102-0-0\");\n",
              "//# sourceURL=js_67e6537bf5"
            ],
            "text/plain": [
              "<IPython.core.display.Javascript object>"
            ]
          },
          "metadata": {}
        },
        {
          "output_type": "display_data",
          "data": {
            "application/javascript": [
              "window[\"35a72fb8-a025-11ec-918f-0242ac1c0002\"] = google.colab.output.setActiveOutputArea(window[\"35a6b56a-a025-11ec-918f-0242ac1c0002\"]);\n",
              "//# sourceURL=js_f38a1894b2"
            ],
            "text/plain": [
              "<IPython.core.display.Javascript object>"
            ]
          },
          "metadata": {}
        },
        {
          "output_type": "display_data",
          "data": {
            "application/javascript": [
              "window[\"35c3f328-a025-11ec-918f-0242ac1c0002\"] = google.colab.output.setActiveOutputArea(window[\"35a65b42-a025-11ec-918f-0242ac1c0002\"]);\n",
              "//# sourceURL=js_779a5a5f2c"
            ],
            "text/plain": [
              "<IPython.core.display.Javascript object>"
            ]
          },
          "metadata": {}
        },
        {
          "output_type": "display_data",
          "data": {
            "application/javascript": [
              "window[\"35c62904-a025-11ec-918f-0242ac1c0002\"] = google.colab.output.getActiveOutputArea();\n",
              "//# sourceURL=js_351a489678"
            ],
            "text/plain": [
              "<IPython.core.display.Javascript object>"
            ]
          },
          "metadata": {}
        },
        {
          "output_type": "display_data",
          "data": {
            "application/javascript": [
              "window[\"35c68728-a025-11ec-918f-0242ac1c0002\"] = document.querySelector(\"#id102-0-0\");\n",
              "//# sourceURL=js_548fcf811f"
            ],
            "text/plain": [
              "<IPython.core.display.Javascript object>"
            ]
          },
          "metadata": {}
        },
        {
          "output_type": "display_data",
          "data": {
            "application/javascript": [
              "window[\"35c6e3a8-a025-11ec-918f-0242ac1c0002\"] = google.colab.output.setActiveOutputArea(window[\"35c68728-a025-11ec-918f-0242ac1c0002\"]);\n",
              "//# sourceURL=js_fec4ac1a26"
            ],
            "text/plain": [
              "<IPython.core.display.Javascript object>"
            ]
          },
          "metadata": {}
        },
        {
          "output_type": "display_data",
          "data": {
            "application/javascript": [
              "window[\"35e2c6ea-a025-11ec-918f-0242ac1c0002\"] = google.colab.output.setActiveOutputArea(window[\"35c62904-a025-11ec-918f-0242ac1c0002\"]);\n",
              "//# sourceURL=js_fe6776b522"
            ],
            "text/plain": [
              "<IPython.core.display.Javascript object>"
            ]
          },
          "metadata": {}
        },
        {
          "output_type": "display_data",
          "data": {
            "application/javascript": [
              "window[\"35e517a6-a025-11ec-918f-0242ac1c0002\"] = google.colab.output.getActiveOutputArea();\n",
              "//# sourceURL=js_3f3cca98e9"
            ],
            "text/plain": [
              "<IPython.core.display.Javascript object>"
            ]
          },
          "metadata": {}
        },
        {
          "output_type": "display_data",
          "data": {
            "application/javascript": [
              "window[\"35e577fa-a025-11ec-918f-0242ac1c0002\"] = document.querySelector(\"#id102-0-0\");\n",
              "//# sourceURL=js_51d053a9f7"
            ],
            "text/plain": [
              "<IPython.core.display.Javascript object>"
            ]
          },
          "metadata": {}
        },
        {
          "output_type": "display_data",
          "data": {
            "application/javascript": [
              "window[\"35e5d6dc-a025-11ec-918f-0242ac1c0002\"] = google.colab.output.setActiveOutputArea(window[\"35e577fa-a025-11ec-918f-0242ac1c0002\"]);\n",
              "//# sourceURL=js_b44599ffe8"
            ],
            "text/plain": [
              "<IPython.core.display.Javascript object>"
            ]
          },
          "metadata": {}
        },
        {
          "output_type": "display_data",
          "data": {
            "application/javascript": [
              "window[\"360123c4-a025-11ec-918f-0242ac1c0002\"] = google.colab.output.setActiveOutputArea(window[\"35e517a6-a025-11ec-918f-0242ac1c0002\"]);\n",
              "//# sourceURL=js_3c9712e018"
            ],
            "text/plain": [
              "<IPython.core.display.Javascript object>"
            ]
          },
          "metadata": {}
        },
        {
          "output_type": "display_data",
          "data": {
            "application/javascript": [
              "window[\"360387b8-a025-11ec-918f-0242ac1c0002\"] = google.colab.output.getActiveOutputArea();\n",
              "//# sourceURL=js_34c9e23dfc"
            ],
            "text/plain": [
              "<IPython.core.display.Javascript object>"
            ]
          },
          "metadata": {}
        },
        {
          "output_type": "display_data",
          "data": {
            "application/javascript": [
              "window[\"3603e67c-a025-11ec-918f-0242ac1c0002\"] = document.querySelector(\"#id102-0-0\");\n",
              "//# sourceURL=js_7f7c37ede6"
            ],
            "text/plain": [
              "<IPython.core.display.Javascript object>"
            ]
          },
          "metadata": {}
        },
        {
          "output_type": "display_data",
          "data": {
            "application/javascript": [
              "window[\"36044388-a025-11ec-918f-0242ac1c0002\"] = google.colab.output.setActiveOutputArea(window[\"3603e67c-a025-11ec-918f-0242ac1c0002\"]);\n",
              "//# sourceURL=js_df0c96c6ab"
            ],
            "text/plain": [
              "<IPython.core.display.Javascript object>"
            ]
          },
          "metadata": {}
        },
        {
          "output_type": "display_data",
          "data": {
            "application/javascript": [
              "window[\"361f791e-a025-11ec-918f-0242ac1c0002\"] = google.colab.output.setActiveOutputArea(window[\"360387b8-a025-11ec-918f-0242ac1c0002\"]);\n",
              "//# sourceURL=js_fe81237a22"
            ],
            "text/plain": [
              "<IPython.core.display.Javascript object>"
            ]
          },
          "metadata": {}
        },
        {
          "output_type": "display_data",
          "data": {
            "application/javascript": [
              "window[\"3621fcc0-a025-11ec-918f-0242ac1c0002\"] = google.colab.output.getActiveOutputArea();\n",
              "//# sourceURL=js_e8546a8091"
            ],
            "text/plain": [
              "<IPython.core.display.Javascript object>"
            ]
          },
          "metadata": {}
        },
        {
          "output_type": "display_data",
          "data": {
            "application/javascript": [
              "window[\"362266d8-a025-11ec-918f-0242ac1c0002\"] = document.querySelector(\"#id102-0-0\");\n",
              "//# sourceURL=js_188cd7d6a3"
            ],
            "text/plain": [
              "<IPython.core.display.Javascript object>"
            ]
          },
          "metadata": {}
        },
        {
          "output_type": "display_data",
          "data": {
            "application/javascript": [
              "window[\"3622d474-a025-11ec-918f-0242ac1c0002\"] = google.colab.output.setActiveOutputArea(window[\"362266d8-a025-11ec-918f-0242ac1c0002\"]);\n",
              "//# sourceURL=js_88ed406628"
            ],
            "text/plain": [
              "<IPython.core.display.Javascript object>"
            ]
          },
          "metadata": {}
        },
        {
          "output_type": "display_data",
          "data": {
            "application/javascript": [
              "window[\"363e8822-a025-11ec-918f-0242ac1c0002\"] = google.colab.output.setActiveOutputArea(window[\"3621fcc0-a025-11ec-918f-0242ac1c0002\"]);\n",
              "//# sourceURL=js_839ef155f6"
            ],
            "text/plain": [
              "<IPython.core.display.Javascript object>"
            ]
          },
          "metadata": {}
        },
        {
          "output_type": "display_data",
          "data": {
            "application/javascript": [
              "window[\"3640d852-a025-11ec-918f-0242ac1c0002\"] = google.colab.output.getActiveOutputArea();\n",
              "//# sourceURL=js_97683f0576"
            ],
            "text/plain": [
              "<IPython.core.display.Javascript object>"
            ]
          },
          "metadata": {}
        },
        {
          "output_type": "display_data",
          "data": {
            "application/javascript": [
              "window[\"36413680-a025-11ec-918f-0242ac1c0002\"] = document.querySelector(\"#id102-0-0\");\n",
              "//# sourceURL=js_a7faff65e1"
            ],
            "text/plain": [
              "<IPython.core.display.Javascript object>"
            ]
          },
          "metadata": {}
        },
        {
          "output_type": "display_data",
          "data": {
            "application/javascript": [
              "window[\"3641b506-a025-11ec-918f-0242ac1c0002\"] = google.colab.output.setActiveOutputArea(window[\"36413680-a025-11ec-918f-0242ac1c0002\"]);\n",
              "//# sourceURL=js_53d0804783"
            ],
            "text/plain": [
              "<IPython.core.display.Javascript object>"
            ]
          },
          "metadata": {}
        },
        {
          "output_type": "display_data",
          "data": {
            "application/javascript": [
              "window[\"365d550e-a025-11ec-918f-0242ac1c0002\"] = google.colab.output.setActiveOutputArea(window[\"3640d852-a025-11ec-918f-0242ac1c0002\"]);\n",
              "//# sourceURL=js_930229f224"
            ],
            "text/plain": [
              "<IPython.core.display.Javascript object>"
            ]
          },
          "metadata": {}
        },
        {
          "output_type": "display_data",
          "data": {
            "application/javascript": [
              "window[\"365f72bc-a025-11ec-918f-0242ac1c0002\"] = google.colab.output.getActiveOutputArea();\n",
              "//# sourceURL=js_744019276d"
            ],
            "text/plain": [
              "<IPython.core.display.Javascript object>"
            ]
          },
          "metadata": {}
        },
        {
          "output_type": "display_data",
          "data": {
            "application/javascript": [
              "window[\"365fd5a4-a025-11ec-918f-0242ac1c0002\"] = document.querySelector(\"#id102-0-0\");\n",
              "//# sourceURL=js_4b492e3d52"
            ],
            "text/plain": [
              "<IPython.core.display.Javascript object>"
            ]
          },
          "metadata": {}
        },
        {
          "output_type": "display_data",
          "data": {
            "application/javascript": [
              "window[\"3660363e-a025-11ec-918f-0242ac1c0002\"] = google.colab.output.setActiveOutputArea(window[\"365fd5a4-a025-11ec-918f-0242ac1c0002\"]);\n",
              "//# sourceURL=js_a089a82ef8"
            ],
            "text/plain": [
              "<IPython.core.display.Javascript object>"
            ]
          },
          "metadata": {}
        },
        {
          "output_type": "display_data",
          "data": {
            "application/javascript": [
              "window[\"367cb368-a025-11ec-918f-0242ac1c0002\"] = google.colab.output.setActiveOutputArea(window[\"365f72bc-a025-11ec-918f-0242ac1c0002\"]);\n",
              "//# sourceURL=js_ae218e8a63"
            ],
            "text/plain": [
              "<IPython.core.display.Javascript object>"
            ]
          },
          "metadata": {}
        },
        {
          "output_type": "display_data",
          "data": {
            "application/javascript": [
              "window[\"367ef330-a025-11ec-918f-0242ac1c0002\"] = google.colab.output.getActiveOutputArea();\n",
              "//# sourceURL=js_29aa421764"
            ],
            "text/plain": [
              "<IPython.core.display.Javascript object>"
            ]
          },
          "metadata": {}
        },
        {
          "output_type": "display_data",
          "data": {
            "application/javascript": [
              "window[\"367f53a2-a025-11ec-918f-0242ac1c0002\"] = document.querySelector(\"#id102-0-0\");\n",
              "//# sourceURL=js_7f09ca9fd9"
            ],
            "text/plain": [
              "<IPython.core.display.Javascript object>"
            ]
          },
          "metadata": {}
        },
        {
          "output_type": "display_data",
          "data": {
            "application/javascript": [
              "window[\"367fb464-a025-11ec-918f-0242ac1c0002\"] = google.colab.output.setActiveOutputArea(window[\"367f53a2-a025-11ec-918f-0242ac1c0002\"]);\n",
              "//# sourceURL=js_bb7b66d744"
            ],
            "text/plain": [
              "<IPython.core.display.Javascript object>"
            ]
          },
          "metadata": {}
        },
        {
          "output_type": "display_data",
          "data": {
            "application/javascript": [
              "window[\"369c33be-a025-11ec-918f-0242ac1c0002\"] = google.colab.output.setActiveOutputArea(window[\"367ef330-a025-11ec-918f-0242ac1c0002\"]);\n",
              "//# sourceURL=js_1edfbd7e48"
            ],
            "text/plain": [
              "<IPython.core.display.Javascript object>"
            ]
          },
          "metadata": {}
        },
        {
          "output_type": "display_data",
          "data": {
            "application/javascript": [
              "window[\"369e6c2e-a025-11ec-918f-0242ac1c0002\"] = google.colab.output.getActiveOutputArea();\n",
              "//# sourceURL=js_0fe0e30dba"
            ],
            "text/plain": [
              "<IPython.core.display.Javascript object>"
            ]
          },
          "metadata": {}
        },
        {
          "output_type": "display_data",
          "data": {
            "application/javascript": [
              "window[\"369eccbe-a025-11ec-918f-0242ac1c0002\"] = document.querySelector(\"#id102-0-0\");\n",
              "//# sourceURL=js_cf61b52feb"
            ],
            "text/plain": [
              "<IPython.core.display.Javascript object>"
            ]
          },
          "metadata": {}
        },
        {
          "output_type": "display_data",
          "data": {
            "application/javascript": [
              "window[\"369f2ea2-a025-11ec-918f-0242ac1c0002\"] = google.colab.output.setActiveOutputArea(window[\"369eccbe-a025-11ec-918f-0242ac1c0002\"]);\n",
              "//# sourceURL=js_be83d81e38"
            ],
            "text/plain": [
              "<IPython.core.display.Javascript object>"
            ]
          },
          "metadata": {}
        },
        {
          "output_type": "display_data",
          "data": {
            "application/javascript": [
              "window[\"36ccad64-a025-11ec-918f-0242ac1c0002\"] = google.colab.output.setActiveOutputArea(window[\"369e6c2e-a025-11ec-918f-0242ac1c0002\"]);\n",
              "//# sourceURL=js_662221c1d6"
            ],
            "text/plain": [
              "<IPython.core.display.Javascript object>"
            ]
          },
          "metadata": {}
        },
        {
          "output_type": "display_data",
          "data": {
            "application/javascript": [
              "window[\"36cec284-a025-11ec-918f-0242ac1c0002\"] = google.colab.output.getActiveOutputArea();\n",
              "//# sourceURL=js_18521c9604"
            ],
            "text/plain": [
              "<IPython.core.display.Javascript object>"
            ]
          },
          "metadata": {}
        },
        {
          "output_type": "display_data",
          "data": {
            "application/javascript": [
              "window[\"36cf222e-a025-11ec-918f-0242ac1c0002\"] = document.querySelector(\"#id102-0-0\");\n",
              "//# sourceURL=js_a003222dfd"
            ],
            "text/plain": [
              "<IPython.core.display.Javascript object>"
            ]
          },
          "metadata": {}
        },
        {
          "output_type": "display_data",
          "data": {
            "application/javascript": [
              "window[\"36cf8566-a025-11ec-918f-0242ac1c0002\"] = google.colab.output.setActiveOutputArea(window[\"36cf222e-a025-11ec-918f-0242ac1c0002\"]);\n",
              "//# sourceURL=js_a7de9c0fe1"
            ],
            "text/plain": [
              "<IPython.core.display.Javascript object>"
            ]
          },
          "metadata": {}
        },
        {
          "output_type": "display_data",
          "data": {
            "application/javascript": [
              "window[\"36eafb20-a025-11ec-918f-0242ac1c0002\"] = google.colab.output.setActiveOutputArea(window[\"36cec284-a025-11ec-918f-0242ac1c0002\"]);\n",
              "//# sourceURL=js_eebf148044"
            ],
            "text/plain": [
              "<IPython.core.display.Javascript object>"
            ]
          },
          "metadata": {}
        },
        {
          "output_type": "display_data",
          "data": {
            "application/javascript": [
              "window[\"36ed2bca-a025-11ec-918f-0242ac1c0002\"] = google.colab.output.getActiveOutputArea();\n",
              "//# sourceURL=js_e21d898e03"
            ],
            "text/plain": [
              "<IPython.core.display.Javascript object>"
            ]
          },
          "metadata": {}
        },
        {
          "output_type": "display_data",
          "data": {
            "application/javascript": [
              "window[\"36ed88f4-a025-11ec-918f-0242ac1c0002\"] = document.querySelector(\"#id102-0-0\");\n",
              "//# sourceURL=js_19ee92cbc8"
            ],
            "text/plain": [
              "<IPython.core.display.Javascript object>"
            ]
          },
          "metadata": {}
        },
        {
          "output_type": "display_data",
          "data": {
            "application/javascript": [
              "window[\"36ede34e-a025-11ec-918f-0242ac1c0002\"] = google.colab.output.setActiveOutputArea(window[\"36ed88f4-a025-11ec-918f-0242ac1c0002\"]);\n",
              "//# sourceURL=js_2c020ea6a7"
            ],
            "text/plain": [
              "<IPython.core.display.Javascript object>"
            ]
          },
          "metadata": {}
        },
        {
          "output_type": "display_data",
          "data": {
            "application/javascript": [
              "window[\"370ad76a-a025-11ec-918f-0242ac1c0002\"] = google.colab.output.setActiveOutputArea(window[\"36ed2bca-a025-11ec-918f-0242ac1c0002\"]);\n",
              "//# sourceURL=js_1aec3db9f9"
            ],
            "text/plain": [
              "<IPython.core.display.Javascript object>"
            ]
          },
          "metadata": {}
        },
        {
          "output_type": "display_data",
          "data": {
            "application/javascript": [
              "window[\"370d9888-a025-11ec-918f-0242ac1c0002\"] = google.colab.output.getActiveOutputArea();\n",
              "//# sourceURL=js_feaea6ae2e"
            ],
            "text/plain": [
              "<IPython.core.display.Javascript object>"
            ]
          },
          "metadata": {}
        },
        {
          "output_type": "display_data",
          "data": {
            "application/javascript": [
              "window[\"370e0ef8-a025-11ec-918f-0242ac1c0002\"] = document.querySelector(\"#id102-0-0\");\n",
              "//# sourceURL=js_d3a7caf32a"
            ],
            "text/plain": [
              "<IPython.core.display.Javascript object>"
            ]
          },
          "metadata": {}
        },
        {
          "output_type": "display_data",
          "data": {
            "application/javascript": [
              "window[\"370e7aa0-a025-11ec-918f-0242ac1c0002\"] = google.colab.output.setActiveOutputArea(window[\"370e0ef8-a025-11ec-918f-0242ac1c0002\"]);\n",
              "//# sourceURL=js_aa1e958148"
            ],
            "text/plain": [
              "<IPython.core.display.Javascript object>"
            ]
          },
          "metadata": {}
        },
        {
          "output_type": "display_data",
          "data": {
            "application/javascript": [
              "window[\"372a0806-a025-11ec-918f-0242ac1c0002\"] = google.colab.output.setActiveOutputArea(window[\"370d9888-a025-11ec-918f-0242ac1c0002\"]);\n",
              "//# sourceURL=js_d384ae6d71"
            ],
            "text/plain": [
              "<IPython.core.display.Javascript object>"
            ]
          },
          "metadata": {}
        },
        {
          "output_type": "display_data",
          "data": {
            "application/javascript": [
              "window[\"372d46e2-a025-11ec-918f-0242ac1c0002\"] = google.colab.output.getActiveOutputArea();\n",
              "//# sourceURL=js_f3564bccd6"
            ],
            "text/plain": [
              "<IPython.core.display.Javascript object>"
            ]
          },
          "metadata": {}
        },
        {
          "output_type": "display_data",
          "data": {
            "application/javascript": [
              "window[\"372db712-a025-11ec-918f-0242ac1c0002\"] = document.querySelector(\"#id102-0-0\");\n",
              "//# sourceURL=js_37b8ea5d1e"
            ],
            "text/plain": [
              "<IPython.core.display.Javascript object>"
            ]
          },
          "metadata": {}
        },
        {
          "output_type": "display_data",
          "data": {
            "application/javascript": [
              "window[\"372e2512-a025-11ec-918f-0242ac1c0002\"] = google.colab.output.setActiveOutputArea(window[\"372db712-a025-11ec-918f-0242ac1c0002\"]);\n",
              "//# sourceURL=js_b139a52d03"
            ],
            "text/plain": [
              "<IPython.core.display.Javascript object>"
            ]
          },
          "metadata": {}
        },
        {
          "output_type": "display_data",
          "data": {
            "application/javascript": [
              "window[\"37489d66-a025-11ec-918f-0242ac1c0002\"] = google.colab.output.setActiveOutputArea(window[\"372d46e2-a025-11ec-918f-0242ac1c0002\"]);\n",
              "//# sourceURL=js_227aa39547"
            ],
            "text/plain": [
              "<IPython.core.display.Javascript object>"
            ]
          },
          "metadata": {}
        },
        {
          "output_type": "display_data",
          "data": {
            "application/javascript": [
              "window[\"374b12f8-a025-11ec-918f-0242ac1c0002\"] = google.colab.output.getActiveOutputArea();\n",
              "//# sourceURL=js_31b2d56306"
            ],
            "text/plain": [
              "<IPython.core.display.Javascript object>"
            ]
          },
          "metadata": {}
        },
        {
          "output_type": "display_data",
          "data": {
            "application/javascript": [
              "window[\"374b86b6-a025-11ec-918f-0242ac1c0002\"] = document.querySelector(\"#id102-0-0\");\n",
              "//# sourceURL=js_3b7a5ac5fd"
            ],
            "text/plain": [
              "<IPython.core.display.Javascript object>"
            ]
          },
          "metadata": {}
        },
        {
          "output_type": "display_data",
          "data": {
            "application/javascript": [
              "window[\"374bedfe-a025-11ec-918f-0242ac1c0002\"] = google.colab.output.setActiveOutputArea(window[\"374b86b6-a025-11ec-918f-0242ac1c0002\"]);\n",
              "//# sourceURL=js_88792ba3f4"
            ],
            "text/plain": [
              "<IPython.core.display.Javascript object>"
            ]
          },
          "metadata": {}
        },
        {
          "output_type": "display_data",
          "data": {
            "application/javascript": [
              "window[\"3767df28-a025-11ec-918f-0242ac1c0002\"] = google.colab.output.setActiveOutputArea(window[\"374b12f8-a025-11ec-918f-0242ac1c0002\"]);\n",
              "//# sourceURL=js_21965d873e"
            ],
            "text/plain": [
              "<IPython.core.display.Javascript object>"
            ]
          },
          "metadata": {}
        },
        {
          "output_type": "display_data",
          "data": {
            "application/javascript": [
              "window[\"376a7dc8-a025-11ec-918f-0242ac1c0002\"] = google.colab.output.getActiveOutputArea();\n",
              "//# sourceURL=js_e81a0034eb"
            ],
            "text/plain": [
              "<IPython.core.display.Javascript object>"
            ]
          },
          "metadata": {}
        },
        {
          "output_type": "display_data",
          "data": {
            "application/javascript": [
              "window[\"376ae402-a025-11ec-918f-0242ac1c0002\"] = document.querySelector(\"#id102-0-0\");\n",
              "//# sourceURL=js_8b18a035dd"
            ],
            "text/plain": [
              "<IPython.core.display.Javascript object>"
            ]
          },
          "metadata": {}
        },
        {
          "output_type": "display_data",
          "data": {
            "application/javascript": [
              "window[\"376b4b86-a025-11ec-918f-0242ac1c0002\"] = google.colab.output.setActiveOutputArea(window[\"376ae402-a025-11ec-918f-0242ac1c0002\"]);\n",
              "//# sourceURL=js_5aeb549ff9"
            ],
            "text/plain": [
              "<IPython.core.display.Javascript object>"
            ]
          },
          "metadata": {}
        },
        {
          "output_type": "display_data",
          "data": {
            "application/javascript": [
              "window[\"378990e6-a025-11ec-918f-0242ac1c0002\"] = google.colab.output.setActiveOutputArea(window[\"376a7dc8-a025-11ec-918f-0242ac1c0002\"]);\n",
              "//# sourceURL=js_7f670efccb"
            ],
            "text/plain": [
              "<IPython.core.display.Javascript object>"
            ]
          },
          "metadata": {}
        },
        {
          "output_type": "display_data",
          "data": {
            "application/javascript": [
              "window[\"378becba-a025-11ec-918f-0242ac1c0002\"] = google.colab.output.getActiveOutputArea();\n",
              "//# sourceURL=js_74e8590e71"
            ],
            "text/plain": [
              "<IPython.core.display.Javascript object>"
            ]
          },
          "metadata": {}
        },
        {
          "output_type": "display_data",
          "data": {
            "application/javascript": [
              "window[\"378c4ebc-a025-11ec-918f-0242ac1c0002\"] = document.querySelector(\"#id102-0-0\");\n",
              "//# sourceURL=js_07c808a789"
            ],
            "text/plain": [
              "<IPython.core.display.Javascript object>"
            ]
          },
          "metadata": {}
        },
        {
          "output_type": "display_data",
          "data": {
            "application/javascript": [
              "window[\"378cd3c8-a025-11ec-918f-0242ac1c0002\"] = google.colab.output.setActiveOutputArea(window[\"378c4ebc-a025-11ec-918f-0242ac1c0002\"]);\n",
              "//# sourceURL=js_e73e3e0b46"
            ],
            "text/plain": [
              "<IPython.core.display.Javascript object>"
            ]
          },
          "metadata": {}
        },
        {
          "output_type": "display_data",
          "data": {
            "application/javascript": [
              "window[\"37a8edd8-a025-11ec-918f-0242ac1c0002\"] = google.colab.output.setActiveOutputArea(window[\"378becba-a025-11ec-918f-0242ac1c0002\"]);\n",
              "//# sourceURL=js_9c3e852332"
            ],
            "text/plain": [
              "<IPython.core.display.Javascript object>"
            ]
          },
          "metadata": {}
        },
        {
          "output_type": "display_data",
          "data": {
            "application/javascript": [
              "window[\"37ab5c12-a025-11ec-918f-0242ac1c0002\"] = google.colab.output.getActiveOutputArea();\n",
              "//# sourceURL=js_c61a5de86e"
            ],
            "text/plain": [
              "<IPython.core.display.Javascript object>"
            ]
          },
          "metadata": {}
        },
        {
          "output_type": "display_data",
          "data": {
            "application/javascript": [
              "window[\"37abbab8-a025-11ec-918f-0242ac1c0002\"] = document.querySelector(\"#id102-0-0\");\n",
              "//# sourceURL=js_169faabd79"
            ],
            "text/plain": [
              "<IPython.core.display.Javascript object>"
            ]
          },
          "metadata": {}
        },
        {
          "output_type": "display_data",
          "data": {
            "application/javascript": [
              "window[\"37ac1c2e-a025-11ec-918f-0242ac1c0002\"] = google.colab.output.setActiveOutputArea(window[\"37abbab8-a025-11ec-918f-0242ac1c0002\"]);\n",
              "//# sourceURL=js_fa2e8c59fd"
            ],
            "text/plain": [
              "<IPython.core.display.Javascript object>"
            ]
          },
          "metadata": {}
        },
        {
          "output_type": "display_data",
          "data": {
            "application/javascript": [
              "window[\"37ca2fde-a025-11ec-918f-0242ac1c0002\"] = google.colab.output.setActiveOutputArea(window[\"37ab5c12-a025-11ec-918f-0242ac1c0002\"]);\n",
              "//# sourceURL=js_de3a34b401"
            ],
            "text/plain": [
              "<IPython.core.display.Javascript object>"
            ]
          },
          "metadata": {}
        },
        {
          "output_type": "display_data",
          "data": {
            "application/javascript": [
              "window[\"37cc9fbc-a025-11ec-918f-0242ac1c0002\"] = google.colab.output.getActiveOutputArea();\n",
              "//# sourceURL=js_827af77cfa"
            ],
            "text/plain": [
              "<IPython.core.display.Javascript object>"
            ]
          },
          "metadata": {}
        },
        {
          "output_type": "display_data",
          "data": {
            "application/javascript": [
              "window[\"37cd15c8-a025-11ec-918f-0242ac1c0002\"] = document.querySelector(\"#id102-0-0\");\n",
              "//# sourceURL=js_436f2b4a1f"
            ],
            "text/plain": [
              "<IPython.core.display.Javascript object>"
            ]
          },
          "metadata": {}
        },
        {
          "output_type": "display_data",
          "data": {
            "application/javascript": [
              "window[\"37cd7d4c-a025-11ec-918f-0242ac1c0002\"] = google.colab.output.setActiveOutputArea(window[\"37cd15c8-a025-11ec-918f-0242ac1c0002\"]);\n",
              "//# sourceURL=js_6ecf020b8f"
            ],
            "text/plain": [
              "<IPython.core.display.Javascript object>"
            ]
          },
          "metadata": {}
        },
        {
          "output_type": "display_data",
          "data": {
            "application/javascript": [
              "window[\"37e968ea-a025-11ec-918f-0242ac1c0002\"] = google.colab.output.setActiveOutputArea(window[\"37cc9fbc-a025-11ec-918f-0242ac1c0002\"]);\n",
              "//# sourceURL=js_1904060845"
            ],
            "text/plain": [
              "<IPython.core.display.Javascript object>"
            ]
          },
          "metadata": {}
        },
        {
          "output_type": "display_data",
          "data": {
            "application/javascript": [
              "window[\"37ebb910-a025-11ec-918f-0242ac1c0002\"] = google.colab.output.getActiveOutputArea();\n",
              "//# sourceURL=js_493485b738"
            ],
            "text/plain": [
              "<IPython.core.display.Javascript object>"
            ]
          },
          "metadata": {}
        },
        {
          "output_type": "display_data",
          "data": {
            "application/javascript": [
              "window[\"37ec2332-a025-11ec-918f-0242ac1c0002\"] = document.querySelector(\"#id102-0-0\");\n",
              "//# sourceURL=js_7ef53f9caa"
            ],
            "text/plain": [
              "<IPython.core.display.Javascript object>"
            ]
          },
          "metadata": {}
        },
        {
          "output_type": "display_data",
          "data": {
            "application/javascript": [
              "window[\"37ec86a6-a025-11ec-918f-0242ac1c0002\"] = google.colab.output.setActiveOutputArea(window[\"37ec2332-a025-11ec-918f-0242ac1c0002\"]);\n",
              "//# sourceURL=js_5179ba397c"
            ],
            "text/plain": [
              "<IPython.core.display.Javascript object>"
            ]
          },
          "metadata": {}
        },
        {
          "output_type": "display_data",
          "data": {
            "application/javascript": [
              "window[\"380889a0-a025-11ec-918f-0242ac1c0002\"] = google.colab.output.setActiveOutputArea(window[\"37ebb910-a025-11ec-918f-0242ac1c0002\"]);\n",
              "//# sourceURL=js_18b34b49db"
            ],
            "text/plain": [
              "<IPython.core.display.Javascript object>"
            ]
          },
          "metadata": {}
        },
        {
          "output_type": "display_data",
          "data": {
            "application/javascript": [
              "window[\"380adaca-a025-11ec-918f-0242ac1c0002\"] = google.colab.output.getActiveOutputArea();\n",
              "//# sourceURL=js_c6ebf7e5f7"
            ],
            "text/plain": [
              "<IPython.core.display.Javascript object>"
            ]
          },
          "metadata": {}
        },
        {
          "output_type": "display_data",
          "data": {
            "application/javascript": [
              "window[\"380b460e-a025-11ec-918f-0242ac1c0002\"] = document.querySelector(\"#id102-0-0\");\n",
              "//# sourceURL=js_5cbaf1ef3c"
            ],
            "text/plain": [
              "<IPython.core.display.Javascript object>"
            ]
          },
          "metadata": {}
        },
        {
          "output_type": "display_data",
          "data": {
            "application/javascript": [
              "window[\"380bba1c-a025-11ec-918f-0242ac1c0002\"] = google.colab.output.setActiveOutputArea(window[\"380b460e-a025-11ec-918f-0242ac1c0002\"]);\n",
              "//# sourceURL=js_b98f35060d"
            ],
            "text/plain": [
              "<IPython.core.display.Javascript object>"
            ]
          },
          "metadata": {}
        },
        {
          "output_type": "display_data",
          "data": {
            "application/javascript": [
              "window[\"382ac3f8-a025-11ec-918f-0242ac1c0002\"] = google.colab.output.setActiveOutputArea(window[\"380adaca-a025-11ec-918f-0242ac1c0002\"]);\n",
              "//# sourceURL=js_347c53704a"
            ],
            "text/plain": [
              "<IPython.core.display.Javascript object>"
            ]
          },
          "metadata": {}
        },
        {
          "output_type": "display_data",
          "data": {
            "application/javascript": [
              "window[\"382d1f22-a025-11ec-918f-0242ac1c0002\"] = google.colab.output.getActiveOutputArea();\n",
              "//# sourceURL=js_d04ca84593"
            ],
            "text/plain": [
              "<IPython.core.display.Javascript object>"
            ]
          },
          "metadata": {}
        },
        {
          "output_type": "display_data",
          "data": {
            "application/javascript": [
              "window[\"382d8958-a025-11ec-918f-0242ac1c0002\"] = document.querySelector(\"#id102-0-0\");\n",
              "//# sourceURL=js_bbd180a045"
            ],
            "text/plain": [
              "<IPython.core.display.Javascript object>"
            ]
          },
          "metadata": {}
        },
        {
          "output_type": "display_data",
          "data": {
            "application/javascript": [
              "window[\"382decc2-a025-11ec-918f-0242ac1c0002\"] = google.colab.output.setActiveOutputArea(window[\"382d8958-a025-11ec-918f-0242ac1c0002\"]);\n",
              "//# sourceURL=js_38c0cd37e4"
            ],
            "text/plain": [
              "<IPython.core.display.Javascript object>"
            ]
          },
          "metadata": {}
        },
        {
          "output_type": "display_data",
          "data": {
            "application/javascript": [
              "window[\"384d4cc0-a025-11ec-918f-0242ac1c0002\"] = google.colab.output.setActiveOutputArea(window[\"382d1f22-a025-11ec-918f-0242ac1c0002\"]);\n",
              "//# sourceURL=js_1bf538edb7"
            ],
            "text/plain": [
              "<IPython.core.display.Javascript object>"
            ]
          },
          "metadata": {}
        },
        {
          "output_type": "display_data",
          "data": {
            "application/javascript": [
              "window[\"384fca18-a025-11ec-918f-0242ac1c0002\"] = google.colab.output.getActiveOutputArea();\n",
              "//# sourceURL=js_7f5e2511d1"
            ],
            "text/plain": [
              "<IPython.core.display.Javascript object>"
            ]
          },
          "metadata": {}
        },
        {
          "output_type": "display_data",
          "data": {
            "application/javascript": [
              "window[\"385032fa-a025-11ec-918f-0242ac1c0002\"] = document.querySelector(\"#id102-0-0\");\n",
              "//# sourceURL=js_2ed34b81f9"
            ],
            "text/plain": [
              "<IPython.core.display.Javascript object>"
            ]
          },
          "metadata": {}
        },
        {
          "output_type": "display_data",
          "data": {
            "application/javascript": [
              "window[\"3850a744-a025-11ec-918f-0242ac1c0002\"] = google.colab.output.setActiveOutputArea(window[\"385032fa-a025-11ec-918f-0242ac1c0002\"]);\n",
              "//# sourceURL=js_63f41efa33"
            ],
            "text/plain": [
              "<IPython.core.display.Javascript object>"
            ]
          },
          "metadata": {}
        },
        {
          "output_type": "display_data",
          "data": {
            "application/javascript": [
              "window[\"386ff37e-a025-11ec-918f-0242ac1c0002\"] = google.colab.output.setActiveOutputArea(window[\"384fca18-a025-11ec-918f-0242ac1c0002\"]);\n",
              "//# sourceURL=js_7bb50a79a6"
            ],
            "text/plain": [
              "<IPython.core.display.Javascript object>"
            ]
          },
          "metadata": {}
        },
        {
          "output_type": "display_data",
          "data": {
            "application/javascript": [
              "window[\"38730028-a025-11ec-918f-0242ac1c0002\"] = google.colab.output.getActiveOutputArea();\n",
              "//# sourceURL=js_1a5eaa4c04"
            ],
            "text/plain": [
              "<IPython.core.display.Javascript object>"
            ]
          },
          "metadata": {}
        },
        {
          "output_type": "display_data",
          "data": {
            "application/javascript": [
              "window[\"3873a1e0-a025-11ec-918f-0242ac1c0002\"] = document.querySelector(\"#id102-0-0\");\n",
              "//# sourceURL=js_0f3f0d9a83"
            ],
            "text/plain": [
              "<IPython.core.display.Javascript object>"
            ]
          },
          "metadata": {}
        },
        {
          "output_type": "display_data",
          "data": {
            "application/javascript": [
              "window[\"38743cb8-a025-11ec-918f-0242ac1c0002\"] = google.colab.output.setActiveOutputArea(window[\"3873a1e0-a025-11ec-918f-0242ac1c0002\"]);\n",
              "//# sourceURL=js_f46e9f4f5b"
            ],
            "text/plain": [
              "<IPython.core.display.Javascript object>"
            ]
          },
          "metadata": {}
        },
        {
          "output_type": "display_data",
          "data": {
            "application/javascript": [
              "window[\"38906848-a025-11ec-918f-0242ac1c0002\"] = google.colab.output.setActiveOutputArea(window[\"38730028-a025-11ec-918f-0242ac1c0002\"]);\n",
              "//# sourceURL=js_8affef0ed1"
            ],
            "text/plain": [
              "<IPython.core.display.Javascript object>"
            ]
          },
          "metadata": {}
        },
        {
          "output_type": "display_data",
          "data": {
            "application/javascript": [
              "window[\"389324a2-a025-11ec-918f-0242ac1c0002\"] = google.colab.output.getActiveOutputArea();\n",
              "//# sourceURL=js_6891ed7acc"
            ],
            "text/plain": [
              "<IPython.core.display.Javascript object>"
            ]
          },
          "metadata": {}
        },
        {
          "output_type": "display_data",
          "data": {
            "application/javascript": [
              "window[\"3893a936-a025-11ec-918f-0242ac1c0002\"] = document.querySelector(\"#id102-0-0\");\n",
              "//# sourceURL=js_a404cb21b6"
            ],
            "text/plain": [
              "<IPython.core.display.Javascript object>"
            ]
          },
          "metadata": {}
        },
        {
          "output_type": "display_data",
          "data": {
            "application/javascript": [
              "window[\"38941f7e-a025-11ec-918f-0242ac1c0002\"] = google.colab.output.setActiveOutputArea(window[\"3893a936-a025-11ec-918f-0242ac1c0002\"]);\n",
              "//# sourceURL=js_a6855bfd0b"
            ],
            "text/plain": [
              "<IPython.core.display.Javascript object>"
            ]
          },
          "metadata": {}
        },
        {
          "output_type": "display_data",
          "data": {
            "application/javascript": [
              "window[\"38b00964-a025-11ec-918f-0242ac1c0002\"] = google.colab.output.setActiveOutputArea(window[\"389324a2-a025-11ec-918f-0242ac1c0002\"]);\n",
              "//# sourceURL=js_c90410da8c"
            ],
            "text/plain": [
              "<IPython.core.display.Javascript object>"
            ]
          },
          "metadata": {}
        },
        {
          "output_type": "display_data",
          "data": {
            "application/javascript": [
              "window[\"38b2f91c-a025-11ec-918f-0242ac1c0002\"] = google.colab.output.getActiveOutputArea();\n",
              "//# sourceURL=js_3e110f1b50"
            ],
            "text/plain": [
              "<IPython.core.display.Javascript object>"
            ]
          },
          "metadata": {}
        },
        {
          "output_type": "display_data",
          "data": {
            "application/javascript": [
              "window[\"38b36ec4-a025-11ec-918f-0242ac1c0002\"] = document.querySelector(\"#id102-0-0\");\n",
              "//# sourceURL=js_a7b7d8e76e"
            ],
            "text/plain": [
              "<IPython.core.display.Javascript object>"
            ]
          },
          "metadata": {}
        },
        {
          "output_type": "display_data",
          "data": {
            "application/javascript": [
              "window[\"38b3cdc4-a025-11ec-918f-0242ac1c0002\"] = google.colab.output.setActiveOutputArea(window[\"38b36ec4-a025-11ec-918f-0242ac1c0002\"]);\n",
              "//# sourceURL=js_969f1b9799"
            ],
            "text/plain": [
              "<IPython.core.display.Javascript object>"
            ]
          },
          "metadata": {}
        },
        {
          "output_type": "display_data",
          "data": {
            "application/javascript": [
              "window[\"38e50c90-a025-11ec-918f-0242ac1c0002\"] = google.colab.output.setActiveOutputArea(window[\"38b2f91c-a025-11ec-918f-0242ac1c0002\"]);\n",
              "//# sourceURL=js_84d1ef3ba8"
            ],
            "text/plain": [
              "<IPython.core.display.Javascript object>"
            ]
          },
          "metadata": {}
        },
        {
          "output_type": "display_data",
          "data": {
            "application/javascript": [
              "window[\"38e89658-a025-11ec-918f-0242ac1c0002\"] = google.colab.output.getActiveOutputArea();\n",
              "//# sourceURL=js_1d7c6b8466"
            ],
            "text/plain": [
              "<IPython.core.display.Javascript object>"
            ]
          },
          "metadata": {}
        },
        {
          "output_type": "display_data",
          "data": {
            "application/javascript": [
              "window[\"38e8fc6a-a025-11ec-918f-0242ac1c0002\"] = document.querySelector(\"#id102-0-0\");\n",
              "//# sourceURL=js_8c482cb2ae"
            ],
            "text/plain": [
              "<IPython.core.display.Javascript object>"
            ]
          },
          "metadata": {}
        },
        {
          "output_type": "display_data",
          "data": {
            "application/javascript": [
              "window[\"38e94968-a025-11ec-918f-0242ac1c0002\"] = google.colab.output.setActiveOutputArea(window[\"38e8fc6a-a025-11ec-918f-0242ac1c0002\"]);\n",
              "//# sourceURL=js_63fd6462c6"
            ],
            "text/plain": [
              "<IPython.core.display.Javascript object>"
            ]
          },
          "metadata": {}
        },
        {
          "output_type": "display_data",
          "data": {
            "application/javascript": [
              "window[\"3906b75a-a025-11ec-918f-0242ac1c0002\"] = google.colab.output.setActiveOutputArea(window[\"38e89658-a025-11ec-918f-0242ac1c0002\"]);\n",
              "//# sourceURL=js_ec17adc73b"
            ],
            "text/plain": [
              "<IPython.core.display.Javascript object>"
            ]
          },
          "metadata": {}
        },
        {
          "output_type": "display_data",
          "data": {
            "application/javascript": [
              "window[\"3908f588-a025-11ec-918f-0242ac1c0002\"] = google.colab.output.getActiveOutputArea();\n",
              "//# sourceURL=js_bcf7b4fa8e"
            ],
            "text/plain": [
              "<IPython.core.display.Javascript object>"
            ]
          },
          "metadata": {}
        },
        {
          "output_type": "display_data",
          "data": {
            "application/javascript": [
              "window[\"390967f2-a025-11ec-918f-0242ac1c0002\"] = document.querySelector(\"#id102-0-0\");\n",
              "//# sourceURL=js_f24e944f23"
            ],
            "text/plain": [
              "<IPython.core.display.Javascript object>"
            ]
          },
          "metadata": {}
        },
        {
          "output_type": "display_data",
          "data": {
            "application/javascript": [
              "window[\"3909da5c-a025-11ec-918f-0242ac1c0002\"] = google.colab.output.setActiveOutputArea(window[\"390967f2-a025-11ec-918f-0242ac1c0002\"]);\n",
              "//# sourceURL=js_247e374c80"
            ],
            "text/plain": [
              "<IPython.core.display.Javascript object>"
            ]
          },
          "metadata": {}
        },
        {
          "output_type": "display_data",
          "data": {
            "application/javascript": [
              "window[\"392774ea-a025-11ec-918f-0242ac1c0002\"] = google.colab.output.setActiveOutputArea(window[\"3908f588-a025-11ec-918f-0242ac1c0002\"]);\n",
              "//# sourceURL=js_e43bf3fec8"
            ],
            "text/plain": [
              "<IPython.core.display.Javascript object>"
            ]
          },
          "metadata": {}
        },
        {
          "output_type": "display_data",
          "data": {
            "application/javascript": [
              "window[\"392bb6e0-a025-11ec-918f-0242ac1c0002\"] = google.colab.output.getActiveOutputArea();\n",
              "//# sourceURL=js_ba3e1ad51a"
            ],
            "text/plain": [
              "<IPython.core.display.Javascript object>"
            ]
          },
          "metadata": {}
        },
        {
          "output_type": "display_data",
          "data": {
            "application/javascript": [
              "window[\"392c31ba-a025-11ec-918f-0242ac1c0002\"] = document.querySelector(\"#id102-0-0\");\n",
              "//# sourceURL=js_2407fa3b09"
            ],
            "text/plain": [
              "<IPython.core.display.Javascript object>"
            ]
          },
          "metadata": {}
        },
        {
          "output_type": "display_data",
          "data": {
            "application/javascript": [
              "window[\"392ca14a-a025-11ec-918f-0242ac1c0002\"] = google.colab.output.setActiveOutputArea(window[\"392c31ba-a025-11ec-918f-0242ac1c0002\"]);\n",
              "//# sourceURL=js_cb206d5383"
            ],
            "text/plain": [
              "<IPython.core.display.Javascript object>"
            ]
          },
          "metadata": {}
        },
        {
          "output_type": "display_data",
          "data": {
            "application/javascript": [
              "window[\"39485296-a025-11ec-918f-0242ac1c0002\"] = google.colab.output.setActiveOutputArea(window[\"392bb6e0-a025-11ec-918f-0242ac1c0002\"]);\n",
              "//# sourceURL=js_cb3c20f46a"
            ],
            "text/plain": [
              "<IPython.core.display.Javascript object>"
            ]
          },
          "metadata": {}
        },
        {
          "output_type": "display_data",
          "data": {
            "application/javascript": [
              "window[\"394b6210-a025-11ec-918f-0242ac1c0002\"] = google.colab.output.getActiveOutputArea();\n",
              "//# sourceURL=js_d7eb6179ee"
            ],
            "text/plain": [
              "<IPython.core.display.Javascript object>"
            ]
          },
          "metadata": {}
        },
        {
          "output_type": "display_data",
          "data": {
            "application/javascript": [
              "window[\"394bceb2-a025-11ec-918f-0242ac1c0002\"] = document.querySelector(\"#id102-0-0\");\n",
              "//# sourceURL=js_46f975e08c"
            ],
            "text/plain": [
              "<IPython.core.display.Javascript object>"
            ]
          },
          "metadata": {}
        },
        {
          "output_type": "display_data",
          "data": {
            "application/javascript": [
              "window[\"394c4e6e-a025-11ec-918f-0242ac1c0002\"] = google.colab.output.setActiveOutputArea(window[\"394bceb2-a025-11ec-918f-0242ac1c0002\"]);\n",
              "//# sourceURL=js_914a75a72a"
            ],
            "text/plain": [
              "<IPython.core.display.Javascript object>"
            ]
          },
          "metadata": {}
        },
        {
          "output_type": "display_data",
          "data": {
            "application/javascript": [
              "window[\"396c3846-a025-11ec-918f-0242ac1c0002\"] = google.colab.output.setActiveOutputArea(window[\"394b6210-a025-11ec-918f-0242ac1c0002\"]);\n",
              "//# sourceURL=js_ea5d96c1ca"
            ],
            "text/plain": [
              "<IPython.core.display.Javascript object>"
            ]
          },
          "metadata": {}
        },
        {
          "output_type": "display_data",
          "data": {
            "application/javascript": [
              "window[\"396eae5a-a025-11ec-918f-0242ac1c0002\"] = google.colab.output.getActiveOutputArea();\n",
              "//# sourceURL=js_64efd1ecff"
            ],
            "text/plain": [
              "<IPython.core.display.Javascript object>"
            ]
          },
          "metadata": {}
        },
        {
          "output_type": "display_data",
          "data": {
            "application/javascript": [
              "window[\"396f1d7c-a025-11ec-918f-0242ac1c0002\"] = document.querySelector(\"#id102-0-0\");\n",
              "//# sourceURL=js_d79b132772"
            ],
            "text/plain": [
              "<IPython.core.display.Javascript object>"
            ]
          },
          "metadata": {}
        },
        {
          "output_type": "display_data",
          "data": {
            "application/javascript": [
              "window[\"396f7e98-a025-11ec-918f-0242ac1c0002\"] = google.colab.output.setActiveOutputArea(window[\"396f1d7c-a025-11ec-918f-0242ac1c0002\"]);\n",
              "//# sourceURL=js_b4104db4fc"
            ],
            "text/plain": [
              "<IPython.core.display.Javascript object>"
            ]
          },
          "metadata": {}
        },
        {
          "output_type": "display_data",
          "data": {
            "application/javascript": [
              "window[\"398c6bfc-a025-11ec-918f-0242ac1c0002\"] = google.colab.output.setActiveOutputArea(window[\"396eae5a-a025-11ec-918f-0242ac1c0002\"]);\n",
              "//# sourceURL=js_6e1f4bb542"
            ],
            "text/plain": [
              "<IPython.core.display.Javascript object>"
            ]
          },
          "metadata": {}
        },
        {
          "output_type": "display_data",
          "data": {
            "application/javascript": [
              "window[\"398f18e8-a025-11ec-918f-0242ac1c0002\"] = google.colab.output.getActiveOutputArea();\n",
              "//# sourceURL=js_989376e60a"
            ],
            "text/plain": [
              "<IPython.core.display.Javascript object>"
            ]
          },
          "metadata": {}
        },
        {
          "output_type": "display_data",
          "data": {
            "application/javascript": [
              "window[\"398fb582-a025-11ec-918f-0242ac1c0002\"] = document.querySelector(\"#id102-0-0\");\n",
              "//# sourceURL=js_f559eddf3a"
            ],
            "text/plain": [
              "<IPython.core.display.Javascript object>"
            ]
          },
          "metadata": {}
        },
        {
          "output_type": "display_data",
          "data": {
            "application/javascript": [
              "window[\"39902346-a025-11ec-918f-0242ac1c0002\"] = google.colab.output.setActiveOutputArea(window[\"398fb582-a025-11ec-918f-0242ac1c0002\"]);\n",
              "//# sourceURL=js_3d5c89137d"
            ],
            "text/plain": [
              "<IPython.core.display.Javascript object>"
            ]
          },
          "metadata": {}
        },
        {
          "output_type": "display_data",
          "data": {
            "application/javascript": [
              "window[\"39aceecc-a025-11ec-918f-0242ac1c0002\"] = google.colab.output.setActiveOutputArea(window[\"398f18e8-a025-11ec-918f-0242ac1c0002\"]);\n",
              "//# sourceURL=js_6640280e14"
            ],
            "text/plain": [
              "<IPython.core.display.Javascript object>"
            ]
          },
          "metadata": {}
        },
        {
          "output_type": "display_data",
          "data": {
            "application/javascript": [
              "window[\"39b09108-a025-11ec-918f-0242ac1c0002\"] = google.colab.output.getActiveOutputArea();\n",
              "//# sourceURL=js_24c87eaa35"
            ],
            "text/plain": [
              "<IPython.core.display.Javascript object>"
            ]
          },
          "metadata": {}
        },
        {
          "output_type": "display_data",
          "data": {
            "application/javascript": [
              "window[\"39b10cc8-a025-11ec-918f-0242ac1c0002\"] = document.querySelector(\"#id102-0-0\");\n",
              "//# sourceURL=js_d0f80309ed"
            ],
            "text/plain": [
              "<IPython.core.display.Javascript object>"
            ]
          },
          "metadata": {}
        },
        {
          "output_type": "display_data",
          "data": {
            "application/javascript": [
              "window[\"39b17be0-a025-11ec-918f-0242ac1c0002\"] = google.colab.output.setActiveOutputArea(window[\"39b10cc8-a025-11ec-918f-0242ac1c0002\"]);\n",
              "//# sourceURL=js_b63b9ed1e9"
            ],
            "text/plain": [
              "<IPython.core.display.Javascript object>"
            ]
          },
          "metadata": {}
        },
        {
          "output_type": "display_data",
          "data": {
            "application/javascript": [
              "window[\"39cd51e4-a025-11ec-918f-0242ac1c0002\"] = google.colab.output.setActiveOutputArea(window[\"39b09108-a025-11ec-918f-0242ac1c0002\"]);\n",
              "//# sourceURL=js_c7f26276e2"
            ],
            "text/plain": [
              "<IPython.core.display.Javascript object>"
            ]
          },
          "metadata": {}
        },
        {
          "output_type": "display_data",
          "data": {
            "application/javascript": [
              "window[\"39cfe4ae-a025-11ec-918f-0242ac1c0002\"] = google.colab.output.getActiveOutputArea();\n",
              "//# sourceURL=js_be042f4113"
            ],
            "text/plain": [
              "<IPython.core.display.Javascript object>"
            ]
          },
          "metadata": {}
        },
        {
          "output_type": "display_data",
          "data": {
            "application/javascript": [
              "window[\"39d043c2-a025-11ec-918f-0242ac1c0002\"] = document.querySelector(\"#id102-0-0\");\n",
              "//# sourceURL=js_e7667077ee"
            ],
            "text/plain": [
              "<IPython.core.display.Javascript object>"
            ]
          },
          "metadata": {}
        },
        {
          "output_type": "display_data",
          "data": {
            "application/javascript": [
              "window[\"39d0a7d6-a025-11ec-918f-0242ac1c0002\"] = google.colab.output.setActiveOutputArea(window[\"39d043c2-a025-11ec-918f-0242ac1c0002\"]);\n",
              "//# sourceURL=js_9e487e2536"
            ],
            "text/plain": [
              "<IPython.core.display.Javascript object>"
            ]
          },
          "metadata": {}
        },
        {
          "output_type": "display_data",
          "data": {
            "application/javascript": [
              "window[\"39efb8e2-a025-11ec-918f-0242ac1c0002\"] = google.colab.output.setActiveOutputArea(window[\"39cfe4ae-a025-11ec-918f-0242ac1c0002\"]);\n",
              "//# sourceURL=js_9f3b5a7e01"
            ],
            "text/plain": [
              "<IPython.core.display.Javascript object>"
            ]
          },
          "metadata": {}
        },
        {
          "output_type": "display_data",
          "data": {
            "application/javascript": [
              "window[\"39f431b0-a025-11ec-918f-0242ac1c0002\"] = google.colab.output.getActiveOutputArea();\n",
              "//# sourceURL=js_669621fa7c"
            ],
            "text/plain": [
              "<IPython.core.display.Javascript object>"
            ]
          },
          "metadata": {}
        },
        {
          "output_type": "display_data",
          "data": {
            "application/javascript": [
              "window[\"39f49060-a025-11ec-918f-0242ac1c0002\"] = document.querySelector(\"#id102-0-0\");\n",
              "//# sourceURL=js_0925dcb3fa"
            ],
            "text/plain": [
              "<IPython.core.display.Javascript object>"
            ]
          },
          "metadata": {}
        },
        {
          "output_type": "display_data",
          "data": {
            "application/javascript": [
              "window[\"39f55e28-a025-11ec-918f-0242ac1c0002\"] = google.colab.output.setActiveOutputArea(window[\"39f49060-a025-11ec-918f-0242ac1c0002\"]);\n",
              "//# sourceURL=js_5dba85e386"
            ],
            "text/plain": [
              "<IPython.core.display.Javascript object>"
            ]
          },
          "metadata": {}
        },
        {
          "output_type": "display_data",
          "data": {
            "application/javascript": [
              "window[\"3a13fb26-a025-11ec-918f-0242ac1c0002\"] = google.colab.output.setActiveOutputArea(window[\"39f431b0-a025-11ec-918f-0242ac1c0002\"]);\n",
              "//# sourceURL=js_4628fae570"
            ],
            "text/plain": [
              "<IPython.core.display.Javascript object>"
            ]
          },
          "metadata": {}
        },
        {
          "output_type": "display_data",
          "data": {
            "application/javascript": [
              "window[\"3a163148-a025-11ec-918f-0242ac1c0002\"] = google.colab.output.getActiveOutputArea();\n",
              "//# sourceURL=js_c096d44e34"
            ],
            "text/plain": [
              "<IPython.core.display.Javascript object>"
            ]
          },
          "metadata": {}
        },
        {
          "output_type": "display_data",
          "data": {
            "application/javascript": [
              "window[\"3a167a72-a025-11ec-918f-0242ac1c0002\"] = document.querySelector(\"#id102-0-0\");\n",
              "//# sourceURL=js_ddc290a5b8"
            ],
            "text/plain": [
              "<IPython.core.display.Javascript object>"
            ]
          },
          "metadata": {}
        },
        {
          "output_type": "display_data",
          "data": {
            "application/javascript": [
              "window[\"3a171dc4-a025-11ec-918f-0242ac1c0002\"] = google.colab.output.setActiveOutputArea(window[\"3a167a72-a025-11ec-918f-0242ac1c0002\"]);\n",
              "//# sourceURL=js_0c788b0e14"
            ],
            "text/plain": [
              "<IPython.core.display.Javascript object>"
            ]
          },
          "metadata": {}
        },
        {
          "output_type": "display_data",
          "data": {
            "application/javascript": [
              "window[\"3a3402cc-a025-11ec-918f-0242ac1c0002\"] = google.colab.output.setActiveOutputArea(window[\"3a163148-a025-11ec-918f-0242ac1c0002\"]);\n",
              "//# sourceURL=js_60e8aaf205"
            ],
            "text/plain": [
              "<IPython.core.display.Javascript object>"
            ]
          },
          "metadata": {}
        },
        {
          "output_type": "display_data",
          "data": {
            "application/javascript": [
              "window[\"3a36a4c8-a025-11ec-918f-0242ac1c0002\"] = google.colab.output.getActiveOutputArea();\n",
              "//# sourceURL=js_29221f6053"
            ],
            "text/plain": [
              "<IPython.core.display.Javascript object>"
            ]
          },
          "metadata": {}
        },
        {
          "output_type": "display_data",
          "data": {
            "application/javascript": [
              "window[\"3a3704a4-a025-11ec-918f-0242ac1c0002\"] = document.querySelector(\"#id102-0-0\");\n",
              "//# sourceURL=js_53089ccecf"
            ],
            "text/plain": [
              "<IPython.core.display.Javascript object>"
            ]
          },
          "metadata": {}
        },
        {
          "output_type": "display_data",
          "data": {
            "application/javascript": [
              "window[\"3a375f9e-a025-11ec-918f-0242ac1c0002\"] = google.colab.output.setActiveOutputArea(window[\"3a3704a4-a025-11ec-918f-0242ac1c0002\"]);\n",
              "//# sourceURL=js_b473b28d2f"
            ],
            "text/plain": [
              "<IPython.core.display.Javascript object>"
            ]
          },
          "metadata": {}
        },
        {
          "output_type": "display_data",
          "data": {
            "application/javascript": [
              "window[\"3a54ddb2-a025-11ec-918f-0242ac1c0002\"] = google.colab.output.setActiveOutputArea(window[\"3a36a4c8-a025-11ec-918f-0242ac1c0002\"]);\n",
              "//# sourceURL=js_6ca3cf63d9"
            ],
            "text/plain": [
              "<IPython.core.display.Javascript object>"
            ]
          },
          "metadata": {}
        },
        {
          "output_type": "display_data",
          "data": {
            "application/javascript": [
              "window[\"3a576bfe-a025-11ec-918f-0242ac1c0002\"] = google.colab.output.getActiveOutputArea();\n",
              "//# sourceURL=js_9b75aa4848"
            ],
            "text/plain": [
              "<IPython.core.display.Javascript object>"
            ]
          },
          "metadata": {}
        },
        {
          "output_type": "display_data",
          "data": {
            "application/javascript": [
              "window[\"3a57d3d2-a025-11ec-918f-0242ac1c0002\"] = document.querySelector(\"#id102-0-0\");\n",
              "//# sourceURL=js_5e01328ee4"
            ],
            "text/plain": [
              "<IPython.core.display.Javascript object>"
            ]
          },
          "metadata": {}
        },
        {
          "output_type": "display_data",
          "data": {
            "application/javascript": [
              "window[\"3a5834a8-a025-11ec-918f-0242ac1c0002\"] = google.colab.output.setActiveOutputArea(window[\"3a57d3d2-a025-11ec-918f-0242ac1c0002\"]);\n",
              "//# sourceURL=js_5f4233c3bf"
            ],
            "text/plain": [
              "<IPython.core.display.Javascript object>"
            ]
          },
          "metadata": {}
        },
        {
          "output_type": "display_data",
          "data": {
            "application/javascript": [
              "window[\"3a746f06-a025-11ec-918f-0242ac1c0002\"] = google.colab.output.setActiveOutputArea(window[\"3a576bfe-a025-11ec-918f-0242ac1c0002\"]);\n",
              "//# sourceURL=js_88d2d5a2ae"
            ],
            "text/plain": [
              "<IPython.core.display.Javascript object>"
            ]
          },
          "metadata": {}
        },
        {
          "output_type": "display_data",
          "data": {
            "application/javascript": [
              "window[\"3a769222-a025-11ec-918f-0242ac1c0002\"] = google.colab.output.getActiveOutputArea();\n",
              "//# sourceURL=js_a2c1cde3d8"
            ],
            "text/plain": [
              "<IPython.core.display.Javascript object>"
            ]
          },
          "metadata": {}
        },
        {
          "output_type": "display_data",
          "data": {
            "application/javascript": [
              "window[\"3a76f6f4-a025-11ec-918f-0242ac1c0002\"] = document.querySelector(\"#id102-0-0\");\n",
              "//# sourceURL=js_515011a4b3"
            ],
            "text/plain": [
              "<IPython.core.display.Javascript object>"
            ]
          },
          "metadata": {}
        },
        {
          "output_type": "display_data",
          "data": {
            "application/javascript": [
              "window[\"3a7754aa-a025-11ec-918f-0242ac1c0002\"] = google.colab.output.setActiveOutputArea(window[\"3a76f6f4-a025-11ec-918f-0242ac1c0002\"]);\n",
              "//# sourceURL=js_04e2340046"
            ],
            "text/plain": [
              "<IPython.core.display.Javascript object>"
            ]
          },
          "metadata": {}
        },
        {
          "output_type": "display_data",
          "data": {
            "application/javascript": [
              "window[\"3a971bd2-a025-11ec-918f-0242ac1c0002\"] = google.colab.output.setActiveOutputArea(window[\"3a769222-a025-11ec-918f-0242ac1c0002\"]);\n",
              "//# sourceURL=js_f9f883b933"
            ],
            "text/plain": [
              "<IPython.core.display.Javascript object>"
            ]
          },
          "metadata": {}
        },
        {
          "output_type": "display_data",
          "data": {
            "application/javascript": [
              "window[\"3a99602c-a025-11ec-918f-0242ac1c0002\"] = google.colab.output.getActiveOutputArea();\n",
              "//# sourceURL=js_70deded956"
            ],
            "text/plain": [
              "<IPython.core.display.Javascript object>"
            ]
          },
          "metadata": {}
        },
        {
          "output_type": "display_data",
          "data": {
            "application/javascript": [
              "window[\"3a99c22e-a025-11ec-918f-0242ac1c0002\"] = document.querySelector(\"#id102-0-0\");\n",
              "//# sourceURL=js_80c37a569b"
            ],
            "text/plain": [
              "<IPython.core.display.Javascript object>"
            ]
          },
          "metadata": {}
        },
        {
          "output_type": "display_data",
          "data": {
            "application/javascript": [
              "window[\"3a9a2bec-a025-11ec-918f-0242ac1c0002\"] = google.colab.output.setActiveOutputArea(window[\"3a99c22e-a025-11ec-918f-0242ac1c0002\"]);\n",
              "//# sourceURL=js_96ca7ccaae"
            ],
            "text/plain": [
              "<IPython.core.display.Javascript object>"
            ]
          },
          "metadata": {}
        },
        {
          "output_type": "display_data",
          "data": {
            "application/javascript": [
              "window[\"3ab71c0c-a025-11ec-918f-0242ac1c0002\"] = google.colab.output.setActiveOutputArea(window[\"3a99602c-a025-11ec-918f-0242ac1c0002\"]);\n",
              "//# sourceURL=js_435f831fac"
            ],
            "text/plain": [
              "<IPython.core.display.Javascript object>"
            ]
          },
          "metadata": {}
        },
        {
          "output_type": "display_data",
          "data": {
            "application/javascript": [
              "window[\"3ab943ba-a025-11ec-918f-0242ac1c0002\"] = google.colab.output.getActiveOutputArea();\n",
              "//# sourceURL=js_79a0f8724f"
            ],
            "text/plain": [
              "<IPython.core.display.Javascript object>"
            ]
          },
          "metadata": {}
        },
        {
          "output_type": "display_data",
          "data": {
            "application/javascript": [
              "window[\"3ab9a6de-a025-11ec-918f-0242ac1c0002\"] = document.querySelector(\"#id102-0-0\");\n",
              "//# sourceURL=js_59e5bd777c"
            ],
            "text/plain": [
              "<IPython.core.display.Javascript object>"
            ]
          },
          "metadata": {}
        },
        {
          "output_type": "display_data",
          "data": {
            "application/javascript": [
              "window[\"3aba10f6-a025-11ec-918f-0242ac1c0002\"] = google.colab.output.setActiveOutputArea(window[\"3ab9a6de-a025-11ec-918f-0242ac1c0002\"]);\n",
              "//# sourceURL=js_cc160f66aa"
            ],
            "text/plain": [
              "<IPython.core.display.Javascript object>"
            ]
          },
          "metadata": {}
        },
        {
          "output_type": "display_data",
          "data": {
            "application/javascript": [
              "window[\"3ad6fbbc-a025-11ec-918f-0242ac1c0002\"] = google.colab.output.setActiveOutputArea(window[\"3ab943ba-a025-11ec-918f-0242ac1c0002\"]);\n",
              "//# sourceURL=js_b2cc07efe9"
            ],
            "text/plain": [
              "<IPython.core.display.Javascript object>"
            ]
          },
          "metadata": {}
        },
        {
          "output_type": "display_data",
          "data": {
            "application/javascript": [
              "window[\"3ad931e8-a025-11ec-918f-0242ac1c0002\"] = google.colab.output.getActiveOutputArea();\n",
              "//# sourceURL=js_b7cd74ff88"
            ],
            "text/plain": [
              "<IPython.core.display.Javascript object>"
            ]
          },
          "metadata": {}
        },
        {
          "output_type": "display_data",
          "data": {
            "application/javascript": [
              "window[\"3ad9a876-a025-11ec-918f-0242ac1c0002\"] = document.querySelector(\"#id102-0-0\");\n",
              "//# sourceURL=js_6062ba00b1"
            ],
            "text/plain": [
              "<IPython.core.display.Javascript object>"
            ]
          },
          "metadata": {}
        },
        {
          "output_type": "display_data",
          "data": {
            "application/javascript": [
              "window[\"3ada0046-a025-11ec-918f-0242ac1c0002\"] = google.colab.output.setActiveOutputArea(window[\"3ad9a876-a025-11ec-918f-0242ac1c0002\"]);\n",
              "//# sourceURL=js_63340dccbd"
            ],
            "text/plain": [
              "<IPython.core.display.Javascript object>"
            ]
          },
          "metadata": {}
        },
        {
          "output_type": "display_data",
          "data": {
            "application/javascript": [
              "window[\"3b07ee34-a025-11ec-918f-0242ac1c0002\"] = google.colab.output.setActiveOutputArea(window[\"3ad931e8-a025-11ec-918f-0242ac1c0002\"]);\n",
              "//# sourceURL=js_d79e601eb0"
            ],
            "text/plain": [
              "<IPython.core.display.Javascript object>"
            ]
          },
          "metadata": {}
        },
        {
          "output_type": "display_data",
          "data": {
            "application/javascript": [
              "window[\"3b0a192a-a025-11ec-918f-0242ac1c0002\"] = google.colab.output.getActiveOutputArea();\n",
              "//# sourceURL=js_44f4056e9b"
            ],
            "text/plain": [
              "<IPython.core.display.Javascript object>"
            ]
          },
          "metadata": {}
        },
        {
          "output_type": "display_data",
          "data": {
            "application/javascript": [
              "window[\"3b0a7abe-a025-11ec-918f-0242ac1c0002\"] = document.querySelector(\"#id102-0-0\");\n",
              "//# sourceURL=js_44fde7fc7f"
            ],
            "text/plain": [
              "<IPython.core.display.Javascript object>"
            ]
          },
          "metadata": {}
        },
        {
          "output_type": "display_data",
          "data": {
            "application/javascript": [
              "window[\"3b0ad5ae-a025-11ec-918f-0242ac1c0002\"] = google.colab.output.setActiveOutputArea(window[\"3b0a7abe-a025-11ec-918f-0242ac1c0002\"]);\n",
              "//# sourceURL=js_2aa1482057"
            ],
            "text/plain": [
              "<IPython.core.display.Javascript object>"
            ]
          },
          "metadata": {}
        },
        {
          "output_type": "display_data",
          "data": {
            "application/javascript": [
              "window[\"3b287f3c-a025-11ec-918f-0242ac1c0002\"] = google.colab.output.setActiveOutputArea(window[\"3b0a192a-a025-11ec-918f-0242ac1c0002\"]);\n",
              "//# sourceURL=js_2685d93d62"
            ],
            "text/plain": [
              "<IPython.core.display.Javascript object>"
            ]
          },
          "metadata": {}
        },
        {
          "output_type": "display_data",
          "data": {
            "application/javascript": [
              "window[\"3b2b0b6c-a025-11ec-918f-0242ac1c0002\"] = google.colab.output.getActiveOutputArea();\n",
              "//# sourceURL=js_cfda7661e0"
            ],
            "text/plain": [
              "<IPython.core.display.Javascript object>"
            ]
          },
          "metadata": {}
        },
        {
          "output_type": "display_data",
          "data": {
            "application/javascript": [
              "window[\"3b2b6f58-a025-11ec-918f-0242ac1c0002\"] = document.querySelector(\"#id102-0-0\");\n",
              "//# sourceURL=js_2ee3e0ae30"
            ],
            "text/plain": [
              "<IPython.core.display.Javascript object>"
            ]
          },
          "metadata": {}
        },
        {
          "output_type": "display_data",
          "data": {
            "application/javascript": [
              "window[\"3b2bcd7c-a025-11ec-918f-0242ac1c0002\"] = google.colab.output.setActiveOutputArea(window[\"3b2b6f58-a025-11ec-918f-0242ac1c0002\"]);\n",
              "//# sourceURL=js_29f514464f"
            ],
            "text/plain": [
              "<IPython.core.display.Javascript object>"
            ]
          },
          "metadata": {}
        },
        {
          "output_type": "display_data",
          "data": {
            "application/javascript": [
              "window[\"3b4b366c-a025-11ec-918f-0242ac1c0002\"] = google.colab.output.setActiveOutputArea(window[\"3b2b0b6c-a025-11ec-918f-0242ac1c0002\"]);\n",
              "//# sourceURL=js_4e98ae51e6"
            ],
            "text/plain": [
              "<IPython.core.display.Javascript object>"
            ]
          },
          "metadata": {}
        },
        {
          "output_type": "display_data",
          "data": {
            "application/javascript": [
              "window[\"3b4d64be-a025-11ec-918f-0242ac1c0002\"] = google.colab.output.getActiveOutputArea();\n",
              "//# sourceURL=js_e9cb69d5ea"
            ],
            "text/plain": [
              "<IPython.core.display.Javascript object>"
            ]
          },
          "metadata": {}
        },
        {
          "output_type": "display_data",
          "data": {
            "application/javascript": [
              "window[\"3b4dc4e0-a025-11ec-918f-0242ac1c0002\"] = document.querySelector(\"#id102-0-0\");\n",
              "//# sourceURL=js_55f8d8c039"
            ],
            "text/plain": [
              "<IPython.core.display.Javascript object>"
            ]
          },
          "metadata": {}
        },
        {
          "output_type": "display_data",
          "data": {
            "application/javascript": [
              "window[\"3b4e24ee-a025-11ec-918f-0242ac1c0002\"] = google.colab.output.setActiveOutputArea(window[\"3b4dc4e0-a025-11ec-918f-0242ac1c0002\"]);\n",
              "//# sourceURL=js_3737d8ba46"
            ],
            "text/plain": [
              "<IPython.core.display.Javascript object>"
            ]
          },
          "metadata": {}
        },
        {
          "output_type": "display_data",
          "data": {
            "application/javascript": [
              "window[\"3b6be5b0-a025-11ec-918f-0242ac1c0002\"] = google.colab.output.setActiveOutputArea(window[\"3b4d64be-a025-11ec-918f-0242ac1c0002\"]);\n",
              "//# sourceURL=js_ba7b043c78"
            ],
            "text/plain": [
              "<IPython.core.display.Javascript object>"
            ]
          },
          "metadata": {}
        },
        {
          "output_type": "display_data",
          "data": {
            "application/javascript": [
              "window[\"3b6e125e-a025-11ec-918f-0242ac1c0002\"] = google.colab.output.getActiveOutputArea();\n",
              "//# sourceURL=js_1b1ac26aeb"
            ],
            "text/plain": [
              "<IPython.core.display.Javascript object>"
            ]
          },
          "metadata": {}
        },
        {
          "output_type": "display_data",
          "data": {
            "application/javascript": [
              "window[\"3b6e8522-a025-11ec-918f-0242ac1c0002\"] = document.querySelector(\"#id102-0-0\");\n",
              "//# sourceURL=js_c97f50ca95"
            ],
            "text/plain": [
              "<IPython.core.display.Javascript object>"
            ]
          },
          "metadata": {}
        },
        {
          "output_type": "display_data",
          "data": {
            "application/javascript": [
              "window[\"3b6ee5ee-a025-11ec-918f-0242ac1c0002\"] = google.colab.output.setActiveOutputArea(window[\"3b6e8522-a025-11ec-918f-0242ac1c0002\"]);\n",
              "//# sourceURL=js_4e45580545"
            ],
            "text/plain": [
              "<IPython.core.display.Javascript object>"
            ]
          },
          "metadata": {}
        },
        {
          "output_type": "display_data",
          "data": {
            "application/javascript": [
              "window[\"3b8c1204-a025-11ec-918f-0242ac1c0002\"] = google.colab.output.setActiveOutputArea(window[\"3b6e125e-a025-11ec-918f-0242ac1c0002\"]);\n",
              "//# sourceURL=js_ac31935b92"
            ],
            "text/plain": [
              "<IPython.core.display.Javascript object>"
            ]
          },
          "metadata": {}
        },
        {
          "output_type": "display_data",
          "data": {
            "application/javascript": [
              "window[\"3b8eb4e6-a025-11ec-918f-0242ac1c0002\"] = google.colab.output.getActiveOutputArea();\n",
              "//# sourceURL=js_30a660dc67"
            ],
            "text/plain": [
              "<IPython.core.display.Javascript object>"
            ]
          },
          "metadata": {}
        },
        {
          "output_type": "display_data",
          "data": {
            "application/javascript": [
              "window[\"3b8f25a2-a025-11ec-918f-0242ac1c0002\"] = document.querySelector(\"#id102-0-0\");\n",
              "//# sourceURL=js_52e1f9ef4d"
            ],
            "text/plain": [
              "<IPython.core.display.Javascript object>"
            ]
          },
          "metadata": {}
        },
        {
          "output_type": "display_data",
          "data": {
            "application/javascript": [
              "window[\"3b8f8830-a025-11ec-918f-0242ac1c0002\"] = google.colab.output.setActiveOutputArea(window[\"3b8f25a2-a025-11ec-918f-0242ac1c0002\"]);\n",
              "//# sourceURL=js_25ee842f84"
            ],
            "text/plain": [
              "<IPython.core.display.Javascript object>"
            ]
          },
          "metadata": {}
        },
        {
          "output_type": "display_data",
          "data": {
            "application/javascript": [
              "window[\"3bad3876-a025-11ec-918f-0242ac1c0002\"] = google.colab.output.setActiveOutputArea(window[\"3b8eb4e6-a025-11ec-918f-0242ac1c0002\"]);\n",
              "//# sourceURL=js_1940d21727"
            ],
            "text/plain": [
              "<IPython.core.display.Javascript object>"
            ]
          },
          "metadata": {}
        },
        {
          "output_type": "display_data",
          "data": {
            "application/javascript": [
              "window[\"3baf8f2c-a025-11ec-918f-0242ac1c0002\"] = google.colab.output.getActiveOutputArea();\n",
              "//# sourceURL=js_d26d414934"
            ],
            "text/plain": [
              "<IPython.core.display.Javascript object>"
            ]
          },
          "metadata": {}
        },
        {
          "output_type": "display_data",
          "data": {
            "application/javascript": [
              "window[\"3bb0179e-a025-11ec-918f-0242ac1c0002\"] = document.querySelector(\"#id102-0-0\");\n",
              "//# sourceURL=js_c517e1e28c"
            ],
            "text/plain": [
              "<IPython.core.display.Javascript object>"
            ]
          },
          "metadata": {}
        },
        {
          "output_type": "display_data",
          "data": {
            "application/javascript": [
              "window[\"3bb0748c-a025-11ec-918f-0242ac1c0002\"] = google.colab.output.setActiveOutputArea(window[\"3bb0179e-a025-11ec-918f-0242ac1c0002\"]);\n",
              "//# sourceURL=js_05d009ba4f"
            ],
            "text/plain": [
              "<IPython.core.display.Javascript object>"
            ]
          },
          "metadata": {}
        },
        {
          "output_type": "display_data",
          "data": {
            "application/javascript": [
              "window[\"3bce8c42-a025-11ec-918f-0242ac1c0002\"] = google.colab.output.setActiveOutputArea(window[\"3baf8f2c-a025-11ec-918f-0242ac1c0002\"]);\n",
              "//# sourceURL=js_a54ad1c2a1"
            ],
            "text/plain": [
              "<IPython.core.display.Javascript object>"
            ]
          },
          "metadata": {}
        },
        {
          "output_type": "display_data",
          "data": {
            "application/javascript": [
              "window[\"3bd1b3f4-a025-11ec-918f-0242ac1c0002\"] = google.colab.output.getActiveOutputArea();\n",
              "//# sourceURL=js_55f2d4327c"
            ],
            "text/plain": [
              "<IPython.core.display.Javascript object>"
            ]
          },
          "metadata": {}
        },
        {
          "output_type": "display_data",
          "data": {
            "application/javascript": [
              "window[\"3bd21a56-a025-11ec-918f-0242ac1c0002\"] = document.querySelector(\"#id102-0-0\");\n",
              "//# sourceURL=js_fa51d87c0c"
            ],
            "text/plain": [
              "<IPython.core.display.Javascript object>"
            ]
          },
          "metadata": {}
        },
        {
          "output_type": "display_data",
          "data": {
            "application/javascript": [
              "window[\"3bd27e60-a025-11ec-918f-0242ac1c0002\"] = google.colab.output.setActiveOutputArea(window[\"3bd21a56-a025-11ec-918f-0242ac1c0002\"]);\n",
              "//# sourceURL=js_7119602f82"
            ],
            "text/plain": [
              "<IPython.core.display.Javascript object>"
            ]
          },
          "metadata": {}
        },
        {
          "output_type": "display_data",
          "data": {
            "application/javascript": [
              "window[\"3bf14976-a025-11ec-918f-0242ac1c0002\"] = google.colab.output.setActiveOutputArea(window[\"3bd1b3f4-a025-11ec-918f-0242ac1c0002\"]);\n",
              "//# sourceURL=js_b58ec40fe5"
            ],
            "text/plain": [
              "<IPython.core.display.Javascript object>"
            ]
          },
          "metadata": {}
        },
        {
          "output_type": "display_data",
          "data": {
            "application/javascript": [
              "window[\"3bf3af9a-a025-11ec-918f-0242ac1c0002\"] = google.colab.output.getActiveOutputArea();\n",
              "//# sourceURL=js_6f6f292ae9"
            ],
            "text/plain": [
              "<IPython.core.display.Javascript object>"
            ]
          },
          "metadata": {}
        },
        {
          "output_type": "display_data",
          "data": {
            "application/javascript": [
              "window[\"3bf40878-a025-11ec-918f-0242ac1c0002\"] = document.querySelector(\"#id102-0-0\");\n",
              "//# sourceURL=js_08d6231704"
            ],
            "text/plain": [
              "<IPython.core.display.Javascript object>"
            ]
          },
          "metadata": {}
        },
        {
          "output_type": "display_data",
          "data": {
            "application/javascript": [
              "window[\"3bf470e2-a025-11ec-918f-0242ac1c0002\"] = google.colab.output.setActiveOutputArea(window[\"3bf40878-a025-11ec-918f-0242ac1c0002\"]);\n",
              "//# sourceURL=js_9995ba9eb0"
            ],
            "text/plain": [
              "<IPython.core.display.Javascript object>"
            ]
          },
          "metadata": {}
        },
        {
          "output_type": "display_data",
          "data": {
            "application/javascript": [
              "window[\"3c11db78-a025-11ec-918f-0242ac1c0002\"] = google.colab.output.setActiveOutputArea(window[\"3bf3af9a-a025-11ec-918f-0242ac1c0002\"]);\n",
              "//# sourceURL=js_124648e8f5"
            ],
            "text/plain": [
              "<IPython.core.display.Javascript object>"
            ]
          },
          "metadata": {}
        },
        {
          "output_type": "display_data",
          "data": {
            "application/javascript": [
              "window[\"3c144d22-a025-11ec-918f-0242ac1c0002\"] = google.colab.output.getActiveOutputArea();\n",
              "//# sourceURL=js_1897ad0cd6"
            ],
            "text/plain": [
              "<IPython.core.display.Javascript object>"
            ]
          },
          "metadata": {}
        },
        {
          "output_type": "display_data",
          "data": {
            "application/javascript": [
              "window[\"3c14b014-a025-11ec-918f-0242ac1c0002\"] = document.querySelector(\"#id102-0-0\");\n",
              "//# sourceURL=js_c23d02c0b1"
            ],
            "text/plain": [
              "<IPython.core.display.Javascript object>"
            ]
          },
          "metadata": {}
        },
        {
          "output_type": "display_data",
          "data": {
            "application/javascript": [
              "window[\"3c1529d6-a025-11ec-918f-0242ac1c0002\"] = google.colab.output.setActiveOutputArea(window[\"3c14b014-a025-11ec-918f-0242ac1c0002\"]);\n",
              "//# sourceURL=js_c2df33186b"
            ],
            "text/plain": [
              "<IPython.core.display.Javascript object>"
            ]
          },
          "metadata": {}
        },
        {
          "output_type": "display_data",
          "data": {
            "application/javascript": [
              "window[\"3c333d0e-a025-11ec-918f-0242ac1c0002\"] = google.colab.output.setActiveOutputArea(window[\"3c144d22-a025-11ec-918f-0242ac1c0002\"]);\n",
              "//# sourceURL=js_a32f6d954e"
            ],
            "text/plain": [
              "<IPython.core.display.Javascript object>"
            ]
          },
          "metadata": {}
        },
        {
          "output_type": "display_data",
          "data": {
            "application/javascript": [
              "window[\"3c357c22-a025-11ec-918f-0242ac1c0002\"] = google.colab.output.getActiveOutputArea();\n",
              "//# sourceURL=js_0eb7c17787"
            ],
            "text/plain": [
              "<IPython.core.display.Javascript object>"
            ]
          },
          "metadata": {}
        },
        {
          "output_type": "display_data",
          "data": {
            "application/javascript": [
              "window[\"3c35db36-a025-11ec-918f-0242ac1c0002\"] = document.querySelector(\"#id102-0-0\");\n",
              "//# sourceURL=js_2fdba37be7"
            ],
            "text/plain": [
              "<IPython.core.display.Javascript object>"
            ]
          },
          "metadata": {}
        },
        {
          "output_type": "display_data",
          "data": {
            "application/javascript": [
              "window[\"3c364b20-a025-11ec-918f-0242ac1c0002\"] = google.colab.output.setActiveOutputArea(window[\"3c35db36-a025-11ec-918f-0242ac1c0002\"]);\n",
              "//# sourceURL=js_a5a1b6cf70"
            ],
            "text/plain": [
              "<IPython.core.display.Javascript object>"
            ]
          },
          "metadata": {}
        },
        {
          "output_type": "display_data",
          "data": {
            "application/javascript": [
              "window[\"3c54d8e2-a025-11ec-918f-0242ac1c0002\"] = google.colab.output.setActiveOutputArea(window[\"3c357c22-a025-11ec-918f-0242ac1c0002\"]);\n",
              "//# sourceURL=js_d4a41c911a"
            ],
            "text/plain": [
              "<IPython.core.display.Javascript object>"
            ]
          },
          "metadata": {}
        },
        {
          "output_type": "display_data",
          "data": {
            "application/javascript": [
              "window[\"3c5775fc-a025-11ec-918f-0242ac1c0002\"] = google.colab.output.getActiveOutputArea();\n",
              "//# sourceURL=js_90fe9c032f"
            ],
            "text/plain": [
              "<IPython.core.display.Javascript object>"
            ]
          },
          "metadata": {}
        },
        {
          "output_type": "display_data",
          "data": {
            "application/javascript": [
              "window[\"3c580616-a025-11ec-918f-0242ac1c0002\"] = document.querySelector(\"#id102-0-0\");\n",
              "//# sourceURL=js_bfef6d4c12"
            ],
            "text/plain": [
              "<IPython.core.display.Javascript object>"
            ]
          },
          "metadata": {}
        },
        {
          "output_type": "display_data",
          "data": {
            "application/javascript": [
              "window[\"3c5877ae-a025-11ec-918f-0242ac1c0002\"] = google.colab.output.setActiveOutputArea(window[\"3c580616-a025-11ec-918f-0242ac1c0002\"]);\n",
              "//# sourceURL=js_6f74f4bad6"
            ],
            "text/plain": [
              "<IPython.core.display.Javascript object>"
            ]
          },
          "metadata": {}
        },
        {
          "output_type": "display_data",
          "data": {
            "application/javascript": [
              "window[\"3c78849a-a025-11ec-918f-0242ac1c0002\"] = google.colab.output.setActiveOutputArea(window[\"3c5775fc-a025-11ec-918f-0242ac1c0002\"]);\n",
              "//# sourceURL=js_f2add83f31"
            ],
            "text/plain": [
              "<IPython.core.display.Javascript object>"
            ]
          },
          "metadata": {}
        },
        {
          "output_type": "display_data",
          "data": {
            "application/javascript": [
              "window[\"3c7ae38e-a025-11ec-918f-0242ac1c0002\"] = google.colab.output.getActiveOutputArea();\n",
              "//# sourceURL=js_2ae3ecf4ac"
            ],
            "text/plain": [
              "<IPython.core.display.Javascript object>"
            ]
          },
          "metadata": {}
        },
        {
          "output_type": "display_data",
          "data": {
            "application/javascript": [
              "window[\"3c7b4504-a025-11ec-918f-0242ac1c0002\"] = document.querySelector(\"#id102-0-0\");\n",
              "//# sourceURL=js_8c912f622f"
            ],
            "text/plain": [
              "<IPython.core.display.Javascript object>"
            ]
          },
          "metadata": {}
        },
        {
          "output_type": "display_data",
          "data": {
            "application/javascript": [
              "window[\"3c7ba85a-a025-11ec-918f-0242ac1c0002\"] = google.colab.output.setActiveOutputArea(window[\"3c7b4504-a025-11ec-918f-0242ac1c0002\"]);\n",
              "//# sourceURL=js_dc4868c47c"
            ],
            "text/plain": [
              "<IPython.core.display.Javascript object>"
            ]
          },
          "metadata": {}
        },
        {
          "output_type": "display_data",
          "data": {
            "application/javascript": [
              "window[\"3c98caac-a025-11ec-918f-0242ac1c0002\"] = google.colab.output.setActiveOutputArea(window[\"3c7ae38e-a025-11ec-918f-0242ac1c0002\"]);\n",
              "//# sourceURL=js_2504e68851"
            ],
            "text/plain": [
              "<IPython.core.display.Javascript object>"
            ]
          },
          "metadata": {}
        },
        {
          "output_type": "display_data",
          "data": {
            "application/javascript": [
              "window[\"3c9b5a2e-a025-11ec-918f-0242ac1c0002\"] = google.colab.output.getActiveOutputArea();\n",
              "//# sourceURL=js_4cd711a7a4"
            ],
            "text/plain": [
              "<IPython.core.display.Javascript object>"
            ]
          },
          "metadata": {}
        },
        {
          "output_type": "display_data",
          "data": {
            "application/javascript": [
              "window[\"3c9bbbea-a025-11ec-918f-0242ac1c0002\"] = document.querySelector(\"#id102-0-0\");\n",
              "//# sourceURL=js_c3a3d4de7e"
            ],
            "text/plain": [
              "<IPython.core.display.Javascript object>"
            ]
          },
          "metadata": {}
        },
        {
          "output_type": "display_data",
          "data": {
            "application/javascript": [
              "window[\"3c9c19dc-a025-11ec-918f-0242ac1c0002\"] = google.colab.output.setActiveOutputArea(window[\"3c9bbbea-a025-11ec-918f-0242ac1c0002\"]);\n",
              "//# sourceURL=js_caeac7d083"
            ],
            "text/plain": [
              "<IPython.core.display.Javascript object>"
            ]
          },
          "metadata": {}
        },
        {
          "output_type": "display_data",
          "data": {
            "application/javascript": [
              "window[\"3cbae60a-a025-11ec-918f-0242ac1c0002\"] = google.colab.output.setActiveOutputArea(window[\"3c9b5a2e-a025-11ec-918f-0242ac1c0002\"]);\n",
              "//# sourceURL=js_46d1881f4d"
            ],
            "text/plain": [
              "<IPython.core.display.Javascript object>"
            ]
          },
          "metadata": {}
        },
        {
          "output_type": "display_data",
          "data": {
            "application/javascript": [
              "window[\"3cbdc578-a025-11ec-918f-0242ac1c0002\"] = google.colab.output.getActiveOutputArea();\n",
              "//# sourceURL=js_ffcd39dfe2"
            ],
            "text/plain": [
              "<IPython.core.display.Javascript object>"
            ]
          },
          "metadata": {}
        },
        {
          "output_type": "display_data",
          "data": {
            "application/javascript": [
              "window[\"3cbe65dc-a025-11ec-918f-0242ac1c0002\"] = document.querySelector(\"#id102-0-0\");\n",
              "//# sourceURL=js_0df39f937a"
            ],
            "text/plain": [
              "<IPython.core.display.Javascript object>"
            ]
          },
          "metadata": {}
        },
        {
          "output_type": "display_data",
          "data": {
            "application/javascript": [
              "window[\"3cbeddb4-a025-11ec-918f-0242ac1c0002\"] = google.colab.output.setActiveOutputArea(window[\"3cbe65dc-a025-11ec-918f-0242ac1c0002\"]);\n",
              "//# sourceURL=js_ab3a5bbf85"
            ],
            "text/plain": [
              "<IPython.core.display.Javascript object>"
            ]
          },
          "metadata": {}
        },
        {
          "output_type": "display_data",
          "data": {
            "application/javascript": [
              "window[\"3cdd98e4-a025-11ec-918f-0242ac1c0002\"] = google.colab.output.setActiveOutputArea(window[\"3cbdc578-a025-11ec-918f-0242ac1c0002\"]);\n",
              "//# sourceURL=js_258cf7948e"
            ],
            "text/plain": [
              "<IPython.core.display.Javascript object>"
            ]
          },
          "metadata": {}
        },
        {
          "output_type": "display_data",
          "data": {
            "application/javascript": [
              "window[\"3ce0dce8-a025-11ec-918f-0242ac1c0002\"] = google.colab.output.getActiveOutputArea();\n",
              "//# sourceURL=js_98aabc1ed2"
            ],
            "text/plain": [
              "<IPython.core.display.Javascript object>"
            ]
          },
          "metadata": {}
        },
        {
          "output_type": "display_data",
          "data": {
            "application/javascript": [
              "window[\"3ce1423c-a025-11ec-918f-0242ac1c0002\"] = document.querySelector(\"#id102-0-0\");\n",
              "//# sourceURL=js_d0b360dc2d"
            ],
            "text/plain": [
              "<IPython.core.display.Javascript object>"
            ]
          },
          "metadata": {}
        },
        {
          "output_type": "display_data",
          "data": {
            "application/javascript": [
              "window[\"3ce1abb4-a025-11ec-918f-0242ac1c0002\"] = google.colab.output.setActiveOutputArea(window[\"3ce1423c-a025-11ec-918f-0242ac1c0002\"]);\n",
              "//# sourceURL=js_60ecfe9b0b"
            ],
            "text/plain": [
              "<IPython.core.display.Javascript object>"
            ]
          },
          "metadata": {}
        },
        {
          "output_type": "display_data",
          "data": {
            "application/javascript": [
              "window[\"3cff9f98-a025-11ec-918f-0242ac1c0002\"] = google.colab.output.setActiveOutputArea(window[\"3ce0dce8-a025-11ec-918f-0242ac1c0002\"]);\n",
              "//# sourceURL=js_e3a3cf948e"
            ],
            "text/plain": [
              "<IPython.core.display.Javascript object>"
            ]
          },
          "metadata": {}
        },
        {
          "output_type": "display_data",
          "data": {
            "application/javascript": [
              "window[\"3d04d7c4-a025-11ec-918f-0242ac1c0002\"] = google.colab.output.getActiveOutputArea();\n",
              "//# sourceURL=js_ae66c63b10"
            ],
            "text/plain": [
              "<IPython.core.display.Javascript object>"
            ]
          },
          "metadata": {}
        },
        {
          "output_type": "display_data",
          "data": {
            "application/javascript": [
              "window[\"3d0536ce-a025-11ec-918f-0242ac1c0002\"] = document.querySelector(\"#id102-0-0\");\n",
              "//# sourceURL=js_b006c5d70b"
            ],
            "text/plain": [
              "<IPython.core.display.Javascript object>"
            ]
          },
          "metadata": {}
        },
        {
          "output_type": "display_data",
          "data": {
            "application/javascript": [
              "window[\"3d05864c-a025-11ec-918f-0242ac1c0002\"] = google.colab.output.setActiveOutputArea(window[\"3d0536ce-a025-11ec-918f-0242ac1c0002\"]);\n",
              "//# sourceURL=js_b0dbd65454"
            ],
            "text/plain": [
              "<IPython.core.display.Javascript object>"
            ]
          },
          "metadata": {}
        },
        {
          "output_type": "display_data",
          "data": {
            "application/javascript": [
              "window[\"3d33c0ca-a025-11ec-918f-0242ac1c0002\"] = google.colab.output.setActiveOutputArea(window[\"3d04d7c4-a025-11ec-918f-0242ac1c0002\"]);\n",
              "//# sourceURL=js_f57324d820"
            ],
            "text/plain": [
              "<IPython.core.display.Javascript object>"
            ]
          },
          "metadata": {}
        },
        {
          "output_type": "display_data",
          "data": {
            "application/javascript": [
              "window[\"3d3783f4-a025-11ec-918f-0242ac1c0002\"] = google.colab.output.getActiveOutputArea();\n",
              "//# sourceURL=js_122e762759"
            ],
            "text/plain": [
              "<IPython.core.display.Javascript object>"
            ]
          },
          "metadata": {}
        },
        {
          "output_type": "display_data",
          "data": {
            "application/javascript": [
              "window[\"3d37e90c-a025-11ec-918f-0242ac1c0002\"] = document.querySelector(\"#id102-0-0\");\n",
              "//# sourceURL=js_26b4bbbd8e"
            ],
            "text/plain": [
              "<IPython.core.display.Javascript object>"
            ]
          },
          "metadata": {}
        },
        {
          "output_type": "display_data",
          "data": {
            "application/javascript": [
              "window[\"3d384a6e-a025-11ec-918f-0242ac1c0002\"] = google.colab.output.setActiveOutputArea(window[\"3d37e90c-a025-11ec-918f-0242ac1c0002\"]);\n",
              "//# sourceURL=js_c4d75b547b"
            ],
            "text/plain": [
              "<IPython.core.display.Javascript object>"
            ]
          },
          "metadata": {}
        },
        {
          "output_type": "display_data",
          "data": {
            "application/javascript": [
              "window[\"3d553d22-a025-11ec-918f-0242ac1c0002\"] = google.colab.output.setActiveOutputArea(window[\"3d3783f4-a025-11ec-918f-0242ac1c0002\"]);\n",
              "//# sourceURL=js_f9c2b10d49"
            ],
            "text/plain": [
              "<IPython.core.display.Javascript object>"
            ]
          },
          "metadata": {}
        },
        {
          "output_type": "display_data",
          "data": {
            "application/javascript": [
              "window[\"3d59bf96-a025-11ec-918f-0242ac1c0002\"] = google.colab.output.getActiveOutputArea();\n",
              "//# sourceURL=js_a8a6d52466"
            ],
            "text/plain": [
              "<IPython.core.display.Javascript object>"
            ]
          },
          "metadata": {}
        },
        {
          "output_type": "display_data",
          "data": {
            "application/javascript": [
              "window[\"3d5a19d2-a025-11ec-918f-0242ac1c0002\"] = document.querySelector(\"#id102-0-0\");\n",
              "//# sourceURL=js_1a4a90affd"
            ],
            "text/plain": [
              "<IPython.core.display.Javascript object>"
            ]
          },
          "metadata": {}
        },
        {
          "output_type": "display_data",
          "data": {
            "application/javascript": [
              "window[\"3d5ab3f6-a025-11ec-918f-0242ac1c0002\"] = google.colab.output.setActiveOutputArea(window[\"3d5a19d2-a025-11ec-918f-0242ac1c0002\"]);\n",
              "//# sourceURL=js_4320ce5c57"
            ],
            "text/plain": [
              "<IPython.core.display.Javascript object>"
            ]
          },
          "metadata": {}
        },
        {
          "output_type": "display_data",
          "data": {
            "application/javascript": [
              "window[\"3d791382-a025-11ec-918f-0242ac1c0002\"] = google.colab.output.setActiveOutputArea(window[\"3d59bf96-a025-11ec-918f-0242ac1c0002\"]);\n",
              "//# sourceURL=js_b5130db56b"
            ],
            "text/plain": [
              "<IPython.core.display.Javascript object>"
            ]
          },
          "metadata": {}
        },
        {
          "output_type": "display_data",
          "data": {
            "application/javascript": [
              "window[\"3d7e7372-a025-11ec-918f-0242ac1c0002\"] = google.colab.output.getActiveOutputArea();\n",
              "//# sourceURL=js_0e07b8c720"
            ],
            "text/plain": [
              "<IPython.core.display.Javascript object>"
            ]
          },
          "metadata": {}
        },
        {
          "output_type": "display_data",
          "data": {
            "application/javascript": [
              "window[\"3d7ed97a-a025-11ec-918f-0242ac1c0002\"] = document.querySelector(\"#id102-0-0\");\n",
              "//# sourceURL=js_ec1b8bbc76"
            ],
            "text/plain": [
              "<IPython.core.display.Javascript object>"
            ]
          },
          "metadata": {}
        },
        {
          "output_type": "display_data",
          "data": {
            "application/javascript": [
              "window[\"3d7f3a64-a025-11ec-918f-0242ac1c0002\"] = google.colab.output.setActiveOutputArea(window[\"3d7ed97a-a025-11ec-918f-0242ac1c0002\"]);\n",
              "//# sourceURL=js_8b79d60b70"
            ],
            "text/plain": [
              "<IPython.core.display.Javascript object>"
            ]
          },
          "metadata": {}
        },
        {
          "output_type": "display_data",
          "data": {
            "image/png": "[encoded data removed]",
            "text/plain": [
              "<Figure size 432x288 with 1 Axes>"
            ]
          },
          "metadata": {
            "needs_background": "light"
          }
        },
        {
          "output_type": "display_data",
          "data": {
            "application/javascript": [
              "window[\"3da04678-a025-11ec-918f-0242ac1c0002\"] = google.colab.output.setActiveOutputArea(window[\"3d7e7372-a025-11ec-918f-0242ac1c0002\"]);\n",
              "//# sourceURL=js_b88345e511"
            ],
            "text/plain": [
              "<IPython.core.display.Javascript object>"
            ]
          },
          "metadata": {}
        }
      ]
    },
    {
      "cell_type": "markdown",
      "source": [
        "##2. Stochastic Environment"
      ],
      "metadata": {
        "id": "UfnboKTskEho"
      }
    },
    {
      "cell_type": "code",
      "source": [
        "class SGridEnvironment (gym.Env): \n",
        "    metadata = {'render.modes': []}\n",
        "\n",
        "    def __init__(self):\n",
        "        self.observation_space = spaces.Discrete(16)\n",
        "        self.action_space = spaces.Discrete(4)\n",
        "        self.max_timestep = 50000\n",
        "        self.rewards = [[0,3],[1,3],[2,2],[3,2]]\n",
        "        \n",
        "    def reset(self):\n",
        "        self.timestep = 0\n",
        "        self.agent_pos = [0,0]\n",
        "        self.goal_pos = [3,3]\n",
        "        self.state = np.zeros((4,4))\n",
        "        self.state[tuple(self.agent_pos)] = 1\n",
        "        self.state[tuple(self.goal_pos)] = 0.5\n",
        "        for i in self.rewards :\n",
        "          self.state[tuple(i)] = 0.25\n",
        "        observation = self.agent_pos\n",
        "        return observation\n",
        "\n",
        "    def step(self, action):\n",
        "      s = np.random.random()\n",
        "\n",
        "      if action == 0: #down\n",
        "        if s < 0.55:\n",
        "          self.agent_pos[0] += 1 # down\n",
        "          if self.agent_pos[0] > 3:\n",
        "            self.agent_pos[0] = 3\n",
        "        elif s < 0.7:\n",
        "          self.agent_pos[0] -= 1 # up\n",
        "          if self.agent_pos[0] < 0:\n",
        "            self.agent_pos[0] = 0 \n",
        "        elif s < 0.85 :\n",
        "          self.agent_pos[1] += 1  # right\n",
        "          if self.agent_pos[1] > 3:\n",
        "            self.agent_pos[1] = 3\n",
        "        else:\n",
        "          self.agent_pos[1] -= 1 # left\n",
        "          if self.agent_pos[1] < 0:\n",
        "            self.agent_pos[1] = 0 \n",
        "              \n",
        "      elif action == 1: #up \n",
        "        if s < 0.55:\n",
        "          self.agent_pos[0] -= 1 # up\n",
        "          if self.agent_pos[0] < 0:\n",
        "            self.agent_pos[0] = 0 \n",
        "        elif s < 0.7:\n",
        "          self.agent_pos[0] += 1 # down\n",
        "          if self.agent_pos[0] > 3:\n",
        "            self.agent_pos[0] = 3\n",
        "        elif s < 0.85 :\n",
        "          self.agent_pos[1] += 1  # right\n",
        "          if self.agent_pos[1] > 3:\n",
        "            self.agent_pos[1] = 3\n",
        "        else:\n",
        "          self.agent_pos[1] -= 1 # left\n",
        "          if self.agent_pos[1] < 0:\n",
        "            self.agent_pos[1] = 0 \n",
        "    \n",
        "      elif action == 2: #right \n",
        "        if s < 0.55 :\n",
        "          self.agent_pos[1] += 1 # right\n",
        "          if self.agent_pos[1] > 3:\n",
        "            self.agent_pos[1] = 3\n",
        "        elif s < 0.7 :\n",
        "          self.agent_pos[1] -= 1 # left\n",
        "          if self.agent_pos[1] < 0:\n",
        "            self.agent_pos[1] = 0 \n",
        "        elif s < 0.85 :\n",
        "          self.agent_pos[0] += 1  # down\n",
        "          if self.agent_pos[0] > 3:\n",
        "            self.agent_pos[0] = 3\n",
        "        else:\n",
        "          self.agent_pos[0] -= 1 # up\n",
        "          if self.agent_pos[0] < 0:\n",
        "            self.agent_pos[0] = 0 \n",
        "              \n",
        "      elif action == 3: #left \n",
        "        if s < 0.55 :\n",
        "          self.agent_pos[1] -= 1 # left \n",
        "          if self.agent_pos[1] < 0:\n",
        "            self.agent_pos[1] = 0 \n",
        "        elif s < 0.7 :\n",
        "          self.agent_pos[1] += 1 # right \n",
        "          if self.agent_pos[1] > 3:\n",
        "            self.agent_pos[1] = 3\n",
        "        elif s < 0.85 :\n",
        "          self.agent_pos[0] += 1  # down\n",
        "          if self.agent_pos[0] > 3:\n",
        "            self.agent_pos[0] = 3\n",
        "        else:\n",
        "          self.agent_pos[0] -= 1 # up\n",
        "          if self.agent_pos[0] < 0:\n",
        "            self.agent_pos[0] = 0 \n",
        "\n",
        "      self.agent_pos = np.clip(self.agent_pos, 0, 3)\n",
        "      self.state = np.zeros((4,4))\n",
        "      self.state[tuple(self.agent_pos)] = 1\n",
        "      self.state[tuple(self.goal_pos)] = 0.5\n",
        "      for i in self.rewards :\n",
        "          self.state[tuple(i)] = 0.25\n",
        "      observation = self.agent_pos\n",
        "      \n",
        "      reward = 0\n",
        "      if reward == 0 :          \n",
        "        if (self.agent_pos == self.goal_pos).all():\n",
        "          reward = 5\n",
        "        elif (self.agent_pos == self.rewards[0]).all():\n",
        "          reward = 1\n",
        "        elif (self.agent_pos == self.rewards[1]).all():\n",
        "          reward = 2\n",
        "        elif (self.agent_pos == self.rewards[2]).all():\n",
        "          reward = 3\n",
        "        elif (self.agent_pos == self.rewards[3]).all():\n",
        "          reward = 4\n",
        "        else:\n",
        "          reward = -0.1\n",
        "\n",
        "      self.timestep += 1\n",
        "      done = True if self.timestep >= self.max_timestep or (self.agent_pos == self.goal_pos).all() else False\n",
        "      info = {}\n",
        "          \n",
        "      return observation, reward, done, info\n",
        "          \n",
        "    def render(self):\n",
        "        plt.imshow(self.state)"
      ],
      "metadata": {
        "id": "xDSmVkadkReu"
      },
      "execution_count": 205,
      "outputs": []
    },
    {
      "cell_type": "code",
      "source": [
        "class RandomAgent:\n",
        "  def __init__(self, env):\n",
        "    self.env = env\n",
        "    self.observation_space = env.observation_space\n",
        "    self.action_space = env.action_space\n",
        "\n",
        "  def step(self, observation):\n",
        "    return np.random.choice(self.action_space.n)"
      ],
      "metadata": {
        "id": "JgIvOkZ91QL-"
      },
      "execution_count": 206,
      "outputs": []
    },
    {
      "cell_type": "code",
      "source": [
        "env = SGridEnvironment()\n",
        "agent = RandomAgent(env)\n",
        "\n",
        "obs = env.reset()\n",
        "done = False\n",
        "\n",
        "output_grid = widgets.Grid(1, 1)\n",
        "with output_grid.output_to(0, 0):\n",
        "  env.render()\n",
        "\n",
        "for i in range(100):\n",
        "  action = agent.step(obs)\n",
        "  env.step(action)\n",
        "  with output_grid.output_to(0, 0):\n",
        "    output_grid.clear_cell()\n",
        "    env.render()"
      ],
      "metadata": {
        "colab": {
          "base_uri": "https://localhost:8080/",
          "height": 0
        },
        "id": "IHsVSwdHqUl9",
        "outputId": "ea7e4447-ea01-442d-f240-380181a27b70"
      },
      "execution_count": 207,
      "outputs": [
        {
          "output_type": "display_data",
          "data": {
            "text/html": [
              "<style>\n",
              "       table#id104, #id104 > tbody > tr > th, #id104 > tbody > tr > td {\n",
              "         border: 1px solid lightgray;\n",
              "         border-collapse:collapse;\n",
              "         \n",
              "        }</style>"
            ],
            "text/plain": [
              "<IPython.core.display.HTML object>"
            ]
          },
          "metadata": {}
        },
        {
          "output_type": "display_data",
          "data": {
            "text/html": [
              "<table id=id104><tr><td id=id104-0-0></td></tr></table>"
            ],
            "text/plain": [
              "<IPython.core.display.HTML object>"
            ]
          },
          "metadata": {}
        },
        {
          "output_type": "display_data",
          "data": {
            "application/javascript": [
              "window[\"3dc78b84-a025-11ec-918f-0242ac1c0002\"] = google.colab.output.getActiveOutputArea();\n",
              "//# sourceURL=js_3608459553"
            ],
            "text/plain": [
              "<IPython.core.display.Javascript object>"
            ]
          },
          "metadata": {}
        },
        {
          "output_type": "display_data",
          "data": {
            "application/javascript": [
              "window[\"3dc7fccc-a025-11ec-918f-0242ac1c0002\"] = document.querySelector(\"#id104-0-0\");\n",
              "//# sourceURL=js_1b647850e2"
            ],
            "text/plain": [
              "<IPython.core.display.Javascript object>"
            ]
          },
          "metadata": {}
        },
        {
          "output_type": "display_data",
          "data": {
            "application/javascript": [
              "window[\"3dc86d88-a025-11ec-918f-0242ac1c0002\"] = google.colab.output.setActiveOutputArea(window[\"3dc7fccc-a025-11ec-918f-0242ac1c0002\"]);\n",
              "//# sourceURL=js_01a679af5c"
            ],
            "text/plain": [
              "<IPython.core.display.Javascript object>"
            ]
          },
          "metadata": {}
        },
        {
          "output_type": "display_data",
          "data": {
            "application/javascript": [
              "window[\"3de181f6-a025-11ec-918f-0242ac1c0002\"] = google.colab.output.setActiveOutputArea(window[\"3dc78b84-a025-11ec-918f-0242ac1c0002\"]);\n",
              "//# sourceURL=js_f337b3e55c"
            ],
            "text/plain": [
              "<IPython.core.display.Javascript object>"
            ]
          },
          "metadata": {}
        },
        {
          "output_type": "display_data",
          "data": {
            "application/javascript": [
              "window[\"3de3ecd4-a025-11ec-918f-0242ac1c0002\"] = google.colab.output.getActiveOutputArea();\n",
              "//# sourceURL=js_1c171afd46"
            ],
            "text/plain": [
              "<IPython.core.display.Javascript object>"
            ]
          },
          "metadata": {}
        },
        {
          "output_type": "display_data",
          "data": {
            "application/javascript": [
              "window[\"3de45dc2-a025-11ec-918f-0242ac1c0002\"] = document.querySelector(\"#id104-0-0\");\n",
              "//# sourceURL=js_179731f5ba"
            ],
            "text/plain": [
              "<IPython.core.display.Javascript object>"
            ]
          },
          "metadata": {}
        },
        {
          "output_type": "display_data",
          "data": {
            "application/javascript": [
              "window[\"3de4c8e8-a025-11ec-918f-0242ac1c0002\"] = google.colab.output.setActiveOutputArea(window[\"3de45dc2-a025-11ec-918f-0242ac1c0002\"]);\n",
              "//# sourceURL=js_116b558f17"
            ],
            "text/plain": [
              "<IPython.core.display.Javascript object>"
            ]
          },
          "metadata": {}
        },
        {
          "output_type": "display_data",
          "data": {
            "application/javascript": [
              "window[\"3dfd8d24-a025-11ec-918f-0242ac1c0002\"] = google.colab.output.setActiveOutputArea(window[\"3de3ecd4-a025-11ec-918f-0242ac1c0002\"]);\n",
              "//# sourceURL=js_1c41bb6e69"
            ],
            "text/plain": [
              "<IPython.core.display.Javascript object>"
            ]
          },
          "metadata": {}
        },
        {
          "output_type": "display_data",
          "data": {
            "application/javascript": [
              "window[\"3e02eb66-a025-11ec-918f-0242ac1c0002\"] = google.colab.output.getActiveOutputArea();\n",
              "//# sourceURL=js_e6f5b5a1c4"
            ],
            "text/plain": [
              "<IPython.core.display.Javascript object>"
            ]
          },
          "metadata": {}
        },
        {
          "output_type": "display_data",
          "data": {
            "application/javascript": [
              "window[\"3e0387c4-a025-11ec-918f-0242ac1c0002\"] = document.querySelector(\"#id104-0-0\");\n",
              "//# sourceURL=js_194f2526f4"
            ],
            "text/plain": [
              "<IPython.core.display.Javascript object>"
            ]
          },
          "metadata": {}
        },
        {
          "output_type": "display_data",
          "data": {
            "application/javascript": [
              "window[\"3e04781e-a025-11ec-918f-0242ac1c0002\"] = google.colab.output.setActiveOutputArea(window[\"3e0387c4-a025-11ec-918f-0242ac1c0002\"]);\n",
              "//# sourceURL=js_e78eb29d49"
            ],
            "text/plain": [
              "<IPython.core.display.Javascript object>"
            ]
          },
          "metadata": {}
        },
        {
          "output_type": "display_data",
          "data": {
            "application/javascript": [
              "window[\"3e1fb7a0-a025-11ec-918f-0242ac1c0002\"] = google.colab.output.setActiveOutputArea(window[\"3e02eb66-a025-11ec-918f-0242ac1c0002\"]);\n",
              "//# sourceURL=js_8b01570874"
            ],
            "text/plain": [
              "<IPython.core.display.Javascript object>"
            ]
          },
          "metadata": {}
        },
        {
          "output_type": "display_data",
          "data": {
            "application/javascript": [
              "window[\"3e242ede-a025-11ec-918f-0242ac1c0002\"] = google.colab.output.getActiveOutputArea();\n",
              "//# sourceURL=js_b2316c7eb6"
            ],
            "text/plain": [
              "<IPython.core.display.Javascript object>"
            ]
          },
          "metadata": {}
        },
        {
          "output_type": "display_data",
          "data": {
            "application/javascript": [
              "window[\"3e249446-a025-11ec-918f-0242ac1c0002\"] = document.querySelector(\"#id104-0-0\");\n",
              "//# sourceURL=js_d3c88c9906"
            ],
            "text/plain": [
              "<IPython.core.display.Javascript object>"
            ]
          },
          "metadata": {}
        },
        {
          "output_type": "display_data",
          "data": {
            "application/javascript": [
              "window[\"3e2518d0-a025-11ec-918f-0242ac1c0002\"] = google.colab.output.setActiveOutputArea(window[\"3e249446-a025-11ec-918f-0242ac1c0002\"]);\n",
              "//# sourceURL=js_48cefa0b7e"
            ],
            "text/plain": [
              "<IPython.core.display.Javascript object>"
            ]
          },
          "metadata": {}
        },
        {
          "output_type": "display_data",
          "data": {
            "application/javascript": [
              "window[\"3e3ee4e0-a025-11ec-918f-0242ac1c0002\"] = google.colab.output.setActiveOutputArea(window[\"3e242ede-a025-11ec-918f-0242ac1c0002\"]);\n",
              "//# sourceURL=js_24e2822960"
            ],
            "text/plain": [
              "<IPython.core.display.Javascript object>"
            ]
          },
          "metadata": {}
        },
        {
          "output_type": "display_data",
          "data": {
            "application/javascript": [
              "window[\"3e4111e8-a025-11ec-918f-0242ac1c0002\"] = google.colab.output.getActiveOutputArea();\n",
              "//# sourceURL=js_988d0f2055"
            ],
            "text/plain": [
              "<IPython.core.display.Javascript object>"
            ]
          },
          "metadata": {}
        },
        {
          "output_type": "display_data",
          "data": {
            "application/javascript": [
              "window[\"3e4164a4-a025-11ec-918f-0242ac1c0002\"] = document.querySelector(\"#id104-0-0\");\n",
              "//# sourceURL=js_e0e9490e32"
            ],
            "text/plain": [
              "<IPython.core.display.Javascript object>"
            ]
          },
          "metadata": {}
        },
        {
          "output_type": "display_data",
          "data": {
            "application/javascript": [
              "window[\"3e41b36e-a025-11ec-918f-0242ac1c0002\"] = google.colab.output.setActiveOutputArea(window[\"3e4164a4-a025-11ec-918f-0242ac1c0002\"]);\n",
              "//# sourceURL=js_a2fb9ee533"
            ],
            "text/plain": [
              "<IPython.core.display.Javascript object>"
            ]
          },
          "metadata": {}
        },
        {
          "output_type": "display_data",
          "data": {
            "application/javascript": [
              "window[\"3e5e2a9e-a025-11ec-918f-0242ac1c0002\"] = google.colab.output.setActiveOutputArea(window[\"3e4111e8-a025-11ec-918f-0242ac1c0002\"]);\n",
              "//# sourceURL=js_52d4f9225e"
            ],
            "text/plain": [
              "<IPython.core.display.Javascript object>"
            ]
          },
          "metadata": {}
        },
        {
          "output_type": "display_data",
          "data": {
            "application/javascript": [
              "window[\"3e6036cc-a025-11ec-918f-0242ac1c0002\"] = google.colab.output.getActiveOutputArea();\n",
              "//# sourceURL=js_8599c26615"
            ],
            "text/plain": [
              "<IPython.core.display.Javascript object>"
            ]
          },
          "metadata": {}
        },
        {
          "output_type": "display_data",
          "data": {
            "application/javascript": [
              "window[\"3e6097f2-a025-11ec-918f-0242ac1c0002\"] = document.querySelector(\"#id104-0-0\");\n",
              "//# sourceURL=js_0d2b5031c5"
            ],
            "text/plain": [
              "<IPython.core.display.Javascript object>"
            ]
          },
          "metadata": {}
        },
        {
          "output_type": "display_data",
          "data": {
            "application/javascript": [
              "window[\"3e60fc42-a025-11ec-918f-0242ac1c0002\"] = google.colab.output.setActiveOutputArea(window[\"3e6097f2-a025-11ec-918f-0242ac1c0002\"]);\n",
              "//# sourceURL=js_090dd785d3"
            ],
            "text/plain": [
              "<IPython.core.display.Javascript object>"
            ]
          },
          "metadata": {}
        },
        {
          "output_type": "display_data",
          "data": {
            "application/javascript": [
              "window[\"3e7bfe3e-a025-11ec-918f-0242ac1c0002\"] = google.colab.output.setActiveOutputArea(window[\"3e6036cc-a025-11ec-918f-0242ac1c0002\"]);\n",
              "//# sourceURL=js_fa04788d5f"
            ],
            "text/plain": [
              "<IPython.core.display.Javascript object>"
            ]
          },
          "metadata": {}
        },
        {
          "output_type": "display_data",
          "data": {
            "application/javascript": [
              "window[\"3e7e7a42-a025-11ec-918f-0242ac1c0002\"] = google.colab.output.getActiveOutputArea();\n",
              "//# sourceURL=js_bab22c597b"
            ],
            "text/plain": [
              "<IPython.core.display.Javascript object>"
            ]
          },
          "metadata": {}
        },
        {
          "output_type": "display_data",
          "data": {
            "application/javascript": [
              "window[\"3e7ed0e6-a025-11ec-918f-0242ac1c0002\"] = document.querySelector(\"#id104-0-0\");\n",
              "//# sourceURL=js_d7491b22cd"
            ],
            "text/plain": [
              "<IPython.core.display.Javascript object>"
            ]
          },
          "metadata": {}
        },
        {
          "output_type": "display_data",
          "data": {
            "application/javascript": [
              "window[\"3e7f364e-a025-11ec-918f-0242ac1c0002\"] = google.colab.output.setActiveOutputArea(window[\"3e7ed0e6-a025-11ec-918f-0242ac1c0002\"]);\n",
              "//# sourceURL=js_fd02f79f33"
            ],
            "text/plain": [
              "<IPython.core.display.Javascript object>"
            ]
          },
          "metadata": {}
        },
        {
          "output_type": "display_data",
          "data": {
            "application/javascript": [
              "window[\"3e98689e-a025-11ec-918f-0242ac1c0002\"] = google.colab.output.setActiveOutputArea(window[\"3e7e7a42-a025-11ec-918f-0242ac1c0002\"]);\n",
              "//# sourceURL=js_eca6d8010d"
            ],
            "text/plain": [
              "<IPython.core.display.Javascript object>"
            ]
          },
          "metadata": {}
        },
        {
          "output_type": "display_data",
          "data": {
            "application/javascript": [
              "window[\"3e9aa622-a025-11ec-918f-0242ac1c0002\"] = google.colab.output.getActiveOutputArea();\n",
              "//# sourceURL=js_32bbe80669"
            ],
            "text/plain": [
              "<IPython.core.display.Javascript object>"
            ]
          },
          "metadata": {}
        },
        {
          "output_type": "display_data",
          "data": {
            "application/javascript": [
              "window[\"3e9b0f0e-a025-11ec-918f-0242ac1c0002\"] = document.querySelector(\"#id104-0-0\");\n",
              "//# sourceURL=js_27cd31cfbb"
            ],
            "text/plain": [
              "<IPython.core.display.Javascript object>"
            ]
          },
          "metadata": {}
        },
        {
          "output_type": "display_data",
          "data": {
            "application/javascript": [
              "window[\"3e9b7570-a025-11ec-918f-0242ac1c0002\"] = google.colab.output.setActiveOutputArea(window[\"3e9b0f0e-a025-11ec-918f-0242ac1c0002\"]);\n",
              "//# sourceURL=js_b1074c7a84"
            ],
            "text/plain": [
              "<IPython.core.display.Javascript object>"
            ]
          },
          "metadata": {}
        },
        {
          "output_type": "display_data",
          "data": {
            "application/javascript": [
              "window[\"3eb4a40a-a025-11ec-918f-0242ac1c0002\"] = google.colab.output.setActiveOutputArea(window[\"3e9aa622-a025-11ec-918f-0242ac1c0002\"]);\n",
              "//# sourceURL=js_6e3fa9a26f"
            ],
            "text/plain": [
              "<IPython.core.display.Javascript object>"
            ]
          },
          "metadata": {}
        },
        {
          "output_type": "display_data",
          "data": {
            "application/javascript": [
              "window[\"3eb6e012-a025-11ec-918f-0242ac1c0002\"] = google.colab.output.getActiveOutputArea();\n",
              "//# sourceURL=js_3e776c76cb"
            ],
            "text/plain": [
              "<IPython.core.display.Javascript object>"
            ]
          },
          "metadata": {}
        },
        {
          "output_type": "display_data",
          "data": {
            "application/javascript": [
              "window[\"3eb74430-a025-11ec-918f-0242ac1c0002\"] = document.querySelector(\"#id104-0-0\");\n",
              "//# sourceURL=js_dba24ea754"
            ],
            "text/plain": [
              "<IPython.core.display.Javascript object>"
            ]
          },
          "metadata": {}
        },
        {
          "output_type": "display_data",
          "data": {
            "application/javascript": [
              "window[\"3eb7ad1c-a025-11ec-918f-0242ac1c0002\"] = google.colab.output.setActiveOutputArea(window[\"3eb74430-a025-11ec-918f-0242ac1c0002\"]);\n",
              "//# sourceURL=js_b8bca4c970"
            ],
            "text/plain": [
              "<IPython.core.display.Javascript object>"
            ]
          },
          "metadata": {}
        },
        {
          "output_type": "display_data",
          "data": {
            "application/javascript": [
              "window[\"3ed0c45a-a025-11ec-918f-0242ac1c0002\"] = google.colab.output.setActiveOutputArea(window[\"3eb6e012-a025-11ec-918f-0242ac1c0002\"]);\n",
              "//# sourceURL=js_c33ce582da"
            ],
            "text/plain": [
              "<IPython.core.display.Javascript object>"
            ]
          },
          "metadata": {}
        },
        {
          "output_type": "display_data",
          "data": {
            "application/javascript": [
              "window[\"3ed2f798-a025-11ec-918f-0242ac1c0002\"] = google.colab.output.getActiveOutputArea();\n",
              "//# sourceURL=js_04a88b384f"
            ],
            "text/plain": [
              "<IPython.core.display.Javascript object>"
            ]
          },
          "metadata": {}
        },
        {
          "output_type": "display_data",
          "data": {
            "application/javascript": [
              "window[\"3ed35d82-a025-11ec-918f-0242ac1c0002\"] = document.querySelector(\"#id104-0-0\");\n",
              "//# sourceURL=js_f935564ea0"
            ],
            "text/plain": [
              "<IPython.core.display.Javascript object>"
            ]
          },
          "metadata": {}
        },
        {
          "output_type": "display_data",
          "data": {
            "application/javascript": [
              "window[\"3ed3c74a-a025-11ec-918f-0242ac1c0002\"] = google.colab.output.setActiveOutputArea(window[\"3ed35d82-a025-11ec-918f-0242ac1c0002\"]);\n",
              "//# sourceURL=js_f33b1f14a2"
            ],
            "text/plain": [
              "<IPython.core.display.Javascript object>"
            ]
          },
          "metadata": {}
        },
        {
          "output_type": "display_data",
          "data": {
            "application/javascript": [
              "window[\"3eee65fa-a025-11ec-918f-0242ac1c0002\"] = google.colab.output.setActiveOutputArea(window[\"3ed2f798-a025-11ec-918f-0242ac1c0002\"]);\n",
              "//# sourceURL=js_7219a2f0b0"
            ],
            "text/plain": [
              "<IPython.core.display.Javascript object>"
            ]
          },
          "metadata": {}
        },
        {
          "output_type": "display_data",
          "data": {
            "application/javascript": [
              "window[\"3ef09e06-a025-11ec-918f-0242ac1c0002\"] = google.colab.output.getActiveOutputArea();\n",
              "//# sourceURL=js_cfeeeda6b4"
            ],
            "text/plain": [
              "<IPython.core.display.Javascript object>"
            ]
          },
          "metadata": {}
        },
        {
          "output_type": "display_data",
          "data": {
            "application/javascript": [
              "window[\"3ef10328-a025-11ec-918f-0242ac1c0002\"] = document.querySelector(\"#id104-0-0\");\n",
              "//# sourceURL=js_4160d6cf1a"
            ],
            "text/plain": [
              "<IPython.core.display.Javascript object>"
            ]
          },
          "metadata": {}
        },
        {
          "output_type": "display_data",
          "data": {
            "application/javascript": [
              "window[\"3ef1673c-a025-11ec-918f-0242ac1c0002\"] = google.colab.output.setActiveOutputArea(window[\"3ef10328-a025-11ec-918f-0242ac1c0002\"]);\n",
              "//# sourceURL=js_02b0f33dbf"
            ],
            "text/plain": [
              "<IPython.core.display.Javascript object>"
            ]
          },
          "metadata": {}
        },
        {
          "output_type": "display_data",
          "data": {
            "application/javascript": [
              "window[\"3f09c6c4-a025-11ec-918f-0242ac1c0002\"] = google.colab.output.setActiveOutputArea(window[\"3ef09e06-a025-11ec-918f-0242ac1c0002\"]);\n",
              "//# sourceURL=js_93df5dbc25"
            ],
            "text/plain": [
              "<IPython.core.display.Javascript object>"
            ]
          },
          "metadata": {}
        },
        {
          "output_type": "display_data",
          "data": {
            "application/javascript": [
              "window[\"3f0c065a-a025-11ec-918f-0242ac1c0002\"] = google.colab.output.getActiveOutputArea();\n",
              "//# sourceURL=js_781c4510a2"
            ],
            "text/plain": [
              "<IPython.core.display.Javascript object>"
            ]
          },
          "metadata": {}
        },
        {
          "output_type": "display_data",
          "data": {
            "application/javascript": [
              "window[\"3f0c6d2a-a025-11ec-918f-0242ac1c0002\"] = document.querySelector(\"#id104-0-0\");\n",
              "//# sourceURL=js_812eed6725"
            ],
            "text/plain": [
              "<IPython.core.display.Javascript object>"
            ]
          },
          "metadata": {}
        },
        {
          "output_type": "display_data",
          "data": {
            "application/javascript": [
              "window[\"3f0cce8c-a025-11ec-918f-0242ac1c0002\"] = google.colab.output.setActiveOutputArea(window[\"3f0c6d2a-a025-11ec-918f-0242ac1c0002\"]);\n",
              "//# sourceURL=js_b43a1bc791"
            ],
            "text/plain": [
              "<IPython.core.display.Javascript object>"
            ]
          },
          "metadata": {}
        },
        {
          "output_type": "display_data",
          "data": {
            "application/javascript": [
              "window[\"3f255858-a025-11ec-918f-0242ac1c0002\"] = google.colab.output.setActiveOutputArea(window[\"3f0c065a-a025-11ec-918f-0242ac1c0002\"]);\n",
              "//# sourceURL=js_9c20442501"
            ],
            "text/plain": [
              "<IPython.core.display.Javascript object>"
            ]
          },
          "metadata": {}
        },
        {
          "output_type": "display_data",
          "data": {
            "application/javascript": [
              "window[\"3f2788b2-a025-11ec-918f-0242ac1c0002\"] = google.colab.output.getActiveOutputArea();\n",
              "//# sourceURL=js_48ca5375f1"
            ],
            "text/plain": [
              "<IPython.core.display.Javascript object>"
            ]
          },
          "metadata": {}
        },
        {
          "output_type": "display_data",
          "data": {
            "application/javascript": [
              "window[\"3f27edb6-a025-11ec-918f-0242ac1c0002\"] = document.querySelector(\"#id104-0-0\");\n",
              "//# sourceURL=js_006a778e26"
            ],
            "text/plain": [
              "<IPython.core.display.Javascript object>"
            ]
          },
          "metadata": {}
        },
        {
          "output_type": "display_data",
          "data": {
            "application/javascript": [
              "window[\"3f28521a-a025-11ec-918f-0242ac1c0002\"] = google.colab.output.setActiveOutputArea(window[\"3f27edb6-a025-11ec-918f-0242ac1c0002\"]);\n",
              "//# sourceURL=js_b42cf3659e"
            ],
            "text/plain": [
              "<IPython.core.display.Javascript object>"
            ]
          },
          "metadata": {}
        },
        {
          "output_type": "display_data",
          "data": {
            "application/javascript": [
              "window[\"3f54773c-a025-11ec-918f-0242ac1c0002\"] = google.colab.output.setActiveOutputArea(window[\"3f2788b2-a025-11ec-918f-0242ac1c0002\"]);\n",
              "//# sourceURL=js_e0921a15c7"
            ],
            "text/plain": [
              "<IPython.core.display.Javascript object>"
            ]
          },
          "metadata": {}
        },
        {
          "output_type": "display_data",
          "data": {
            "application/javascript": [
              "window[\"3f56bc54-a025-11ec-918f-0242ac1c0002\"] = google.colab.output.getActiveOutputArea();\n",
              "//# sourceURL=js_290d71e427"
            ],
            "text/plain": [
              "<IPython.core.display.Javascript object>"
            ]
          },
          "metadata": {}
        },
        {
          "output_type": "display_data",
          "data": {
            "application/javascript": [
              "window[\"3f572b62-a025-11ec-918f-0242ac1c0002\"] = document.querySelector(\"#id104-0-0\");\n",
              "//# sourceURL=js_1ba9560bbf"
            ],
            "text/plain": [
              "<IPython.core.display.Javascript object>"
            ]
          },
          "metadata": {}
        },
        {
          "output_type": "display_data",
          "data": {
            "application/javascript": [
              "window[\"3f5790b6-a025-11ec-918f-0242ac1c0002\"] = google.colab.output.setActiveOutputArea(window[\"3f572b62-a025-11ec-918f-0242ac1c0002\"]);\n",
              "//# sourceURL=js_fae222eb43"
            ],
            "text/plain": [
              "<IPython.core.display.Javascript object>"
            ]
          },
          "metadata": {}
        },
        {
          "output_type": "display_data",
          "data": {
            "application/javascript": [
              "window[\"3f717f1c-a025-11ec-918f-0242ac1c0002\"] = google.colab.output.setActiveOutputArea(window[\"3f56bc54-a025-11ec-918f-0242ac1c0002\"]);\n",
              "//# sourceURL=js_3c038aafab"
            ],
            "text/plain": [
              "<IPython.core.display.Javascript object>"
            ]
          },
          "metadata": {}
        },
        {
          "output_type": "display_data",
          "data": {
            "application/javascript": [
              "window[\"3f74041c-a025-11ec-918f-0242ac1c0002\"] = google.colab.output.getActiveOutputArea();\n",
              "//# sourceURL=js_619333bdcf"
            ],
            "text/plain": [
              "<IPython.core.display.Javascript object>"
            ]
          },
          "metadata": {}
        },
        {
          "output_type": "display_data",
          "data": {
            "application/javascript": [
              "window[\"3f7468a8-a025-11ec-918f-0242ac1c0002\"] = document.querySelector(\"#id104-0-0\");\n",
              "//# sourceURL=js_c61a6c0bc8"
            ],
            "text/plain": [
              "<IPython.core.display.Javascript object>"
            ]
          },
          "metadata": {}
        },
        {
          "output_type": "display_data",
          "data": {
            "application/javascript": [
              "window[\"3f74db9e-a025-11ec-918f-0242ac1c0002\"] = google.colab.output.setActiveOutputArea(window[\"3f7468a8-a025-11ec-918f-0242ac1c0002\"]);\n",
              "//# sourceURL=js_a9f89c70be"
            ],
            "text/plain": [
              "<IPython.core.display.Javascript object>"
            ]
          },
          "metadata": {}
        },
        {
          "output_type": "display_data",
          "data": {
            "application/javascript": [
              "window[\"3f8fef2e-a025-11ec-918f-0242ac1c0002\"] = google.colab.output.setActiveOutputArea(window[\"3f74041c-a025-11ec-918f-0242ac1c0002\"]);\n",
              "//# sourceURL=js_b22fff21ce"
            ],
            "text/plain": [
              "<IPython.core.display.Javascript object>"
            ]
          },
          "metadata": {}
        },
        {
          "output_type": "display_data",
          "data": {
            "application/javascript": [
              "window[\"3f926a2e-a025-11ec-918f-0242ac1c0002\"] = google.colab.output.getActiveOutputArea();\n",
              "//# sourceURL=js_b850a1a4c2"
            ],
            "text/plain": [
              "<IPython.core.display.Javascript object>"
            ]
          },
          "metadata": {}
        },
        {
          "output_type": "display_data",
          "data": {
            "application/javascript": [
              "window[\"3f92c686-a025-11ec-918f-0242ac1c0002\"] = document.querySelector(\"#id104-0-0\");\n",
              "//# sourceURL=js_29e55f4b7c"
            ],
            "text/plain": [
              "<IPython.core.display.Javascript object>"
            ]
          },
          "metadata": {}
        },
        {
          "output_type": "display_data",
          "data": {
            "application/javascript": [
              "window[\"3f93399a-a025-11ec-918f-0242ac1c0002\"] = google.colab.output.setActiveOutputArea(window[\"3f92c686-a025-11ec-918f-0242ac1c0002\"]);\n",
              "//# sourceURL=js_89793d902b"
            ],
            "text/plain": [
              "<IPython.core.display.Javascript object>"
            ]
          },
          "metadata": {}
        },
        {
          "output_type": "display_data",
          "data": {
            "application/javascript": [
              "window[\"3fad611c-a025-11ec-918f-0242ac1c0002\"] = google.colab.output.setActiveOutputArea(window[\"3f926a2e-a025-11ec-918f-0242ac1c0002\"]);\n",
              "//# sourceURL=js_3e5f0dda5d"
            ],
            "text/plain": [
              "<IPython.core.display.Javascript object>"
            ]
          },
          "metadata": {}
        },
        {
          "output_type": "display_data",
          "data": {
            "application/javascript": [
              "window[\"3fafc7e0-a025-11ec-918f-0242ac1c0002\"] = google.colab.output.getActiveOutputArea();\n",
              "//# sourceURL=js_f3e638e36e"
            ],
            "text/plain": [
              "<IPython.core.display.Javascript object>"
            ]
          },
          "metadata": {}
        },
        {
          "output_type": "display_data",
          "data": {
            "application/javascript": [
              "window[\"3fb03162-a025-11ec-918f-0242ac1c0002\"] = document.querySelector(\"#id104-0-0\");\n",
              "//# sourceURL=js_537feccbd4"
            ],
            "text/plain": [
              "<IPython.core.display.Javascript object>"
            ]
          },
          "metadata": {}
        },
        {
          "output_type": "display_data",
          "data": {
            "application/javascript": [
              "window[\"3fb0b786-a025-11ec-918f-0242ac1c0002\"] = google.colab.output.setActiveOutputArea(window[\"3fb03162-a025-11ec-918f-0242ac1c0002\"]);\n",
              "//# sourceURL=js_b7d5acb697"
            ],
            "text/plain": [
              "<IPython.core.display.Javascript object>"
            ]
          },
          "metadata": {}
        },
        {
          "output_type": "display_data",
          "data": {
            "application/javascript": [
              "window[\"3fc9fb9c-a025-11ec-918f-0242ac1c0002\"] = google.colab.output.setActiveOutputArea(window[\"3fafc7e0-a025-11ec-918f-0242ac1c0002\"]);\n",
              "//# sourceURL=js_b058aed1ba"
            ],
            "text/plain": [
              "<IPython.core.display.Javascript object>"
            ]
          },
          "metadata": {}
        },
        {
          "output_type": "display_data",
          "data": {
            "application/javascript": [
              "window[\"3fcc49a6-a025-11ec-918f-0242ac1c0002\"] = google.colab.output.getActiveOutputArea();\n",
              "//# sourceURL=js_d7fab04719"
            ],
            "text/plain": [
              "<IPython.core.display.Javascript object>"
            ]
          },
          "metadata": {}
        },
        {
          "output_type": "display_data",
          "data": {
            "application/javascript": [
              "window[\"3fccac20-a025-11ec-918f-0242ac1c0002\"] = document.querySelector(\"#id104-0-0\");\n",
              "//# sourceURL=js_457aa32e1f"
            ],
            "text/plain": [
              "<IPython.core.display.Javascript object>"
            ]
          },
          "metadata": {}
        },
        {
          "output_type": "display_data",
          "data": {
            "application/javascript": [
              "window[\"3fcd1304-a025-11ec-918f-0242ac1c0002\"] = google.colab.output.setActiveOutputArea(window[\"3fccac20-a025-11ec-918f-0242ac1c0002\"]);\n",
              "//# sourceURL=js_424ab81c4c"
            ],
            "text/plain": [
              "<IPython.core.display.Javascript object>"
            ]
          },
          "metadata": {}
        },
        {
          "output_type": "display_data",
          "data": {
            "application/javascript": [
              "window[\"3fe77924-a025-11ec-918f-0242ac1c0002\"] = google.colab.output.setActiveOutputArea(window[\"3fcc49a6-a025-11ec-918f-0242ac1c0002\"]);\n",
              "//# sourceURL=js_ccc9e7895a"
            ],
            "text/plain": [
              "<IPython.core.display.Javascript object>"
            ]
          },
          "metadata": {}
        },
        {
          "output_type": "display_data",
          "data": {
            "application/javascript": [
              "window[\"3fe9aad2-a025-11ec-918f-0242ac1c0002\"] = google.colab.output.getActiveOutputArea();\n",
              "//# sourceURL=js_6fdeaff55c"
            ],
            "text/plain": [
              "<IPython.core.display.Javascript object>"
            ]
          },
          "metadata": {}
        },
        {
          "output_type": "display_data",
          "data": {
            "application/javascript": [
              "window[\"3fea12e2-a025-11ec-918f-0242ac1c0002\"] = document.querySelector(\"#id104-0-0\");\n",
              "//# sourceURL=js_9a14115d1b"
            ],
            "text/plain": [
              "<IPython.core.display.Javascript object>"
            ]
          },
          "metadata": {}
        },
        {
          "output_type": "display_data",
          "data": {
            "application/javascript": [
              "window[\"3fea785e-a025-11ec-918f-0242ac1c0002\"] = google.colab.output.setActiveOutputArea(window[\"3fea12e2-a025-11ec-918f-0242ac1c0002\"]);\n",
              "//# sourceURL=js_0aff4f4fd0"
            ],
            "text/plain": [
              "<IPython.core.display.Javascript object>"
            ]
          },
          "metadata": {}
        },
        {
          "output_type": "display_data",
          "data": {
            "application/javascript": [
              "window[\"40061b22-a025-11ec-918f-0242ac1c0002\"] = google.colab.output.setActiveOutputArea(window[\"3fe9aad2-a025-11ec-918f-0242ac1c0002\"]);\n",
              "//# sourceURL=js_0e9966a58f"
            ],
            "text/plain": [
              "<IPython.core.display.Javascript object>"
            ]
          },
          "metadata": {}
        },
        {
          "output_type": "display_data",
          "data": {
            "application/javascript": [
              "window[\"4008b0ee-a025-11ec-918f-0242ac1c0002\"] = google.colab.output.getActiveOutputArea();\n",
              "//# sourceURL=js_5be3e593d7"
            ],
            "text/plain": [
              "<IPython.core.display.Javascript object>"
            ]
          },
          "metadata": {}
        },
        {
          "output_type": "display_data",
          "data": {
            "application/javascript": [
              "window[\"4009148a-a025-11ec-918f-0242ac1c0002\"] = document.querySelector(\"#id104-0-0\");\n",
              "//# sourceURL=js_c166c16af9"
            ],
            "text/plain": [
              "<IPython.core.display.Javascript object>"
            ]
          },
          "metadata": {}
        },
        {
          "output_type": "display_data",
          "data": {
            "application/javascript": [
              "window[\"40099928-a025-11ec-918f-0242ac1c0002\"] = google.colab.output.setActiveOutputArea(window[\"4009148a-a025-11ec-918f-0242ac1c0002\"]);\n",
              "//# sourceURL=js_af78543802"
            ],
            "text/plain": [
              "<IPython.core.display.Javascript object>"
            ]
          },
          "metadata": {}
        },
        {
          "output_type": "display_data",
          "data": {
            "application/javascript": [
              "window[\"4025bfcc-a025-11ec-918f-0242ac1c0002\"] = google.colab.output.setActiveOutputArea(window[\"4008b0ee-a025-11ec-918f-0242ac1c0002\"]);\n",
              "//# sourceURL=js_dab9b76c1c"
            ],
            "text/plain": [
              "<IPython.core.display.Javascript object>"
            ]
          },
          "metadata": {}
        },
        {
          "output_type": "display_data",
          "data": {
            "application/javascript": [
              "window[\"40284526-a025-11ec-918f-0242ac1c0002\"] = google.colab.output.getActiveOutputArea();\n",
              "//# sourceURL=js_4e83de9979"
            ],
            "text/plain": [
              "<IPython.core.display.Javascript object>"
            ]
          },
          "metadata": {}
        },
        {
          "output_type": "display_data",
          "data": {
            "application/javascript": [
              "window[\"4028b4c0-a025-11ec-918f-0242ac1c0002\"] = document.querySelector(\"#id104-0-0\");\n",
              "//# sourceURL=js_3389880659"
            ],
            "text/plain": [
              "<IPython.core.display.Javascript object>"
            ]
          },
          "metadata": {}
        },
        {
          "output_type": "display_data",
          "data": {
            "application/javascript": [
              "window[\"40294be2-a025-11ec-918f-0242ac1c0002\"] = google.colab.output.setActiveOutputArea(window[\"4028b4c0-a025-11ec-918f-0242ac1c0002\"]);\n",
              "//# sourceURL=js_adebc9191c"
            ],
            "text/plain": [
              "<IPython.core.display.Javascript object>"
            ]
          },
          "metadata": {}
        },
        {
          "output_type": "display_data",
          "data": {
            "application/javascript": [
              "window[\"404436be-a025-11ec-918f-0242ac1c0002\"] = google.colab.output.setActiveOutputArea(window[\"40284526-a025-11ec-918f-0242ac1c0002\"]);\n",
              "//# sourceURL=js_0e586984a5"
            ],
            "text/plain": [
              "<IPython.core.display.Javascript object>"
            ]
          },
          "metadata": {}
        },
        {
          "output_type": "display_data",
          "data": {
            "application/javascript": [
              "window[\"404722f2-a025-11ec-918f-0242ac1c0002\"] = google.colab.output.getActiveOutputArea();\n",
              "//# sourceURL=js_8f03d77ab0"
            ],
            "text/plain": [
              "<IPython.core.display.Javascript object>"
            ]
          },
          "metadata": {}
        },
        {
          "output_type": "display_data",
          "data": {
            "application/javascript": [
              "window[\"40477c66-a025-11ec-918f-0242ac1c0002\"] = document.querySelector(\"#id104-0-0\");\n",
              "//# sourceURL=js_3a7389a5c2"
            ],
            "text/plain": [
              "<IPython.core.display.Javascript object>"
            ]
          },
          "metadata": {}
        },
        {
          "output_type": "display_data",
          "data": {
            "application/javascript": [
              "window[\"4047c4c8-a025-11ec-918f-0242ac1c0002\"] = google.colab.output.setActiveOutputArea(window[\"40477c66-a025-11ec-918f-0242ac1c0002\"]);\n",
              "//# sourceURL=js_ba4025c5c5"
            ],
            "text/plain": [
              "<IPython.core.display.Javascript object>"
            ]
          },
          "metadata": {}
        },
        {
          "output_type": "display_data",
          "data": {
            "application/javascript": [
              "window[\"40628ace-a025-11ec-918f-0242ac1c0002\"] = google.colab.output.setActiveOutputArea(window[\"404722f2-a025-11ec-918f-0242ac1c0002\"]);\n",
              "//# sourceURL=js_e52eb895aa"
            ],
            "text/plain": [
              "<IPython.core.display.Javascript object>"
            ]
          },
          "metadata": {}
        },
        {
          "output_type": "display_data",
          "data": {
            "application/javascript": [
              "window[\"4064cbe0-a025-11ec-918f-0242ac1c0002\"] = google.colab.output.getActiveOutputArea();\n",
              "//# sourceURL=js_954f940cca"
            ],
            "text/plain": [
              "<IPython.core.display.Javascript object>"
            ]
          },
          "metadata": {}
        },
        {
          "output_type": "display_data",
          "data": {
            "application/javascript": [
              "window[\"406538b4-a025-11ec-918f-0242ac1c0002\"] = document.querySelector(\"#id104-0-0\");\n",
              "//# sourceURL=js_6a80b68c64"
            ],
            "text/plain": [
              "<IPython.core.display.Javascript object>"
            ]
          },
          "metadata": {}
        },
        {
          "output_type": "display_data",
          "data": {
            "application/javascript": [
              "window[\"40659d72-a025-11ec-918f-0242ac1c0002\"] = google.colab.output.setActiveOutputArea(window[\"406538b4-a025-11ec-918f-0242ac1c0002\"]);\n",
              "//# sourceURL=js_671f63b126"
            ],
            "text/plain": [
              "<IPython.core.display.Javascript object>"
            ]
          },
          "metadata": {}
        },
        {
          "output_type": "display_data",
          "data": {
            "application/javascript": [
              "window[\"407f2f44-a025-11ec-918f-0242ac1c0002\"] = google.colab.output.setActiveOutputArea(window[\"4064cbe0-a025-11ec-918f-0242ac1c0002\"]);\n",
              "//# sourceURL=js_1620845037"
            ],
            "text/plain": [
              "<IPython.core.display.Javascript object>"
            ]
          },
          "metadata": {}
        },
        {
          "output_type": "display_data",
          "data": {
            "application/javascript": [
              "window[\"40817006-a025-11ec-918f-0242ac1c0002\"] = google.colab.output.getActiveOutputArea();\n",
              "//# sourceURL=js_fd600265a0"
            ],
            "text/plain": [
              "<IPython.core.display.Javascript object>"
            ]
          },
          "metadata": {}
        },
        {
          "output_type": "display_data",
          "data": {
            "application/javascript": [
              "window[\"4081e310-a025-11ec-918f-0242ac1c0002\"] = document.querySelector(\"#id104-0-0\");\n",
              "//# sourceURL=js_502778bf70"
            ],
            "text/plain": [
              "<IPython.core.display.Javascript object>"
            ]
          },
          "metadata": {}
        },
        {
          "output_type": "display_data",
          "data": {
            "application/javascript": [
              "window[\"40825f34-a025-11ec-918f-0242ac1c0002\"] = google.colab.output.setActiveOutputArea(window[\"4081e310-a025-11ec-918f-0242ac1c0002\"]);\n",
              "//# sourceURL=js_3182e3524d"
            ],
            "text/plain": [
              "<IPython.core.display.Javascript object>"
            ]
          },
          "metadata": {}
        },
        {
          "output_type": "display_data",
          "data": {
            "application/javascript": [
              "window[\"409c6014-a025-11ec-918f-0242ac1c0002\"] = google.colab.output.setActiveOutputArea(window[\"40817006-a025-11ec-918f-0242ac1c0002\"]);\n",
              "//# sourceURL=js_8e621211ef"
            ],
            "text/plain": [
              "<IPython.core.display.Javascript object>"
            ]
          },
          "metadata": {}
        },
        {
          "output_type": "display_data",
          "data": {
            "application/javascript": [
              "window[\"409e9fb4-a025-11ec-918f-0242ac1c0002\"] = google.colab.output.getActiveOutputArea();\n",
              "//# sourceURL=js_b08ad91bdb"
            ],
            "text/plain": [
              "<IPython.core.display.Javascript object>"
            ]
          },
          "metadata": {}
        },
        {
          "output_type": "display_data",
          "data": {
            "application/javascript": [
              "window[\"409f060c-a025-11ec-918f-0242ac1c0002\"] = document.querySelector(\"#id104-0-0\");\n",
              "//# sourceURL=js_3fa5a74f6c"
            ],
            "text/plain": [
              "<IPython.core.display.Javascript object>"
            ]
          },
          "metadata": {}
        },
        {
          "output_type": "display_data",
          "data": {
            "application/javascript": [
              "window[\"40a03dec-a025-11ec-918f-0242ac1c0002\"] = google.colab.output.setActiveOutputArea(window[\"409f060c-a025-11ec-918f-0242ac1c0002\"]);\n",
              "//# sourceURL=js_3310a8ba09"
            ],
            "text/plain": [
              "<IPython.core.display.Javascript object>"
            ]
          },
          "metadata": {}
        },
        {
          "output_type": "display_data",
          "data": {
            "application/javascript": [
              "window[\"40b9dcca-a025-11ec-918f-0242ac1c0002\"] = google.colab.output.setActiveOutputArea(window[\"409e9fb4-a025-11ec-918f-0242ac1c0002\"]);\n",
              "//# sourceURL=js_110870c42b"
            ],
            "text/plain": [
              "<IPython.core.display.Javascript object>"
            ]
          },
          "metadata": {}
        },
        {
          "output_type": "display_data",
          "data": {
            "application/javascript": [
              "window[\"40bcd920-a025-11ec-918f-0242ac1c0002\"] = google.colab.output.getActiveOutputArea();\n",
              "//# sourceURL=js_93e2f18b4e"
            ],
            "text/plain": [
              "<IPython.core.display.Javascript object>"
            ]
          },
          "metadata": {}
        },
        {
          "output_type": "display_data",
          "data": {
            "application/javascript": [
              "window[\"40bd67d2-a025-11ec-918f-0242ac1c0002\"] = document.querySelector(\"#id104-0-0\");\n",
              "//# sourceURL=js_5f5f64ee72"
            ],
            "text/plain": [
              "<IPython.core.display.Javascript object>"
            ]
          },
          "metadata": {}
        },
        {
          "output_type": "display_data",
          "data": {
            "application/javascript": [
              "window[\"40bdcd3a-a025-11ec-918f-0242ac1c0002\"] = google.colab.output.setActiveOutputArea(window[\"40bd67d2-a025-11ec-918f-0242ac1c0002\"]);\n",
              "//# sourceURL=js_6475a7aedc"
            ],
            "text/plain": [
              "<IPython.core.display.Javascript object>"
            ]
          },
          "metadata": {}
        },
        {
          "output_type": "display_data",
          "data": {
            "application/javascript": [
              "window[\"40da6486-a025-11ec-918f-0242ac1c0002\"] = google.colab.output.setActiveOutputArea(window[\"40bcd920-a025-11ec-918f-0242ac1c0002\"]);\n",
              "//# sourceURL=js_17bde5675a"
            ],
            "text/plain": [
              "<IPython.core.display.Javascript object>"
            ]
          },
          "metadata": {}
        },
        {
          "output_type": "display_data",
          "data": {
            "application/javascript": [
              "window[\"40dca110-a025-11ec-918f-0242ac1c0002\"] = google.colab.output.getActiveOutputArea();\n",
              "//# sourceURL=js_ed7b0e6ef5"
            ],
            "text/plain": [
              "<IPython.core.display.Javascript object>"
            ]
          },
          "metadata": {}
        },
        {
          "output_type": "display_data",
          "data": {
            "application/javascript": [
              "window[\"40dd038a-a025-11ec-918f-0242ac1c0002\"] = document.querySelector(\"#id104-0-0\");\n",
              "//# sourceURL=js_33d371a7f3"
            ],
            "text/plain": [
              "<IPython.core.display.Javascript object>"
            ]
          },
          "metadata": {}
        },
        {
          "output_type": "display_data",
          "data": {
            "application/javascript": [
              "window[\"40dd6c1c-a025-11ec-918f-0242ac1c0002\"] = google.colab.output.setActiveOutputArea(window[\"40dd038a-a025-11ec-918f-0242ac1c0002\"]);\n",
              "//# sourceURL=js_a7c70bda8c"
            ],
            "text/plain": [
              "<IPython.core.display.Javascript object>"
            ]
          },
          "metadata": {}
        },
        {
          "output_type": "display_data",
          "data": {
            "application/javascript": [
              "window[\"40f75b9a-a025-11ec-918f-0242ac1c0002\"] = google.colab.output.setActiveOutputArea(window[\"40dca110-a025-11ec-918f-0242ac1c0002\"]);\n",
              "//# sourceURL=js_14523fe1f9"
            ],
            "text/plain": [
              "<IPython.core.display.Javascript object>"
            ]
          },
          "metadata": {}
        },
        {
          "output_type": "display_data",
          "data": {
            "application/javascript": [
              "window[\"40fa0980-a025-11ec-918f-0242ac1c0002\"] = google.colab.output.getActiveOutputArea();\n",
              "//# sourceURL=js_7199af8baa"
            ],
            "text/plain": [
              "<IPython.core.display.Javascript object>"
            ]
          },
          "metadata": {}
        },
        {
          "output_type": "display_data",
          "data": {
            "application/javascript": [
              "window[\"40fa7ffa-a025-11ec-918f-0242ac1c0002\"] = document.querySelector(\"#id104-0-0\");\n",
              "//# sourceURL=js_5cdbadb64c"
            ],
            "text/plain": [
              "<IPython.core.display.Javascript object>"
            ]
          },
          "metadata": {}
        },
        {
          "output_type": "display_data",
          "data": {
            "application/javascript": [
              "window[\"40fb1014-a025-11ec-918f-0242ac1c0002\"] = google.colab.output.setActiveOutputArea(window[\"40fa7ffa-a025-11ec-918f-0242ac1c0002\"]);\n",
              "//# sourceURL=js_4c95c56e41"
            ],
            "text/plain": [
              "<IPython.core.display.Javascript object>"
            ]
          },
          "metadata": {}
        },
        {
          "output_type": "display_data",
          "data": {
            "application/javascript": [
              "window[\"4114cc70-a025-11ec-918f-0242ac1c0002\"] = google.colab.output.setActiveOutputArea(window[\"40fa0980-a025-11ec-918f-0242ac1c0002\"]);\n",
              "//# sourceURL=js_3e9056dcf8"
            ],
            "text/plain": [
              "<IPython.core.display.Javascript object>"
            ]
          },
          "metadata": {}
        },
        {
          "output_type": "display_data",
          "data": {
            "application/javascript": [
              "window[\"411756d4-a025-11ec-918f-0242ac1c0002\"] = google.colab.output.getActiveOutputArea();\n",
              "//# sourceURL=js_d1bf753041"
            ],
            "text/plain": [
              "<IPython.core.display.Javascript object>"
            ]
          },
          "metadata": {}
        },
        {
          "output_type": "display_data",
          "data": {
            "application/javascript": [
              "window[\"4117ce84-a025-11ec-918f-0242ac1c0002\"] = document.querySelector(\"#id104-0-0\");\n",
              "//# sourceURL=js_8f1c17a4a0"
            ],
            "text/plain": [
              "<IPython.core.display.Javascript object>"
            ]
          },
          "metadata": {}
        },
        {
          "output_type": "display_data",
          "data": {
            "application/javascript": [
              "window[\"41184198-a025-11ec-918f-0242ac1c0002\"] = google.colab.output.setActiveOutputArea(window[\"4117ce84-a025-11ec-918f-0242ac1c0002\"]);\n",
              "//# sourceURL=js_f17b579d54"
            ],
            "text/plain": [
              "<IPython.core.display.Javascript object>"
            ]
          },
          "metadata": {}
        },
        {
          "output_type": "display_data",
          "data": {
            "application/javascript": [
              "window[\"4144d9ce-a025-11ec-918f-0242ac1c0002\"] = google.colab.output.setActiveOutputArea(window[\"411756d4-a025-11ec-918f-0242ac1c0002\"]);\n",
              "//# sourceURL=js_7c142e24a3"
            ],
            "text/plain": [
              "<IPython.core.display.Javascript object>"
            ]
          },
          "metadata": {}
        },
        {
          "output_type": "display_data",
          "data": {
            "application/javascript": [
              "window[\"4147a3ac-a025-11ec-918f-0242ac1c0002\"] = google.colab.output.getActiveOutputArea();\n",
              "//# sourceURL=js_f9e3f43bd7"
            ],
            "text/plain": [
              "<IPython.core.display.Javascript object>"
            ]
          },
          "metadata": {}
        },
        {
          "output_type": "display_data",
          "data": {
            "application/javascript": [
              "window[\"4147ee48-a025-11ec-918f-0242ac1c0002\"] = document.querySelector(\"#id104-0-0\");\n",
              "//# sourceURL=js_0afc3027ae"
            ],
            "text/plain": [
              "<IPython.core.display.Javascript object>"
            ]
          },
          "metadata": {}
        },
        {
          "output_type": "display_data",
          "data": {
            "application/javascript": [
              "window[\"41485ab8-a025-11ec-918f-0242ac1c0002\"] = google.colab.output.setActiveOutputArea(window[\"4147ee48-a025-11ec-918f-0242ac1c0002\"]);\n",
              "//# sourceURL=js_7f1293f3cb"
            ],
            "text/plain": [
              "<IPython.core.display.Javascript object>"
            ]
          },
          "metadata": {}
        },
        {
          "output_type": "display_data",
          "data": {
            "application/javascript": [
              "window[\"4163fa84-a025-11ec-918f-0242ac1c0002\"] = google.colab.output.setActiveOutputArea(window[\"4147a3ac-a025-11ec-918f-0242ac1c0002\"]);\n",
              "//# sourceURL=js_2a22a2637d"
            ],
            "text/plain": [
              "<IPython.core.display.Javascript object>"
            ]
          },
          "metadata": {}
        },
        {
          "output_type": "display_data",
          "data": {
            "application/javascript": [
              "window[\"41664e1a-a025-11ec-918f-0242ac1c0002\"] = google.colab.output.getActiveOutputArea();\n",
              "//# sourceURL=js_538222c260"
            ],
            "text/plain": [
              "<IPython.core.display.Javascript object>"
            ]
          },
          "metadata": {}
        },
        {
          "output_type": "display_data",
          "data": {
            "application/javascript": [
              "window[\"4166b51c-a025-11ec-918f-0242ac1c0002\"] = document.querySelector(\"#id104-0-0\");\n",
              "//# sourceURL=js_0d12aab0ed"
            ],
            "text/plain": [
              "<IPython.core.display.Javascript object>"
            ]
          },
          "metadata": {}
        },
        {
          "output_type": "display_data",
          "data": {
            "application/javascript": [
              "window[\"41670e9a-a025-11ec-918f-0242ac1c0002\"] = google.colab.output.setActiveOutputArea(window[\"4166b51c-a025-11ec-918f-0242ac1c0002\"]);\n",
              "//# sourceURL=js_6148712cef"
            ],
            "text/plain": [
              "<IPython.core.display.Javascript object>"
            ]
          },
          "metadata": {}
        },
        {
          "output_type": "display_data",
          "data": {
            "application/javascript": [
              "window[\"418089e2-a025-11ec-918f-0242ac1c0002\"] = google.colab.output.setActiveOutputArea(window[\"41664e1a-a025-11ec-918f-0242ac1c0002\"]);\n",
              "//# sourceURL=js_dd3414ba52"
            ],
            "text/plain": [
              "<IPython.core.display.Javascript object>"
            ]
          },
          "metadata": {}
        },
        {
          "output_type": "display_data",
          "data": {
            "application/javascript": [
              "window[\"4182d9ea-a025-11ec-918f-0242ac1c0002\"] = google.colab.output.getActiveOutputArea();\n",
              "//# sourceURL=js_f327a1426d"
            ],
            "text/plain": [
              "<IPython.core.display.Javascript object>"
            ]
          },
          "metadata": {}
        },
        {
          "output_type": "display_data",
          "data": {
            "application/javascript": [
              "window[\"41834cae-a025-11ec-918f-0242ac1c0002\"] = document.querySelector(\"#id104-0-0\");\n",
              "//# sourceURL=js_da34767591"
            ],
            "text/plain": [
              "<IPython.core.display.Javascript object>"
            ]
          },
          "metadata": {}
        },
        {
          "output_type": "display_data",
          "data": {
            "application/javascript": [
              "window[\"4183a30c-a025-11ec-918f-0242ac1c0002\"] = google.colab.output.setActiveOutputArea(window[\"41834cae-a025-11ec-918f-0242ac1c0002\"]);\n",
              "//# sourceURL=js_c82dfcf251"
            ],
            "text/plain": [
              "<IPython.core.display.Javascript object>"
            ]
          },
          "metadata": {}
        },
        {
          "output_type": "display_data",
          "data": {
            "application/javascript": [
              "window[\"419e92e8-a025-11ec-918f-0242ac1c0002\"] = google.colab.output.setActiveOutputArea(window[\"4182d9ea-a025-11ec-918f-0242ac1c0002\"]);\n",
              "//# sourceURL=js_6ce96b316f"
            ],
            "text/plain": [
              "<IPython.core.display.Javascript object>"
            ]
          },
          "metadata": {}
        },
        {
          "output_type": "display_data",
          "data": {
            "application/javascript": [
              "window[\"41a0c46e-a025-11ec-918f-0242ac1c0002\"] = google.colab.output.getActiveOutputArea();\n",
              "//# sourceURL=js_5e83ecea63"
            ],
            "text/plain": [
              "<IPython.core.display.Javascript object>"
            ]
          },
          "metadata": {}
        },
        {
          "output_type": "display_data",
          "data": {
            "application/javascript": [
              "window[\"41a128dc-a025-11ec-918f-0242ac1c0002\"] = document.querySelector(\"#id104-0-0\");\n",
              "//# sourceURL=js_7a1b5e866f"
            ],
            "text/plain": [
              "<IPython.core.display.Javascript object>"
            ]
          },
          "metadata": {}
        },
        {
          "output_type": "display_data",
          "data": {
            "application/javascript": [
              "window[\"41a18d7c-a025-11ec-918f-0242ac1c0002\"] = google.colab.output.setActiveOutputArea(window[\"41a128dc-a025-11ec-918f-0242ac1c0002\"]);\n",
              "//# sourceURL=js_6cd87ef4a4"
            ],
            "text/plain": [
              "<IPython.core.display.Javascript object>"
            ]
          },
          "metadata": {}
        },
        {
          "output_type": "display_data",
          "data": {
            "application/javascript": [
              "window[\"41bc1570-a025-11ec-918f-0242ac1c0002\"] = google.colab.output.setActiveOutputArea(window[\"41a0c46e-a025-11ec-918f-0242ac1c0002\"]);\n",
              "//# sourceURL=js_da94fe8214"
            ],
            "text/plain": [
              "<IPython.core.display.Javascript object>"
            ]
          },
          "metadata": {}
        },
        {
          "output_type": "display_data",
          "data": {
            "application/javascript": [
              "window[\"41be538a-a025-11ec-918f-0242ac1c0002\"] = google.colab.output.getActiveOutputArea();\n",
              "//# sourceURL=js_79b7d7c04f"
            ],
            "text/plain": [
              "<IPython.core.display.Javascript object>"
            ]
          },
          "metadata": {}
        },
        {
          "output_type": "display_data",
          "data": {
            "application/javascript": [
              "window[\"41beb85c-a025-11ec-918f-0242ac1c0002\"] = document.querySelector(\"#id104-0-0\");\n",
              "//# sourceURL=js_6ffc996758"
            ],
            "text/plain": [
              "<IPython.core.display.Javascript object>"
            ]
          },
          "metadata": {}
        },
        {
          "output_type": "display_data",
          "data": {
            "application/javascript": [
              "window[\"41bf1be4-a025-11ec-918f-0242ac1c0002\"] = google.colab.output.setActiveOutputArea(window[\"41beb85c-a025-11ec-918f-0242ac1c0002\"]);\n",
              "//# sourceURL=js_c777ec54b0"
            ],
            "text/plain": [
              "<IPython.core.display.Javascript object>"
            ]
          },
          "metadata": {}
        },
        {
          "output_type": "display_data",
          "data": {
            "application/javascript": [
              "window[\"41da01e8-a025-11ec-918f-0242ac1c0002\"] = google.colab.output.setActiveOutputArea(window[\"41be538a-a025-11ec-918f-0242ac1c0002\"]);\n",
              "//# sourceURL=js_89a0e695b4"
            ],
            "text/plain": [
              "<IPython.core.display.Javascript object>"
            ]
          },
          "metadata": {}
        },
        {
          "output_type": "display_data",
          "data": {
            "application/javascript": [
              "window[\"41dcf006-a025-11ec-918f-0242ac1c0002\"] = google.colab.output.getActiveOutputArea();\n",
              "//# sourceURL=js_89ad7d7567"
            ],
            "text/plain": [
              "<IPython.core.display.Javascript object>"
            ]
          },
          "metadata": {}
        },
        {
          "output_type": "display_data",
          "data": {
            "application/javascript": [
              "window[\"41dd6a7c-a025-11ec-918f-0242ac1c0002\"] = document.querySelector(\"#id104-0-0\");\n",
              "//# sourceURL=js_1e7f5dd54b"
            ],
            "text/plain": [
              "<IPython.core.display.Javascript object>"
            ]
          },
          "metadata": {}
        },
        {
          "output_type": "display_data",
          "data": {
            "application/javascript": [
              "window[\"41ddcd32-a025-11ec-918f-0242ac1c0002\"] = google.colab.output.setActiveOutputArea(window[\"41dd6a7c-a025-11ec-918f-0242ac1c0002\"]);\n",
              "//# sourceURL=js_50fcd9a4b4"
            ],
            "text/plain": [
              "<IPython.core.display.Javascript object>"
            ]
          },
          "metadata": {}
        },
        {
          "output_type": "display_data",
          "data": {
            "application/javascript": [
              "window[\"41f8df5a-a025-11ec-918f-0242ac1c0002\"] = google.colab.output.setActiveOutputArea(window[\"41dcf006-a025-11ec-918f-0242ac1c0002\"]);\n",
              "//# sourceURL=js_8a0bac97f4"
            ],
            "text/plain": [
              "<IPython.core.display.Javascript object>"
            ]
          },
          "metadata": {}
        },
        {
          "output_type": "display_data",
          "data": {
            "application/javascript": [
              "window[\"41fb672a-a025-11ec-918f-0242ac1c0002\"] = google.colab.output.getActiveOutputArea();\n",
              "//# sourceURL=js_d7e9a25c56"
            ],
            "text/plain": [
              "<IPython.core.display.Javascript object>"
            ]
          },
          "metadata": {}
        },
        {
          "output_type": "display_data",
          "data": {
            "application/javascript": [
              "window[\"41fbc63e-a025-11ec-918f-0242ac1c0002\"] = document.querySelector(\"#id104-0-0\");\n",
              "//# sourceURL=js_b5b8dcdc96"
            ],
            "text/plain": [
              "<IPython.core.display.Javascript object>"
            ]
          },
          "metadata": {}
        },
        {
          "output_type": "display_data",
          "data": {
            "application/javascript": [
              "window[\"41fc2822-a025-11ec-918f-0242ac1c0002\"] = google.colab.output.setActiveOutputArea(window[\"41fbc63e-a025-11ec-918f-0242ac1c0002\"]);\n",
              "//# sourceURL=js_f446de7732"
            ],
            "text/plain": [
              "<IPython.core.display.Javascript object>"
            ]
          },
          "metadata": {}
        },
        {
          "output_type": "display_data",
          "data": {
            "application/javascript": [
              "window[\"4216c5e2-a025-11ec-918f-0242ac1c0002\"] = google.colab.output.setActiveOutputArea(window[\"41fb672a-a025-11ec-918f-0242ac1c0002\"]);\n",
              "//# sourceURL=js_27617ae9f0"
            ],
            "text/plain": [
              "<IPython.core.display.Javascript object>"
            ]
          },
          "metadata": {}
        },
        {
          "output_type": "display_data",
          "data": {
            "application/javascript": [
              "window[\"42190d16-a025-11ec-918f-0242ac1c0002\"] = google.colab.output.getActiveOutputArea();\n",
              "//# sourceURL=js_7c8eff20e8"
            ],
            "text/plain": [
              "<IPython.core.display.Javascript object>"
            ]
          },
          "metadata": {}
        },
        {
          "output_type": "display_data",
          "data": {
            "application/javascript": [
              "window[\"42196f72-a025-11ec-918f-0242ac1c0002\"] = document.querySelector(\"#id104-0-0\");\n",
              "//# sourceURL=js_55681cfeac"
            ],
            "text/plain": [
              "<IPython.core.display.Javascript object>"
            ]
          },
          "metadata": {}
        },
        {
          "output_type": "display_data",
          "data": {
            "application/javascript": [
              "window[\"4219d2fa-a025-11ec-918f-0242ac1c0002\"] = google.colab.output.setActiveOutputArea(window[\"42196f72-a025-11ec-918f-0242ac1c0002\"]);\n",
              "//# sourceURL=js_4a938ae1a5"
            ],
            "text/plain": [
              "<IPython.core.display.Javascript object>"
            ]
          },
          "metadata": {}
        },
        {
          "output_type": "display_data",
          "data": {
            "application/javascript": [
              "window[\"4233e56e-a025-11ec-918f-0242ac1c0002\"] = google.colab.output.setActiveOutputArea(window[\"42190d16-a025-11ec-918f-0242ac1c0002\"]);\n",
              "//# sourceURL=js_9391e4d3d1"
            ],
            "text/plain": [
              "<IPython.core.display.Javascript object>"
            ]
          },
          "metadata": {}
        },
        {
          "output_type": "display_data",
          "data": {
            "application/javascript": [
              "window[\"42361078-a025-11ec-918f-0242ac1c0002\"] = google.colab.output.getActiveOutputArea();\n",
              "//# sourceURL=js_9a77a47114"
            ],
            "text/plain": [
              "<IPython.core.display.Javascript object>"
            ]
          },
          "metadata": {}
        },
        {
          "output_type": "display_data",
          "data": {
            "application/javascript": [
              "window[\"42367144-a025-11ec-918f-0242ac1c0002\"] = document.querySelector(\"#id104-0-0\");\n",
              "//# sourceURL=js_322ebc22a1"
            ],
            "text/plain": [
              "<IPython.core.display.Javascript object>"
            ]
          },
          "metadata": {}
        },
        {
          "output_type": "display_data",
          "data": {
            "application/javascript": [
              "window[\"4236d454-a025-11ec-918f-0242ac1c0002\"] = google.colab.output.setActiveOutputArea(window[\"42367144-a025-11ec-918f-0242ac1c0002\"]);\n",
              "//# sourceURL=js_51c93906f5"
            ],
            "text/plain": [
              "<IPython.core.display.Javascript object>"
            ]
          },
          "metadata": {}
        },
        {
          "output_type": "display_data",
          "data": {
            "application/javascript": [
              "window[\"42569906-a025-11ec-918f-0242ac1c0002\"] = google.colab.output.setActiveOutputArea(window[\"42361078-a025-11ec-918f-0242ac1c0002\"]);\n",
              "//# sourceURL=js_3c0b17d376"
            ],
            "text/plain": [
              "<IPython.core.display.Javascript object>"
            ]
          },
          "metadata": {}
        },
        {
          "output_type": "display_data",
          "data": {
            "application/javascript": [
              "window[\"42595e52-a025-11ec-918f-0242ac1c0002\"] = google.colab.output.getActiveOutputArea();\n",
              "//# sourceURL=js_ed87f88787"
            ],
            "text/plain": [
              "<IPython.core.display.Javascript object>"
            ]
          },
          "metadata": {}
        },
        {
          "output_type": "display_data",
          "data": {
            "application/javascript": [
              "window[\"4259eac0-a025-11ec-918f-0242ac1c0002\"] = document.querySelector(\"#id104-0-0\");\n",
              "//# sourceURL=js_e77b261ef0"
            ],
            "text/plain": [
              "<IPython.core.display.Javascript object>"
            ]
          },
          "metadata": {}
        },
        {
          "output_type": "display_data",
          "data": {
            "application/javascript": [
              "window[\"425a61da-a025-11ec-918f-0242ac1c0002\"] = google.colab.output.setActiveOutputArea(window[\"4259eac0-a025-11ec-918f-0242ac1c0002\"]);\n",
              "//# sourceURL=js_5d72565050"
            ],
            "text/plain": [
              "<IPython.core.display.Javascript object>"
            ]
          },
          "metadata": {}
        },
        {
          "output_type": "display_data",
          "data": {
            "application/javascript": [
              "window[\"4274e8b6-a025-11ec-918f-0242ac1c0002\"] = google.colab.output.setActiveOutputArea(window[\"42595e52-a025-11ec-918f-0242ac1c0002\"]);\n",
              "//# sourceURL=js_b8f95d5ce4"
            ],
            "text/plain": [
              "<IPython.core.display.Javascript object>"
            ]
          },
          "metadata": {}
        },
        {
          "output_type": "display_data",
          "data": {
            "application/javascript": [
              "window[\"427756f0-a025-11ec-918f-0242ac1c0002\"] = google.colab.output.getActiveOutputArea();\n",
              "//# sourceURL=js_4179090342"
            ],
            "text/plain": [
              "<IPython.core.display.Javascript object>"
            ]
          },
          "metadata": {}
        },
        {
          "output_type": "display_data",
          "data": {
            "application/javascript": [
              "window[\"4277c464-a025-11ec-918f-0242ac1c0002\"] = document.querySelector(\"#id104-0-0\");\n",
              "//# sourceURL=js_098d2ed982"
            ],
            "text/plain": [
              "<IPython.core.display.Javascript object>"
            ]
          },
          "metadata": {}
        },
        {
          "output_type": "display_data",
          "data": {
            "application/javascript": [
              "window[\"4278286e-a025-11ec-918f-0242ac1c0002\"] = google.colab.output.setActiveOutputArea(window[\"4277c464-a025-11ec-918f-0242ac1c0002\"]);\n",
              "//# sourceURL=js_89a8a6de47"
            ],
            "text/plain": [
              "<IPython.core.display.Javascript object>"
            ]
          },
          "metadata": {}
        },
        {
          "output_type": "display_data",
          "data": {
            "application/javascript": [
              "window[\"4292e500-a025-11ec-918f-0242ac1c0002\"] = google.colab.output.setActiveOutputArea(window[\"427756f0-a025-11ec-918f-0242ac1c0002\"]);\n",
              "//# sourceURL=js_3c2d69cbcd"
            ],
            "text/plain": [
              "<IPython.core.display.Javascript object>"
            ]
          },
          "metadata": {}
        },
        {
          "output_type": "display_data",
          "data": {
            "application/javascript": [
              "window[\"4295e322-a025-11ec-918f-0242ac1c0002\"] = google.colab.output.getActiveOutputArea();\n",
              "//# sourceURL=js_1742a3a46a"
            ],
            "text/plain": [
              "<IPython.core.display.Javascript object>"
            ]
          },
          "metadata": {}
        },
        {
          "output_type": "display_data",
          "data": {
            "application/javascript": [
              "window[\"42965384-a025-11ec-918f-0242ac1c0002\"] = document.querySelector(\"#id104-0-0\");\n",
              "//# sourceURL=js_411d158c3b"
            ],
            "text/plain": [
              "<IPython.core.display.Javascript object>"
            ]
          },
          "metadata": {}
        },
        {
          "output_type": "display_data",
          "data": {
            "application/javascript": [
              "window[\"4296e90c-a025-11ec-918f-0242ac1c0002\"] = google.colab.output.setActiveOutputArea(window[\"42965384-a025-11ec-918f-0242ac1c0002\"]);\n",
              "//# sourceURL=js_b50f36632e"
            ],
            "text/plain": [
              "<IPython.core.display.Javascript object>"
            ]
          },
          "metadata": {}
        },
        {
          "output_type": "display_data",
          "data": {
            "application/javascript": [
              "window[\"42b65378-a025-11ec-918f-0242ac1c0002\"] = google.colab.output.setActiveOutputArea(window[\"4295e322-a025-11ec-918f-0242ac1c0002\"]);\n",
              "//# sourceURL=js_5838aea45d"
            ],
            "text/plain": [
              "<IPython.core.display.Javascript object>"
            ]
          },
          "metadata": {}
        },
        {
          "output_type": "display_data",
          "data": {
            "application/javascript": [
              "window[\"42bacb9c-a025-11ec-918f-0242ac1c0002\"] = google.colab.output.getActiveOutputArea();\n",
              "//# sourceURL=js_685ea11c99"
            ],
            "text/plain": [
              "<IPython.core.display.Javascript object>"
            ]
          },
          "metadata": {}
        },
        {
          "output_type": "display_data",
          "data": {
            "application/javascript": [
              "window[\"42bc0e76-a025-11ec-918f-0242ac1c0002\"] = document.querySelector(\"#id104-0-0\");\n",
              "//# sourceURL=js_b78d8372f0"
            ],
            "text/plain": [
              "<IPython.core.display.Javascript object>"
            ]
          },
          "metadata": {}
        },
        {
          "output_type": "display_data",
          "data": {
            "application/javascript": [
              "window[\"42bc7082-a025-11ec-918f-0242ac1c0002\"] = google.colab.output.setActiveOutputArea(window[\"42bc0e76-a025-11ec-918f-0242ac1c0002\"]);\n",
              "//# sourceURL=js_becbb5dc15"
            ],
            "text/plain": [
              "<IPython.core.display.Javascript object>"
            ]
          },
          "metadata": {}
        },
        {
          "output_type": "display_data",
          "data": {
            "application/javascript": [
              "window[\"42d91d22-a025-11ec-918f-0242ac1c0002\"] = google.colab.output.setActiveOutputArea(window[\"42bacb9c-a025-11ec-918f-0242ac1c0002\"]);\n",
              "//# sourceURL=js_fb887805fe"
            ],
            "text/plain": [
              "<IPython.core.display.Javascript object>"
            ]
          },
          "metadata": {}
        },
        {
          "output_type": "display_data",
          "data": {
            "application/javascript": [
              "window[\"42dbc324-a025-11ec-918f-0242ac1c0002\"] = google.colab.output.getActiveOutputArea();\n",
              "//# sourceURL=js_530804fa66"
            ],
            "text/plain": [
              "<IPython.core.display.Javascript object>"
            ]
          },
          "metadata": {}
        },
        {
          "output_type": "display_data",
          "data": {
            "application/javascript": [
              "window[\"42dc25b2-a025-11ec-918f-0242ac1c0002\"] = document.querySelector(\"#id104-0-0\");\n",
              "//# sourceURL=js_aee32857af"
            ],
            "text/plain": [
              "<IPython.core.display.Javascript object>"
            ]
          },
          "metadata": {}
        },
        {
          "output_type": "display_data",
          "data": {
            "application/javascript": [
              "window[\"42dc7256-a025-11ec-918f-0242ac1c0002\"] = google.colab.output.setActiveOutputArea(window[\"42dc25b2-a025-11ec-918f-0242ac1c0002\"]);\n",
              "//# sourceURL=js_5f3d94c5d1"
            ],
            "text/plain": [
              "<IPython.core.display.Javascript object>"
            ]
          },
          "metadata": {}
        },
        {
          "output_type": "display_data",
          "data": {
            "application/javascript": [
              "window[\"42f68b8c-a025-11ec-918f-0242ac1c0002\"] = google.colab.output.setActiveOutputArea(window[\"42dbc324-a025-11ec-918f-0242ac1c0002\"]);\n",
              "//# sourceURL=js_cb473f94fb"
            ],
            "text/plain": [
              "<IPython.core.display.Javascript object>"
            ]
          },
          "metadata": {}
        },
        {
          "output_type": "display_data",
          "data": {
            "application/javascript": [
              "window[\"42f8b34e-a025-11ec-918f-0242ac1c0002\"] = google.colab.output.getActiveOutputArea();\n",
              "//# sourceURL=js_a8a832851d"
            ],
            "text/plain": [
              "<IPython.core.display.Javascript object>"
            ]
          },
          "metadata": {}
        },
        {
          "output_type": "display_data",
          "data": {
            "application/javascript": [
              "window[\"42f911a4-a025-11ec-918f-0242ac1c0002\"] = document.querySelector(\"#id104-0-0\");\n",
              "//# sourceURL=js_bd778873c8"
            ],
            "text/plain": [
              "<IPython.core.display.Javascript object>"
            ]
          },
          "metadata": {}
        },
        {
          "output_type": "display_data",
          "data": {
            "application/javascript": [
              "window[\"42f974aa-a025-11ec-918f-0242ac1c0002\"] = google.colab.output.setActiveOutputArea(window[\"42f911a4-a025-11ec-918f-0242ac1c0002\"]);\n",
              "//# sourceURL=js_5d98222b5b"
            ],
            "text/plain": [
              "<IPython.core.display.Javascript object>"
            ]
          },
          "metadata": {}
        },
        {
          "output_type": "display_data",
          "data": {
            "application/javascript": [
              "window[\"4315ac42-a025-11ec-918f-0242ac1c0002\"] = google.colab.output.setActiveOutputArea(window[\"42f8b34e-a025-11ec-918f-0242ac1c0002\"]);\n",
              "//# sourceURL=js_3ad69ceb6a"
            ],
            "text/plain": [
              "<IPython.core.display.Javascript object>"
            ]
          },
          "metadata": {}
        },
        {
          "output_type": "display_data",
          "data": {
            "application/javascript": [
              "window[\"431abd54-a025-11ec-918f-0242ac1c0002\"] = google.colab.output.getActiveOutputArea();\n",
              "//# sourceURL=js_c6c75f772b"
            ],
            "text/plain": [
              "<IPython.core.display.Javascript object>"
            ]
          },
          "metadata": {}
        },
        {
          "output_type": "display_data",
          "data": {
            "application/javascript": [
              "window[\"431b456c-a025-11ec-918f-0242ac1c0002\"] = document.querySelector(\"#id104-0-0\");\n",
              "//# sourceURL=js_2d66cbbc11"
            ],
            "text/plain": [
              "<IPython.core.display.Javascript object>"
            ]
          },
          "metadata": {}
        },
        {
          "output_type": "display_data",
          "data": {
            "application/javascript": [
              "window[\"431be6c0-a025-11ec-918f-0242ac1c0002\"] = google.colab.output.setActiveOutputArea(window[\"431b456c-a025-11ec-918f-0242ac1c0002\"]);\n",
              "//# sourceURL=js_1b950e5063"
            ],
            "text/plain": [
              "<IPython.core.display.Javascript object>"
            ]
          },
          "metadata": {}
        },
        {
          "output_type": "display_data",
          "data": {
            "application/javascript": [
              "window[\"434a7bde-a025-11ec-918f-0242ac1c0002\"] = google.colab.output.setActiveOutputArea(window[\"431abd54-a025-11ec-918f-0242ac1c0002\"]);\n",
              "//# sourceURL=js_3115ca9b7d"
            ],
            "text/plain": [
              "<IPython.core.display.Javascript object>"
            ]
          },
          "metadata": {}
        },
        {
          "output_type": "display_data",
          "data": {
            "application/javascript": [
              "window[\"434c98f6-a025-11ec-918f-0242ac1c0002\"] = google.colab.output.getActiveOutputArea();\n",
              "//# sourceURL=js_e1570beee6"
            ],
            "text/plain": [
              "<IPython.core.display.Javascript object>"
            ]
          },
          "metadata": {}
        },
        {
          "output_type": "display_data",
          "data": {
            "application/javascript": [
              "window[\"434ce5c2-a025-11ec-918f-0242ac1c0002\"] = document.querySelector(\"#id104-0-0\");\n",
              "//# sourceURL=js_5ac083aaa0"
            ],
            "text/plain": [
              "<IPython.core.display.Javascript object>"
            ]
          },
          "metadata": {}
        },
        {
          "output_type": "display_data",
          "data": {
            "application/javascript": [
              "window[\"434d3a54-a025-11ec-918f-0242ac1c0002\"] = google.colab.output.setActiveOutputArea(window[\"434ce5c2-a025-11ec-918f-0242ac1c0002\"]);\n",
              "//# sourceURL=js_95dc914366"
            ],
            "text/plain": [
              "<IPython.core.display.Javascript object>"
            ]
          },
          "metadata": {}
        },
        {
          "output_type": "display_data",
          "data": {
            "application/javascript": [
              "window[\"4368f9e2-a025-11ec-918f-0242ac1c0002\"] = google.colab.output.setActiveOutputArea(window[\"434c98f6-a025-11ec-918f-0242ac1c0002\"]);\n",
              "//# sourceURL=js_23ae752a26"
            ],
            "text/plain": [
              "<IPython.core.display.Javascript object>"
            ]
          },
          "metadata": {}
        },
        {
          "output_type": "display_data",
          "data": {
            "application/javascript": [
              "window[\"436bcc1c-a025-11ec-918f-0242ac1c0002\"] = google.colab.output.getActiveOutputArea();\n",
              "//# sourceURL=js_534f583d03"
            ],
            "text/plain": [
              "<IPython.core.display.Javascript object>"
            ]
          },
          "metadata": {}
        },
        {
          "output_type": "display_data",
          "data": {
            "application/javascript": [
              "window[\"436d0b72-a025-11ec-918f-0242ac1c0002\"] = document.querySelector(\"#id104-0-0\");\n",
              "//# sourceURL=js_d519cbee52"
            ],
            "text/plain": [
              "<IPython.core.display.Javascript object>"
            ]
          },
          "metadata": {}
        },
        {
          "output_type": "display_data",
          "data": {
            "application/javascript": [
              "window[\"436d79c2-a025-11ec-918f-0242ac1c0002\"] = google.colab.output.setActiveOutputArea(window[\"436d0b72-a025-11ec-918f-0242ac1c0002\"]);\n",
              "//# sourceURL=js_3ff6f9fbe6"
            ],
            "text/plain": [
              "<IPython.core.display.Javascript object>"
            ]
          },
          "metadata": {}
        },
        {
          "output_type": "display_data",
          "data": {
            "application/javascript": [
              "window[\"43884144-a025-11ec-918f-0242ac1c0002\"] = google.colab.output.setActiveOutputArea(window[\"436bcc1c-a025-11ec-918f-0242ac1c0002\"]);\n",
              "//# sourceURL=js_e6568abf1b"
            ],
            "text/plain": [
              "<IPython.core.display.Javascript object>"
            ]
          },
          "metadata": {}
        },
        {
          "output_type": "display_data",
          "data": {
            "application/javascript": [
              "window[\"438ada8a-a025-11ec-918f-0242ac1c0002\"] = google.colab.output.getActiveOutputArea();\n",
              "//# sourceURL=js_1a55b771f8"
            ],
            "text/plain": [
              "<IPython.core.display.Javascript object>"
            ]
          },
          "metadata": {}
        },
        {
          "output_type": "display_data",
          "data": {
            "application/javascript": [
              "window[\"438b708a-a025-11ec-918f-0242ac1c0002\"] = document.querySelector(\"#id104-0-0\");\n",
              "//# sourceURL=js_216f7e6468"
            ],
            "text/plain": [
              "<IPython.core.display.Javascript object>"
            ]
          },
          "metadata": {}
        },
        {
          "output_type": "display_data",
          "data": {
            "application/javascript": [
              "window[\"438be65a-a025-11ec-918f-0242ac1c0002\"] = google.colab.output.setActiveOutputArea(window[\"438b708a-a025-11ec-918f-0242ac1c0002\"]);\n",
              "//# sourceURL=js_e3664beed8"
            ],
            "text/plain": [
              "<IPython.core.display.Javascript object>"
            ]
          },
          "metadata": {}
        },
        {
          "output_type": "display_data",
          "data": {
            "application/javascript": [
              "window[\"43a7e2c4-a025-11ec-918f-0242ac1c0002\"] = google.colab.output.setActiveOutputArea(window[\"438ada8a-a025-11ec-918f-0242ac1c0002\"]);\n",
              "//# sourceURL=js_61fa5f5ebc"
            ],
            "text/plain": [
              "<IPython.core.display.Javascript object>"
            ]
          },
          "metadata": {}
        },
        {
          "output_type": "display_data",
          "data": {
            "application/javascript": [
              "window[\"43aa40aa-a025-11ec-918f-0242ac1c0002\"] = google.colab.output.getActiveOutputArea();\n",
              "//# sourceURL=js_3618987949"
            ],
            "text/plain": [
              "<IPython.core.display.Javascript object>"
            ]
          },
          "metadata": {}
        },
        {
          "output_type": "display_data",
          "data": {
            "application/javascript": [
              "window[\"43aaa270-a025-11ec-918f-0242ac1c0002\"] = document.querySelector(\"#id104-0-0\");\n",
              "//# sourceURL=js_07a82a3b0d"
            ],
            "text/plain": [
              "<IPython.core.display.Javascript object>"
            ]
          },
          "metadata": {}
        },
        {
          "output_type": "display_data",
          "data": {
            "application/javascript": [
              "window[\"43aafde2-a025-11ec-918f-0242ac1c0002\"] = google.colab.output.setActiveOutputArea(window[\"43aaa270-a025-11ec-918f-0242ac1c0002\"]);\n",
              "//# sourceURL=js_e8d31e8fd5"
            ],
            "text/plain": [
              "<IPython.core.display.Javascript object>"
            ]
          },
          "metadata": {}
        },
        {
          "output_type": "display_data",
          "data": {
            "application/javascript": [
              "window[\"43c73e6c-a025-11ec-918f-0242ac1c0002\"] = google.colab.output.setActiveOutputArea(window[\"43aa40aa-a025-11ec-918f-0242ac1c0002\"]);\n",
              "//# sourceURL=js_a78288d429"
            ],
            "text/plain": [
              "<IPython.core.display.Javascript object>"
            ]
          },
          "metadata": {}
        },
        {
          "output_type": "display_data",
          "data": {
            "application/javascript": [
              "window[\"43c9b368-a025-11ec-918f-0242ac1c0002\"] = google.colab.output.getActiveOutputArea();\n",
              "//# sourceURL=js_e2c27f6633"
            ],
            "text/plain": [
              "<IPython.core.display.Javascript object>"
            ]
          },
          "metadata": {}
        },
        {
          "output_type": "display_data",
          "data": {
            "application/javascript": [
              "window[\"43ca1ee8-a025-11ec-918f-0242ac1c0002\"] = document.querySelector(\"#id104-0-0\");\n",
              "//# sourceURL=js_bbedbbbcab"
            ],
            "text/plain": [
              "<IPython.core.display.Javascript object>"
            ]
          },
          "metadata": {}
        },
        {
          "output_type": "display_data",
          "data": {
            "application/javascript": [
              "window[\"43ca82ac-a025-11ec-918f-0242ac1c0002\"] = google.colab.output.setActiveOutputArea(window[\"43ca1ee8-a025-11ec-918f-0242ac1c0002\"]);\n",
              "//# sourceURL=js_f899723b5d"
            ],
            "text/plain": [
              "<IPython.core.display.Javascript object>"
            ]
          },
          "metadata": {}
        },
        {
          "output_type": "display_data",
          "data": {
            "application/javascript": [
              "window[\"43e6d6dc-a025-11ec-918f-0242ac1c0002\"] = google.colab.output.setActiveOutputArea(window[\"43c9b368-a025-11ec-918f-0242ac1c0002\"]);\n",
              "//# sourceURL=js_75b2bdce14"
            ],
            "text/plain": [
              "<IPython.core.display.Javascript object>"
            ]
          },
          "metadata": {}
        },
        {
          "output_type": "display_data",
          "data": {
            "application/javascript": [
              "window[\"43e99250-a025-11ec-918f-0242ac1c0002\"] = google.colab.output.getActiveOutputArea();\n",
              "//# sourceURL=js_91e72dd5cf"
            ],
            "text/plain": [
              "<IPython.core.display.Javascript object>"
            ]
          },
          "metadata": {}
        },
        {
          "output_type": "display_data",
          "data": {
            "application/javascript": [
              "window[\"43ea01fe-a025-11ec-918f-0242ac1c0002\"] = document.querySelector(\"#id104-0-0\");\n",
              "//# sourceURL=js_d72f4a9ff4"
            ],
            "text/plain": [
              "<IPython.core.display.Javascript object>"
            ]
          },
          "metadata": {}
        },
        {
          "output_type": "display_data",
          "data": {
            "application/javascript": [
              "window[\"43ea71b6-a025-11ec-918f-0242ac1c0002\"] = google.colab.output.setActiveOutputArea(window[\"43ea01fe-a025-11ec-918f-0242ac1c0002\"]);\n",
              "//# sourceURL=js_b9de9684eb"
            ],
            "text/plain": [
              "<IPython.core.display.Javascript object>"
            ]
          },
          "metadata": {}
        },
        {
          "output_type": "display_data",
          "data": {
            "application/javascript": [
              "window[\"4404fab8-a025-11ec-918f-0242ac1c0002\"] = google.colab.output.setActiveOutputArea(window[\"43e99250-a025-11ec-918f-0242ac1c0002\"]);\n",
              "//# sourceURL=js_4bb0109686"
            ],
            "text/plain": [
              "<IPython.core.display.Javascript object>"
            ]
          },
          "metadata": {}
        },
        {
          "output_type": "display_data",
          "data": {
            "application/javascript": [
              "window[\"44084d1c-a025-11ec-918f-0242ac1c0002\"] = google.colab.output.getActiveOutputArea();\n",
              "//# sourceURL=js_4510c71de9"
            ],
            "text/plain": [
              "<IPython.core.display.Javascript object>"
            ]
          },
          "metadata": {}
        },
        {
          "output_type": "display_data",
          "data": {
            "application/javascript": [
              "window[\"4408b72a-a025-11ec-918f-0242ac1c0002\"] = document.querySelector(\"#id104-0-0\");\n",
              "//# sourceURL=js_64bd35de80"
            ],
            "text/plain": [
              "<IPython.core.display.Javascript object>"
            ]
          },
          "metadata": {}
        },
        {
          "output_type": "display_data",
          "data": {
            "application/javascript": [
              "window[\"44091cc4-a025-11ec-918f-0242ac1c0002\"] = google.colab.output.setActiveOutputArea(window[\"4408b72a-a025-11ec-918f-0242ac1c0002\"]);\n",
              "//# sourceURL=js_c5a8eaeb82"
            ],
            "text/plain": [
              "<IPython.core.display.Javascript object>"
            ]
          },
          "metadata": {}
        },
        {
          "output_type": "display_data",
          "data": {
            "application/javascript": [
              "window[\"4425f2d6-a025-11ec-918f-0242ac1c0002\"] = google.colab.output.setActiveOutputArea(window[\"44084d1c-a025-11ec-918f-0242ac1c0002\"]);\n",
              "//# sourceURL=js_dbc5a913c8"
            ],
            "text/plain": [
              "<IPython.core.display.Javascript object>"
            ]
          },
          "metadata": {}
        },
        {
          "output_type": "display_data",
          "data": {
            "application/javascript": [
              "window[\"44286368-a025-11ec-918f-0242ac1c0002\"] = google.colab.output.getActiveOutputArea();\n",
              "//# sourceURL=js_8efa491e62"
            ],
            "text/plain": [
              "<IPython.core.display.Javascript object>"
            ]
          },
          "metadata": {}
        },
        {
          "output_type": "display_data",
          "data": {
            "application/javascript": [
              "window[\"4428c510-a025-11ec-918f-0242ac1c0002\"] = document.querySelector(\"#id104-0-0\");\n",
              "//# sourceURL=js_13864d7281"
            ],
            "text/plain": [
              "<IPython.core.display.Javascript object>"
            ]
          },
          "metadata": {}
        },
        {
          "output_type": "display_data",
          "data": {
            "application/javascript": [
              "window[\"44292708-a025-11ec-918f-0242ac1c0002\"] = google.colab.output.setActiveOutputArea(window[\"4428c510-a025-11ec-918f-0242ac1c0002\"]);\n",
              "//# sourceURL=js_19beda70f1"
            ],
            "text/plain": [
              "<IPython.core.display.Javascript object>"
            ]
          },
          "metadata": {}
        },
        {
          "output_type": "display_data",
          "data": {
            "application/javascript": [
              "window[\"44442bfc-a025-11ec-918f-0242ac1c0002\"] = google.colab.output.setActiveOutputArea(window[\"44286368-a025-11ec-918f-0242ac1c0002\"]);\n",
              "//# sourceURL=js_e5dc0943bd"
            ],
            "text/plain": [
              "<IPython.core.display.Javascript object>"
            ]
          },
          "metadata": {}
        },
        {
          "output_type": "display_data",
          "data": {
            "application/javascript": [
              "window[\"44465df0-a025-11ec-918f-0242ac1c0002\"] = google.colab.output.getActiveOutputArea();\n",
              "//# sourceURL=js_a9150541fc"
            ],
            "text/plain": [
              "<IPython.core.display.Javascript object>"
            ]
          },
          "metadata": {}
        },
        {
          "output_type": "display_data",
          "data": {
            "application/javascript": [
              "window[\"4446c20e-a025-11ec-918f-0242ac1c0002\"] = document.querySelector(\"#id104-0-0\");\n",
              "//# sourceURL=js_b2e8a4a630"
            ],
            "text/plain": [
              "<IPython.core.display.Javascript object>"
            ]
          },
          "metadata": {}
        },
        {
          "output_type": "display_data",
          "data": {
            "application/javascript": [
              "window[\"44471ed4-a025-11ec-918f-0242ac1c0002\"] = google.colab.output.setActiveOutputArea(window[\"4446c20e-a025-11ec-918f-0242ac1c0002\"]);\n",
              "//# sourceURL=js_14650f31bf"
            ],
            "text/plain": [
              "<IPython.core.display.Javascript object>"
            ]
          },
          "metadata": {}
        },
        {
          "output_type": "display_data",
          "data": {
            "application/javascript": [
              "window[\"44630bda-a025-11ec-918f-0242ac1c0002\"] = google.colab.output.setActiveOutputArea(window[\"44465df0-a025-11ec-918f-0242ac1c0002\"]);\n",
              "//# sourceURL=js_58d4e05b1c"
            ],
            "text/plain": [
              "<IPython.core.display.Javascript object>"
            ]
          },
          "metadata": {}
        },
        {
          "output_type": "display_data",
          "data": {
            "application/javascript": [
              "window[\"44653612-a025-11ec-918f-0242ac1c0002\"] = google.colab.output.getActiveOutputArea();\n",
              "//# sourceURL=js_a1b8fdf1e3"
            ],
            "text/plain": [
              "<IPython.core.display.Javascript object>"
            ]
          },
          "metadata": {}
        },
        {
          "output_type": "display_data",
          "data": {
            "application/javascript": [
              "window[\"44659440-a025-11ec-918f-0242ac1c0002\"] = document.querySelector(\"#id104-0-0\");\n",
              "//# sourceURL=js_ca158f4d34"
            ],
            "text/plain": [
              "<IPython.core.display.Javascript object>"
            ]
          },
          "metadata": {}
        },
        {
          "output_type": "display_data",
          "data": {
            "application/javascript": [
              "window[\"4465ff16-a025-11ec-918f-0242ac1c0002\"] = google.colab.output.setActiveOutputArea(window[\"44659440-a025-11ec-918f-0242ac1c0002\"]);\n",
              "//# sourceURL=js_fb1bc76a01"
            ],
            "text/plain": [
              "<IPython.core.display.Javascript object>"
            ]
          },
          "metadata": {}
        },
        {
          "output_type": "display_data",
          "data": {
            "application/javascript": [
              "window[\"4485aa1e-a025-11ec-918f-0242ac1c0002\"] = google.colab.output.setActiveOutputArea(window[\"44653612-a025-11ec-918f-0242ac1c0002\"]);\n",
              "//# sourceURL=js_84e3c9f759"
            ],
            "text/plain": [
              "<IPython.core.display.Javascript object>"
            ]
          },
          "metadata": {}
        },
        {
          "output_type": "display_data",
          "data": {
            "application/javascript": [
              "window[\"4487ded8-a025-11ec-918f-0242ac1c0002\"] = google.colab.output.getActiveOutputArea();\n",
              "//# sourceURL=js_55308c42c7"
            ],
            "text/plain": [
              "<IPython.core.display.Javascript object>"
            ]
          },
          "metadata": {}
        },
        {
          "output_type": "display_data",
          "data": {
            "application/javascript": [
              "window[\"44884364-a025-11ec-918f-0242ac1c0002\"] = document.querySelector(\"#id104-0-0\");\n",
              "//# sourceURL=js_ceec048322"
            ],
            "text/plain": [
              "<IPython.core.display.Javascript object>"
            ]
          },
          "metadata": {}
        },
        {
          "output_type": "display_data",
          "data": {
            "application/javascript": [
              "window[\"4488a930-a025-11ec-918f-0242ac1c0002\"] = google.colab.output.setActiveOutputArea(window[\"44884364-a025-11ec-918f-0242ac1c0002\"]);\n",
              "//# sourceURL=js_daef2aea8e"
            ],
            "text/plain": [
              "<IPython.core.display.Javascript object>"
            ]
          },
          "metadata": {}
        },
        {
          "output_type": "display_data",
          "data": {
            "application/javascript": [
              "window[\"44a386ba-a025-11ec-918f-0242ac1c0002\"] = google.colab.output.setActiveOutputArea(window[\"4487ded8-a025-11ec-918f-0242ac1c0002\"]);\n",
              "//# sourceURL=js_14399fc734"
            ],
            "text/plain": [
              "<IPython.core.display.Javascript object>"
            ]
          },
          "metadata": {}
        },
        {
          "output_type": "display_data",
          "data": {
            "application/javascript": [
              "window[\"44a5b6c4-a025-11ec-918f-0242ac1c0002\"] = google.colab.output.getActiveOutputArea();\n",
              "//# sourceURL=js_58b7bcc748"
            ],
            "text/plain": [
              "<IPython.core.display.Javascript object>"
            ]
          },
          "metadata": {}
        },
        {
          "output_type": "display_data",
          "data": {
            "application/javascript": [
              "window[\"44a61998-a025-11ec-918f-0242ac1c0002\"] = document.querySelector(\"#id104-0-0\");\n",
              "//# sourceURL=js_cb6d429236"
            ],
            "text/plain": [
              "<IPython.core.display.Javascript object>"
            ]
          },
          "metadata": {}
        },
        {
          "output_type": "display_data",
          "data": {
            "application/javascript": [
              "window[\"44a682ac-a025-11ec-918f-0242ac1c0002\"] = google.colab.output.setActiveOutputArea(window[\"44a61998-a025-11ec-918f-0242ac1c0002\"]);\n",
              "//# sourceURL=js_d8e040b1b6"
            ],
            "text/plain": [
              "<IPython.core.display.Javascript object>"
            ]
          },
          "metadata": {}
        },
        {
          "output_type": "display_data",
          "data": {
            "application/javascript": [
              "window[\"44c3c902-a025-11ec-918f-0242ac1c0002\"] = google.colab.output.setActiveOutputArea(window[\"44a5b6c4-a025-11ec-918f-0242ac1c0002\"]);\n",
              "//# sourceURL=js_9e5e4a8961"
            ],
            "text/plain": [
              "<IPython.core.display.Javascript object>"
            ]
          },
          "metadata": {}
        },
        {
          "output_type": "display_data",
          "data": {
            "application/javascript": [
              "window[\"44c5fb96-a025-11ec-918f-0242ac1c0002\"] = google.colab.output.getActiveOutputArea();\n",
              "//# sourceURL=js_cfc44fe58b"
            ],
            "text/plain": [
              "<IPython.core.display.Javascript object>"
            ]
          },
          "metadata": {}
        },
        {
          "output_type": "display_data",
          "data": {
            "application/javascript": [
              "window[\"44c6604a-a025-11ec-918f-0242ac1c0002\"] = document.querySelector(\"#id104-0-0\");\n",
              "//# sourceURL=js_7342788c97"
            ],
            "text/plain": [
              "<IPython.core.display.Javascript object>"
            ]
          },
          "metadata": {}
        },
        {
          "output_type": "display_data",
          "data": {
            "application/javascript": [
              "window[\"44c6bfcc-a025-11ec-918f-0242ac1c0002\"] = google.colab.output.setActiveOutputArea(window[\"44c6604a-a025-11ec-918f-0242ac1c0002\"]);\n",
              "//# sourceURL=js_0bfda84edb"
            ],
            "text/plain": [
              "<IPython.core.display.Javascript object>"
            ]
          },
          "metadata": {}
        },
        {
          "output_type": "display_data",
          "data": {
            "application/javascript": [
              "window[\"44e20f84-a025-11ec-918f-0242ac1c0002\"] = google.colab.output.setActiveOutputArea(window[\"44c5fb96-a025-11ec-918f-0242ac1c0002\"]);\n",
              "//# sourceURL=js_fc1071e94a"
            ],
            "text/plain": [
              "<IPython.core.display.Javascript object>"
            ]
          },
          "metadata": {}
        },
        {
          "output_type": "display_data",
          "data": {
            "application/javascript": [
              "window[\"44e4481c-a025-11ec-918f-0242ac1c0002\"] = google.colab.output.getActiveOutputArea();\n",
              "//# sourceURL=js_a3ec76523a"
            ],
            "text/plain": [
              "<IPython.core.display.Javascript object>"
            ]
          },
          "metadata": {}
        },
        {
          "output_type": "display_data",
          "data": {
            "application/javascript": [
              "window[\"44e4a870-a025-11ec-918f-0242ac1c0002\"] = document.querySelector(\"#id104-0-0\");\n",
              "//# sourceURL=js_2f4b253dd3"
            ],
            "text/plain": [
              "<IPython.core.display.Javascript object>"
            ]
          },
          "metadata": {}
        },
        {
          "output_type": "display_data",
          "data": {
            "application/javascript": [
              "window[\"44e5091e-a025-11ec-918f-0242ac1c0002\"] = google.colab.output.setActiveOutputArea(window[\"44e4a870-a025-11ec-918f-0242ac1c0002\"]);\n",
              "//# sourceURL=js_1fa9393542"
            ],
            "text/plain": [
              "<IPython.core.display.Javascript object>"
            ]
          },
          "metadata": {}
        },
        {
          "output_type": "display_data",
          "data": {
            "application/javascript": [
              "window[\"45006768-a025-11ec-918f-0242ac1c0002\"] = google.colab.output.setActiveOutputArea(window[\"44e4481c-a025-11ec-918f-0242ac1c0002\"]);\n",
              "//# sourceURL=js_fd11fac232"
            ],
            "text/plain": [
              "<IPython.core.display.Javascript object>"
            ]
          },
          "metadata": {}
        },
        {
          "output_type": "display_data",
          "data": {
            "application/javascript": [
              "window[\"45029772-a025-11ec-918f-0242ac1c0002\"] = google.colab.output.getActiveOutputArea();\n",
              "//# sourceURL=js_847d74a88b"
            ],
            "text/plain": [
              "<IPython.core.display.Javascript object>"
            ]
          },
          "metadata": {}
        },
        {
          "output_type": "display_data",
          "data": {
            "application/javascript": [
              "window[\"4502fd52-a025-11ec-918f-0242ac1c0002\"] = document.querySelector(\"#id104-0-0\");\n",
              "//# sourceURL=js_00b8cb1109"
            ],
            "text/plain": [
              "<IPython.core.display.Javascript object>"
            ]
          },
          "metadata": {}
        },
        {
          "output_type": "display_data",
          "data": {
            "application/javascript": [
              "window[\"45035acc-a025-11ec-918f-0242ac1c0002\"] = google.colab.output.setActiveOutputArea(window[\"4502fd52-a025-11ec-918f-0242ac1c0002\"]);\n",
              "//# sourceURL=js_8a26d1981e"
            ],
            "text/plain": [
              "<IPython.core.display.Javascript object>"
            ]
          },
          "metadata": {}
        },
        {
          "output_type": "display_data",
          "data": {
            "application/javascript": [
              "window[\"451fd198-a025-11ec-918f-0242ac1c0002\"] = google.colab.output.setActiveOutputArea(window[\"45029772-a025-11ec-918f-0242ac1c0002\"]);\n",
              "//# sourceURL=js_99cf60280b"
            ],
            "text/plain": [
              "<IPython.core.display.Javascript object>"
            ]
          },
          "metadata": {}
        },
        {
          "output_type": "display_data",
          "data": {
            "application/javascript": [
              "window[\"4522580a-a025-11ec-918f-0242ac1c0002\"] = google.colab.output.getActiveOutputArea();\n",
              "//# sourceURL=js_0b8838a0d0"
            ],
            "text/plain": [
              "<IPython.core.display.Javascript object>"
            ]
          },
          "metadata": {}
        },
        {
          "output_type": "display_data",
          "data": {
            "application/javascript": [
              "window[\"4522bbc4-a025-11ec-918f-0242ac1c0002\"] = document.querySelector(\"#id104-0-0\");\n",
              "//# sourceURL=js_112f159d7b"
            ],
            "text/plain": [
              "<IPython.core.display.Javascript object>"
            ]
          },
          "metadata": {}
        },
        {
          "output_type": "display_data",
          "data": {
            "application/javascript": [
              "window[\"45231fce-a025-11ec-918f-0242ac1c0002\"] = google.colab.output.setActiveOutputArea(window[\"4522bbc4-a025-11ec-918f-0242ac1c0002\"]);\n",
              "//# sourceURL=js_ba0e089325"
            ],
            "text/plain": [
              "<IPython.core.display.Javascript object>"
            ]
          },
          "metadata": {}
        },
        {
          "output_type": "display_data",
          "data": {
            "application/javascript": [
              "window[\"454f7466-a025-11ec-918f-0242ac1c0002\"] = google.colab.output.setActiveOutputArea(window[\"4522580a-a025-11ec-918f-0242ac1c0002\"]);\n",
              "//# sourceURL=js_9558867925"
            ],
            "text/plain": [
              "<IPython.core.display.Javascript object>"
            ]
          },
          "metadata": {}
        },
        {
          "output_type": "display_data",
          "data": {
            "application/javascript": [
              "window[\"4551ae70-a025-11ec-918f-0242ac1c0002\"] = google.colab.output.getActiveOutputArea();\n",
              "//# sourceURL=js_4f6a4e6ed0"
            ],
            "text/plain": [
              "<IPython.core.display.Javascript object>"
            ]
          },
          "metadata": {}
        },
        {
          "output_type": "display_data",
          "data": {
            "application/javascript": [
              "window[\"4552109a-a025-11ec-918f-0242ac1c0002\"] = document.querySelector(\"#id104-0-0\");\n",
              "//# sourceURL=js_1800d4d2e3"
            ],
            "text/plain": [
              "<IPython.core.display.Javascript object>"
            ]
          },
          "metadata": {}
        },
        {
          "output_type": "display_data",
          "data": {
            "application/javascript": [
              "window[\"45527cd8-a025-11ec-918f-0242ac1c0002\"] = google.colab.output.setActiveOutputArea(window[\"4552109a-a025-11ec-918f-0242ac1c0002\"]);\n",
              "//# sourceURL=js_a759e34d1e"
            ],
            "text/plain": [
              "<IPython.core.display.Javascript object>"
            ]
          },
          "metadata": {}
        },
        {
          "output_type": "display_data",
          "data": {
            "application/javascript": [
              "window[\"456e200a-a025-11ec-918f-0242ac1c0002\"] = google.colab.output.setActiveOutputArea(window[\"4551ae70-a025-11ec-918f-0242ac1c0002\"]);\n",
              "//# sourceURL=js_0cf27258bb"
            ],
            "text/plain": [
              "<IPython.core.display.Javascript object>"
            ]
          },
          "metadata": {}
        },
        {
          "output_type": "display_data",
          "data": {
            "application/javascript": [
              "window[\"45705ce4-a025-11ec-918f-0242ac1c0002\"] = google.colab.output.getActiveOutputArea();\n",
              "//# sourceURL=js_8807e0109d"
            ],
            "text/plain": [
              "<IPython.core.display.Javascript object>"
            ]
          },
          "metadata": {}
        },
        {
          "output_type": "display_data",
          "data": {
            "application/javascript": [
              "window[\"4570c526-a025-11ec-918f-0242ac1c0002\"] = document.querySelector(\"#id104-0-0\");\n",
              "//# sourceURL=js_5aa1cd5864"
            ],
            "text/plain": [
              "<IPython.core.display.Javascript object>"
            ]
          },
          "metadata": {}
        },
        {
          "output_type": "display_data",
          "data": {
            "application/javascript": [
              "window[\"457123fe-a025-11ec-918f-0242ac1c0002\"] = google.colab.output.setActiveOutputArea(window[\"4570c526-a025-11ec-918f-0242ac1c0002\"]);\n",
              "//# sourceURL=js_c3e11f8cea"
            ],
            "text/plain": [
              "<IPython.core.display.Javascript object>"
            ]
          },
          "metadata": {}
        },
        {
          "output_type": "display_data",
          "data": {
            "application/javascript": [
              "window[\"458d25ae-a025-11ec-918f-0242ac1c0002\"] = google.colab.output.setActiveOutputArea(window[\"45705ce4-a025-11ec-918f-0242ac1c0002\"]);\n",
              "//# sourceURL=js_fa3ef55d87"
            ],
            "text/plain": [
              "<IPython.core.display.Javascript object>"
            ]
          },
          "metadata": {}
        },
        {
          "output_type": "display_data",
          "data": {
            "application/javascript": [
              "window[\"458f5568-a025-11ec-918f-0242ac1c0002\"] = google.colab.output.getActiveOutputArea();\n",
              "//# sourceURL=js_da6d3a5eb6"
            ],
            "text/plain": [
              "<IPython.core.display.Javascript object>"
            ]
          },
          "metadata": {}
        },
        {
          "output_type": "display_data",
          "data": {
            "application/javascript": [
              "window[\"458fb9b8-a025-11ec-918f-0242ac1c0002\"] = document.querySelector(\"#id104-0-0\");\n",
              "//# sourceURL=js_e11f948f45"
            ],
            "text/plain": [
              "<IPython.core.display.Javascript object>"
            ]
          },
          "metadata": {}
        },
        {
          "output_type": "display_data",
          "data": {
            "application/javascript": [
              "window[\"45902024-a025-11ec-918f-0242ac1c0002\"] = google.colab.output.setActiveOutputArea(window[\"458fb9b8-a025-11ec-918f-0242ac1c0002\"]);\n",
              "//# sourceURL=js_04d2f53053"
            ],
            "text/plain": [
              "<IPython.core.display.Javascript object>"
            ]
          },
          "metadata": {}
        },
        {
          "output_type": "display_data",
          "data": {
            "application/javascript": [
              "window[\"45ac41c8-a025-11ec-918f-0242ac1c0002\"] = google.colab.output.setActiveOutputArea(window[\"458f5568-a025-11ec-918f-0242ac1c0002\"]);\n",
              "//# sourceURL=js_b521ac5fcc"
            ],
            "text/plain": [
              "<IPython.core.display.Javascript object>"
            ]
          },
          "metadata": {}
        },
        {
          "output_type": "display_data",
          "data": {
            "application/javascript": [
              "window[\"45ae757e-a025-11ec-918f-0242ac1c0002\"] = google.colab.output.getActiveOutputArea();\n",
              "//# sourceURL=js_4d221968e5"
            ],
            "text/plain": [
              "<IPython.core.display.Javascript object>"
            ]
          },
          "metadata": {}
        },
        {
          "output_type": "display_data",
          "data": {
            "application/javascript": [
              "window[\"45aedb86-a025-11ec-918f-0242ac1c0002\"] = document.querySelector(\"#id104-0-0\");\n",
              "//# sourceURL=js_4e4a133d89"
            ],
            "text/plain": [
              "<IPython.core.display.Javascript object>"
            ]
          },
          "metadata": {}
        },
        {
          "output_type": "display_data",
          "data": {
            "application/javascript": [
              "window[\"45af4f76-a025-11ec-918f-0242ac1c0002\"] = google.colab.output.setActiveOutputArea(window[\"45aedb86-a025-11ec-918f-0242ac1c0002\"]);\n",
              "//# sourceURL=js_46b99bf905"
            ],
            "text/plain": [
              "<IPython.core.display.Javascript object>"
            ]
          },
          "metadata": {}
        },
        {
          "output_type": "display_data",
          "data": {
            "application/javascript": [
              "window[\"45ccda28-a025-11ec-918f-0242ac1c0002\"] = google.colab.output.setActiveOutputArea(window[\"45ae757e-a025-11ec-918f-0242ac1c0002\"]);\n",
              "//# sourceURL=js_8a6e848062"
            ],
            "text/plain": [
              "<IPython.core.display.Javascript object>"
            ]
          },
          "metadata": {}
        },
        {
          "output_type": "display_data",
          "data": {
            "application/javascript": [
              "window[\"45cf082a-a025-11ec-918f-0242ac1c0002\"] = google.colab.output.getActiveOutputArea();\n",
              "//# sourceURL=js_b6d2ae4dfe"
            ],
            "text/plain": [
              "<IPython.core.display.Javascript object>"
            ]
          },
          "metadata": {}
        },
        {
          "output_type": "display_data",
          "data": {
            "application/javascript": [
              "window[\"45cf6d92-a025-11ec-918f-0242ac1c0002\"] = document.querySelector(\"#id104-0-0\");\n",
              "//# sourceURL=js_c47cf0a209"
            ],
            "text/plain": [
              "<IPython.core.display.Javascript object>"
            ]
          },
          "metadata": {}
        },
        {
          "output_type": "display_data",
          "data": {
            "application/javascript": [
              "window[\"45cfd07a-a025-11ec-918f-0242ac1c0002\"] = google.colab.output.setActiveOutputArea(window[\"45cf6d92-a025-11ec-918f-0242ac1c0002\"]);\n",
              "//# sourceURL=js_bbd8949bc0"
            ],
            "text/plain": [
              "<IPython.core.display.Javascript object>"
            ]
          },
          "metadata": {}
        },
        {
          "output_type": "display_data",
          "data": {
            "application/javascript": [
              "window[\"45ebc064-a025-11ec-918f-0242ac1c0002\"] = google.colab.output.setActiveOutputArea(window[\"45cf082a-a025-11ec-918f-0242ac1c0002\"]);\n",
              "//# sourceURL=js_3c2fc78a7d"
            ],
            "text/plain": [
              "<IPython.core.display.Javascript object>"
            ]
          },
          "metadata": {}
        },
        {
          "output_type": "display_data",
          "data": {
            "application/javascript": [
              "window[\"45edfee2-a025-11ec-918f-0242ac1c0002\"] = google.colab.output.getActiveOutputArea();\n",
              "//# sourceURL=js_385591ae89"
            ],
            "text/plain": [
              "<IPython.core.display.Javascript object>"
            ]
          },
          "metadata": {}
        },
        {
          "output_type": "display_data",
          "data": {
            "application/javascript": [
              "window[\"45ee76ba-a025-11ec-918f-0242ac1c0002\"] = document.querySelector(\"#id104-0-0\");\n",
              "//# sourceURL=js_e7e2bce0cb"
            ],
            "text/plain": [
              "<IPython.core.display.Javascript object>"
            ]
          },
          "metadata": {}
        },
        {
          "output_type": "display_data",
          "data": {
            "application/javascript": [
              "window[\"45eedd26-a025-11ec-918f-0242ac1c0002\"] = google.colab.output.setActiveOutputArea(window[\"45ee76ba-a025-11ec-918f-0242ac1c0002\"]);\n",
              "//# sourceURL=js_ed109e786f"
            ],
            "text/plain": [
              "<IPython.core.display.Javascript object>"
            ]
          },
          "metadata": {}
        },
        {
          "output_type": "display_data",
          "data": {
            "application/javascript": [
              "window[\"460cd308-a025-11ec-918f-0242ac1c0002\"] = google.colab.output.setActiveOutputArea(window[\"45edfee2-a025-11ec-918f-0242ac1c0002\"]);\n",
              "//# sourceURL=js_e766574a5f"
            ],
            "text/plain": [
              "<IPython.core.display.Javascript object>"
            ]
          },
          "metadata": {}
        },
        {
          "output_type": "display_data",
          "data": {
            "application/javascript": [
              "window[\"460f0cf4-a025-11ec-918f-0242ac1c0002\"] = google.colab.output.getActiveOutputArea();\n",
              "//# sourceURL=js_89f65fe080"
            ],
            "text/plain": [
              "<IPython.core.display.Javascript object>"
            ]
          },
          "metadata": {}
        },
        {
          "output_type": "display_data",
          "data": {
            "application/javascript": [
              "window[\"460f8008-a025-11ec-918f-0242ac1c0002\"] = document.querySelector(\"#id104-0-0\");\n",
              "//# sourceURL=js_52cbec92e7"
            ],
            "text/plain": [
              "<IPython.core.display.Javascript object>"
            ]
          },
          "metadata": {}
        },
        {
          "output_type": "display_data",
          "data": {
            "application/javascript": [
              "window[\"460fd2f6-a025-11ec-918f-0242ac1c0002\"] = google.colab.output.setActiveOutputArea(window[\"460f8008-a025-11ec-918f-0242ac1c0002\"]);\n",
              "//# sourceURL=js_60ceca26a5"
            ],
            "text/plain": [
              "<IPython.core.display.Javascript object>"
            ]
          },
          "metadata": {}
        },
        {
          "output_type": "display_data",
          "data": {
            "application/javascript": [
              "window[\"462b5f44-a025-11ec-918f-0242ac1c0002\"] = google.colab.output.setActiveOutputArea(window[\"460f0cf4-a025-11ec-918f-0242ac1c0002\"]);\n",
              "//# sourceURL=js_1ef3205084"
            ],
            "text/plain": [
              "<IPython.core.display.Javascript object>"
            ]
          },
          "metadata": {}
        },
        {
          "output_type": "display_data",
          "data": {
            "application/javascript": [
              "window[\"462da1c8-a025-11ec-918f-0242ac1c0002\"] = google.colab.output.getActiveOutputArea();\n",
              "//# sourceURL=js_a2e32914ff"
            ],
            "text/plain": [
              "<IPython.core.display.Javascript object>"
            ]
          },
          "metadata": {}
        },
        {
          "output_type": "display_data",
          "data": {
            "application/javascript": [
              "window[\"462e08b6-a025-11ec-918f-0242ac1c0002\"] = document.querySelector(\"#id104-0-0\");\n",
              "//# sourceURL=js_c5b5668e6e"
            ],
            "text/plain": [
              "<IPython.core.display.Javascript object>"
            ]
          },
          "metadata": {}
        },
        {
          "output_type": "display_data",
          "data": {
            "application/javascript": [
              "window[\"462e7a30-a025-11ec-918f-0242ac1c0002\"] = google.colab.output.setActiveOutputArea(window[\"462e08b6-a025-11ec-918f-0242ac1c0002\"]);\n",
              "//# sourceURL=js_be165840b8"
            ],
            "text/plain": [
              "<IPython.core.display.Javascript object>"
            ]
          },
          "metadata": {}
        },
        {
          "output_type": "display_data",
          "data": {
            "application/javascript": [
              "window[\"464b7126-a025-11ec-918f-0242ac1c0002\"] = google.colab.output.setActiveOutputArea(window[\"462da1c8-a025-11ec-918f-0242ac1c0002\"]);\n",
              "//# sourceURL=js_cd4c52562e"
            ],
            "text/plain": [
              "<IPython.core.display.Javascript object>"
            ]
          },
          "metadata": {}
        },
        {
          "output_type": "display_data",
          "data": {
            "application/javascript": [
              "window[\"465008d0-a025-11ec-918f-0242ac1c0002\"] = google.colab.output.getActiveOutputArea();\n",
              "//# sourceURL=js_f1ff9a6e4f"
            ],
            "text/plain": [
              "<IPython.core.display.Javascript object>"
            ]
          },
          "metadata": {}
        },
        {
          "output_type": "display_data",
          "data": {
            "application/javascript": [
              "window[\"46505d58-a025-11ec-918f-0242ac1c0002\"] = document.querySelector(\"#id104-0-0\");\n",
              "//# sourceURL=js_43e6853bfc"
            ],
            "text/plain": [
              "<IPython.core.display.Javascript object>"
            ]
          },
          "metadata": {}
        },
        {
          "output_type": "display_data",
          "data": {
            "application/javascript": [
              "window[\"46511996-a025-11ec-918f-0242ac1c0002\"] = google.colab.output.setActiveOutputArea(window[\"46505d58-a025-11ec-918f-0242ac1c0002\"]);\n",
              "//# sourceURL=js_f4b592406e"
            ],
            "text/plain": [
              "<IPython.core.display.Javascript object>"
            ]
          },
          "metadata": {}
        },
        {
          "output_type": "display_data",
          "data": {
            "application/javascript": [
              "window[\"466d4760-a025-11ec-918f-0242ac1c0002\"] = google.colab.output.setActiveOutputArea(window[\"465008d0-a025-11ec-918f-0242ac1c0002\"]);\n",
              "//# sourceURL=js_195cb35c35"
            ],
            "text/plain": [
              "<IPython.core.display.Javascript object>"
            ]
          },
          "metadata": {}
        },
        {
          "output_type": "display_data",
          "data": {
            "application/javascript": [
              "window[\"466f6cc0-a025-11ec-918f-0242ac1c0002\"] = google.colab.output.getActiveOutputArea();\n",
              "//# sourceURL=js_1004192743"
            ],
            "text/plain": [
              "<IPython.core.display.Javascript object>"
            ]
          },
          "metadata": {}
        },
        {
          "output_type": "display_data",
          "data": {
            "application/javascript": [
              "window[\"466fd2d2-a025-11ec-918f-0242ac1c0002\"] = document.querySelector(\"#id104-0-0\");\n",
              "//# sourceURL=js_253854d964"
            ],
            "text/plain": [
              "<IPython.core.display.Javascript object>"
            ]
          },
          "metadata": {}
        },
        {
          "output_type": "display_data",
          "data": {
            "application/javascript": [
              "window[\"46702eee-a025-11ec-918f-0242ac1c0002\"] = google.colab.output.setActiveOutputArea(window[\"466fd2d2-a025-11ec-918f-0242ac1c0002\"]);\n",
              "//# sourceURL=js_e3c26f9402"
            ],
            "text/plain": [
              "<IPython.core.display.Javascript object>"
            ]
          },
          "metadata": {}
        },
        {
          "output_type": "display_data",
          "data": {
            "application/javascript": [
              "window[\"468d9ede-a025-11ec-918f-0242ac1c0002\"] = google.colab.output.setActiveOutputArea(window[\"466f6cc0-a025-11ec-918f-0242ac1c0002\"]);\n",
              "//# sourceURL=js_708b1a90c0"
            ],
            "text/plain": [
              "<IPython.core.display.Javascript object>"
            ]
          },
          "metadata": {}
        },
        {
          "output_type": "display_data",
          "data": {
            "application/javascript": [
              "window[\"469100ec-a025-11ec-918f-0242ac1c0002\"] = google.colab.output.getActiveOutputArea();\n",
              "//# sourceURL=js_f689b00dee"
            ],
            "text/plain": [
              "<IPython.core.display.Javascript object>"
            ]
          },
          "metadata": {}
        },
        {
          "output_type": "display_data",
          "data": {
            "application/javascript": [
              "window[\"4691867a-a025-11ec-918f-0242ac1c0002\"] = document.querySelector(\"#id104-0-0\");\n",
              "//# sourceURL=js_dfb84f0a42"
            ],
            "text/plain": [
              "<IPython.core.display.Javascript object>"
            ]
          },
          "metadata": {}
        },
        {
          "output_type": "display_data",
          "data": {
            "application/javascript": [
              "window[\"4691d2d8-a025-11ec-918f-0242ac1c0002\"] = google.colab.output.setActiveOutputArea(window[\"4691867a-a025-11ec-918f-0242ac1c0002\"]);\n",
              "//# sourceURL=js_d77ad50aa8"
            ],
            "text/plain": [
              "<IPython.core.display.Javascript object>"
            ]
          },
          "metadata": {}
        },
        {
          "output_type": "display_data",
          "data": {
            "application/javascript": [
              "window[\"46adb73c-a025-11ec-918f-0242ac1c0002\"] = google.colab.output.setActiveOutputArea(window[\"469100ec-a025-11ec-918f-0242ac1c0002\"]);\n",
              "//# sourceURL=js_ea59c04109"
            ],
            "text/plain": [
              "<IPython.core.display.Javascript object>"
            ]
          },
          "metadata": {}
        },
        {
          "output_type": "display_data",
          "data": {
            "application/javascript": [
              "window[\"46b032e6-a025-11ec-918f-0242ac1c0002\"] = google.colab.output.getActiveOutputArea();\n",
              "//# sourceURL=js_770650c745"
            ],
            "text/plain": [
              "<IPython.core.display.Javascript object>"
            ]
          },
          "metadata": {}
        },
        {
          "output_type": "display_data",
          "data": {
            "application/javascript": [
              "window[\"46b09420-a025-11ec-918f-0242ac1c0002\"] = document.querySelector(\"#id104-0-0\");\n",
              "//# sourceURL=js_3869e0f218"
            ],
            "text/plain": [
              "<IPython.core.display.Javascript object>"
            ]
          },
          "metadata": {}
        },
        {
          "output_type": "display_data",
          "data": {
            "application/javascript": [
              "window[\"46b0fc6c-a025-11ec-918f-0242ac1c0002\"] = google.colab.output.setActiveOutputArea(window[\"46b09420-a025-11ec-918f-0242ac1c0002\"]);\n",
              "//# sourceURL=js_9109b600f9"
            ],
            "text/plain": [
              "<IPython.core.display.Javascript object>"
            ]
          },
          "metadata": {}
        },
        {
          "output_type": "display_data",
          "data": {
            "application/javascript": [
              "window[\"46cc44e0-a025-11ec-918f-0242ac1c0002\"] = google.colab.output.setActiveOutputArea(window[\"46b032e6-a025-11ec-918f-0242ac1c0002\"]);\n",
              "//# sourceURL=js_a534cbf4c6"
            ],
            "text/plain": [
              "<IPython.core.display.Javascript object>"
            ]
          },
          "metadata": {}
        },
        {
          "output_type": "display_data",
          "data": {
            "application/javascript": [
              "window[\"46ce91a0-a025-11ec-918f-0242ac1c0002\"] = google.colab.output.getActiveOutputArea();\n",
              "//# sourceURL=js_9cd89dfb7e"
            ],
            "text/plain": [
              "<IPython.core.display.Javascript object>"
            ]
          },
          "metadata": {}
        },
        {
          "output_type": "display_data",
          "data": {
            "application/javascript": [
              "window[\"46cef19a-a025-11ec-918f-0242ac1c0002\"] = document.querySelector(\"#id104-0-0\");\n",
              "//# sourceURL=js_8306401f89"
            ],
            "text/plain": [
              "<IPython.core.display.Javascript object>"
            ]
          },
          "metadata": {}
        },
        {
          "output_type": "display_data",
          "data": {
            "application/javascript": [
              "window[\"46cf5fa4-a025-11ec-918f-0242ac1c0002\"] = google.colab.output.setActiveOutputArea(window[\"46cef19a-a025-11ec-918f-0242ac1c0002\"]);\n",
              "//# sourceURL=js_96c6a22582"
            ],
            "text/plain": [
              "<IPython.core.display.Javascript object>"
            ]
          },
          "metadata": {}
        },
        {
          "output_type": "display_data",
          "data": {
            "application/javascript": [
              "window[\"46eb38c8-a025-11ec-918f-0242ac1c0002\"] = google.colab.output.setActiveOutputArea(window[\"46ce91a0-a025-11ec-918f-0242ac1c0002\"]);\n",
              "//# sourceURL=js_0256785acc"
            ],
            "text/plain": [
              "<IPython.core.display.Javascript object>"
            ]
          },
          "metadata": {}
        },
        {
          "output_type": "display_data",
          "data": {
            "application/javascript": [
              "window[\"46ed8e70-a025-11ec-918f-0242ac1c0002\"] = google.colab.output.getActiveOutputArea();\n",
              "//# sourceURL=js_5df45652a1"
            ],
            "text/plain": [
              "<IPython.core.display.Javascript object>"
            ]
          },
          "metadata": {}
        },
        {
          "output_type": "display_data",
          "data": {
            "application/javascript": [
              "window[\"46edf2f2-a025-11ec-918f-0242ac1c0002\"] = document.querySelector(\"#id104-0-0\");\n",
              "//# sourceURL=js_7d5b25b13e"
            ],
            "text/plain": [
              "<IPython.core.display.Javascript object>"
            ]
          },
          "metadata": {}
        },
        {
          "output_type": "display_data",
          "data": {
            "application/javascript": [
              "window[\"46ee5cb0-a025-11ec-918f-0242ac1c0002\"] = google.colab.output.setActiveOutputArea(window[\"46edf2f2-a025-11ec-918f-0242ac1c0002\"]);\n",
              "//# sourceURL=js_066ccc2677"
            ],
            "text/plain": [
              "<IPython.core.display.Javascript object>"
            ]
          },
          "metadata": {}
        },
        {
          "output_type": "display_data",
          "data": {
            "application/javascript": [
              "window[\"470e7914-a025-11ec-918f-0242ac1c0002\"] = google.colab.output.setActiveOutputArea(window[\"46ed8e70-a025-11ec-918f-0242ac1c0002\"]);\n",
              "//# sourceURL=js_c7bff8430f"
            ],
            "text/plain": [
              "<IPython.core.display.Javascript object>"
            ]
          },
          "metadata": {}
        },
        {
          "output_type": "display_data",
          "data": {
            "application/javascript": [
              "window[\"471255c0-a025-11ec-918f-0242ac1c0002\"] = google.colab.output.getActiveOutputArea();\n",
              "//# sourceURL=js_46233de31d"
            ],
            "text/plain": [
              "<IPython.core.display.Javascript object>"
            ]
          },
          "metadata": {}
        },
        {
          "output_type": "display_data",
          "data": {
            "application/javascript": [
              "window[\"4712b09c-a025-11ec-918f-0242ac1c0002\"] = document.querySelector(\"#id104-0-0\");\n",
              "//# sourceURL=js_bc08c0e654"
            ],
            "text/plain": [
              "<IPython.core.display.Javascript object>"
            ]
          },
          "metadata": {}
        },
        {
          "output_type": "display_data",
          "data": {
            "application/javascript": [
              "window[\"4712ff02-a025-11ec-918f-0242ac1c0002\"] = google.colab.output.setActiveOutputArea(window[\"4712b09c-a025-11ec-918f-0242ac1c0002\"]);\n",
              "//# sourceURL=js_e5b2c3196d"
            ],
            "text/plain": [
              "<IPython.core.display.Javascript object>"
            ]
          },
          "metadata": {}
        },
        {
          "output_type": "display_data",
          "data": {
            "application/javascript": [
              "window[\"472df6c2-a025-11ec-918f-0242ac1c0002\"] = google.colab.output.setActiveOutputArea(window[\"471255c0-a025-11ec-918f-0242ac1c0002\"]);\n",
              "//# sourceURL=js_d7cb90da64"
            ],
            "text/plain": [
              "<IPython.core.display.Javascript object>"
            ]
          },
          "metadata": {}
        },
        {
          "output_type": "display_data",
          "data": {
            "application/javascript": [
              "window[\"47303752-a025-11ec-918f-0242ac1c0002\"] = google.colab.output.getActiveOutputArea();\n",
              "//# sourceURL=js_9140fa4262"
            ],
            "text/plain": [
              "<IPython.core.display.Javascript object>"
            ]
          },
          "metadata": {}
        },
        {
          "output_type": "display_data",
          "data": {
            "application/javascript": [
              "window[\"4730adc2-a025-11ec-918f-0242ac1c0002\"] = document.querySelector(\"#id104-0-0\");\n",
              "//# sourceURL=js_ba7ccc8d6e"
            ],
            "text/plain": [
              "<IPython.core.display.Javascript object>"
            ]
          },
          "metadata": {}
        },
        {
          "output_type": "display_data",
          "data": {
            "application/javascript": [
              "window[\"4731213a-a025-11ec-918f-0242ac1c0002\"] = google.colab.output.setActiveOutputArea(window[\"4730adc2-a025-11ec-918f-0242ac1c0002\"]);\n",
              "//# sourceURL=js_a8d4c3549f"
            ],
            "text/plain": [
              "<IPython.core.display.Javascript object>"
            ]
          },
          "metadata": {}
        },
        {
          "output_type": "display_data",
          "data": {
            "application/javascript": [
              "window[\"475da37c-a025-11ec-918f-0242ac1c0002\"] = google.colab.output.setActiveOutputArea(window[\"47303752-a025-11ec-918f-0242ac1c0002\"]);\n",
              "//# sourceURL=js_c0e055e2e7"
            ],
            "text/plain": [
              "<IPython.core.display.Javascript object>"
            ]
          },
          "metadata": {}
        },
        {
          "output_type": "display_data",
          "data": {
            "application/javascript": [
              "window[\"4760089c-a025-11ec-918f-0242ac1c0002\"] = google.colab.output.getActiveOutputArea();\n",
              "//# sourceURL=js_80e482bbe6"
            ],
            "text/plain": [
              "<IPython.core.display.Javascript object>"
            ]
          },
          "metadata": {}
        },
        {
          "output_type": "display_data",
          "data": {
            "application/javascript": [
              "window[\"4760598c-a025-11ec-918f-0242ac1c0002\"] = document.querySelector(\"#id104-0-0\");\n",
              "//# sourceURL=js_420d3312c2"
            ],
            "text/plain": [
              "<IPython.core.display.Javascript object>"
            ]
          },
          "metadata": {}
        },
        {
          "output_type": "display_data",
          "data": {
            "application/javascript": [
              "window[\"4760bd82-a025-11ec-918f-0242ac1c0002\"] = google.colab.output.setActiveOutputArea(window[\"4760598c-a025-11ec-918f-0242ac1c0002\"]);\n",
              "//# sourceURL=js_23977b9ecb"
            ],
            "text/plain": [
              "<IPython.core.display.Javascript object>"
            ]
          },
          "metadata": {}
        },
        {
          "output_type": "display_data",
          "data": {
            "application/javascript": [
              "window[\"477dad2a-a025-11ec-918f-0242ac1c0002\"] = google.colab.output.setActiveOutputArea(window[\"4760089c-a025-11ec-918f-0242ac1c0002\"]);\n",
              "//# sourceURL=js_95ed88b496"
            ],
            "text/plain": [
              "<IPython.core.display.Javascript object>"
            ]
          },
          "metadata": {}
        },
        {
          "output_type": "display_data",
          "data": {
            "application/javascript": [
              "window[\"477fe130-a025-11ec-918f-0242ac1c0002\"] = google.colab.output.getActiveOutputArea();\n",
              "//# sourceURL=js_747fae333c"
            ],
            "text/plain": [
              "<IPython.core.display.Javascript object>"
            ]
          },
          "metadata": {}
        },
        {
          "output_type": "display_data",
          "data": {
            "application/javascript": [
              "window[\"4780445e-a025-11ec-918f-0242ac1c0002\"] = document.querySelector(\"#id104-0-0\");\n",
              "//# sourceURL=js_7c84c19e0f"
            ],
            "text/plain": [
              "<IPython.core.display.Javascript object>"
            ]
          },
          "metadata": {}
        },
        {
          "output_type": "display_data",
          "data": {
            "application/javascript": [
              "window[\"4780a0fc-a025-11ec-918f-0242ac1c0002\"] = google.colab.output.setActiveOutputArea(window[\"4780445e-a025-11ec-918f-0242ac1c0002\"]);\n",
              "//# sourceURL=js_acac2d2035"
            ],
            "text/plain": [
              "<IPython.core.display.Javascript object>"
            ]
          },
          "metadata": {}
        },
        {
          "output_type": "display_data",
          "data": {
            "application/javascript": [
              "window[\"479fbbf4-a025-11ec-918f-0242ac1c0002\"] = google.colab.output.setActiveOutputArea(window[\"477fe130-a025-11ec-918f-0242ac1c0002\"]);\n",
              "//# sourceURL=js_b07e7a2215"
            ],
            "text/plain": [
              "<IPython.core.display.Javascript object>"
            ]
          },
          "metadata": {}
        },
        {
          "output_type": "display_data",
          "data": {
            "application/javascript": [
              "window[\"47a24694-a025-11ec-918f-0242ac1c0002\"] = google.colab.output.getActiveOutputArea();\n",
              "//# sourceURL=js_f9d2e9a072"
            ],
            "text/plain": [
              "<IPython.core.display.Javascript object>"
            ]
          },
          "metadata": {}
        },
        {
          "output_type": "display_data",
          "data": {
            "application/javascript": [
              "window[\"47a29658-a025-11ec-918f-0242ac1c0002\"] = document.querySelector(\"#id104-0-0\");\n",
              "//# sourceURL=js_54cf80d7a5"
            ],
            "text/plain": [
              "<IPython.core.display.Javascript object>"
            ]
          },
          "metadata": {}
        },
        {
          "output_type": "display_data",
          "data": {
            "application/javascript": [
              "window[\"47a2f71a-a025-11ec-918f-0242ac1c0002\"] = google.colab.output.setActiveOutputArea(window[\"47a29658-a025-11ec-918f-0242ac1c0002\"]);\n",
              "//# sourceURL=js_23446cdf4d"
            ],
            "text/plain": [
              "<IPython.core.display.Javascript object>"
            ]
          },
          "metadata": {}
        },
        {
          "output_type": "display_data",
          "data": {
            "application/javascript": [
              "window[\"47c2cc7a-a025-11ec-918f-0242ac1c0002\"] = google.colab.output.setActiveOutputArea(window[\"47a24694-a025-11ec-918f-0242ac1c0002\"]);\n",
              "//# sourceURL=js_f6120a7fc4"
            ],
            "text/plain": [
              "<IPython.core.display.Javascript object>"
            ]
          },
          "metadata": {}
        },
        {
          "output_type": "display_data",
          "data": {
            "application/javascript": [
              "window[\"47c69ca6-a025-11ec-918f-0242ac1c0002\"] = google.colab.output.getActiveOutputArea();\n",
              "//# sourceURL=js_0cf4c873e6"
            ],
            "text/plain": [
              "<IPython.core.display.Javascript object>"
            ]
          },
          "metadata": {}
        },
        {
          "output_type": "display_data",
          "data": {
            "application/javascript": [
              "window[\"47c70862-a025-11ec-918f-0242ac1c0002\"] = document.querySelector(\"#id104-0-0\");\n",
              "//# sourceURL=js_943d19b774"
            ],
            "text/plain": [
              "<IPython.core.display.Javascript object>"
            ]
          },
          "metadata": {}
        },
        {
          "output_type": "display_data",
          "data": {
            "application/javascript": [
              "window[\"47c76ec4-a025-11ec-918f-0242ac1c0002\"] = google.colab.output.setActiveOutputArea(window[\"47c70862-a025-11ec-918f-0242ac1c0002\"]);\n",
              "//# sourceURL=js_df45045830"
            ],
            "text/plain": [
              "<IPython.core.display.Javascript object>"
            ]
          },
          "metadata": {}
        },
        {
          "output_type": "display_data",
          "data": {
            "application/javascript": [
              "window[\"47e4c5be-a025-11ec-918f-0242ac1c0002\"] = google.colab.output.setActiveOutputArea(window[\"47c69ca6-a025-11ec-918f-0242ac1c0002\"]);\n",
              "//# sourceURL=js_f375c6b5e9"
            ],
            "text/plain": [
              "<IPython.core.display.Javascript object>"
            ]
          },
          "metadata": {}
        },
        {
          "output_type": "display_data",
          "data": {
            "application/javascript": [
              "window[\"47e724bc-a025-11ec-918f-0242ac1c0002\"] = google.colab.output.getActiveOutputArea();\n",
              "//# sourceURL=js_5cf1937b89"
            ],
            "text/plain": [
              "<IPython.core.display.Javascript object>"
            ]
          },
          "metadata": {}
        },
        {
          "output_type": "display_data",
          "data": {
            "application/javascript": [
              "window[\"47e79406-a025-11ec-918f-0242ac1c0002\"] = document.querySelector(\"#id104-0-0\");\n",
              "//# sourceURL=js_ad71803932"
            ],
            "text/plain": [
              "<IPython.core.display.Javascript object>"
            ]
          },
          "metadata": {}
        },
        {
          "output_type": "display_data",
          "data": {
            "application/javascript": [
              "window[\"47e7f7e8-a025-11ec-918f-0242ac1c0002\"] = google.colab.output.setActiveOutputArea(window[\"47e79406-a025-11ec-918f-0242ac1c0002\"]);\n",
              "//# sourceURL=js_187e53f5eb"
            ],
            "text/plain": [
              "<IPython.core.display.Javascript object>"
            ]
          },
          "metadata": {}
        },
        {
          "output_type": "display_data",
          "data": {
            "application/javascript": [
              "window[\"4805beea-a025-11ec-918f-0242ac1c0002\"] = google.colab.output.setActiveOutputArea(window[\"47e724bc-a025-11ec-918f-0242ac1c0002\"]);\n",
              "//# sourceURL=js_fe20f069e0"
            ],
            "text/plain": [
              "<IPython.core.display.Javascript object>"
            ]
          },
          "metadata": {}
        },
        {
          "output_type": "display_data",
          "data": {
            "application/javascript": [
              "window[\"48084034-a025-11ec-918f-0242ac1c0002\"] = google.colab.output.getActiveOutputArea();\n",
              "//# sourceURL=js_bdbd91b55c"
            ],
            "text/plain": [
              "<IPython.core.display.Javascript object>"
            ]
          },
          "metadata": {}
        },
        {
          "output_type": "display_data",
          "data": {
            "application/javascript": [
              "window[\"4808ad76-a025-11ec-918f-0242ac1c0002\"] = document.querySelector(\"#id104-0-0\");\n",
              "//# sourceURL=js_208f07fb94"
            ],
            "text/plain": [
              "<IPython.core.display.Javascript object>"
            ]
          },
          "metadata": {}
        },
        {
          "output_type": "display_data",
          "data": {
            "application/javascript": [
              "window[\"48091a68-a025-11ec-918f-0242ac1c0002\"] = google.colab.output.setActiveOutputArea(window[\"4808ad76-a025-11ec-918f-0242ac1c0002\"]);\n",
              "//# sourceURL=js_fa7970bd36"
            ],
            "text/plain": [
              "<IPython.core.display.Javascript object>"
            ]
          },
          "metadata": {}
        },
        {
          "output_type": "display_data",
          "data": {
            "application/javascript": [
              "window[\"4825d20c-a025-11ec-918f-0242ac1c0002\"] = google.colab.output.setActiveOutputArea(window[\"48084034-a025-11ec-918f-0242ac1c0002\"]);\n",
              "//# sourceURL=js_7eee38e53d"
            ],
            "text/plain": [
              "<IPython.core.display.Javascript object>"
            ]
          },
          "metadata": {}
        },
        {
          "output_type": "display_data",
          "data": {
            "application/javascript": [
              "window[\"48280716-a025-11ec-918f-0242ac1c0002\"] = google.colab.output.getActiveOutputArea();\n",
              "//# sourceURL=js_06fa4e866d"
            ],
            "text/plain": [
              "<IPython.core.display.Javascript object>"
            ]
          },
          "metadata": {}
        },
        {
          "output_type": "display_data",
          "data": {
            "application/javascript": [
              "window[\"48286896-a025-11ec-918f-0242ac1c0002\"] = document.querySelector(\"#id104-0-0\");\n",
              "//# sourceURL=js_866b798b7d"
            ],
            "text/plain": [
              "<IPython.core.display.Javascript object>"
            ]
          },
          "metadata": {}
        },
        {
          "output_type": "display_data",
          "data": {
            "application/javascript": [
              "window[\"4828c99e-a025-11ec-918f-0242ac1c0002\"] = google.colab.output.setActiveOutputArea(window[\"48286896-a025-11ec-918f-0242ac1c0002\"]);\n",
              "//# sourceURL=js_2c7fef4f86"
            ],
            "text/plain": [
              "<IPython.core.display.Javascript object>"
            ]
          },
          "metadata": {}
        },
        {
          "output_type": "display_data",
          "data": {
            "application/javascript": [
              "window[\"484919c4-a025-11ec-918f-0242ac1c0002\"] = google.colab.output.setActiveOutputArea(window[\"48280716-a025-11ec-918f-0242ac1c0002\"]);\n",
              "//# sourceURL=js_bc5aebd676"
            ],
            "text/plain": [
              "<IPython.core.display.Javascript object>"
            ]
          },
          "metadata": {}
        },
        {
          "output_type": "display_data",
          "data": {
            "application/javascript": [
              "window[\"484b4c3a-a025-11ec-918f-0242ac1c0002\"] = google.colab.output.getActiveOutputArea();\n",
              "//# sourceURL=js_8e38a12690"
            ],
            "text/plain": [
              "<IPython.core.display.Javascript object>"
            ]
          },
          "metadata": {}
        },
        {
          "output_type": "display_data",
          "data": {
            "application/javascript": [
              "window[\"484bb1d4-a025-11ec-918f-0242ac1c0002\"] = document.querySelector(\"#id104-0-0\");\n",
              "//# sourceURL=js_594e65c760"
            ],
            "text/plain": [
              "<IPython.core.display.Javascript object>"
            ]
          },
          "metadata": {}
        },
        {
          "output_type": "display_data",
          "data": {
            "application/javascript": [
              "window[\"484c2f1a-a025-11ec-918f-0242ac1c0002\"] = google.colab.output.setActiveOutputArea(window[\"484bb1d4-a025-11ec-918f-0242ac1c0002\"]);\n",
              "//# sourceURL=js_948bdf1996"
            ],
            "text/plain": [
              "<IPython.core.display.Javascript object>"
            ]
          },
          "metadata": {}
        },
        {
          "output_type": "display_data",
          "data": {
            "application/javascript": [
              "window[\"4869bc42-a025-11ec-918f-0242ac1c0002\"] = google.colab.output.setActiveOutputArea(window[\"484b4c3a-a025-11ec-918f-0242ac1c0002\"]);\n",
              "//# sourceURL=js_a1c80a5aff"
            ],
            "text/plain": [
              "<IPython.core.display.Javascript object>"
            ]
          },
          "metadata": {}
        },
        {
          "output_type": "display_data",
          "data": {
            "application/javascript": [
              "window[\"486c52e0-a025-11ec-918f-0242ac1c0002\"] = google.colab.output.getActiveOutputArea();\n",
              "//# sourceURL=js_d8cb2627e6"
            ],
            "text/plain": [
              "<IPython.core.display.Javascript object>"
            ]
          },
          "metadata": {}
        },
        {
          "output_type": "display_data",
          "data": {
            "application/javascript": [
              "window[\"486cc1da-a025-11ec-918f-0242ac1c0002\"] = document.querySelector(\"#id104-0-0\");\n",
              "//# sourceURL=js_cefffae362"
            ],
            "text/plain": [
              "<IPython.core.display.Javascript object>"
            ]
          },
          "metadata": {}
        },
        {
          "output_type": "display_data",
          "data": {
            "application/javascript": [
              "window[\"486d3304-a025-11ec-918f-0242ac1c0002\"] = google.colab.output.setActiveOutputArea(window[\"486cc1da-a025-11ec-918f-0242ac1c0002\"]);\n",
              "//# sourceURL=js_5404cfe1e8"
            ],
            "text/plain": [
              "<IPython.core.display.Javascript object>"
            ]
          },
          "metadata": {}
        },
        {
          "output_type": "display_data",
          "data": {
            "application/javascript": [
              "window[\"488e8162-a025-11ec-918f-0242ac1c0002\"] = google.colab.output.setActiveOutputArea(window[\"486c52e0-a025-11ec-918f-0242ac1c0002\"]);\n",
              "//# sourceURL=js_078d40c142"
            ],
            "text/plain": [
              "<IPython.core.display.Javascript object>"
            ]
          },
          "metadata": {}
        },
        {
          "output_type": "display_data",
          "data": {
            "application/javascript": [
              "window[\"48919302-a025-11ec-918f-0242ac1c0002\"] = google.colab.output.getActiveOutputArea();\n",
              "//# sourceURL=js_db99420f6e"
            ],
            "text/plain": [
              "<IPython.core.display.Javascript object>"
            ]
          },
          "metadata": {}
        },
        {
          "output_type": "display_data",
          "data": {
            "application/javascript": [
              "window[\"48921e26-a025-11ec-918f-0242ac1c0002\"] = document.querySelector(\"#id104-0-0\");\n",
              "//# sourceURL=js_c4ff1d9e38"
            ],
            "text/plain": [
              "<IPython.core.display.Javascript object>"
            ]
          },
          "metadata": {}
        },
        {
          "output_type": "display_data",
          "data": {
            "application/javascript": [
              "window[\"48929a40-a025-11ec-918f-0242ac1c0002\"] = google.colab.output.setActiveOutputArea(window[\"48921e26-a025-11ec-918f-0242ac1c0002\"]);\n",
              "//# sourceURL=js_3ba309bb1f"
            ],
            "text/plain": [
              "<IPython.core.display.Javascript object>"
            ]
          },
          "metadata": {}
        },
        {
          "output_type": "display_data",
          "data": {
            "application/javascript": [
              "window[\"48b025d8-a025-11ec-918f-0242ac1c0002\"] = google.colab.output.setActiveOutputArea(window[\"48919302-a025-11ec-918f-0242ac1c0002\"]);\n",
              "//# sourceURL=js_8813808f3b"
            ],
            "text/plain": [
              "<IPython.core.display.Javascript object>"
            ]
          },
          "metadata": {}
        },
        {
          "output_type": "display_data",
          "data": {
            "application/javascript": [
              "window[\"48b292dc-a025-11ec-918f-0242ac1c0002\"] = google.colab.output.getActiveOutputArea();\n",
              "//# sourceURL=js_7bd9bd2464"
            ],
            "text/plain": [
              "<IPython.core.display.Javascript object>"
            ]
          },
          "metadata": {}
        },
        {
          "output_type": "display_data",
          "data": {
            "application/javascript": [
              "window[\"48b2f808-a025-11ec-918f-0242ac1c0002\"] = document.querySelector(\"#id104-0-0\");\n",
              "//# sourceURL=js_8b751f156e"
            ],
            "text/plain": [
              "<IPython.core.display.Javascript object>"
            ]
          },
          "metadata": {}
        },
        {
          "output_type": "display_data",
          "data": {
            "application/javascript": [
              "window[\"48b35924-a025-11ec-918f-0242ac1c0002\"] = google.colab.output.setActiveOutputArea(window[\"48b2f808-a025-11ec-918f-0242ac1c0002\"]);\n",
              "//# sourceURL=js_3482fe3705"
            ],
            "text/plain": [
              "<IPython.core.display.Javascript object>"
            ]
          },
          "metadata": {}
        },
        {
          "output_type": "display_data",
          "data": {
            "application/javascript": [
              "window[\"48d039cc-a025-11ec-918f-0242ac1c0002\"] = google.colab.output.setActiveOutputArea(window[\"48b292dc-a025-11ec-918f-0242ac1c0002\"]);\n",
              "//# sourceURL=js_cadbdd3f4b"
            ],
            "text/plain": [
              "<IPython.core.display.Javascript object>"
            ]
          },
          "metadata": {}
        },
        {
          "output_type": "display_data",
          "data": {
            "application/javascript": [
              "window[\"48d34220-a025-11ec-918f-0242ac1c0002\"] = google.colab.output.getActiveOutputArea();\n",
              "//# sourceURL=js_d46480bb74"
            ],
            "text/plain": [
              "<IPython.core.display.Javascript object>"
            ]
          },
          "metadata": {}
        },
        {
          "output_type": "display_data",
          "data": {
            "application/javascript": [
              "window[\"48d3a1f2-a025-11ec-918f-0242ac1c0002\"] = document.querySelector(\"#id104-0-0\");\n",
              "//# sourceURL=js_f5467edeaa"
            ],
            "text/plain": [
              "<IPython.core.display.Javascript object>"
            ]
          },
          "metadata": {}
        },
        {
          "output_type": "display_data",
          "data": {
            "application/javascript": [
              "window[\"48d402dc-a025-11ec-918f-0242ac1c0002\"] = google.colab.output.setActiveOutputArea(window[\"48d3a1f2-a025-11ec-918f-0242ac1c0002\"]);\n",
              "//# sourceURL=js_e405ae04a6"
            ],
            "text/plain": [
              "<IPython.core.display.Javascript object>"
            ]
          },
          "metadata": {}
        },
        {
          "output_type": "display_data",
          "data": {
            "application/javascript": [
              "window[\"48f4efa6-a025-11ec-918f-0242ac1c0002\"] = google.colab.output.setActiveOutputArea(window[\"48d34220-a025-11ec-918f-0242ac1c0002\"]);\n",
              "//# sourceURL=js_e9357f502c"
            ],
            "text/plain": [
              "<IPython.core.display.Javascript object>"
            ]
          },
          "metadata": {}
        },
        {
          "output_type": "display_data",
          "data": {
            "application/javascript": [
              "window[\"48f72082-a025-11ec-918f-0242ac1c0002\"] = google.colab.output.getActiveOutputArea();\n",
              "//# sourceURL=js_3af0b37d34"
            ],
            "text/plain": [
              "<IPython.core.display.Javascript object>"
            ]
          },
          "metadata": {}
        },
        {
          "output_type": "display_data",
          "data": {
            "application/javascript": [
              "window[\"48f78dd8-a025-11ec-918f-0242ac1c0002\"] = document.querySelector(\"#id104-0-0\");\n",
              "//# sourceURL=js_8ed5c78cf9"
            ],
            "text/plain": [
              "<IPython.core.display.Javascript object>"
            ]
          },
          "metadata": {}
        },
        {
          "output_type": "display_data",
          "data": {
            "application/javascript": [
              "window[\"48f7f53e-a025-11ec-918f-0242ac1c0002\"] = google.colab.output.setActiveOutputArea(window[\"48f78dd8-a025-11ec-918f-0242ac1c0002\"]);\n",
              "//# sourceURL=js_58457aa22a"
            ],
            "text/plain": [
              "<IPython.core.display.Javascript object>"
            ]
          },
          "metadata": {}
        },
        {
          "output_type": "display_data",
          "data": {
            "application/javascript": [
              "window[\"4916ece6-a025-11ec-918f-0242ac1c0002\"] = google.colab.output.setActiveOutputArea(window[\"48f72082-a025-11ec-918f-0242ac1c0002\"]);\n",
              "//# sourceURL=js_8bb46cf8bd"
            ],
            "text/plain": [
              "<IPython.core.display.Javascript object>"
            ]
          },
          "metadata": {}
        },
        {
          "output_type": "display_data",
          "data": {
            "application/javascript": [
              "window[\"491aded2-a025-11ec-918f-0242ac1c0002\"] = google.colab.output.getActiveOutputArea();\n",
              "//# sourceURL=js_a3bcb60afe"
            ],
            "text/plain": [
              "<IPython.core.display.Javascript object>"
            ]
          },
          "metadata": {}
        },
        {
          "output_type": "display_data",
          "data": {
            "application/javascript": [
              "window[\"491b9f3e-a025-11ec-918f-0242ac1c0002\"] = document.querySelector(\"#id104-0-0\");\n",
              "//# sourceURL=js_800e34ca98"
            ],
            "text/plain": [
              "<IPython.core.display.Javascript object>"
            ]
          },
          "metadata": {}
        },
        {
          "output_type": "display_data",
          "data": {
            "application/javascript": [
              "window[\"491c0366-a025-11ec-918f-0242ac1c0002\"] = google.colab.output.setActiveOutputArea(window[\"491b9f3e-a025-11ec-918f-0242ac1c0002\"]);\n",
              "//# sourceURL=js_a8d9a5118f"
            ],
            "text/plain": [
              "<IPython.core.display.Javascript object>"
            ]
          },
          "metadata": {}
        },
        {
          "output_type": "display_data",
          "data": {
            "application/javascript": [
              "window[\"493a488a-a025-11ec-918f-0242ac1c0002\"] = google.colab.output.setActiveOutputArea(window[\"491aded2-a025-11ec-918f-0242ac1c0002\"]);\n",
              "//# sourceURL=js_cfe7fbca05"
            ],
            "text/plain": [
              "<IPython.core.display.Javascript object>"
            ]
          },
          "metadata": {}
        },
        {
          "output_type": "display_data",
          "data": {
            "application/javascript": [
              "window[\"493d085e-a025-11ec-918f-0242ac1c0002\"] = google.colab.output.getActiveOutputArea();\n",
              "//# sourceURL=js_92d397c157"
            ],
            "text/plain": [
              "<IPython.core.display.Javascript object>"
            ]
          },
          "metadata": {}
        },
        {
          "output_type": "display_data",
          "data": {
            "application/javascript": [
              "window[\"493d5750-a025-11ec-918f-0242ac1c0002\"] = document.querySelector(\"#id104-0-0\");\n",
              "//# sourceURL=js_f3a199c166"
            ],
            "text/plain": [
              "<IPython.core.display.Javascript object>"
            ]
          },
          "metadata": {}
        },
        {
          "output_type": "display_data",
          "data": {
            "application/javascript": [
              "window[\"493dc01e-a025-11ec-918f-0242ac1c0002\"] = google.colab.output.setActiveOutputArea(window[\"493d5750-a025-11ec-918f-0242ac1c0002\"]);\n",
              "//# sourceURL=js_ea173e94ed"
            ],
            "text/plain": [
              "<IPython.core.display.Javascript object>"
            ]
          },
          "metadata": {}
        },
        {
          "output_type": "display_data",
          "data": {
            "application/javascript": [
              "window[\"495c859e-a025-11ec-918f-0242ac1c0002\"] = google.colab.output.setActiveOutputArea(window[\"493d085e-a025-11ec-918f-0242ac1c0002\"]);\n",
              "//# sourceURL=js_26bdabd296"
            ],
            "text/plain": [
              "<IPython.core.display.Javascript object>"
            ]
          },
          "metadata": {}
        },
        {
          "output_type": "display_data",
          "data": {
            "application/javascript": [
              "window[\"495f8b22-a025-11ec-918f-0242ac1c0002\"] = google.colab.output.getActiveOutputArea();\n",
              "//# sourceURL=js_f750bd7ccd"
            ],
            "text/plain": [
              "<IPython.core.display.Javascript object>"
            ]
          },
          "metadata": {}
        },
        {
          "output_type": "display_data",
          "data": {
            "application/javascript": [
              "window[\"496018da-a025-11ec-918f-0242ac1c0002\"] = document.querySelector(\"#id104-0-0\");\n",
              "//# sourceURL=js_ee05888fd4"
            ],
            "text/plain": [
              "<IPython.core.display.Javascript object>"
            ]
          },
          "metadata": {}
        },
        {
          "output_type": "display_data",
          "data": {
            "application/javascript": [
              "window[\"496098f0-a025-11ec-918f-0242ac1c0002\"] = google.colab.output.setActiveOutputArea(window[\"496018da-a025-11ec-918f-0242ac1c0002\"]);\n",
              "//# sourceURL=js_8252850f75"
            ],
            "text/plain": [
              "<IPython.core.display.Javascript object>"
            ]
          },
          "metadata": {}
        },
        {
          "output_type": "display_data",
          "data": {
            "application/javascript": [
              "window[\"4990e8ca-a025-11ec-918f-0242ac1c0002\"] = google.colab.output.setActiveOutputArea(window[\"495f8b22-a025-11ec-918f-0242ac1c0002\"]);\n",
              "//# sourceURL=js_65d81e639c"
            ],
            "text/plain": [
              "<IPython.core.display.Javascript object>"
            ]
          },
          "metadata": {}
        },
        {
          "output_type": "display_data",
          "data": {
            "application/javascript": [
              "window[\"49950784-a025-11ec-918f-0242ac1c0002\"] = google.colab.output.getActiveOutputArea();\n",
              "//# sourceURL=js_4ffaf2fc7c"
            ],
            "text/plain": [
              "<IPython.core.display.Javascript object>"
            ]
          },
          "metadata": {}
        },
        {
          "output_type": "display_data",
          "data": {
            "application/javascript": [
              "window[\"4995b490-a025-11ec-918f-0242ac1c0002\"] = document.querySelector(\"#id104-0-0\");\n",
              "//# sourceURL=js_1aea2cace7"
            ],
            "text/plain": [
              "<IPython.core.display.Javascript object>"
            ]
          },
          "metadata": {}
        },
        {
          "output_type": "display_data",
          "data": {
            "application/javascript": [
              "window[\"49965cf6-a025-11ec-918f-0242ac1c0002\"] = google.colab.output.setActiveOutputArea(window[\"4995b490-a025-11ec-918f-0242ac1c0002\"]);\n",
              "//# sourceURL=js_dd58cd5373"
            ],
            "text/plain": [
              "<IPython.core.display.Javascript object>"
            ]
          },
          "metadata": {}
        },
        {
          "output_type": "display_data",
          "data": {
            "application/javascript": [
              "window[\"49b4a0d0-a025-11ec-918f-0242ac1c0002\"] = google.colab.output.setActiveOutputArea(window[\"49950784-a025-11ec-918f-0242ac1c0002\"]);\n",
              "//# sourceURL=js_7e4e59a401"
            ],
            "text/plain": [
              "<IPython.core.display.Javascript object>"
            ]
          },
          "metadata": {}
        },
        {
          "output_type": "display_data",
          "data": {
            "application/javascript": [
              "window[\"49b79a9c-a025-11ec-918f-0242ac1c0002\"] = google.colab.output.getActiveOutputArea();\n",
              "//# sourceURL=js_6a9730f552"
            ],
            "text/plain": [
              "<IPython.core.display.Javascript object>"
            ]
          },
          "metadata": {}
        },
        {
          "output_type": "display_data",
          "data": {
            "application/javascript": [
              "window[\"49b7fd02-a025-11ec-918f-0242ac1c0002\"] = document.querySelector(\"#id104-0-0\");\n",
              "//# sourceURL=js_9a52a8ec3f"
            ],
            "text/plain": [
              "<IPython.core.display.Javascript object>"
            ]
          },
          "metadata": {}
        },
        {
          "output_type": "display_data",
          "data": {
            "application/javascript": [
              "window[\"49b879da-a025-11ec-918f-0242ac1c0002\"] = google.colab.output.setActiveOutputArea(window[\"49b7fd02-a025-11ec-918f-0242ac1c0002\"]);\n",
              "//# sourceURL=js_ed806ef15e"
            ],
            "text/plain": [
              "<IPython.core.display.Javascript object>"
            ]
          },
          "metadata": {}
        },
        {
          "output_type": "display_data",
          "data": {
            "application/javascript": [
              "window[\"49d59b3c-a025-11ec-918f-0242ac1c0002\"] = google.colab.output.setActiveOutputArea(window[\"49b79a9c-a025-11ec-918f-0242ac1c0002\"]);\n",
              "//# sourceURL=js_4696469305"
            ],
            "text/plain": [
              "<IPython.core.display.Javascript object>"
            ]
          },
          "metadata": {}
        },
        {
          "output_type": "display_data",
          "data": {
            "application/javascript": [
              "window[\"49d8df18-a025-11ec-918f-0242ac1c0002\"] = google.colab.output.getActiveOutputArea();\n",
              "//# sourceURL=js_5e3d168137"
            ],
            "text/plain": [
              "<IPython.core.display.Javascript object>"
            ]
          },
          "metadata": {}
        },
        {
          "output_type": "display_data",
          "data": {
            "application/javascript": [
              "window[\"49d952cc-a025-11ec-918f-0242ac1c0002\"] = document.querySelector(\"#id104-0-0\");\n",
              "//# sourceURL=js_2244ac9758"
            ],
            "text/plain": [
              "<IPython.core.display.Javascript object>"
            ]
          },
          "metadata": {}
        },
        {
          "output_type": "display_data",
          "data": {
            "application/javascript": [
              "window[\"49d9bca8-a025-11ec-918f-0242ac1c0002\"] = google.colab.output.setActiveOutputArea(window[\"49d952cc-a025-11ec-918f-0242ac1c0002\"]);\n",
              "//# sourceURL=js_0dcf938327"
            ],
            "text/plain": [
              "<IPython.core.display.Javascript object>"
            ]
          },
          "metadata": {}
        },
        {
          "output_type": "display_data",
          "data": {
            "application/javascript": [
              "window[\"49f87ada-a025-11ec-918f-0242ac1c0002\"] = google.colab.output.setActiveOutputArea(window[\"49d8df18-a025-11ec-918f-0242ac1c0002\"]);\n",
              "//# sourceURL=js_42bb78b657"
            ],
            "text/plain": [
              "<IPython.core.display.Javascript object>"
            ]
          },
          "metadata": {}
        },
        {
          "output_type": "display_data",
          "data": {
            "application/javascript": [
              "window[\"49fd0424-a025-11ec-918f-0242ac1c0002\"] = google.colab.output.getActiveOutputArea();\n",
              "//# sourceURL=js_382e086925"
            ],
            "text/plain": [
              "<IPython.core.display.Javascript object>"
            ]
          },
          "metadata": {}
        },
        {
          "output_type": "display_data",
          "data": {
            "application/javascript": [
              "window[\"49fd4f42-a025-11ec-918f-0242ac1c0002\"] = document.querySelector(\"#id104-0-0\");\n",
              "//# sourceURL=js_732d6dda35"
            ],
            "text/plain": [
              "<IPython.core.display.Javascript object>"
            ]
          },
          "metadata": {}
        },
        {
          "output_type": "display_data",
          "data": {
            "application/javascript": [
              "window[\"49fe0b6c-a025-11ec-918f-0242ac1c0002\"] = google.colab.output.setActiveOutputArea(window[\"49fd4f42-a025-11ec-918f-0242ac1c0002\"]);\n",
              "//# sourceURL=js_47b96e2bd5"
            ],
            "text/plain": [
              "<IPython.core.display.Javascript object>"
            ]
          },
          "metadata": {}
        },
        {
          "output_type": "display_data",
          "data": {
            "application/javascript": [
              "window[\"4a1f10aa-a025-11ec-918f-0242ac1c0002\"] = google.colab.output.setActiveOutputArea(window[\"49fd0424-a025-11ec-918f-0242ac1c0002\"]);\n",
              "//# sourceURL=js_969b9d4afa"
            ],
            "text/plain": [
              "<IPython.core.display.Javascript object>"
            ]
          },
          "metadata": {}
        },
        {
          "output_type": "display_data",
          "data": {
            "application/javascript": [
              "window[\"4a2376c2-a025-11ec-918f-0242ac1c0002\"] = google.colab.output.getActiveOutputArea();\n",
              "//# sourceURL=js_2b9445e577"
            ],
            "text/plain": [
              "<IPython.core.display.Javascript object>"
            ]
          },
          "metadata": {}
        },
        {
          "output_type": "display_data",
          "data": {
            "application/javascript": [
              "window[\"4a23f28c-a025-11ec-918f-0242ac1c0002\"] = document.querySelector(\"#id104-0-0\");\n",
              "//# sourceURL=js_4298ce650c"
            ],
            "text/plain": [
              "<IPython.core.display.Javascript object>"
            ]
          },
          "metadata": {}
        },
        {
          "output_type": "display_data",
          "data": {
            "application/javascript": [
              "window[\"4a24bca8-a025-11ec-918f-0242ac1c0002\"] = google.colab.output.setActiveOutputArea(window[\"4a23f28c-a025-11ec-918f-0242ac1c0002\"]);\n",
              "//# sourceURL=js_7afe9cb34b"
            ],
            "text/plain": [
              "<IPython.core.display.Javascript object>"
            ]
          },
          "metadata": {}
        },
        {
          "output_type": "display_data",
          "data": {
            "application/javascript": [
              "window[\"4a4252fe-a025-11ec-918f-0242ac1c0002\"] = google.colab.output.setActiveOutputArea(window[\"4a2376c2-a025-11ec-918f-0242ac1c0002\"]);\n",
              "//# sourceURL=js_faa0c6e270"
            ],
            "text/plain": [
              "<IPython.core.display.Javascript object>"
            ]
          },
          "metadata": {}
        },
        {
          "output_type": "display_data",
          "data": {
            "application/javascript": [
              "window[\"4a463590-a025-11ec-918f-0242ac1c0002\"] = google.colab.output.getActiveOutputArea();\n",
              "//# sourceURL=js_0c185bca05"
            ],
            "text/plain": [
              "<IPython.core.display.Javascript object>"
            ]
          },
          "metadata": {}
        },
        {
          "output_type": "display_data",
          "data": {
            "application/javascript": [
              "window[\"4a4682ca-a025-11ec-918f-0242ac1c0002\"] = document.querySelector(\"#id104-0-0\");\n",
              "//# sourceURL=js_ce334f57bb"
            ],
            "text/plain": [
              "<IPython.core.display.Javascript object>"
            ]
          },
          "metadata": {}
        },
        {
          "output_type": "display_data",
          "data": {
            "application/javascript": [
              "window[\"4a47a600-a025-11ec-918f-0242ac1c0002\"] = google.colab.output.setActiveOutputArea(window[\"4a4682ca-a025-11ec-918f-0242ac1c0002\"]);\n",
              "//# sourceURL=js_50287f7d3b"
            ],
            "text/plain": [
              "<IPython.core.display.Javascript object>"
            ]
          },
          "metadata": {}
        },
        {
          "output_type": "display_data",
          "data": {
            "application/javascript": [
              "window[\"4a6529be-a025-11ec-918f-0242ac1c0002\"] = google.colab.output.setActiveOutputArea(window[\"4a463590-a025-11ec-918f-0242ac1c0002\"]);\n",
              "//# sourceURL=js_52b4826b25"
            ],
            "text/plain": [
              "<IPython.core.display.Javascript object>"
            ]
          },
          "metadata": {}
        },
        {
          "output_type": "display_data",
          "data": {
            "application/javascript": [
              "window[\"4a67d736-a025-11ec-918f-0242ac1c0002\"] = google.colab.output.getActiveOutputArea();\n",
              "//# sourceURL=js_3170f29c96"
            ],
            "text/plain": [
              "<IPython.core.display.Javascript object>"
            ]
          },
          "metadata": {}
        },
        {
          "output_type": "display_data",
          "data": {
            "application/javascript": [
              "window[\"4a683fb4-a025-11ec-918f-0242ac1c0002\"] = document.querySelector(\"#id104-0-0\");\n",
              "//# sourceURL=js_99f48513d8"
            ],
            "text/plain": [
              "<IPython.core.display.Javascript object>"
            ]
          },
          "metadata": {}
        },
        {
          "output_type": "display_data",
          "data": {
            "application/javascript": [
              "window[\"4a68a2ba-a025-11ec-918f-0242ac1c0002\"] = google.colab.output.setActiveOutputArea(window[\"4a683fb4-a025-11ec-918f-0242ac1c0002\"]);\n",
              "//# sourceURL=js_b9bf74a649"
            ],
            "text/plain": [
              "<IPython.core.display.Javascript object>"
            ]
          },
          "metadata": {}
        },
        {
          "output_type": "display_data",
          "data": {
            "application/javascript": [
              "window[\"4a861e1c-a025-11ec-918f-0242ac1c0002\"] = google.colab.output.setActiveOutputArea(window[\"4a67d736-a025-11ec-918f-0242ac1c0002\"]);\n",
              "//# sourceURL=js_5653b630a8"
            ],
            "text/plain": [
              "<IPython.core.display.Javascript object>"
            ]
          },
          "metadata": {}
        },
        {
          "output_type": "display_data",
          "data": {
            "application/javascript": [
              "window[\"4a8914b4-a025-11ec-918f-0242ac1c0002\"] = google.colab.output.getActiveOutputArea();\n",
              "//# sourceURL=js_4ca037aa8e"
            ],
            "text/plain": [
              "<IPython.core.display.Javascript object>"
            ]
          },
          "metadata": {}
        },
        {
          "output_type": "display_data",
          "data": {
            "application/javascript": [
              "window[\"4a89a6c2-a025-11ec-918f-0242ac1c0002\"] = document.querySelector(\"#id104-0-0\");\n",
              "//# sourceURL=js_6c33e781ac"
            ],
            "text/plain": [
              "<IPython.core.display.Javascript object>"
            ]
          },
          "metadata": {}
        },
        {
          "output_type": "display_data",
          "data": {
            "application/javascript": [
              "window[\"4a8a0202-a025-11ec-918f-0242ac1c0002\"] = google.colab.output.setActiveOutputArea(window[\"4a89a6c2-a025-11ec-918f-0242ac1c0002\"]);\n",
              "//# sourceURL=js_a5c291aff0"
            ],
            "text/plain": [
              "<IPython.core.display.Javascript object>"
            ]
          },
          "metadata": {}
        },
        {
          "output_type": "display_data",
          "data": {
            "image/png": "[encoded data removed]",
            "text/plain": [
              "<Figure size 432x288 with 1 Axes>"
            ]
          },
          "metadata": {
            "needs_background": "light"
          }
        },
        {
          "output_type": "display_data",
          "data": {
            "application/javascript": [
              "window[\"4aadcd0e-a025-11ec-918f-0242ac1c0002\"] = google.colab.output.setActiveOutputArea(window[\"4a8914b4-a025-11ec-918f-0242ac1c0002\"]);\n",
              "//# sourceURL=js_c3f860af36"
            ],
            "text/plain": [
              "<IPython.core.display.Javascript object>"
            ]
          },
          "metadata": {}
        }
      ]
    },
    {
      "cell_type": "markdown",
      "source": [
        "## 3. Q-learning in Deterministic environment"
      ],
      "metadata": {
        "id": "i6QjGs7CCQQ4"
      }
    },
    {
      "cell_type": "code",
      "source": [
        "import numpy as np\n",
        "\n",
        "#Q_table\n",
        "Q = np.zeros([16,4])\n",
        "\n",
        "q_d_rewards = []\n",
        "q_d_epsilon_decay = []\n",
        "q_d_episode_list = []\n",
        "episode = 500\n",
        "\n",
        "#parameter\n",
        "decay = 0.99\n",
        "epsilon = 1\n",
        "alpha = 1\n",
        "gamma = 0.9\n",
        "\n",
        "output_grid = widgets.Grid(1, 1)"
      ],
      "metadata": {
        "colab": {
          "base_uri": "https://localhost:8080/",
          "height": 21
        },
        "id": "sS2FmSaVTjux",
        "outputId": "21323027-a236-46cc-ee40-65cc403c0e2b"
      },
      "execution_count": 238,
      "outputs": [
        {
          "output_type": "display_data",
          "data": {
            "text/html": [
              "<style>\n",
              "       table#id122, #id122 > tbody > tr > th, #id122 > tbody > tr > td {\n",
              "         border: 1px solid lightgray;\n",
              "         border-collapse:collapse;\n",
              "         \n",
              "        }</style>"
            ],
            "text/plain": [
              "<IPython.core.display.HTML object>"
            ]
          },
          "metadata": {}
        },
        {
          "output_type": "display_data",
          "data": {
            "text/html": [
              "<table id=id122><tr><td id=id122-0-0></td></tr></table>"
            ],
            "text/plain": [
              "<IPython.core.display.HTML object>"
            ]
          },
          "metadata": {}
        }
      ]
    },
    {
      "cell_type": "code",
      "source": [
        "import pandas as pd\n",
        "\n",
        "qd_env = DGridEnvironment()\n",
        "observation_space = qd_env.observation_space\n",
        "action_space = qd_env.action_space\n",
        "\n",
        "#repeat for each episode \n",
        "for ep in range(1,episode+1):\n",
        "\n",
        "  #observe the initial state s \n",
        "  obs = qd_env.reset()\n",
        "  done = False\n",
        "  epsilon = epsilon * decay\n",
        "  \n",
        "  cumulative_rewards = 0\n",
        "  #repeat for each step of episode\n",
        "  while not done:\n",
        "\n",
        "    state = 4*obs[0] + obs[1]\n",
        "    #select an action a from state s(e.g. epsilon-greedy) and execute it\n",
        "    if np.random.random() < epsilon: \n",
        "      action = np.random.choice(action_space.n) #exploration \n",
        "    else:\n",
        "      action = np.argmax(Q[state,:]) #exploit\n",
        "\n",
        "    #Receive immediate reward r, Observe the new state s'\n",
        "    next_obs, reward, done, _ = qd_env.step(action)\n",
        "    \n",
        "    #Update the table entry for Q(s,a) as follows:\n",
        "    next_state = 4*next_obs[0]+next_obs[1]\n",
        "    Q[state,action] = Q[state,action] + alpha*(reward + gamma*np.max(Q[next_state,:]) - Q[state,action])\n",
        "    cumulative_rewards += reward\n",
        "    obs = next_obs\n",
        "\n",
        "    \n",
        "  \n",
        "  if (ep-1)%20 == 0:\n",
        "    print(\"--------------------------------\")  \n",
        "    print('episode:',ep)  \n",
        "    print('epsilon:',epsilon)\n",
        "    print('rewards:',cumulative_rewards)\n",
        "    \n",
        "  q_d_episode_list.append(ep)\n",
        "  q_d_epsilon_decay.append(epsilon)\n",
        "  q_d_rewards.append(cumulative_rewards)\n",
        "  \n",
        "    \n",
        "\n",
        "qd_env.close()\n"
      ],
      "metadata": {
        "colab": {
          "base_uri": "https://localhost:8080/"
        },
        "id": "1EHUY2bhWkKY",
        "outputId": "9232ad01-6ac4-4f47-c472-97219c6d2dec"
      },
      "execution_count": 239,
      "outputs": [
        {
          "output_type": "stream",
          "name": "stdout",
          "text": [
            "--------------------------------\n",
            "episode: 1\n",
            "epsilon: 0.99\n",
            "rewards: 14.8\n",
            "--------------------------------\n",
            "episode: 21\n",
            "epsilon: 0.8097278682212583\n",
            "rewards: 13.6\n",
            "--------------------------------\n",
            "episode: 41\n",
            "epsilon: 0.6622820409839835\n",
            "rewards: 148.00000000000006\n",
            "--------------------------------\n",
            "episode: 61\n",
            "epsilon: 0.5416850759668536\n",
            "rewards: 8.1\n",
            "--------------------------------\n",
            "episode: 81\n",
            "epsilon: 0.44304798162617254\n",
            "rewards: 12.4\n",
            "--------------------------------\n",
            "episode: 101\n",
            "epsilon: 0.36237201786049694\n",
            "rewards: 72.99999999999999\n",
            "--------------------------------\n",
            "episode: 121\n",
            "epsilon: 0.2963865873992079\n",
            "rewards: 76.0\n",
            "--------------------------------\n",
            "episode: 141\n",
            "epsilon: 0.24241664604458016\n",
            "rewards: 73.5\n",
            "--------------------------------\n",
            "episode: 161\n",
            "epsilon: 0.19827425658891445\n",
            "rewards: 50.5\n",
            "--------------------------------\n",
            "episode: 181\n",
            "epsilon: 0.16216989001100657\n",
            "rewards: 50.7\n",
            "--------------------------------\n",
            "episode: 201\n",
            "epsilon: 0.13263987810938213\n",
            "rewards: 189.5\n",
            "--------------------------------\n",
            "episode: 221\n",
            "epsilon: 0.10848707650771475\n",
            "rewards: 34.5\n",
            "--------------------------------\n",
            "episode: 241\n",
            "epsilon: 0.08873233251530144\n",
            "rewards: 176.4\n",
            "--------------------------------\n",
            "episode: 261\n",
            "epsilon: 0.07257479035344938\n",
            "rewards: 287.5\n",
            "--------------------------------\n",
            "episode: 281\n",
            "epsilon: 0.05935942452475082\n",
            "rewards: 682.7\n",
            "--------------------------------\n",
            "episode: 301\n",
            "epsilon: 0.0485504851305729\n",
            "rewards: 334.6\n",
            "--------------------------------\n",
            "episode: 321\n",
            "epsilon: 0.03970977861200675\n",
            "rewards: 239.60000000000002\n",
            "--------------------------------\n",
            "episode: 341\n",
            "epsilon: 0.032478903417210436\n",
            "rewards: 395.6\n",
            "--------------------------------\n",
            "episode: 361\n",
            "epsilon: 0.02656472043048682\n",
            "rewards: 63.7\n",
            "--------------------------------\n",
            "episode: 381\n",
            "epsilon: 0.021727469135426065\n",
            "rewards: 975.6\n",
            "--------------------------------\n",
            "episode: 401\n",
            "epsilon: 0.017771047742294682\n",
            "rewards: 671.4999999999999\n",
            "--------------------------------\n",
            "episode: 421\n",
            "epsilon: 0.01453506323679443\n",
            "rewards: 678.5\n",
            "--------------------------------\n",
            "episode: 441\n",
            "epsilon: 0.011888329059788623\n",
            "rewards: 1570.7\n",
            "--------------------------------\n",
            "episode: 461\n",
            "epsilon: 0.00972354681443988\n",
            "rewards: 2498.5\n",
            "--------------------------------\n",
            "episode: 481\n",
            "epsilon: 0.00795295639758183\n",
            "rewards: 5083.3\n"
          ]
        }
      ]
    },
    {
      "cell_type": "code",
      "source": [
        "#epsilon decay per episode \n",
        "with output_grid.output_to(0, 0):\n",
        "  plt.plot(q_d_episode_list,q_d_epsilon_decay)\n",
        "  plt.xlabel(\"episode\")\n",
        "  plt.ylabel(\"epsilon decay\")"
      ],
      "metadata": {
        "colab": {
          "base_uri": "https://localhost:8080/",
          "height": 279
        },
        "id": "NPcih6fh4fIf",
        "outputId": "c328c2e5-29fc-42e1-a4f4-840a082ec0c5"
      },
      "execution_count": 229,
      "outputs": [
        {
          "output_type": "display_data",
          "data": {
            "application/javascript": [
              "window[\"d3b9101c-a026-11ec-918f-0242ac1c0002\"] = google.colab.output.getActiveOutputArea();\n",
              "//# sourceURL=js_783f54a8a2"
            ],
            "text/plain": [
              "<IPython.core.display.Javascript object>"
            ]
          },
          "metadata": {}
        },
        {
          "output_type": "display_data",
          "data": {
            "application/javascript": [
              "window[\"d3b9effa-a026-11ec-918f-0242ac1c0002\"] = document.querySelector(\"#id114-0-0\");\n",
              "//# sourceURL=js_af4aa0cf23"
            ],
            "text/plain": [
              "<IPython.core.display.Javascript object>"
            ]
          },
          "metadata": {}
        },
        {
          "output_type": "display_data",
          "data": {
            "application/javascript": [
              "window[\"d3ba6b88-a026-11ec-918f-0242ac1c0002\"] = google.colab.output.setActiveOutputArea(window[\"d3b9effa-a026-11ec-918f-0242ac1c0002\"]);\n",
              "//# sourceURL=js_da63270aad"
            ],
            "text/plain": [
              "<IPython.core.display.Javascript object>"
            ]
          },
          "metadata": {}
        },
        {
          "output_type": "display_data",
          "data": {
            "image/png": "[encoded data removed]",
            "text/plain": [
              "<Figure size 432x288 with 1 Axes>"
            ]
          },
          "metadata": {
            "needs_background": "light"
          }
        },
        {
          "output_type": "display_data",
          "data": {
            "application/javascript": [
              "window[\"d3d59caa-a026-11ec-918f-0242ac1c0002\"] = google.colab.output.setActiveOutputArea(window[\"d3b9101c-a026-11ec-918f-0242ac1c0002\"]);\n",
              "//# sourceURL=js_a387f8863d"
            ],
            "text/plain": [
              "<IPython.core.display.Javascript object>"
            ]
          },
          "metadata": {}
        }
      ]
    },
    {
      "cell_type": "code",
      "source": [
        "#rewards per episode \n",
        "with output_grid.output_to(0, 0):\n",
        "  plt.plot(q_d_episode_list,q_d_rewards)\n",
        "  plt.xlabel(\"episode\")\n",
        "  plt.ylabel(\"rewards\")"
      ],
      "metadata": {
        "colab": {
          "base_uri": "https://localhost:8080/",
          "height": 279
        },
        "id": "5_RTrasy7VdI",
        "outputId": "b22caefc-d58d-4516-cb0b-a9da0b27a7ad"
      },
      "execution_count": 240,
      "outputs": [
        {
          "output_type": "display_data",
          "data": {
            "application/javascript": [
              "window[\"1e5d99ee-a027-11ec-918f-0242ac1c0002\"] = google.colab.output.getActiveOutputArea();\n",
              "//# sourceURL=js_8f43a0093a"
            ],
            "text/plain": [
              "<IPython.core.display.Javascript object>"
            ]
          },
          "metadata": {}
        },
        {
          "output_type": "display_data",
          "data": {
            "application/javascript": [
              "window[\"1e5e290e-a027-11ec-918f-0242ac1c0002\"] = document.querySelector(\"#id122-0-0\");\n",
              "//# sourceURL=js_b0bbd66ce9"
            ],
            "text/plain": [
              "<IPython.core.display.Javascript object>"
            ]
          },
          "metadata": {}
        },
        {
          "output_type": "display_data",
          "data": {
            "application/javascript": [
              "window[\"1e5e96dc-a027-11ec-918f-0242ac1c0002\"] = google.colab.output.setActiveOutputArea(window[\"1e5e290e-a027-11ec-918f-0242ac1c0002\"]);\n",
              "//# sourceURL=js_fdbeb8f6f4"
            ],
            "text/plain": [
              "<IPython.core.display.Javascript object>"
            ]
          },
          "metadata": {}
        },
        {
          "output_type": "display_data",
          "data": {
            "image/png": "[encoded data removed]",
            "text/plain": [
              "<Figure size 432x288 with 1 Axes>"
            ]
          },
          "metadata": {
            "needs_background": "light"
          }
        },
        {
          "output_type": "display_data",
          "data": {
            "application/javascript": [
              "window[\"1e77bc84-a027-11ec-918f-0242ac1c0002\"] = google.colab.output.setActiveOutputArea(window[\"1e5d99ee-a027-11ec-918f-0242ac1c0002\"]);\n",
              "//# sourceURL=js_a5b99bad5f"
            ],
            "text/plain": [
              "<IPython.core.display.Javascript object>"
            ]
          },
          "metadata": {}
        }
      ]
    },
    {
      "cell_type": "markdown",
      "source": [
        "##4. Q-learning in Stochastic environment"
      ],
      "metadata": {
        "id": "5fzyNFI_CYqR"
      }
    },
    {
      "cell_type": "code",
      "source": [
        "import numpy as np\n",
        "\n",
        "#Q_table\n",
        "Q = np.zeros([16,4])\n",
        "\n",
        "q_s_rewards = []\n",
        "q_s_epsilon_decay = []\n",
        "q_s_episode_list = []\n",
        "episode = 500\n",
        "\n",
        "#parameter\n",
        "decay = 0.99 \n",
        "epsilon = 1\n",
        "alpha = 1\n",
        "gamma = 0.9\n",
        "\n",
        "output_grid = widgets.Grid(1, 1)"
      ],
      "metadata": {
        "colab": {
          "base_uri": "https://localhost:8080/",
          "height": 21
        },
        "id": "G8E7lB2y8jVR",
        "outputId": "e9937033-25da-425f-d2ab-c356c2e23bd3"
      },
      "execution_count": 266,
      "outputs": [
        {
          "output_type": "display_data",
          "data": {
            "text/html": [
              "<style>\n",
              "       table#id124, #id124 > tbody > tr > th, #id124 > tbody > tr > td {\n",
              "         border: 1px solid lightgray;\n",
              "         border-collapse:collapse;\n",
              "         \n",
              "        }</style>"
            ],
            "text/plain": [
              "<IPython.core.display.HTML object>"
            ]
          },
          "metadata": {}
        },
        {
          "output_type": "display_data",
          "data": {
            "text/html": [
              "<table id=id124><tr><td id=id124-0-0></td></tr></table>"
            ],
            "text/plain": [
              "<IPython.core.display.HTML object>"
            ]
          },
          "metadata": {}
        }
      ]
    },
    {
      "cell_type": "code",
      "source": [
        "import pandas as pd\n",
        "\n",
        "qs_env = SGridEnvironment()\n",
        "observation_space = qs_env.observation_space\n",
        "action_space = qs_env.action_space\n",
        "\n",
        "#repeat for each episode \n",
        "for ep in range(1,episode+1):\n",
        "\n",
        "  #observe the initial state s \n",
        "  obs = qs_env.reset()\n",
        "  done = False\n",
        "  epsilon = epsilon * decay\n",
        "  \n",
        "  cumulative_rewards = 0\n",
        "  #repeat for each step of episode\n",
        "  while not done:\n",
        "\n",
        "    state = 4*obs[0] + obs[1]\n",
        "    #select an action a from state s(e.g. epsilon-greedy) and execute it\n",
        "    if np.random.random() < epsilon: \n",
        "      action = np.random.choice(action_space.n) #exploration \n",
        "    else:\n",
        "      action = np.argmax(Q[state,:]) #exploit\n",
        "\n",
        "    #Receive immediate reward r, Observe the new state s'\n",
        "    next_obs, reward, done, _ = qs_env.step(action)\n",
        "    \n",
        "    #Update the table entry for Q(s,a) as follows:\n",
        "    next_state = 4*next_obs[0]+next_obs[1]\n",
        "    Q[state,action] = Q[state,action] + alpha*(reward + gamma*np.max(Q[next_state,:]) - Q[state,action])\n",
        "    cumulative_rewards += reward\n",
        "    obs = next_obs\n",
        "\n",
        "    \n",
        "  \n",
        "  if (ep-1)%20 == 0:\n",
        "    print(\"--------------------------------\")  \n",
        "    print('episode:',ep)  \n",
        "    print('epsilon:',epsilon)\n",
        "    print('rewards:',cumulative_rewards)\n",
        "    \n",
        "  q_s_episode_list.append(ep)\n",
        "  q_s_epsilon_decay.append(epsilon)\n",
        "  q_s_rewards.append(cumulative_rewards)\n",
        "  \n",
        "    \n",
        "\n",
        "qs_env.close()\n"
      ],
      "metadata": {
        "colab": {
          "base_uri": "https://localhost:8080/"
        },
        "id": "W2woEn_b34TA",
        "outputId": "2b673132-ac6c-4c02-d1ab-57857577553d"
      },
      "execution_count": 267,
      "outputs": [
        {
          "output_type": "stream",
          "name": "stdout",
          "text": [
            "--------------------------------\n",
            "episode: 1\n",
            "epsilon: 0.99\n",
            "rewards: 11.200000000000003\n",
            "--------------------------------\n",
            "episode: 21\n",
            "epsilon: 0.8097278682212583\n",
            "rewards: 11.2\n",
            "--------------------------------\n",
            "episode: 41\n",
            "epsilon: 0.6622820409839835\n",
            "rewards: 78.40000000000026\n",
            "--------------------------------\n",
            "episode: 61\n",
            "epsilon: 0.5416850759668536\n",
            "rewards: 18.200000000000003\n",
            "--------------------------------\n",
            "episode: 81\n",
            "epsilon: 0.44304798162617254\n",
            "rewards: 7.800000000000001\n",
            "--------------------------------\n",
            "episode: 101\n",
            "epsilon: 0.36237201786049694\n",
            "rewards: 54.1\n",
            "--------------------------------\n",
            "episode: 121\n",
            "epsilon: 0.2963865873992079\n",
            "rewards: 51.09999999999998\n",
            "--------------------------------\n",
            "episode: 141\n",
            "epsilon: 0.24241664604458016\n",
            "rewards: 28.0\n",
            "--------------------------------\n",
            "episode: 161\n",
            "epsilon: 0.19827425658891445\n",
            "rewards: 34.99999999999999\n",
            "--------------------------------\n",
            "episode: 181\n",
            "epsilon: 0.16216989001100657\n",
            "rewards: 21.4\n",
            "--------------------------------\n",
            "episode: 201\n",
            "epsilon: 0.13263987810938213\n",
            "rewards: 42.6\n",
            "--------------------------------\n",
            "episode: 221\n",
            "epsilon: 0.10848707650771475\n",
            "rewards: 17.0\n",
            "--------------------------------\n",
            "episode: 241\n",
            "epsilon: 0.08873233251530144\n",
            "rewards: 23.500000000000007\n",
            "--------------------------------\n",
            "episode: 261\n",
            "epsilon: 0.07257479035344938\n",
            "rewards: 13.6\n",
            "--------------------------------\n",
            "episode: 281\n",
            "epsilon: 0.05935942452475082\n",
            "rewards: 113.00000000000024\n",
            "--------------------------------\n",
            "episode: 301\n",
            "epsilon: 0.0485504851305729\n",
            "rewards: 23.1\n",
            "--------------------------------\n",
            "episode: 321\n",
            "epsilon: 0.03970977861200675\n",
            "rewards: 101.80000000000007\n",
            "--------------------------------\n",
            "episode: 341\n",
            "epsilon: 0.032478903417210436\n",
            "rewards: 21.500000000000007\n",
            "--------------------------------\n",
            "episode: 361\n",
            "epsilon: 0.02656472043048682\n",
            "rewards: 27.4\n",
            "--------------------------------\n",
            "episode: 381\n",
            "epsilon: 0.021727469135426065\n",
            "rewards: 26.7\n",
            "--------------------------------\n",
            "episode: 401\n",
            "epsilon: 0.017771047742294682\n",
            "rewards: 20.9\n",
            "--------------------------------\n",
            "episode: 421\n",
            "epsilon: 0.01453506323679443\n",
            "rewards: 7.3\n",
            "--------------------------------\n",
            "episode: 441\n",
            "epsilon: 0.011888329059788623\n",
            "rewards: 9.9\n",
            "--------------------------------\n",
            "episode: 461\n",
            "epsilon: 0.00972354681443988\n",
            "rewards: 21.7\n",
            "--------------------------------\n",
            "episode: 481\n",
            "epsilon: 0.00795295639758183\n",
            "rewards: 18.2\n"
          ]
        }
      ]
    },
    {
      "cell_type": "code",
      "source": [
        "#epsilon decay per episode \n",
        "with output_grid.output_to(0, 0):\n",
        "  plt.plot(q_s_episode_list,q_s_epsilon_decay)\n",
        "  plt.xlabel(\"episode\")\n",
        "  plt.ylabel(\"epsilon decay\")"
      ],
      "metadata": {
        "colab": {
          "base_uri": "https://localhost:8080/",
          "height": 279
        },
        "id": "Xj7M6Kep_36B",
        "outputId": "2f2655cb-7ccb-4c77-a5c4-90b28c842bd6"
      },
      "execution_count": 268,
      "outputs": [
        {
          "output_type": "display_data",
          "data": {
            "application/javascript": [
              "window[\"c84f62b0-a028-11ec-918f-0242ac1c0002\"] = google.colab.output.getActiveOutputArea();\n",
              "//# sourceURL=js_4f624ace20"
            ],
            "text/plain": [
              "<IPython.core.display.Javascript object>"
            ]
          },
          "metadata": {}
        },
        {
          "output_type": "display_data",
          "data": {
            "application/javascript": [
              "window[\"c84fc4b2-a028-11ec-918f-0242ac1c0002\"] = document.querySelector(\"#id124-0-0\");\n",
              "//# sourceURL=js_4c4c2a6a9c"
            ],
            "text/plain": [
              "<IPython.core.display.Javascript object>"
            ]
          },
          "metadata": {}
        },
        {
          "output_type": "display_data",
          "data": {
            "application/javascript": [
              "window[\"c850919e-a028-11ec-918f-0242ac1c0002\"] = google.colab.output.setActiveOutputArea(window[\"c84fc4b2-a028-11ec-918f-0242ac1c0002\"]);\n",
              "//# sourceURL=js_2e0c8a3f88"
            ],
            "text/plain": [
              "<IPython.core.display.Javascript object>"
            ]
          },
          "metadata": {}
        },
        {
          "output_type": "display_data",
          "data": {
            "image/png": "[encoded data removed]",
            "text/plain": [
              "<Figure size 432x288 with 1 Axes>"
            ]
          },
          "metadata": {
            "needs_background": "light"
          }
        },
        {
          "output_type": "display_data",
          "data": {
            "application/javascript": [
              "window[\"c86a2280-a028-11ec-918f-0242ac1c0002\"] = google.colab.output.setActiveOutputArea(window[\"c84f62b0-a028-11ec-918f-0242ac1c0002\"]);\n",
              "//# sourceURL=js_3b86f120ca"
            ],
            "text/plain": [
              "<IPython.core.display.Javascript object>"
            ]
          },
          "metadata": {}
        }
      ]
    },
    {
      "cell_type": "code",
      "source": [
        "#rewards per episode \n",
        "with output_grid.output_to(0, 0):\n",
        "  plt.plot(q_s_episode_list,q_s_rewards)\n",
        "  plt.xlabel(\"episode\")\n",
        "  plt.ylabel(\"rewards\")"
      ],
      "metadata": {
        "colab": {
          "base_uri": "https://localhost:8080/",
          "height": 279
        },
        "id": "UkHvKBCiufKf",
        "outputId": "4725c399-808c-41a3-9ead-7aa10bb4db9b"
      },
      "execution_count": 269,
      "outputs": [
        {
          "output_type": "display_data",
          "data": {
            "application/javascript": [
              "window[\"c993a3fc-a028-11ec-918f-0242ac1c0002\"] = google.colab.output.getActiveOutputArea();\n",
              "//# sourceURL=js_63139ae54b"
            ],
            "text/plain": [
              "<IPython.core.display.Javascript object>"
            ]
          },
          "metadata": {}
        },
        {
          "output_type": "display_data",
          "data": {
            "application/javascript": [
              "window[\"c9940482-a028-11ec-918f-0242ac1c0002\"] = document.querySelector(\"#id124-0-0\");\n",
              "//# sourceURL=js_4e52b56c17"
            ],
            "text/plain": [
              "<IPython.core.display.Javascript object>"
            ]
          },
          "metadata": {}
        },
        {
          "output_type": "display_data",
          "data": {
            "application/javascript": [
              "window[\"c9946a6c-a028-11ec-918f-0242ac1c0002\"] = google.colab.output.setActiveOutputArea(window[\"c9940482-a028-11ec-918f-0242ac1c0002\"]);\n",
              "//# sourceURL=js_97707825e5"
            ],
            "text/plain": [
              "<IPython.core.display.Javascript object>"
            ]
          },
          "metadata": {}
        },
        {
          "output_type": "display_data",
          "data": {
            "image/png": "[encoded data removed]",
            "text/plain": [
              "<Figure size 432x288 with 1 Axes>"
            ]
          },
          "metadata": {
            "needs_background": "light"
          }
        },
        {
          "output_type": "display_data",
          "data": {
            "application/javascript": [
              "window[\"c9b1c79c-a028-11ec-918f-0242ac1c0002\"] = google.colab.output.setActiveOutputArea(window[\"c993a3fc-a028-11ec-918f-0242ac1c0002\"]);\n",
              "//# sourceURL=js_6cd79fd8b8"
            ],
            "text/plain": [
              "<IPython.core.display.Javascript object>"
            ]
          },
          "metadata": {}
        }
      ]
    },
    {
      "cell_type": "markdown",
      "source": [
        "## 5. SARSA in Deterministic environment"
      ],
      "metadata": {
        "id": "QSumZU4FCg4r"
      }
    },
    {
      "cell_type": "code",
      "source": [
        "import numpy as np\n",
        "\n",
        "#Q_table\n",
        "Q = np.zeros([16,4])\n",
        "\n",
        "s_d_rewards = []\n",
        "s_d_epsilon_decay = []\n",
        "s_d_episode_list = []\n",
        "episode = 500\n",
        "\n",
        "#parameter\n",
        "decay = 0.99\n",
        "epsilon = 1\n",
        "alpha = 1\n",
        "gamma = 0.9 \n",
        "\n",
        "output_grid = widgets.Grid(1, 1)"
      ],
      "metadata": {
        "colab": {
          "base_uri": "https://localhost:8080/",
          "height": 21
        },
        "id": "DDUM1cDS342q",
        "outputId": "83945803-585b-43af-d71c-a1e75a674b02"
      },
      "execution_count": 289,
      "outputs": [
        {
          "output_type": "display_data",
          "data": {
            "text/html": [
              "<style>\n",
              "       table#id128, #id128 > tbody > tr > th, #id128 > tbody > tr > td {\n",
              "         border: 1px solid lightgray;\n",
              "         border-collapse:collapse;\n",
              "         \n",
              "        }</style>"
            ],
            "text/plain": [
              "<IPython.core.display.HTML object>"
            ]
          },
          "metadata": {}
        },
        {
          "output_type": "display_data",
          "data": {
            "text/html": [
              "<table id=id128><tr><td id=id128-0-0></td></tr></table>"
            ],
            "text/plain": [
              "<IPython.core.display.HTML object>"
            ]
          },
          "metadata": {}
        }
      ]
    },
    {
      "cell_type": "code",
      "source": [
        "import pandas as pd\n",
        "\n",
        "sd_env = DGridEnvironment()\n",
        "observation_space = sd_env.observation_space\n",
        "action_space = sd_env.action_space\n",
        "\n",
        "#repeat for each episode \n",
        "for ep in range(1,episode+1):\n",
        "\n",
        "  #observe the initial state s \n",
        "  obs = sd_env.reset()\n",
        "  done = False\n",
        "  epsilon = epsilon * decay \n",
        "  \n",
        "  state = 4*obs[0] + obs[1]\n",
        "  #Choose A from S using policy derived from Q(e-greedy)\n",
        "  if np.random.random() > epsilon: \n",
        "    action = np.argmax(Q[state,:]) #exploit \n",
        "  else:\n",
        "    action = np.random.choice(action_space.n) #exploration\n",
        "\n",
        "  cumulative_rewards = 0\n",
        "  #repeat for each step of episode\n",
        "  while not done:\n",
        "\n",
        "    #Receive immediate reward r, Observe the new state s'\n",
        "    next_obs, reward, done, _ = sd_env.step(action)\n",
        "\n",
        "    next_state = 4*next_obs[0]+next_obs[1]\n",
        "    #select an action' a from state s'(e.g. epsilon-greedy) and execute it\n",
        "    if np.random.random() > epsilon: \n",
        "      next_action = np.argmax(Q[next_state,:]) #exploit \n",
        "    else:\n",
        "      next_action = np.random.choice(action_space.n) #exploration\n",
        "\n",
        "\n",
        "    #Update the table entry for Q(s,a) as follows:\n",
        "    \n",
        "    Q[state,action] = Q[state,action] + alpha*(reward + gamma*Q[next_state,next_action] - Q[state,action])\n",
        "    cumulative_rewards += reward\n",
        "    obs = next_obs\n",
        "    action = next_action\n",
        "    \n",
        "  print(\"--------------------------------\")  \n",
        "  print('episode:',ep)  \n",
        "  print('epsilon:',epsilon)\n",
        "  print('rewards:',cumulative_rewards)\n",
        "  \n",
        "  s_d_episode_list.append(ep)\n",
        "  s_d_epsilon_decay.append(epsilon)\n",
        "  s_d_rewards.append(cumulative_rewards)\n",
        "  \n",
        "    \n",
        "\n",
        "sd_env.close()\n"
      ],
      "metadata": {
        "colab": {
          "base_uri": "https://localhost:8080/"
        },
        "id": "A35U4QlFwDc_",
        "outputId": "19564821-e4d6-4682-d434-a5b12eb20d18"
      },
      "execution_count": 290,
      "outputs": [
        {
          "output_type": "stream",
          "name": "stdout",
          "text": [
            "--------------------------------\n",
            "episode: 1\n",
            "epsilon: 0.99\n",
            "rewards: 9.6\n",
            "--------------------------------\n",
            "episode: 2\n",
            "epsilon: 0.9801\n",
            "rewards: 25.699999999999996\n",
            "--------------------------------\n",
            "episode: 3\n",
            "epsilon: 0.9702989999999999\n",
            "rewards: 26.000000000000014\n",
            "--------------------------------\n",
            "episode: 4\n",
            "epsilon: 0.96059601\n",
            "rewards: 59.09999999999999\n",
            "--------------------------------\n",
            "episode: 5\n",
            "epsilon: 0.9509900498999999\n",
            "rewards: 12.2\n",
            "--------------------------------\n",
            "episode: 6\n",
            "epsilon: 0.9414801494009999\n",
            "rewards: 40.59999999999998\n",
            "--------------------------------\n",
            "episode: 7\n",
            "epsilon: 0.9320653479069899\n",
            "rewards: 27.0\n",
            "--------------------------------\n",
            "episode: 8\n",
            "epsilon: 0.92274469442792\n",
            "rewards: 21.299999999999997\n",
            "--------------------------------\n",
            "episode: 9\n",
            "epsilon: 0.9135172474836407\n",
            "rewards: 18.3\n",
            "--------------------------------\n",
            "episode: 10\n",
            "epsilon: 0.9043820750088043\n",
            "rewards: 9.299999999999999\n",
            "--------------------------------\n",
            "episode: 11\n",
            "epsilon: 0.8953382542587163\n",
            "rewards: 6.9\n",
            "--------------------------------\n",
            "episode: 12\n",
            "epsilon: 0.8863848717161291\n",
            "rewards: 16.300000000000004\n",
            "--------------------------------\n",
            "episode: 13\n",
            "epsilon: 0.8775210229989678\n",
            "rewards: 20.299999999999997\n",
            "--------------------------------\n",
            "episode: 14\n",
            "epsilon: 0.8687458127689781\n",
            "rewards: 15.7\n",
            "--------------------------------\n",
            "episode: 15\n",
            "epsilon: 0.8600583546412883\n",
            "rewards: 38.7\n",
            "--------------------------------\n",
            "episode: 16\n",
            "epsilon: 0.8514577710948754\n",
            "rewards: 8.1\n",
            "--------------------------------\n",
            "episode: 17\n",
            "epsilon: 0.8429431933839266\n",
            "rewards: 49.799999999999955\n",
            "--------------------------------\n",
            "episode: 18\n",
            "epsilon: 0.8345137614500874\n",
            "rewards: 8.0\n",
            "--------------------------------\n",
            "episode: 19\n",
            "epsilon: 0.8261686238355865\n",
            "rewards: 36.19999999999999\n",
            "--------------------------------\n",
            "episode: 20\n",
            "epsilon: 0.8179069375972307\n",
            "rewards: 21.0\n",
            "--------------------------------\n",
            "episode: 21\n",
            "epsilon: 0.8097278682212583\n",
            "rewards: 32.7\n",
            "--------------------------------\n",
            "episode: 22\n",
            "epsilon: 0.8016305895390458\n",
            "rewards: 7.099999999999998\n",
            "--------------------------------\n",
            "episode: 23\n",
            "epsilon: 0.7936142836436553\n",
            "rewards: 10.3\n",
            "--------------------------------\n",
            "episode: 24\n",
            "epsilon: 0.7856781408072188\n",
            "rewards: 14.600000000000001\n",
            "--------------------------------\n",
            "episode: 25\n",
            "epsilon: 0.7778213593991465\n",
            "rewards: 10.3\n",
            "--------------------------------\n",
            "episode: 26\n",
            "epsilon: 0.7700431458051551\n",
            "rewards: 56.49999999999994\n",
            "--------------------------------\n",
            "episode: 27\n",
            "epsilon: 0.7623427143471035\n",
            "rewards: 7.199999999999999\n",
            "--------------------------------\n",
            "episode: 28\n",
            "epsilon: 0.7547192872036325\n",
            "rewards: 20.900000000000006\n",
            "--------------------------------\n",
            "episode: 29\n",
            "epsilon: 0.7471720943315961\n",
            "rewards: 39.9\n",
            "--------------------------------\n",
            "episode: 30\n",
            "epsilon: 0.7397003733882802\n",
            "rewards: 57.59999999999993\n",
            "--------------------------------\n",
            "episode: 31\n",
            "epsilon: 0.7323033696543974\n",
            "rewards: 26.79999999999999\n",
            "--------------------------------\n",
            "episode: 32\n",
            "epsilon: 0.7249803359578534\n",
            "rewards: 14.9\n",
            "--------------------------------\n",
            "episode: 33\n",
            "epsilon: 0.7177305325982748\n",
            "rewards: 17.200000000000017\n",
            "--------------------------------\n",
            "episode: 34\n",
            "epsilon: 0.7105532272722921\n",
            "rewards: 52.99999999999996\n",
            "--------------------------------\n",
            "episode: 35\n",
            "epsilon: 0.7034476949995692\n",
            "rewards: 14.5\n",
            "--------------------------------\n",
            "episode: 36\n",
            "epsilon: 0.6964132180495735\n",
            "rewards: 36.699999999999974\n",
            "--------------------------------\n",
            "episode: 37\n",
            "epsilon: 0.6894490858690777\n",
            "rewards: 32.79999999999999\n",
            "--------------------------------\n",
            "episode: 38\n",
            "epsilon: 0.682554595010387\n",
            "rewards: 12.0\n",
            "--------------------------------\n",
            "episode: 39\n",
            "epsilon: 0.6757290490602831\n",
            "rewards: 28.39999999999997\n",
            "--------------------------------\n",
            "episode: 40\n",
            "epsilon: 0.6689717585696803\n",
            "rewards: 6.6\n",
            "--------------------------------\n",
            "episode: 41\n",
            "epsilon: 0.6622820409839835\n",
            "rewards: 10.20000000000002\n",
            "--------------------------------\n",
            "episode: 42\n",
            "epsilon: 0.6556592205741436\n",
            "rewards: 13.3\n",
            "--------------------------------\n",
            "episode: 43\n",
            "epsilon: 0.6491026283684022\n",
            "rewards: 21.700000000000003\n",
            "--------------------------------\n",
            "episode: 44\n",
            "epsilon: 0.6426116020847181\n",
            "rewards: 34.10000000000001\n",
            "--------------------------------\n",
            "episode: 45\n",
            "epsilon: 0.6361854860638709\n",
            "rewards: 25.799999999999997\n",
            "--------------------------------\n",
            "episode: 46\n",
            "epsilon: 0.6298236312032323\n",
            "rewards: 15.6\n",
            "--------------------------------\n",
            "episode: 47\n",
            "epsilon: 0.6235253948912\n",
            "rewards: 19.3\n",
            "--------------------------------\n",
            "episode: 48\n",
            "epsilon: 0.617290140942288\n",
            "rewards: 26.900000000000002\n",
            "--------------------------------\n",
            "episode: 49\n",
            "epsilon: 0.6111172395328651\n",
            "rewards: 28.4\n",
            "--------------------------------\n",
            "episode: 50\n",
            "epsilon: 0.6050060671375365\n",
            "rewards: 12.999999999999993\n",
            "--------------------------------\n",
            "episode: 51\n",
            "epsilon: 0.5989560064661611\n",
            "rewards: 30.200000000000003\n",
            "--------------------------------\n",
            "episode: 52\n",
            "epsilon: 0.5929664464014994\n",
            "rewards: 11.5\n",
            "--------------------------------\n",
            "episode: 53\n",
            "epsilon: 0.5870367819374844\n",
            "rewards: 72.6\n",
            "--------------------------------\n",
            "episode: 54\n",
            "epsilon: 0.5811664141181095\n",
            "rewards: 26.100000000000005\n",
            "--------------------------------\n",
            "episode: 55\n",
            "epsilon: 0.5753547499769285\n",
            "rewards: 68.69999999999993\n",
            "--------------------------------\n",
            "episode: 56\n",
            "epsilon: 0.5696012024771592\n",
            "rewards: 13.5\n",
            "--------------------------------\n",
            "episode: 57\n",
            "epsilon: 0.5639051904523876\n",
            "rewards: 10.6\n",
            "--------------------------------\n",
            "episode: 58\n",
            "epsilon: 0.5582661385478638\n",
            "rewards: 73.79999999999998\n",
            "--------------------------------\n",
            "episode: 59\n",
            "epsilon: 0.5526834771623851\n",
            "rewards: 7.5\n",
            "--------------------------------\n",
            "episode: 60\n",
            "epsilon: 0.5471566423907612\n",
            "rewards: 15.7\n",
            "--------------------------------\n",
            "episode: 61\n",
            "epsilon: 0.5416850759668536\n",
            "rewards: 14.1\n",
            "--------------------------------\n",
            "episode: 62\n",
            "epsilon: 0.536268225207185\n",
            "rewards: 28.2\n",
            "--------------------------------\n",
            "episode: 63\n",
            "epsilon: 0.5309055429551132\n",
            "rewards: 43.4\n",
            "--------------------------------\n",
            "episode: 64\n",
            "epsilon: 0.525596487525562\n",
            "rewards: 40.1\n",
            "--------------------------------\n",
            "episode: 65\n",
            "epsilon: 0.5203405226503064\n",
            "rewards: 57.49999999999999\n",
            "--------------------------------\n",
            "episode: 66\n",
            "epsilon: 0.5151371174238033\n",
            "rewards: 6.4000000000000075\n",
            "--------------------------------\n",
            "episode: 67\n",
            "epsilon: 0.5099857462495653\n",
            "rewards: 15.6\n",
            "--------------------------------\n",
            "episode: 68\n",
            "epsilon: 0.5048858887870696\n",
            "rewards: 10.799999999999999\n",
            "--------------------------------\n",
            "episode: 69\n",
            "epsilon: 0.4998370298991989\n",
            "rewards: 47.699999999999974\n",
            "--------------------------------\n",
            "episode: 70\n",
            "epsilon: 0.49483865960020695\n",
            "rewards: 21.999999999999996\n",
            "--------------------------------\n",
            "episode: 71\n",
            "epsilon: 0.4898902730042049\n",
            "rewards: 57.1\n",
            "--------------------------------\n",
            "episode: 72\n",
            "epsilon: 0.48499137027416284\n",
            "rewards: 73.0\n",
            "--------------------------------\n",
            "episode: 73\n",
            "epsilon: 0.4801414565714212\n",
            "rewards: 14.799999999999999\n",
            "--------------------------------\n",
            "episode: 74\n",
            "epsilon: 0.475340042005707\n",
            "rewards: 11.5\n",
            "--------------------------------\n",
            "episode: 75\n",
            "epsilon: 0.47058664158564995\n",
            "rewards: 23.800000000000004\n",
            "--------------------------------\n",
            "episode: 76\n",
            "epsilon: 0.4658807751697934\n",
            "rewards: 17.099999999999998\n",
            "--------------------------------\n",
            "episode: 77\n",
            "epsilon: 0.4612219674180955\n",
            "rewards: 35.9\n",
            "--------------------------------\n",
            "episode: 78\n",
            "epsilon: 0.45660974774391455\n",
            "rewards: 17.0\n",
            "--------------------------------\n",
            "episode: 79\n",
            "epsilon: 0.4520436502664754\n",
            "rewards: 9.5\n",
            "--------------------------------\n",
            "episode: 80\n",
            "epsilon: 0.44752321376381066\n",
            "rewards: 8.7\n",
            "--------------------------------\n",
            "episode: 81\n",
            "epsilon: 0.44304798162617254\n",
            "rewards: 73.79999999999986\n",
            "--------------------------------\n",
            "episode: 82\n",
            "epsilon: 0.4386175018099108\n",
            "rewards: 53.50000000000001\n",
            "--------------------------------\n",
            "episode: 83\n",
            "epsilon: 0.4342313267918117\n",
            "rewards: 92.0999999999999\n",
            "--------------------------------\n",
            "episode: 84\n",
            "epsilon: 0.4298890135238936\n",
            "rewards: 11.7\n",
            "--------------------------------\n",
            "episode: 85\n",
            "epsilon: 0.42559012338865465\n",
            "rewards: 66.09999999999998\n",
            "--------------------------------\n",
            "episode: 86\n",
            "epsilon: 0.4213342221547681\n",
            "rewards: 44.9\n",
            "--------------------------------\n",
            "episode: 87\n",
            "epsilon: 0.41712087993322045\n",
            "rewards: 8.6\n",
            "--------------------------------\n",
            "episode: 88\n",
            "epsilon: 0.41294967113388825\n",
            "rewards: 5.899999999999999\n",
            "--------------------------------\n",
            "episode: 89\n",
            "epsilon: 0.40882017442254937\n",
            "rewards: 5.900000000000009\n",
            "--------------------------------\n",
            "episode: 90\n",
            "epsilon: 0.4047319726783239\n",
            "rewards: 7.5\n",
            "--------------------------------\n",
            "episode: 91\n",
            "epsilon: 0.40068465295154065\n",
            "rewards: 57.5\n",
            "--------------------------------\n",
            "episode: 92\n",
            "epsilon: 0.39667780642202527\n",
            "rewards: 37.59999999999994\n",
            "--------------------------------\n",
            "episode: 93\n",
            "epsilon: 0.392711028357805\n",
            "rewards: 5.1999999999999975\n",
            "--------------------------------\n",
            "episode: 94\n",
            "epsilon: 0.38878391807422696\n",
            "rewards: 27.6\n",
            "--------------------------------\n",
            "episode: 95\n",
            "epsilon: 0.3848960788934847\n",
            "rewards: 43.6\n",
            "--------------------------------\n",
            "episode: 96\n",
            "epsilon: 0.38104711810454983\n",
            "rewards: -0.3999999999999524\n",
            "--------------------------------\n",
            "episode: 97\n",
            "epsilon: 0.37723664692350434\n",
            "rewards: 37.800000000000026\n",
            "--------------------------------\n",
            "episode: 98\n",
            "epsilon: 0.37346428045426927\n",
            "rewards: 46.599999999999994\n",
            "--------------------------------\n",
            "episode: 99\n",
            "epsilon: 0.36972963764972655\n",
            "rewards: 156.5999999999999\n",
            "--------------------------------\n",
            "episode: 100\n",
            "epsilon: 0.36603234127322926\n",
            "rewards: 16.5\n",
            "--------------------------------\n",
            "episode: 101\n",
            "epsilon: 0.36237201786049694\n",
            "rewards: 54.199999999999996\n",
            "--------------------------------\n",
            "episode: 102\n",
            "epsilon: 0.358748297681892\n",
            "rewards: 13.299999999999997\n",
            "--------------------------------\n",
            "episode: 103\n",
            "epsilon: 0.35516081470507305\n",
            "rewards: 47.600000000000016\n",
            "--------------------------------\n",
            "episode: 104\n",
            "epsilon: 0.3516092065580223\n",
            "rewards: 14.6\n",
            "--------------------------------\n",
            "episode: 105\n",
            "epsilon: 0.34809311449244207\n",
            "rewards: 192.00000000000068\n",
            "--------------------------------\n",
            "episode: 106\n",
            "epsilon: 0.34461218334751764\n",
            "rewards: 39.599999999999966\n",
            "--------------------------------\n",
            "episode: 107\n",
            "epsilon: 0.34116606151404244\n",
            "rewards: 72.6\n",
            "--------------------------------\n",
            "episode: 108\n",
            "epsilon: 0.337754400898902\n",
            "rewards: 61.299999999999905\n",
            "--------------------------------\n",
            "episode: 109\n",
            "epsilon: 0.334376856889913\n",
            "rewards: 54.79999999999986\n",
            "--------------------------------\n",
            "episode: 110\n",
            "epsilon: 0.33103308832101386\n",
            "rewards: 101.10000000000001\n",
            "--------------------------------\n",
            "episode: 111\n",
            "epsilon: 0.3277227574378037\n",
            "rewards: 20.6\n",
            "--------------------------------\n",
            "episode: 112\n",
            "epsilon: 0.3244455298634257\n",
            "rewards: 28.099999999999998\n",
            "--------------------------------\n",
            "episode: 113\n",
            "epsilon: 0.3212010745647914\n",
            "rewards: 12.2\n",
            "--------------------------------\n",
            "episode: 114\n",
            "epsilon: 0.3179890638191435\n",
            "rewards: 7.5\n",
            "--------------------------------\n",
            "episode: 115\n",
            "epsilon: 0.31480917318095203\n",
            "rewards: 51.29999999999999\n",
            "--------------------------------\n",
            "episode: 116\n",
            "epsilon: 0.3116610814491425\n",
            "rewards: 204.5000000000008\n",
            "--------------------------------\n",
            "episode: 117\n",
            "epsilon: 0.30854447063465107\n",
            "rewards: 87.29999999999993\n",
            "--------------------------------\n",
            "episode: 118\n",
            "epsilon: 0.30545902592830454\n",
            "rewards: 77.0\n",
            "--------------------------------\n",
            "episode: 119\n",
            "epsilon: 0.3024044356690215\n",
            "rewards: 2.800000000000006\n",
            "--------------------------------\n",
            "episode: 120\n",
            "epsilon: 0.29938039131233124\n",
            "rewards: 28.40000000000002\n",
            "--------------------------------\n",
            "episode: 121\n",
            "epsilon: 0.2963865873992079\n",
            "rewards: 59.70000000000001\n",
            "--------------------------------\n",
            "episode: 122\n",
            "epsilon: 0.29342272152521587\n",
            "rewards: 6.6\n",
            "--------------------------------\n",
            "episode: 123\n",
            "epsilon: 0.2904884943099637\n",
            "rewards: 6.3\n",
            "--------------------------------\n",
            "episode: 124\n",
            "epsilon: 0.28758360936686406\n",
            "rewards: 24.7\n",
            "--------------------------------\n",
            "episode: 125\n",
            "epsilon: 0.2847077732731954\n",
            "rewards: 145.20000000000056\n",
            "--------------------------------\n",
            "episode: 126\n",
            "epsilon: 0.28186069554046345\n",
            "rewards: 20.200000000000003\n",
            "--------------------------------\n",
            "episode: 127\n",
            "epsilon: 0.2790420885850588\n",
            "rewards: 76.09999999999997\n",
            "--------------------------------\n",
            "episode: 128\n",
            "epsilon: 0.2762516676992082\n",
            "rewards: 4.80000000000001\n",
            "--------------------------------\n",
            "episode: 129\n",
            "epsilon: 0.27348915102221616\n",
            "rewards: 35.2999999999999\n",
            "--------------------------------\n",
            "episode: 130\n",
            "epsilon: 0.270754259511994\n",
            "rewards: 7.900000000000002\n",
            "--------------------------------\n",
            "episode: 131\n",
            "epsilon: 0.26804671691687404\n",
            "rewards: 198.50000000000134\n",
            "--------------------------------\n",
            "episode: 132\n",
            "epsilon: 0.2653662497477053\n",
            "rewards: 15.000000000000002\n",
            "--------------------------------\n",
            "episode: 133\n",
            "epsilon: 0.2627125872502282\n",
            "rewards: 12.1\n",
            "--------------------------------\n",
            "episode: 134\n",
            "epsilon: 0.2600854613777259\n",
            "rewards: 186.70000000000053\n",
            "--------------------------------\n",
            "episode: 135\n",
            "epsilon: 0.2574846067639487\n",
            "rewards: 70.5\n",
            "--------------------------------\n",
            "episode: 136\n",
            "epsilon: 0.2549097606963092\n",
            "rewards: 15.6\n",
            "--------------------------------\n",
            "episode: 137\n",
            "epsilon: 0.2523606630893461\n",
            "rewards: 8.7\n",
            "--------------------------------\n",
            "episode: 138\n",
            "epsilon: 0.24983705645845267\n",
            "rewards: 31.099999999999945\n",
            "--------------------------------\n",
            "episode: 139\n",
            "epsilon: 0.24733868589386815\n",
            "rewards: 59.199999999999925\n",
            "--------------------------------\n",
            "episode: 140\n",
            "epsilon: 0.24486529903492946\n",
            "rewards: 7.8\n",
            "--------------------------------\n",
            "episode: 141\n",
            "epsilon: 0.24241664604458016\n",
            "rewards: 2.7000000000000064\n",
            "--------------------------------\n",
            "episode: 142\n",
            "epsilon: 0.23999247958413436\n",
            "rewards: 50.6\n",
            "--------------------------------\n",
            "episode: 143\n",
            "epsilon: 0.23759255478829303\n",
            "rewards: 20.20000000000003\n",
            "--------------------------------\n",
            "episode: 144\n",
            "epsilon: 0.2352166292404101\n",
            "rewards: 38.0\n",
            "--------------------------------\n",
            "episode: 145\n",
            "epsilon: 0.232864462948006\n",
            "rewards: 9.099999999999998\n",
            "--------------------------------\n",
            "episode: 146\n",
            "epsilon: 0.23053581831852593\n",
            "rewards: 47.7\n",
            "--------------------------------\n",
            "episode: 147\n",
            "epsilon: 0.22823046013534068\n",
            "rewards: 174.00000000000028\n",
            "--------------------------------\n",
            "episode: 148\n",
            "epsilon: 0.22594815553398728\n",
            "rewards: 86.89999999999986\n",
            "--------------------------------\n",
            "episode: 149\n",
            "epsilon: 0.22368867397864742\n",
            "rewards: 6.299999999999999\n",
            "--------------------------------\n",
            "episode: 150\n",
            "epsilon: 0.22145178723886094\n",
            "rewards: 99.10000000000002\n",
            "--------------------------------\n",
            "episode: 151\n",
            "epsilon: 0.21923726936647234\n",
            "rewards: 56.100000000000016\n",
            "--------------------------------\n",
            "episode: 152\n",
            "epsilon: 0.2170448966728076\n",
            "rewards: 16.200000000000003\n",
            "--------------------------------\n",
            "episode: 153\n",
            "epsilon: 0.21487444770607952\n",
            "rewards: 28.000000000000025\n",
            "--------------------------------\n",
            "episode: 154\n",
            "epsilon: 0.21272570322901874\n",
            "rewards: 72.50000000000003\n",
            "--------------------------------\n",
            "episode: 155\n",
            "epsilon: 0.21059844619672854\n",
            "rewards: 118.90000000000003\n",
            "--------------------------------\n",
            "episode: 156\n",
            "epsilon: 0.20849246173476127\n",
            "rewards: 108.69999999999982\n",
            "--------------------------------\n",
            "episode: 157\n",
            "epsilon: 0.20640753711741366\n",
            "rewards: 0.6000000000000139\n",
            "--------------------------------\n",
            "episode: 158\n",
            "epsilon: 0.20434346174623952\n",
            "rewards: 186.10000000000002\n",
            "--------------------------------\n",
            "episode: 159\n",
            "epsilon: 0.20230002712877712\n",
            "rewards: 53.39999999999998\n",
            "--------------------------------\n",
            "episode: 160\n",
            "epsilon: 0.20027702685748935\n",
            "rewards: 19.7\n",
            "--------------------------------\n",
            "episode: 161\n",
            "epsilon: 0.19827425658891445\n",
            "rewards: 43.10000000000001\n",
            "--------------------------------\n",
            "episode: 162\n",
            "epsilon: 0.1962915140230253\n",
            "rewards: 9.200000000000026\n",
            "--------------------------------\n",
            "episode: 163\n",
            "epsilon: 0.19432859888279505\n",
            "rewards: 49.800000000000004\n",
            "--------------------------------\n",
            "episode: 164\n",
            "epsilon: 0.1923853128939671\n",
            "rewards: 17.500000000000025\n",
            "--------------------------------\n",
            "episode: 165\n",
            "epsilon: 0.19046145976502743\n",
            "rewards: 28.099999999999916\n",
            "--------------------------------\n",
            "episode: 166\n",
            "epsilon: 0.18855684516737714\n",
            "rewards: 127.90000000000003\n",
            "--------------------------------\n",
            "episode: 167\n",
            "epsilon: 0.18667127671570335\n",
            "rewards: 260.70000000000067\n",
            "--------------------------------\n",
            "episode: 168\n",
            "epsilon: 0.18480456394854633\n",
            "rewards: 127.40000000000003\n",
            "--------------------------------\n",
            "episode: 169\n",
            "epsilon: 0.18295651830906087\n",
            "rewards: 28.5\n",
            "--------------------------------\n",
            "episode: 170\n",
            "epsilon: 0.18112695312597027\n",
            "rewards: 47.5\n",
            "--------------------------------\n",
            "episode: 171\n",
            "epsilon: 0.17931568359471056\n",
            "rewards: 26.500000000000036\n",
            "--------------------------------\n",
            "episode: 172\n",
            "epsilon: 0.17752252675876345\n",
            "rewards: 26.0\n",
            "--------------------------------\n",
            "episode: 173\n",
            "epsilon: 0.17574730149117582\n",
            "rewards: 177.19999999999973\n",
            "--------------------------------\n",
            "episode: 174\n",
            "epsilon: 0.17398982847626407\n",
            "rewards: 7.3\n",
            "--------------------------------\n",
            "episode: 175\n",
            "epsilon: 0.17224993019150142\n",
            "rewards: 73.19999999999999\n",
            "--------------------------------\n",
            "episode: 176\n",
            "epsilon: 0.1705274308895864\n",
            "rewards: 21.20000000000001\n",
            "--------------------------------\n",
            "episode: 177\n",
            "epsilon: 0.16882215658069055\n",
            "rewards: 111.80000000000001\n",
            "--------------------------------\n",
            "episode: 178\n",
            "epsilon: 0.16713393501488363\n",
            "rewards: 94.39999999999961\n",
            "--------------------------------\n",
            "episode: 179\n",
            "epsilon: 0.16546259566473479\n",
            "rewards: 48.199999999999946\n",
            "--------------------------------\n",
            "episode: 180\n",
            "epsilon: 0.16380796970808745\n",
            "rewards: 33.79999999999996\n",
            "--------------------------------\n",
            "episode: 181\n",
            "epsilon: 0.16216989001100657\n",
            "rewards: 4.799999999999983\n",
            "--------------------------------\n",
            "episode: 182\n",
            "epsilon: 0.1605481911108965\n",
            "rewards: 38.5\n",
            "--------------------------------\n",
            "episode: 183\n",
            "epsilon: 0.15894270919978754\n",
            "rewards: 97.9999999999999\n",
            "--------------------------------\n",
            "episode: 184\n",
            "epsilon: 0.15735328210778965\n",
            "rewards: 150.0000000000001\n",
            "--------------------------------\n",
            "episode: 185\n",
            "epsilon: 0.15577974928671176\n",
            "rewards: 54.899999999999956\n",
            "--------------------------------\n",
            "episode: 186\n",
            "epsilon: 0.15422195179384465\n",
            "rewards: 157.8\n",
            "--------------------------------\n",
            "episode: 187\n",
            "epsilon: 0.1526797322759062\n",
            "rewards: 46.4\n",
            "--------------------------------\n",
            "episode: 188\n",
            "epsilon: 0.15115293495314713\n",
            "rewards: 99.50000000000009\n",
            "--------------------------------\n",
            "episode: 189\n",
            "epsilon: 0.14964140560361566\n",
            "rewards: 72.20000000000002\n",
            "--------------------------------\n",
            "episode: 190\n",
            "epsilon: 0.1481449915475795\n",
            "rewards: 34.10000000000001\n",
            "--------------------------------\n",
            "episode: 191\n",
            "epsilon: 0.1466635416321037\n",
            "rewards: 36.40000000000001\n",
            "--------------------------------\n",
            "episode: 192\n",
            "epsilon: 0.14519690621578268\n",
            "rewards: 169.0000000000003\n",
            "--------------------------------\n",
            "episode: 193\n",
            "epsilon: 0.14374493715362485\n",
            "rewards: 23.9\n",
            "--------------------------------\n",
            "episode: 194\n",
            "epsilon: 0.1423074877820886\n",
            "rewards: 156.60000000000042\n",
            "--------------------------------\n",
            "episode: 195\n",
            "epsilon: 0.1408844129042677\n",
            "rewards: 111.1999999999999\n",
            "--------------------------------\n",
            "episode: 196\n",
            "epsilon: 0.13947556877522502\n",
            "rewards: 46.5\n",
            "--------------------------------\n",
            "episode: 197\n",
            "epsilon: 0.13808081308747278\n",
            "rewards: 73.40000000000003\n",
            "--------------------------------\n",
            "episode: 198\n",
            "epsilon: 0.13670000495659804\n",
            "rewards: 6.399999999999999\n",
            "--------------------------------\n",
            "episode: 199\n",
            "epsilon: 0.13533300490703207\n",
            "rewards: 9.100000000000026\n",
            "--------------------------------\n",
            "episode: 200\n",
            "epsilon: 0.13397967485796175\n",
            "rewards: 70.49999999999994\n",
            "--------------------------------\n",
            "episode: 201\n",
            "epsilon: 0.13263987810938213\n",
            "rewards: 244.60000000000002\n",
            "--------------------------------\n",
            "episode: 202\n",
            "epsilon: 0.1313134793282883\n",
            "rewards: 209.90000000000003\n",
            "--------------------------------\n",
            "episode: 203\n",
            "epsilon: 0.13000034453500542\n",
            "rewards: 160.3000000000002\n",
            "--------------------------------\n",
            "episode: 204\n",
            "epsilon: 0.12870034108965536\n",
            "rewards: 187.60000000000085\n",
            "--------------------------------\n",
            "episode: 205\n",
            "epsilon: 0.12741333767875881\n",
            "rewards: 22.100000000000037\n",
            "--------------------------------\n",
            "episode: 206\n",
            "epsilon: 0.12613920430197123\n",
            "rewards: 154.0\n",
            "--------------------------------\n",
            "episode: 207\n",
            "epsilon: 0.12487781225895152\n",
            "rewards: -0.49999999999998224\n",
            "--------------------------------\n",
            "episode: 208\n",
            "epsilon: 0.123629034136362\n",
            "rewards: 55.199999999999996\n",
            "--------------------------------\n",
            "episode: 209\n",
            "epsilon: 0.12239274379499838\n",
            "rewards: 93.70000000000044\n",
            "--------------------------------\n",
            "episode: 210\n",
            "epsilon: 0.1211688163570484\n",
            "rewards: 249.10000000000144\n",
            "--------------------------------\n",
            "episode: 211\n",
            "epsilon: 0.11995712819347792\n",
            "rewards: 79.7\n",
            "--------------------------------\n",
            "episode: 212\n",
            "epsilon: 0.11875755691154315\n",
            "rewards: 15.8\n",
            "--------------------------------\n",
            "episode: 213\n",
            "epsilon: 0.11756998134242772\n",
            "rewards: 79.8\n",
            "--------------------------------\n",
            "episode: 214\n",
            "epsilon: 0.11639428152900344\n",
            "rewards: 10.6\n",
            "--------------------------------\n",
            "episode: 215\n",
            "epsilon: 0.11523033871371341\n",
            "rewards: 43.500000000000014\n",
            "--------------------------------\n",
            "episode: 216\n",
            "epsilon: 0.11407803532657627\n",
            "rewards: 31.70000000000001\n",
            "--------------------------------\n",
            "episode: 217\n",
            "epsilon: 0.11293725497331052\n",
            "rewards: 59.7\n",
            "--------------------------------\n",
            "episode: 218\n",
            "epsilon: 0.1118078824235774\n",
            "rewards: 12.799999999999727\n",
            "--------------------------------\n",
            "episode: 219\n",
            "epsilon: 0.11068980359934164\n",
            "rewards: 526.4000000000007\n",
            "--------------------------------\n",
            "episode: 220\n",
            "epsilon: 0.10958290556334822\n",
            "rewards: 400.00000000000125\n",
            "--------------------------------\n",
            "episode: 221\n",
            "epsilon: 0.10848707650771475\n",
            "rewards: 98.59999999999991\n",
            "--------------------------------\n",
            "episode: 222\n",
            "epsilon: 0.1074022057426376\n",
            "rewards: 43.499999999999766\n",
            "--------------------------------\n",
            "episode: 223\n",
            "epsilon: 0.10632818368521123\n",
            "rewards: 26.1\n",
            "--------------------------------\n",
            "episode: 224\n",
            "epsilon: 0.10526490184835911\n",
            "rewards: 243.400000000001\n",
            "--------------------------------\n",
            "episode: 225\n",
            "epsilon: 0.10421225282987552\n",
            "rewards: 25.099999999999945\n",
            "--------------------------------\n",
            "episode: 226\n",
            "epsilon: 0.10317013030157676\n",
            "rewards: 181.9\n",
            "--------------------------------\n",
            "episode: 227\n",
            "epsilon: 0.10213842899856099\n",
            "rewards: 102.09999999999998\n",
            "--------------------------------\n",
            "episode: 228\n",
            "epsilon: 0.10111704470857538\n",
            "rewards: 48.60000000000002\n",
            "--------------------------------\n",
            "episode: 229\n",
            "epsilon: 0.10010587426148963\n",
            "rewards: 144.80000000000138\n",
            "--------------------------------\n",
            "episode: 230\n",
            "epsilon: 0.09910481551887473\n",
            "rewards: 347.2\n",
            "--------------------------------\n",
            "episode: 231\n",
            "epsilon: 0.09811376736368599\n",
            "rewards: 195.6\n",
            "--------------------------------\n",
            "episode: 232\n",
            "epsilon: 0.09713262969004913\n",
            "rewards: 144.7000000000004\n",
            "--------------------------------\n",
            "episode: 233\n",
            "epsilon: 0.09616130339314863\n",
            "rewards: 219.09999999999934\n",
            "--------------------------------\n",
            "episode: 234\n",
            "epsilon: 0.09519969035921715\n",
            "rewards: 218.8\n",
            "--------------------------------\n",
            "episode: 235\n",
            "epsilon: 0.09424769345562498\n",
            "rewards: 362.1\n",
            "--------------------------------\n",
            "episode: 236\n",
            "epsilon: 0.09330521652106873\n",
            "rewards: 389.40000000000043\n",
            "--------------------------------\n",
            "episode: 237\n",
            "epsilon: 0.09237216435585804\n",
            "rewards: 253.70000000000164\n",
            "--------------------------------\n",
            "episode: 238\n",
            "epsilon: 0.09144844271229946\n",
            "rewards: 126.60000000000001\n",
            "--------------------------------\n",
            "episode: 239\n",
            "epsilon: 0.09053395828517646\n",
            "rewards: 151.4\n",
            "--------------------------------\n",
            "episode: 240\n",
            "epsilon: 0.08962861870232469\n",
            "rewards: 99.30000000000001\n",
            "--------------------------------\n",
            "episode: 241\n",
            "epsilon: 0.08873233251530144\n",
            "rewards: 71.70000000000002\n",
            "--------------------------------\n",
            "episode: 242\n",
            "epsilon: 0.08784500919014843\n",
            "rewards: -0.9999999999999805\n",
            "--------------------------------\n",
            "episode: 243\n",
            "epsilon: 0.08696655909824694\n",
            "rewards: 480.69999999999766\n",
            "--------------------------------\n",
            "episode: 244\n",
            "epsilon: 0.08609689350726446\n",
            "rewards: 93.89999999999989\n",
            "--------------------------------\n",
            "episode: 245\n",
            "epsilon: 0.08523592457219181\n",
            "rewards: 43.3\n",
            "--------------------------------\n",
            "episode: 246\n",
            "epsilon: 0.0843835653264699\n",
            "rewards: 266.60000000000036\n",
            "--------------------------------\n",
            "episode: 247\n",
            "epsilon: 0.0835397296732052\n",
            "rewards: 104.09999999999997\n",
            "--------------------------------\n",
            "episode: 248\n",
            "epsilon: 0.08270433237647315\n",
            "rewards: 73.6999999999999\n",
            "--------------------------------\n",
            "episode: 249\n",
            "epsilon: 0.08187728905270841\n",
            "rewards: 98.89999999999968\n",
            "--------------------------------\n",
            "episode: 250\n",
            "epsilon: 0.08105851616218133\n",
            "rewards: 30.300000000000008\n",
            "--------------------------------\n",
            "episode: 251\n",
            "epsilon: 0.08024793100055952\n",
            "rewards: 452.79999999999995\n",
            "--------------------------------\n",
            "episode: 252\n",
            "epsilon: 0.07944545169055392\n",
            "rewards: 222.5\n",
            "--------------------------------\n",
            "episode: 253\n",
            "epsilon: 0.07865099717364837\n",
            "rewards: 122.60000000000002\n",
            "--------------------------------\n",
            "episode: 254\n",
            "epsilon: 0.07786448720191189\n",
            "rewards: 169.10000000000252\n",
            "--------------------------------\n",
            "episode: 255\n",
            "epsilon: 0.07708584232989277\n",
            "rewards: 182.0\n",
            "--------------------------------\n",
            "episode: 256\n",
            "epsilon: 0.07631498390659384\n",
            "rewards: 107.59999999999985\n",
            "--------------------------------\n",
            "episode: 257\n",
            "epsilon: 0.07555183406752791\n",
            "rewards: 35.5\n",
            "--------------------------------\n",
            "episode: 258\n",
            "epsilon: 0.07479631572685264\n",
            "rewards: 173.3999999999998\n",
            "--------------------------------\n",
            "episode: 259\n",
            "epsilon: 0.07404835256958411\n",
            "rewards: 6.099999999999999\n",
            "--------------------------------\n",
            "episode: 260\n",
            "epsilon: 0.07330786904388827\n",
            "rewards: 114.5000000000001\n",
            "--------------------------------\n",
            "episode: 261\n",
            "epsilon: 0.07257479035344938\n",
            "rewards: 397.5000000000016\n",
            "--------------------------------\n",
            "episode: 262\n",
            "epsilon: 0.07184904244991488\n",
            "rewards: 141.9000000000001\n",
            "--------------------------------\n",
            "episode: 263\n",
            "epsilon: 0.07113055202541574\n",
            "rewards: 179.70000000000005\n",
            "--------------------------------\n",
            "episode: 264\n",
            "epsilon: 0.07041924650516158\n",
            "rewards: -20.000000000000313\n",
            "--------------------------------\n",
            "episode: 265\n",
            "epsilon: 0.06971505404010997\n",
            "rewards: 15.999999999999915\n",
            "--------------------------------\n",
            "episode: 266\n",
            "epsilon: 0.06901790349970886\n",
            "rewards: 102.79999999999995\n",
            "--------------------------------\n",
            "episode: 267\n",
            "epsilon: 0.06832772446471178\n",
            "rewards: 213.60000000000056\n",
            "--------------------------------\n",
            "episode: 268\n",
            "epsilon: 0.06764444722006466\n",
            "rewards: 94.49999999999989\n",
            "--------------------------------\n",
            "episode: 269\n",
            "epsilon: 0.066968002747864\n",
            "rewards: -10.90000000000007\n",
            "--------------------------------\n",
            "episode: 270\n",
            "epsilon: 0.06629832272038537\n",
            "rewards: 8.900000000000038\n",
            "--------------------------------\n",
            "episode: 271\n",
            "epsilon: 0.06563533949318151\n",
            "rewards: 50.10000000000001\n",
            "--------------------------------\n",
            "episode: 272\n",
            "epsilon: 0.06497898609824969\n",
            "rewards: 79.7999999999999\n",
            "--------------------------------\n",
            "episode: 273\n",
            "epsilon: 0.0643291962372672\n",
            "rewards: 408.3\n",
            "--------------------------------\n",
            "episode: 274\n",
            "epsilon: 0.06368590427489453\n",
            "rewards: 314.9\n",
            "--------------------------------\n",
            "episode: 275\n",
            "epsilon: 0.06304904523214558\n",
            "rewards: 35.7\n",
            "--------------------------------\n",
            "episode: 276\n",
            "epsilon: 0.06241855477982412\n",
            "rewards: 204.60000000000002\n",
            "--------------------------------\n",
            "episode: 277\n",
            "epsilon: 0.06179436923202588\n",
            "rewards: 28.799999999999997\n",
            "--------------------------------\n",
            "episode: 278\n",
            "epsilon: 0.06117642553970562\n",
            "rewards: 80.20000000000019\n",
            "--------------------------------\n",
            "episode: 279\n",
            "epsilon: 0.06056466128430856\n",
            "rewards: 208.2\n",
            "--------------------------------\n",
            "episode: 280\n",
            "epsilon: 0.05995901467146548\n",
            "rewards: 412.70000000000005\n",
            "--------------------------------\n",
            "episode: 281\n",
            "epsilon: 0.05935942452475082\n",
            "rewards: 26.4\n",
            "--------------------------------\n",
            "episode: 282\n",
            "epsilon: 0.058765830279503314\n",
            "rewards: 779.1999999999985\n",
            "--------------------------------\n",
            "episode: 283\n",
            "epsilon: 0.05817817197670828\n",
            "rewards: 216.70000000000022\n",
            "--------------------------------\n",
            "episode: 284\n",
            "epsilon: 0.057596390256941195\n",
            "rewards: 240.80000000000172\n",
            "--------------------------------\n",
            "episode: 285\n",
            "epsilon: 0.05702042635437178\n",
            "rewards: 336.5999999999987\n",
            "--------------------------------\n",
            "episode: 286\n",
            "epsilon: 0.05645022209082806\n",
            "rewards: 19.2\n",
            "--------------------------------\n",
            "episode: 287\n",
            "epsilon: 0.05588571986991978\n",
            "rewards: -34.80000000000058\n",
            "--------------------------------\n",
            "episode: 288\n",
            "epsilon: 0.055326862671220584\n",
            "rewards: 229.49999999999994\n",
            "--------------------------------\n",
            "episode: 289\n",
            "epsilon: 0.05477359404450838\n",
            "rewards: 357.6999999999999\n",
            "--------------------------------\n",
            "episode: 290\n",
            "epsilon: 0.054225858104063294\n",
            "rewards: 10.799999999999955\n",
            "--------------------------------\n",
            "episode: 291\n",
            "epsilon: 0.05368359952302266\n",
            "rewards: 228.80000000000004\n",
            "--------------------------------\n",
            "episode: 292\n",
            "epsilon: 0.053146763527792434\n",
            "rewards: 842.8999999999999\n",
            "--------------------------------\n",
            "episode: 293\n",
            "epsilon: 0.052615295892514506\n",
            "rewards: 72.50000000000004\n",
            "--------------------------------\n",
            "episode: 294\n",
            "epsilon: 0.052089142933589364\n",
            "rewards: 199.00000000000105\n",
            "--------------------------------\n",
            "episode: 295\n",
            "epsilon: 0.05156825150425347\n",
            "rewards: 500.29999999999984\n",
            "--------------------------------\n",
            "episode: 296\n",
            "epsilon: 0.051052568989210935\n",
            "rewards: 484.8999999999999\n",
            "--------------------------------\n",
            "episode: 297\n",
            "epsilon: 0.05054204329931883\n",
            "rewards: 1066.699999999989\n",
            "--------------------------------\n",
            "episode: 298\n",
            "epsilon: 0.05003662286632564\n",
            "rewards: 326.7999999999947\n",
            "--------------------------------\n",
            "episode: 299\n",
            "epsilon: 0.04953625663766238\n",
            "rewards: 323.7000000000003\n",
            "--------------------------------\n",
            "episode: 300\n",
            "epsilon: 0.04904089407128576\n",
            "rewards: 34.099999999999994\n",
            "--------------------------------\n",
            "episode: 301\n",
            "epsilon: 0.0485504851305729\n",
            "rewards: 497.3999999999912\n",
            "--------------------------------\n",
            "episode: 302\n",
            "epsilon: 0.048064980279267165\n",
            "rewards: 291.89999999999975\n",
            "--------------------------------\n",
            "episode: 303\n",
            "epsilon: 0.04758433047647449\n",
            "rewards: 560.2999999999993\n",
            "--------------------------------\n",
            "episode: 304\n",
            "epsilon: 0.04710848717170975\n",
            "rewards: 251.1999999999998\n",
            "--------------------------------\n",
            "episode: 305\n",
            "epsilon: 0.04663740229999265\n",
            "rewards: 19.40000000000002\n",
            "--------------------------------\n",
            "episode: 306\n",
            "epsilon: 0.04617102827699272\n",
            "rewards: 26.799999999999997\n",
            "--------------------------------\n",
            "episode: 307\n",
            "epsilon: 0.045709317994222794\n",
            "rewards: 379.2000000000016\n",
            "--------------------------------\n",
            "episode: 308\n",
            "epsilon: 0.04525222481428057\n",
            "rewards: -28.300000000000544\n",
            "--------------------------------\n",
            "episode: 309\n",
            "epsilon: 0.04479970256613776\n",
            "rewards: 130.7\n",
            "--------------------------------\n",
            "episode: 310\n",
            "epsilon: 0.04435170554047638\n",
            "rewards: 276.69999999999993\n",
            "--------------------------------\n",
            "episode: 311\n",
            "epsilon: 0.043908188485071616\n",
            "rewards: 79.80000000000004\n",
            "--------------------------------\n",
            "episode: 312\n",
            "epsilon: 0.0434691066002209\n",
            "rewards: 184.5\n",
            "--------------------------------\n",
            "episode: 313\n",
            "epsilon: 0.04303441553421869\n",
            "rewards: 156.6\n",
            "--------------------------------\n",
            "episode: 314\n",
            "epsilon: 0.0426040713788765\n",
            "rewards: 305.5000000000023\n",
            "--------------------------------\n",
            "episode: 315\n",
            "epsilon: 0.04217803066508773\n",
            "rewards: 68.4\n",
            "--------------------------------\n",
            "episode: 316\n",
            "epsilon: 0.04175625035843686\n",
            "rewards: 336.3999999999998\n",
            "--------------------------------\n",
            "episode: 317\n",
            "epsilon: 0.041338687854852486\n",
            "rewards: 227.99999999999986\n",
            "--------------------------------\n",
            "episode: 318\n",
            "epsilon: 0.04092530097630396\n",
            "rewards: 283.5000000000002\n",
            "--------------------------------\n",
            "episode: 319\n",
            "epsilon: 0.040516047966540916\n",
            "rewards: 38.800000000000004\n",
            "--------------------------------\n",
            "episode: 320\n",
            "epsilon: 0.04011088748687551\n",
            "rewards: 769.8999999999934\n",
            "--------------------------------\n",
            "episode: 321\n",
            "epsilon: 0.03970977861200675\n",
            "rewards: 185.3999999999994\n",
            "--------------------------------\n",
            "episode: 322\n",
            "epsilon: 0.03931268082588668\n",
            "rewards: 133.7\n",
            "--------------------------------\n",
            "episode: 323\n",
            "epsilon: 0.03891955401762781\n",
            "rewards: 139.7\n",
            "--------------------------------\n",
            "episode: 324\n",
            "epsilon: 0.03853035847745153\n",
            "rewards: 248.70000000000135\n",
            "--------------------------------\n",
            "episode: 325\n",
            "epsilon: 0.03814505489267701\n",
            "rewards: 1745.4000000000347\n",
            "--------------------------------\n",
            "episode: 326\n",
            "epsilon: 0.03776360434375024\n",
            "rewards: 111.19999999999996\n",
            "--------------------------------\n",
            "episode: 327\n",
            "epsilon: 0.03738596830031274\n",
            "rewards: 457.8999999999994\n",
            "--------------------------------\n",
            "episode: 328\n",
            "epsilon: 0.03701210861730961\n",
            "rewards: 87.9\n",
            "--------------------------------\n",
            "episode: 329\n",
            "epsilon: 0.03664198753113651\n",
            "rewards: 231.7\n",
            "--------------------------------\n",
            "episode: 330\n",
            "epsilon: 0.036275567655825146\n",
            "rewards: 57.00000000000027\n",
            "--------------------------------\n",
            "episode: 331\n",
            "epsilon: 0.03591281197926689\n",
            "rewards: 27.69999999999991\n",
            "--------------------------------\n",
            "episode: 332\n",
            "epsilon: 0.035553683859474224\n",
            "rewards: 697.2\n",
            "--------------------------------\n",
            "episode: 333\n",
            "epsilon: 0.03519814702087948\n",
            "rewards: 573.2000000000003\n",
            "--------------------------------\n",
            "episode: 334\n",
            "epsilon: 0.03484616555067068\n",
            "rewards: 959.4999999999819\n",
            "--------------------------------\n",
            "episode: 335\n",
            "epsilon: 0.034497703895163975\n",
            "rewards: 193.30000000000004\n",
            "--------------------------------\n",
            "episode: 336\n",
            "epsilon: 0.03415272685621234\n",
            "rewards: 109.9\n",
            "--------------------------------\n",
            "episode: 337\n",
            "epsilon: 0.03381119958765021\n",
            "rewards: 1076.0\n",
            "--------------------------------\n",
            "episode: 338\n",
            "epsilon: 0.03347308759177371\n",
            "rewards: 106.5\n",
            "--------------------------------\n",
            "episode: 339\n",
            "epsilon: 0.03313835671585597\n",
            "rewards: 177.9\n",
            "--------------------------------\n",
            "episode: 340\n",
            "epsilon: 0.03280697314869741\n",
            "rewards: 180.3\n",
            "--------------------------------\n",
            "episode: 341\n",
            "epsilon: 0.032478903417210436\n",
            "rewards: 97.19999999999948\n",
            "--------------------------------\n",
            "episode: 342\n",
            "epsilon: 0.032154114383038335\n",
            "rewards: 632.9000000000001\n",
            "--------------------------------\n",
            "episode: 343\n",
            "epsilon: 0.03183257323920795\n",
            "rewards: 114.10000000000377\n",
            "--------------------------------\n",
            "episode: 344\n",
            "epsilon: 0.03151424750681587\n",
            "rewards: 930.4999999999902\n",
            "--------------------------------\n",
            "episode: 345\n",
            "epsilon: 0.03119910503174771\n",
            "rewards: -14.900000000000126\n",
            "--------------------------------\n",
            "episode: 346\n",
            "epsilon: 0.030887113981430233\n",
            "rewards: 768.6999999999881\n",
            "--------------------------------\n",
            "episode: 347\n",
            "epsilon: 0.03057824284161593\n",
            "rewards: 405.9\n",
            "--------------------------------\n",
            "episode: 348\n",
            "epsilon: 0.03027246041319977\n",
            "rewards: 460.8\n",
            "--------------------------------\n",
            "episode: 349\n",
            "epsilon: 0.029969735809067772\n",
            "rewards: 306.5000000000046\n",
            "--------------------------------\n",
            "episode: 350\n",
            "epsilon: 0.029670038450977095\n",
            "rewards: 524.2999999999998\n",
            "--------------------------------\n",
            "episode: 351\n",
            "epsilon: 0.029373338066467324\n",
            "rewards: 3268.900000000066\n",
            "--------------------------------\n",
            "episode: 352\n",
            "epsilon: 0.02907960468580265\n",
            "rewards: 177.89999999999938\n",
            "--------------------------------\n",
            "episode: 353\n",
            "epsilon: 0.028788808638944622\n",
            "rewards: 322.10000000000093\n",
            "--------------------------------\n",
            "episode: 354\n",
            "epsilon: 0.028500920552555174\n",
            "rewards: 1324.8999999999378\n",
            "--------------------------------\n",
            "episode: 355\n",
            "epsilon: 0.028215911347029624\n",
            "rewards: 352.2999999999994\n",
            "--------------------------------\n",
            "episode: 356\n",
            "epsilon: 0.027933752233559327\n",
            "rewards: 263.6\n",
            "--------------------------------\n",
            "episode: 357\n",
            "epsilon: 0.027654414711223735\n",
            "rewards: 1655.600000000077\n",
            "--------------------------------\n",
            "episode: 358\n",
            "epsilon: 0.027377870564111496\n",
            "rewards: 1739.6000000000058\n",
            "--------------------------------\n",
            "episode: 359\n",
            "epsilon: 0.027104091858470382\n",
            "rewards: 442.1\n",
            "--------------------------------\n",
            "episode: 360\n",
            "epsilon: 0.026833050939885677\n",
            "rewards: -2.700000000000486\n",
            "--------------------------------\n",
            "episode: 361\n",
            "epsilon: 0.02656472043048682\n",
            "rewards: 74.19999999999978\n",
            "--------------------------------\n",
            "episode: 362\n",
            "epsilon: 0.02629907322618195\n",
            "rewards: -88.89999999999674\n",
            "--------------------------------\n",
            "episode: 363\n",
            "epsilon: 0.026036082493920133\n",
            "rewards: 308.7\n",
            "--------------------------------\n",
            "episode: 364\n",
            "epsilon: 0.02577572166898093\n",
            "rewards: 772.0000000000055\n",
            "--------------------------------\n",
            "episode: 365\n",
            "epsilon: 0.025517964452291122\n",
            "rewards: 16.799999999999528\n",
            "--------------------------------\n",
            "episode: 366\n",
            "epsilon: 0.02526278480776821\n",
            "rewards: 1241.7000000000007\n",
            "--------------------------------\n",
            "episode: 367\n",
            "epsilon: 0.025010156959690527\n",
            "rewards: 541.0\n",
            "--------------------------------\n",
            "episode: 368\n",
            "epsilon: 0.02476005539009362\n",
            "rewards: 266.0000000000002\n",
            "--------------------------------\n",
            "episode: 369\n",
            "epsilon: 0.024512454836192684\n",
            "rewards: 312.49999999999915\n",
            "--------------------------------\n",
            "episode: 370\n",
            "epsilon: 0.024267330287830756\n",
            "rewards: 545.6\n",
            "--------------------------------\n",
            "episode: 371\n",
            "epsilon: 0.024024656984952448\n",
            "rewards: 298.8000000000051\n",
            "--------------------------------\n",
            "episode: 372\n",
            "epsilon: 0.023784410415102923\n",
            "rewards: 800.0000000000006\n",
            "--------------------------------\n",
            "episode: 373\n",
            "epsilon: 0.023546566310951894\n",
            "rewards: 961.4999999999999\n",
            "--------------------------------\n",
            "episode: 374\n",
            "epsilon: 0.023311100647842375\n",
            "rewards: 958.5999999999963\n",
            "--------------------------------\n",
            "episode: 375\n",
            "epsilon: 0.02307798964136395\n",
            "rewards: 2323.4000000000597\n",
            "--------------------------------\n",
            "episode: 376\n",
            "epsilon: 0.022847209744950314\n",
            "rewards: 436.5999999999998\n",
            "--------------------------------\n",
            "episode: 377\n",
            "epsilon: 0.02261873764750081\n",
            "rewards: 932.9999999999898\n",
            "--------------------------------\n",
            "episode: 378\n",
            "epsilon: 0.022392550271025803\n",
            "rewards: 78.3\n",
            "--------------------------------\n",
            "episode: 379\n",
            "epsilon: 0.022168624768315544\n",
            "rewards: 668.5\n",
            "--------------------------------\n",
            "episode: 380\n",
            "epsilon: 0.02194693852063239\n",
            "rewards: 1200.3999999999655\n",
            "--------------------------------\n",
            "episode: 381\n",
            "epsilon: 0.021727469135426065\n",
            "rewards: 620.1999999999996\n",
            "--------------------------------\n",
            "episode: 382\n",
            "epsilon: 0.021510194444071803\n",
            "rewards: 1656.9999999999702\n",
            "--------------------------------\n",
            "episode: 383\n",
            "epsilon: 0.021295092499631085\n",
            "rewards: 279.3999999999995\n",
            "--------------------------------\n",
            "episode: 384\n",
            "epsilon: 0.021082141574634772\n",
            "rewards: 812.1999999999732\n",
            "--------------------------------\n",
            "episode: 385\n",
            "epsilon: 0.020871320158888425\n",
            "rewards: 768.3999999999997\n",
            "--------------------------------\n",
            "episode: 386\n",
            "epsilon: 0.020662606957299542\n",
            "rewards: 160.90000000000003\n",
            "--------------------------------\n",
            "episode: 387\n",
            "epsilon: 0.020455980887726547\n",
            "rewards: 121.9999999999996\n",
            "--------------------------------\n",
            "episode: 388\n",
            "epsilon: 0.02025142107884928\n",
            "rewards: 1576.3999999999985\n",
            "--------------------------------\n",
            "episode: 389\n",
            "epsilon: 0.020048906868060788\n",
            "rewards: 1159.8999999999578\n",
            "--------------------------------\n",
            "episode: 390\n",
            "epsilon: 0.01984841779938018\n",
            "rewards: 1014.6\n",
            "--------------------------------\n",
            "episode: 391\n",
            "epsilon: 0.019649933621386378\n",
            "rewards: 556.4999999999998\n",
            "--------------------------------\n",
            "episode: 392\n",
            "epsilon: 0.019453434285172513\n",
            "rewards: 2481.30000000014\n",
            "--------------------------------\n",
            "episode: 393\n",
            "epsilon: 0.019258899942320787\n",
            "rewards: 34.999999999999844\n",
            "--------------------------------\n",
            "episode: 394\n",
            "epsilon: 0.01906631094289758\n",
            "rewards: 1695.2000000000019\n",
            "--------------------------------\n",
            "episode: 395\n",
            "epsilon: 0.018875647833468602\n",
            "rewards: 690.4999999999995\n",
            "--------------------------------\n",
            "episode: 396\n",
            "epsilon: 0.018686891355133916\n",
            "rewards: 941.1000000000046\n",
            "--------------------------------\n",
            "episode: 397\n",
            "epsilon: 0.018500022441582577\n",
            "rewards: 1340.8999999999933\n",
            "--------------------------------\n",
            "episode: 398\n",
            "epsilon: 0.01831502221716675\n",
            "rewards: 479.9000000000001\n",
            "--------------------------------\n",
            "episode: 399\n",
            "epsilon: 0.018131871994995084\n",
            "rewards: 203.20000000000002\n",
            "--------------------------------\n",
            "episode: 400\n",
            "epsilon: 0.017950553275045134\n",
            "rewards: 979.4999999999982\n",
            "--------------------------------\n",
            "episode: 401\n",
            "epsilon: 0.017771047742294682\n",
            "rewards: 1884.4\n",
            "--------------------------------\n",
            "episode: 402\n",
            "epsilon: 0.017593337264871736\n",
            "rewards: 515.3999999999978\n",
            "--------------------------------\n",
            "episode: 403\n",
            "epsilon: 0.01741740389222302\n",
            "rewards: 1965.0000000000132\n",
            "--------------------------------\n",
            "episode: 404\n",
            "epsilon: 0.01724322985330079\n",
            "rewards: 397.2999999999997\n",
            "--------------------------------\n",
            "episode: 405\n",
            "epsilon: 0.017070797554767782\n",
            "rewards: 92.50000000000483\n",
            "--------------------------------\n",
            "episode: 406\n",
            "epsilon: 0.016900089579220106\n",
            "rewards: 1566.6999999999998\n",
            "--------------------------------\n",
            "episode: 407\n",
            "epsilon: 0.016731088683427906\n",
            "rewards: 149.2999999999998\n",
            "--------------------------------\n",
            "episode: 408\n",
            "epsilon: 0.016563777796593626\n",
            "rewards: 650.4\n",
            "--------------------------------\n",
            "episode: 409\n",
            "epsilon: 0.016398140018627688\n",
            "rewards: 244.30000000000302\n",
            "--------------------------------\n",
            "episode: 410\n",
            "epsilon: 0.01623415861844141\n",
            "rewards: -75.09999999999337\n",
            "--------------------------------\n",
            "episode: 411\n",
            "epsilon: 0.016071817032256998\n",
            "rewards: 216.4\n",
            "--------------------------------\n",
            "episode: 412\n",
            "epsilon: 0.01591109886193443\n",
            "rewards: 1753.5000000000728\n",
            "--------------------------------\n",
            "episode: 413\n",
            "epsilon: 0.015751987873315085\n",
            "rewards: 342.8000000000015\n",
            "--------------------------------\n",
            "episode: 414\n",
            "epsilon: 0.015594467994581935\n",
            "rewards: 1212.5\n",
            "--------------------------------\n",
            "episode: 415\n",
            "epsilon: 0.015438523314636115\n",
            "rewards: 749.0999999999999\n",
            "--------------------------------\n",
            "episode: 416\n",
            "epsilon: 0.015284138081489753\n",
            "rewards: 1147.699999999983\n",
            "--------------------------------\n",
            "episode: 417\n",
            "epsilon: 0.015131296700674856\n",
            "rewards: 155.8\n",
            "--------------------------------\n",
            "episode: 418\n",
            "epsilon: 0.014979983733668108\n",
            "rewards: 4330.999999999974\n",
            "--------------------------------\n",
            "episode: 419\n",
            "epsilon: 0.014830183896331426\n",
            "rewards: 1947.4000000002334\n",
            "--------------------------------\n",
            "episode: 420\n",
            "epsilon: 0.014681882057368112\n",
            "rewards: 723.0000000000055\n",
            "--------------------------------\n",
            "episode: 421\n",
            "epsilon: 0.01453506323679443\n",
            "rewards: 3507.3999999999933\n",
            "--------------------------------\n",
            "episode: 422\n",
            "epsilon: 0.014389712604426485\n",
            "rewards: 136.39999999999964\n",
            "--------------------------------\n",
            "episode: 423\n",
            "epsilon: 0.01424581547838222\n",
            "rewards: 78.30000000000001\n",
            "--------------------------------\n",
            "episode: 424\n",
            "epsilon: 0.014103357323598397\n",
            "rewards: 105.49999999999994\n",
            "--------------------------------\n",
            "episode: 425\n",
            "epsilon: 0.013962323750362413\n",
            "rewards: 62.099999999999945\n",
            "--------------------------------\n",
            "episode: 426\n",
            "epsilon: 0.013822700512858789\n",
            "rewards: 1132.3999999999996\n",
            "--------------------------------\n",
            "episode: 427\n",
            "epsilon: 0.0136844735077302\n",
            "rewards: 1041.0999999999972\n",
            "--------------------------------\n",
            "episode: 428\n",
            "epsilon: 0.013547628772652899\n",
            "rewards: 506.4\n",
            "--------------------------------\n",
            "episode: 429\n",
            "epsilon: 0.01341215248492637\n",
            "rewards: 490.6\n",
            "--------------------------------\n",
            "episode: 430\n",
            "epsilon: 0.013278030960077106\n",
            "rewards: 898.9999999999995\n",
            "--------------------------------\n",
            "episode: 431\n",
            "epsilon: 0.013145250650476335\n",
            "rewards: 992.3999999999888\n",
            "--------------------------------\n",
            "episode: 432\n",
            "epsilon: 0.01301379814397157\n",
            "rewards: 719.0999999999972\n",
            "--------------------------------\n",
            "episode: 433\n",
            "epsilon: 0.012883660162531854\n",
            "rewards: 3005.500000000301\n",
            "--------------------------------\n",
            "episode: 434\n",
            "epsilon: 0.012754823560906535\n",
            "rewards: 158.1\n",
            "--------------------------------\n",
            "episode: 435\n",
            "epsilon: 0.01262727532529747\n",
            "rewards: 213.60000000000116\n",
            "--------------------------------\n",
            "episode: 436\n",
            "epsilon: 0.012501002572044496\n",
            "rewards: 149.70000000000363\n",
            "--------------------------------\n",
            "episode: 437\n",
            "epsilon: 0.01237599254632405\n",
            "rewards: 195.30000000000342\n",
            "--------------------------------\n",
            "episode: 438\n",
            "epsilon: 0.01225223262086081\n",
            "rewards: 5281.7999999999965\n",
            "--------------------------------\n",
            "episode: 439\n",
            "epsilon: 0.012129710294652202\n",
            "rewards: 255.5\n",
            "--------------------------------\n",
            "episode: 440\n",
            "epsilon: 0.01200841319170568\n",
            "rewards: 514.0999999999981\n",
            "--------------------------------\n",
            "episode: 441\n",
            "epsilon: 0.011888329059788623\n",
            "rewards: 352.8\n",
            "--------------------------------\n",
            "episode: 442\n",
            "epsilon: 0.011769445769190737\n",
            "rewards: 2579.3\n",
            "--------------------------------\n",
            "episode: 443\n",
            "epsilon: 0.01165175131149883\n",
            "rewards: 1004.3\n",
            "--------------------------------\n",
            "episode: 444\n",
            "epsilon: 0.011535233798383842\n",
            "rewards: 157.70000000000044\n",
            "--------------------------------\n",
            "episode: 445\n",
            "epsilon: 0.011419881460400004\n",
            "rewards: -2.5000000000002345\n",
            "--------------------------------\n",
            "episode: 446\n",
            "epsilon: 0.011305682645796004\n",
            "rewards: 1736.2\n",
            "--------------------------------\n",
            "episode: 447\n",
            "epsilon: 0.011192625819338045\n",
            "rewards: 241.0\n",
            "--------------------------------\n",
            "episode: 448\n",
            "epsilon: 0.011080699561144665\n",
            "rewards: 2238.9999999999995\n",
            "--------------------------------\n",
            "episode: 449\n",
            "epsilon: 0.010969892565533218\n",
            "rewards: 1442.1999999999957\n",
            "--------------------------------\n",
            "episode: 450\n",
            "epsilon: 0.010860193639877886\n",
            "rewards: 192.99999999999977\n",
            "--------------------------------\n",
            "episode: 451\n",
            "epsilon: 0.010751591703479106\n",
            "rewards: 76.7999999999997\n",
            "--------------------------------\n",
            "episode: 452\n",
            "epsilon: 0.010644075786444315\n",
            "rewards: 195.99999999999935\n",
            "--------------------------------\n",
            "episode: 453\n",
            "epsilon: 0.010537635028579873\n",
            "rewards: 1090.199999999992\n",
            "--------------------------------\n",
            "episode: 454\n",
            "epsilon: 0.010432258678294073\n",
            "rewards: 1570.4000000001029\n",
            "--------------------------------\n",
            "episode: 455\n",
            "epsilon: 0.010327936091511133\n",
            "rewards: 1106.6000000000013\n",
            "--------------------------------\n",
            "episode: 456\n",
            "epsilon: 0.010224656730596022\n",
            "rewards: -46.300000000000516\n",
            "--------------------------------\n",
            "episode: 457\n",
            "epsilon: 0.01012241016329006\n",
            "rewards: 551.8999999999978\n",
            "--------------------------------\n",
            "episode: 458\n",
            "epsilon: 0.01002118606165716\n",
            "rewards: 2591.700000000135\n",
            "--------------------------------\n",
            "episode: 459\n",
            "epsilon: 0.009920974201040588\n",
            "rewards: 420.9999999999999\n",
            "--------------------------------\n",
            "episode: 460\n",
            "epsilon: 0.009821764459030182\n",
            "rewards: 86.09999999999937\n",
            "--------------------------------\n",
            "episode: 461\n",
            "epsilon: 0.00972354681443988\n",
            "rewards: 1662.3\n",
            "--------------------------------\n",
            "episode: 462\n",
            "epsilon: 0.00962631134629548\n",
            "rewards: 2033.2000000000028\n",
            "--------------------------------\n",
            "episode: 463\n",
            "epsilon: 0.009530048232832525\n",
            "rewards: 3430.8999999999933\n",
            "--------------------------------\n",
            "episode: 464\n",
            "epsilon: 0.009434747750504199\n",
            "rewards: 290.9\n",
            "--------------------------------\n",
            "episode: 465\n",
            "epsilon: 0.009340400272999157\n",
            "rewards: 972.1\n",
            "--------------------------------\n",
            "episode: 466\n",
            "epsilon: 0.009246996270269165\n",
            "rewards: 6964.799999999944\n",
            "--------------------------------\n",
            "episode: 467\n",
            "epsilon: 0.009154526307566474\n",
            "rewards: 1054.6999999999962\n",
            "--------------------------------\n",
            "episode: 468\n",
            "epsilon: 0.009062981044490808\n",
            "rewards: 2076.399999999996\n",
            "--------------------------------\n",
            "episode: 469\n",
            "epsilon: 0.0089723512340459\n",
            "rewards: 1266.3000000000056\n",
            "--------------------------------\n",
            "episode: 470\n",
            "epsilon: 0.00888262772170544\n",
            "rewards: 25.799999999999997\n",
            "--------------------------------\n",
            "episode: 471\n",
            "epsilon: 0.008793801444488386\n",
            "rewards: 653.7000000000055\n",
            "--------------------------------\n",
            "episode: 472\n",
            "epsilon: 0.008705863430043502\n",
            "rewards: 1903.9000000002002\n",
            "--------------------------------\n",
            "episode: 473\n",
            "epsilon: 0.008618804795743068\n",
            "rewards: 357.0999999999383\n",
            "--------------------------------\n",
            "episode: 474\n",
            "epsilon: 0.008532616747785637\n",
            "rewards: 1493.7000000001347\n",
            "--------------------------------\n",
            "episode: 475\n",
            "epsilon: 0.00844729058030778\n",
            "rewards: 11759.599999998158\n",
            "--------------------------------\n",
            "episode: 476\n",
            "epsilon: 0.008362817674504702\n",
            "rewards: 1505.2999999999997\n",
            "--------------------------------\n",
            "episode: 477\n",
            "epsilon: 0.008279189497759654\n",
            "rewards: 2024.1999999999655\n",
            "--------------------------------\n",
            "episode: 478\n",
            "epsilon: 0.008196397602782058\n",
            "rewards: 77.39999999999988\n",
            "--------------------------------\n",
            "episode: 479\n",
            "epsilon: 0.008114433626754238\n",
            "rewards: 323.30000000000257\n",
            "--------------------------------\n",
            "episode: 480\n",
            "epsilon: 0.008033289290486696\n",
            "rewards: 4734.500000000056\n",
            "--------------------------------\n",
            "episode: 481\n",
            "epsilon: 0.00795295639758183\n",
            "rewards: 5547.500000000085\n",
            "--------------------------------\n",
            "episode: 482\n",
            "epsilon: 0.00787342683360601\n",
            "rewards: 1605.4\n",
            "--------------------------------\n",
            "episode: 483\n",
            "epsilon: 0.0077946925652699495\n",
            "rewards: 1113.8999999999996\n",
            "--------------------------------\n",
            "episode: 484\n",
            "epsilon: 0.00771674563961725\n",
            "rewards: 2631.700000000017\n",
            "--------------------------------\n",
            "episode: 485\n",
            "epsilon: 0.007639578183221077\n",
            "rewards: 237.7999999999996\n",
            "--------------------------------\n",
            "episode: 486\n",
            "epsilon: 0.0075631824013888665\n",
            "rewards: 2378.0999999999844\n",
            "--------------------------------\n",
            "episode: 487\n",
            "epsilon: 0.007487550577374978\n",
            "rewards: 4096.499999999599\n",
            "--------------------------------\n",
            "episode: 488\n",
            "epsilon: 0.007412675071601228\n",
            "rewards: 248.00000000000028\n",
            "--------------------------------\n",
            "episode: 489\n",
            "epsilon: 0.007338548320885215\n",
            "rewards: 985.9000000000068\n",
            "--------------------------------\n",
            "episode: 490\n",
            "epsilon: 0.0072651628376763635\n",
            "rewards: 2260.1000000000117\n",
            "--------------------------------\n",
            "episode: 491\n",
            "epsilon: 0.0071925112092996\n",
            "rewards: 1135.9000000000037\n",
            "--------------------------------\n",
            "episode: 492\n",
            "epsilon: 0.007120586097206604\n",
            "rewards: 524.0999999999995\n",
            "--------------------------------\n",
            "episode: 493\n",
            "epsilon: 0.007049380236234538\n",
            "rewards: 3675.9000000000287\n",
            "--------------------------------\n",
            "episode: 494\n",
            "epsilon: 0.006978886433872193\n",
            "rewards: 2061.099999999978\n",
            "--------------------------------\n",
            "episode: 495\n",
            "epsilon: 0.006909097569533471\n",
            "rewards: 1093.5999999999997\n",
            "--------------------------------\n",
            "episode: 496\n",
            "epsilon: 0.006840006593838137\n",
            "rewards: 1999.500000000423\n",
            "--------------------------------\n",
            "episode: 497\n",
            "epsilon: 0.0067716065278997555\n",
            "rewards: 3269.6000000000054\n",
            "--------------------------------\n",
            "episode: 498\n",
            "epsilon: 0.006703890462620758\n",
            "rewards: 4683.899999999405\n",
            "--------------------------------\n",
            "episode: 499\n",
            "epsilon: 0.006636851557994551\n",
            "rewards: 2807.2999999999997\n",
            "--------------------------------\n",
            "episode: 500\n",
            "epsilon: 0.006570483042414605\n",
            "rewards: 1201.1000000000008\n"
          ]
        }
      ]
    },
    {
      "cell_type": "code",
      "source": [
        "#epsilon decay per episode \n",
        "with output_grid.output_to(0, 0):\n",
        "  plt.plot(s_d_episode_list,s_d_epsilon_decay)\n",
        "  plt.xlabel(\"episode\")\n",
        "  plt.ylabel(\"epsilon decay\")"
      ],
      "metadata": {
        "colab": {
          "base_uri": "https://localhost:8080/",
          "height": 279
        },
        "id": "Nof12d83Um3q",
        "outputId": "f24abf1b-ba8e-4d2d-ea6b-4e07399408a1"
      },
      "execution_count": 286,
      "outputs": [
        {
          "output_type": "display_data",
          "data": {
            "application/javascript": [
              "window[\"2ea2c7f0-a029-11ec-918f-0242ac1c0002\"] = google.colab.output.getActiveOutputArea();\n",
              "//# sourceURL=js_6904f2115f"
            ],
            "text/plain": [
              "<IPython.core.display.Javascript object>"
            ]
          },
          "metadata": {}
        },
        {
          "output_type": "display_data",
          "data": {
            "application/javascript": [
              "window[\"2ea39afe-a029-11ec-918f-0242ac1c0002\"] = document.querySelector(\"#id126-0-0\");\n",
              "//# sourceURL=js_238641b56e"
            ],
            "text/plain": [
              "<IPython.core.display.Javascript object>"
            ]
          },
          "metadata": {}
        },
        {
          "output_type": "display_data",
          "data": {
            "application/javascript": [
              "window[\"2ea4561a-a029-11ec-918f-0242ac1c0002\"] = google.colab.output.setActiveOutputArea(window[\"2ea39afe-a029-11ec-918f-0242ac1c0002\"]);\n",
              "//# sourceURL=js_059dc07818"
            ],
            "text/plain": [
              "<IPython.core.display.Javascript object>"
            ]
          },
          "metadata": {}
        },
        {
          "output_type": "display_data",
          "data": {
            "image/png": "[encoded data removed]",
            "text/plain": [
              "<Figure size 432x288 with 1 Axes>"
            ]
          },
          "metadata": {
            "needs_background": "light"
          }
        },
        {
          "output_type": "display_data",
          "data": {
            "application/javascript": [
              "window[\"2ebe4bf6-a029-11ec-918f-0242ac1c0002\"] = google.colab.output.setActiveOutputArea(window[\"2ea2c7f0-a029-11ec-918f-0242ac1c0002\"]);\n",
              "//# sourceURL=js_d08f8e9645"
            ],
            "text/plain": [
              "<IPython.core.display.Javascript object>"
            ]
          },
          "metadata": {}
        }
      ]
    },
    {
      "cell_type": "code",
      "source": [
        "#rewards per episode \n",
        "with output_grid.output_to(0, 0):\n",
        "  plt.plot(s_d_episode_list,s_d_rewards)\n",
        "  plt.xlabel(\"episode\")\n",
        "  plt.ylabel(\"rewards\")"
      ],
      "metadata": {
        "colab": {
          "base_uri": "https://localhost:8080/",
          "height": 279
        },
        "id": "bMEtMYSrUo9J",
        "outputId": "c22a0400-dd21-44f1-dce3-47d1c33d07c5"
      },
      "execution_count": 291,
      "outputs": [
        {
          "output_type": "display_data",
          "data": {
            "application/javascript": [
              "window[\"bf1e1dde-a029-11ec-918f-0242ac1c0002\"] = google.colab.output.getActiveOutputArea();\n",
              "//# sourceURL=js_b3d1dd9e3a"
            ],
            "text/plain": [
              "<IPython.core.display.Javascript object>"
            ]
          },
          "metadata": {}
        },
        {
          "output_type": "display_data",
          "data": {
            "application/javascript": [
              "window[\"bf1e8cc4-a029-11ec-918f-0242ac1c0002\"] = document.querySelector(\"#id128-0-0\");\n",
              "//# sourceURL=js_59b3f91ddf"
            ],
            "text/plain": [
              "<IPython.core.display.Javascript object>"
            ]
          },
          "metadata": {}
        },
        {
          "output_type": "display_data",
          "data": {
            "application/javascript": [
              "window[\"bf1ef29a-a029-11ec-918f-0242ac1c0002\"] = google.colab.output.setActiveOutputArea(window[\"bf1e8cc4-a029-11ec-918f-0242ac1c0002\"]);\n",
              "//# sourceURL=js_37fca50d64"
            ],
            "text/plain": [
              "<IPython.core.display.Javascript object>"
            ]
          },
          "metadata": {}
        },
        {
          "output_type": "display_data",
          "data": {
            "image/png": "[encoded data removed]",
            "text/plain": [
              "<Figure size 432x288 with 1 Axes>"
            ]
          },
          "metadata": {
            "needs_background": "light"
          }
        },
        {
          "output_type": "display_data",
          "data": {
            "application/javascript": [
              "window[\"bf370394-a029-11ec-918f-0242ac1c0002\"] = google.colab.output.setActiveOutputArea(window[\"bf1e1dde-a029-11ec-918f-0242ac1c0002\"]);\n",
              "//# sourceURL=js_328cc54a67"
            ],
            "text/plain": [
              "<IPython.core.display.Javascript object>"
            ]
          },
          "metadata": {}
        }
      ]
    },
    {
      "cell_type": "markdown",
      "source": [
        "##6. SARSA in Stochastic environment"
      ],
      "metadata": {
        "id": "_eJUveZgCoey"
      }
    },
    {
      "cell_type": "code",
      "source": [
        "import numpy as np\n",
        "\n",
        "#Q_table\n",
        "Q = np.zeros([16,4])\n",
        "\n",
        "s_s_rewards = []\n",
        "s_s_epsilon_decay = []\n",
        "s_s_episode_list = []\n",
        "episode = 500\n",
        "\n",
        "#parameter\n",
        "decay = 0.99\n",
        "epsilon = 1\n",
        "alpha = 1\n",
        "gamma = 0.9 \n",
        "\n",
        "output_grid = widgets.Grid(1, 1)"
      ],
      "metadata": {
        "id": "Z0I6-N1CCn15",
        "colab": {
          "base_uri": "https://localhost:8080/",
          "height": 21
        },
        "outputId": "98582aa8-4a5e-45f6-ca95-49b2fcdf7595"
      },
      "execution_count": 220,
      "outputs": [
        {
          "output_type": "display_data",
          "data": {
            "text/html": [
              "<style>\n",
              "       table#id112, #id112 > tbody > tr > th, #id112 > tbody > tr > td {\n",
              "         border: 1px solid lightgray;\n",
              "         border-collapse:collapse;\n",
              "         \n",
              "        }</style>"
            ],
            "text/plain": [
              "<IPython.core.display.HTML object>"
            ]
          },
          "metadata": {}
        },
        {
          "output_type": "display_data",
          "data": {
            "text/html": [
              "<table id=id112><tr><td id=id112-0-0></td></tr></table>"
            ],
            "text/plain": [
              "<IPython.core.display.HTML object>"
            ]
          },
          "metadata": {}
        }
      ]
    },
    {
      "cell_type": "code",
      "source": [
        "import pandas as pd\n",
        "\n",
        "ss_env = SGridEnvironment()\n",
        "observation_space = ss_env.observation_space\n",
        "action_space = ss_env.action_space\n",
        "\n",
        "#repeat for each episode \n",
        "for ep in range(1,episode+1):\n",
        "\n",
        "  #observe the initial state s \n",
        "  obs = ss_env.reset()\n",
        "  done = False\n",
        "  epsilon = epsilon * decay \n",
        "  \n",
        "  state = 4*obs[0] + obs[1]\n",
        "  #Choose A from S using policy derived from Q(e-greedy)\n",
        "  if np.random.random() > epsilon: \n",
        "    action = np.argmax(Q[state,:]) #exploit \n",
        "  else:\n",
        "    action = np.random.choice(action_space.n) #exploration\n",
        "\n",
        "  cumulative_rewards = 0\n",
        "  #repeat for each step of episode\n",
        "  while not done:\n",
        "\n",
        "    #Receive immediate reward r, Observe the new state s'\n",
        "    next_obs, reward, done, _ = ss_env.step(action)\n",
        "\n",
        "    next_state = 4*next_obs[0]+next_obs[1]\n",
        "    #select an action' a from state s'(e.g. epsilon-greedy) and execute it\n",
        "    if np.random.random() > epsilon: \n",
        "      next_action = np.argmax(Q[next_state,:]) #exploit \n",
        "    else:\n",
        "      next_action = np.random.choice(action_space.n) #exploration\n",
        "\n",
        "\n",
        "    #Update the table entry for Q(s,a) as follows:\n",
        "    \n",
        "    Q[state,action] = Q[state,action] + alpha*(reward + gamma*Q[next_state,next_action] - Q[state,action])\n",
        "    cumulative_rewards += reward\n",
        "    obs = next_obs\n",
        "    action = next_action\n",
        "    \n",
        "  print(\"--------------------------------\")  \n",
        "  print('episode:',ep)  \n",
        "  print('epsilon:',epsilon)\n",
        "  print('rewards:',cumulative_rewards)\n",
        "  \n",
        "  s_s_episode_list.append(ep)\n",
        "  s_s_epsilon_decay.append(epsilon)\n",
        "  s_s_rewards.append(cumulative_rewards)\n",
        "  \n",
        "    \n",
        "\n",
        "ss_env.close()\n"
      ],
      "metadata": {
        "colab": {
          "base_uri": "https://localhost:8080/"
        },
        "id": "4dAfigBlRU7U",
        "outputId": "9955a53c-9c8b-46ba-fdf9-927d0efc2317"
      },
      "execution_count": 221,
      "outputs": [
        {
          "output_type": "stream",
          "name": "stdout",
          "text": [
            "--------------------------------\n",
            "episode: 1\n",
            "epsilon: 0.99\n",
            "rewards: 43.80000000000001\n",
            "--------------------------------\n",
            "episode: 2\n",
            "epsilon: 0.9801\n",
            "rewards: 16.500000000000004\n",
            "--------------------------------\n",
            "episode: 3\n",
            "epsilon: 0.9702989999999999\n",
            "rewards: 42.899999999999885\n",
            "--------------------------------\n",
            "episode: 4\n",
            "epsilon: 0.96059601\n",
            "rewards: 9.6\n",
            "--------------------------------\n",
            "episode: 5\n",
            "epsilon: 0.9509900498999999\n",
            "rewards: 15.9\n",
            "--------------------------------\n",
            "episode: 6\n",
            "epsilon: 0.9414801494009999\n",
            "rewards: 14.4\n",
            "--------------------------------\n",
            "episode: 7\n",
            "epsilon: 0.9320653479069899\n",
            "rewards: 11.700000000000003\n",
            "--------------------------------\n",
            "episode: 8\n",
            "epsilon: 0.92274469442792\n",
            "rewards: 11.80000000000001\n",
            "--------------------------------\n",
            "episode: 9\n",
            "epsilon: 0.9135172474836407\n",
            "rewards: 7.3\n",
            "--------------------------------\n",
            "episode: 10\n",
            "epsilon: 0.9043820750088043\n",
            "rewards: 19.500000000000007\n",
            "--------------------------------\n",
            "episode: 11\n",
            "epsilon: 0.8953382542587163\n",
            "rewards: 118.90000000000012\n",
            "--------------------------------\n",
            "episode: 12\n",
            "epsilon: 0.8863848717161291\n",
            "rewards: 72.79999999999994\n",
            "--------------------------------\n",
            "episode: 13\n",
            "epsilon: 0.8775210229989678\n",
            "rewards: 16.2\n",
            "--------------------------------\n",
            "episode: 14\n",
            "epsilon: 0.8687458127689781\n",
            "rewards: 36.0\n",
            "--------------------------------\n",
            "episode: 15\n",
            "epsilon: 0.8600583546412883\n",
            "rewards: 12.9\n",
            "--------------------------------\n",
            "episode: 16\n",
            "epsilon: 0.8514577710948754\n",
            "rewards: 8.3\n",
            "--------------------------------\n",
            "episode: 17\n",
            "epsilon: 0.8429431933839266\n",
            "rewards: 7.8\n",
            "--------------------------------\n",
            "episode: 18\n",
            "epsilon: 0.8345137614500874\n",
            "rewards: 43.89999999999992\n",
            "--------------------------------\n",
            "episode: 19\n",
            "epsilon: 0.8261686238355865\n",
            "rewards: 27.899999999999984\n",
            "--------------------------------\n",
            "episode: 20\n",
            "epsilon: 0.8179069375972307\n",
            "rewards: 16.6\n",
            "--------------------------------\n",
            "episode: 21\n",
            "epsilon: 0.8097278682212583\n",
            "rewards: 78.6\n",
            "--------------------------------\n",
            "episode: 22\n",
            "epsilon: 0.8016305895390458\n",
            "rewards: 9.299999999999999\n",
            "--------------------------------\n",
            "episode: 23\n",
            "epsilon: 0.7936142836436553\n",
            "rewards: 7.0\n",
            "--------------------------------\n",
            "episode: 24\n",
            "epsilon: 0.7856781408072188\n",
            "rewards: 43.50000000000001\n",
            "--------------------------------\n",
            "episode: 25\n",
            "epsilon: 0.7778213593991465\n",
            "rewards: 14.6\n",
            "--------------------------------\n",
            "episode: 26\n",
            "epsilon: 0.7700431458051551\n",
            "rewards: 8.3\n",
            "--------------------------------\n",
            "episode: 27\n",
            "epsilon: 0.7623427143471035\n",
            "rewards: 4.699999999999999\n",
            "--------------------------------\n",
            "episode: 28\n",
            "epsilon: 0.7547192872036325\n",
            "rewards: 56.799999999999976\n",
            "--------------------------------\n",
            "episode: 29\n",
            "epsilon: 0.7471720943315961\n",
            "rewards: 31.99999999999988\n",
            "--------------------------------\n",
            "episode: 30\n",
            "epsilon: 0.7397003733882802\n",
            "rewards: 56.89999999999995\n",
            "--------------------------------\n",
            "episode: 31\n",
            "epsilon: 0.7323033696543974\n",
            "rewards: 24.30000000000002\n",
            "--------------------------------\n",
            "episode: 32\n",
            "epsilon: 0.7249803359578534\n",
            "rewards: 11.7\n",
            "--------------------------------\n",
            "episode: 33\n",
            "epsilon: 0.7177305325982748\n",
            "rewards: 10.3\n",
            "--------------------------------\n",
            "episode: 34\n",
            "epsilon: 0.7105532272722921\n",
            "rewards: 42.89999999999998\n",
            "--------------------------------\n",
            "episode: 35\n",
            "epsilon: 0.7034476949995692\n",
            "rewards: 8.599999999999998\n",
            "--------------------------------\n",
            "episode: 36\n",
            "epsilon: 0.6964132180495735\n",
            "rewards: 10.2\n",
            "--------------------------------\n",
            "episode: 37\n",
            "epsilon: 0.6894490858690777\n",
            "rewards: 38.400000000000006\n",
            "--------------------------------\n",
            "episode: 38\n",
            "epsilon: 0.682554595010387\n",
            "rewards: 9.5\n",
            "--------------------------------\n",
            "episode: 39\n",
            "epsilon: 0.6757290490602831\n",
            "rewards: 27.99999999999997\n",
            "--------------------------------\n",
            "episode: 40\n",
            "epsilon: 0.6689717585696803\n",
            "rewards: 32.0\n",
            "--------------------------------\n",
            "episode: 41\n",
            "epsilon: 0.6622820409839835\n",
            "rewards: 19.400000000000002\n",
            "--------------------------------\n",
            "episode: 42\n",
            "epsilon: 0.6556592205741436\n",
            "rewards: 11.5\n",
            "--------------------------------\n",
            "episode: 43\n",
            "epsilon: 0.6491026283684022\n",
            "rewards: 7.199999999999999\n",
            "--------------------------------\n",
            "episode: 44\n",
            "epsilon: 0.6426116020847181\n",
            "rewards: 26.0\n",
            "--------------------------------\n",
            "episode: 45\n",
            "epsilon: 0.6361854860638709\n",
            "rewards: 11.2\n",
            "--------------------------------\n",
            "episode: 46\n",
            "epsilon: 0.6298236312032323\n",
            "rewards: 28.30000000000001\n",
            "--------------------------------\n",
            "episode: 47\n",
            "epsilon: 0.6235253948912\n",
            "rewards: 11.5\n",
            "--------------------------------\n",
            "episode: 48\n",
            "epsilon: 0.617290140942288\n",
            "rewards: 11.4\n",
            "--------------------------------\n",
            "episode: 49\n",
            "epsilon: 0.6111172395328651\n",
            "rewards: 30.199999999999996\n",
            "--------------------------------\n",
            "episode: 50\n",
            "epsilon: 0.6050060671375365\n",
            "rewards: 14.1\n",
            "--------------------------------\n",
            "episode: 51\n",
            "epsilon: 0.5989560064661611\n",
            "rewards: 15.9\n",
            "--------------------------------\n",
            "episode: 52\n",
            "epsilon: 0.5929664464014994\n",
            "rewards: 46.79999999999994\n",
            "--------------------------------\n",
            "episode: 53\n",
            "epsilon: 0.5870367819374844\n",
            "rewards: 35.699999999999996\n",
            "--------------------------------\n",
            "episode: 54\n",
            "epsilon: 0.5811664141181095\n",
            "rewards: 7.7\n",
            "--------------------------------\n",
            "episode: 55\n",
            "epsilon: 0.5753547499769285\n",
            "rewards: 7.6\n",
            "--------------------------------\n",
            "episode: 56\n",
            "epsilon: 0.5696012024771592\n",
            "rewards: 14.7\n",
            "--------------------------------\n",
            "episode: 57\n",
            "epsilon: 0.5639051904523876\n",
            "rewards: 16.0\n",
            "--------------------------------\n",
            "episode: 58\n",
            "epsilon: 0.5582661385478638\n",
            "rewards: 14.700000000000017\n",
            "--------------------------------\n",
            "episode: 59\n",
            "epsilon: 0.5526834771623851\n",
            "rewards: 35.199999999999996\n",
            "--------------------------------\n",
            "episode: 60\n",
            "epsilon: 0.5471566423907612\n",
            "rewards: 15.700000000000006\n",
            "--------------------------------\n",
            "episode: 61\n",
            "epsilon: 0.5416850759668536\n",
            "rewards: 5.9999999999999964\n",
            "--------------------------------\n",
            "episode: 62\n",
            "epsilon: 0.536268225207185\n",
            "rewards: 31.499999999999993\n",
            "--------------------------------\n",
            "episode: 63\n",
            "epsilon: 0.5309055429551132\n",
            "rewards: 20.50000000000002\n",
            "--------------------------------\n",
            "episode: 64\n",
            "epsilon: 0.525596487525562\n",
            "rewards: 15.700000000000001\n",
            "--------------------------------\n",
            "episode: 65\n",
            "epsilon: 0.5203405226503064\n",
            "rewards: 13.1\n",
            "--------------------------------\n",
            "episode: 66\n",
            "epsilon: 0.5151371174238033\n",
            "rewards: 37.4\n",
            "--------------------------------\n",
            "episode: 67\n",
            "epsilon: 0.5099857462495653\n",
            "rewards: 35.6\n",
            "--------------------------------\n",
            "episode: 68\n",
            "epsilon: 0.5048858887870696\n",
            "rewards: 15.100000000000001\n",
            "--------------------------------\n",
            "episode: 69\n",
            "epsilon: 0.4998370298991989\n",
            "rewards: 12.500000000000007\n",
            "--------------------------------\n",
            "episode: 70\n",
            "epsilon: 0.49483865960020695\n",
            "rewards: 25.1\n",
            "--------------------------------\n",
            "episode: 71\n",
            "epsilon: 0.4898902730042049\n",
            "rewards: 25.2\n",
            "--------------------------------\n",
            "episode: 72\n",
            "epsilon: 0.48499137027416284\n",
            "rewards: 4.999999999999998\n",
            "--------------------------------\n",
            "episode: 73\n",
            "epsilon: 0.4801414565714212\n",
            "rewards: 10.1\n",
            "--------------------------------\n",
            "episode: 74\n",
            "epsilon: 0.475340042005707\n",
            "rewards: 3.2000000000000046\n",
            "--------------------------------\n",
            "episode: 75\n",
            "epsilon: 0.47058664158564995\n",
            "rewards: 11.2\n",
            "--------------------------------\n",
            "episode: 76\n",
            "epsilon: 0.4658807751697934\n",
            "rewards: 30.300000000000004\n",
            "--------------------------------\n",
            "episode: 77\n",
            "epsilon: 0.4612219674180955\n",
            "rewards: 17.400000000000002\n",
            "--------------------------------\n",
            "episode: 78\n",
            "epsilon: 0.45660974774391455\n",
            "rewards: 25.3\n",
            "--------------------------------\n",
            "episode: 79\n",
            "epsilon: 0.4520436502664754\n",
            "rewards: 44.59999999999994\n",
            "--------------------------------\n",
            "episode: 80\n",
            "epsilon: 0.44752321376381066\n",
            "rewards: 19.1\n",
            "--------------------------------\n",
            "episode: 81\n",
            "epsilon: 0.44304798162617254\n",
            "rewards: 7.4\n",
            "--------------------------------\n",
            "episode: 82\n",
            "epsilon: 0.4386175018099108\n",
            "rewards: 6.1\n",
            "--------------------------------\n",
            "episode: 83\n",
            "epsilon: 0.4342313267918117\n",
            "rewards: 8.6\n",
            "--------------------------------\n",
            "episode: 84\n",
            "epsilon: 0.4298890135238936\n",
            "rewards: 5.3999999999999995\n",
            "--------------------------------\n",
            "episode: 85\n",
            "epsilon: 0.42559012338865465\n",
            "rewards: 17.1\n",
            "--------------------------------\n",
            "episode: 86\n",
            "epsilon: 0.4213342221547681\n",
            "rewards: 39.89999999999999\n",
            "--------------------------------\n",
            "episode: 87\n",
            "epsilon: 0.41712087993322045\n",
            "rewards: 25.9\n",
            "--------------------------------\n",
            "episode: 88\n",
            "epsilon: 0.41294967113388825\n",
            "rewards: 12.900000000000002\n",
            "--------------------------------\n",
            "episode: 89\n",
            "epsilon: 0.40882017442254937\n",
            "rewards: 20.7\n",
            "--------------------------------\n",
            "episode: 90\n",
            "epsilon: 0.4047319726783239\n",
            "rewards: 17.299999999999997\n",
            "--------------------------------\n",
            "episode: 91\n",
            "epsilon: 0.40068465295154065\n",
            "rewards: 47.499999999999986\n",
            "--------------------------------\n",
            "episode: 92\n",
            "epsilon: 0.39667780642202527\n",
            "rewards: 11.799999999999999\n",
            "--------------------------------\n",
            "episode: 93\n",
            "epsilon: 0.392711028357805\n",
            "rewards: 19.700000000000017\n",
            "--------------------------------\n",
            "episode: 94\n",
            "epsilon: 0.38878391807422696\n",
            "rewards: 9.200000000000008\n",
            "--------------------------------\n",
            "episode: 95\n",
            "epsilon: 0.3848960788934847\n",
            "rewards: 7.3\n",
            "--------------------------------\n",
            "episode: 96\n",
            "epsilon: 0.38104711810454983\n",
            "rewards: 6.3999999999999995\n",
            "--------------------------------\n",
            "episode: 97\n",
            "epsilon: 0.37723664692350434\n",
            "rewards: 19.6\n",
            "--------------------------------\n",
            "episode: 98\n",
            "epsilon: 0.37346428045426927\n",
            "rewards: 8.7\n",
            "--------------------------------\n",
            "episode: 99\n",
            "epsilon: 0.36972963764972655\n",
            "rewards: 18.0\n",
            "--------------------------------\n",
            "episode: 100\n",
            "epsilon: 0.36603234127322926\n",
            "rewards: 42.49999999999997\n",
            "--------------------------------\n",
            "episode: 101\n",
            "epsilon: 0.36237201786049694\n",
            "rewards: 23.6\n",
            "--------------------------------\n",
            "episode: 102\n",
            "epsilon: 0.358748297681892\n",
            "rewards: 11.6\n",
            "--------------------------------\n",
            "episode: 103\n",
            "epsilon: 0.35516081470507305\n",
            "rewards: 29.299999999999976\n",
            "--------------------------------\n",
            "episode: 104\n",
            "epsilon: 0.3516092065580223\n",
            "rewards: 10.6\n",
            "--------------------------------\n",
            "episode: 105\n",
            "epsilon: 0.34809311449244207\n",
            "rewards: 7.0\n",
            "--------------------------------\n",
            "episode: 106\n",
            "epsilon: 0.34461218334751764\n",
            "rewards: 11.7\n",
            "--------------------------------\n",
            "episode: 107\n",
            "epsilon: 0.34116606151404244\n",
            "rewards: 6.099999999999998\n",
            "--------------------------------\n",
            "episode: 108\n",
            "epsilon: 0.337754400898902\n",
            "rewards: 18.3\n",
            "--------------------------------\n",
            "episode: 109\n",
            "epsilon: 0.334376856889913\n",
            "rewards: 22.0\n",
            "--------------------------------\n",
            "episode: 110\n",
            "epsilon: 0.33103308832101386\n",
            "rewards: 15.1\n",
            "--------------------------------\n",
            "episode: 111\n",
            "epsilon: 0.3277227574378037\n",
            "rewards: 36.1999999999999\n",
            "--------------------------------\n",
            "episode: 112\n",
            "epsilon: 0.3244455298634257\n",
            "rewards: 25.7\n",
            "--------------------------------\n",
            "episode: 113\n",
            "epsilon: 0.3212010745647914\n",
            "rewards: 24.4\n",
            "--------------------------------\n",
            "episode: 114\n",
            "epsilon: 0.3179890638191435\n",
            "rewards: 19.7\n",
            "--------------------------------\n",
            "episode: 115\n",
            "epsilon: 0.31480917318095203\n",
            "rewards: 6.5\n",
            "--------------------------------\n",
            "episode: 116\n",
            "epsilon: 0.3116610814491425\n",
            "rewards: 14.4\n",
            "--------------------------------\n",
            "episode: 117\n",
            "epsilon: 0.30854447063465107\n",
            "rewards: 8.4\n",
            "--------------------------------\n",
            "episode: 118\n",
            "epsilon: 0.30545902592830454\n",
            "rewards: 23.799999999999997\n",
            "--------------------------------\n",
            "episode: 119\n",
            "epsilon: 0.3024044356690215\n",
            "rewards: 34.3\n",
            "--------------------------------\n",
            "episode: 120\n",
            "epsilon: 0.29938039131233124\n",
            "rewards: 4.899999999999999\n",
            "--------------------------------\n",
            "episode: 121\n",
            "epsilon: 0.2963865873992079\n",
            "rewards: 72.39999999999999\n",
            "--------------------------------\n",
            "episode: 122\n",
            "epsilon: 0.29342272152521587\n",
            "rewards: 44.49999999999997\n",
            "--------------------------------\n",
            "episode: 123\n",
            "epsilon: 0.2904884943099637\n",
            "rewards: 14.7\n",
            "--------------------------------\n",
            "episode: 124\n",
            "epsilon: 0.28758360936686406\n",
            "rewards: 49.099999999999994\n",
            "--------------------------------\n",
            "episode: 125\n",
            "epsilon: 0.2847077732731954\n",
            "rewards: 6.2\n",
            "--------------------------------\n",
            "episode: 126\n",
            "epsilon: 0.28186069554046345\n",
            "rewards: 31.900000000000006\n",
            "--------------------------------\n",
            "episode: 127\n",
            "epsilon: 0.2790420885850588\n",
            "rewards: 14.2\n",
            "--------------------------------\n",
            "episode: 128\n",
            "epsilon: 0.2762516676992082\n",
            "rewards: 23.1\n",
            "--------------------------------\n",
            "episode: 129\n",
            "epsilon: 0.27348915102221616\n",
            "rewards: 33.3\n",
            "--------------------------------\n",
            "episode: 130\n",
            "epsilon: 0.270754259511994\n",
            "rewards: 17.6\n",
            "--------------------------------\n",
            "episode: 131\n",
            "epsilon: 0.26804671691687404\n",
            "rewards: 11.200000000000006\n",
            "--------------------------------\n",
            "episode: 132\n",
            "epsilon: 0.2653662497477053\n",
            "rewards: 20.10000000000001\n",
            "--------------------------------\n",
            "episode: 133\n",
            "epsilon: 0.2627125872502282\n",
            "rewards: 9.5\n",
            "--------------------------------\n",
            "episode: 134\n",
            "epsilon: 0.2600854613777259\n",
            "rewards: 12.199999999999998\n",
            "--------------------------------\n",
            "episode: 135\n",
            "epsilon: 0.2574846067639487\n",
            "rewards: 21.500000000000007\n",
            "--------------------------------\n",
            "episode: 136\n",
            "epsilon: 0.2549097606963092\n",
            "rewards: 6.9\n",
            "--------------------------------\n",
            "episode: 137\n",
            "epsilon: 0.2523606630893461\n",
            "rewards: 24.500000000000007\n",
            "--------------------------------\n",
            "episode: 138\n",
            "epsilon: 0.24983705645845267\n",
            "rewards: 16.7\n",
            "--------------------------------\n",
            "episode: 139\n",
            "epsilon: 0.24733868589386815\n",
            "rewards: 12.8\n",
            "--------------------------------\n",
            "episode: 140\n",
            "epsilon: 0.24486529903492946\n",
            "rewards: 18.8\n",
            "--------------------------------\n",
            "episode: 141\n",
            "epsilon: 0.24241664604458016\n",
            "rewards: 5.3999999999999995\n",
            "--------------------------------\n",
            "episode: 142\n",
            "epsilon: 0.23999247958413436\n",
            "rewards: 11.7\n",
            "--------------------------------\n",
            "episode: 143\n",
            "epsilon: 0.23759255478829303\n",
            "rewards: 11.4\n",
            "--------------------------------\n",
            "episode: 144\n",
            "epsilon: 0.2352166292404101\n",
            "rewards: 7.5\n",
            "--------------------------------\n",
            "episode: 145\n",
            "epsilon: 0.232864462948006\n",
            "rewards: 45.900000000000006\n",
            "--------------------------------\n",
            "episode: 146\n",
            "epsilon: 0.23053581831852593\n",
            "rewards: 8.6\n",
            "--------------------------------\n",
            "episode: 147\n",
            "epsilon: 0.22823046013534068\n",
            "rewards: 25.400000000000002\n",
            "--------------------------------\n",
            "episode: 148\n",
            "epsilon: 0.22594815553398728\n",
            "rewards: 30.999999999999936\n",
            "--------------------------------\n",
            "episode: 149\n",
            "epsilon: 0.22368867397864742\n",
            "rewards: 30.799999999999997\n",
            "--------------------------------\n",
            "episode: 150\n",
            "epsilon: 0.22145178723886094\n",
            "rewards: 78.79999999999993\n",
            "--------------------------------\n",
            "episode: 151\n",
            "epsilon: 0.21923726936647234\n",
            "rewards: 28.299999999999997\n",
            "--------------------------------\n",
            "episode: 152\n",
            "epsilon: 0.2170448966728076\n",
            "rewards: 15.5\n",
            "--------------------------------\n",
            "episode: 153\n",
            "epsilon: 0.21487444770607952\n",
            "rewards: 16.3\n",
            "--------------------------------\n",
            "episode: 154\n",
            "epsilon: 0.21272570322901874\n",
            "rewards: 51.99999999999999\n",
            "--------------------------------\n",
            "episode: 155\n",
            "epsilon: 0.21059844619672854\n",
            "rewards: 36.19999999999998\n",
            "--------------------------------\n",
            "episode: 156\n",
            "epsilon: 0.20849246173476127\n",
            "rewards: 7.3999999999999995\n",
            "--------------------------------\n",
            "episode: 157\n",
            "epsilon: 0.20640753711741366\n",
            "rewards: 15.9\n",
            "--------------------------------\n",
            "episode: 158\n",
            "epsilon: 0.20434346174623952\n",
            "rewards: 45.800000000000004\n",
            "--------------------------------\n",
            "episode: 159\n",
            "epsilon: 0.20230002712877712\n",
            "rewards: 15.700000000000005\n",
            "--------------------------------\n",
            "episode: 160\n",
            "epsilon: 0.20027702685748935\n",
            "rewards: 17.1\n",
            "--------------------------------\n",
            "episode: 161\n",
            "epsilon: 0.19827425658891445\n",
            "rewards: 34.0\n",
            "--------------------------------\n",
            "episode: 162\n",
            "epsilon: 0.1962915140230253\n",
            "rewards: 16.2\n",
            "--------------------------------\n",
            "episode: 163\n",
            "epsilon: 0.19432859888279505\n",
            "rewards: 14.8\n",
            "--------------------------------\n",
            "episode: 164\n",
            "epsilon: 0.1923853128939671\n",
            "rewards: 34.5\n",
            "--------------------------------\n",
            "episode: 165\n",
            "epsilon: 0.19046145976502743\n",
            "rewards: 33.89999999999997\n",
            "--------------------------------\n",
            "episode: 166\n",
            "epsilon: 0.18855684516737714\n",
            "rewards: 21.70000000000001\n",
            "--------------------------------\n",
            "episode: 167\n",
            "epsilon: 0.18667127671570335\n",
            "rewards: 15.5\n",
            "--------------------------------\n",
            "episode: 168\n",
            "epsilon: 0.18480456394854633\n",
            "rewards: 3.7999999999999985\n",
            "--------------------------------\n",
            "episode: 169\n",
            "epsilon: 0.18295651830906087\n",
            "rewards: 14.1\n",
            "--------------------------------\n",
            "episode: 170\n",
            "epsilon: 0.18112695312597027\n",
            "rewards: 27.09999999999998\n",
            "--------------------------------\n",
            "episode: 171\n",
            "epsilon: 0.17931568359471056\n",
            "rewards: 9.299999999999999\n",
            "--------------------------------\n",
            "episode: 172\n",
            "epsilon: 0.17752252675876345\n",
            "rewards: 23.4\n",
            "--------------------------------\n",
            "episode: 173\n",
            "epsilon: 0.17574730149117582\n",
            "rewards: 8.4\n",
            "--------------------------------\n",
            "episode: 174\n",
            "epsilon: 0.17398982847626407\n",
            "rewards: 22.400000000000006\n",
            "--------------------------------\n",
            "episode: 175\n",
            "epsilon: 0.17224993019150142\n",
            "rewards: 14.4\n",
            "--------------------------------\n",
            "episode: 176\n",
            "epsilon: 0.1705274308895864\n",
            "rewards: 21.000000000000007\n",
            "--------------------------------\n",
            "episode: 177\n",
            "epsilon: 0.16882215658069055\n",
            "rewards: 14.0\n",
            "--------------------------------\n",
            "episode: 178\n",
            "epsilon: 0.16713393501488363\n",
            "rewards: 43.79999999999998\n",
            "--------------------------------\n",
            "episode: 179\n",
            "epsilon: 0.16546259566473479\n",
            "rewards: 22.0\n",
            "--------------------------------\n",
            "episode: 180\n",
            "epsilon: 0.16380796970808745\n",
            "rewards: 39.699999999999996\n",
            "--------------------------------\n",
            "episode: 181\n",
            "epsilon: 0.16216989001100657\n",
            "rewards: 7.1\n",
            "--------------------------------\n",
            "episode: 182\n",
            "epsilon: 0.1605481911108965\n",
            "rewards: 44.9\n",
            "--------------------------------\n",
            "episode: 183\n",
            "epsilon: 0.15894270919978754\n",
            "rewards: 8.4\n",
            "--------------------------------\n",
            "episode: 184\n",
            "epsilon: 0.15735328210778965\n",
            "rewards: 6.3999999999999995\n",
            "--------------------------------\n",
            "episode: 185\n",
            "epsilon: 0.15577974928671176\n",
            "rewards: 12.3\n",
            "--------------------------------\n",
            "episode: 186\n",
            "epsilon: 0.15422195179384465\n",
            "rewards: 30.000000000000004\n",
            "--------------------------------\n",
            "episode: 187\n",
            "epsilon: 0.1526797322759062\n",
            "rewards: 12.600000000000001\n",
            "--------------------------------\n",
            "episode: 188\n",
            "epsilon: 0.15115293495314713\n",
            "rewards: 37.599999999999994\n",
            "--------------------------------\n",
            "episode: 189\n",
            "epsilon: 0.14964140560361566\n",
            "rewards: 84.89999999999998\n",
            "--------------------------------\n",
            "episode: 190\n",
            "epsilon: 0.1481449915475795\n",
            "rewards: 97.70000000000002\n",
            "--------------------------------\n",
            "episode: 191\n",
            "epsilon: 0.1466635416321037\n",
            "rewards: 38.39999999999999\n",
            "--------------------------------\n",
            "episode: 192\n",
            "epsilon: 0.14519690621578268\n",
            "rewards: 6.9\n",
            "--------------------------------\n",
            "episode: 193\n",
            "epsilon: 0.14374493715362485\n",
            "rewards: 15.999999999999998\n",
            "--------------------------------\n",
            "episode: 194\n",
            "epsilon: 0.1423074877820886\n",
            "rewards: 24.50000000000001\n",
            "--------------------------------\n",
            "episode: 195\n",
            "epsilon: 0.1408844129042677\n",
            "rewards: 29.1\n",
            "--------------------------------\n",
            "episode: 196\n",
            "epsilon: 0.13947556877522502\n",
            "rewards: 20.2\n",
            "--------------------------------\n",
            "episode: 197\n",
            "epsilon: 0.13808081308747278\n",
            "rewards: 5.8999999999999995\n",
            "--------------------------------\n",
            "episode: 198\n",
            "epsilon: 0.13670000495659804\n",
            "rewards: 6.8999999999999995\n",
            "--------------------------------\n",
            "episode: 199\n",
            "epsilon: 0.13533300490703207\n",
            "rewards: 40.39999999999998\n",
            "--------------------------------\n",
            "episode: 200\n",
            "epsilon: 0.13397967485796175\n",
            "rewards: 9.899999999999999\n",
            "--------------------------------\n",
            "episode: 201\n",
            "epsilon: 0.13263987810938213\n",
            "rewards: 94.20000000000002\n",
            "--------------------------------\n",
            "episode: 202\n",
            "epsilon: 0.1313134793282883\n",
            "rewards: 2.7000000000000024\n",
            "--------------------------------\n",
            "episode: 203\n",
            "epsilon: 0.13000034453500542\n",
            "rewards: 42.4\n",
            "--------------------------------\n",
            "episode: 204\n",
            "epsilon: 0.12870034108965536\n",
            "rewards: 66.69999999999997\n",
            "--------------------------------\n",
            "episode: 205\n",
            "epsilon: 0.12741333767875881\n",
            "rewards: 53.599999999999994\n",
            "--------------------------------\n",
            "episode: 206\n",
            "epsilon: 0.12613920430197123\n",
            "rewards: 31.000000000000007\n",
            "--------------------------------\n",
            "episode: 207\n",
            "epsilon: 0.12487781225895152\n",
            "rewards: 11.1\n",
            "--------------------------------\n",
            "episode: 208\n",
            "epsilon: 0.123629034136362\n",
            "rewards: 30.800000000000004\n",
            "--------------------------------\n",
            "episode: 209\n",
            "epsilon: 0.12239274379499838\n",
            "rewards: 2.300000000000008\n",
            "--------------------------------\n",
            "episode: 210\n",
            "epsilon: 0.1211688163570484\n",
            "rewards: 6.5\n",
            "--------------------------------\n",
            "episode: 211\n",
            "epsilon: 0.11995712819347792\n",
            "rewards: 21.0\n",
            "--------------------------------\n",
            "episode: 212\n",
            "epsilon: 0.11875755691154315\n",
            "rewards: 10.5\n",
            "--------------------------------\n",
            "episode: 213\n",
            "epsilon: 0.11756998134242772\n",
            "rewards: 26.900000000000002\n",
            "--------------------------------\n",
            "episode: 214\n",
            "epsilon: 0.11639428152900344\n",
            "rewards: 6.700000000000001\n",
            "--------------------------------\n",
            "episode: 215\n",
            "epsilon: 0.11523033871371341\n",
            "rewards: 30.7\n",
            "--------------------------------\n",
            "episode: 216\n",
            "epsilon: 0.11407803532657627\n",
            "rewards: 89.29999999999998\n",
            "--------------------------------\n",
            "episode: 217\n",
            "epsilon: 0.11293725497331052\n",
            "rewards: 7.9\n",
            "--------------------------------\n",
            "episode: 218\n",
            "epsilon: 0.1118078824235774\n",
            "rewards: 10.9\n",
            "--------------------------------\n",
            "episode: 219\n",
            "epsilon: 0.11068980359934164\n",
            "rewards: 14.8\n",
            "--------------------------------\n",
            "episode: 220\n",
            "epsilon: 0.10958290556334822\n",
            "rewards: 15.1\n",
            "--------------------------------\n",
            "episode: 221\n",
            "epsilon: 0.10848707650771475\n",
            "rewards: 13.5\n",
            "--------------------------------\n",
            "episode: 222\n",
            "epsilon: 0.1074022057426376\n",
            "rewards: 18.2\n",
            "--------------------------------\n",
            "episode: 223\n",
            "epsilon: 0.10632818368521123\n",
            "rewards: 35.199999999999974\n",
            "--------------------------------\n",
            "episode: 224\n",
            "epsilon: 0.10526490184835911\n",
            "rewards: 30.699999999999996\n",
            "--------------------------------\n",
            "episode: 225\n",
            "epsilon: 0.10421225282987552\n",
            "rewards: 4.6\n",
            "--------------------------------\n",
            "episode: 226\n",
            "epsilon: 0.10317013030157676\n",
            "rewards: 60.59999999999999\n",
            "--------------------------------\n",
            "episode: 227\n",
            "epsilon: 0.10213842899856099\n",
            "rewards: 44.1\n",
            "--------------------------------\n",
            "episode: 228\n",
            "epsilon: 0.10111704470857538\n",
            "rewards: 10.1\n",
            "--------------------------------\n",
            "episode: 229\n",
            "epsilon: 0.10010587426148963\n",
            "rewards: 20.400000000000002\n",
            "--------------------------------\n",
            "episode: 230\n",
            "epsilon: 0.09910481551887473\n",
            "rewards: 57.39999999999991\n",
            "--------------------------------\n",
            "episode: 231\n",
            "epsilon: 0.09811376736368599\n",
            "rewards: 50.300000000000004\n",
            "--------------------------------\n",
            "episode: 232\n",
            "epsilon: 0.09713262969004913\n",
            "rewards: 20.4\n",
            "--------------------------------\n",
            "episode: 233\n",
            "epsilon: 0.09616130339314863\n",
            "rewards: 15.4\n",
            "--------------------------------\n",
            "episode: 234\n",
            "epsilon: 0.09519969035921715\n",
            "rewards: 18.599999999999998\n",
            "--------------------------------\n",
            "episode: 235\n",
            "epsilon: 0.09424769345562498\n",
            "rewards: 46.19999999999998\n",
            "--------------------------------\n",
            "episode: 236\n",
            "epsilon: 0.09330521652106873\n",
            "rewards: 14.8\n",
            "--------------------------------\n",
            "episode: 237\n",
            "epsilon: 0.09237216435585804\n",
            "rewards: 11.3\n",
            "--------------------------------\n",
            "episode: 238\n",
            "epsilon: 0.09144844271229946\n",
            "rewards: 31.0\n",
            "--------------------------------\n",
            "episode: 239\n",
            "epsilon: 0.09053395828517646\n",
            "rewards: 25.1\n",
            "--------------------------------\n",
            "episode: 240\n",
            "epsilon: 0.08962861870232469\n",
            "rewards: 7.3\n",
            "--------------------------------\n",
            "episode: 241\n",
            "epsilon: 0.08873233251530144\n",
            "rewards: 14.299999999999999\n",
            "--------------------------------\n",
            "episode: 242\n",
            "epsilon: 0.08784500919014843\n",
            "rewards: 9.7\n",
            "--------------------------------\n",
            "episode: 243\n",
            "epsilon: 0.08696655909824694\n",
            "rewards: 22.900000000000002\n",
            "--------------------------------\n",
            "episode: 244\n",
            "epsilon: 0.08609689350726446\n",
            "rewards: 8.0\n",
            "--------------------------------\n",
            "episode: 245\n",
            "epsilon: 0.08523592457219181\n",
            "rewards: 6.400000000000004\n",
            "--------------------------------\n",
            "episode: 246\n",
            "epsilon: 0.0843835653264699\n",
            "rewards: 26.9\n",
            "--------------------------------\n",
            "episode: 247\n",
            "epsilon: 0.0835397296732052\n",
            "rewards: 28.19999999999999\n",
            "--------------------------------\n",
            "episode: 248\n",
            "epsilon: 0.08270433237647315\n",
            "rewards: 43.099999999999966\n",
            "--------------------------------\n",
            "episode: 249\n",
            "epsilon: 0.08187728905270841\n",
            "rewards: 22.700000000000003\n",
            "--------------------------------\n",
            "episode: 250\n",
            "epsilon: 0.08105851616218133\n",
            "rewards: 27.799999999999997\n",
            "--------------------------------\n",
            "episode: 251\n",
            "epsilon: 0.08024793100055952\n",
            "rewards: 21.2\n",
            "--------------------------------\n",
            "episode: 252\n",
            "epsilon: 0.07944545169055392\n",
            "rewards: 40.5\n",
            "--------------------------------\n",
            "episode: 253\n",
            "epsilon: 0.07865099717364837\n",
            "rewards: 11.1\n",
            "--------------------------------\n",
            "episode: 254\n",
            "epsilon: 0.07786448720191189\n",
            "rewards: 18.0\n",
            "--------------------------------\n",
            "episode: 255\n",
            "epsilon: 0.07708584232989277\n",
            "rewards: 17.5\n",
            "--------------------------------\n",
            "episode: 256\n",
            "epsilon: 0.07631498390659384\n",
            "rewards: 15.700000000000003\n",
            "--------------------------------\n",
            "episode: 257\n",
            "epsilon: 0.07555183406752791\n",
            "rewards: 44.399999999999984\n",
            "--------------------------------\n",
            "episode: 258\n",
            "epsilon: 0.07479631572685264\n",
            "rewards: 6.699999999999998\n",
            "--------------------------------\n",
            "episode: 259\n",
            "epsilon: 0.07404835256958411\n",
            "rewards: 24.6\n",
            "--------------------------------\n",
            "episode: 260\n",
            "epsilon: 0.07330786904388827\n",
            "rewards: 31.10000000000001\n",
            "--------------------------------\n",
            "episode: 261\n",
            "epsilon: 0.07257479035344938\n",
            "rewards: 67.69999999999999\n",
            "--------------------------------\n",
            "episode: 262\n",
            "epsilon: 0.07184904244991488\n",
            "rewards: 14.8\n",
            "--------------------------------\n",
            "episode: 263\n",
            "epsilon: 0.07113055202541574\n",
            "rewards: 6.600000000000007\n",
            "--------------------------------\n",
            "episode: 264\n",
            "epsilon: 0.07041924650516158\n",
            "rewards: 15.200000000000001\n",
            "--------------------------------\n",
            "episode: 265\n",
            "epsilon: 0.06971505404010997\n",
            "rewards: 36.0\n",
            "--------------------------------\n",
            "episode: 266\n",
            "epsilon: 0.06901790349970886\n",
            "rewards: 61.09999999999994\n",
            "--------------------------------\n",
            "episode: 267\n",
            "epsilon: 0.06832772446471178\n",
            "rewards: 32.099999999999994\n",
            "--------------------------------\n",
            "episode: 268\n",
            "epsilon: 0.06764444722006466\n",
            "rewards: 26.60000000000001\n",
            "--------------------------------\n",
            "episode: 269\n",
            "epsilon: 0.066968002747864\n",
            "rewards: 6.499999999999999\n",
            "--------------------------------\n",
            "episode: 270\n",
            "epsilon: 0.06629832272038537\n",
            "rewards: 60.699999999999996\n",
            "--------------------------------\n",
            "episode: 271\n",
            "epsilon: 0.06563533949318151\n",
            "rewards: 18.70000000000002\n",
            "--------------------------------\n",
            "episode: 272\n",
            "epsilon: 0.06497898609824969\n",
            "rewards: 20.800000000000004\n",
            "--------------------------------\n",
            "episode: 273\n",
            "epsilon: 0.0643291962372672\n",
            "rewards: 36.6\n",
            "--------------------------------\n",
            "episode: 274\n",
            "epsilon: 0.06368590427489453\n",
            "rewards: 37.5\n",
            "--------------------------------\n",
            "episode: 275\n",
            "epsilon: 0.06304904523214558\n",
            "rewards: 16.7\n",
            "--------------------------------\n",
            "episode: 276\n",
            "epsilon: 0.06241855477982412\n",
            "rewards: 51.0\n",
            "--------------------------------\n",
            "episode: 277\n",
            "epsilon: 0.06179436923202588\n",
            "rewards: 6.8999999999999995\n",
            "--------------------------------\n",
            "episode: 278\n",
            "epsilon: 0.06117642553970562\n",
            "rewards: 11.2\n",
            "--------------------------------\n",
            "episode: 279\n",
            "epsilon: 0.06056466128430856\n",
            "rewards: 9.599999999999998\n",
            "--------------------------------\n",
            "episode: 280\n",
            "epsilon: 0.05995901467146548\n",
            "rewards: 18.500000000000004\n",
            "--------------------------------\n",
            "episode: 281\n",
            "epsilon: 0.05935942452475082\n",
            "rewards: 24.1\n",
            "--------------------------------\n",
            "episode: 282\n",
            "epsilon: 0.058765830279503314\n",
            "rewards: 7.5000000000000036\n",
            "--------------------------------\n",
            "episode: 283\n",
            "epsilon: 0.05817817197670828\n",
            "rewards: 20.6\n",
            "--------------------------------\n",
            "episode: 284\n",
            "epsilon: 0.057596390256941195\n",
            "rewards: 10.5\n",
            "--------------------------------\n",
            "episode: 285\n",
            "epsilon: 0.05702042635437178\n",
            "rewards: 19.6\n",
            "--------------------------------\n",
            "episode: 286\n",
            "epsilon: 0.05645022209082806\n",
            "rewards: 22.299999999999997\n",
            "--------------------------------\n",
            "episode: 287\n",
            "epsilon: 0.05588571986991978\n",
            "rewards: 8.5\n",
            "--------------------------------\n",
            "episode: 288\n",
            "epsilon: 0.055326862671220584\n",
            "rewards: 7.7\n",
            "--------------------------------\n",
            "episode: 289\n",
            "epsilon: 0.05477359404450838\n",
            "rewards: 30.799999999999997\n",
            "--------------------------------\n",
            "episode: 290\n",
            "epsilon: 0.054225858104063294\n",
            "rewards: 55.89999999999998\n",
            "--------------------------------\n",
            "episode: 291\n",
            "epsilon: 0.05368359952302266\n",
            "rewards: 11.2\n",
            "--------------------------------\n",
            "episode: 292\n",
            "epsilon: 0.053146763527792434\n",
            "rewards: 19.599999999999998\n",
            "--------------------------------\n",
            "episode: 293\n",
            "epsilon: 0.052615295892514506\n",
            "rewards: 37.99999999999995\n",
            "--------------------------------\n",
            "episode: 294\n",
            "epsilon: 0.052089142933589364\n",
            "rewards: 86.79999999999994\n",
            "--------------------------------\n",
            "episode: 295\n",
            "epsilon: 0.05156825150425347\n",
            "rewards: 34.69999999999999\n",
            "--------------------------------\n",
            "episode: 296\n",
            "epsilon: 0.051052568989210935\n",
            "rewards: 16.1\n",
            "--------------------------------\n",
            "episode: 297\n",
            "epsilon: 0.05054204329931883\n",
            "rewards: 7.8\n",
            "--------------------------------\n",
            "episode: 298\n",
            "epsilon: 0.05003662286632564\n",
            "rewards: 7.3\n",
            "--------------------------------\n",
            "episode: 299\n",
            "epsilon: 0.04953625663766238\n",
            "rewards: 7.8\n",
            "--------------------------------\n",
            "episode: 300\n",
            "epsilon: 0.04904089407128576\n",
            "rewards: 18.7\n",
            "--------------------------------\n",
            "episode: 301\n",
            "epsilon: 0.0485504851305729\n",
            "rewards: 8.6\n",
            "--------------------------------\n",
            "episode: 302\n",
            "epsilon: 0.048064980279267165\n",
            "rewards: 18.400000000000002\n",
            "--------------------------------\n",
            "episode: 303\n",
            "epsilon: 0.04758433047647449\n",
            "rewards: 26.7\n",
            "--------------------------------\n",
            "episode: 304\n",
            "epsilon: 0.04710848717170975\n",
            "rewards: 34.699999999999996\n",
            "--------------------------------\n",
            "episode: 305\n",
            "epsilon: 0.04663740229999265\n",
            "rewards: 16.4\n",
            "--------------------------------\n",
            "episode: 306\n",
            "epsilon: 0.04617102827699272\n",
            "rewards: 18.7\n",
            "--------------------------------\n",
            "episode: 307\n",
            "epsilon: 0.045709317994222794\n",
            "rewards: 56.79999999999999\n",
            "--------------------------------\n",
            "episode: 308\n",
            "epsilon: 0.04525222481428057\n",
            "rewards: 15.9\n",
            "--------------------------------\n",
            "episode: 309\n",
            "epsilon: 0.04479970256613776\n",
            "rewards: 11.6\n",
            "--------------------------------\n",
            "episode: 310\n",
            "epsilon: 0.04435170554047638\n",
            "rewards: 17.9\n",
            "--------------------------------\n",
            "episode: 311\n",
            "epsilon: 0.043908188485071616\n",
            "rewards: 7.7\n",
            "--------------------------------\n",
            "episode: 312\n",
            "epsilon: 0.0434691066002209\n",
            "rewards: 17.199999999999996\n",
            "--------------------------------\n",
            "episode: 313\n",
            "epsilon: 0.04303441553421869\n",
            "rewards: 21.000000000000004\n",
            "--------------------------------\n",
            "episode: 314\n",
            "epsilon: 0.0426040713788765\n",
            "rewards: 43.00000000000001\n",
            "--------------------------------\n",
            "episode: 315\n",
            "epsilon: 0.04217803066508773\n",
            "rewards: 13.100000000000009\n",
            "--------------------------------\n",
            "episode: 316\n",
            "epsilon: 0.04175625035843686\n",
            "rewards: 69.19999999999996\n",
            "--------------------------------\n",
            "episode: 317\n",
            "epsilon: 0.041338687854852486\n",
            "rewards: 27.000000000000004\n",
            "--------------------------------\n",
            "episode: 318\n",
            "epsilon: 0.04092530097630396\n",
            "rewards: 12.2\n",
            "--------------------------------\n",
            "episode: 319\n",
            "epsilon: 0.040516047966540916\n",
            "rewards: 15.6\n",
            "--------------------------------\n",
            "episode: 320\n",
            "epsilon: 0.04011088748687551\n",
            "rewards: 16.099999999999998\n",
            "--------------------------------\n",
            "episode: 321\n",
            "epsilon: 0.03970977861200675\n",
            "rewards: 6.6\n",
            "--------------------------------\n",
            "episode: 322\n",
            "epsilon: 0.03931268082588668\n",
            "rewards: 56.699999999999974\n",
            "--------------------------------\n",
            "episode: 323\n",
            "epsilon: 0.03891955401762781\n",
            "rewards: 52.800000000000004\n",
            "--------------------------------\n",
            "episode: 324\n",
            "epsilon: 0.03853035847745153\n",
            "rewards: 16.5\n",
            "--------------------------------\n",
            "episode: 325\n",
            "epsilon: 0.03814505489267701\n",
            "rewards: 147.10000000000028\n",
            "--------------------------------\n",
            "episode: 326\n",
            "epsilon: 0.03776360434375024\n",
            "rewards: 23.2\n",
            "--------------------------------\n",
            "episode: 327\n",
            "epsilon: 0.03738596830031274\n",
            "rewards: 9.5\n",
            "--------------------------------\n",
            "episode: 328\n",
            "epsilon: 0.03701210861730961\n",
            "rewards: 6.0\n",
            "--------------------------------\n",
            "episode: 329\n",
            "epsilon: 0.03664198753113651\n",
            "rewards: 23.200000000000003\n",
            "--------------------------------\n",
            "episode: 330\n",
            "epsilon: 0.036275567655825146\n",
            "rewards: 97.79999999999998\n",
            "--------------------------------\n",
            "episode: 331\n",
            "epsilon: 0.03591281197926689\n",
            "rewards: 16.4\n",
            "--------------------------------\n",
            "episode: 332\n",
            "epsilon: 0.035553683859474224\n",
            "rewards: 45.9\n",
            "--------------------------------\n",
            "episode: 333\n",
            "epsilon: 0.03519814702087948\n",
            "rewards: 35.9\n",
            "--------------------------------\n",
            "episode: 334\n",
            "epsilon: 0.03484616555067068\n",
            "rewards: 95.20000000000013\n",
            "--------------------------------\n",
            "episode: 335\n",
            "epsilon: 0.034497703895163975\n",
            "rewards: 58.399999999999956\n",
            "--------------------------------\n",
            "episode: 336\n",
            "epsilon: 0.03415272685621234\n",
            "rewards: 11.5\n",
            "--------------------------------\n",
            "episode: 337\n",
            "epsilon: 0.03381119958765021\n",
            "rewards: 19.7\n",
            "--------------------------------\n",
            "episode: 338\n",
            "epsilon: 0.03347308759177371\n",
            "rewards: 26.2\n",
            "--------------------------------\n",
            "episode: 339\n",
            "epsilon: 0.03313835671585597\n",
            "rewards: 16.5\n",
            "--------------------------------\n",
            "episode: 340\n",
            "epsilon: 0.03280697314869741\n",
            "rewards: 13.1\n",
            "--------------------------------\n",
            "episode: 341\n",
            "epsilon: 0.032478903417210436\n",
            "rewards: 9.5\n",
            "--------------------------------\n",
            "episode: 342\n",
            "epsilon: 0.032154114383038335\n",
            "rewards: 6.6\n",
            "--------------------------------\n",
            "episode: 343\n",
            "epsilon: 0.03183257323920795\n",
            "rewards: 15.4\n",
            "--------------------------------\n",
            "episode: 344\n",
            "epsilon: 0.03151424750681587\n",
            "rewards: 31.099999999999994\n",
            "--------------------------------\n",
            "episode: 345\n",
            "epsilon: 0.03119910503174771\n",
            "rewards: 9.600000000000001\n",
            "--------------------------------\n",
            "episode: 346\n",
            "epsilon: 0.030887113981430233\n",
            "rewards: 7.199999999999999\n",
            "--------------------------------\n",
            "episode: 347\n",
            "epsilon: 0.03057824284161593\n",
            "rewards: 28.700000000000003\n",
            "--------------------------------\n",
            "episode: 348\n",
            "epsilon: 0.03027246041319977\n",
            "rewards: 16.0\n",
            "--------------------------------\n",
            "episode: 349\n",
            "epsilon: 0.029969735809067772\n",
            "rewards: 12.099999999999998\n",
            "--------------------------------\n",
            "episode: 350\n",
            "epsilon: 0.029670038450977095\n",
            "rewards: 52.89999999999984\n",
            "--------------------------------\n",
            "episode: 351\n",
            "epsilon: 0.029373338066467324\n",
            "rewards: 11.099999999999998\n",
            "--------------------------------\n",
            "episode: 352\n",
            "epsilon: 0.02907960468580265\n",
            "rewards: 26.300000000000008\n",
            "--------------------------------\n",
            "episode: 353\n",
            "epsilon: 0.028788808638944622\n",
            "rewards: 28.2\n",
            "--------------------------------\n",
            "episode: 354\n",
            "epsilon: 0.028500920552555174\n",
            "rewards: 12.300000000000004\n",
            "--------------------------------\n",
            "episode: 355\n",
            "epsilon: 0.028215911347029624\n",
            "rewards: 0.4000000000000288\n",
            "--------------------------------\n",
            "episode: 356\n",
            "epsilon: 0.027933752233559327\n",
            "rewards: 15.4\n",
            "--------------------------------\n",
            "episode: 357\n",
            "epsilon: 0.027654414711223735\n",
            "rewards: 14.7\n",
            "--------------------------------\n",
            "episode: 358\n",
            "epsilon: 0.027377870564111496\n",
            "rewards: 39.39999999999997\n",
            "--------------------------------\n",
            "episode: 359\n",
            "epsilon: 0.027104091858470382\n",
            "rewards: 6.799999999999999\n",
            "--------------------------------\n",
            "episode: 360\n",
            "epsilon: 0.026833050939885677\n",
            "rewards: 7.399999999999999\n",
            "--------------------------------\n",
            "episode: 361\n",
            "epsilon: 0.02656472043048682\n",
            "rewards: 64.0\n",
            "--------------------------------\n",
            "episode: 362\n",
            "epsilon: 0.02629907322618195\n",
            "rewards: 8.2\n",
            "--------------------------------\n",
            "episode: 363\n",
            "epsilon: 0.026036082493920133\n",
            "rewards: 14.6\n",
            "--------------------------------\n",
            "episode: 364\n",
            "epsilon: 0.02577572166898093\n",
            "rewards: 16.7\n",
            "--------------------------------\n",
            "episode: 365\n",
            "epsilon: 0.025517964452291122\n",
            "rewards: 35.79999999999999\n",
            "--------------------------------\n",
            "episode: 366\n",
            "epsilon: 0.02526278480776821\n",
            "rewards: 18.1\n",
            "--------------------------------\n",
            "episode: 367\n",
            "epsilon: 0.025010156959690527\n",
            "rewards: 10.5\n",
            "--------------------------------\n",
            "episode: 368\n",
            "epsilon: 0.02476005539009362\n",
            "rewards: 36.19999999999998\n",
            "--------------------------------\n",
            "episode: 369\n",
            "epsilon: 0.024512454836192684\n",
            "rewards: 12.800000000000004\n",
            "--------------------------------\n",
            "episode: 370\n",
            "epsilon: 0.024267330287830756\n",
            "rewards: 22.1\n",
            "--------------------------------\n",
            "episode: 371\n",
            "epsilon: 0.024024656984952448\n",
            "rewards: 20.6\n",
            "--------------------------------\n",
            "episode: 372\n",
            "epsilon: 0.023784410415102923\n",
            "rewards: 7.7\n",
            "--------------------------------\n",
            "episode: 373\n",
            "epsilon: 0.023546566310951894\n",
            "rewards: 16.4\n",
            "--------------------------------\n",
            "episode: 374\n",
            "epsilon: 0.023311100647842375\n",
            "rewards: 41.6\n",
            "--------------------------------\n",
            "episode: 375\n",
            "epsilon: 0.02307798964136395\n",
            "rewards: 69.29999999999998\n",
            "--------------------------------\n",
            "episode: 376\n",
            "epsilon: 0.022847209744950314\n",
            "rewards: 10.599999999999998\n",
            "--------------------------------\n",
            "episode: 377\n",
            "epsilon: 0.02261873764750081\n",
            "rewards: 107.10000000000028\n",
            "--------------------------------\n",
            "episode: 378\n",
            "epsilon: 0.022392550271025803\n",
            "rewards: 12.900000000000006\n",
            "--------------------------------\n",
            "episode: 379\n",
            "epsilon: 0.022168624768315544\n",
            "rewards: 48.39999999999999\n",
            "--------------------------------\n",
            "episode: 380\n",
            "epsilon: 0.02194693852063239\n",
            "rewards: 5.499999999999999\n",
            "--------------------------------\n",
            "episode: 381\n",
            "epsilon: 0.021727469135426065\n",
            "rewards: 12.4\n",
            "--------------------------------\n",
            "episode: 382\n",
            "epsilon: 0.021510194444071803\n",
            "rewards: 11.9\n",
            "--------------------------------\n",
            "episode: 383\n",
            "epsilon: 0.021295092499631085\n",
            "rewards: 7.1\n",
            "--------------------------------\n",
            "episode: 384\n",
            "epsilon: 0.021082141574634772\n",
            "rewards: 20.6\n",
            "--------------------------------\n",
            "episode: 385\n",
            "epsilon: 0.020871320158888425\n",
            "rewards: 57.699999999999996\n",
            "--------------------------------\n",
            "episode: 386\n",
            "epsilon: 0.020662606957299542\n",
            "rewards: 6.199999999999999\n",
            "--------------------------------\n",
            "episode: 387\n",
            "epsilon: 0.020455980887726547\n",
            "rewards: 11.5\n",
            "--------------------------------\n",
            "episode: 388\n",
            "epsilon: 0.02025142107884928\n",
            "rewards: 71.19999999999996\n",
            "--------------------------------\n",
            "episode: 389\n",
            "epsilon: 0.020048906868060788\n",
            "rewards: 11.7\n",
            "--------------------------------\n",
            "episode: 390\n",
            "epsilon: 0.01984841779938018\n",
            "rewards: 27.299999999999994\n",
            "--------------------------------\n",
            "episode: 391\n",
            "epsilon: 0.019649933621386378\n",
            "rewards: 11.7\n",
            "--------------------------------\n",
            "episode: 392\n",
            "epsilon: 0.019453434285172513\n",
            "rewards: 45.69999999999998\n",
            "--------------------------------\n",
            "episode: 393\n",
            "epsilon: 0.019258899942320787\n",
            "rewards: 23.30000000000001\n",
            "--------------------------------\n",
            "episode: 394\n",
            "epsilon: 0.01906631094289758\n",
            "rewards: 45.39999999999999\n",
            "--------------------------------\n",
            "episode: 395\n",
            "epsilon: 0.018875647833468602\n",
            "rewards: 30.6\n",
            "--------------------------------\n",
            "episode: 396\n",
            "epsilon: 0.018686891355133916\n",
            "rewards: 7.0\n",
            "--------------------------------\n",
            "episode: 397\n",
            "epsilon: 0.018500022441582577\n",
            "rewards: 37.09999999999991\n",
            "--------------------------------\n",
            "episode: 398\n",
            "epsilon: 0.01831502221716675\n",
            "rewards: 72.80000000000001\n",
            "--------------------------------\n",
            "episode: 399\n",
            "epsilon: 0.018131871994995084\n",
            "rewards: 33.29999999999998\n",
            "--------------------------------\n",
            "episode: 400\n",
            "epsilon: 0.017950553275045134\n",
            "rewards: 25.499999999999996\n",
            "--------------------------------\n",
            "episode: 401\n",
            "epsilon: 0.017771047742294682\n",
            "rewards: 11.7\n",
            "--------------------------------\n",
            "episode: 402\n",
            "epsilon: 0.017593337264871736\n",
            "rewards: 11.9\n",
            "--------------------------------\n",
            "episode: 403\n",
            "epsilon: 0.01741740389222302\n",
            "rewards: 60.599999999999966\n",
            "--------------------------------\n",
            "episode: 404\n",
            "epsilon: 0.01724322985330079\n",
            "rewards: 46.39999999999997\n",
            "--------------------------------\n",
            "episode: 405\n",
            "epsilon: 0.017070797554767782\n",
            "rewards: 48.399999999999984\n",
            "--------------------------------\n",
            "episode: 406\n",
            "epsilon: 0.016900089579220106\n",
            "rewards: 6.399999999999999\n",
            "--------------------------------\n",
            "episode: 407\n",
            "epsilon: 0.016731088683427906\n",
            "rewards: 11.2\n",
            "--------------------------------\n",
            "episode: 408\n",
            "epsilon: 0.016563777796593626\n",
            "rewards: 34.100000000000016\n",
            "--------------------------------\n",
            "episode: 409\n",
            "epsilon: 0.016398140018627688\n",
            "rewards: 5.1999999999999975\n",
            "--------------------------------\n",
            "episode: 410\n",
            "epsilon: 0.01623415861844141\n",
            "rewards: 15.7\n",
            "--------------------------------\n",
            "episode: 411\n",
            "epsilon: 0.016071817032256998\n",
            "rewards: 11.099999999999998\n",
            "--------------------------------\n",
            "episode: 412\n",
            "epsilon: 0.01591109886193443\n",
            "rewards: 15.6\n",
            "--------------------------------\n",
            "episode: 413\n",
            "epsilon: 0.015751987873315085\n",
            "rewards: 7.500000000000011\n",
            "--------------------------------\n",
            "episode: 414\n",
            "epsilon: 0.015594467994581935\n",
            "rewards: 36.4\n",
            "--------------------------------\n",
            "episode: 415\n",
            "epsilon: 0.015438523314636115\n",
            "rewards: 170.40000000000035\n",
            "--------------------------------\n",
            "episode: 416\n",
            "epsilon: 0.015284138081489753\n",
            "rewards: 8.3\n",
            "--------------------------------\n",
            "episode: 417\n",
            "epsilon: 0.015131296700674856\n",
            "rewards: 26.3\n",
            "--------------------------------\n",
            "episode: 418\n",
            "epsilon: 0.014979983733668108\n",
            "rewards: 30.200000000000003\n",
            "--------------------------------\n",
            "episode: 419\n",
            "epsilon: 0.014830183896331426\n",
            "rewards: 19.599999999999998\n",
            "--------------------------------\n",
            "episode: 420\n",
            "epsilon: 0.014681882057368112\n",
            "rewards: 11.899999999999999\n",
            "--------------------------------\n",
            "episode: 421\n",
            "epsilon: 0.01453506323679443\n",
            "rewards: 15.200000000000001\n",
            "--------------------------------\n",
            "episode: 422\n",
            "epsilon: 0.014389712604426485\n",
            "rewards: 48.599999999999966\n",
            "--------------------------------\n",
            "episode: 423\n",
            "epsilon: 0.01424581547838222\n",
            "rewards: 48.3\n",
            "--------------------------------\n",
            "episode: 424\n",
            "epsilon: 0.014103357323598397\n",
            "rewards: 94.40000000000026\n",
            "--------------------------------\n",
            "episode: 425\n",
            "epsilon: 0.013962323750362413\n",
            "rewards: 12.5\n",
            "--------------------------------\n",
            "episode: 426\n",
            "epsilon: 0.013822700512858789\n",
            "rewards: 47.49999999999999\n",
            "--------------------------------\n",
            "episode: 427\n",
            "epsilon: 0.0136844735077302\n",
            "rewards: 12.2\n",
            "--------------------------------\n",
            "episode: 428\n",
            "epsilon: 0.013547628772652899\n",
            "rewards: 61.39999999999999\n",
            "--------------------------------\n",
            "episode: 429\n",
            "epsilon: 0.01341215248492637\n",
            "rewards: 7.1\n",
            "--------------------------------\n",
            "episode: 430\n",
            "epsilon: 0.013278030960077106\n",
            "rewards: 30.799999999999937\n",
            "--------------------------------\n",
            "episode: 431\n",
            "epsilon: 0.013145250650476335\n",
            "rewards: 17.599999999999998\n",
            "--------------------------------\n",
            "episode: 432\n",
            "epsilon: 0.01301379814397157\n",
            "rewards: 18.2\n",
            "--------------------------------\n",
            "episode: 433\n",
            "epsilon: 0.012883660162531854\n",
            "rewards: 18.4\n",
            "--------------------------------\n",
            "episode: 434\n",
            "epsilon: 0.012754823560906535\n",
            "rewards: 22.8\n",
            "--------------------------------\n",
            "episode: 435\n",
            "epsilon: 0.01262727532529747\n",
            "rewards: 42.39999999999999\n",
            "--------------------------------\n",
            "episode: 436\n",
            "epsilon: 0.012501002572044496\n",
            "rewards: 27.500000000000007\n",
            "--------------------------------\n",
            "episode: 437\n",
            "epsilon: 0.01237599254632405\n",
            "rewards: 32.400000000000006\n",
            "--------------------------------\n",
            "episode: 438\n",
            "epsilon: 0.01225223262086081\n",
            "rewards: 71.5\n",
            "--------------------------------\n",
            "episode: 439\n",
            "epsilon: 0.012129710294652202\n",
            "rewards: 46.499999999999986\n",
            "--------------------------------\n",
            "episode: 440\n",
            "epsilon: 0.01200841319170568\n",
            "rewards: 33.7\n",
            "--------------------------------\n",
            "episode: 441\n",
            "epsilon: 0.011888329059788623\n",
            "rewards: 12.7\n",
            "--------------------------------\n",
            "episode: 442\n",
            "epsilon: 0.011769445769190737\n",
            "rewards: 36.099999999999994\n",
            "--------------------------------\n",
            "episode: 443\n",
            "epsilon: 0.01165175131149883\n",
            "rewards: 25.2\n",
            "--------------------------------\n",
            "episode: 444\n",
            "epsilon: 0.011535233798383842\n",
            "rewards: 20.400000000000002\n",
            "--------------------------------\n",
            "episode: 445\n",
            "epsilon: 0.011419881460400004\n",
            "rewards: 18.9\n",
            "--------------------------------\n",
            "episode: 446\n",
            "epsilon: 0.011305682645796004\n",
            "rewards: 3.700000000000003\n",
            "--------------------------------\n",
            "episode: 447\n",
            "epsilon: 0.011192625819338045\n",
            "rewards: 16.800000000000004\n",
            "--------------------------------\n",
            "episode: 448\n",
            "epsilon: 0.011080699561144665\n",
            "rewards: 22.1\n",
            "--------------------------------\n",
            "episode: 449\n",
            "epsilon: 0.010969892565533218\n",
            "rewards: 16.9\n",
            "--------------------------------\n",
            "episode: 450\n",
            "epsilon: 0.010860193639877886\n",
            "rewards: 21.50000000000001\n",
            "--------------------------------\n",
            "episode: 451\n",
            "epsilon: 0.010751591703479106\n",
            "rewards: 12.4\n",
            "--------------------------------\n",
            "episode: 452\n",
            "epsilon: 0.010644075786444315\n",
            "rewards: 14.500000000000002\n",
            "--------------------------------\n",
            "episode: 453\n",
            "epsilon: 0.010537635028579873\n",
            "rewards: 21.5\n",
            "--------------------------------\n",
            "episode: 454\n",
            "epsilon: 0.010432258678294073\n",
            "rewards: 11.6\n",
            "--------------------------------\n",
            "episode: 455\n",
            "epsilon: 0.010327936091511133\n",
            "rewards: 10.5\n",
            "--------------------------------\n",
            "episode: 456\n",
            "epsilon: 0.010224656730596022\n",
            "rewards: 15.6\n",
            "--------------------------------\n",
            "episode: 457\n",
            "epsilon: 0.01012241016329006\n",
            "rewards: 58.399999999999984\n",
            "--------------------------------\n",
            "episode: 458\n",
            "epsilon: 0.01002118606165716\n",
            "rewards: 32.3\n",
            "--------------------------------\n",
            "episode: 459\n",
            "epsilon: 0.009920974201040588\n",
            "rewards: 10.9\n",
            "--------------------------------\n",
            "episode: 460\n",
            "epsilon: 0.009821764459030182\n",
            "rewards: 32.89999999999998\n",
            "--------------------------------\n",
            "episode: 461\n",
            "epsilon: 0.00972354681443988\n",
            "rewards: 114.40000000000002\n",
            "--------------------------------\n",
            "episode: 462\n",
            "epsilon: 0.00962631134629548\n",
            "rewards: 62.59999999999998\n",
            "--------------------------------\n",
            "episode: 463\n",
            "epsilon: 0.009530048232832525\n",
            "rewards: 6.0\n",
            "--------------------------------\n",
            "episode: 464\n",
            "epsilon: 0.009434747750504199\n",
            "rewards: 13.299999999999997\n",
            "--------------------------------\n",
            "episode: 465\n",
            "epsilon: 0.009340400272999157\n",
            "rewards: 15.2\n",
            "--------------------------------\n",
            "episode: 466\n",
            "epsilon: 0.009246996270269165\n",
            "rewards: 60.59999999999999\n",
            "--------------------------------\n",
            "episode: 467\n",
            "epsilon: 0.009154526307566474\n",
            "rewards: 6.6\n",
            "--------------------------------\n",
            "episode: 468\n",
            "epsilon: 0.009062981044490808\n",
            "rewards: 15.6\n",
            "--------------------------------\n",
            "episode: 469\n",
            "epsilon: 0.0089723512340459\n",
            "rewards: 23.29999999999996\n",
            "--------------------------------\n",
            "episode: 470\n",
            "epsilon: 0.00888262772170544\n",
            "rewards: 24.5\n",
            "--------------------------------\n",
            "episode: 471\n",
            "epsilon: 0.008793801444488386\n",
            "rewards: 22.9\n",
            "--------------------------------\n",
            "episode: 472\n",
            "epsilon: 0.008705863430043502\n",
            "rewards: 7.5\n",
            "--------------------------------\n",
            "episode: 473\n",
            "epsilon: 0.008618804795743068\n",
            "rewards: 5.6\n",
            "--------------------------------\n",
            "episode: 474\n",
            "epsilon: 0.008532616747785637\n",
            "rewards: 21.400000000000006\n",
            "--------------------------------\n",
            "episode: 475\n",
            "epsilon: 0.00844729058030778\n",
            "rewards: 19.0\n",
            "--------------------------------\n",
            "episode: 476\n",
            "epsilon: 0.008362817674504702\n",
            "rewards: 58.699999999999996\n",
            "--------------------------------\n",
            "episode: 477\n",
            "epsilon: 0.008279189497759654\n",
            "rewards: 13.6\n",
            "--------------------------------\n",
            "episode: 478\n",
            "epsilon: 0.008196397602782058\n",
            "rewards: 8.2\n",
            "--------------------------------\n",
            "episode: 479\n",
            "epsilon: 0.008114433626754238\n",
            "rewards: 16.1\n",
            "--------------------------------\n",
            "episode: 480\n",
            "epsilon: 0.008033289290486696\n",
            "rewards: 3.0000000000000013\n",
            "--------------------------------\n",
            "episode: 481\n",
            "epsilon: 0.00795295639758183\n",
            "rewards: 18.5\n",
            "--------------------------------\n",
            "episode: 482\n",
            "epsilon: 0.00787342683360601\n",
            "rewards: 17.700000000000024\n",
            "--------------------------------\n",
            "episode: 483\n",
            "epsilon: 0.0077946925652699495\n",
            "rewards: 11.8\n",
            "--------------------------------\n",
            "episode: 484\n",
            "epsilon: 0.00771674563961725\n",
            "rewards: 71.09999999999988\n",
            "--------------------------------\n",
            "episode: 485\n",
            "epsilon: 0.007639578183221077\n",
            "rewards: 17.4\n",
            "--------------------------------\n",
            "episode: 486\n",
            "epsilon: 0.0075631824013888665\n",
            "rewards: 26.099999999999998\n",
            "--------------------------------\n",
            "episode: 487\n",
            "epsilon: 0.007487550577374978\n",
            "rewards: 15.3\n",
            "--------------------------------\n",
            "episode: 488\n",
            "epsilon: 0.007412675071601228\n",
            "rewards: 45.49999999999999\n",
            "--------------------------------\n",
            "episode: 489\n",
            "epsilon: 0.007338548320885215\n",
            "rewards: 25.799999999999997\n",
            "--------------------------------\n",
            "episode: 490\n",
            "epsilon: 0.0072651628376763635\n",
            "rewards: 9.599999999999998\n",
            "--------------------------------\n",
            "episode: 491\n",
            "epsilon: 0.0071925112092996\n",
            "rewards: 10.299999999999999\n",
            "--------------------------------\n",
            "episode: 492\n",
            "epsilon: 0.007120586097206604\n",
            "rewards: 22.3\n",
            "--------------------------------\n",
            "episode: 493\n",
            "epsilon: 0.007049380236234538\n",
            "rewards: 24.299999999999997\n",
            "--------------------------------\n",
            "episode: 494\n",
            "epsilon: 0.006978886433872193\n",
            "rewards: 75.59999999999997\n",
            "--------------------------------\n",
            "episode: 495\n",
            "epsilon: 0.006909097569533471\n",
            "rewards: 8.0\n",
            "--------------------------------\n",
            "episode: 496\n",
            "epsilon: 0.006840006593838137\n",
            "rewards: 7.1\n",
            "--------------------------------\n",
            "episode: 497\n",
            "epsilon: 0.0067716065278997555\n",
            "rewards: 65.79999999999998\n",
            "--------------------------------\n",
            "episode: 498\n",
            "epsilon: 0.006703890462620758\n",
            "rewards: 6.199999999999999\n",
            "--------------------------------\n",
            "episode: 499\n",
            "epsilon: 0.006636851557994551\n",
            "rewards: 19.5\n",
            "--------------------------------\n",
            "episode: 500\n",
            "epsilon: 0.006570483042414605\n",
            "rewards: 6.199999999999999\n"
          ]
        }
      ]
    },
    {
      "cell_type": "code",
      "source": [
        "#epsilon decay per episode \n",
        "with output_grid.output_to(0, 0):\n",
        "  plt.plot(s_s_episode_list,s_s_epsilon_decay)\n",
        "  plt.xlabel(\"episode\")\n",
        "  plt.ylabel(\"epsilon decay\")"
      ],
      "metadata": {
        "colab": {
          "base_uri": "https://localhost:8080/",
          "height": 279
        },
        "id": "e0rLUWxiUqLI",
        "outputId": "e6a69a2e-d7bc-4444-c764-951250cd411a"
      },
      "execution_count": 222,
      "outputs": [
        {
          "output_type": "display_data",
          "data": {
            "application/javascript": [
              "window[\"6c26dab6-a025-11ec-918f-0242ac1c0002\"] = google.colab.output.getActiveOutputArea();\n",
              "//# sourceURL=js_2e71f5b11d"
            ],
            "text/plain": [
              "<IPython.core.display.Javascript object>"
            ]
          },
          "metadata": {}
        },
        {
          "output_type": "display_data",
          "data": {
            "application/javascript": [
              "window[\"6c27b60c-a025-11ec-918f-0242ac1c0002\"] = document.querySelector(\"#id112-0-0\");\n",
              "//# sourceURL=js_c643681a3a"
            ],
            "text/plain": [
              "<IPython.core.display.Javascript object>"
            ]
          },
          "metadata": {}
        },
        {
          "output_type": "display_data",
          "data": {
            "application/javascript": [
              "window[\"6c28bb38-a025-11ec-918f-0242ac1c0002\"] = google.colab.output.setActiveOutputArea(window[\"6c27b60c-a025-11ec-918f-0242ac1c0002\"]);\n",
              "//# sourceURL=js_d5239ef4fe"
            ],
            "text/plain": [
              "<IPython.core.display.Javascript object>"
            ]
          },
          "metadata": {}
        },
        {
          "output_type": "display_data",
          "data": {
            "image/png": "[encoded data removed]",
            "text/plain": [
              "<Figure size 432x288 with 1 Axes>"
            ]
          },
          "metadata": {
            "needs_background": "light"
          }
        },
        {
          "output_type": "display_data",
          "data": {
            "application/javascript": [
              "window[\"6c503618-a025-11ec-918f-0242ac1c0002\"] = google.colab.output.setActiveOutputArea(window[\"6c26dab6-a025-11ec-918f-0242ac1c0002\"]);\n",
              "//# sourceURL=js_41a9ab1ed9"
            ],
            "text/plain": [
              "<IPython.core.display.Javascript object>"
            ]
          },
          "metadata": {}
        }
      ]
    },
    {
      "cell_type": "code",
      "source": [
        "#rewards per episode \n",
        "with output_grid.output_to(0, 0):\n",
        "  plt.plot(s_s_episode_list,s_s_rewards)\n",
        "  plt.xlabel(\"episode\")\n",
        "  plt.ylabel(\"rewards\")"
      ],
      "metadata": {
        "colab": {
          "base_uri": "https://localhost:8080/",
          "height": 279
        },
        "id": "M5StDUqTUt01",
        "outputId": "7e69f180-891e-4d6c-acc4-c16db3a2ab81"
      },
      "execution_count": 223,
      "outputs": [
        {
          "output_type": "display_data",
          "data": {
            "application/javascript": [
              "window[\"6c56e6c0-a025-11ec-918f-0242ac1c0002\"] = google.colab.output.getActiveOutputArea();\n",
              "//# sourceURL=js_0f2e534abd"
            ],
            "text/plain": [
              "<IPython.core.display.Javascript object>"
            ]
          },
          "metadata": {}
        },
        {
          "output_type": "display_data",
          "data": {
            "application/javascript": [
              "window[\"6c5744d0-a025-11ec-918f-0242ac1c0002\"] = document.querySelector(\"#id112-0-0\");\n",
              "//# sourceURL=js_63bef252c2"
            ],
            "text/plain": [
              "<IPython.core.display.Javascript object>"
            ]
          },
          "metadata": {}
        },
        {
          "output_type": "display_data",
          "data": {
            "application/javascript": [
              "window[\"6c5824fe-a025-11ec-918f-0242ac1c0002\"] = google.colab.output.setActiveOutputArea(window[\"6c5744d0-a025-11ec-918f-0242ac1c0002\"]);\n",
              "//# sourceURL=js_ddbd1718e9"
            ],
            "text/plain": [
              "<IPython.core.display.Javascript object>"
            ]
          },
          "metadata": {}
        },
        {
          "output_type": "display_data",
          "data": {
            "image/png": "[encoded data removed]",
            "text/plain": [
              "<Figure size 432x288 with 1 Axes>"
            ]
          },
          "metadata": {
            "needs_background": "light"
          }
        },
        {
          "output_type": "display_data",
          "data": {
            "application/javascript": [
              "window[\"6c858368-a025-11ec-918f-0242ac1c0002\"] = google.colab.output.setActiveOutputArea(window[\"6c56e6c0-a025-11ec-918f-0242ac1c0002\"]);\n",
              "//# sourceURL=js_3e62a7812d"
            ],
            "text/plain": [
              "<IPython.core.display.Javascript object>"
            ]
          },
          "metadata": {}
        }
      ]
    },
    {
      "cell_type": "markdown",
      "source": [
        "##7. Evaluation Results"
      ],
      "metadata": {
        "id": "tKntJlrYE9P9"
      }
    },
    {
      "cell_type": "markdown",
      "source": [
        "Deterministic Q Learning"
      ],
      "metadata": {
        "id": "ch887iS6_8Ug"
      }
    },
    {
      "cell_type": "code",
      "source": [
        "ev_qd_rewards = []\n",
        "ev_qd_episode = []\n",
        "\n",
        "episode = 10 \n",
        "\n",
        "#repeat for each episode \n",
        "for ep in range(1,episode+1):\n",
        "\n",
        "  #observe the initial state s \n",
        "  obs = qd_env.reset()\n",
        "  done = False\n",
        "  \n",
        "  cumulative_rewards = 0\n",
        "  #repeat for each step of episode\n",
        "  while not done:\n",
        "\n",
        "    state = 4*obs[0] + obs[1]\n",
        "    #select an action a from state s(e.g. epsilon-greedy) and execute it\n",
        "    action = np.argmax(Q[state,:]) #exploit\n",
        "\n",
        "    #Receive immediate reward r, Observe the new state s'\n",
        "    next_obs, reward, done, _ = qd_env.step(action)\n",
        "    \n",
        "    #Update the table entry for Q(s,a) as follows:\n",
        "    next_state = 4*next_obs[0]+next_obs[1]\n",
        "    Q[state,action] = Q[state,action] + alpha*(reward + gamma*np.max(Q[next_state,:]) - Q[state,action])\n",
        "    cumulative_rewards += reward\n",
        "    obs = next_obs\n",
        "\n",
        "    \n",
        "  \n",
        "\n",
        "  print(\"--------------------------------\")  \n",
        "  print('episode:',ep)  \n",
        "  print('epsilon:',epsilon)\n",
        "  print('rewards:',cumulative_rewards)\n",
        "    \n",
        "  ev_qd_episode.append(ep)\n",
        "  ev_qd_rewards.append(cumulative_rewards)\n",
        "  \n",
        "  \n",
        "qd_env.close()"
      ],
      "metadata": {
        "colab": {
          "base_uri": "https://localhost:8080/"
        },
        "id": "EGHTJClQ3315",
        "outputId": "fc278531-cb95-4f54-82e0-01efd02cc684"
      },
      "execution_count": 262,
      "outputs": [
        {
          "output_type": "stream",
          "name": "stdout",
          "text": [
            "--------------------------------\n",
            "episode: 1\n",
            "epsilon: 0.005942227087709083\n",
            "rewards: 74993.6\n",
            "--------------------------------\n",
            "episode: 2\n",
            "epsilon: 0.005942227087709083\n",
            "rewards: 74994.7\n",
            "--------------------------------\n",
            "episode: 3\n",
            "epsilon: 0.005942227087709083\n",
            "rewards: 74996.8\n",
            "--------------------------------\n",
            "episode: 4\n",
            "epsilon: 0.005942227087709083\n",
            "rewards: 74996.8\n",
            "--------------------------------\n",
            "episode: 5\n",
            "epsilon: 0.005942227087709083\n",
            "rewards: 74996.8\n",
            "--------------------------------\n",
            "episode: 6\n",
            "epsilon: 0.005942227087709083\n",
            "rewards: 74996.8\n",
            "--------------------------------\n",
            "episode: 7\n",
            "epsilon: 0.005942227087709083\n",
            "rewards: 74996.8\n",
            "--------------------------------\n",
            "episode: 8\n",
            "epsilon: 0.005942227087709083\n",
            "rewards: 74996.8\n",
            "--------------------------------\n",
            "episode: 9\n",
            "epsilon: 0.005942227087709083\n",
            "rewards: 74996.8\n",
            "--------------------------------\n",
            "episode: 10\n",
            "epsilon: 0.005942227087709083\n",
            "rewards: 74996.8\n"
          ]
        }
      ]
    },
    {
      "cell_type": "code",
      "source": [
        "#rewards per episode \n",
        "with output_grid.output_to(0, 0):\n",
        "  plt.plot(ev_qd_episode,ev_qd_rewards)\n",
        "  plt.xlabel(\"episode\")\n",
        "  plt.ylabel(\"rewards\")"
      ],
      "metadata": {
        "colab": {
          "base_uri": "https://localhost:8080/",
          "height": 290
        },
        "id": "MCafQV-m7Gpo",
        "outputId": "c2240c57-4074-48db-f8cc-7122c246b32b"
      },
      "execution_count": 263,
      "outputs": [
        {
          "output_type": "display_data",
          "data": {
            "application/javascript": [
              "window[\"a56865a8-a028-11ec-918f-0242ac1c0002\"] = google.colab.output.getActiveOutputArea();\n",
              "//# sourceURL=js_c1fc9d61ae"
            ],
            "text/plain": [
              "<IPython.core.display.Javascript object>"
            ]
          },
          "metadata": {}
        },
        {
          "output_type": "display_data",
          "data": {
            "application/javascript": [
              "window[\"a568d542-a028-11ec-918f-0242ac1c0002\"] = document.querySelector(\"#id122-0-0\");\n",
              "//# sourceURL=js_9b827c19e9"
            ],
            "text/plain": [
              "<IPython.core.display.Javascript object>"
            ]
          },
          "metadata": {}
        },
        {
          "output_type": "display_data",
          "data": {
            "application/javascript": [
              "window[\"a569272c-a028-11ec-918f-0242ac1c0002\"] = google.colab.output.setActiveOutputArea(window[\"a568d542-a028-11ec-918f-0242ac1c0002\"]);\n",
              "//# sourceURL=js_65de92f226"
            ],
            "text/plain": [
              "<IPython.core.display.Javascript object>"
            ]
          },
          "metadata": {}
        },
        {
          "output_type": "display_data",
          "data": {
            "image/png": "[encoded data removed]",
            "text/plain": [
              "<Figure size 432x288 with 1 Axes>"
            ]
          },
          "metadata": {
            "needs_background": "light"
          }
        },
        {
          "output_type": "display_data",
          "data": {
            "application/javascript": [
              "window[\"a583785c-a028-11ec-918f-0242ac1c0002\"] = google.colab.output.setActiveOutputArea(window[\"a56865a8-a028-11ec-918f-0242ac1c0002\"]);\n",
              "//# sourceURL=js_0d1715d16e"
            ],
            "text/plain": [
              "<IPython.core.display.Javascript object>"
            ]
          },
          "metadata": {}
        }
      ]
    },
    {
      "cell_type": "markdown",
      "source": [
        "Stochastic Q Leraning"
      ],
      "metadata": {
        "id": "cc2PILhj__qJ"
      }
    },
    {
      "cell_type": "code",
      "source": [
        "ev_qs_rewards = []\n",
        "ev_qs_episode = []\n",
        "episode = 10 \n",
        "\n",
        "#repeat for each episode \n",
        "for ep in range(1,episode+1):\n",
        "\n",
        "  #observe the initial state s \n",
        "  obs = qs_env.reset()\n",
        "  done = False\n",
        "  \n",
        "  cumulative_rewards = 0\n",
        "  #repeat for each step of episode\n",
        "  while not done:\n",
        "\n",
        "    state = 4*obs[0] + obs[1]\n",
        "    #select an action a from state s(e.g. epsilon-greedy) and execute it\n",
        "    action = np.argmax(Q[state,:]) #exploit\n",
        "\n",
        "    #Receive immediate reward r, Observe the new state s'\n",
        "    next_obs, reward, done, _ = qs_env.step(action)\n",
        "    \n",
        "    #Update the table entry for Q(s,a) as follows:\n",
        "    next_state = 4*next_obs[0]+next_obs[1]\n",
        "    Q[state,action] = Q[state,action] + alpha*(reward + gamma*np.max(Q[next_state,:]) - Q[state,action])\n",
        "    cumulative_rewards += reward\n",
        "    obs = next_obs\n",
        "\n",
        "\n",
        "  print(\"--------------------------------\")  \n",
        "  print('episode:',ep)  \n",
        "  print('epsilon:',epsilon)\n",
        "  print('rewards:',cumulative_rewards)\n",
        "    \n",
        "  ev_qs_episode.append(ep)\n",
        "  ev_qs_rewards.append(cumulative_rewards)\n",
        "  \n",
        "    \n",
        "\n",
        "qs_env.close()\n"
      ],
      "metadata": {
        "colab": {
          "base_uri": "https://localhost:8080/"
        },
        "id": "d_Z_ZLbhABXd",
        "outputId": "b5198014-1fff-4f9d-c364-9e18113d2768"
      },
      "execution_count": 272,
      "outputs": [
        {
          "output_type": "stream",
          "name": "stdout",
          "text": [
            "--------------------------------\n",
            "episode: 1\n",
            "epsilon: 0.006570483042414605\n",
            "rewards: 59.29999999999999\n",
            "--------------------------------\n",
            "episode: 2\n",
            "epsilon: 0.006570483042414605\n",
            "rewards: 113.00000000000023\n",
            "--------------------------------\n",
            "episode: 3\n",
            "epsilon: 0.006570483042414605\n",
            "rewards: 7.6\n",
            "--------------------------------\n",
            "episode: 4\n",
            "epsilon: 0.006570483042414605\n",
            "rewards: 17.40000000000001\n",
            "--------------------------------\n",
            "episode: 5\n",
            "epsilon: 0.006570483042414605\n",
            "rewards: 32.300000000000004\n",
            "--------------------------------\n",
            "episode: 6\n",
            "epsilon: 0.006570483042414605\n",
            "rewards: 133.4000000000001\n",
            "--------------------------------\n",
            "episode: 7\n",
            "epsilon: 0.006570483042414605\n",
            "rewards: 10.4\n",
            "--------------------------------\n",
            "episode: 8\n",
            "epsilon: 0.006570483042414605\n",
            "rewards: 16.4\n",
            "--------------------------------\n",
            "episode: 9\n",
            "epsilon: 0.006570483042414605\n",
            "rewards: 18.9\n",
            "--------------------------------\n",
            "episode: 10\n",
            "epsilon: 0.006570483042414605\n",
            "rewards: 10.0\n"
          ]
        }
      ]
    },
    {
      "cell_type": "code",
      "source": [
        "#rewards per episode \n",
        "with output_grid.output_to(0, 0):\n",
        "  plt.plot(ev_qs_episode,ev_qs_rewards)\n",
        "  plt.xlabel(\"episode\")\n",
        "  plt.ylabel(\"rewards\")"
      ],
      "metadata": {
        "colab": {
          "base_uri": "https://localhost:8080/",
          "height": 280
        },
        "id": "lwlW82VmAQ_O",
        "outputId": "f328e8c9-f9bc-4b8e-c83e-be3bd7e421ee"
      },
      "execution_count": 271,
      "outputs": [
        {
          "output_type": "display_data",
          "data": {
            "application/javascript": [
              "window[\"cffefbf6-a028-11ec-918f-0242ac1c0002\"] = google.colab.output.getActiveOutputArea();\n",
              "//# sourceURL=js_d361a5730d"
            ],
            "text/plain": [
              "<IPython.core.display.Javascript object>"
            ]
          },
          "metadata": {}
        },
        {
          "output_type": "display_data",
          "data": {
            "application/javascript": [
              "window[\"cfff6cbc-a028-11ec-918f-0242ac1c0002\"] = document.querySelector(\"#id124-0-0\");\n",
              "//# sourceURL=js_5e2f235f0e"
            ],
            "text/plain": [
              "<IPython.core.display.Javascript object>"
            ]
          },
          "metadata": {}
        },
        {
          "output_type": "display_data",
          "data": {
            "application/javascript": [
              "window[\"cfffe124-a028-11ec-918f-0242ac1c0002\"] = google.colab.output.setActiveOutputArea(window[\"cfff6cbc-a028-11ec-918f-0242ac1c0002\"]);\n",
              "//# sourceURL=js_1e8543de36"
            ],
            "text/plain": [
              "<IPython.core.display.Javascript object>"
            ]
          },
          "metadata": {}
        },
        {
          "output_type": "display_data",
          "data": {
            "image/png": "[encoded data removed]",
            "text/plain": [
              "<Figure size 432x288 with 1 Axes>"
            ]
          },
          "metadata": {
            "needs_background": "light"
          }
        },
        {
          "output_type": "display_data",
          "data": {
            "application/javascript": [
              "window[\"d0184f34-a028-11ec-918f-0242ac1c0002\"] = google.colab.output.setActiveOutputArea(window[\"cffefbf6-a028-11ec-918f-0242ac1c0002\"]);\n",
              "//# sourceURL=js_3f8b86e430"
            ],
            "text/plain": [
              "<IPython.core.display.Javascript object>"
            ]
          },
          "metadata": {}
        }
      ]
    },
    {
      "cell_type": "markdown",
      "source": [
        "Deterministic SARSA"
      ],
      "metadata": {
        "id": "1JcMod91AZfe"
      }
    },
    {
      "cell_type": "code",
      "source": [
        "ev_sd_rewards = []\n",
        "ev_sd_episode = []\n",
        "episode = 10 \n",
        "\n",
        "#repeat for each episode \n",
        "for ep in range(1,episode+1):\n",
        "\n",
        "  #observe the initial state s \n",
        "  obs = sd_env.reset()\n",
        "  done = False\n",
        "  \n",
        "  state = 4*obs[0] + obs[1]\n",
        "  #Choose A from S using policy derived from Q(e-greedy)\n",
        "  action = np.random.choice(action_space.n) #exploration\n",
        "\n",
        "  cumulative_rewards = 0\n",
        "  #repeat for each step of episode\n",
        "  while not done:\n",
        "\n",
        "    #Receive immediate reward r, Observe the new state s'\n",
        "    next_obs, reward, done, _ = sd_env.step(action)\n",
        "\n",
        "    next_state = 4*next_obs[0]+next_obs[1]\n",
        "    #select an action' a from state s'(e.g. epsilon-greedy) and execute it\n",
        "    next_action = np.random.choice(action_space.n) #exploration\n",
        "\n",
        "    #Update the table entry for Q(s,a) as follows:\n",
        "    \n",
        "    Q[state,action] = Q[state,action] + alpha*(reward + gamma*Q[next_state,next_action] - Q[state,action])\n",
        "    cumulative_rewards += reward\n",
        "    obs = next_obs\n",
        "    action = next_action\n",
        "    \n",
        "  print(\"--------------------------------\")  \n",
        "  print('episode:',ep)  \n",
        "  print('epsilon:',epsilon)\n",
        "  print('rewards:',cumulative_rewards)\n",
        "  \n",
        "  ev_sd_episode.append(ep)\n",
        "  ev_sd_rewards.append(cumulative_rewards)\n",
        "  \n",
        "    \n",
        "\n",
        "sd_env.close()\n"
      ],
      "metadata": {
        "colab": {
          "base_uri": "https://localhost:8080/"
        },
        "id": "xQjIEZo-Aapp",
        "outputId": "5398ec24-6749-461a-fca0-90c01bc5c7e9"
      },
      "execution_count": 287,
      "outputs": [
        {
          "output_type": "stream",
          "name": "stdout",
          "text": [
            "--------------------------------\n",
            "episode: 1\n",
            "epsilon: 0.006570483042414605\n",
            "rewards: 9.2\n",
            "--------------------------------\n",
            "episode: 2\n",
            "epsilon: 0.006570483042414605\n",
            "rewards: 5.699999999999999\n",
            "--------------------------------\n",
            "episode: 3\n",
            "epsilon: 0.006570483042414605\n",
            "rewards: 33.09999999999988\n",
            "--------------------------------\n",
            "episode: 4\n",
            "epsilon: 0.006570483042414605\n",
            "rewards: 16.300000000000004\n",
            "--------------------------------\n",
            "episode: 5\n",
            "epsilon: 0.006570483042414605\n",
            "rewards: 19.300000000000004\n",
            "--------------------------------\n",
            "episode: 6\n",
            "epsilon: 0.006570483042414605\n",
            "rewards: 30.299999999999983\n",
            "--------------------------------\n",
            "episode: 7\n",
            "epsilon: 0.006570483042414605\n",
            "rewards: 10.399999999999999\n",
            "--------------------------------\n",
            "episode: 8\n",
            "epsilon: 0.006570483042414605\n",
            "rewards: 35.49999999999995\n",
            "--------------------------------\n",
            "episode: 9\n",
            "epsilon: 0.006570483042414605\n",
            "rewards: 23.6\n",
            "--------------------------------\n",
            "episode: 10\n",
            "epsilon: 0.006570483042414605\n",
            "rewards: 11.2\n"
          ]
        }
      ]
    },
    {
      "cell_type": "code",
      "source": [
        "#rewards per episode \n",
        "with output_grid.output_to(0, 0):\n",
        "  plt.plot(ev_sd_episode,ev_sd_rewards)\n",
        "  plt.xlabel(\"episode\")\n",
        "  plt.ylabel(\"rewards\")"
      ],
      "metadata": {
        "colab": {
          "base_uri": "https://localhost:8080/",
          "height": 279
        },
        "id": "sjiGd7IPA4BE",
        "outputId": "d4795b29-3822-444f-f263-1ac47956daf3"
      },
      "execution_count": 288,
      "outputs": [
        {
          "output_type": "display_data",
          "data": {
            "application/javascript": [
              "window[\"3780c9da-a029-11ec-918f-0242ac1c0002\"] = google.colab.output.getActiveOutputArea();\n",
              "//# sourceURL=js_86b4088822"
            ],
            "text/plain": [
              "<IPython.core.display.Javascript object>"
            ]
          },
          "metadata": {}
        },
        {
          "output_type": "display_data",
          "data": {
            "application/javascript": [
              "window[\"37815c7e-a029-11ec-918f-0242ac1c0002\"] = document.querySelector(\"#id126-0-0\");\n",
              "//# sourceURL=js_fe034c8cb5"
            ],
            "text/plain": [
              "<IPython.core.display.Javascript object>"
            ]
          },
          "metadata": {}
        },
        {
          "output_type": "display_data",
          "data": {
            "application/javascript": [
              "window[\"3781c362-a029-11ec-918f-0242ac1c0002\"] = google.colab.output.setActiveOutputArea(window[\"37815c7e-a029-11ec-918f-0242ac1c0002\"]);\n",
              "//# sourceURL=js_0e2884560b"
            ],
            "text/plain": [
              "<IPython.core.display.Javascript object>"
            ]
          },
          "metadata": {}
        },
        {
          "output_type": "display_data",
          "data": {
            "image/png": "[encoded data removed]",
            "text/plain": [
              "<Figure size 432x288 with 1 Axes>"
            ]
          },
          "metadata": {
            "needs_background": "light"
          }
        },
        {
          "output_type": "display_data",
          "data": {
            "application/javascript": [
              "window[\"379a3c8a-a029-11ec-918f-0242ac1c0002\"] = google.colab.output.setActiveOutputArea(window[\"3780c9da-a029-11ec-918f-0242ac1c0002\"]);\n",
              "//# sourceURL=js_29f901c7ba"
            ],
            "text/plain": [
              "<IPython.core.display.Javascript object>"
            ]
          },
          "metadata": {}
        }
      ]
    },
    {
      "cell_type": "markdown",
      "source": [
        "Stochastic SARSA"
      ],
      "metadata": {
        "id": "zhHdmntTA8Qx"
      }
    },
    {
      "cell_type": "code",
      "source": [
        "ev_ss_rewards = []\n",
        "ev_ss_episode = []\n",
        "episode = 10 \n",
        "\n",
        "#repeat for each episode \n",
        "for ep in range(1,episode+1):\n",
        "\n",
        "  #observe the initial state s \n",
        "  obs = ss_env.reset()\n",
        "  done = False\n",
        "  \n",
        "  state = 4*obs[0] + obs[1]\n",
        "  #Choose A from S using policy derived from Q(e-greedy)\n",
        "  action = np.random.choice(action_space.n) #exploration\n",
        "\n",
        "  cumulative_rewards = 0\n",
        "  #repeat for each step of episode\n",
        "  while not done:\n",
        "\n",
        "    #Receive immediate reward r, Observe the new state s'\n",
        "    next_obs, reward, done, _ = ss_env.step(action)\n",
        "\n",
        "    next_state = 4*next_obs[0]+next_obs[1]\n",
        "    #select an action' a from state s'(e.g. epsilon-greedy) and execute it\n",
        "    next_action = np.random.choice(action_space.n) #exploration\n",
        "\n",
        "    #Update the table entry for Q(s,a) as follows:\n",
        "    \n",
        "    Q[state,action] = Q[state,action] + alpha*(reward + gamma*Q[next_state,next_action] - Q[state,action])\n",
        "    cumulative_rewards += reward\n",
        "    obs = next_obs\n",
        "    action = next_action\n",
        "    \n",
        "  print(\"--------------------------------\")  \n",
        "  print('episode:',ep)  \n",
        "  print('epsilon:',epsilon)\n",
        "  print('rewards:',cumulative_rewards)\n",
        "  \n",
        "  ev_ss_episode.append(ep)\n",
        "  ev_ss_rewards.append(cumulative_rewards)\n",
        "  \n",
        "    \n",
        "\n",
        "ss_env.close()\n"
      ],
      "metadata": {
        "colab": {
          "base_uri": "https://localhost:8080/"
        },
        "id": "O_z7ZtZBA70o",
        "outputId": "b6422bd7-14ce-44c1-c298-f35d11c8f13e"
      },
      "execution_count": 281,
      "outputs": [
        {
          "output_type": "stream",
          "name": "stdout",
          "text": [
            "--------------------------------\n",
            "episode: 1\n",
            "epsilon: 0.006570483042414605\n",
            "rewards: 40.1\n",
            "--------------------------------\n",
            "episode: 2\n",
            "epsilon: 0.006570483042414605\n",
            "rewards: 9.200000000000001\n",
            "--------------------------------\n",
            "episode: 3\n",
            "epsilon: 0.006570483042414605\n",
            "rewards: 13.3\n",
            "--------------------------------\n",
            "episode: 4\n",
            "epsilon: 0.006570483042414605\n",
            "rewards: 41.49999999999994\n",
            "--------------------------------\n",
            "episode: 5\n",
            "epsilon: 0.006570483042414605\n",
            "rewards: 12.3\n",
            "--------------------------------\n",
            "episode: 6\n",
            "epsilon: 0.006570483042414605\n",
            "rewards: 28.300000000000004\n",
            "--------------------------------\n",
            "episode: 7\n",
            "epsilon: 0.006570483042414605\n",
            "rewards: 15.9\n",
            "--------------------------------\n",
            "episode: 8\n",
            "epsilon: 0.006570483042414605\n",
            "rewards: 30.799999999999976\n",
            "--------------------------------\n",
            "episode: 9\n",
            "epsilon: 0.006570483042414605\n",
            "rewards: 10.7\n",
            "--------------------------------\n",
            "episode: 10\n",
            "epsilon: 0.006570483042414605\n",
            "rewards: 66.79999999999993\n"
          ]
        }
      ]
    },
    {
      "cell_type": "code",
      "source": [
        "#rewards per episode \n",
        "with output_grid.output_to(0, 0):\n",
        "  plt.plot(ev_ss_episode,ev_ss_rewards)\n",
        "  plt.xlabel(\"episode\")\n",
        "  plt.ylabel(\"rewards\")"
      ],
      "metadata": {
        "colab": {
          "base_uri": "https://localhost:8080/",
          "height": 279
        },
        "id": "XnC0KDZkBFWZ",
        "outputId": "c831f78c-2196-444a-c2b2-c1359d8bc764"
      },
      "execution_count": 282,
      "outputs": [
        {
          "output_type": "display_data",
          "data": {
            "application/javascript": [
              "window[\"fcb81d08-a028-11ec-918f-0242ac1c0002\"] = google.colab.output.getActiveOutputArea();\n",
              "//# sourceURL=js_0435c99e39"
            ],
            "text/plain": [
              "<IPython.core.display.Javascript object>"
            ]
          },
          "metadata": {}
        },
        {
          "output_type": "display_data",
          "data": {
            "application/javascript": [
              "window[\"fcb87cb2-a028-11ec-918f-0242ac1c0002\"] = document.querySelector(\"#id124-0-0\");\n",
              "//# sourceURL=js_9f02141a6e"
            ],
            "text/plain": [
              "<IPython.core.display.Javascript object>"
            ]
          },
          "metadata": {}
        },
        {
          "output_type": "display_data",
          "data": {
            "application/javascript": [
              "window[\"fcb94930-a028-11ec-918f-0242ac1c0002\"] = google.colab.output.setActiveOutputArea(window[\"fcb87cb2-a028-11ec-918f-0242ac1c0002\"]);\n",
              "//# sourceURL=js_efc36a5890"
            ],
            "text/plain": [
              "<IPython.core.display.Javascript object>"
            ]
          },
          "metadata": {}
        },
        {
          "output_type": "display_data",
          "data": {
            "image/png": "[encoded data removed]",
            "text/plain": [
              "<Figure size 432x288 with 1 Axes>"
            ]
          },
          "metadata": {
            "needs_background": "light"
          }
        },
        {
          "output_type": "display_data",
          "data": {
            "application/javascript": [
              "window[\"fcd45aea-a028-11ec-918f-0242ac1c0002\"] = google.colab.output.setActiveOutputArea(window[\"fcb81d08-a028-11ec-918f-0242ac1c0002\"]);\n",
              "//# sourceURL=js_b51a2f4f2c"
            ],
            "text/plain": [
              "<IPython.core.display.Javascript object>"
            ]
          },
          "metadata": {}
        }
      ]
    },
    {
      "cell_type": "markdown",
      "source": [
        "##8.Compare two models"
      ],
      "metadata": {
        "id": "TfnnoDwM1uGF"
      }
    },
    {
      "cell_type": "code",
      "source": [
        "#compare rewards per episode(qlearning and sarsa for deterministic environment)\n",
        "with output_grid.output_to(0, 0):\n",
        "  plt.plot(q_d_episode_list,q_d_rewards,label='QLearning')\n",
        "  plt.plot(s_d_episode_list,s_d_rewards,label='SARSA')\n",
        "  plt.xlabel(\"episode\")\n",
        "  plt.ylabel(\"rewards\")\n",
        "  plt.legend()"
      ],
      "metadata": {
        "colab": {
          "base_uri": "https://localhost:8080/",
          "height": 279
        },
        "id": "lyzmoMsM35_U",
        "outputId": "48cec3a7-5709-4d0d-d30b-6a85d1d9d5f0"
      },
      "execution_count": 187,
      "outputs": [
        {
          "output_type": "display_data",
          "data": {
            "application/javascript": [
              "window[\"2898054c-a023-11ec-918f-0242ac1c0002\"] = google.colab.output.getActiveOutputArea();\n",
              "//# sourceURL=js_611dd608bd"
            ],
            "text/plain": [
              "<IPython.core.display.Javascript object>"
            ]
          },
          "metadata": {}
        },
        {
          "output_type": "display_data",
          "data": {
            "application/javascript": [
              "window[\"2898abaa-a023-11ec-918f-0242ac1c0002\"] = document.querySelector(\"#id98-0-0\");\n",
              "//# sourceURL=js_2cc5574bb5"
            ],
            "text/plain": [
              "<IPython.core.display.Javascript object>"
            ]
          },
          "metadata": {}
        },
        {
          "output_type": "display_data",
          "data": {
            "application/javascript": [
              "window[\"2899530c-a023-11ec-918f-0242ac1c0002\"] = google.colab.output.setActiveOutputArea(window[\"2898abaa-a023-11ec-918f-0242ac1c0002\"]);\n",
              "//# sourceURL=js_1faca78225"
            ],
            "text/plain": [
              "<IPython.core.display.Javascript object>"
            ]
          },
          "metadata": {}
        },
        {
          "output_type": "display_data",
          "data": {
            "image/png": "[encoded data removed]",
            "text/plain": [
              "<Figure size 432x288 with 1 Axes>"
            ]
          },
          "metadata": {
            "needs_background": "light"
          }
        },
        {
          "output_type": "display_data",
          "data": {
            "application/javascript": [
              "window[\"28b6b9ba-a023-11ec-918f-0242ac1c0002\"] = google.colab.output.setActiveOutputArea(window[\"2898054c-a023-11ec-918f-0242ac1c0002\"]);\n",
              "//# sourceURL=js_0fd0fb7303"
            ],
            "text/plain": [
              "<IPython.core.display.Javascript object>"
            ]
          },
          "metadata": {}
        }
      ]
    },
    {
      "cell_type": "code",
      "source": [
        "#compare rewards per episode(qlearning and sarsa for stochastic environment)\n",
        "with output_grid.output_to(0, 0):\n",
        "  plt.plot(q_s_episode_list,q_s_rewards,label='QLearning')\n",
        "  plt.plot(s_s_episode_list,s_s_rewards,label='SARSA')\n",
        "  plt.xlabel(\"episode\")\n",
        "  plt.ylabel(\"rewards\")\n",
        "  plt.legend()"
      ],
      "metadata": {
        "colab": {
          "base_uri": "https://localhost:8080/",
          "height": 279
        },
        "id": "ioz0Olvz0uyx",
        "outputId": "f6b066b7-10f5-484d-edd3-5761b55765b7"
      },
      "execution_count": 188,
      "outputs": [
        {
          "output_type": "display_data",
          "data": {
            "application/javascript": [
              "window[\"29f51934-a023-11ec-918f-0242ac1c0002\"] = google.colab.output.getActiveOutputArea();\n",
              "//# sourceURL=js_ad9c60aff4"
            ],
            "text/plain": [
              "<IPython.core.display.Javascript object>"
            ]
          },
          "metadata": {}
        },
        {
          "output_type": "display_data",
          "data": {
            "application/javascript": [
              "window[\"29f57df2-a023-11ec-918f-0242ac1c0002\"] = document.querySelector(\"#id98-0-0\");\n",
              "//# sourceURL=js_1de11909fe"
            ],
            "text/plain": [
              "<IPython.core.display.Javascript object>"
            ]
          },
          "metadata": {}
        },
        {
          "output_type": "display_data",
          "data": {
            "application/javascript": [
              "window[\"29f5e206-a023-11ec-918f-0242ac1c0002\"] = google.colab.output.setActiveOutputArea(window[\"29f57df2-a023-11ec-918f-0242ac1c0002\"]);\n",
              "//# sourceURL=js_c69729f1b3"
            ],
            "text/plain": [
              "<IPython.core.display.Javascript object>"
            ]
          },
          "metadata": {}
        },
        {
          "output_type": "display_data",
          "data": {
            "image/png": "[encoded data removed]",
            "text/plain": [
              "<Figure size 432x288 with 1 Axes>"
            ]
          },
          "metadata": {
            "needs_background": "light"
          }
        },
        {
          "output_type": "display_data",
          "data": {
            "application/javascript": [
              "window[\"2a145de4-a023-11ec-918f-0242ac1c0002\"] = google.colab.output.setActiveOutputArea(window[\"29f51934-a023-11ec-918f-0242ac1c0002\"]);\n",
              "//# sourceURL=js_2e1cb702f2"
            ],
            "text/plain": [
              "<IPython.core.display.Javascript object>"
            ]
          },
          "metadata": {}
        }
      ]
    }
  ]
}
