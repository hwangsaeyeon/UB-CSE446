{
  "nbformat": 4,
  "nbformat_minor": 0,
  "metadata": {
    "colab": {
      "name": "saeyeonh_assignment2_checkpoint.ipynb",
      "provenance": []
    },
    "kernelspec": {
      "name": "python3",
      "display_name": "Python 3"
    },
    "language_info": {
      "name": "python"
    },
    "accelerator": "GPU"
  },
  "cells": [
    {
      "cell_type": "markdown",
      "source": [
        "## To explore gym env"
      ],
      "metadata": {
        "id": "mC1U3_IVd9hB"
      }
    },
    {
      "cell_type": "code",
      "execution_count": 37,
      "metadata": {
        "colab": {
          "base_uri": "https://localhost:8080/"
        },
        "id": "liJdnt5JHVZN",
        "outputId": "b40d1891-3bb0-42f9-9761-9643211cf51c"
      },
      "outputs": [
        {
          "output_type": "stream",
          "name": "stdout",
          "text": [
            "Requirement already satisfied: gym in /usr/local/lib/python3.7/dist-packages (0.17.3)\n",
            "Requirement already satisfied: numpy>=1.10.4 in /usr/local/lib/python3.7/dist-packages (from gym) (1.21.5)\n",
            "Requirement already satisfied: pyglet<=1.5.0,>=1.4.0 in /usr/local/lib/python3.7/dist-packages (from gym) (1.5.0)\n",
            "Requirement already satisfied: scipy in /usr/local/lib/python3.7/dist-packages (from gym) (1.4.1)\n",
            "Requirement already satisfied: cloudpickle<1.7.0,>=1.2.0 in /usr/local/lib/python3.7/dist-packages (from gym) (1.3.0)\n",
            "Requirement already satisfied: future in /usr/local/lib/python3.7/dist-packages (from pyglet<=1.5.0,>=1.4.0->gym) (0.16.0)\n"
          ]
        }
      ],
      "source": [
        "!pip install gym"
      ]
    },
    {
      "cell_type": "code",
      "source": [
        "!apt-get install python-opengl -y\n",
        "!apt install xvfb -y\n",
        "!pip install pyvirtualdisplay\n",
        "!pip install piglet"
      ],
      "metadata": {
        "colab": {
          "base_uri": "https://localhost:8080/"
        },
        "id": "VsFzhwnTOdK0",
        "outputId": "6fea7323-932a-400f-a8eb-235e1c4472a4"
      },
      "execution_count": 38,
      "outputs": [
        {
          "output_type": "stream",
          "name": "stdout",
          "text": [
            "Reading package lists... Done\n",
            "Building dependency tree       \n",
            "Reading state information... Done\n",
            "Suggested packages:\n",
            "  libgle3\n",
            "The following NEW packages will be installed:\n",
            "  python-opengl\n",
            "0 upgraded, 1 newly installed, 0 to remove and 39 not upgraded.\n",
            "Need to get 496 kB of archives.\n",
            "After this operation, 5,416 kB of additional disk space will be used.\n",
            "Get:1 http://archive.ubuntu.com/ubuntu bionic/universe amd64 python-opengl all 3.1.0+dfsg-1 [496 kB]\n",
            "Fetched 496 kB in 1s (984 kB/s)\n",
            "Selecting previously unselected package python-opengl.\n",
            "(Reading database ... 156210 files and directories currently installed.)\n",
            "Preparing to unpack .../python-opengl_3.1.0+dfsg-1_all.deb ...\n",
            "Unpacking python-opengl (3.1.0+dfsg-1) ...\n",
            "Setting up python-opengl (3.1.0+dfsg-1) ...\n",
            "Reading package lists... Done\n",
            "Building dependency tree       \n",
            "Reading state information... Done\n",
            "The following NEW packages will be installed:\n",
            "  xvfb\n",
            "0 upgraded, 1 newly installed, 0 to remove and 39 not upgraded.\n",
            "Need to get 784 kB of archives.\n",
            "After this operation, 2,271 kB of additional disk space will be used.\n",
            "Get:1 http://archive.ubuntu.com/ubuntu bionic-updates/universe amd64 xvfb amd64 2:1.19.6-1ubuntu4.10 [784 kB]\n",
            "Fetched 784 kB in 1s (1,457 kB/s)\n",
            "Selecting previously unselected package xvfb.\n",
            "(Reading database ... 158565 files and directories currently installed.)\n",
            "Preparing to unpack .../xvfb_2%3a1.19.6-1ubuntu4.10_amd64.deb ...\n",
            "Unpacking xvfb (2:1.19.6-1ubuntu4.10) ...\n",
            "Setting up xvfb (2:1.19.6-1ubuntu4.10) ...\n",
            "Processing triggers for man-db (2.8.3-2ubuntu0.1) ...\n",
            "Collecting pyvirtualdisplay\n",
            "  Downloading PyVirtualDisplay-3.0-py3-none-any.whl (15 kB)\n",
            "Installing collected packages: pyvirtualdisplay\n",
            "Successfully installed pyvirtualdisplay-3.0\n",
            "Collecting piglet\n",
            "  Downloading piglet-1.0.0-py2.py3-none-any.whl (2.2 kB)\n",
            "Collecting piglet-templates\n",
            "  Downloading piglet_templates-1.2.0-py3-none-any.whl (67 kB)\n",
            "\u001b[K     |████████████████████████████████| 67 kB 3.2 MB/s \n",
            "\u001b[?25hRequirement already satisfied: astunparse in /usr/local/lib/python3.7/dist-packages (from piglet-templates->piglet) (1.6.3)\n",
            "Requirement already satisfied: pyparsing in /usr/local/lib/python3.7/dist-packages (from piglet-templates->piglet) (3.0.7)\n",
            "Requirement already satisfied: markupsafe in /usr/local/lib/python3.7/dist-packages (from piglet-templates->piglet) (2.0.1)\n",
            "Requirement already satisfied: attrs in /usr/local/lib/python3.7/dist-packages (from piglet-templates->piglet) (21.4.0)\n",
            "Requirement already satisfied: wheel<1.0,>=0.23.0 in /usr/local/lib/python3.7/dist-packages (from astunparse->piglet-templates->piglet) (0.37.1)\n",
            "Requirement already satisfied: six<2.0,>=1.6.1 in /usr/local/lib/python3.7/dist-packages (from astunparse->piglet-templates->piglet) (1.15.0)\n",
            "Installing collected packages: piglet-templates, piglet\n",
            "Successfully installed piglet-1.0.0 piglet-templates-1.2.0\n"
          ]
        }
      ]
    },
    {
      "cell_type": "code",
      "source": [
        "import gym\n",
        "import matplotlib.pyplot as plt\n",
        "from gym import wrappers\n",
        "%matplotlib inline"
      ],
      "metadata": {
        "id": "EAjSvx4ZOj0E"
      },
      "execution_count": 39,
      "outputs": []
    },
    {
      "cell_type": "code",
      "source": [
        "all_env = list(gym.envs.registry.all())\n",
        "for env in list(all_env):\n",
        "    print(env)"
      ],
      "metadata": {
        "colab": {
          "base_uri": "https://localhost:8080/"
        },
        "id": "whZOORd2Ol48",
        "outputId": "2e6271a1-d093-4f57-c96a-35bcd68651f0"
      },
      "execution_count": 40,
      "outputs": [
        {
          "output_type": "stream",
          "name": "stdout",
          "text": [
            "EnvSpec(Copy-v0)\n",
            "EnvSpec(RepeatCopy-v0)\n",
            "EnvSpec(ReversedAddition-v0)\n",
            "EnvSpec(ReversedAddition3-v0)\n",
            "EnvSpec(DuplicatedInput-v0)\n",
            "EnvSpec(Reverse-v0)\n",
            "EnvSpec(CartPole-v0)\n",
            "EnvSpec(CartPole-v1)\n",
            "EnvSpec(MountainCar-v0)\n",
            "EnvSpec(MountainCarContinuous-v0)\n",
            "EnvSpec(Pendulum-v0)\n",
            "EnvSpec(Acrobot-v1)\n",
            "EnvSpec(LunarLander-v2)\n",
            "EnvSpec(LunarLanderContinuous-v2)\n",
            "EnvSpec(BipedalWalker-v3)\n",
            "EnvSpec(BipedalWalkerHardcore-v3)\n",
            "EnvSpec(CarRacing-v0)\n",
            "EnvSpec(Blackjack-v0)\n",
            "EnvSpec(KellyCoinflip-v0)\n",
            "EnvSpec(KellyCoinflipGeneralized-v0)\n",
            "EnvSpec(FrozenLake-v0)\n",
            "EnvSpec(FrozenLake8x8-v0)\n",
            "EnvSpec(CliffWalking-v0)\n",
            "EnvSpec(NChain-v0)\n",
            "EnvSpec(Roulette-v0)\n",
            "EnvSpec(Taxi-v3)\n",
            "EnvSpec(GuessingGame-v0)\n",
            "EnvSpec(HotterColder-v0)\n",
            "EnvSpec(Reacher-v2)\n",
            "EnvSpec(Pusher-v2)\n",
            "EnvSpec(Thrower-v2)\n",
            "EnvSpec(Striker-v2)\n",
            "EnvSpec(InvertedPendulum-v2)\n",
            "EnvSpec(InvertedDoublePendulum-v2)\n",
            "EnvSpec(HalfCheetah-v2)\n",
            "EnvSpec(HalfCheetah-v3)\n",
            "EnvSpec(Hopper-v2)\n",
            "EnvSpec(Hopper-v3)\n",
            "EnvSpec(Swimmer-v2)\n",
            "EnvSpec(Swimmer-v3)\n",
            "EnvSpec(Walker2d-v2)\n",
            "EnvSpec(Walker2d-v3)\n",
            "EnvSpec(Ant-v2)\n",
            "EnvSpec(Ant-v3)\n",
            "EnvSpec(Humanoid-v2)\n",
            "EnvSpec(Humanoid-v3)\n",
            "EnvSpec(HumanoidStandup-v2)\n",
            "EnvSpec(FetchSlide-v1)\n",
            "EnvSpec(FetchPickAndPlace-v1)\n",
            "EnvSpec(FetchReach-v1)\n",
            "EnvSpec(FetchPush-v1)\n",
            "EnvSpec(HandReach-v0)\n",
            "EnvSpec(HandManipulateBlockRotateZ-v0)\n",
            "EnvSpec(HandManipulateBlockRotateZTouchSensors-v0)\n",
            "EnvSpec(HandManipulateBlockRotateZTouchSensors-v1)\n",
            "EnvSpec(HandManipulateBlockRotateParallel-v0)\n",
            "EnvSpec(HandManipulateBlockRotateParallelTouchSensors-v0)\n",
            "EnvSpec(HandManipulateBlockRotateParallelTouchSensors-v1)\n",
            "EnvSpec(HandManipulateBlockRotateXYZ-v0)\n",
            "EnvSpec(HandManipulateBlockRotateXYZTouchSensors-v0)\n",
            "EnvSpec(HandManipulateBlockRotateXYZTouchSensors-v1)\n",
            "EnvSpec(HandManipulateBlockFull-v0)\n",
            "EnvSpec(HandManipulateBlock-v0)\n",
            "EnvSpec(HandManipulateBlockTouchSensors-v0)\n",
            "EnvSpec(HandManipulateBlockTouchSensors-v1)\n",
            "EnvSpec(HandManipulateEggRotate-v0)\n",
            "EnvSpec(HandManipulateEggRotateTouchSensors-v0)\n",
            "EnvSpec(HandManipulateEggRotateTouchSensors-v1)\n",
            "EnvSpec(HandManipulateEggFull-v0)\n",
            "EnvSpec(HandManipulateEgg-v0)\n",
            "EnvSpec(HandManipulateEggTouchSensors-v0)\n",
            "EnvSpec(HandManipulateEggTouchSensors-v1)\n",
            "EnvSpec(HandManipulatePenRotate-v0)\n",
            "EnvSpec(HandManipulatePenRotateTouchSensors-v0)\n",
            "EnvSpec(HandManipulatePenRotateTouchSensors-v1)\n",
            "EnvSpec(HandManipulatePenFull-v0)\n",
            "EnvSpec(HandManipulatePen-v0)\n",
            "EnvSpec(HandManipulatePenTouchSensors-v0)\n",
            "EnvSpec(HandManipulatePenTouchSensors-v1)\n",
            "EnvSpec(FetchSlideDense-v1)\n",
            "EnvSpec(FetchPickAndPlaceDense-v1)\n",
            "EnvSpec(FetchReachDense-v1)\n",
            "EnvSpec(FetchPushDense-v1)\n",
            "EnvSpec(HandReachDense-v0)\n",
            "EnvSpec(HandManipulateBlockRotateZDense-v0)\n",
            "EnvSpec(HandManipulateBlockRotateZTouchSensorsDense-v0)\n",
            "EnvSpec(HandManipulateBlockRotateZTouchSensorsDense-v1)\n",
            "EnvSpec(HandManipulateBlockRotateParallelDense-v0)\n",
            "EnvSpec(HandManipulateBlockRotateParallelTouchSensorsDense-v0)\n",
            "EnvSpec(HandManipulateBlockRotateParallelTouchSensorsDense-v1)\n",
            "EnvSpec(HandManipulateBlockRotateXYZDense-v0)\n",
            "EnvSpec(HandManipulateBlockRotateXYZTouchSensorsDense-v0)\n",
            "EnvSpec(HandManipulateBlockRotateXYZTouchSensorsDense-v1)\n",
            "EnvSpec(HandManipulateBlockFullDense-v0)\n",
            "EnvSpec(HandManipulateBlockDense-v0)\n",
            "EnvSpec(HandManipulateBlockTouchSensorsDense-v0)\n",
            "EnvSpec(HandManipulateBlockTouchSensorsDense-v1)\n",
            "EnvSpec(HandManipulateEggRotateDense-v0)\n",
            "EnvSpec(HandManipulateEggRotateTouchSensorsDense-v0)\n",
            "EnvSpec(HandManipulateEggRotateTouchSensorsDense-v1)\n",
            "EnvSpec(HandManipulateEggFullDense-v0)\n",
            "EnvSpec(HandManipulateEggDense-v0)\n",
            "EnvSpec(HandManipulateEggTouchSensorsDense-v0)\n",
            "EnvSpec(HandManipulateEggTouchSensorsDense-v1)\n",
            "EnvSpec(HandManipulatePenRotateDense-v0)\n",
            "EnvSpec(HandManipulatePenRotateTouchSensorsDense-v0)\n",
            "EnvSpec(HandManipulatePenRotateTouchSensorsDense-v1)\n",
            "EnvSpec(HandManipulatePenFullDense-v0)\n",
            "EnvSpec(HandManipulatePenDense-v0)\n",
            "EnvSpec(HandManipulatePenTouchSensorsDense-v0)\n",
            "EnvSpec(HandManipulatePenTouchSensorsDense-v1)\n",
            "EnvSpec(Adventure-v0)\n",
            "EnvSpec(Adventure-v4)\n",
            "EnvSpec(AdventureDeterministic-v0)\n",
            "EnvSpec(AdventureDeterministic-v4)\n",
            "EnvSpec(AdventureNoFrameskip-v0)\n",
            "EnvSpec(AdventureNoFrameskip-v4)\n",
            "EnvSpec(Adventure-ram-v0)\n",
            "EnvSpec(Adventure-ram-v4)\n",
            "EnvSpec(Adventure-ramDeterministic-v0)\n",
            "EnvSpec(Adventure-ramDeterministic-v4)\n",
            "EnvSpec(Adventure-ramNoFrameskip-v0)\n",
            "EnvSpec(Adventure-ramNoFrameskip-v4)\n",
            "EnvSpec(AirRaid-v0)\n",
            "EnvSpec(AirRaid-v4)\n",
            "EnvSpec(AirRaidDeterministic-v0)\n",
            "EnvSpec(AirRaidDeterministic-v4)\n",
            "EnvSpec(AirRaidNoFrameskip-v0)\n",
            "EnvSpec(AirRaidNoFrameskip-v4)\n",
            "EnvSpec(AirRaid-ram-v0)\n",
            "EnvSpec(AirRaid-ram-v4)\n",
            "EnvSpec(AirRaid-ramDeterministic-v0)\n",
            "EnvSpec(AirRaid-ramDeterministic-v4)\n",
            "EnvSpec(AirRaid-ramNoFrameskip-v0)\n",
            "EnvSpec(AirRaid-ramNoFrameskip-v4)\n",
            "EnvSpec(Alien-v0)\n",
            "EnvSpec(Alien-v4)\n",
            "EnvSpec(AlienDeterministic-v0)\n",
            "EnvSpec(AlienDeterministic-v4)\n",
            "EnvSpec(AlienNoFrameskip-v0)\n",
            "EnvSpec(AlienNoFrameskip-v4)\n",
            "EnvSpec(Alien-ram-v0)\n",
            "EnvSpec(Alien-ram-v4)\n",
            "EnvSpec(Alien-ramDeterministic-v0)\n",
            "EnvSpec(Alien-ramDeterministic-v4)\n",
            "EnvSpec(Alien-ramNoFrameskip-v0)\n",
            "EnvSpec(Alien-ramNoFrameskip-v4)\n",
            "EnvSpec(Amidar-v0)\n",
            "EnvSpec(Amidar-v4)\n",
            "EnvSpec(AmidarDeterministic-v0)\n",
            "EnvSpec(AmidarDeterministic-v4)\n",
            "EnvSpec(AmidarNoFrameskip-v0)\n",
            "EnvSpec(AmidarNoFrameskip-v4)\n",
            "EnvSpec(Amidar-ram-v0)\n",
            "EnvSpec(Amidar-ram-v4)\n",
            "EnvSpec(Amidar-ramDeterministic-v0)\n",
            "EnvSpec(Amidar-ramDeterministic-v4)\n",
            "EnvSpec(Amidar-ramNoFrameskip-v0)\n",
            "EnvSpec(Amidar-ramNoFrameskip-v4)\n",
            "EnvSpec(Assault-v0)\n",
            "EnvSpec(Assault-v4)\n",
            "EnvSpec(AssaultDeterministic-v0)\n",
            "EnvSpec(AssaultDeterministic-v4)\n",
            "EnvSpec(AssaultNoFrameskip-v0)\n",
            "EnvSpec(AssaultNoFrameskip-v4)\n",
            "EnvSpec(Assault-ram-v0)\n",
            "EnvSpec(Assault-ram-v4)\n",
            "EnvSpec(Assault-ramDeterministic-v0)\n",
            "EnvSpec(Assault-ramDeterministic-v4)\n",
            "EnvSpec(Assault-ramNoFrameskip-v0)\n",
            "EnvSpec(Assault-ramNoFrameskip-v4)\n",
            "EnvSpec(Asterix-v0)\n",
            "EnvSpec(Asterix-v4)\n",
            "EnvSpec(AsterixDeterministic-v0)\n",
            "EnvSpec(AsterixDeterministic-v4)\n",
            "EnvSpec(AsterixNoFrameskip-v0)\n",
            "EnvSpec(AsterixNoFrameskip-v4)\n",
            "EnvSpec(Asterix-ram-v0)\n",
            "EnvSpec(Asterix-ram-v4)\n",
            "EnvSpec(Asterix-ramDeterministic-v0)\n",
            "EnvSpec(Asterix-ramDeterministic-v4)\n",
            "EnvSpec(Asterix-ramNoFrameskip-v0)\n",
            "EnvSpec(Asterix-ramNoFrameskip-v4)\n",
            "EnvSpec(Asteroids-v0)\n",
            "EnvSpec(Asteroids-v4)\n",
            "EnvSpec(AsteroidsDeterministic-v0)\n",
            "EnvSpec(AsteroidsDeterministic-v4)\n",
            "EnvSpec(AsteroidsNoFrameskip-v0)\n",
            "EnvSpec(AsteroidsNoFrameskip-v4)\n",
            "EnvSpec(Asteroids-ram-v0)\n",
            "EnvSpec(Asteroids-ram-v4)\n",
            "EnvSpec(Asteroids-ramDeterministic-v0)\n",
            "EnvSpec(Asteroids-ramDeterministic-v4)\n",
            "EnvSpec(Asteroids-ramNoFrameskip-v0)\n",
            "EnvSpec(Asteroids-ramNoFrameskip-v4)\n",
            "EnvSpec(Atlantis-v0)\n",
            "EnvSpec(Atlantis-v4)\n",
            "EnvSpec(AtlantisDeterministic-v0)\n",
            "EnvSpec(AtlantisDeterministic-v4)\n",
            "EnvSpec(AtlantisNoFrameskip-v0)\n",
            "EnvSpec(AtlantisNoFrameskip-v4)\n",
            "EnvSpec(Atlantis-ram-v0)\n",
            "EnvSpec(Atlantis-ram-v4)\n",
            "EnvSpec(Atlantis-ramDeterministic-v0)\n",
            "EnvSpec(Atlantis-ramDeterministic-v4)\n",
            "EnvSpec(Atlantis-ramNoFrameskip-v0)\n",
            "EnvSpec(Atlantis-ramNoFrameskip-v4)\n",
            "EnvSpec(BankHeist-v0)\n",
            "EnvSpec(BankHeist-v4)\n",
            "EnvSpec(BankHeistDeterministic-v0)\n",
            "EnvSpec(BankHeistDeterministic-v4)\n",
            "EnvSpec(BankHeistNoFrameskip-v0)\n",
            "EnvSpec(BankHeistNoFrameskip-v4)\n",
            "EnvSpec(BankHeist-ram-v0)\n",
            "EnvSpec(BankHeist-ram-v4)\n",
            "EnvSpec(BankHeist-ramDeterministic-v0)\n",
            "EnvSpec(BankHeist-ramDeterministic-v4)\n",
            "EnvSpec(BankHeist-ramNoFrameskip-v0)\n",
            "EnvSpec(BankHeist-ramNoFrameskip-v4)\n",
            "EnvSpec(BattleZone-v0)\n",
            "EnvSpec(BattleZone-v4)\n",
            "EnvSpec(BattleZoneDeterministic-v0)\n",
            "EnvSpec(BattleZoneDeterministic-v4)\n",
            "EnvSpec(BattleZoneNoFrameskip-v0)\n",
            "EnvSpec(BattleZoneNoFrameskip-v4)\n",
            "EnvSpec(BattleZone-ram-v0)\n",
            "EnvSpec(BattleZone-ram-v4)\n",
            "EnvSpec(BattleZone-ramDeterministic-v0)\n",
            "EnvSpec(BattleZone-ramDeterministic-v4)\n",
            "EnvSpec(BattleZone-ramNoFrameskip-v0)\n",
            "EnvSpec(BattleZone-ramNoFrameskip-v4)\n",
            "EnvSpec(BeamRider-v0)\n",
            "EnvSpec(BeamRider-v4)\n",
            "EnvSpec(BeamRiderDeterministic-v0)\n",
            "EnvSpec(BeamRiderDeterministic-v4)\n",
            "EnvSpec(BeamRiderNoFrameskip-v0)\n",
            "EnvSpec(BeamRiderNoFrameskip-v4)\n",
            "EnvSpec(BeamRider-ram-v0)\n",
            "EnvSpec(BeamRider-ram-v4)\n",
            "EnvSpec(BeamRider-ramDeterministic-v0)\n",
            "EnvSpec(BeamRider-ramDeterministic-v4)\n",
            "EnvSpec(BeamRider-ramNoFrameskip-v0)\n",
            "EnvSpec(BeamRider-ramNoFrameskip-v4)\n",
            "EnvSpec(Berzerk-v0)\n",
            "EnvSpec(Berzerk-v4)\n",
            "EnvSpec(BerzerkDeterministic-v0)\n",
            "EnvSpec(BerzerkDeterministic-v4)\n",
            "EnvSpec(BerzerkNoFrameskip-v0)\n",
            "EnvSpec(BerzerkNoFrameskip-v4)\n",
            "EnvSpec(Berzerk-ram-v0)\n",
            "EnvSpec(Berzerk-ram-v4)\n",
            "EnvSpec(Berzerk-ramDeterministic-v0)\n",
            "EnvSpec(Berzerk-ramDeterministic-v4)\n",
            "EnvSpec(Berzerk-ramNoFrameskip-v0)\n",
            "EnvSpec(Berzerk-ramNoFrameskip-v4)\n",
            "EnvSpec(Bowling-v0)\n",
            "EnvSpec(Bowling-v4)\n",
            "EnvSpec(BowlingDeterministic-v0)\n",
            "EnvSpec(BowlingDeterministic-v4)\n",
            "EnvSpec(BowlingNoFrameskip-v0)\n",
            "EnvSpec(BowlingNoFrameskip-v4)\n",
            "EnvSpec(Bowling-ram-v0)\n",
            "EnvSpec(Bowling-ram-v4)\n",
            "EnvSpec(Bowling-ramDeterministic-v0)\n",
            "EnvSpec(Bowling-ramDeterministic-v4)\n",
            "EnvSpec(Bowling-ramNoFrameskip-v0)\n",
            "EnvSpec(Bowling-ramNoFrameskip-v4)\n",
            "EnvSpec(Boxing-v0)\n",
            "EnvSpec(Boxing-v4)\n",
            "EnvSpec(BoxingDeterministic-v0)\n",
            "EnvSpec(BoxingDeterministic-v4)\n",
            "EnvSpec(BoxingNoFrameskip-v0)\n",
            "EnvSpec(BoxingNoFrameskip-v4)\n",
            "EnvSpec(Boxing-ram-v0)\n",
            "EnvSpec(Boxing-ram-v4)\n",
            "EnvSpec(Boxing-ramDeterministic-v0)\n",
            "EnvSpec(Boxing-ramDeterministic-v4)\n",
            "EnvSpec(Boxing-ramNoFrameskip-v0)\n",
            "EnvSpec(Boxing-ramNoFrameskip-v4)\n",
            "EnvSpec(Breakout-v0)\n",
            "EnvSpec(Breakout-v4)\n",
            "EnvSpec(BreakoutDeterministic-v0)\n",
            "EnvSpec(BreakoutDeterministic-v4)\n",
            "EnvSpec(BreakoutNoFrameskip-v0)\n",
            "EnvSpec(BreakoutNoFrameskip-v4)\n",
            "EnvSpec(Breakout-ram-v0)\n",
            "EnvSpec(Breakout-ram-v4)\n",
            "EnvSpec(Breakout-ramDeterministic-v0)\n",
            "EnvSpec(Breakout-ramDeterministic-v4)\n",
            "EnvSpec(Breakout-ramNoFrameskip-v0)\n",
            "EnvSpec(Breakout-ramNoFrameskip-v4)\n",
            "EnvSpec(Carnival-v0)\n",
            "EnvSpec(Carnival-v4)\n",
            "EnvSpec(CarnivalDeterministic-v0)\n",
            "EnvSpec(CarnivalDeterministic-v4)\n",
            "EnvSpec(CarnivalNoFrameskip-v0)\n",
            "EnvSpec(CarnivalNoFrameskip-v4)\n",
            "EnvSpec(Carnival-ram-v0)\n",
            "EnvSpec(Carnival-ram-v4)\n",
            "EnvSpec(Carnival-ramDeterministic-v0)\n",
            "EnvSpec(Carnival-ramDeterministic-v4)\n",
            "EnvSpec(Carnival-ramNoFrameskip-v0)\n",
            "EnvSpec(Carnival-ramNoFrameskip-v4)\n",
            "EnvSpec(Centipede-v0)\n",
            "EnvSpec(Centipede-v4)\n",
            "EnvSpec(CentipedeDeterministic-v0)\n",
            "EnvSpec(CentipedeDeterministic-v4)\n",
            "EnvSpec(CentipedeNoFrameskip-v0)\n",
            "EnvSpec(CentipedeNoFrameskip-v4)\n",
            "EnvSpec(Centipede-ram-v0)\n",
            "EnvSpec(Centipede-ram-v4)\n",
            "EnvSpec(Centipede-ramDeterministic-v0)\n",
            "EnvSpec(Centipede-ramDeterministic-v4)\n",
            "EnvSpec(Centipede-ramNoFrameskip-v0)\n",
            "EnvSpec(Centipede-ramNoFrameskip-v4)\n",
            "EnvSpec(ChopperCommand-v0)\n",
            "EnvSpec(ChopperCommand-v4)\n",
            "EnvSpec(ChopperCommandDeterministic-v0)\n",
            "EnvSpec(ChopperCommandDeterministic-v4)\n",
            "EnvSpec(ChopperCommandNoFrameskip-v0)\n",
            "EnvSpec(ChopperCommandNoFrameskip-v4)\n",
            "EnvSpec(ChopperCommand-ram-v0)\n",
            "EnvSpec(ChopperCommand-ram-v4)\n",
            "EnvSpec(ChopperCommand-ramDeterministic-v0)\n",
            "EnvSpec(ChopperCommand-ramDeterministic-v4)\n",
            "EnvSpec(ChopperCommand-ramNoFrameskip-v0)\n",
            "EnvSpec(ChopperCommand-ramNoFrameskip-v4)\n",
            "EnvSpec(CrazyClimber-v0)\n",
            "EnvSpec(CrazyClimber-v4)\n",
            "EnvSpec(CrazyClimberDeterministic-v0)\n",
            "EnvSpec(CrazyClimberDeterministic-v4)\n",
            "EnvSpec(CrazyClimberNoFrameskip-v0)\n",
            "EnvSpec(CrazyClimberNoFrameskip-v4)\n",
            "EnvSpec(CrazyClimber-ram-v0)\n",
            "EnvSpec(CrazyClimber-ram-v4)\n",
            "EnvSpec(CrazyClimber-ramDeterministic-v0)\n",
            "EnvSpec(CrazyClimber-ramDeterministic-v4)\n",
            "EnvSpec(CrazyClimber-ramNoFrameskip-v0)\n",
            "EnvSpec(CrazyClimber-ramNoFrameskip-v4)\n",
            "EnvSpec(Defender-v0)\n",
            "EnvSpec(Defender-v4)\n",
            "EnvSpec(DefenderDeterministic-v0)\n",
            "EnvSpec(DefenderDeterministic-v4)\n",
            "EnvSpec(DefenderNoFrameskip-v0)\n",
            "EnvSpec(DefenderNoFrameskip-v4)\n",
            "EnvSpec(Defender-ram-v0)\n",
            "EnvSpec(Defender-ram-v4)\n",
            "EnvSpec(Defender-ramDeterministic-v0)\n",
            "EnvSpec(Defender-ramDeterministic-v4)\n",
            "EnvSpec(Defender-ramNoFrameskip-v0)\n",
            "EnvSpec(Defender-ramNoFrameskip-v4)\n",
            "EnvSpec(DemonAttack-v0)\n",
            "EnvSpec(DemonAttack-v4)\n",
            "EnvSpec(DemonAttackDeterministic-v0)\n",
            "EnvSpec(DemonAttackDeterministic-v4)\n",
            "EnvSpec(DemonAttackNoFrameskip-v0)\n",
            "EnvSpec(DemonAttackNoFrameskip-v4)\n",
            "EnvSpec(DemonAttack-ram-v0)\n",
            "EnvSpec(DemonAttack-ram-v4)\n",
            "EnvSpec(DemonAttack-ramDeterministic-v0)\n",
            "EnvSpec(DemonAttack-ramDeterministic-v4)\n",
            "EnvSpec(DemonAttack-ramNoFrameskip-v0)\n",
            "EnvSpec(DemonAttack-ramNoFrameskip-v4)\n",
            "EnvSpec(DoubleDunk-v0)\n",
            "EnvSpec(DoubleDunk-v4)\n",
            "EnvSpec(DoubleDunkDeterministic-v0)\n",
            "EnvSpec(DoubleDunkDeterministic-v4)\n",
            "EnvSpec(DoubleDunkNoFrameskip-v0)\n",
            "EnvSpec(DoubleDunkNoFrameskip-v4)\n",
            "EnvSpec(DoubleDunk-ram-v0)\n",
            "EnvSpec(DoubleDunk-ram-v4)\n",
            "EnvSpec(DoubleDunk-ramDeterministic-v0)\n",
            "EnvSpec(DoubleDunk-ramDeterministic-v4)\n",
            "EnvSpec(DoubleDunk-ramNoFrameskip-v0)\n",
            "EnvSpec(DoubleDunk-ramNoFrameskip-v4)\n",
            "EnvSpec(ElevatorAction-v0)\n",
            "EnvSpec(ElevatorAction-v4)\n",
            "EnvSpec(ElevatorActionDeterministic-v0)\n",
            "EnvSpec(ElevatorActionDeterministic-v4)\n",
            "EnvSpec(ElevatorActionNoFrameskip-v0)\n",
            "EnvSpec(ElevatorActionNoFrameskip-v4)\n",
            "EnvSpec(ElevatorAction-ram-v0)\n",
            "EnvSpec(ElevatorAction-ram-v4)\n",
            "EnvSpec(ElevatorAction-ramDeterministic-v0)\n",
            "EnvSpec(ElevatorAction-ramDeterministic-v4)\n",
            "EnvSpec(ElevatorAction-ramNoFrameskip-v0)\n",
            "EnvSpec(ElevatorAction-ramNoFrameskip-v4)\n",
            "EnvSpec(Enduro-v0)\n",
            "EnvSpec(Enduro-v4)\n",
            "EnvSpec(EnduroDeterministic-v0)\n",
            "EnvSpec(EnduroDeterministic-v4)\n",
            "EnvSpec(EnduroNoFrameskip-v0)\n",
            "EnvSpec(EnduroNoFrameskip-v4)\n",
            "EnvSpec(Enduro-ram-v0)\n",
            "EnvSpec(Enduro-ram-v4)\n",
            "EnvSpec(Enduro-ramDeterministic-v0)\n",
            "EnvSpec(Enduro-ramDeterministic-v4)\n",
            "EnvSpec(Enduro-ramNoFrameskip-v0)\n",
            "EnvSpec(Enduro-ramNoFrameskip-v4)\n",
            "EnvSpec(FishingDerby-v0)\n",
            "EnvSpec(FishingDerby-v4)\n",
            "EnvSpec(FishingDerbyDeterministic-v0)\n",
            "EnvSpec(FishingDerbyDeterministic-v4)\n",
            "EnvSpec(FishingDerbyNoFrameskip-v0)\n",
            "EnvSpec(FishingDerbyNoFrameskip-v4)\n",
            "EnvSpec(FishingDerby-ram-v0)\n",
            "EnvSpec(FishingDerby-ram-v4)\n",
            "EnvSpec(FishingDerby-ramDeterministic-v0)\n",
            "EnvSpec(FishingDerby-ramDeterministic-v4)\n",
            "EnvSpec(FishingDerby-ramNoFrameskip-v0)\n",
            "EnvSpec(FishingDerby-ramNoFrameskip-v4)\n",
            "EnvSpec(Freeway-v0)\n",
            "EnvSpec(Freeway-v4)\n",
            "EnvSpec(FreewayDeterministic-v0)\n",
            "EnvSpec(FreewayDeterministic-v4)\n",
            "EnvSpec(FreewayNoFrameskip-v0)\n",
            "EnvSpec(FreewayNoFrameskip-v4)\n",
            "EnvSpec(Freeway-ram-v0)\n",
            "EnvSpec(Freeway-ram-v4)\n",
            "EnvSpec(Freeway-ramDeterministic-v0)\n",
            "EnvSpec(Freeway-ramDeterministic-v4)\n",
            "EnvSpec(Freeway-ramNoFrameskip-v0)\n",
            "EnvSpec(Freeway-ramNoFrameskip-v4)\n",
            "EnvSpec(Frostbite-v0)\n",
            "EnvSpec(Frostbite-v4)\n",
            "EnvSpec(FrostbiteDeterministic-v0)\n",
            "EnvSpec(FrostbiteDeterministic-v4)\n",
            "EnvSpec(FrostbiteNoFrameskip-v0)\n",
            "EnvSpec(FrostbiteNoFrameskip-v4)\n",
            "EnvSpec(Frostbite-ram-v0)\n",
            "EnvSpec(Frostbite-ram-v4)\n",
            "EnvSpec(Frostbite-ramDeterministic-v0)\n",
            "EnvSpec(Frostbite-ramDeterministic-v4)\n",
            "EnvSpec(Frostbite-ramNoFrameskip-v0)\n",
            "EnvSpec(Frostbite-ramNoFrameskip-v4)\n",
            "EnvSpec(Gopher-v0)\n",
            "EnvSpec(Gopher-v4)\n",
            "EnvSpec(GopherDeterministic-v0)\n",
            "EnvSpec(GopherDeterministic-v4)\n",
            "EnvSpec(GopherNoFrameskip-v0)\n",
            "EnvSpec(GopherNoFrameskip-v4)\n",
            "EnvSpec(Gopher-ram-v0)\n",
            "EnvSpec(Gopher-ram-v4)\n",
            "EnvSpec(Gopher-ramDeterministic-v0)\n",
            "EnvSpec(Gopher-ramDeterministic-v4)\n",
            "EnvSpec(Gopher-ramNoFrameskip-v0)\n",
            "EnvSpec(Gopher-ramNoFrameskip-v4)\n",
            "EnvSpec(Gravitar-v0)\n",
            "EnvSpec(Gravitar-v4)\n",
            "EnvSpec(GravitarDeterministic-v0)\n",
            "EnvSpec(GravitarDeterministic-v4)\n",
            "EnvSpec(GravitarNoFrameskip-v0)\n",
            "EnvSpec(GravitarNoFrameskip-v4)\n",
            "EnvSpec(Gravitar-ram-v0)\n",
            "EnvSpec(Gravitar-ram-v4)\n",
            "EnvSpec(Gravitar-ramDeterministic-v0)\n",
            "EnvSpec(Gravitar-ramDeterministic-v4)\n",
            "EnvSpec(Gravitar-ramNoFrameskip-v0)\n",
            "EnvSpec(Gravitar-ramNoFrameskip-v4)\n",
            "EnvSpec(Hero-v0)\n",
            "EnvSpec(Hero-v4)\n",
            "EnvSpec(HeroDeterministic-v0)\n",
            "EnvSpec(HeroDeterministic-v4)\n",
            "EnvSpec(HeroNoFrameskip-v0)\n",
            "EnvSpec(HeroNoFrameskip-v4)\n",
            "EnvSpec(Hero-ram-v0)\n",
            "EnvSpec(Hero-ram-v4)\n",
            "EnvSpec(Hero-ramDeterministic-v0)\n",
            "EnvSpec(Hero-ramDeterministic-v4)\n",
            "EnvSpec(Hero-ramNoFrameskip-v0)\n",
            "EnvSpec(Hero-ramNoFrameskip-v4)\n",
            "EnvSpec(IceHockey-v0)\n",
            "EnvSpec(IceHockey-v4)\n",
            "EnvSpec(IceHockeyDeterministic-v0)\n",
            "EnvSpec(IceHockeyDeterministic-v4)\n",
            "EnvSpec(IceHockeyNoFrameskip-v0)\n",
            "EnvSpec(IceHockeyNoFrameskip-v4)\n",
            "EnvSpec(IceHockey-ram-v0)\n",
            "EnvSpec(IceHockey-ram-v4)\n",
            "EnvSpec(IceHockey-ramDeterministic-v0)\n",
            "EnvSpec(IceHockey-ramDeterministic-v4)\n",
            "EnvSpec(IceHockey-ramNoFrameskip-v0)\n",
            "EnvSpec(IceHockey-ramNoFrameskip-v4)\n",
            "EnvSpec(Jamesbond-v0)\n",
            "EnvSpec(Jamesbond-v4)\n",
            "EnvSpec(JamesbondDeterministic-v0)\n",
            "EnvSpec(JamesbondDeterministic-v4)\n",
            "EnvSpec(JamesbondNoFrameskip-v0)\n",
            "EnvSpec(JamesbondNoFrameskip-v4)\n",
            "EnvSpec(Jamesbond-ram-v0)\n",
            "EnvSpec(Jamesbond-ram-v4)\n",
            "EnvSpec(Jamesbond-ramDeterministic-v0)\n",
            "EnvSpec(Jamesbond-ramDeterministic-v4)\n",
            "EnvSpec(Jamesbond-ramNoFrameskip-v0)\n",
            "EnvSpec(Jamesbond-ramNoFrameskip-v4)\n",
            "EnvSpec(JourneyEscape-v0)\n",
            "EnvSpec(JourneyEscape-v4)\n",
            "EnvSpec(JourneyEscapeDeterministic-v0)\n",
            "EnvSpec(JourneyEscapeDeterministic-v4)\n",
            "EnvSpec(JourneyEscapeNoFrameskip-v0)\n",
            "EnvSpec(JourneyEscapeNoFrameskip-v4)\n",
            "EnvSpec(JourneyEscape-ram-v0)\n",
            "EnvSpec(JourneyEscape-ram-v4)\n",
            "EnvSpec(JourneyEscape-ramDeterministic-v0)\n",
            "EnvSpec(JourneyEscape-ramDeterministic-v4)\n",
            "EnvSpec(JourneyEscape-ramNoFrameskip-v0)\n",
            "EnvSpec(JourneyEscape-ramNoFrameskip-v4)\n",
            "EnvSpec(Kangaroo-v0)\n",
            "EnvSpec(Kangaroo-v4)\n",
            "EnvSpec(KangarooDeterministic-v0)\n",
            "EnvSpec(KangarooDeterministic-v4)\n",
            "EnvSpec(KangarooNoFrameskip-v0)\n",
            "EnvSpec(KangarooNoFrameskip-v4)\n",
            "EnvSpec(Kangaroo-ram-v0)\n",
            "EnvSpec(Kangaroo-ram-v4)\n",
            "EnvSpec(Kangaroo-ramDeterministic-v0)\n",
            "EnvSpec(Kangaroo-ramDeterministic-v4)\n",
            "EnvSpec(Kangaroo-ramNoFrameskip-v0)\n",
            "EnvSpec(Kangaroo-ramNoFrameskip-v4)\n",
            "EnvSpec(Krull-v0)\n",
            "EnvSpec(Krull-v4)\n",
            "EnvSpec(KrullDeterministic-v0)\n",
            "EnvSpec(KrullDeterministic-v4)\n",
            "EnvSpec(KrullNoFrameskip-v0)\n",
            "EnvSpec(KrullNoFrameskip-v4)\n",
            "EnvSpec(Krull-ram-v0)\n",
            "EnvSpec(Krull-ram-v4)\n",
            "EnvSpec(Krull-ramDeterministic-v0)\n",
            "EnvSpec(Krull-ramDeterministic-v4)\n",
            "EnvSpec(Krull-ramNoFrameskip-v0)\n",
            "EnvSpec(Krull-ramNoFrameskip-v4)\n",
            "EnvSpec(KungFuMaster-v0)\n",
            "EnvSpec(KungFuMaster-v4)\n",
            "EnvSpec(KungFuMasterDeterministic-v0)\n",
            "EnvSpec(KungFuMasterDeterministic-v4)\n",
            "EnvSpec(KungFuMasterNoFrameskip-v0)\n",
            "EnvSpec(KungFuMasterNoFrameskip-v4)\n",
            "EnvSpec(KungFuMaster-ram-v0)\n",
            "EnvSpec(KungFuMaster-ram-v4)\n",
            "EnvSpec(KungFuMaster-ramDeterministic-v0)\n",
            "EnvSpec(KungFuMaster-ramDeterministic-v4)\n",
            "EnvSpec(KungFuMaster-ramNoFrameskip-v0)\n",
            "EnvSpec(KungFuMaster-ramNoFrameskip-v4)\n",
            "EnvSpec(MontezumaRevenge-v0)\n",
            "EnvSpec(MontezumaRevenge-v4)\n",
            "EnvSpec(MontezumaRevengeDeterministic-v0)\n",
            "EnvSpec(MontezumaRevengeDeterministic-v4)\n",
            "EnvSpec(MontezumaRevengeNoFrameskip-v0)\n",
            "EnvSpec(MontezumaRevengeNoFrameskip-v4)\n",
            "EnvSpec(MontezumaRevenge-ram-v0)\n",
            "EnvSpec(MontezumaRevenge-ram-v4)\n",
            "EnvSpec(MontezumaRevenge-ramDeterministic-v0)\n",
            "EnvSpec(MontezumaRevenge-ramDeterministic-v4)\n",
            "EnvSpec(MontezumaRevenge-ramNoFrameskip-v0)\n",
            "EnvSpec(MontezumaRevenge-ramNoFrameskip-v4)\n",
            "EnvSpec(MsPacman-v0)\n",
            "EnvSpec(MsPacman-v4)\n",
            "EnvSpec(MsPacmanDeterministic-v0)\n",
            "EnvSpec(MsPacmanDeterministic-v4)\n",
            "EnvSpec(MsPacmanNoFrameskip-v0)\n",
            "EnvSpec(MsPacmanNoFrameskip-v4)\n",
            "EnvSpec(MsPacman-ram-v0)\n",
            "EnvSpec(MsPacman-ram-v4)\n",
            "EnvSpec(MsPacman-ramDeterministic-v0)\n",
            "EnvSpec(MsPacman-ramDeterministic-v4)\n",
            "EnvSpec(MsPacman-ramNoFrameskip-v0)\n",
            "EnvSpec(MsPacman-ramNoFrameskip-v4)\n",
            "EnvSpec(NameThisGame-v0)\n",
            "EnvSpec(NameThisGame-v4)\n",
            "EnvSpec(NameThisGameDeterministic-v0)\n",
            "EnvSpec(NameThisGameDeterministic-v4)\n",
            "EnvSpec(NameThisGameNoFrameskip-v0)\n",
            "EnvSpec(NameThisGameNoFrameskip-v4)\n",
            "EnvSpec(NameThisGame-ram-v0)\n",
            "EnvSpec(NameThisGame-ram-v4)\n",
            "EnvSpec(NameThisGame-ramDeterministic-v0)\n",
            "EnvSpec(NameThisGame-ramDeterministic-v4)\n",
            "EnvSpec(NameThisGame-ramNoFrameskip-v0)\n",
            "EnvSpec(NameThisGame-ramNoFrameskip-v4)\n",
            "EnvSpec(Phoenix-v0)\n",
            "EnvSpec(Phoenix-v4)\n",
            "EnvSpec(PhoenixDeterministic-v0)\n",
            "EnvSpec(PhoenixDeterministic-v4)\n",
            "EnvSpec(PhoenixNoFrameskip-v0)\n",
            "EnvSpec(PhoenixNoFrameskip-v4)\n",
            "EnvSpec(Phoenix-ram-v0)\n",
            "EnvSpec(Phoenix-ram-v4)\n",
            "EnvSpec(Phoenix-ramDeterministic-v0)\n",
            "EnvSpec(Phoenix-ramDeterministic-v4)\n",
            "EnvSpec(Phoenix-ramNoFrameskip-v0)\n",
            "EnvSpec(Phoenix-ramNoFrameskip-v4)\n",
            "EnvSpec(Pitfall-v0)\n",
            "EnvSpec(Pitfall-v4)\n",
            "EnvSpec(PitfallDeterministic-v0)\n",
            "EnvSpec(PitfallDeterministic-v4)\n",
            "EnvSpec(PitfallNoFrameskip-v0)\n",
            "EnvSpec(PitfallNoFrameskip-v4)\n",
            "EnvSpec(Pitfall-ram-v0)\n",
            "EnvSpec(Pitfall-ram-v4)\n",
            "EnvSpec(Pitfall-ramDeterministic-v0)\n",
            "EnvSpec(Pitfall-ramDeterministic-v4)\n",
            "EnvSpec(Pitfall-ramNoFrameskip-v0)\n",
            "EnvSpec(Pitfall-ramNoFrameskip-v4)\n",
            "EnvSpec(Pong-v0)\n",
            "EnvSpec(Pong-v4)\n",
            "EnvSpec(PongDeterministic-v0)\n",
            "EnvSpec(PongDeterministic-v4)\n",
            "EnvSpec(PongNoFrameskip-v0)\n",
            "EnvSpec(PongNoFrameskip-v4)\n",
            "EnvSpec(Pong-ram-v0)\n",
            "EnvSpec(Pong-ram-v4)\n",
            "EnvSpec(Pong-ramDeterministic-v0)\n",
            "EnvSpec(Pong-ramDeterministic-v4)\n",
            "EnvSpec(Pong-ramNoFrameskip-v0)\n",
            "EnvSpec(Pong-ramNoFrameskip-v4)\n",
            "EnvSpec(Pooyan-v0)\n",
            "EnvSpec(Pooyan-v4)\n",
            "EnvSpec(PooyanDeterministic-v0)\n",
            "EnvSpec(PooyanDeterministic-v4)\n",
            "EnvSpec(PooyanNoFrameskip-v0)\n",
            "EnvSpec(PooyanNoFrameskip-v4)\n",
            "EnvSpec(Pooyan-ram-v0)\n",
            "EnvSpec(Pooyan-ram-v4)\n",
            "EnvSpec(Pooyan-ramDeterministic-v0)\n",
            "EnvSpec(Pooyan-ramDeterministic-v4)\n",
            "EnvSpec(Pooyan-ramNoFrameskip-v0)\n",
            "EnvSpec(Pooyan-ramNoFrameskip-v4)\n",
            "EnvSpec(PrivateEye-v0)\n",
            "EnvSpec(PrivateEye-v4)\n",
            "EnvSpec(PrivateEyeDeterministic-v0)\n",
            "EnvSpec(PrivateEyeDeterministic-v4)\n",
            "EnvSpec(PrivateEyeNoFrameskip-v0)\n",
            "EnvSpec(PrivateEyeNoFrameskip-v4)\n",
            "EnvSpec(PrivateEye-ram-v0)\n",
            "EnvSpec(PrivateEye-ram-v4)\n",
            "EnvSpec(PrivateEye-ramDeterministic-v0)\n",
            "EnvSpec(PrivateEye-ramDeterministic-v4)\n",
            "EnvSpec(PrivateEye-ramNoFrameskip-v0)\n",
            "EnvSpec(PrivateEye-ramNoFrameskip-v4)\n",
            "EnvSpec(Qbert-v0)\n",
            "EnvSpec(Qbert-v4)\n",
            "EnvSpec(QbertDeterministic-v0)\n",
            "EnvSpec(QbertDeterministic-v4)\n",
            "EnvSpec(QbertNoFrameskip-v0)\n",
            "EnvSpec(QbertNoFrameskip-v4)\n",
            "EnvSpec(Qbert-ram-v0)\n",
            "EnvSpec(Qbert-ram-v4)\n",
            "EnvSpec(Qbert-ramDeterministic-v0)\n",
            "EnvSpec(Qbert-ramDeterministic-v4)\n",
            "EnvSpec(Qbert-ramNoFrameskip-v0)\n",
            "EnvSpec(Qbert-ramNoFrameskip-v4)\n",
            "EnvSpec(Riverraid-v0)\n",
            "EnvSpec(Riverraid-v4)\n",
            "EnvSpec(RiverraidDeterministic-v0)\n",
            "EnvSpec(RiverraidDeterministic-v4)\n",
            "EnvSpec(RiverraidNoFrameskip-v0)\n",
            "EnvSpec(RiverraidNoFrameskip-v4)\n",
            "EnvSpec(Riverraid-ram-v0)\n",
            "EnvSpec(Riverraid-ram-v4)\n",
            "EnvSpec(Riverraid-ramDeterministic-v0)\n",
            "EnvSpec(Riverraid-ramDeterministic-v4)\n",
            "EnvSpec(Riverraid-ramNoFrameskip-v0)\n",
            "EnvSpec(Riverraid-ramNoFrameskip-v4)\n",
            "EnvSpec(RoadRunner-v0)\n",
            "EnvSpec(RoadRunner-v4)\n",
            "EnvSpec(RoadRunnerDeterministic-v0)\n",
            "EnvSpec(RoadRunnerDeterministic-v4)\n",
            "EnvSpec(RoadRunnerNoFrameskip-v0)\n",
            "EnvSpec(RoadRunnerNoFrameskip-v4)\n",
            "EnvSpec(RoadRunner-ram-v0)\n",
            "EnvSpec(RoadRunner-ram-v4)\n",
            "EnvSpec(RoadRunner-ramDeterministic-v0)\n",
            "EnvSpec(RoadRunner-ramDeterministic-v4)\n",
            "EnvSpec(RoadRunner-ramNoFrameskip-v0)\n",
            "EnvSpec(RoadRunner-ramNoFrameskip-v4)\n",
            "EnvSpec(Robotank-v0)\n",
            "EnvSpec(Robotank-v4)\n",
            "EnvSpec(RobotankDeterministic-v0)\n",
            "EnvSpec(RobotankDeterministic-v4)\n",
            "EnvSpec(RobotankNoFrameskip-v0)\n",
            "EnvSpec(RobotankNoFrameskip-v4)\n",
            "EnvSpec(Robotank-ram-v0)\n",
            "EnvSpec(Robotank-ram-v4)\n",
            "EnvSpec(Robotank-ramDeterministic-v0)\n",
            "EnvSpec(Robotank-ramDeterministic-v4)\n",
            "EnvSpec(Robotank-ramNoFrameskip-v0)\n",
            "EnvSpec(Robotank-ramNoFrameskip-v4)\n",
            "EnvSpec(Seaquest-v0)\n",
            "EnvSpec(Seaquest-v4)\n",
            "EnvSpec(SeaquestDeterministic-v0)\n",
            "EnvSpec(SeaquestDeterministic-v4)\n",
            "EnvSpec(SeaquestNoFrameskip-v0)\n",
            "EnvSpec(SeaquestNoFrameskip-v4)\n",
            "EnvSpec(Seaquest-ram-v0)\n",
            "EnvSpec(Seaquest-ram-v4)\n",
            "EnvSpec(Seaquest-ramDeterministic-v0)\n",
            "EnvSpec(Seaquest-ramDeterministic-v4)\n",
            "EnvSpec(Seaquest-ramNoFrameskip-v0)\n",
            "EnvSpec(Seaquest-ramNoFrameskip-v4)\n",
            "EnvSpec(Skiing-v0)\n",
            "EnvSpec(Skiing-v4)\n",
            "EnvSpec(SkiingDeterministic-v0)\n",
            "EnvSpec(SkiingDeterministic-v4)\n",
            "EnvSpec(SkiingNoFrameskip-v0)\n",
            "EnvSpec(SkiingNoFrameskip-v4)\n",
            "EnvSpec(Skiing-ram-v0)\n",
            "EnvSpec(Skiing-ram-v4)\n",
            "EnvSpec(Skiing-ramDeterministic-v0)\n",
            "EnvSpec(Skiing-ramDeterministic-v4)\n",
            "EnvSpec(Skiing-ramNoFrameskip-v0)\n",
            "EnvSpec(Skiing-ramNoFrameskip-v4)\n",
            "EnvSpec(Solaris-v0)\n",
            "EnvSpec(Solaris-v4)\n",
            "EnvSpec(SolarisDeterministic-v0)\n",
            "EnvSpec(SolarisDeterministic-v4)\n",
            "EnvSpec(SolarisNoFrameskip-v0)\n",
            "EnvSpec(SolarisNoFrameskip-v4)\n",
            "EnvSpec(Solaris-ram-v0)\n",
            "EnvSpec(Solaris-ram-v4)\n",
            "EnvSpec(Solaris-ramDeterministic-v0)\n",
            "EnvSpec(Solaris-ramDeterministic-v4)\n",
            "EnvSpec(Solaris-ramNoFrameskip-v0)\n",
            "EnvSpec(Solaris-ramNoFrameskip-v4)\n",
            "EnvSpec(SpaceInvaders-v0)\n",
            "EnvSpec(SpaceInvaders-v4)\n",
            "EnvSpec(SpaceInvadersDeterministic-v0)\n",
            "EnvSpec(SpaceInvadersDeterministic-v4)\n",
            "EnvSpec(SpaceInvadersNoFrameskip-v0)\n",
            "EnvSpec(SpaceInvadersNoFrameskip-v4)\n",
            "EnvSpec(SpaceInvaders-ram-v0)\n",
            "EnvSpec(SpaceInvaders-ram-v4)\n",
            "EnvSpec(SpaceInvaders-ramDeterministic-v0)\n",
            "EnvSpec(SpaceInvaders-ramDeterministic-v4)\n",
            "EnvSpec(SpaceInvaders-ramNoFrameskip-v0)\n",
            "EnvSpec(SpaceInvaders-ramNoFrameskip-v4)\n",
            "EnvSpec(StarGunner-v0)\n",
            "EnvSpec(StarGunner-v4)\n",
            "EnvSpec(StarGunnerDeterministic-v0)\n",
            "EnvSpec(StarGunnerDeterministic-v4)\n",
            "EnvSpec(StarGunnerNoFrameskip-v0)\n",
            "EnvSpec(StarGunnerNoFrameskip-v4)\n",
            "EnvSpec(StarGunner-ram-v0)\n",
            "EnvSpec(StarGunner-ram-v4)\n",
            "EnvSpec(StarGunner-ramDeterministic-v0)\n",
            "EnvSpec(StarGunner-ramDeterministic-v4)\n",
            "EnvSpec(StarGunner-ramNoFrameskip-v0)\n",
            "EnvSpec(StarGunner-ramNoFrameskip-v4)\n",
            "EnvSpec(Tennis-v0)\n",
            "EnvSpec(Tennis-v4)\n",
            "EnvSpec(TennisDeterministic-v0)\n",
            "EnvSpec(TennisDeterministic-v4)\n",
            "EnvSpec(TennisNoFrameskip-v0)\n",
            "EnvSpec(TennisNoFrameskip-v4)\n",
            "EnvSpec(Tennis-ram-v0)\n",
            "EnvSpec(Tennis-ram-v4)\n",
            "EnvSpec(Tennis-ramDeterministic-v0)\n",
            "EnvSpec(Tennis-ramDeterministic-v4)\n",
            "EnvSpec(Tennis-ramNoFrameskip-v0)\n",
            "EnvSpec(Tennis-ramNoFrameskip-v4)\n",
            "EnvSpec(TimePilot-v0)\n",
            "EnvSpec(TimePilot-v4)\n",
            "EnvSpec(TimePilotDeterministic-v0)\n",
            "EnvSpec(TimePilotDeterministic-v4)\n",
            "EnvSpec(TimePilotNoFrameskip-v0)\n",
            "EnvSpec(TimePilotNoFrameskip-v4)\n",
            "EnvSpec(TimePilot-ram-v0)\n",
            "EnvSpec(TimePilot-ram-v4)\n",
            "EnvSpec(TimePilot-ramDeterministic-v0)\n",
            "EnvSpec(TimePilot-ramDeterministic-v4)\n",
            "EnvSpec(TimePilot-ramNoFrameskip-v0)\n",
            "EnvSpec(TimePilot-ramNoFrameskip-v4)\n",
            "EnvSpec(Tutankham-v0)\n",
            "EnvSpec(Tutankham-v4)\n",
            "EnvSpec(TutankhamDeterministic-v0)\n",
            "EnvSpec(TutankhamDeterministic-v4)\n",
            "EnvSpec(TutankhamNoFrameskip-v0)\n",
            "EnvSpec(TutankhamNoFrameskip-v4)\n",
            "EnvSpec(Tutankham-ram-v0)\n",
            "EnvSpec(Tutankham-ram-v4)\n",
            "EnvSpec(Tutankham-ramDeterministic-v0)\n",
            "EnvSpec(Tutankham-ramDeterministic-v4)\n",
            "EnvSpec(Tutankham-ramNoFrameskip-v0)\n",
            "EnvSpec(Tutankham-ramNoFrameskip-v4)\n",
            "EnvSpec(UpNDown-v0)\n",
            "EnvSpec(UpNDown-v4)\n",
            "EnvSpec(UpNDownDeterministic-v0)\n",
            "EnvSpec(UpNDownDeterministic-v4)\n",
            "EnvSpec(UpNDownNoFrameskip-v0)\n",
            "EnvSpec(UpNDownNoFrameskip-v4)\n",
            "EnvSpec(UpNDown-ram-v0)\n",
            "EnvSpec(UpNDown-ram-v4)\n",
            "EnvSpec(UpNDown-ramDeterministic-v0)\n",
            "EnvSpec(UpNDown-ramDeterministic-v4)\n",
            "EnvSpec(UpNDown-ramNoFrameskip-v0)\n",
            "EnvSpec(UpNDown-ramNoFrameskip-v4)\n",
            "EnvSpec(Venture-v0)\n",
            "EnvSpec(Venture-v4)\n",
            "EnvSpec(VentureDeterministic-v0)\n",
            "EnvSpec(VentureDeterministic-v4)\n",
            "EnvSpec(VentureNoFrameskip-v0)\n",
            "EnvSpec(VentureNoFrameskip-v4)\n",
            "EnvSpec(Venture-ram-v0)\n",
            "EnvSpec(Venture-ram-v4)\n",
            "EnvSpec(Venture-ramDeterministic-v0)\n",
            "EnvSpec(Venture-ramDeterministic-v4)\n",
            "EnvSpec(Venture-ramNoFrameskip-v0)\n",
            "EnvSpec(Venture-ramNoFrameskip-v4)\n",
            "EnvSpec(VideoPinball-v0)\n",
            "EnvSpec(VideoPinball-v4)\n",
            "EnvSpec(VideoPinballDeterministic-v0)\n",
            "EnvSpec(VideoPinballDeterministic-v4)\n",
            "EnvSpec(VideoPinballNoFrameskip-v0)\n",
            "EnvSpec(VideoPinballNoFrameskip-v4)\n",
            "EnvSpec(VideoPinball-ram-v0)\n",
            "EnvSpec(VideoPinball-ram-v4)\n",
            "EnvSpec(VideoPinball-ramDeterministic-v0)\n",
            "EnvSpec(VideoPinball-ramDeterministic-v4)\n",
            "EnvSpec(VideoPinball-ramNoFrameskip-v0)\n",
            "EnvSpec(VideoPinball-ramNoFrameskip-v4)\n",
            "EnvSpec(WizardOfWor-v0)\n",
            "EnvSpec(WizardOfWor-v4)\n",
            "EnvSpec(WizardOfWorDeterministic-v0)\n",
            "EnvSpec(WizardOfWorDeterministic-v4)\n",
            "EnvSpec(WizardOfWorNoFrameskip-v0)\n",
            "EnvSpec(WizardOfWorNoFrameskip-v4)\n",
            "EnvSpec(WizardOfWor-ram-v0)\n",
            "EnvSpec(WizardOfWor-ram-v4)\n",
            "EnvSpec(WizardOfWor-ramDeterministic-v0)\n",
            "EnvSpec(WizardOfWor-ramDeterministic-v4)\n",
            "EnvSpec(WizardOfWor-ramNoFrameskip-v0)\n",
            "EnvSpec(WizardOfWor-ramNoFrameskip-v4)\n",
            "EnvSpec(YarsRevenge-v0)\n",
            "EnvSpec(YarsRevenge-v4)\n",
            "EnvSpec(YarsRevengeDeterministic-v0)\n",
            "EnvSpec(YarsRevengeDeterministic-v4)\n",
            "EnvSpec(YarsRevengeNoFrameskip-v0)\n",
            "EnvSpec(YarsRevengeNoFrameskip-v4)\n",
            "EnvSpec(YarsRevenge-ram-v0)\n",
            "EnvSpec(YarsRevenge-ram-v4)\n",
            "EnvSpec(YarsRevenge-ramDeterministic-v0)\n",
            "EnvSpec(YarsRevenge-ramDeterministic-v4)\n",
            "EnvSpec(YarsRevenge-ramNoFrameskip-v0)\n",
            "EnvSpec(YarsRevenge-ramNoFrameskip-v4)\n",
            "EnvSpec(Zaxxon-v0)\n",
            "EnvSpec(Zaxxon-v4)\n",
            "EnvSpec(ZaxxonDeterministic-v0)\n",
            "EnvSpec(ZaxxonDeterministic-v4)\n",
            "EnvSpec(ZaxxonNoFrameskip-v0)\n",
            "EnvSpec(ZaxxonNoFrameskip-v4)\n",
            "EnvSpec(Zaxxon-ram-v0)\n",
            "EnvSpec(Zaxxon-ram-v4)\n",
            "EnvSpec(Zaxxon-ramDeterministic-v0)\n",
            "EnvSpec(Zaxxon-ramDeterministic-v4)\n",
            "EnvSpec(Zaxxon-ramNoFrameskip-v0)\n",
            "EnvSpec(Zaxxon-ramNoFrameskip-v4)\n",
            "EnvSpec(CubeCrash-v0)\n",
            "EnvSpec(CubeCrashSparse-v0)\n",
            "EnvSpec(CubeCrashScreenBecomesBlack-v0)\n",
            "EnvSpec(MemorizeDigits-v0)\n"
          ]
        }
      ]
    },
    {
      "cell_type": "markdown",
      "source": [
        "for rendering"
      ],
      "metadata": {
        "id": "oEd8xm6TSFUj"
      }
    },
    {
      "cell_type": "code",
      "source": [
        "from pyvirtualdisplay import Display\n",
        "display = Display(visible=0, size=(1400, 900))\n",
        "display.start()"
      ],
      "metadata": {
        "colab": {
          "base_uri": "https://localhost:8080/"
        },
        "id": "bYFHu5XiSGdd",
        "outputId": "741878dc-b88a-47bc-fd57-96996274d9e4"
      },
      "execution_count": 41,
      "outputs": [
        {
          "output_type": "execute_result",
          "data": {
            "text/plain": [
              "<pyvirtualdisplay.display.Display at 0x7ff3870c9c50>"
            ]
          },
          "metadata": {},
          "execution_count": 41
        }
      ]
    },
    {
      "cell_type": "code",
      "source": [
        "# This code creates a virtual display to draw game images on. \n",
        "# If you are running locally, just ignore it\n",
        "import os\n",
        "if type(os.environ.get(\"DISPLAY\")) is not str or len(os.environ.get(\"DISPLAY\"))==0:\n",
        "    !bash ../xvfb start\n",
        "    %env DISPLAY=:1"
      ],
      "metadata": {
        "id": "IMDqOpFvSIuY"
      },
      "execution_count": 42,
      "outputs": []
    },
    {
      "cell_type": "code",
      "source": [
        "import gym\n",
        "from gym import logger as gymlogger\n",
        "from gym.wrappers import Monitor\n",
        "gymlogger.set_level(40) # error only\n",
        "\n",
        "\n",
        "import numpy as np\n",
        "import random\n",
        "import matplotlib\n",
        "import matplotlib.pyplot as plt\n",
        "%matplotlib inline\n",
        "import math\n",
        "import glob\n",
        "import io\n",
        "import base64\n",
        "from IPython.display import HTML\n",
        "\n",
        "from IPython import display as ipythondisplay"
      ],
      "metadata": {
        "id": "KPT366xHSN8I"
      },
      "execution_count": 43,
      "outputs": []
    },
    {
      "cell_type": "code",
      "source": [
        "\"\"\"\n",
        "Utility functions to enable video recording of gym environment and displaying it\n",
        "To enable video, just do \"env = wrap_env(env)\"\"\n",
        "\"\"\"\n",
        "\n",
        "def show_video():\n",
        "  mp4list = glob.glob('video/*.mp4')\n",
        "  if len(mp4list) > 0:\n",
        "    mp4 = mp4list[0]\n",
        "    video = io.open(mp4, 'r+b').read()\n",
        "    encoded = base64.b64encode(video)\n",
        "    ipythondisplay.display(HTML(data='''<video alt=\"test\" autoplay \n",
        "                loop controls style=\"height: 400px;\">\n",
        "                <source src=\"data:video/mp4;base64,{0}\" type=\"video/mp4\" />\n",
        "             </video>'''.format(encoded.decode('ascii'))))\n",
        "  else: \n",
        "    print(\"Could not find video\")\n",
        "    \n",
        "\n",
        "def wrap_env(env):\n",
        "  env = Monitor(env, './video', force=True)\n",
        "  return env"
      ],
      "metadata": {
        "id": "RYxqHNcSSRZv"
      },
      "execution_count": 44,
      "outputs": []
    },
    {
      "cell_type": "code",
      "source": [
        "!pip install pyglet==1.5.11"
      ],
      "metadata": {
        "colab": {
          "base_uri": "https://localhost:8080/"
        },
        "id": "MVphUL9OSTJp",
        "outputId": "8afd79e8-4595-4fbe-bb16-b8a09ff75f46"
      },
      "execution_count": 45,
      "outputs": [
        {
          "output_type": "stream",
          "name": "stdout",
          "text": [
            "Collecting pyglet==1.5.11\n",
            "  Downloading pyglet-1.5.11-py3-none-any.whl (1.1 MB)\n",
            "\u001b[?25l\r\u001b[K     |▎                               | 10 kB 22.7 MB/s eta 0:00:01\r\u001b[K     |▋                               | 20 kB 27.3 MB/s eta 0:00:01\r\u001b[K     |█                               | 30 kB 14.3 MB/s eta 0:00:01\r\u001b[K     |█▏                              | 40 kB 9.0 MB/s eta 0:00:01\r\u001b[K     |█▌                              | 51 kB 7.6 MB/s eta 0:00:01\r\u001b[K     |█▉                              | 61 kB 8.9 MB/s eta 0:00:01\r\u001b[K     |██                              | 71 kB 9.4 MB/s eta 0:00:01\r\u001b[K     |██▍                             | 81 kB 8.6 MB/s eta 0:00:01\r\u001b[K     |██▊                             | 92 kB 9.4 MB/s eta 0:00:01\r\u001b[K     |███                             | 102 kB 9.6 MB/s eta 0:00:01\r\u001b[K     |███▎                            | 112 kB 9.6 MB/s eta 0:00:01\r\u001b[K     |███▋                            | 122 kB 9.6 MB/s eta 0:00:01\r\u001b[K     |████                            | 133 kB 9.6 MB/s eta 0:00:01\r\u001b[K     |████▏                           | 143 kB 9.6 MB/s eta 0:00:01\r\u001b[K     |████▌                           | 153 kB 9.6 MB/s eta 0:00:01\r\u001b[K     |████▉                           | 163 kB 9.6 MB/s eta 0:00:01\r\u001b[K     |█████▏                          | 174 kB 9.6 MB/s eta 0:00:01\r\u001b[K     |█████▍                          | 184 kB 9.6 MB/s eta 0:00:01\r\u001b[K     |█████▊                          | 194 kB 9.6 MB/s eta 0:00:01\r\u001b[K     |██████                          | 204 kB 9.6 MB/s eta 0:00:01\r\u001b[K     |██████▎                         | 215 kB 9.6 MB/s eta 0:00:01\r\u001b[K     |██████▋                         | 225 kB 9.6 MB/s eta 0:00:01\r\u001b[K     |███████                         | 235 kB 9.6 MB/s eta 0:00:01\r\u001b[K     |███████▏                        | 245 kB 9.6 MB/s eta 0:00:01\r\u001b[K     |███████▌                        | 256 kB 9.6 MB/s eta 0:00:01\r\u001b[K     |███████▉                        | 266 kB 9.6 MB/s eta 0:00:01\r\u001b[K     |████████▏                       | 276 kB 9.6 MB/s eta 0:00:01\r\u001b[K     |████████▍                       | 286 kB 9.6 MB/s eta 0:00:01\r\u001b[K     |████████▊                       | 296 kB 9.6 MB/s eta 0:00:01\r\u001b[K     |█████████                       | 307 kB 9.6 MB/s eta 0:00:01\r\u001b[K     |█████████▎                      | 317 kB 9.6 MB/s eta 0:00:01\r\u001b[K     |█████████▋                      | 327 kB 9.6 MB/s eta 0:00:01\r\u001b[K     |██████████                      | 337 kB 9.6 MB/s eta 0:00:01\r\u001b[K     |██████████▎                     | 348 kB 9.6 MB/s eta 0:00:01\r\u001b[K     |██████████▌                     | 358 kB 9.6 MB/s eta 0:00:01\r\u001b[K     |██████████▉                     | 368 kB 9.6 MB/s eta 0:00:01\r\u001b[K     |███████████▏                    | 378 kB 9.6 MB/s eta 0:00:01\r\u001b[K     |███████████▍                    | 389 kB 9.6 MB/s eta 0:00:01\r\u001b[K     |███████████▊                    | 399 kB 9.6 MB/s eta 0:00:01\r\u001b[K     |████████████                    | 409 kB 9.6 MB/s eta 0:00:01\r\u001b[K     |████████████▍                   | 419 kB 9.6 MB/s eta 0:00:01\r\u001b[K     |████████████▋                   | 430 kB 9.6 MB/s eta 0:00:01\r\u001b[K     |█████████████                   | 440 kB 9.6 MB/s eta 0:00:01\r\u001b[K     |█████████████▎                  | 450 kB 9.6 MB/s eta 0:00:01\r\u001b[K     |█████████████▌                  | 460 kB 9.6 MB/s eta 0:00:01\r\u001b[K     |█████████████▉                  | 471 kB 9.6 MB/s eta 0:00:01\r\u001b[K     |██████████████▏                 | 481 kB 9.6 MB/s eta 0:00:01\r\u001b[K     |██████████████▍                 | 491 kB 9.6 MB/s eta 0:00:01\r\u001b[K     |██████████████▊                 | 501 kB 9.6 MB/s eta 0:00:01\r\u001b[K     |███████████████                 | 512 kB 9.6 MB/s eta 0:00:01\r\u001b[K     |███████████████▍                | 522 kB 9.6 MB/s eta 0:00:01\r\u001b[K     |███████████████▋                | 532 kB 9.6 MB/s eta 0:00:01\r\u001b[K     |████████████████                | 542 kB 9.6 MB/s eta 0:00:01\r\u001b[K     |████████████████▎               | 552 kB 9.6 MB/s eta 0:00:01\r\u001b[K     |████████████████▌               | 563 kB 9.6 MB/s eta 0:00:01\r\u001b[K     |████████████████▉               | 573 kB 9.6 MB/s eta 0:00:01\r\u001b[K     |█████████████████▏              | 583 kB 9.6 MB/s eta 0:00:01\r\u001b[K     |█████████████████▌              | 593 kB 9.6 MB/s eta 0:00:01\r\u001b[K     |█████████████████▊              | 604 kB 9.6 MB/s eta 0:00:01\r\u001b[K     |██████████████████              | 614 kB 9.6 MB/s eta 0:00:01\r\u001b[K     |██████████████████▍             | 624 kB 9.6 MB/s eta 0:00:01\r\u001b[K     |██████████████████▋             | 634 kB 9.6 MB/s eta 0:00:01\r\u001b[K     |███████████████████             | 645 kB 9.6 MB/s eta 0:00:01\r\u001b[K     |███████████████████▎            | 655 kB 9.6 MB/s eta 0:00:01\r\u001b[K     |███████████████████▋            | 665 kB 9.6 MB/s eta 0:00:01\r\u001b[K     |███████████████████▉            | 675 kB 9.6 MB/s eta 0:00:01\r\u001b[K     |████████████████████▏           | 686 kB 9.6 MB/s eta 0:00:01\r\u001b[K     |████████████████████▌           | 696 kB 9.6 MB/s eta 0:00:01\r\u001b[K     |████████████████████▊           | 706 kB 9.6 MB/s eta 0:00:01\r\u001b[K     |█████████████████████           | 716 kB 9.6 MB/s eta 0:00:01\r\u001b[K     |█████████████████████▍          | 727 kB 9.6 MB/s eta 0:00:01\r\u001b[K     |█████████████████████▋          | 737 kB 9.6 MB/s eta 0:00:01\r\u001b[K     |██████████████████████          | 747 kB 9.6 MB/s eta 0:00:01\r\u001b[K     |██████████████████████▎         | 757 kB 9.6 MB/s eta 0:00:01\r\u001b[K     |██████████████████████▋         | 768 kB 9.6 MB/s eta 0:00:01\r\u001b[K     |██████████████████████▉         | 778 kB 9.6 MB/s eta 0:00:01\r\u001b[K     |███████████████████████▏        | 788 kB 9.6 MB/s eta 0:00:01\r\u001b[K     |███████████████████████▌        | 798 kB 9.6 MB/s eta 0:00:01\r\u001b[K     |███████████████████████▊        | 808 kB 9.6 MB/s eta 0:00:01\r\u001b[K     |████████████████████████        | 819 kB 9.6 MB/s eta 0:00:01\r\u001b[K     |████████████████████████▍       | 829 kB 9.6 MB/s eta 0:00:01\r\u001b[K     |████████████████████████▊       | 839 kB 9.6 MB/s eta 0:00:01\r\u001b[K     |█████████████████████████       | 849 kB 9.6 MB/s eta 0:00:01\r\u001b[K     |█████████████████████████▎      | 860 kB 9.6 MB/s eta 0:00:01\r\u001b[K     |█████████████████████████▋      | 870 kB 9.6 MB/s eta 0:00:01\r\u001b[K     |█████████████████████████▉      | 880 kB 9.6 MB/s eta 0:00:01\r\u001b[K     |██████████████████████████▏     | 890 kB 9.6 MB/s eta 0:00:01\r\u001b[K     |██████████████████████████▌     | 901 kB 9.6 MB/s eta 0:00:01\r\u001b[K     |██████████████████████████▊     | 911 kB 9.6 MB/s eta 0:00:01\r\u001b[K     |███████████████████████████     | 921 kB 9.6 MB/s eta 0:00:01\r\u001b[K     |███████████████████████████▍    | 931 kB 9.6 MB/s eta 0:00:01\r\u001b[K     |███████████████████████████▊    | 942 kB 9.6 MB/s eta 0:00:01\r\u001b[K     |████████████████████████████    | 952 kB 9.6 MB/s eta 0:00:01\r\u001b[K     |████████████████████████████▎   | 962 kB 9.6 MB/s eta 0:00:01\r\u001b[K     |████████████████████████████▋   | 972 kB 9.6 MB/s eta 0:00:01\r\u001b[K     |████████████████████████████▉   | 983 kB 9.6 MB/s eta 0:00:01\r\u001b[K     |█████████████████████████████▏  | 993 kB 9.6 MB/s eta 0:00:01\r\u001b[K     |█████████████████████████████▌  | 1.0 MB 9.6 MB/s eta 0:00:01\r\u001b[K     |█████████████████████████████▉  | 1.0 MB 9.6 MB/s eta 0:00:01\r\u001b[K     |██████████████████████████████  | 1.0 MB 9.6 MB/s eta 0:00:01\r\u001b[K     |██████████████████████████████▍ | 1.0 MB 9.6 MB/s eta 0:00:01\r\u001b[K     |██████████████████████████████▊ | 1.0 MB 9.6 MB/s eta 0:00:01\r\u001b[K     |███████████████████████████████ | 1.1 MB 9.6 MB/s eta 0:00:01\r\u001b[K     |███████████████████████████████▎| 1.1 MB 9.6 MB/s eta 0:00:01\r\u001b[K     |███████████████████████████████▋| 1.1 MB 9.6 MB/s eta 0:00:01\r\u001b[K     |████████████████████████████████| 1.1 MB 9.6 MB/s eta 0:00:01\r\u001b[K     |████████████████████████████████| 1.1 MB 9.6 MB/s \n",
            "\u001b[?25hInstalling collected packages: pyglet\n",
            "  Attempting uninstall: pyglet\n",
            "    Found existing installation: pyglet 1.5.0\n",
            "    Uninstalling pyglet-1.5.0:\n",
            "      Successfully uninstalled pyglet-1.5.0\n",
            "\u001b[31mERROR: pip's dependency resolver does not currently take into account all the packages that are installed. This behaviour is the source of the following dependency conflicts.\n",
            "gym 0.17.3 requires pyglet<=1.5.0,>=1.4.0, but you have pyglet 1.5.11 which is incompatible.\u001b[0m\n",
            "Successfully installed pyglet-1.5.11\n"
          ]
        }
      ]
    },
    {
      "cell_type": "markdown",
      "source": [
        "## Exploring OpenAI Gym Environments"
      ],
      "metadata": {
        "id": "PB_UmSXESX7f"
      }
    },
    {
      "cell_type": "code",
      "source": [
        "\"\"\"\n",
        "import gym\n",
        "env = gym.make(\"LunarLander-v2\")\n",
        "observation, info = env.reset(seed=42, return_info=True)\n",
        "for _ in range(1000):\n",
        "    env.render()\n",
        "    action = policy(observation)\n",
        "    observation, reward, done, info = env.step(action)\n",
        "\n",
        "    if done:\n",
        "        observation, info = env.reset(return_info=True)\n",
        "env.close()\n",
        "\"\"\""
      ],
      "metadata": {
        "id": "bDkldK9G7q2e",
        "colab": {
          "base_uri": "https://localhost:8080/",
          "height": 53
        },
        "outputId": "ca3b26d6-9f25-46a0-fa9d-d98d985942a8"
      },
      "execution_count": 46,
      "outputs": [
        {
          "output_type": "execute_result",
          "data": {
            "text/plain": [
              "'\\nimport gym\\nenv = gym.make(\"LunarLander-v2\")\\nobservation, info = env.reset(seed=42, return_info=True)\\nfor _ in range(1000):\\n    env.render()\\n    action = policy(observation)\\n    observation, reward, done, info = env.step(action)\\n\\n    if done:\\n        observation, info = env.reset(return_info=True)\\nenv.close()\\n'"
            ],
            "application/vnd.google.colaboratory.intrinsic+json": {
              "type": "string"
            }
          },
          "metadata": {},
          "execution_count": 46
        }
      ]
    },
    {
      "cell_type": "code",
      "source": [
        "import gym\n",
        "import pyglet\n",
        "env = gym.make('CartPole-v1')\n",
        "env.reset()\n",
        "plt.imshow(env.render('rgb_array'))\n",
        "print(\"Action space:\",env.action_space)\n",
        "print(\"Observation space:\",env.observation_space)"
      ],
      "metadata": {
        "colab": {
          "base_uri": "https://localhost:8080/",
          "height": 306
        },
        "id": "fB0hiX3vSazY",
        "outputId": "99d45717-e872-4a07-afae-2ef5411fb7a2"
      },
      "execution_count": 47,
      "outputs": [
        {
          "output_type": "stream",
          "name": "stdout",
          "text": [
            "Action space: Discrete(2)\n",
            "Observation space: Box(-3.4028234663852886e+38, 3.4028234663852886e+38, (4,), float32)\n"
          ]
        },
        {
          "output_type": "display_data",
          "data": {
            "text/plain": [
              "<Figure size 432x288 with 1 Axes>"
            ],
            "image/png": "[encoded data removed]"
          },
          "metadata": {
            "needs_background": "light"
          }
        }
      ]
    },
    {
      "cell_type": "code",
      "source": [
        "import urllib.request\n",
        "urllib.request.urlretrieve('http://www.atarimania.com/roms/Roms.rar','Roms.rar')\n",
        "!pip install unrar\n",
        "!unrar x Roms.rar\n",
        "!mkdir rars\n",
        "!mv HC\\ ROMS.zip   rars\n",
        "!mv ROMS.zip  rars\n",
        "!python -m atari_py.import_roms rars"
      ],
      "metadata": {
        "colab": {
          "base_uri": "https://localhost:8080/"
        },
        "id": "_Oxvf7gfcMEm",
        "outputId": "44d9f1af-6d24-44be-eef7-c32b83d9a9a2"
      },
      "execution_count": 95,
      "outputs": [
        {
          "output_type": "stream",
          "name": "stdout",
          "text": [
            "Collecting unrar\n",
            "  Downloading unrar-0.4-py3-none-any.whl (25 kB)\n",
            "Installing collected packages: unrar\n",
            "Successfully installed unrar-0.4\n",
            "\n",
            "UNRAR 5.50 freeware      Copyright (c) 1993-2017 Alexander Roshal\n",
            "\n",
            "\n",
            "Extracting from Roms.rar\n",
            "\n",
            "Extracting  HC ROMS.zip                                                  \b\b\b\b 36%\b\b\b\b\b  OK \n",
            "Extracting  ROMS.zip                                                     \b\b\b\b 74%\b\b\b\b 99%\b\b\b\b\b  OK \n",
            "All OK\n",
            "copying adventure.bin from HC ROMS/BY ALPHABET (PAL)/A-G/Adventure (PAL).bin to /usr/local/lib/python3.7/dist-packages/atari_py/atari_roms/adventure.bin\n",
            "copying air_raid.bin from HC ROMS/BY ALPHABET (PAL)/A-G/Air Raid (PAL).bin to /usr/local/lib/python3.7/dist-packages/atari_py/atari_roms/air_raid.bin\n",
            "copying alien.bin from HC ROMS/BY ALPHABET (PAL)/A-G/REMAINING NTSC ORIGINALS/Alien.bin to /usr/local/lib/python3.7/dist-packages/atari_py/atari_roms/alien.bin\n",
            "copying crazy_climber.bin from HC ROMS/BY ALPHABET (PAL)/A-G/REMAINING NTSC ORIGINALS/Crazy Climber.bin to /usr/local/lib/python3.7/dist-packages/atari_py/atari_roms/crazy_climber.bin\n",
            "copying elevator_action.bin from HC ROMS/BY ALPHABET (PAL)/A-G/REMAINING NTSC ORIGINALS/Elevator Action (Prototype).bin to /usr/local/lib/python3.7/dist-packages/atari_py/atari_roms/elevator_action.bin\n",
            "copying gravitar.bin from HC ROMS/BY ALPHABET (PAL)/A-G/REMAINING NTSC ORIGINALS/Gravitar.bin to /usr/local/lib/python3.7/dist-packages/atari_py/atari_roms/gravitar.bin\n",
            "copying keystone_kapers.bin from HC ROMS/BY ALPHABET (PAL)/H-R/Keystone Kapers (PAL).bin to /usr/local/lib/python3.7/dist-packages/atari_py/atari_roms/keystone_kapers.bin\n",
            "copying king_kong.bin from HC ROMS/BY ALPHABET (PAL)/H-R/King Kong (PAL).bin to /usr/local/lib/python3.7/dist-packages/atari_py/atari_roms/king_kong.bin\n",
            "copying laser_gates.bin from HC ROMS/BY ALPHABET (PAL)/H-R/Laser Gates (PAL).bin to /usr/local/lib/python3.7/dist-packages/atari_py/atari_roms/laser_gates.bin\n",
            "copying mr_do.bin from HC ROMS/BY ALPHABET (PAL)/H-R/Mr. Do! (PAL).bin to /usr/local/lib/python3.7/dist-packages/atari_py/atari_roms/mr_do.bin\n",
            "copying pacman.bin from HC ROMS/BY ALPHABET (PAL)/H-R/Pac-Man (PAL).bin to /usr/local/lib/python3.7/dist-packages/atari_py/atari_roms/pacman.bin\n",
            "copying jamesbond.bin from HC ROMS/BY ALPHABET (PAL)/H-R/REMAINING NTSC ORIGINALS/James Bond 007.bin to /usr/local/lib/python3.7/dist-packages/atari_py/atari_roms/jamesbond.bin\n",
            "copying koolaid.bin from HC ROMS/BY ALPHABET (PAL)/H-R/REMAINING NTSC ORIGINALS/Kool-Aid Man.bin to /usr/local/lib/python3.7/dist-packages/atari_py/atari_roms/koolaid.bin\n",
            "copying krull.bin from HC ROMS/BY ALPHABET (PAL)/H-R/REMAINING NTSC ORIGINALS/Krull.bin to /usr/local/lib/python3.7/dist-packages/atari_py/atari_roms/krull.bin\n",
            "copying montezuma_revenge.bin from HC ROMS/BY ALPHABET (PAL)/H-R/REMAINING NTSC ORIGINALS/Montezuma's Revenge - Featuring Panama Joe.bin to /usr/local/lib/python3.7/dist-packages/atari_py/atari_roms/montezuma_revenge.bin\n",
            "copying star_gunner.bin from HC ROMS/BY ALPHABET (PAL)/S-Z/REMAINING NTSC ORIGINALS/Stargunner.bin to /usr/local/lib/python3.7/dist-packages/atari_py/atari_roms/star_gunner.bin\n",
            "copying time_pilot.bin from HC ROMS/BY ALPHABET (PAL)/S-Z/REMAINING NTSC ORIGINALS/Time Pilot.bin to /usr/local/lib/python3.7/dist-packages/atari_py/atari_roms/time_pilot.bin\n",
            "copying up_n_down.bin from HC ROMS/BY ALPHABET (PAL)/S-Z/REMAINING NTSC ORIGINALS/Up 'n Down.bin to /usr/local/lib/python3.7/dist-packages/atari_py/atari_roms/up_n_down.bin\n",
            "copying sir_lancelot.bin from HC ROMS/BY ALPHABET (PAL)/S-Z/Sir Lancelot (PAL).bin to /usr/local/lib/python3.7/dist-packages/atari_py/atari_roms/sir_lancelot.bin\n",
            "copying amidar.bin from HC ROMS/BY ALPHABET/A-G/Amidar.bin to /usr/local/lib/python3.7/dist-packages/atari_py/atari_roms/amidar.bin\n",
            "copying asteroids.bin from HC ROMS/BY ALPHABET/A-G/Asteroids [no copyright].bin to /usr/local/lib/python3.7/dist-packages/atari_py/atari_roms/asteroids.bin\n",
            "copying atlantis.bin from HC ROMS/BY ALPHABET/A-G/Atlantis.bin to /usr/local/lib/python3.7/dist-packages/atari_py/atari_roms/atlantis.bin\n",
            "copying bank_heist.bin from HC ROMS/BY ALPHABET/A-G/Bank Heist.bin to /usr/local/lib/python3.7/dist-packages/atari_py/atari_roms/bank_heist.bin\n",
            "copying battle_zone.bin from HC ROMS/BY ALPHABET/A-G/Battlezone.bin to /usr/local/lib/python3.7/dist-packages/atari_py/atari_roms/battle_zone.bin\n",
            "copying beam_rider.bin from HC ROMS/BY ALPHABET/A-G/Beamrider.bin to /usr/local/lib/python3.7/dist-packages/atari_py/atari_roms/beam_rider.bin\n",
            "copying berzerk.bin from HC ROMS/BY ALPHABET/A-G/Berzerk.bin to /usr/local/lib/python3.7/dist-packages/atari_py/atari_roms/berzerk.bin\n",
            "copying bowling.bin from HC ROMS/BY ALPHABET/A-G/Bowling.bin to /usr/local/lib/python3.7/dist-packages/atari_py/atari_roms/bowling.bin\n",
            "copying boxing.bin from HC ROMS/BY ALPHABET/A-G/Boxing.bin to /usr/local/lib/python3.7/dist-packages/atari_py/atari_roms/boxing.bin\n",
            "copying breakout.bin from HC ROMS/BY ALPHABET/A-G/Breakout - Breakaway IV.bin to /usr/local/lib/python3.7/dist-packages/atari_py/atari_roms/breakout.bin\n",
            "copying carnival.bin from HC ROMS/BY ALPHABET/A-G/Carnival.bin to /usr/local/lib/python3.7/dist-packages/atari_py/atari_roms/carnival.bin\n",
            "copying centipede.bin from HC ROMS/BY ALPHABET/A-G/Centipede.bin to /usr/local/lib/python3.7/dist-packages/atari_py/atari_roms/centipede.bin\n",
            "copying chopper_command.bin from HC ROMS/BY ALPHABET/A-G/Chopper Command.bin to /usr/local/lib/python3.7/dist-packages/atari_py/atari_roms/chopper_command.bin\n",
            "copying defender.bin from HC ROMS/BY ALPHABET/A-G/Defender.bin to /usr/local/lib/python3.7/dist-packages/atari_py/atari_roms/defender.bin\n",
            "copying demon_attack.bin from HC ROMS/BY ALPHABET/A-G/Demon Attack.bin to /usr/local/lib/python3.7/dist-packages/atari_py/atari_roms/demon_attack.bin\n",
            "copying donkey_kong.bin from HC ROMS/BY ALPHABET/A-G/Donkey Kong.bin to /usr/local/lib/python3.7/dist-packages/atari_py/atari_roms/donkey_kong.bin\n",
            "copying double_dunk.bin from HC ROMS/BY ALPHABET/A-G/Double Dunk.bin to /usr/local/lib/python3.7/dist-packages/atari_py/atari_roms/double_dunk.bin\n",
            "copying enduro.bin from HC ROMS/BY ALPHABET/A-G/Enduro.bin to /usr/local/lib/python3.7/dist-packages/atari_py/atari_roms/enduro.bin\n",
            "copying fishing_derby.bin from HC ROMS/BY ALPHABET/A-G/Fishing Derby.bin to /usr/local/lib/python3.7/dist-packages/atari_py/atari_roms/fishing_derby.bin\n",
            "copying freeway.bin from HC ROMS/BY ALPHABET/A-G/Freeway.bin to /usr/local/lib/python3.7/dist-packages/atari_py/atari_roms/freeway.bin\n",
            "copying frogger.bin from HC ROMS/BY ALPHABET/A-G/Frogger.bin to /usr/local/lib/python3.7/dist-packages/atari_py/atari_roms/frogger.bin\n",
            "copying frostbite.bin from HC ROMS/BY ALPHABET/A-G/Frostbite.bin to /usr/local/lib/python3.7/dist-packages/atari_py/atari_roms/frostbite.bin\n",
            "copying galaxian.bin from HC ROMS/BY ALPHABET/A-G/Galaxian.bin to /usr/local/lib/python3.7/dist-packages/atari_py/atari_roms/galaxian.bin\n",
            "copying gopher.bin from HC ROMS/BY ALPHABET/A-G/Gopher.bin to /usr/local/lib/python3.7/dist-packages/atari_py/atari_roms/gopher.bin\n",
            "copying hero.bin from HC ROMS/BY ALPHABET/H-R/H.E.R.O..bin to /usr/local/lib/python3.7/dist-packages/atari_py/atari_roms/hero.bin\n",
            "copying ice_hockey.bin from HC ROMS/BY ALPHABET/H-R/Ice Hockey.bin to /usr/local/lib/python3.7/dist-packages/atari_py/atari_roms/ice_hockey.bin\n",
            "copying journey_escape.bin from HC ROMS/BY ALPHABET/H-R/Journey Escape.bin to /usr/local/lib/python3.7/dist-packages/atari_py/atari_roms/journey_escape.bin\n",
            "copying kaboom.bin from HC ROMS/BY ALPHABET/H-R/Kaboom!.bin to /usr/local/lib/python3.7/dist-packages/atari_py/atari_roms/kaboom.bin\n",
            "copying kangaroo.bin from HC ROMS/BY ALPHABET/H-R/Kangaroo.bin to /usr/local/lib/python3.7/dist-packages/atari_py/atari_roms/kangaroo.bin\n",
            "copying kung_fu_master.bin from HC ROMS/BY ALPHABET/H-R/Kung-Fu Master.bin to /usr/local/lib/python3.7/dist-packages/atari_py/atari_roms/kung_fu_master.bin\n",
            "copying lost_luggage.bin from HC ROMS/BY ALPHABET/H-R/Lost Luggage [no opening scene].bin to /usr/local/lib/python3.7/dist-packages/atari_py/atari_roms/lost_luggage.bin\n",
            "copying ms_pacman.bin from HC ROMS/BY ALPHABET/H-R/Ms. Pac-Man.bin to /usr/local/lib/python3.7/dist-packages/atari_py/atari_roms/ms_pacman.bin\n",
            "copying name_this_game.bin from HC ROMS/BY ALPHABET/H-R/Name This Game.bin to /usr/local/lib/python3.7/dist-packages/atari_py/atari_roms/name_this_game.bin\n",
            "copying phoenix.bin from HC ROMS/BY ALPHABET/H-R/Phoenix.bin to /usr/local/lib/python3.7/dist-packages/atari_py/atari_roms/phoenix.bin\n",
            "copying pitfall.bin from HC ROMS/BY ALPHABET/H-R/Pitfall! - Pitfall Harry's Jungle Adventure.bin to /usr/local/lib/python3.7/dist-packages/atari_py/atari_roms/pitfall.bin\n",
            "copying pooyan.bin from HC ROMS/BY ALPHABET/H-R/Pooyan.bin to /usr/local/lib/python3.7/dist-packages/atari_py/atari_roms/pooyan.bin\n",
            "copying private_eye.bin from HC ROMS/BY ALPHABET/H-R/Private Eye.bin to /usr/local/lib/python3.7/dist-packages/atari_py/atari_roms/private_eye.bin\n",
            "copying qbert.bin from HC ROMS/BY ALPHABET/H-R/Q-bert.bin to /usr/local/lib/python3.7/dist-packages/atari_py/atari_roms/qbert.bin\n",
            "copying riverraid.bin from HC ROMS/BY ALPHABET/H-R/River Raid.bin to /usr/local/lib/python3.7/dist-packages/atari_py/atari_roms/riverraid.bin\n",
            "copying road_runner.bin from patched version of HC ROMS/BY ALPHABET/H-R/Road Runner.bin to /usr/local/lib/python3.7/dist-packages/atari_py/atari_roms/road_runner.bin\n",
            "copying robotank.bin from HC ROMS/BY ALPHABET/H-R/Robot Tank.bin to /usr/local/lib/python3.7/dist-packages/atari_py/atari_roms/robotank.bin\n",
            "copying seaquest.bin from HC ROMS/BY ALPHABET/S-Z/Seaquest.bin to /usr/local/lib/python3.7/dist-packages/atari_py/atari_roms/seaquest.bin\n",
            "copying skiing.bin from HC ROMS/BY ALPHABET/S-Z/Skiing.bin to /usr/local/lib/python3.7/dist-packages/atari_py/atari_roms/skiing.bin\n",
            "copying solaris.bin from HC ROMS/BY ALPHABET/S-Z/Solaris.bin to /usr/local/lib/python3.7/dist-packages/atari_py/atari_roms/solaris.bin\n",
            "copying space_invaders.bin from HC ROMS/BY ALPHABET/S-Z/Space Invaders.bin to /usr/local/lib/python3.7/dist-packages/atari_py/atari_roms/space_invaders.bin\n",
            "copying surround.bin from HC ROMS/BY ALPHABET/S-Z/Surround - Chase.bin to /usr/local/lib/python3.7/dist-packages/atari_py/atari_roms/surround.bin\n",
            "copying tennis.bin from HC ROMS/BY ALPHABET/S-Z/Tennis.bin to /usr/local/lib/python3.7/dist-packages/atari_py/atari_roms/tennis.bin\n",
            "copying trondead.bin from HC ROMS/BY ALPHABET/S-Z/TRON - Deadly Discs.bin to /usr/local/lib/python3.7/dist-packages/atari_py/atari_roms/trondead.bin\n",
            "copying tutankham.bin from HC ROMS/BY ALPHABET/S-Z/Tutankham.bin to /usr/local/lib/python3.7/dist-packages/atari_py/atari_roms/tutankham.bin\n",
            "copying venture.bin from HC ROMS/BY ALPHABET/S-Z/Venture.bin to /usr/local/lib/python3.7/dist-packages/atari_py/atari_roms/venture.bin\n",
            "copying pong.bin from HC ROMS/BY ALPHABET/S-Z/Video Olympics - Pong Sports.bin to /usr/local/lib/python3.7/dist-packages/atari_py/atari_roms/pong.bin\n",
            "copying video_pinball.bin from HC ROMS/BY ALPHABET/S-Z/Video Pinball - Arcade Pinball.bin to /usr/local/lib/python3.7/dist-packages/atari_py/atari_roms/video_pinball.bin\n",
            "copying wizard_of_wor.bin from HC ROMS/BY ALPHABET/S-Z/Wizard of Wor.bin to /usr/local/lib/python3.7/dist-packages/atari_py/atari_roms/wizard_of_wor.bin\n",
            "copying yars_revenge.bin from HC ROMS/BY ALPHABET/S-Z/Yars' Revenge.bin to /usr/local/lib/python3.7/dist-packages/atari_py/atari_roms/yars_revenge.bin\n",
            "copying zaxxon.bin from HC ROMS/BY ALPHABET/S-Z/Zaxxon.bin to /usr/local/lib/python3.7/dist-packages/atari_py/atari_roms/zaxxon.bin\n",
            "copying assault.bin from HC ROMS/NTSC VERSIONS OF PAL ORIGINALS/Assault (AKA Sky Alien) (1983) (Bomb - Onbase) (CA281).bin to /usr/local/lib/python3.7/dist-packages/atari_py/atari_roms/assault.bin\n",
            "copying asterix.bin from ROMS/Asterix (AKA Taz) (07-27-1983) (Atari, Jerome Domurat, Steve Woita) (CX2696) (Prototype).bin to /usr/local/lib/python3.7/dist-packages/atari_py/atari_roms/asterix.bin\n"
          ]
        }
      ]
    },
    {
      "cell_type": "code",
      "source": [
        "!pip install gym[box2d]"
      ],
      "metadata": {
        "colab": {
          "base_uri": "https://localhost:8080/",
          "height": 136
        },
        "id": "m36SiMi4S7aq",
        "outputId": "de36d85b-b952-4111-8bc5-0cd6f8a8a5f2"
      },
      "execution_count": 94,
      "outputs": [
        {
          "output_type": "error",
          "ename": "SyntaxError",
          "evalue": "ignored",
          "traceback": [
            "\u001b[0;36m  File \u001b[0;32m\"<ipython-input-94-6c66a9f279f2>\"\u001b[0;36m, line \u001b[0;32m3\u001b[0m\n\u001b[0;31m    python -m atari_py.import_roms\u001b[0m\n\u001b[0m                     ^\u001b[0m\n\u001b[0;31mSyntaxError\u001b[0m\u001b[0;31m:\u001b[0m invalid syntax\n"
          ]
        }
      ]
    },
    {
      "cell_type": "code",
      "source": [
        "env = gym.make('Breakout-v0')\n",
        "\n",
        "plt.imshow(env.render('rgb_array'))\n",
        "plt.show()\n",
        "print(\"Observation space:\", env.observation_space)\n",
        "print(\"Action space:\", env.action_space)\n",
        "print(env.env.get_action_meanings())"
      ],
      "metadata": {
        "colab": {
          "base_uri": "https://localhost:8080/",
          "height": 324
        },
        "id": "Oi8cCva1TIrU",
        "outputId": "2799c94c-5a82-4d58-d3d4-2ea775d7c808"
      },
      "execution_count": 96,
      "outputs": [
        {
          "output_type": "display_data",
          "data": {
            "text/plain": [
              "<Figure size 432x288 with 1 Axes>"
            ],
            "image/png": "[encoded data removed]"
          },
          "metadata": {
            "needs_background": "light"
          }
        },
        {
          "output_type": "stream",
          "name": "stdout",
          "text": [
            "Observation space: Box(0, 255, (210, 160, 3), uint8)\n",
            "Action space: Discrete(4)\n",
            "['NOOP', 'FIRE', 'RIGHT', 'LEFT']\n"
          ]
        }
      ]
    },
    {
      "cell_type": "markdown",
      "source": [
        "## Implementing DQN & Solving grid-world environment"
      ],
      "metadata": {
        "id": "y6z4isdRq1Z9"
      }
    },
    {
      "cell_type": "markdown",
      "source": [
        "## Deterministic Env"
      ],
      "metadata": {
        "id": "U3Xavmw2t2Tk"
      }
    },
    {
      "cell_type": "code",
      "source": [
        "import gym\n",
        "import numpy as np\n",
        "from gym import spaces\n",
        "import matplotlib.pyplot as plt\n",
        "from google.colab import widgets\n",
        "import time"
      ],
      "metadata": {
        "id": "5pqhqTXdufy6"
      },
      "execution_count": 7,
      "outputs": []
    },
    {
      "cell_type": "code",
      "source": [
        "grid = np.zeros((4,4))\n",
        "print(grid)"
      ],
      "metadata": {
        "colab": {
          "base_uri": "https://localhost:8080/"
        },
        "id": "uvCHGxuquRpA",
        "outputId": "2e905090-e48b-404a-a2d5-b400ee93ef84"
      },
      "execution_count": 8,
      "outputs": [
        {
          "output_type": "stream",
          "name": "stdout",
          "text": [
            "[[0. 0. 0. 0.]\n",
            " [0. 0. 0. 0.]\n",
            " [0. 0. 0. 0.]\n",
            " [0. 0. 0. 0.]]\n"
          ]
        }
      ]
    },
    {
      "cell_type": "code",
      "source": [
        "grid = np.zeros((4, 4))\n",
        "pos1 = [0, 0]\n",
        "pos2 = [3, 3]\n",
        "\n",
        "reward1 = [0,3]\n",
        "reward2 = [1,3]\n",
        "reward3 = [2,2]\n",
        "reward4 = [3,2]\n",
        "\n",
        "grid[tuple(pos1)] = 1\n",
        "grid[tuple(pos2)] = 0.5\n",
        "grid[tuple(reward1)] = 0.25\n",
        "grid[tuple(reward2)] = 0.25\n",
        "grid[tuple(reward3)] = 0.25\n",
        "grid[tuple(reward4)] = 0.25\n",
        "\n",
        "print(grid)"
      ],
      "metadata": {
        "colab": {
          "base_uri": "https://localhost:8080/"
        },
        "id": "9C92zAeBuTAr",
        "outputId": "b74c431b-3932-48b6-8d37-9322b632dfc8"
      },
      "execution_count": 9,
      "outputs": [
        {
          "output_type": "stream",
          "name": "stdout",
          "text": [
            "[[1.   0.   0.   0.25]\n",
            " [0.   0.   0.   0.25]\n",
            " [0.   0.   0.25 0.  ]\n",
            " [0.   0.   0.25 0.5 ]]\n"
          ]
        }
      ]
    },
    {
      "cell_type": "code",
      "source": [
        "from google.colab import widgets\n",
        "import time\n",
        "\n",
        "output_grid = widgets.Grid(1, 1)\n",
        "for _ in range(5):\n",
        "  grid = np.zeros((4, 4))\n",
        "  grid[np.random.randint(4), np.random.randint(4)] = 1\n",
        "  with output_grid.output_to(0, 0):\n",
        "    output_grid.clear_cell()\n",
        "    plt.imshow(grid)\n",
        "  time.sleep(1)"
      ],
      "metadata": {
        "colab": {
          "base_uri": "https://localhost:8080/",
          "height": 273
        },
        "id": "kCvVNJ-buVja",
        "outputId": "dadf303b-1bb1-43f9-c386-f6c1c4bd84bf"
      },
      "execution_count": 10,
      "outputs": [
        {
          "output_type": "display_data",
          "data": {
            "text/plain": [
              "<IPython.core.display.HTML object>"
            ],
            "text/html": [
              "<style>\n",
              "       table#id2, #id2 > tbody > tr > th, #id2 > tbody > tr > td {\n",
              "         border: 1px solid lightgray;\n",
              "         border-collapse:collapse;\n",
              "         \n",
              "        }</style>"
            ]
          },
          "metadata": {}
        },
        {
          "output_type": "display_data",
          "data": {
            "text/plain": [
              "<IPython.core.display.HTML object>"
            ],
            "text/html": [
              "<table id=id2><tr><td id=id2-0-0></td></tr></table>"
            ]
          },
          "metadata": {}
        },
        {
          "output_type": "display_data",
          "data": {
            "text/plain": [
              "<IPython.core.display.Javascript object>"
            ],
            "application/javascript": [
              "window[\"eeb30000-b091-11ec-957c-0242ac1c0002\"] = google.colab.output.getActiveOutputArea();\n",
              "//# sourceURL=js_34e6459f17"
            ]
          },
          "metadata": {}
        },
        {
          "output_type": "display_data",
          "data": {
            "text/plain": [
              "<IPython.core.display.Javascript object>"
            ],
            "application/javascript": [
              "window[\"eeb34b0a-b091-11ec-957c-0242ac1c0002\"] = document.querySelector(\"#id2-0-0\");\n",
              "//# sourceURL=js_2d3176e516"
            ]
          },
          "metadata": {}
        },
        {
          "output_type": "display_data",
          "data": {
            "text/plain": [
              "<IPython.core.display.Javascript object>"
            ],
            "application/javascript": [
              "window[\"eeb3fcf8-b091-11ec-957c-0242ac1c0002\"] = google.colab.output.setActiveOutputArea(window[\"eeb34b0a-b091-11ec-957c-0242ac1c0002\"]);\n",
              "//# sourceURL=js_0deacc7f69"
            ]
          },
          "metadata": {}
        },
        {
          "output_type": "display_data",
          "data": {
            "text/plain": [
              "<IPython.core.display.Javascript object>"
            ],
            "application/javascript": [
              "window[\"eeca66d2-b091-11ec-957c-0242ac1c0002\"] = google.colab.output.setActiveOutputArea(window[\"eeb30000-b091-11ec-957c-0242ac1c0002\"]);\n",
              "//# sourceURL=js_5a631b59dd"
            ]
          },
          "metadata": {}
        },
        {
          "output_type": "display_data",
          "data": {
            "text/plain": [
              "<IPython.core.display.Javascript object>"
            ],
            "application/javascript": [
              "window[\"ef6618f2-b091-11ec-957c-0242ac1c0002\"] = google.colab.output.getActiveOutputArea();\n",
              "//# sourceURL=js_0cb2ecbb62"
            ]
          },
          "metadata": {}
        },
        {
          "output_type": "display_data",
          "data": {
            "text/plain": [
              "<IPython.core.display.Javascript object>"
            ],
            "application/javascript": [
              "window[\"ef668e68-b091-11ec-957c-0242ac1c0002\"] = document.querySelector(\"#id2-0-0\");\n",
              "//# sourceURL=js_01a1c42354"
            ]
          },
          "metadata": {}
        },
        {
          "output_type": "display_data",
          "data": {
            "text/plain": [
              "<IPython.core.display.Javascript object>"
            ],
            "application/javascript": [
              "window[\"ef66d83c-b091-11ec-957c-0242ac1c0002\"] = google.colab.output.setActiveOutputArea(window[\"ef668e68-b091-11ec-957c-0242ac1c0002\"]);\n",
              "//# sourceURL=js_952d3eec8e"
            ]
          },
          "metadata": {}
        },
        {
          "output_type": "display_data",
          "data": {
            "text/plain": [
              "<IPython.core.display.Javascript object>"
            ],
            "application/javascript": [
              "window[\"ef7b9a38-b091-11ec-957c-0242ac1c0002\"] = google.colab.output.setActiveOutputArea(window[\"ef6618f2-b091-11ec-957c-0242ac1c0002\"]);\n",
              "//# sourceURL=js_808205cc14"
            ]
          },
          "metadata": {}
        },
        {
          "output_type": "display_data",
          "data": {
            "text/plain": [
              "<IPython.core.display.Javascript object>"
            ],
            "application/javascript": [
              "window[\"f017011c-b091-11ec-957c-0242ac1c0002\"] = google.colab.output.getActiveOutputArea();\n",
              "//# sourceURL=js_dd4788204d"
            ]
          },
          "metadata": {}
        },
        {
          "output_type": "display_data",
          "data": {
            "text/plain": [
              "<IPython.core.display.Javascript object>"
            ],
            "application/javascript": [
              "window[\"f0173f74-b091-11ec-957c-0242ac1c0002\"] = document.querySelector(\"#id2-0-0\");\n",
              "//# sourceURL=js_76b3b5bc4f"
            ]
          },
          "metadata": {}
        },
        {
          "output_type": "display_data",
          "data": {
            "text/plain": [
              "<IPython.core.display.Javascript object>"
            ],
            "application/javascript": [
              "window[\"f01775ac-b091-11ec-957c-0242ac1c0002\"] = google.colab.output.setActiveOutputArea(window[\"f0173f74-b091-11ec-957c-0242ac1c0002\"]);\n",
              "//# sourceURL=js_485db1f32b"
            ]
          },
          "metadata": {}
        },
        {
          "output_type": "display_data",
          "data": {
            "text/plain": [
              "<IPython.core.display.Javascript object>"
            ],
            "application/javascript": [
              "window[\"f02b5bf8-b091-11ec-957c-0242ac1c0002\"] = google.colab.output.setActiveOutputArea(window[\"f017011c-b091-11ec-957c-0242ac1c0002\"]);\n",
              "//# sourceURL=js_2db62c8a4d"
            ]
          },
          "metadata": {}
        },
        {
          "output_type": "display_data",
          "data": {
            "text/plain": [
              "<IPython.core.display.Javascript object>"
            ],
            "application/javascript": [
              "window[\"f0c5d502-b091-11ec-957c-0242ac1c0002\"] = google.colab.output.getActiveOutputArea();\n",
              "//# sourceURL=js_2a2a0b8442"
            ]
          },
          "metadata": {}
        },
        {
          "output_type": "display_data",
          "data": {
            "text/plain": [
              "<IPython.core.display.Javascript object>"
            ],
            "application/javascript": [
              "window[\"f0c61b48-b091-11ec-957c-0242ac1c0002\"] = document.querySelector(\"#id2-0-0\");\n",
              "//# sourceURL=js_c7064fe351"
            ]
          },
          "metadata": {}
        },
        {
          "output_type": "display_data",
          "data": {
            "text/plain": [
              "<IPython.core.display.Javascript object>"
            ],
            "application/javascript": [
              "window[\"f0c669f4-b091-11ec-957c-0242ac1c0002\"] = google.colab.output.setActiveOutputArea(window[\"f0c61b48-b091-11ec-957c-0242ac1c0002\"]);\n",
              "//# sourceURL=js_0b524d570e"
            ]
          },
          "metadata": {}
        },
        {
          "output_type": "display_data",
          "data": {
            "text/plain": [
              "<IPython.core.display.Javascript object>"
            ],
            "application/javascript": [
              "window[\"f0db120a-b091-11ec-957c-0242ac1c0002\"] = google.colab.output.setActiveOutputArea(window[\"f0c5d502-b091-11ec-957c-0242ac1c0002\"]);\n",
              "//# sourceURL=js_3212e9e6f3"
            ]
          },
          "metadata": {}
        },
        {
          "output_type": "display_data",
          "data": {
            "text/plain": [
              "<IPython.core.display.Javascript object>"
            ],
            "application/javascript": [
              "window[\"f1762f24-b091-11ec-957c-0242ac1c0002\"] = google.colab.output.getActiveOutputArea();\n",
              "//# sourceURL=js_6066b2d804"
            ]
          },
          "metadata": {}
        },
        {
          "output_type": "display_data",
          "data": {
            "text/plain": [
              "<IPython.core.display.Javascript object>"
            ],
            "application/javascript": [
              "window[\"f1767eca-b091-11ec-957c-0242ac1c0002\"] = document.querySelector(\"#id2-0-0\");\n",
              "//# sourceURL=js_03e51fe3d5"
            ]
          },
          "metadata": {}
        },
        {
          "output_type": "display_data",
          "data": {
            "text/plain": [
              "<IPython.core.display.Javascript object>"
            ],
            "application/javascript": [
              "window[\"f176f3b4-b091-11ec-957c-0242ac1c0002\"] = google.colab.output.setActiveOutputArea(window[\"f1767eca-b091-11ec-957c-0242ac1c0002\"]);\n",
              "//# sourceURL=js_627182b972"
            ]
          },
          "metadata": {}
        },
        {
          "output_type": "display_data",
          "data": {
            "text/plain": [
              "<Figure size 432x288 with 1 Axes>"
            ],
            "image/png": "[encoded data removed]"
          },
          "metadata": {
            "needs_background": "light"
          }
        },
        {
          "output_type": "display_data",
          "data": {
            "text/plain": [
              "<IPython.core.display.Javascript object>"
            ],
            "application/javascript": [
              "window[\"f18ef900-b091-11ec-957c-0242ac1c0002\"] = google.colab.output.setActiveOutputArea(window[\"f1762f24-b091-11ec-957c-0242ac1c0002\"]);\n",
              "//# sourceURL=js_eb80286da4"
            ]
          },
          "metadata": {}
        }
      ]
    },
    {
      "cell_type": "code",
      "source": [
        "class DGridEnvironment(gym.Env):\n",
        "    metadata = {'render.modes': []}\n",
        "    \n",
        "    def __init__(self):\n",
        "        self.observation_space = spaces.Discrete(16)\n",
        "        self.action_space = spaces.Discrete(4)\n",
        "        self.max_timestep = 50000\n",
        "        self.rewards = [[0,3],[1,3],[2,2],[3,2]]\n",
        "        \n",
        "    def reset(self):\n",
        "        self.timestep = 0\n",
        "        self.agent_pos = [0,0]\n",
        "        self.goal_pos = [3,3]\n",
        "        self.state = np.zeros((4,4))\n",
        "        self.state[tuple(self.agent_pos)] = 1\n",
        "        self.state[tuple(self.goal_pos)] = 0.5\n",
        "        for i in self.rewards :\n",
        "          self.state[tuple(i)] = 0.25\n",
        "        observation = self.agent_pos #I changed it self.state.flatten() to self.agent_pos to use it in algorithm\n",
        "        return observation\n",
        "    \n",
        "    def step(self, action):\n",
        "        if action == 0:           \n",
        "          self.agent_pos[0] += 1 #down\n",
        "          if self.agent_pos[0] > 3:\n",
        "            self.agent_pos[0] = 3 \n",
        "        if action == 1:           \n",
        "          self.agent_pos[0] -= 1 #up\n",
        "          if self.agent_pos[0] < 0:\n",
        "            self.agent_pos[0] = 0 \n",
        "        if action == 2:\n",
        "          self.agent_pos[1] += 1 #right\n",
        "          if self.agent_pos[1] > 3:\n",
        "            self.agent_pos[1] = 3\n",
        "        if action == 3:\n",
        "          self.agent_pos[1] -= 1 #left\n",
        "          if self.agent_pos[1] < 0:\n",
        "            self.agent_pos[1] = 0  \n",
        "\n",
        "        self.agent_pos = np.clip(self.agent_pos, 0, 3)\n",
        "        self.state = np.zeros((4,4))\n",
        "        self.state[tuple(self.agent_pos)] = 1\n",
        "        self.state[tuple(self.goal_pos)] = 0.5\n",
        "        for i in self.rewards :\n",
        "          self.state[tuple(i)] = 0.25\n",
        "        observation = self.agent_pos #I changed it self.state.flatten() to self.agent_pos to use it in algorithm\n",
        "        \n",
        "        reward = 0\n",
        "        if (self.agent_pos == self.goal_pos).all():\n",
        "          reward = 10\n",
        "        elif (self.agent_pos == self.rewards[0]).all():\n",
        "          reward = 2\n",
        "        elif (self.agent_pos == self.rewards[1]).all():\n",
        "          reward = 4\n",
        "        elif (self.agent_pos == self.rewards[2]).all():\n",
        "          reward = 6\n",
        "        elif (self.agent_pos == self.rewards[3]).all():\n",
        "          reward = 8\n",
        "        else:\n",
        "          reward = -1\n",
        "        \n",
        "        self.timestep += 1\n",
        "        done = True if self.timestep >= self.max_timestep or (self.agent_pos == self.goal_pos).all() else False\n",
        "        info = {}\n",
        "        \n",
        "        return observation, reward, done, info\n",
        "        \n",
        "    def render(self):\n",
        "        plt.imshow(self.state)"
      ],
      "metadata": {
        "id": "90hfTbqMq6G2"
      },
      "execution_count": 82,
      "outputs": []
    },
    {
      "cell_type": "code",
      "source": [
        "class RandomAgent:\n",
        "  def __init__(self, env):\n",
        "    self.env = env\n",
        "    self.observation_space = env.observation_space\n",
        "    self.action_space = env.action_space\n",
        "\n",
        "  def step(self, observation):\n",
        "    return np.random.choice(self.action_space.n)"
      ],
      "metadata": {
        "id": "7tjMRYJKt5vD"
      },
      "execution_count": 66,
      "outputs": []
    },
    {
      "cell_type": "code",
      "source": [
        "env = DGridEnvironment()\n",
        "agent = RandomAgent(env)\n",
        "\n",
        "obs = env.reset()\n",
        "done = False\n",
        "\n",
        "output_grid = widgets.Grid(1, 1)\n",
        "with output_grid.output_to(0, 0):\n",
        "  env.render()\n",
        "\n",
        "\n",
        "for i in range(100):\n",
        "  action = agent.step(obs)\n",
        "  obs, reward, done, _= env.step(action)\n",
        "  with output_grid.output_to(0, 0):\n",
        "    output_grid.clear_cell()\n",
        "    env.render()"
      ],
      "metadata": {
        "colab": {
          "base_uri": "https://localhost:8080/",
          "height": 273
        },
        "id": "YKax_Y1it8D3",
        "outputId": "59b40b46-fe40-4d3d-b2bb-66c7d045d285"
      },
      "execution_count": 83,
      "outputs": [
        {
          "output_type": "display_data",
          "data": {
            "text/plain": [
              "<IPython.core.display.HTML object>"
            ],
            "text/html": [
              "<style>\n",
              "       table#id10, #id10 > tbody > tr > th, #id10 > tbody > tr > td {\n",
              "         border: 1px solid lightgray;\n",
              "         border-collapse:collapse;\n",
              "         \n",
              "        }</style>"
            ]
          },
          "metadata": {}
        },
        {
          "output_type": "display_data",
          "data": {
            "text/plain": [
              "<IPython.core.display.HTML object>"
            ],
            "text/html": [
              "<table id=id10><tr><td id=id10-0-0></td></tr></table>"
            ]
          },
          "metadata": {}
        },
        {
          "output_type": "display_data",
          "data": {
            "text/plain": [
              "<IPython.core.display.Javascript object>"
            ],
            "application/javascript": [
              "window[\"0e5b6a0a-b097-11ec-957c-0242ac1c0002\"] = google.colab.output.getActiveOutputArea();\n",
              "//# sourceURL=js_081e89fa3d"
            ]
          },
          "metadata": {}
        },
        {
          "output_type": "display_data",
          "data": {
            "text/plain": [
              "<IPython.core.display.Javascript object>"
            ],
            "application/javascript": [
              "window[\"0e5c245e-b097-11ec-957c-0242ac1c0002\"] = document.querySelector(\"#id10-0-0\");\n",
              "//# sourceURL=js_1edb4fc758"
            ]
          },
          "metadata": {}
        },
        {
          "output_type": "display_data",
          "data": {
            "text/plain": [
              "<IPython.core.display.Javascript object>"
            ],
            "application/javascript": [
              "window[\"0e5c7b2a-b097-11ec-957c-0242ac1c0002\"] = google.colab.output.setActiveOutputArea(window[\"0e5c245e-b097-11ec-957c-0242ac1c0002\"]);\n",
              "//# sourceURL=js_a20f2eeeae"
            ]
          },
          "metadata": {}
        },
        {
          "output_type": "display_data",
          "data": {
            "text/plain": [
              "<IPython.core.display.Javascript object>"
            ],
            "application/javascript": [
              "window[\"0e714d8e-b097-11ec-957c-0242ac1c0002\"] = google.colab.output.setActiveOutputArea(window[\"0e5b6a0a-b097-11ec-957c-0242ac1c0002\"]);\n",
              "//# sourceURL=js_d13c1a6634"
            ]
          },
          "metadata": {}
        },
        {
          "output_type": "display_data",
          "data": {
            "text/plain": [
              "<IPython.core.display.Javascript object>"
            ],
            "application/javascript": [
              "window[\"0e74ab32-b097-11ec-957c-0242ac1c0002\"] = google.colab.output.getActiveOutputArea();\n",
              "//# sourceURL=js_26ac2d7f65"
            ]
          },
          "metadata": {}
        },
        {
          "output_type": "display_data",
          "data": {
            "text/plain": [
              "<IPython.core.display.Javascript object>"
            ],
            "application/javascript": [
              "window[\"0e75215c-b097-11ec-957c-0242ac1c0002\"] = document.querySelector(\"#id10-0-0\");\n",
              "//# sourceURL=js_d74ecdaa38"
            ]
          },
          "metadata": {}
        },
        {
          "output_type": "display_data",
          "data": {
            "text/plain": [
              "<IPython.core.display.Javascript object>"
            ],
            "application/javascript": [
              "window[\"0e75b248-b097-11ec-957c-0242ac1c0002\"] = google.colab.output.setActiveOutputArea(window[\"0e75215c-b097-11ec-957c-0242ac1c0002\"]);\n",
              "//# sourceURL=js_de36f19399"
            ]
          },
          "metadata": {}
        },
        {
          "output_type": "display_data",
          "data": {
            "text/plain": [
              "<IPython.core.display.Javascript object>"
            ],
            "application/javascript": [
              "window[\"0e87aeb2-b097-11ec-957c-0242ac1c0002\"] = google.colab.output.setActiveOutputArea(window[\"0e74ab32-b097-11ec-957c-0242ac1c0002\"]);\n",
              "//# sourceURL=js_e003ea435c"
            ]
          },
          "metadata": {}
        },
        {
          "output_type": "display_data",
          "data": {
            "text/plain": [
              "<IPython.core.display.Javascript object>"
            ],
            "application/javascript": [
              "window[\"0e898ae8-b097-11ec-957c-0242ac1c0002\"] = google.colab.output.getActiveOutputArea();\n",
              "//# sourceURL=js_0b939cae30"
            ]
          },
          "metadata": {}
        },
        {
          "output_type": "display_data",
          "data": {
            "text/plain": [
              "<IPython.core.display.Javascript object>"
            ],
            "application/javascript": [
              "window[\"0e89c698-b097-11ec-957c-0242ac1c0002\"] = document.querySelector(\"#id10-0-0\");\n",
              "//# sourceURL=js_9462a524fc"
            ]
          },
          "metadata": {}
        },
        {
          "output_type": "display_data",
          "data": {
            "text/plain": [
              "<IPython.core.display.Javascript object>"
            ],
            "application/javascript": [
              "window[\"0e8a07c0-b097-11ec-957c-0242ac1c0002\"] = google.colab.output.setActiveOutputArea(window[\"0e89c698-b097-11ec-957c-0242ac1c0002\"]);\n",
              "//# sourceURL=js_2addca8b3f"
            ]
          },
          "metadata": {}
        },
        {
          "output_type": "display_data",
          "data": {
            "text/plain": [
              "<IPython.core.display.Javascript object>"
            ],
            "application/javascript": [
              "window[\"0e9dcca6-b097-11ec-957c-0242ac1c0002\"] = google.colab.output.setActiveOutputArea(window[\"0e898ae8-b097-11ec-957c-0242ac1c0002\"]);\n",
              "//# sourceURL=js_f4e344fed8"
            ]
          },
          "metadata": {}
        },
        {
          "output_type": "display_data",
          "data": {
            "text/plain": [
              "<IPython.core.display.Javascript object>"
            ],
            "application/javascript": [
              "window[\"0e9fa6fc-b097-11ec-957c-0242ac1c0002\"] = google.colab.output.getActiveOutputArea();\n",
              "//# sourceURL=js_b30efffdb8"
            ]
          },
          "metadata": {}
        },
        {
          "output_type": "display_data",
          "data": {
            "text/plain": [
              "<IPython.core.display.Javascript object>"
            ],
            "application/javascript": [
              "window[\"0e9feafe-b097-11ec-957c-0242ac1c0002\"] = document.querySelector(\"#id10-0-0\");\n",
              "//# sourceURL=js_bd2b8b06cf"
            ]
          },
          "metadata": {}
        },
        {
          "output_type": "display_data",
          "data": {
            "text/plain": [
              "<IPython.core.display.Javascript object>"
            ],
            "application/javascript": [
              "window[\"0ea02c76-b097-11ec-957c-0242ac1c0002\"] = google.colab.output.setActiveOutputArea(window[\"0e9feafe-b097-11ec-957c-0242ac1c0002\"]);\n",
              "//# sourceURL=js_c2b781a558"
            ]
          },
          "metadata": {}
        },
        {
          "output_type": "display_data",
          "data": {
            "text/plain": [
              "<IPython.core.display.Javascript object>"
            ],
            "application/javascript": [
              "window[\"0eb29820-b097-11ec-957c-0242ac1c0002\"] = google.colab.output.setActiveOutputArea(window[\"0e9fa6fc-b097-11ec-957c-0242ac1c0002\"]);\n",
              "//# sourceURL=js_f573922f02"
            ]
          },
          "metadata": {}
        },
        {
          "output_type": "display_data",
          "data": {
            "text/plain": [
              "<IPython.core.display.Javascript object>"
            ],
            "application/javascript": [
              "window[\"0eb5bfe6-b097-11ec-957c-0242ac1c0002\"] = google.colab.output.getActiveOutputArea();\n",
              "//# sourceURL=js_2d101925b9"
            ]
          },
          "metadata": {}
        },
        {
          "output_type": "display_data",
          "data": {
            "text/plain": [
              "<IPython.core.display.Javascript object>"
            ],
            "application/javascript": [
              "window[\"0eb63534-b097-11ec-957c-0242ac1c0002\"] = document.querySelector(\"#id10-0-0\");\n",
              "//# sourceURL=js_4c85860c75"
            ]
          },
          "metadata": {}
        },
        {
          "output_type": "display_data",
          "data": {
            "text/plain": [
              "<IPython.core.display.Javascript object>"
            ],
            "application/javascript": [
              "window[\"0eb6d908-b097-11ec-957c-0242ac1c0002\"] = google.colab.output.setActiveOutputArea(window[\"0eb63534-b097-11ec-957c-0242ac1c0002\"]);\n",
              "//# sourceURL=js_17ab1bb6c2"
            ]
          },
          "metadata": {}
        },
        {
          "output_type": "display_data",
          "data": {
            "text/plain": [
              "<IPython.core.display.Javascript object>"
            ],
            "application/javascript": [
              "window[\"0eca51d6-b097-11ec-957c-0242ac1c0002\"] = google.colab.output.setActiveOutputArea(window[\"0eb5bfe6-b097-11ec-957c-0242ac1c0002\"]);\n",
              "//# sourceURL=js_ee8916b04f"
            ]
          },
          "metadata": {}
        },
        {
          "output_type": "display_data",
          "data": {
            "text/plain": [
              "<IPython.core.display.Javascript object>"
            ],
            "application/javascript": [
              "window[\"0ecbec4e-b097-11ec-957c-0242ac1c0002\"] = google.colab.output.getActiveOutputArea();\n",
              "//# sourceURL=js_0cf8de0356"
            ]
          },
          "metadata": {}
        },
        {
          "output_type": "display_data",
          "data": {
            "text/plain": [
              "<IPython.core.display.Javascript object>"
            ],
            "application/javascript": [
              "window[\"0ecc2a7e-b097-11ec-957c-0242ac1c0002\"] = document.querySelector(\"#id10-0-0\");\n",
              "//# sourceURL=js_6e34060a49"
            ]
          },
          "metadata": {}
        },
        {
          "output_type": "display_data",
          "data": {
            "text/plain": [
              "<IPython.core.display.Javascript object>"
            ],
            "application/javascript": [
              "window[\"0ecc684a-b097-11ec-957c-0242ac1c0002\"] = google.colab.output.setActiveOutputArea(window[\"0ecc2a7e-b097-11ec-957c-0242ac1c0002\"]);\n",
              "//# sourceURL=js_2771c88b71"
            ]
          },
          "metadata": {}
        },
        {
          "output_type": "display_data",
          "data": {
            "text/plain": [
              "<IPython.core.display.Javascript object>"
            ],
            "application/javascript": [
              "window[\"0eeaf1b6-b097-11ec-957c-0242ac1c0002\"] = google.colab.output.setActiveOutputArea(window[\"0ecbec4e-b097-11ec-957c-0242ac1c0002\"]);\n",
              "//# sourceURL=js_0083f0a2f6"
            ]
          },
          "metadata": {}
        },
        {
          "output_type": "display_data",
          "data": {
            "text/plain": [
              "<IPython.core.display.Javascript object>"
            ],
            "application/javascript": [
              "window[\"0eedd85e-b097-11ec-957c-0242ac1c0002\"] = google.colab.output.getActiveOutputArea();\n",
              "//# sourceURL=js_299edcd767"
            ]
          },
          "metadata": {}
        },
        {
          "output_type": "display_data",
          "data": {
            "text/plain": [
              "<IPython.core.display.Javascript object>"
            ],
            "application/javascript": [
              "window[\"0eee406e-b097-11ec-957c-0242ac1c0002\"] = document.querySelector(\"#id10-0-0\");\n",
              "//# sourceURL=js_2a46973c86"
            ]
          },
          "metadata": {}
        },
        {
          "output_type": "display_data",
          "data": {
            "text/plain": [
              "<IPython.core.display.Javascript object>"
            ],
            "application/javascript": [
              "window[\"0eeef2fc-b097-11ec-957c-0242ac1c0002\"] = google.colab.output.setActiveOutputArea(window[\"0eee406e-b097-11ec-957c-0242ac1c0002\"]);\n",
              "//# sourceURL=js_21d3bf94b0"
            ]
          },
          "metadata": {}
        },
        {
          "output_type": "display_data",
          "data": {
            "text/plain": [
              "<IPython.core.display.Javascript object>"
            ],
            "application/javascript": [
              "window[\"0f04e3c8-b097-11ec-957c-0242ac1c0002\"] = google.colab.output.setActiveOutputArea(window[\"0eedd85e-b097-11ec-957c-0242ac1c0002\"]);\n",
              "//# sourceURL=js_dbf63537cd"
            ]
          },
          "metadata": {}
        },
        {
          "output_type": "display_data",
          "data": {
            "text/plain": [
              "<IPython.core.display.Javascript object>"
            ],
            "application/javascript": [
              "window[\"0f070752-b097-11ec-957c-0242ac1c0002\"] = google.colab.output.getActiveOutputArea();\n",
              "//# sourceURL=js_df6c26bedf"
            ]
          },
          "metadata": {}
        },
        {
          "output_type": "display_data",
          "data": {
            "text/plain": [
              "<IPython.core.display.Javascript object>"
            ],
            "application/javascript": [
              "window[\"0f07668e-b097-11ec-957c-0242ac1c0002\"] = document.querySelector(\"#id10-0-0\");\n",
              "//# sourceURL=js_71e44ecb5d"
            ]
          },
          "metadata": {}
        },
        {
          "output_type": "display_data",
          "data": {
            "text/plain": [
              "<IPython.core.display.Javascript object>"
            ],
            "application/javascript": [
              "window[\"0f07c14c-b097-11ec-957c-0242ac1c0002\"] = google.colab.output.setActiveOutputArea(window[\"0f07668e-b097-11ec-957c-0242ac1c0002\"]);\n",
              "//# sourceURL=js_33267f4cdc"
            ]
          },
          "metadata": {}
        },
        {
          "output_type": "display_data",
          "data": {
            "text/plain": [
              "<IPython.core.display.Javascript object>"
            ],
            "application/javascript": [
              "window[\"0f1a4df8-b097-11ec-957c-0242ac1c0002\"] = google.colab.output.setActiveOutputArea(window[\"0f070752-b097-11ec-957c-0242ac1c0002\"]);\n",
              "//# sourceURL=js_e428e78193"
            ]
          },
          "metadata": {}
        },
        {
          "output_type": "display_data",
          "data": {
            "text/plain": [
              "<IPython.core.display.Javascript object>"
            ],
            "application/javascript": [
              "window[\"0f1c670a-b097-11ec-957c-0242ac1c0002\"] = google.colab.output.getActiveOutputArea();\n",
              "//# sourceURL=js_7a7f4cc8f9"
            ]
          },
          "metadata": {}
        },
        {
          "output_type": "display_data",
          "data": {
            "text/plain": [
              "<IPython.core.display.Javascript object>"
            ],
            "application/javascript": [
              "window[\"0f1c9c34-b097-11ec-957c-0242ac1c0002\"] = document.querySelector(\"#id10-0-0\");\n",
              "//# sourceURL=js_a5bf944d2f"
            ]
          },
          "metadata": {}
        },
        {
          "output_type": "display_data",
          "data": {
            "text/plain": [
              "<IPython.core.display.Javascript object>"
            ],
            "application/javascript": [
              "window[\"0f1cf4fe-b097-11ec-957c-0242ac1c0002\"] = google.colab.output.setActiveOutputArea(window[\"0f1c9c34-b097-11ec-957c-0242ac1c0002\"]);\n",
              "//# sourceURL=js_9cbdb41c98"
            ]
          },
          "metadata": {}
        },
        {
          "output_type": "display_data",
          "data": {
            "text/plain": [
              "<IPython.core.display.Javascript object>"
            ],
            "application/javascript": [
              "window[\"0f2fd204-b097-11ec-957c-0242ac1c0002\"] = google.colab.output.setActiveOutputArea(window[\"0f1c670a-b097-11ec-957c-0242ac1c0002\"]);\n",
              "//# sourceURL=js_abac479649"
            ]
          },
          "metadata": {}
        },
        {
          "output_type": "display_data",
          "data": {
            "text/plain": [
              "<IPython.core.display.Javascript object>"
            ],
            "application/javascript": [
              "window[\"0f31bef2-b097-11ec-957c-0242ac1c0002\"] = google.colab.output.getActiveOutputArea();\n",
              "//# sourceURL=js_124a412f3c"
            ]
          },
          "metadata": {}
        },
        {
          "output_type": "display_data",
          "data": {
            "text/plain": [
              "<IPython.core.display.Javascript object>"
            ],
            "application/javascript": [
              "window[\"0f320b96-b097-11ec-957c-0242ac1c0002\"] = document.querySelector(\"#id10-0-0\");\n",
              "//# sourceURL=js_f1e8fbc312"
            ]
          },
          "metadata": {}
        },
        {
          "output_type": "display_data",
          "data": {
            "text/plain": [
              "<IPython.core.display.Javascript object>"
            ],
            "application/javascript": [
              "window[\"0f32593e-b097-11ec-957c-0242ac1c0002\"] = google.colab.output.setActiveOutputArea(window[\"0f320b96-b097-11ec-957c-0242ac1c0002\"]);\n",
              "//# sourceURL=js_e8dca3e6cc"
            ]
          },
          "metadata": {}
        },
        {
          "output_type": "display_data",
          "data": {
            "text/plain": [
              "<IPython.core.display.Javascript object>"
            ],
            "application/javascript": [
              "window[\"0f44bde0-b097-11ec-957c-0242ac1c0002\"] = google.colab.output.setActiveOutputArea(window[\"0f31bef2-b097-11ec-957c-0242ac1c0002\"]);\n",
              "//# sourceURL=js_9974823a67"
            ]
          },
          "metadata": {}
        },
        {
          "output_type": "display_data",
          "data": {
            "text/plain": [
              "<IPython.core.display.Javascript object>"
            ],
            "application/javascript": [
              "window[\"0f46c05e-b097-11ec-957c-0242ac1c0002\"] = google.colab.output.getActiveOutputArea();\n",
              "//# sourceURL=js_5731e29b46"
            ]
          },
          "metadata": {}
        },
        {
          "output_type": "display_data",
          "data": {
            "text/plain": [
              "<IPython.core.display.Javascript object>"
            ],
            "application/javascript": [
              "window[\"0f477c92-b097-11ec-957c-0242ac1c0002\"] = document.querySelector(\"#id10-0-0\");\n",
              "//# sourceURL=js_19ea1b6b45"
            ]
          },
          "metadata": {}
        },
        {
          "output_type": "display_data",
          "data": {
            "text/plain": [
              "<IPython.core.display.Javascript object>"
            ],
            "application/javascript": [
              "window[\"0f47e8f8-b097-11ec-957c-0242ac1c0002\"] = google.colab.output.setActiveOutputArea(window[\"0f477c92-b097-11ec-957c-0242ac1c0002\"]);\n",
              "//# sourceURL=js_cc3cadbccc"
            ]
          },
          "metadata": {}
        },
        {
          "output_type": "display_data",
          "data": {
            "text/plain": [
              "<IPython.core.display.Javascript object>"
            ],
            "application/javascript": [
              "window[\"0f5b8840-b097-11ec-957c-0242ac1c0002\"] = google.colab.output.setActiveOutputArea(window[\"0f46c05e-b097-11ec-957c-0242ac1c0002\"]);\n",
              "//# sourceURL=js_cc10afc026"
            ]
          },
          "metadata": {}
        },
        {
          "output_type": "display_data",
          "data": {
            "text/plain": [
              "<IPython.core.display.Javascript object>"
            ],
            "application/javascript": [
              "window[\"0f5e9b34-b097-11ec-957c-0242ac1c0002\"] = google.colab.output.getActiveOutputArea();\n",
              "//# sourceURL=js_ce3bf43b2a"
            ]
          },
          "metadata": {}
        },
        {
          "output_type": "display_data",
          "data": {
            "text/plain": [
              "<IPython.core.display.Javascript object>"
            ],
            "application/javascript": [
              "window[\"0f5f12d0-b097-11ec-957c-0242ac1c0002\"] = document.querySelector(\"#id10-0-0\");\n",
              "//# sourceURL=js_f7f2396dd1"
            ]
          },
          "metadata": {}
        },
        {
          "output_type": "display_data",
          "data": {
            "text/plain": [
              "<IPython.core.display.Javascript object>"
            ],
            "application/javascript": [
              "window[\"0f5fc8e2-b097-11ec-957c-0242ac1c0002\"] = google.colab.output.setActiveOutputArea(window[\"0f5f12d0-b097-11ec-957c-0242ac1c0002\"]);\n",
              "//# sourceURL=js_9aa9671642"
            ]
          },
          "metadata": {}
        },
        {
          "output_type": "display_data",
          "data": {
            "text/plain": [
              "<IPython.core.display.Javascript object>"
            ],
            "application/javascript": [
              "window[\"0f73aa9c-b097-11ec-957c-0242ac1c0002\"] = google.colab.output.setActiveOutputArea(window[\"0f5e9b34-b097-11ec-957c-0242ac1c0002\"]);\n",
              "//# sourceURL=js_0abe3c0453"
            ]
          },
          "metadata": {}
        },
        {
          "output_type": "display_data",
          "data": {
            "text/plain": [
              "<IPython.core.display.Javascript object>"
            ],
            "application/javascript": [
              "window[\"0f769180-b097-11ec-957c-0242ac1c0002\"] = google.colab.output.getActiveOutputArea();\n",
              "//# sourceURL=js_cff3419fcc"
            ]
          },
          "metadata": {}
        },
        {
          "output_type": "display_data",
          "data": {
            "text/plain": [
              "<IPython.core.display.Javascript object>"
            ],
            "application/javascript": [
              "window[\"0f77021e-b097-11ec-957c-0242ac1c0002\"] = document.querySelector(\"#id10-0-0\");\n",
              "//# sourceURL=js_496d388459"
            ]
          },
          "metadata": {}
        },
        {
          "output_type": "display_data",
          "data": {
            "text/plain": [
              "<IPython.core.display.Javascript object>"
            ],
            "application/javascript": [
              "window[\"0f7779e2-b097-11ec-957c-0242ac1c0002\"] = google.colab.output.setActiveOutputArea(window[\"0f77021e-b097-11ec-957c-0242ac1c0002\"]);\n",
              "//# sourceURL=js_d47036869c"
            ]
          },
          "metadata": {}
        },
        {
          "output_type": "display_data",
          "data": {
            "text/plain": [
              "<IPython.core.display.Javascript object>"
            ],
            "application/javascript": [
              "window[\"0f8be2ce-b097-11ec-957c-0242ac1c0002\"] = google.colab.output.setActiveOutputArea(window[\"0f769180-b097-11ec-957c-0242ac1c0002\"]);\n",
              "//# sourceURL=js_0bbfba5496"
            ]
          },
          "metadata": {}
        },
        {
          "output_type": "display_data",
          "data": {
            "text/plain": [
              "<IPython.core.display.Javascript object>"
            ],
            "application/javascript": [
              "window[\"0f8e68d2-b097-11ec-957c-0242ac1c0002\"] = google.colab.output.getActiveOutputArea();\n",
              "//# sourceURL=js_36d9daeed8"
            ]
          },
          "metadata": {}
        },
        {
          "output_type": "display_data",
          "data": {
            "text/plain": [
              "<IPython.core.display.Javascript object>"
            ],
            "application/javascript": [
              "window[\"0f8ea784-b097-11ec-957c-0242ac1c0002\"] = document.querySelector(\"#id10-0-0\");\n",
              "//# sourceURL=js_bd0d166088"
            ]
          },
          "metadata": {}
        },
        {
          "output_type": "display_data",
          "data": {
            "text/plain": [
              "<IPython.core.display.Javascript object>"
            ],
            "application/javascript": [
              "window[\"0f8eddb2-b097-11ec-957c-0242ac1c0002\"] = google.colab.output.setActiveOutputArea(window[\"0f8ea784-b097-11ec-957c-0242ac1c0002\"]);\n",
              "//# sourceURL=js_d4de3cf0e3"
            ]
          },
          "metadata": {}
        },
        {
          "output_type": "display_data",
          "data": {
            "text/plain": [
              "<IPython.core.display.Javascript object>"
            ],
            "application/javascript": [
              "window[\"0fa211e8-b097-11ec-957c-0242ac1c0002\"] = google.colab.output.setActiveOutputArea(window[\"0f8e68d2-b097-11ec-957c-0242ac1c0002\"]);\n",
              "//# sourceURL=js_6f63a3ea61"
            ]
          },
          "metadata": {}
        },
        {
          "output_type": "display_data",
          "data": {
            "text/plain": [
              "<IPython.core.display.Javascript object>"
            ],
            "application/javascript": [
              "window[\"0fa4f8d6-b097-11ec-957c-0242ac1c0002\"] = google.colab.output.getActiveOutputArea();\n",
              "//# sourceURL=js_4f3c5e620b"
            ]
          },
          "metadata": {}
        },
        {
          "output_type": "display_data",
          "data": {
            "text/plain": [
              "<IPython.core.display.Javascript object>"
            ],
            "application/javascript": [
              "window[\"0fa56208-b097-11ec-957c-0242ac1c0002\"] = document.querySelector(\"#id10-0-0\");\n",
              "//# sourceURL=js_6799377d49"
            ]
          },
          "metadata": {}
        },
        {
          "output_type": "display_data",
          "data": {
            "text/plain": [
              "<IPython.core.display.Javascript object>"
            ],
            "application/javascript": [
              "window[\"0fa60c94-b097-11ec-957c-0242ac1c0002\"] = google.colab.output.setActiveOutputArea(window[\"0fa56208-b097-11ec-957c-0242ac1c0002\"]);\n",
              "//# sourceURL=js_1980e0e9c8"
            ]
          },
          "metadata": {}
        },
        {
          "output_type": "display_data",
          "data": {
            "text/plain": [
              "<IPython.core.display.Javascript object>"
            ],
            "application/javascript": [
              "window[\"0fb926da-b097-11ec-957c-0242ac1c0002\"] = google.colab.output.setActiveOutputArea(window[\"0fa4f8d6-b097-11ec-957c-0242ac1c0002\"]);\n",
              "//# sourceURL=js_b8bf0611bf"
            ]
          },
          "metadata": {}
        },
        {
          "output_type": "display_data",
          "data": {
            "text/plain": [
              "<IPython.core.display.Javascript object>"
            ],
            "application/javascript": [
              "window[\"0fbc7736-b097-11ec-957c-0242ac1c0002\"] = google.colab.output.getActiveOutputArea();\n",
              "//# sourceURL=js_28fa615ef1"
            ]
          },
          "metadata": {}
        },
        {
          "output_type": "display_data",
          "data": {
            "text/plain": [
              "<IPython.core.display.Javascript object>"
            ],
            "application/javascript": [
              "window[\"0fbcef68-b097-11ec-957c-0242ac1c0002\"] = document.querySelector(\"#id10-0-0\");\n",
              "//# sourceURL=js_25a33bb8be"
            ]
          },
          "metadata": {}
        },
        {
          "output_type": "display_data",
          "data": {
            "text/plain": [
              "<IPython.core.display.Javascript object>"
            ],
            "application/javascript": [
              "window[\"0fbd6cd6-b097-11ec-957c-0242ac1c0002\"] = google.colab.output.setActiveOutputArea(window[\"0fbcef68-b097-11ec-957c-0242ac1c0002\"]);\n",
              "//# sourceURL=js_a62a439d10"
            ]
          },
          "metadata": {}
        },
        {
          "output_type": "display_data",
          "data": {
            "text/plain": [
              "<IPython.core.display.Javascript object>"
            ],
            "application/javascript": [
              "window[\"0fd0f76a-b097-11ec-957c-0242ac1c0002\"] = google.colab.output.setActiveOutputArea(window[\"0fbc7736-b097-11ec-957c-0242ac1c0002\"]);\n",
              "//# sourceURL=js_e0457029d8"
            ]
          },
          "metadata": {}
        },
        {
          "output_type": "display_data",
          "data": {
            "text/plain": [
              "<IPython.core.display.Javascript object>"
            ],
            "application/javascript": [
              "window[\"0fd527ea-b097-11ec-957c-0242ac1c0002\"] = google.colab.output.getActiveOutputArea();\n",
              "//# sourceURL=js_1733595123"
            ]
          },
          "metadata": {}
        },
        {
          "output_type": "display_data",
          "data": {
            "text/plain": [
              "<IPython.core.display.Javascript object>"
            ],
            "application/javascript": [
              "window[\"0fd5815e-b097-11ec-957c-0242ac1c0002\"] = document.querySelector(\"#id10-0-0\");\n",
              "//# sourceURL=js_a506c2a789"
            ]
          },
          "metadata": {}
        },
        {
          "output_type": "display_data",
          "data": {
            "text/plain": [
              "<IPython.core.display.Javascript object>"
            ],
            "application/javascript": [
              "window[\"0fd6350e-b097-11ec-957c-0242ac1c0002\"] = google.colab.output.setActiveOutputArea(window[\"0fd5815e-b097-11ec-957c-0242ac1c0002\"]);\n",
              "//# sourceURL=js_88c02a57bd"
            ]
          },
          "metadata": {}
        },
        {
          "output_type": "display_data",
          "data": {
            "text/plain": [
              "<IPython.core.display.Javascript object>"
            ],
            "application/javascript": [
              "window[\"0fea1b00-b097-11ec-957c-0242ac1c0002\"] = google.colab.output.setActiveOutputArea(window[\"0fd527ea-b097-11ec-957c-0242ac1c0002\"]);\n",
              "//# sourceURL=js_f5530e775a"
            ]
          },
          "metadata": {}
        },
        {
          "output_type": "display_data",
          "data": {
            "text/plain": [
              "<IPython.core.display.Javascript object>"
            ],
            "application/javascript": [
              "window[\"0fed6256-b097-11ec-957c-0242ac1c0002\"] = google.colab.output.getActiveOutputArea();\n",
              "//# sourceURL=js_29e3cfcead"
            ]
          },
          "metadata": {}
        },
        {
          "output_type": "display_data",
          "data": {
            "text/plain": [
              "<IPython.core.display.Javascript object>"
            ],
            "application/javascript": [
              "window[\"0fedd29a-b097-11ec-957c-0242ac1c0002\"] = document.querySelector(\"#id10-0-0\");\n",
              "//# sourceURL=js_1b25fdee50"
            ]
          },
          "metadata": {}
        },
        {
          "output_type": "display_data",
          "data": {
            "text/plain": [
              "<IPython.core.display.Javascript object>"
            ],
            "application/javascript": [
              "window[\"0fee28d0-b097-11ec-957c-0242ac1c0002\"] = google.colab.output.setActiveOutputArea(window[\"0fedd29a-b097-11ec-957c-0242ac1c0002\"]);\n",
              "//# sourceURL=js_b1d230f055"
            ]
          },
          "metadata": {}
        },
        {
          "output_type": "display_data",
          "data": {
            "text/plain": [
              "<IPython.core.display.Javascript object>"
            ],
            "application/javascript": [
              "window[\"10021b2e-b097-11ec-957c-0242ac1c0002\"] = google.colab.output.setActiveOutputArea(window[\"0fed6256-b097-11ec-957c-0242ac1c0002\"]);\n",
              "//# sourceURL=js_3cf9345569"
            ]
          },
          "metadata": {}
        },
        {
          "output_type": "display_data",
          "data": {
            "text/plain": [
              "<IPython.core.display.Javascript object>"
            ],
            "application/javascript": [
              "window[\"10047a7c-b097-11ec-957c-0242ac1c0002\"] = google.colab.output.getActiveOutputArea();\n",
              "//# sourceURL=js_3df9847c37"
            ]
          },
          "metadata": {}
        },
        {
          "output_type": "display_data",
          "data": {
            "text/plain": [
              "<IPython.core.display.Javascript object>"
            ],
            "application/javascript": [
              "window[\"1004c40a-b097-11ec-957c-0242ac1c0002\"] = document.querySelector(\"#id10-0-0\");\n",
              "//# sourceURL=js_0340eb6987"
            ]
          },
          "metadata": {}
        },
        {
          "output_type": "display_data",
          "data": {
            "text/plain": [
              "<IPython.core.display.Javascript object>"
            ],
            "application/javascript": [
              "window[\"1005157c-b097-11ec-957c-0242ac1c0002\"] = google.colab.output.setActiveOutputArea(window[\"1004c40a-b097-11ec-957c-0242ac1c0002\"]);\n",
              "//# sourceURL=js_d02a1ac595"
            ]
          },
          "metadata": {}
        },
        {
          "output_type": "display_data",
          "data": {
            "text/plain": [
              "<IPython.core.display.Javascript object>"
            ],
            "application/javascript": [
              "window[\"101938b8-b097-11ec-957c-0242ac1c0002\"] = google.colab.output.setActiveOutputArea(window[\"10047a7c-b097-11ec-957c-0242ac1c0002\"]);\n",
              "//# sourceURL=js_b9dc18bf2a"
            ]
          },
          "metadata": {}
        },
        {
          "output_type": "display_data",
          "data": {
            "text/plain": [
              "<IPython.core.display.Javascript object>"
            ],
            "application/javascript": [
              "window[\"101cacd2-b097-11ec-957c-0242ac1c0002\"] = google.colab.output.getActiveOutputArea();\n",
              "//# sourceURL=js_c18a2d12bf"
            ]
          },
          "metadata": {}
        },
        {
          "output_type": "display_data",
          "data": {
            "text/plain": [
              "<IPython.core.display.Javascript object>"
            ],
            "application/javascript": [
              "window[\"101d1f5a-b097-11ec-957c-0242ac1c0002\"] = document.querySelector(\"#id10-0-0\");\n",
              "//# sourceURL=js_cb3b29fedc"
            ]
          },
          "metadata": {}
        },
        {
          "output_type": "display_data",
          "data": {
            "text/plain": [
              "<IPython.core.display.Javascript object>"
            ],
            "application/javascript": [
              "window[\"101dfc04-b097-11ec-957c-0242ac1c0002\"] = google.colab.output.setActiveOutputArea(window[\"101d1f5a-b097-11ec-957c-0242ac1c0002\"]);\n",
              "//# sourceURL=js_61e5b42940"
            ]
          },
          "metadata": {}
        },
        {
          "output_type": "display_data",
          "data": {
            "text/plain": [
              "<IPython.core.display.Javascript object>"
            ],
            "application/javascript": [
              "window[\"1030c37a-b097-11ec-957c-0242ac1c0002\"] = google.colab.output.setActiveOutputArea(window[\"101cacd2-b097-11ec-957c-0242ac1c0002\"]);\n",
              "//# sourceURL=js_1a559ca4a7"
            ]
          },
          "metadata": {}
        },
        {
          "output_type": "display_data",
          "data": {
            "text/plain": [
              "<IPython.core.display.Javascript object>"
            ],
            "application/javascript": [
              "window[\"1032b7b6-b097-11ec-957c-0242ac1c0002\"] = google.colab.output.getActiveOutputArea();\n",
              "//# sourceURL=js_bad4feae46"
            ]
          },
          "metadata": {}
        },
        {
          "output_type": "display_data",
          "data": {
            "text/plain": [
              "<IPython.core.display.Javascript object>"
            ],
            "application/javascript": [
              "window[\"1032faa0-b097-11ec-957c-0242ac1c0002\"] = document.querySelector(\"#id10-0-0\");\n",
              "//# sourceURL=js_e4bc44a61d"
            ]
          },
          "metadata": {}
        },
        {
          "output_type": "display_data",
          "data": {
            "text/plain": [
              "<IPython.core.display.Javascript object>"
            ],
            "application/javascript": [
              "window[\"10333fe2-b097-11ec-957c-0242ac1c0002\"] = google.colab.output.setActiveOutputArea(window[\"1032faa0-b097-11ec-957c-0242ac1c0002\"]);\n",
              "//# sourceURL=js_6cf10df272"
            ]
          },
          "metadata": {}
        },
        {
          "output_type": "display_data",
          "data": {
            "text/plain": [
              "<IPython.core.display.Javascript object>"
            ],
            "application/javascript": [
              "window[\"10469a24-b097-11ec-957c-0242ac1c0002\"] = google.colab.output.setActiveOutputArea(window[\"1032b7b6-b097-11ec-957c-0242ac1c0002\"]);\n",
              "//# sourceURL=js_4da76dbdb1"
            ]
          },
          "metadata": {}
        },
        {
          "output_type": "display_data",
          "data": {
            "text/plain": [
              "<IPython.core.display.Javascript object>"
            ],
            "application/javascript": [
              "window[\"10498c8e-b097-11ec-957c-0242ac1c0002\"] = google.colab.output.getActiveOutputArea();\n",
              "//# sourceURL=js_14f100088a"
            ]
          },
          "metadata": {}
        },
        {
          "output_type": "display_data",
          "data": {
            "text/plain": [
              "<IPython.core.display.Javascript object>"
            ],
            "application/javascript": [
              "window[\"104a0146-b097-11ec-957c-0242ac1c0002\"] = document.querySelector(\"#id10-0-0\");\n",
              "//# sourceURL=js_2a09d2087a"
            ]
          },
          "metadata": {}
        },
        {
          "output_type": "display_data",
          "data": {
            "text/plain": [
              "<IPython.core.display.Javascript object>"
            ],
            "application/javascript": [
              "window[\"104a74fa-b097-11ec-957c-0242ac1c0002\"] = google.colab.output.setActiveOutputArea(window[\"104a0146-b097-11ec-957c-0242ac1c0002\"]);\n",
              "//# sourceURL=js_a50ca71803"
            ]
          },
          "metadata": {}
        },
        {
          "output_type": "display_data",
          "data": {
            "text/plain": [
              "<IPython.core.display.Javascript object>"
            ],
            "application/javascript": [
              "window[\"105e6b5e-b097-11ec-957c-0242ac1c0002\"] = google.colab.output.setActiveOutputArea(window[\"10498c8e-b097-11ec-957c-0242ac1c0002\"]);\n",
              "//# sourceURL=js_f5f9d4b88d"
            ]
          },
          "metadata": {}
        },
        {
          "output_type": "display_data",
          "data": {
            "text/plain": [
              "<IPython.core.display.Javascript object>"
            ],
            "application/javascript": [
              "window[\"1060b3d2-b097-11ec-957c-0242ac1c0002\"] = google.colab.output.getActiveOutputArea();\n",
              "//# sourceURL=js_712077a66e"
            ]
          },
          "metadata": {}
        },
        {
          "output_type": "display_data",
          "data": {
            "text/plain": [
              "<IPython.core.display.Javascript object>"
            ],
            "application/javascript": [
              "window[\"1060f1a8-b097-11ec-957c-0242ac1c0002\"] = document.querySelector(\"#id10-0-0\");\n",
              "//# sourceURL=js_b3dcbf4bab"
            ]
          },
          "metadata": {}
        },
        {
          "output_type": "display_data",
          "data": {
            "text/plain": [
              "<IPython.core.display.Javascript object>"
            ],
            "application/javascript": [
              "window[\"10612c40-b097-11ec-957c-0242ac1c0002\"] = google.colab.output.setActiveOutputArea(window[\"1060f1a8-b097-11ec-957c-0242ac1c0002\"]);\n",
              "//# sourceURL=js_6615239654"
            ]
          },
          "metadata": {}
        },
        {
          "output_type": "display_data",
          "data": {
            "text/plain": [
              "<IPython.core.display.Javascript object>"
            ],
            "application/javascript": [
              "window[\"1080e512-b097-11ec-957c-0242ac1c0002\"] = google.colab.output.setActiveOutputArea(window[\"1060b3d2-b097-11ec-957c-0242ac1c0002\"]);\n",
              "//# sourceURL=js_e1c19ab7ee"
            ]
          },
          "metadata": {}
        },
        {
          "output_type": "display_data",
          "data": {
            "text/plain": [
              "<IPython.core.display.Javascript object>"
            ],
            "application/javascript": [
              "window[\"1084841a-b097-11ec-957c-0242ac1c0002\"] = google.colab.output.getActiveOutputArea();\n",
              "//# sourceURL=js_519baaebf6"
            ]
          },
          "metadata": {}
        },
        {
          "output_type": "display_data",
          "data": {
            "text/plain": [
              "<IPython.core.display.Javascript object>"
            ],
            "application/javascript": [
              "window[\"1084d5a0-b097-11ec-957c-0242ac1c0002\"] = document.querySelector(\"#id10-0-0\");\n",
              "//# sourceURL=js_c096ad7380"
            ]
          },
          "metadata": {}
        },
        {
          "output_type": "display_data",
          "data": {
            "text/plain": [
              "<IPython.core.display.Javascript object>"
            ],
            "application/javascript": [
              "window[\"10852b22-b097-11ec-957c-0242ac1c0002\"] = google.colab.output.setActiveOutputArea(window[\"1084d5a0-b097-11ec-957c-0242ac1c0002\"]);\n",
              "//# sourceURL=js_48e8491985"
            ]
          },
          "metadata": {}
        },
        {
          "output_type": "display_data",
          "data": {
            "text/plain": [
              "<IPython.core.display.Javascript object>"
            ],
            "application/javascript": [
              "window[\"1098e3f6-b097-11ec-957c-0242ac1c0002\"] = google.colab.output.setActiveOutputArea(window[\"1084841a-b097-11ec-957c-0242ac1c0002\"]);\n",
              "//# sourceURL=js_ba846edf87"
            ]
          },
          "metadata": {}
        },
        {
          "output_type": "display_data",
          "data": {
            "text/plain": [
              "<IPython.core.display.Javascript object>"
            ],
            "application/javascript": [
              "window[\"109c5220-b097-11ec-957c-0242ac1c0002\"] = google.colab.output.getActiveOutputArea();\n",
              "//# sourceURL=js_5743aa2b6e"
            ]
          },
          "metadata": {}
        },
        {
          "output_type": "display_data",
          "data": {
            "text/plain": [
              "<IPython.core.display.Javascript object>"
            ],
            "application/javascript": [
              "window[\"109ca824-b097-11ec-957c-0242ac1c0002\"] = document.querySelector(\"#id10-0-0\");\n",
              "//# sourceURL=js_e94d2b0fd0"
            ]
          },
          "metadata": {}
        },
        {
          "output_type": "display_data",
          "data": {
            "text/plain": [
              "<IPython.core.display.Javascript object>"
            ],
            "application/javascript": [
              "window[\"109ce7bc-b097-11ec-957c-0242ac1c0002\"] = google.colab.output.setActiveOutputArea(window[\"109ca824-b097-11ec-957c-0242ac1c0002\"]);\n",
              "//# sourceURL=js_ccfcc6f43a"
            ]
          },
          "metadata": {}
        },
        {
          "output_type": "display_data",
          "data": {
            "text/plain": [
              "<IPython.core.display.Javascript object>"
            ],
            "application/javascript": [
              "window[\"10b14734-b097-11ec-957c-0242ac1c0002\"] = google.colab.output.setActiveOutputArea(window[\"109c5220-b097-11ec-957c-0242ac1c0002\"]);\n",
              "//# sourceURL=js_279c180328"
            ]
          },
          "metadata": {}
        },
        {
          "output_type": "display_data",
          "data": {
            "text/plain": [
              "<IPython.core.display.Javascript object>"
            ],
            "application/javascript": [
              "window[\"10b3d7a6-b097-11ec-957c-0242ac1c0002\"] = google.colab.output.getActiveOutputArea();\n",
              "//# sourceURL=js_6e34993729"
            ]
          },
          "metadata": {}
        },
        {
          "output_type": "display_data",
          "data": {
            "text/plain": [
              "<IPython.core.display.Javascript object>"
            ],
            "application/javascript": [
              "window[\"10b419b4-b097-11ec-957c-0242ac1c0002\"] = document.querySelector(\"#id10-0-0\");\n",
              "//# sourceURL=js_1e0552412f"
            ]
          },
          "metadata": {}
        },
        {
          "output_type": "display_data",
          "data": {
            "text/plain": [
              "<IPython.core.display.Javascript object>"
            ],
            "application/javascript": [
              "window[\"10b49434-b097-11ec-957c-0242ac1c0002\"] = google.colab.output.setActiveOutputArea(window[\"10b419b4-b097-11ec-957c-0242ac1c0002\"]);\n",
              "//# sourceURL=js_7ac87ac19e"
            ]
          },
          "metadata": {}
        },
        {
          "output_type": "display_data",
          "data": {
            "text/plain": [
              "<IPython.core.display.Javascript object>"
            ],
            "application/javascript": [
              "window[\"10c7c8ce-b097-11ec-957c-0242ac1c0002\"] = google.colab.output.setActiveOutputArea(window[\"10b3d7a6-b097-11ec-957c-0242ac1c0002\"]);\n",
              "//# sourceURL=js_9ed328db61"
            ]
          },
          "metadata": {}
        },
        {
          "output_type": "display_data",
          "data": {
            "text/plain": [
              "<IPython.core.display.Javascript object>"
            ],
            "application/javascript": [
              "window[\"10c9865a-b097-11ec-957c-0242ac1c0002\"] = google.colab.output.getActiveOutputArea();\n",
              "//# sourceURL=js_570e0e17eb"
            ]
          },
          "metadata": {}
        },
        {
          "output_type": "display_data",
          "data": {
            "text/plain": [
              "<IPython.core.display.Javascript object>"
            ],
            "application/javascript": [
              "window[\"10c9b760-b097-11ec-957c-0242ac1c0002\"] = document.querySelector(\"#id10-0-0\");\n",
              "//# sourceURL=js_d6c8ab90a8"
            ]
          },
          "metadata": {}
        },
        {
          "output_type": "display_data",
          "data": {
            "text/plain": [
              "<IPython.core.display.Javascript object>"
            ],
            "application/javascript": [
              "window[\"10c9e8ac-b097-11ec-957c-0242ac1c0002\"] = google.colab.output.setActiveOutputArea(window[\"10c9b760-b097-11ec-957c-0242ac1c0002\"]);\n",
              "//# sourceURL=js_a6e7881e5b"
            ]
          },
          "metadata": {}
        },
        {
          "output_type": "display_data",
          "data": {
            "text/plain": [
              "<IPython.core.display.Javascript object>"
            ],
            "application/javascript": [
              "window[\"10de1624-b097-11ec-957c-0242ac1c0002\"] = google.colab.output.setActiveOutputArea(window[\"10c9865a-b097-11ec-957c-0242ac1c0002\"]);\n",
              "//# sourceURL=js_8f32ba9f19"
            ]
          },
          "metadata": {}
        },
        {
          "output_type": "display_data",
          "data": {
            "text/plain": [
              "<IPython.core.display.Javascript object>"
            ],
            "application/javascript": [
              "window[\"10e091d8-b097-11ec-957c-0242ac1c0002\"] = google.colab.output.getActiveOutputArea();\n",
              "//# sourceURL=js_7d777a4679"
            ]
          },
          "metadata": {}
        },
        {
          "output_type": "display_data",
          "data": {
            "text/plain": [
              "<IPython.core.display.Javascript object>"
            ],
            "application/javascript": [
              "window[\"10e11d10-b097-11ec-957c-0242ac1c0002\"] = document.querySelector(\"#id10-0-0\");\n",
              "//# sourceURL=js_be49dbec3e"
            ]
          },
          "metadata": {}
        },
        {
          "output_type": "display_data",
          "data": {
            "text/plain": [
              "<IPython.core.display.Javascript object>"
            ],
            "application/javascript": [
              "window[\"10e19b6e-b097-11ec-957c-0242ac1c0002\"] = google.colab.output.setActiveOutputArea(window[\"10e11d10-b097-11ec-957c-0242ac1c0002\"]);\n",
              "//# sourceURL=js_265bf8c0ae"
            ]
          },
          "metadata": {}
        },
        {
          "output_type": "display_data",
          "data": {
            "text/plain": [
              "<IPython.core.display.Javascript object>"
            ],
            "application/javascript": [
              "window[\"10f5b95a-b097-11ec-957c-0242ac1c0002\"] = google.colab.output.setActiveOutputArea(window[\"10e091d8-b097-11ec-957c-0242ac1c0002\"]);\n",
              "//# sourceURL=js_5be95e41f8"
            ]
          },
          "metadata": {}
        },
        {
          "output_type": "display_data",
          "data": {
            "text/plain": [
              "<IPython.core.display.Javascript object>"
            ],
            "application/javascript": [
              "window[\"10f9623a-b097-11ec-957c-0242ac1c0002\"] = google.colab.output.getActiveOutputArea();\n",
              "//# sourceURL=js_5551d6b32e"
            ]
          },
          "metadata": {}
        },
        {
          "output_type": "display_data",
          "data": {
            "text/plain": [
              "<IPython.core.display.Javascript object>"
            ],
            "application/javascript": [
              "window[\"10f9e480-b097-11ec-957c-0242ac1c0002\"] = document.querySelector(\"#id10-0-0\");\n",
              "//# sourceURL=js_abc0d1488c"
            ]
          },
          "metadata": {}
        },
        {
          "output_type": "display_data",
          "data": {
            "text/plain": [
              "<IPython.core.display.Javascript object>"
            ],
            "application/javascript": [
              "window[\"10fa5ff0-b097-11ec-957c-0242ac1c0002\"] = google.colab.output.setActiveOutputArea(window[\"10f9e480-b097-11ec-957c-0242ac1c0002\"]);\n",
              "//# sourceURL=js_db74c6deb1"
            ]
          },
          "metadata": {}
        },
        {
          "output_type": "display_data",
          "data": {
            "text/plain": [
              "<IPython.core.display.Javascript object>"
            ],
            "application/javascript": [
              "window[\"110d7266-b097-11ec-957c-0242ac1c0002\"] = google.colab.output.setActiveOutputArea(window[\"10f9623a-b097-11ec-957c-0242ac1c0002\"]);\n",
              "//# sourceURL=js_27f3a04e51"
            ]
          },
          "metadata": {}
        },
        {
          "output_type": "display_data",
          "data": {
            "text/plain": [
              "<IPython.core.display.Javascript object>"
            ],
            "application/javascript": [
              "window[\"11113cac-b097-11ec-957c-0242ac1c0002\"] = google.colab.output.getActiveOutputArea();\n",
              "//# sourceURL=js_8189c63d25"
            ]
          },
          "metadata": {}
        },
        {
          "output_type": "display_data",
          "data": {
            "text/plain": [
              "<IPython.core.display.Javascript object>"
            ],
            "application/javascript": [
              "window[\"1111a408-b097-11ec-957c-0242ac1c0002\"] = document.querySelector(\"#id10-0-0\");\n",
              "//# sourceURL=js_f755652ca3"
            ]
          },
          "metadata": {}
        },
        {
          "output_type": "display_data",
          "data": {
            "text/plain": [
              "<IPython.core.display.Javascript object>"
            ],
            "application/javascript": [
              "window[\"11129228-b097-11ec-957c-0242ac1c0002\"] = google.colab.output.setActiveOutputArea(window[\"1111a408-b097-11ec-957c-0242ac1c0002\"]);\n",
              "//# sourceURL=js_3ad70d04f6"
            ]
          },
          "metadata": {}
        },
        {
          "output_type": "display_data",
          "data": {
            "text/plain": [
              "<IPython.core.display.Javascript object>"
            ],
            "application/javascript": [
              "window[\"1125818a-b097-11ec-957c-0242ac1c0002\"] = google.colab.output.setActiveOutputArea(window[\"11113cac-b097-11ec-957c-0242ac1c0002\"]);\n",
              "//# sourceURL=js_7ac1780aa7"
            ]
          },
          "metadata": {}
        },
        {
          "output_type": "display_data",
          "data": {
            "text/plain": [
              "<IPython.core.display.Javascript object>"
            ],
            "application/javascript": [
              "window[\"1129f058-b097-11ec-957c-0242ac1c0002\"] = google.colab.output.getActiveOutputArea();\n",
              "//# sourceURL=js_04a21c7641"
            ]
          },
          "metadata": {}
        },
        {
          "output_type": "display_data",
          "data": {
            "text/plain": [
              "<IPython.core.display.Javascript object>"
            ],
            "application/javascript": [
              "window[\"112a5ee4-b097-11ec-957c-0242ac1c0002\"] = document.querySelector(\"#id10-0-0\");\n",
              "//# sourceURL=js_13dab7081f"
            ]
          },
          "metadata": {}
        },
        {
          "output_type": "display_data",
          "data": {
            "text/plain": [
              "<IPython.core.display.Javascript object>"
            ],
            "application/javascript": [
              "window[\"112acc62-b097-11ec-957c-0242ac1c0002\"] = google.colab.output.setActiveOutputArea(window[\"112a5ee4-b097-11ec-957c-0242ac1c0002\"]);\n",
              "//# sourceURL=js_b32b909e82"
            ]
          },
          "metadata": {}
        },
        {
          "output_type": "display_data",
          "data": {
            "text/plain": [
              "<IPython.core.display.Javascript object>"
            ],
            "application/javascript": [
              "window[\"113ed32e-b097-11ec-957c-0242ac1c0002\"] = google.colab.output.setActiveOutputArea(window[\"1129f058-b097-11ec-957c-0242ac1c0002\"]);\n",
              "//# sourceURL=js_0af8828ba3"
            ]
          },
          "metadata": {}
        },
        {
          "output_type": "display_data",
          "data": {
            "text/plain": [
              "<IPython.core.display.Javascript object>"
            ],
            "application/javascript": [
              "window[\"1141cc5a-b097-11ec-957c-0242ac1c0002\"] = google.colab.output.getActiveOutputArea();\n",
              "//# sourceURL=js_d42aa75771"
            ]
          },
          "metadata": {}
        },
        {
          "output_type": "display_data",
          "data": {
            "text/plain": [
              "<IPython.core.display.Javascript object>"
            ],
            "application/javascript": [
              "window[\"11424400-b097-11ec-957c-0242ac1c0002\"] = document.querySelector(\"#id10-0-0\");\n",
              "//# sourceURL=js_a2b16be3ad"
            ]
          },
          "metadata": {}
        },
        {
          "output_type": "display_data",
          "data": {
            "text/plain": [
              "<IPython.core.display.Javascript object>"
            ],
            "application/javascript": [
              "window[\"1142c344-b097-11ec-957c-0242ac1c0002\"] = google.colab.output.setActiveOutputArea(window[\"11424400-b097-11ec-957c-0242ac1c0002\"]);\n",
              "//# sourceURL=js_54a29da0bb"
            ]
          },
          "metadata": {}
        },
        {
          "output_type": "display_data",
          "data": {
            "text/plain": [
              "<IPython.core.display.Javascript object>"
            ],
            "application/javascript": [
              "window[\"11563c3a-b097-11ec-957c-0242ac1c0002\"] = google.colab.output.setActiveOutputArea(window[\"1141cc5a-b097-11ec-957c-0242ac1c0002\"]);\n",
              "//# sourceURL=js_60bd14337b"
            ]
          },
          "metadata": {}
        },
        {
          "output_type": "display_data",
          "data": {
            "text/plain": [
              "<IPython.core.display.Javascript object>"
            ],
            "application/javascript": [
              "window[\"1158da44-b097-11ec-957c-0242ac1c0002\"] = google.colab.output.getActiveOutputArea();\n",
              "//# sourceURL=js_7999fd4c3d"
            ]
          },
          "metadata": {}
        },
        {
          "output_type": "display_data",
          "data": {
            "text/plain": [
              "<IPython.core.display.Javascript object>"
            ],
            "application/javascript": [
              "window[\"11595140-b097-11ec-957c-0242ac1c0002\"] = document.querySelector(\"#id10-0-0\");\n",
              "//# sourceURL=js_618433c20b"
            ]
          },
          "metadata": {}
        },
        {
          "output_type": "display_data",
          "data": {
            "text/plain": [
              "<IPython.core.display.Javascript object>"
            ],
            "application/javascript": [
              "window[\"1159be46-b097-11ec-957c-0242ac1c0002\"] = google.colab.output.setActiveOutputArea(window[\"11595140-b097-11ec-957c-0242ac1c0002\"]);\n",
              "//# sourceURL=js_42f6bcd35f"
            ]
          },
          "metadata": {}
        },
        {
          "output_type": "display_data",
          "data": {
            "text/plain": [
              "<IPython.core.display.Javascript object>"
            ],
            "application/javascript": [
              "window[\"116dda7a-b097-11ec-957c-0242ac1c0002\"] = google.colab.output.setActiveOutputArea(window[\"1158da44-b097-11ec-957c-0242ac1c0002\"]);\n",
              "//# sourceURL=js_93042cfc6e"
            ]
          },
          "metadata": {}
        },
        {
          "output_type": "display_data",
          "data": {
            "text/plain": [
              "<IPython.core.display.Javascript object>"
            ],
            "application/javascript": [
              "window[\"116ffee0-b097-11ec-957c-0242ac1c0002\"] = google.colab.output.getActiveOutputArea();\n",
              "//# sourceURL=js_4eefc13c2c"
            ]
          },
          "metadata": {}
        },
        {
          "output_type": "display_data",
          "data": {
            "text/plain": [
              "<IPython.core.display.Javascript object>"
            ],
            "application/javascript": [
              "window[\"11704454-b097-11ec-957c-0242ac1c0002\"] = document.querySelector(\"#id10-0-0\");\n",
              "//# sourceURL=js_a9a02dec7f"
            ]
          },
          "metadata": {}
        },
        {
          "output_type": "display_data",
          "data": {
            "text/plain": [
              "<IPython.core.display.Javascript object>"
            ],
            "application/javascript": [
              "window[\"1170868a-b097-11ec-957c-0242ac1c0002\"] = google.colab.output.setActiveOutputArea(window[\"11704454-b097-11ec-957c-0242ac1c0002\"]);\n",
              "//# sourceURL=js_0fb29df10c"
            ]
          },
          "metadata": {}
        },
        {
          "output_type": "display_data",
          "data": {
            "text/plain": [
              "<IPython.core.display.Javascript object>"
            ],
            "application/javascript": [
              "window[\"11837a06-b097-11ec-957c-0242ac1c0002\"] = google.colab.output.setActiveOutputArea(window[\"116ffee0-b097-11ec-957c-0242ac1c0002\"]);\n",
              "//# sourceURL=js_61927c1244"
            ]
          },
          "metadata": {}
        },
        {
          "output_type": "display_data",
          "data": {
            "text/plain": [
              "<IPython.core.display.Javascript object>"
            ],
            "application/javascript": [
              "window[\"1186861a-b097-11ec-957c-0242ac1c0002\"] = google.colab.output.getActiveOutputArea();\n",
              "//# sourceURL=js_edaa339847"
            ]
          },
          "metadata": {}
        },
        {
          "output_type": "display_data",
          "data": {
            "text/plain": [
              "<IPython.core.display.Javascript object>"
            ],
            "application/javascript": [
              "window[\"1186d70a-b097-11ec-957c-0242ac1c0002\"] = document.querySelector(\"#id10-0-0\");\n",
              "//# sourceURL=js_978e411aca"
            ]
          },
          "metadata": {}
        },
        {
          "output_type": "display_data",
          "data": {
            "text/plain": [
              "<IPython.core.display.Javascript object>"
            ],
            "application/javascript": [
              "window[\"11871008-b097-11ec-957c-0242ac1c0002\"] = google.colab.output.setActiveOutputArea(window[\"1186d70a-b097-11ec-957c-0242ac1c0002\"]);\n",
              "//# sourceURL=js_e82f601ef7"
            ]
          },
          "metadata": {}
        },
        {
          "output_type": "display_data",
          "data": {
            "text/plain": [
              "<IPython.core.display.Javascript object>"
            ],
            "application/javascript": [
              "window[\"119ad57a-b097-11ec-957c-0242ac1c0002\"] = google.colab.output.setActiveOutputArea(window[\"1186861a-b097-11ec-957c-0242ac1c0002\"]);\n",
              "//# sourceURL=js_0f3e62454a"
            ]
          },
          "metadata": {}
        },
        {
          "output_type": "display_data",
          "data": {
            "text/plain": [
              "<IPython.core.display.Javascript object>"
            ],
            "application/javascript": [
              "window[\"119d3694-b097-11ec-957c-0242ac1c0002\"] = google.colab.output.getActiveOutputArea();\n",
              "//# sourceURL=js_ad885810af"
            ]
          },
          "metadata": {}
        },
        {
          "output_type": "display_data",
          "data": {
            "text/plain": [
              "<IPython.core.display.Javascript object>"
            ],
            "application/javascript": [
              "window[\"119d6f56-b097-11ec-957c-0242ac1c0002\"] = document.querySelector(\"#id10-0-0\");\n",
              "//# sourceURL=js_209ebc485a"
            ]
          },
          "metadata": {}
        },
        {
          "output_type": "display_data",
          "data": {
            "text/plain": [
              "<IPython.core.display.Javascript object>"
            ],
            "application/javascript": [
              "window[\"119dad36-b097-11ec-957c-0242ac1c0002\"] = google.colab.output.setActiveOutputArea(window[\"119d6f56-b097-11ec-957c-0242ac1c0002\"]);\n",
              "//# sourceURL=js_bfd7e88f65"
            ]
          },
          "metadata": {}
        },
        {
          "output_type": "display_data",
          "data": {
            "text/plain": [
              "<IPython.core.display.Javascript object>"
            ],
            "application/javascript": [
              "window[\"11b0fda0-b097-11ec-957c-0242ac1c0002\"] = google.colab.output.setActiveOutputArea(window[\"119d3694-b097-11ec-957c-0242ac1c0002\"]);\n",
              "//# sourceURL=js_bcd653f179"
            ]
          },
          "metadata": {}
        },
        {
          "output_type": "display_data",
          "data": {
            "text/plain": [
              "<IPython.core.display.Javascript object>"
            ],
            "application/javascript": [
              "window[\"11b35140-b097-11ec-957c-0242ac1c0002\"] = google.colab.output.getActiveOutputArea();\n",
              "//# sourceURL=js_5a3e559cc1"
            ]
          },
          "metadata": {}
        },
        {
          "output_type": "display_data",
          "data": {
            "text/plain": [
              "<IPython.core.display.Javascript object>"
            ],
            "application/javascript": [
              "window[\"11b3a8b6-b097-11ec-957c-0242ac1c0002\"] = document.querySelector(\"#id10-0-0\");\n",
              "//# sourceURL=js_4263bcaf9f"
            ]
          },
          "metadata": {}
        },
        {
          "output_type": "display_data",
          "data": {
            "text/plain": [
              "<IPython.core.display.Javascript object>"
            ],
            "application/javascript": [
              "window[\"11b3ec90-b097-11ec-957c-0242ac1c0002\"] = google.colab.output.setActiveOutputArea(window[\"11b3a8b6-b097-11ec-957c-0242ac1c0002\"]);\n",
              "//# sourceURL=js_673ff7ca12"
            ]
          },
          "metadata": {}
        },
        {
          "output_type": "display_data",
          "data": {
            "text/plain": [
              "<IPython.core.display.Javascript object>"
            ],
            "application/javascript": [
              "window[\"11c72dbe-b097-11ec-957c-0242ac1c0002\"] = google.colab.output.setActiveOutputArea(window[\"11b35140-b097-11ec-957c-0242ac1c0002\"]);\n",
              "//# sourceURL=js_c9dc8523b3"
            ]
          },
          "metadata": {}
        },
        {
          "output_type": "display_data",
          "data": {
            "text/plain": [
              "<IPython.core.display.Javascript object>"
            ],
            "application/javascript": [
              "window[\"11c92524-b097-11ec-957c-0242ac1c0002\"] = google.colab.output.getActiveOutputArea();\n",
              "//# sourceURL=js_e2258e59be"
            ]
          },
          "metadata": {}
        },
        {
          "output_type": "display_data",
          "data": {
            "text/plain": [
              "<IPython.core.display.Javascript object>"
            ],
            "application/javascript": [
              "window[\"11c965de-b097-11ec-957c-0242ac1c0002\"] = document.querySelector(\"#id10-0-0\");\n",
              "//# sourceURL=js_41449293a7"
            ]
          },
          "metadata": {}
        },
        {
          "output_type": "display_data",
          "data": {
            "text/plain": [
              "<IPython.core.display.Javascript object>"
            ],
            "application/javascript": [
              "window[\"11c9a1ac-b097-11ec-957c-0242ac1c0002\"] = google.colab.output.setActiveOutputArea(window[\"11c965de-b097-11ec-957c-0242ac1c0002\"]);\n",
              "//# sourceURL=js_3b774806c0"
            ]
          },
          "metadata": {}
        },
        {
          "output_type": "display_data",
          "data": {
            "text/plain": [
              "<IPython.core.display.Javascript object>"
            ],
            "application/javascript": [
              "window[\"11de715e-b097-11ec-957c-0242ac1c0002\"] = google.colab.output.setActiveOutputArea(window[\"11c92524-b097-11ec-957c-0242ac1c0002\"]);\n",
              "//# sourceURL=js_17a4c20318"
            ]
          },
          "metadata": {}
        },
        {
          "output_type": "display_data",
          "data": {
            "text/plain": [
              "<IPython.core.display.Javascript object>"
            ],
            "application/javascript": [
              "window[\"11e1a8b0-b097-11ec-957c-0242ac1c0002\"] = google.colab.output.getActiveOutputArea();\n",
              "//# sourceURL=js_a97d00a26f"
            ]
          },
          "metadata": {}
        },
        {
          "output_type": "display_data",
          "data": {
            "text/plain": [
              "<IPython.core.display.Javascript object>"
            ],
            "application/javascript": [
              "window[\"11e1e064-b097-11ec-957c-0242ac1c0002\"] = document.querySelector(\"#id10-0-0\");\n",
              "//# sourceURL=js_3ccd8d1697"
            ]
          },
          "metadata": {}
        },
        {
          "output_type": "display_data",
          "data": {
            "text/plain": [
              "<IPython.core.display.Javascript object>"
            ],
            "application/javascript": [
              "window[\"11e22218-b097-11ec-957c-0242ac1c0002\"] = google.colab.output.setActiveOutputArea(window[\"11e1e064-b097-11ec-957c-0242ac1c0002\"]);\n",
              "//# sourceURL=js_fcb6f84a46"
            ]
          },
          "metadata": {}
        },
        {
          "output_type": "display_data",
          "data": {
            "text/plain": [
              "<IPython.core.display.Javascript object>"
            ],
            "application/javascript": [
              "window[\"11f61160-b097-11ec-957c-0242ac1c0002\"] = google.colab.output.setActiveOutputArea(window[\"11e1a8b0-b097-11ec-957c-0242ac1c0002\"]);\n",
              "//# sourceURL=js_c2a1c04db5"
            ]
          },
          "metadata": {}
        },
        {
          "output_type": "display_data",
          "data": {
            "text/plain": [
              "<IPython.core.display.Javascript object>"
            ],
            "application/javascript": [
              "window[\"11f98cfa-b097-11ec-957c-0242ac1c0002\"] = google.colab.output.getActiveOutputArea();\n",
              "//# sourceURL=js_27434b7c83"
            ]
          },
          "metadata": {}
        },
        {
          "output_type": "display_data",
          "data": {
            "text/plain": [
              "<IPython.core.display.Javascript object>"
            ],
            "application/javascript": [
              "window[\"11f9caee-b097-11ec-957c-0242ac1c0002\"] = document.querySelector(\"#id10-0-0\");\n",
              "//# sourceURL=js_4225782fdf"
            ]
          },
          "metadata": {}
        },
        {
          "output_type": "display_data",
          "data": {
            "text/plain": [
              "<IPython.core.display.Javascript object>"
            ],
            "application/javascript": [
              "window[\"11fa230e-b097-11ec-957c-0242ac1c0002\"] = google.colab.output.setActiveOutputArea(window[\"11f9caee-b097-11ec-957c-0242ac1c0002\"]);\n",
              "//# sourceURL=js_fa6aa4f6fd"
            ]
          },
          "metadata": {}
        },
        {
          "output_type": "display_data",
          "data": {
            "text/plain": [
              "<IPython.core.display.Javascript object>"
            ],
            "application/javascript": [
              "window[\"1219a828-b097-11ec-957c-0242ac1c0002\"] = google.colab.output.setActiveOutputArea(window[\"11f98cfa-b097-11ec-957c-0242ac1c0002\"]);\n",
              "//# sourceURL=js_090e54ca18"
            ]
          },
          "metadata": {}
        },
        {
          "output_type": "display_data",
          "data": {
            "text/plain": [
              "<IPython.core.display.Javascript object>"
            ],
            "application/javascript": [
              "window[\"121be516-b097-11ec-957c-0242ac1c0002\"] = google.colab.output.getActiveOutputArea();\n",
              "//# sourceURL=js_cb73091acc"
            ]
          },
          "metadata": {}
        },
        {
          "output_type": "display_data",
          "data": {
            "text/plain": [
              "<IPython.core.display.Javascript object>"
            ],
            "application/javascript": [
              "window[\"121c4bb4-b097-11ec-957c-0242ac1c0002\"] = document.querySelector(\"#id10-0-0\");\n",
              "//# sourceURL=js_4b21f70dfc"
            ]
          },
          "metadata": {}
        },
        {
          "output_type": "display_data",
          "data": {
            "text/plain": [
              "<IPython.core.display.Javascript object>"
            ],
            "application/javascript": [
              "window[\"121c9fb0-b097-11ec-957c-0242ac1c0002\"] = google.colab.output.setActiveOutputArea(window[\"121c4bb4-b097-11ec-957c-0242ac1c0002\"]);\n",
              "//# sourceURL=js_a46c9f6d2f"
            ]
          },
          "metadata": {}
        },
        {
          "output_type": "display_data",
          "data": {
            "text/plain": [
              "<IPython.core.display.Javascript object>"
            ],
            "application/javascript": [
              "window[\"123062f2-b097-11ec-957c-0242ac1c0002\"] = google.colab.output.setActiveOutputArea(window[\"121be516-b097-11ec-957c-0242ac1c0002\"]);\n",
              "//# sourceURL=js_5792af8b54"
            ]
          },
          "metadata": {}
        },
        {
          "output_type": "display_data",
          "data": {
            "text/plain": [
              "<IPython.core.display.Javascript object>"
            ],
            "application/javascript": [
              "window[\"123387ca-b097-11ec-957c-0242ac1c0002\"] = google.colab.output.getActiveOutputArea();\n",
              "//# sourceURL=js_a84cfa4854"
            ]
          },
          "metadata": {}
        },
        {
          "output_type": "display_data",
          "data": {
            "text/plain": [
              "<IPython.core.display.Javascript object>"
            ],
            "application/javascript": [
              "window[\"1233f750-b097-11ec-957c-0242ac1c0002\"] = document.querySelector(\"#id10-0-0\");\n",
              "//# sourceURL=js_f18065c4e2"
            ]
          },
          "metadata": {}
        },
        {
          "output_type": "display_data",
          "data": {
            "text/plain": [
              "<IPython.core.display.Javascript object>"
            ],
            "application/javascript": [
              "window[\"12349232-b097-11ec-957c-0242ac1c0002\"] = google.colab.output.setActiveOutputArea(window[\"1233f750-b097-11ec-957c-0242ac1c0002\"]);\n",
              "//# sourceURL=js_22ce33b500"
            ]
          },
          "metadata": {}
        },
        {
          "output_type": "display_data",
          "data": {
            "text/plain": [
              "<IPython.core.display.Javascript object>"
            ],
            "application/javascript": [
              "window[\"1248d9e0-b097-11ec-957c-0242ac1c0002\"] = google.colab.output.setActiveOutputArea(window[\"123387ca-b097-11ec-957c-0242ac1c0002\"]);\n",
              "//# sourceURL=js_c08ffb5eb5"
            ]
          },
          "metadata": {}
        },
        {
          "output_type": "display_data",
          "data": {
            "text/plain": [
              "<IPython.core.display.Javascript object>"
            ],
            "application/javascript": [
              "window[\"124c0750-b097-11ec-957c-0242ac1c0002\"] = google.colab.output.getActiveOutputArea();\n",
              "//# sourceURL=js_fa9287d3ac"
            ]
          },
          "metadata": {}
        },
        {
          "output_type": "display_data",
          "data": {
            "text/plain": [
              "<IPython.core.display.Javascript object>"
            ],
            "application/javascript": [
              "window[\"124c8f36-b097-11ec-957c-0242ac1c0002\"] = document.querySelector(\"#id10-0-0\");\n",
              "//# sourceURL=js_2f0520ed13"
            ]
          },
          "metadata": {}
        },
        {
          "output_type": "display_data",
          "data": {
            "text/plain": [
              "<IPython.core.display.Javascript object>"
            ],
            "application/javascript": [
              "window[\"124d0362-b097-11ec-957c-0242ac1c0002\"] = google.colab.output.setActiveOutputArea(window[\"124c8f36-b097-11ec-957c-0242ac1c0002\"]);\n",
              "//# sourceURL=js_65b74d38ff"
            ]
          },
          "metadata": {}
        },
        {
          "output_type": "display_data",
          "data": {
            "text/plain": [
              "<IPython.core.display.Javascript object>"
            ],
            "application/javascript": [
              "window[\"125fab98-b097-11ec-957c-0242ac1c0002\"] = google.colab.output.setActiveOutputArea(window[\"124c0750-b097-11ec-957c-0242ac1c0002\"]);\n",
              "//# sourceURL=js_dadcf8c9e3"
            ]
          },
          "metadata": {}
        },
        {
          "output_type": "display_data",
          "data": {
            "text/plain": [
              "<IPython.core.display.Javascript object>"
            ],
            "application/javascript": [
              "window[\"1261bb7c-b097-11ec-957c-0242ac1c0002\"] = google.colab.output.getActiveOutputArea();\n",
              "//# sourceURL=js_8f6c886520"
            ]
          },
          "metadata": {}
        },
        {
          "output_type": "display_data",
          "data": {
            "text/plain": [
              "<IPython.core.display.Javascript object>"
            ],
            "application/javascript": [
              "window[\"126213ba-b097-11ec-957c-0242ac1c0002\"] = document.querySelector(\"#id10-0-0\");\n",
              "//# sourceURL=js_29dde916c5"
            ]
          },
          "metadata": {}
        },
        {
          "output_type": "display_data",
          "data": {
            "text/plain": [
              "<IPython.core.display.Javascript object>"
            ],
            "application/javascript": [
              "window[\"1262681a-b097-11ec-957c-0242ac1c0002\"] = google.colab.output.setActiveOutputArea(window[\"126213ba-b097-11ec-957c-0242ac1c0002\"]);\n",
              "//# sourceURL=js_9c1ee6f5c7"
            ]
          },
          "metadata": {}
        },
        {
          "output_type": "display_data",
          "data": {
            "text/plain": [
              "<IPython.core.display.Javascript object>"
            ],
            "application/javascript": [
              "window[\"12777e26-b097-11ec-957c-0242ac1c0002\"] = google.colab.output.setActiveOutputArea(window[\"1261bb7c-b097-11ec-957c-0242ac1c0002\"]);\n",
              "//# sourceURL=js_1277e29edd"
            ]
          },
          "metadata": {}
        },
        {
          "output_type": "display_data",
          "data": {
            "text/plain": [
              "<IPython.core.display.Javascript object>"
            ],
            "application/javascript": [
              "window[\"127a79f0-b097-11ec-957c-0242ac1c0002\"] = google.colab.output.getActiveOutputArea();\n",
              "//# sourceURL=js_67a4ffd86b"
            ]
          },
          "metadata": {}
        },
        {
          "output_type": "display_data",
          "data": {
            "text/plain": [
              "<IPython.core.display.Javascript object>"
            ],
            "application/javascript": [
              "window[\"127ac16c-b097-11ec-957c-0242ac1c0002\"] = document.querySelector(\"#id10-0-0\");\n",
              "//# sourceURL=js_171fbd1915"
            ]
          },
          "metadata": {}
        },
        {
          "output_type": "display_data",
          "data": {
            "text/plain": [
              "<IPython.core.display.Javascript object>"
            ],
            "application/javascript": [
              "window[\"127b141e-b097-11ec-957c-0242ac1c0002\"] = google.colab.output.setActiveOutputArea(window[\"127ac16c-b097-11ec-957c-0242ac1c0002\"]);\n",
              "//# sourceURL=js_c218f8e568"
            ]
          },
          "metadata": {}
        },
        {
          "output_type": "display_data",
          "data": {
            "text/plain": [
              "<IPython.core.display.Javascript object>"
            ],
            "application/javascript": [
              "window[\"128edb0c-b097-11ec-957c-0242ac1c0002\"] = google.colab.output.setActiveOutputArea(window[\"127a79f0-b097-11ec-957c-0242ac1c0002\"]);\n",
              "//# sourceURL=js_af1617b178"
            ]
          },
          "metadata": {}
        },
        {
          "output_type": "display_data",
          "data": {
            "text/plain": [
              "<IPython.core.display.Javascript object>"
            ],
            "application/javascript": [
              "window[\"12925b7e-b097-11ec-957c-0242ac1c0002\"] = google.colab.output.getActiveOutputArea();\n",
              "//# sourceURL=js_11ff3ea97c"
            ]
          },
          "metadata": {}
        },
        {
          "output_type": "display_data",
          "data": {
            "text/plain": [
              "<IPython.core.display.Javascript object>"
            ],
            "application/javascript": [
              "window[\"1292f066-b097-11ec-957c-0242ac1c0002\"] = document.querySelector(\"#id10-0-0\");\n",
              "//# sourceURL=js_76f922defd"
            ]
          },
          "metadata": {}
        },
        {
          "output_type": "display_data",
          "data": {
            "text/plain": [
              "<IPython.core.display.Javascript object>"
            ],
            "application/javascript": [
              "window[\"12935862-b097-11ec-957c-0242ac1c0002\"] = google.colab.output.setActiveOutputArea(window[\"1292f066-b097-11ec-957c-0242ac1c0002\"]);\n",
              "//# sourceURL=js_e6608e1166"
            ]
          },
          "metadata": {}
        },
        {
          "output_type": "display_data",
          "data": {
            "text/plain": [
              "<IPython.core.display.Javascript object>"
            ],
            "application/javascript": [
              "window[\"12a8e25e-b097-11ec-957c-0242ac1c0002\"] = google.colab.output.setActiveOutputArea(window[\"12925b7e-b097-11ec-957c-0242ac1c0002\"]);\n",
              "//# sourceURL=js_f8c2af4d24"
            ]
          },
          "metadata": {}
        },
        {
          "output_type": "display_data",
          "data": {
            "text/plain": [
              "<IPython.core.display.Javascript object>"
            ],
            "application/javascript": [
              "window[\"12ab3f18-b097-11ec-957c-0242ac1c0002\"] = google.colab.output.getActiveOutputArea();\n",
              "//# sourceURL=js_7590ab6fc9"
            ]
          },
          "metadata": {}
        },
        {
          "output_type": "display_data",
          "data": {
            "text/plain": [
              "<IPython.core.display.Javascript object>"
            ],
            "application/javascript": [
              "window[\"12ab7abe-b097-11ec-957c-0242ac1c0002\"] = document.querySelector(\"#id10-0-0\");\n",
              "//# sourceURL=js_5e8591bd79"
            ]
          },
          "metadata": {}
        },
        {
          "output_type": "display_data",
          "data": {
            "text/plain": [
              "<IPython.core.display.Javascript object>"
            ],
            "application/javascript": [
              "window[\"12abb8a8-b097-11ec-957c-0242ac1c0002\"] = google.colab.output.setActiveOutputArea(window[\"12ab7abe-b097-11ec-957c-0242ac1c0002\"]);\n",
              "//# sourceURL=js_a7d394dd91"
            ]
          },
          "metadata": {}
        },
        {
          "output_type": "display_data",
          "data": {
            "text/plain": [
              "<IPython.core.display.Javascript object>"
            ],
            "application/javascript": [
              "window[\"12bfd090-b097-11ec-957c-0242ac1c0002\"] = google.colab.output.setActiveOutputArea(window[\"12ab3f18-b097-11ec-957c-0242ac1c0002\"]);\n",
              "//# sourceURL=js_154ad4e958"
            ]
          },
          "metadata": {}
        },
        {
          "output_type": "display_data",
          "data": {
            "text/plain": [
              "<IPython.core.display.Javascript object>"
            ],
            "application/javascript": [
              "window[\"12c20586-b097-11ec-957c-0242ac1c0002\"] = google.colab.output.getActiveOutputArea();\n",
              "//# sourceURL=js_c681a3d29d"
            ]
          },
          "metadata": {}
        },
        {
          "output_type": "display_data",
          "data": {
            "text/plain": [
              "<IPython.core.display.Javascript object>"
            ],
            "application/javascript": [
              "window[\"12c25ea0-b097-11ec-957c-0242ac1c0002\"] = document.querySelector(\"#id10-0-0\");\n",
              "//# sourceURL=js_a9613a28e1"
            ]
          },
          "metadata": {}
        },
        {
          "output_type": "display_data",
          "data": {
            "text/plain": [
              "<IPython.core.display.Javascript object>"
            ],
            "application/javascript": [
              "window[\"12c29e2e-b097-11ec-957c-0242ac1c0002\"] = google.colab.output.setActiveOutputArea(window[\"12c25ea0-b097-11ec-957c-0242ac1c0002\"]);\n",
              "//# sourceURL=js_c6d2a613be"
            ]
          },
          "metadata": {}
        },
        {
          "output_type": "display_data",
          "data": {
            "text/plain": [
              "<IPython.core.display.Javascript object>"
            ],
            "application/javascript": [
              "window[\"12d66468-b097-11ec-957c-0242ac1c0002\"] = google.colab.output.setActiveOutputArea(window[\"12c20586-b097-11ec-957c-0242ac1c0002\"]);\n",
              "//# sourceURL=js_f1ac6f0b23"
            ]
          },
          "metadata": {}
        },
        {
          "output_type": "display_data",
          "data": {
            "text/plain": [
              "<IPython.core.display.Javascript object>"
            ],
            "application/javascript": [
              "window[\"12d839b4-b097-11ec-957c-0242ac1c0002\"] = google.colab.output.getActiveOutputArea();\n",
              "//# sourceURL=js_4680b12c0b"
            ]
          },
          "metadata": {}
        },
        {
          "output_type": "display_data",
          "data": {
            "text/plain": [
              "<IPython.core.display.Javascript object>"
            ],
            "application/javascript": [
              "window[\"12d88220-b097-11ec-957c-0242ac1c0002\"] = document.querySelector(\"#id10-0-0\");\n",
              "//# sourceURL=js_bc0e73d1d0"
            ]
          },
          "metadata": {}
        },
        {
          "output_type": "display_data",
          "data": {
            "text/plain": [
              "<IPython.core.display.Javascript object>"
            ],
            "application/javascript": [
              "window[\"12d8d342-b097-11ec-957c-0242ac1c0002\"] = google.colab.output.setActiveOutputArea(window[\"12d88220-b097-11ec-957c-0242ac1c0002\"]);\n",
              "//# sourceURL=js_dbaf1c38ad"
            ]
          },
          "metadata": {}
        },
        {
          "output_type": "display_data",
          "data": {
            "text/plain": [
              "<IPython.core.display.Javascript object>"
            ],
            "application/javascript": [
              "window[\"12ecd8b0-b097-11ec-957c-0242ac1c0002\"] = google.colab.output.setActiveOutputArea(window[\"12d839b4-b097-11ec-957c-0242ac1c0002\"]);\n",
              "//# sourceURL=js_9bdabebad8"
            ]
          },
          "metadata": {}
        },
        {
          "output_type": "display_data",
          "data": {
            "text/plain": [
              "<IPython.core.display.Javascript object>"
            ],
            "application/javascript": [
              "window[\"12ef302e-b097-11ec-957c-0242ac1c0002\"] = google.colab.output.getActiveOutputArea();\n",
              "//# sourceURL=js_dfed83235d"
            ]
          },
          "metadata": {}
        },
        {
          "output_type": "display_data",
          "data": {
            "text/plain": [
              "<IPython.core.display.Javascript object>"
            ],
            "application/javascript": [
              "window[\"12ef775a-b097-11ec-957c-0242ac1c0002\"] = document.querySelector(\"#id10-0-0\");\n",
              "//# sourceURL=js_aafb725f4f"
            ]
          },
          "metadata": {}
        },
        {
          "output_type": "display_data",
          "data": {
            "text/plain": [
              "<IPython.core.display.Javascript object>"
            ],
            "application/javascript": [
              "window[\"12efbcba-b097-11ec-957c-0242ac1c0002\"] = google.colab.output.setActiveOutputArea(window[\"12ef775a-b097-11ec-957c-0242ac1c0002\"]);\n",
              "//# sourceURL=js_4c3f8d7eb7"
            ]
          },
          "metadata": {}
        },
        {
          "output_type": "display_data",
          "data": {
            "text/plain": [
              "<IPython.core.display.Javascript object>"
            ],
            "application/javascript": [
              "window[\"13053b08-b097-11ec-957c-0242ac1c0002\"] = google.colab.output.setActiveOutputArea(window[\"12ef302e-b097-11ec-957c-0242ac1c0002\"]);\n",
              "//# sourceURL=js_cd7bbcd7c4"
            ]
          },
          "metadata": {}
        },
        {
          "output_type": "display_data",
          "data": {
            "text/plain": [
              "<IPython.core.display.Javascript object>"
            ],
            "application/javascript": [
              "window[\"13088e2a-b097-11ec-957c-0242ac1c0002\"] = google.colab.output.getActiveOutputArea();\n",
              "//# sourceURL=js_ecc74dbf66"
            ]
          },
          "metadata": {}
        },
        {
          "output_type": "display_data",
          "data": {
            "text/plain": [
              "<IPython.core.display.Javascript object>"
            ],
            "application/javascript": [
              "window[\"1309155c-b097-11ec-957c-0242ac1c0002\"] = document.querySelector(\"#id10-0-0\");\n",
              "//# sourceURL=js_60f4afbd64"
            ]
          },
          "metadata": {}
        },
        {
          "output_type": "display_data",
          "data": {
            "text/plain": [
              "<IPython.core.display.Javascript object>"
            ],
            "application/javascript": [
              "window[\"13098c4e-b097-11ec-957c-0242ac1c0002\"] = google.colab.output.setActiveOutputArea(window[\"1309155c-b097-11ec-957c-0242ac1c0002\"]);\n",
              "//# sourceURL=js_4d22f02d01"
            ]
          },
          "metadata": {}
        },
        {
          "output_type": "display_data",
          "data": {
            "text/plain": [
              "<IPython.core.display.Javascript object>"
            ],
            "application/javascript": [
              "window[\"131e33e2-b097-11ec-957c-0242ac1c0002\"] = google.colab.output.setActiveOutputArea(window[\"13088e2a-b097-11ec-957c-0242ac1c0002\"]);\n",
              "//# sourceURL=js_ad4bdd007b"
            ]
          },
          "metadata": {}
        },
        {
          "output_type": "display_data",
          "data": {
            "text/plain": [
              "<IPython.core.display.Javascript object>"
            ],
            "application/javascript": [
              "window[\"1321dcea-b097-11ec-957c-0242ac1c0002\"] = google.colab.output.getActiveOutputArea();\n",
              "//# sourceURL=js_91bb54a85a"
            ]
          },
          "metadata": {}
        },
        {
          "output_type": "display_data",
          "data": {
            "text/plain": [
              "<IPython.core.display.Javascript object>"
            ],
            "application/javascript": [
              "window[\"13221e80-b097-11ec-957c-0242ac1c0002\"] = document.querySelector(\"#id10-0-0\");\n",
              "//# sourceURL=js_e0496fd374"
            ]
          },
          "metadata": {}
        },
        {
          "output_type": "display_data",
          "data": {
            "text/plain": [
              "<IPython.core.display.Javascript object>"
            ],
            "application/javascript": [
              "window[\"1322b7c8-b097-11ec-957c-0242ac1c0002\"] = google.colab.output.setActiveOutputArea(window[\"13221e80-b097-11ec-957c-0242ac1c0002\"]);\n",
              "//# sourceURL=js_2630421349"
            ]
          },
          "metadata": {}
        },
        {
          "output_type": "display_data",
          "data": {
            "text/plain": [
              "<IPython.core.display.Javascript object>"
            ],
            "application/javascript": [
              "window[\"13392e54-b097-11ec-957c-0242ac1c0002\"] = google.colab.output.setActiveOutputArea(window[\"1321dcea-b097-11ec-957c-0242ac1c0002\"]);\n",
              "//# sourceURL=js_b0a8279951"
            ]
          },
          "metadata": {}
        },
        {
          "output_type": "display_data",
          "data": {
            "text/plain": [
              "<IPython.core.display.Javascript object>"
            ],
            "application/javascript": [
              "window[\"133cd28e-b097-11ec-957c-0242ac1c0002\"] = google.colab.output.getActiveOutputArea();\n",
              "//# sourceURL=js_ddf7a74404"
            ]
          },
          "metadata": {}
        },
        {
          "output_type": "display_data",
          "data": {
            "text/plain": [
              "<IPython.core.display.Javascript object>"
            ],
            "application/javascript": [
              "window[\"133d180c-b097-11ec-957c-0242ac1c0002\"] = document.querySelector(\"#id10-0-0\");\n",
              "//# sourceURL=js_32cc1c4839"
            ]
          },
          "metadata": {}
        },
        {
          "output_type": "display_data",
          "data": {
            "text/plain": [
              "<IPython.core.display.Javascript object>"
            ],
            "application/javascript": [
              "window[\"133d64d8-b097-11ec-957c-0242ac1c0002\"] = google.colab.output.setActiveOutputArea(window[\"133d180c-b097-11ec-957c-0242ac1c0002\"]);\n",
              "//# sourceURL=js_5977c6481c"
            ]
          },
          "metadata": {}
        },
        {
          "output_type": "display_data",
          "data": {
            "text/plain": [
              "<IPython.core.display.Javascript object>"
            ],
            "application/javascript": [
              "window[\"1353573e-b097-11ec-957c-0242ac1c0002\"] = google.colab.output.setActiveOutputArea(window[\"133cd28e-b097-11ec-957c-0242ac1c0002\"]);\n",
              "//# sourceURL=js_686b022ea8"
            ]
          },
          "metadata": {}
        },
        {
          "output_type": "display_data",
          "data": {
            "text/plain": [
              "<IPython.core.display.Javascript object>"
            ],
            "application/javascript": [
              "window[\"13569be2-b097-11ec-957c-0242ac1c0002\"] = google.colab.output.getActiveOutputArea();\n",
              "//# sourceURL=js_1f3915d331"
            ]
          },
          "metadata": {}
        },
        {
          "output_type": "display_data",
          "data": {
            "text/plain": [
              "<IPython.core.display.Javascript object>"
            ],
            "application/javascript": [
              "window[\"1356ddfa-b097-11ec-957c-0242ac1c0002\"] = document.querySelector(\"#id10-0-0\");\n",
              "//# sourceURL=js_f6a2e081fa"
            ]
          },
          "metadata": {}
        },
        {
          "output_type": "display_data",
          "data": {
            "text/plain": [
              "<IPython.core.display.Javascript object>"
            ],
            "application/javascript": [
              "window[\"1357399e-b097-11ec-957c-0242ac1c0002\"] = google.colab.output.setActiveOutputArea(window[\"1356ddfa-b097-11ec-957c-0242ac1c0002\"]);\n",
              "//# sourceURL=js_fd18bfd8c8"
            ]
          },
          "metadata": {}
        },
        {
          "output_type": "display_data",
          "data": {
            "text/plain": [
              "<IPython.core.display.Javascript object>"
            ],
            "application/javascript": [
              "window[\"136b5280-b097-11ec-957c-0242ac1c0002\"] = google.colab.output.setActiveOutputArea(window[\"13569be2-b097-11ec-957c-0242ac1c0002\"]);\n",
              "//# sourceURL=js_eed463ad70"
            ]
          },
          "metadata": {}
        },
        {
          "output_type": "display_data",
          "data": {
            "text/plain": [
              "<IPython.core.display.Javascript object>"
            ],
            "application/javascript": [
              "window[\"136eb04c-b097-11ec-957c-0242ac1c0002\"] = google.colab.output.getActiveOutputArea();\n",
              "//# sourceURL=js_b5688f95fd"
            ]
          },
          "metadata": {}
        },
        {
          "output_type": "display_data",
          "data": {
            "text/plain": [
              "<IPython.core.display.Javascript object>"
            ],
            "application/javascript": [
              "window[\"136ef12e-b097-11ec-957c-0242ac1c0002\"] = document.querySelector(\"#id10-0-0\");\n",
              "//# sourceURL=js_c4b73fd79b"
            ]
          },
          "metadata": {}
        },
        {
          "output_type": "display_data",
          "data": {
            "text/plain": [
              "<IPython.core.display.Javascript object>"
            ],
            "application/javascript": [
              "window[\"136f45d4-b097-11ec-957c-0242ac1c0002\"] = google.colab.output.setActiveOutputArea(window[\"136ef12e-b097-11ec-957c-0242ac1c0002\"]);\n",
              "//# sourceURL=js_99475c681a"
            ]
          },
          "metadata": {}
        },
        {
          "output_type": "display_data",
          "data": {
            "text/plain": [
              "<IPython.core.display.Javascript object>"
            ],
            "application/javascript": [
              "window[\"138352d6-b097-11ec-957c-0242ac1c0002\"] = google.colab.output.setActiveOutputArea(window[\"136eb04c-b097-11ec-957c-0242ac1c0002\"]);\n",
              "//# sourceURL=js_29084f7b9c"
            ]
          },
          "metadata": {}
        },
        {
          "output_type": "display_data",
          "data": {
            "text/plain": [
              "<IPython.core.display.Javascript object>"
            ],
            "application/javascript": [
              "window[\"138701c4-b097-11ec-957c-0242ac1c0002\"] = google.colab.output.getActiveOutputArea();\n",
              "//# sourceURL=js_3db3f09ec6"
            ]
          },
          "metadata": {}
        },
        {
          "output_type": "display_data",
          "data": {
            "text/plain": [
              "<IPython.core.display.Javascript object>"
            ],
            "application/javascript": [
              "window[\"138741c0-b097-11ec-957c-0242ac1c0002\"] = document.querySelector(\"#id10-0-0\");\n",
              "//# sourceURL=js_5d94d9272d"
            ]
          },
          "metadata": {}
        },
        {
          "output_type": "display_data",
          "data": {
            "text/plain": [
              "<IPython.core.display.Javascript object>"
            ],
            "application/javascript": [
              "window[\"13886d20-b097-11ec-957c-0242ac1c0002\"] = google.colab.output.setActiveOutputArea(window[\"138741c0-b097-11ec-957c-0242ac1c0002\"]);\n",
              "//# sourceURL=js_4be1afdd18"
            ]
          },
          "metadata": {}
        },
        {
          "output_type": "display_data",
          "data": {
            "text/plain": [
              "<IPython.core.display.Javascript object>"
            ],
            "application/javascript": [
              "window[\"139ca8d0-b097-11ec-957c-0242ac1c0002\"] = google.colab.output.setActiveOutputArea(window[\"138701c4-b097-11ec-957c-0242ac1c0002\"]);\n",
              "//# sourceURL=js_3ed9a45ea2"
            ]
          },
          "metadata": {}
        },
        {
          "output_type": "display_data",
          "data": {
            "text/plain": [
              "<IPython.core.display.Javascript object>"
            ],
            "application/javascript": [
              "window[\"139f6e1c-b097-11ec-957c-0242ac1c0002\"] = google.colab.output.getActiveOutputArea();\n",
              "//# sourceURL=js_8b58cf6fe8"
            ]
          },
          "metadata": {}
        },
        {
          "output_type": "display_data",
          "data": {
            "text/plain": [
              "<IPython.core.display.Javascript object>"
            ],
            "application/javascript": [
              "window[\"139ff13e-b097-11ec-957c-0242ac1c0002\"] = document.querySelector(\"#id10-0-0\");\n",
              "//# sourceURL=js_4c130f8518"
            ]
          },
          "metadata": {}
        },
        {
          "output_type": "display_data",
          "data": {
            "text/plain": [
              "<IPython.core.display.Javascript object>"
            ],
            "application/javascript": [
              "window[\"13a078b6-b097-11ec-957c-0242ac1c0002\"] = google.colab.output.setActiveOutputArea(window[\"139ff13e-b097-11ec-957c-0242ac1c0002\"]);\n",
              "//# sourceURL=js_db19eaf5de"
            ]
          },
          "metadata": {}
        },
        {
          "output_type": "display_data",
          "data": {
            "text/plain": [
              "<IPython.core.display.Javascript object>"
            ],
            "application/javascript": [
              "window[\"13c23550-b097-11ec-957c-0242ac1c0002\"] = google.colab.output.setActiveOutputArea(window[\"139f6e1c-b097-11ec-957c-0242ac1c0002\"]);\n",
              "//# sourceURL=js_5a1ce2213c"
            ]
          },
          "metadata": {}
        },
        {
          "output_type": "display_data",
          "data": {
            "text/plain": [
              "<IPython.core.display.Javascript object>"
            ],
            "application/javascript": [
              "window[\"13c44926-b097-11ec-957c-0242ac1c0002\"] = google.colab.output.getActiveOutputArea();\n",
              "//# sourceURL=js_7ca99b9b8a"
            ]
          },
          "metadata": {}
        },
        {
          "output_type": "display_data",
          "data": {
            "text/plain": [
              "<IPython.core.display.Javascript object>"
            ],
            "application/javascript": [
              "window[\"13c4a4de-b097-11ec-957c-0242ac1c0002\"] = document.querySelector(\"#id10-0-0\");\n",
              "//# sourceURL=js_f25d56c35a"
            ]
          },
          "metadata": {}
        },
        {
          "output_type": "display_data",
          "data": {
            "text/plain": [
              "<IPython.core.display.Javascript object>"
            ],
            "application/javascript": [
              "window[\"13c4e688-b097-11ec-957c-0242ac1c0002\"] = google.colab.output.setActiveOutputArea(window[\"13c4a4de-b097-11ec-957c-0242ac1c0002\"]);\n",
              "//# sourceURL=js_68226bd0e8"
            ]
          },
          "metadata": {}
        },
        {
          "output_type": "display_data",
          "data": {
            "text/plain": [
              "<IPython.core.display.Javascript object>"
            ],
            "application/javascript": [
              "window[\"13d9091a-b097-11ec-957c-0242ac1c0002\"] = google.colab.output.setActiveOutputArea(window[\"13c44926-b097-11ec-957c-0242ac1c0002\"]);\n",
              "//# sourceURL=js_4939a25e90"
            ]
          },
          "metadata": {}
        },
        {
          "output_type": "display_data",
          "data": {
            "text/plain": [
              "<IPython.core.display.Javascript object>"
            ],
            "application/javascript": [
              "window[\"13db931a-b097-11ec-957c-0242ac1c0002\"] = google.colab.output.getActiveOutputArea();\n",
              "//# sourceURL=js_fda80b7c27"
            ]
          },
          "metadata": {}
        },
        {
          "output_type": "display_data",
          "data": {
            "text/plain": [
              "<IPython.core.display.Javascript object>"
            ],
            "application/javascript": [
              "window[\"13dbe086-b097-11ec-957c-0242ac1c0002\"] = document.querySelector(\"#id10-0-0\");\n",
              "//# sourceURL=js_d528274f73"
            ]
          },
          "metadata": {}
        },
        {
          "output_type": "display_data",
          "data": {
            "text/plain": [
              "<IPython.core.display.Javascript object>"
            ],
            "application/javascript": [
              "window[\"13dc47ec-b097-11ec-957c-0242ac1c0002\"] = google.colab.output.setActiveOutputArea(window[\"13dbe086-b097-11ec-957c-0242ac1c0002\"]);\n",
              "//# sourceURL=js_30dd696333"
            ]
          },
          "metadata": {}
        },
        {
          "output_type": "display_data",
          "data": {
            "text/plain": [
              "<IPython.core.display.Javascript object>"
            ],
            "application/javascript": [
              "window[\"13f20c08-b097-11ec-957c-0242ac1c0002\"] = google.colab.output.setActiveOutputArea(window[\"13db931a-b097-11ec-957c-0242ac1c0002\"]);\n",
              "//# sourceURL=js_25bfe9c8be"
            ]
          },
          "metadata": {}
        },
        {
          "output_type": "display_data",
          "data": {
            "text/plain": [
              "<IPython.core.display.Javascript object>"
            ],
            "application/javascript": [
              "window[\"13f3f54a-b097-11ec-957c-0242ac1c0002\"] = google.colab.output.getActiveOutputArea();\n",
              "//# sourceURL=js_3606fa3c85"
            ]
          },
          "metadata": {}
        },
        {
          "output_type": "display_data",
          "data": {
            "text/plain": [
              "<IPython.core.display.Javascript object>"
            ],
            "application/javascript": [
              "window[\"13f439ba-b097-11ec-957c-0242ac1c0002\"] = document.querySelector(\"#id10-0-0\");\n",
              "//# sourceURL=js_6cdc18540d"
            ]
          },
          "metadata": {}
        },
        {
          "output_type": "display_data",
          "data": {
            "text/plain": [
              "<IPython.core.display.Javascript object>"
            ],
            "application/javascript": [
              "window[\"13f489d8-b097-11ec-957c-0242ac1c0002\"] = google.colab.output.setActiveOutputArea(window[\"13f439ba-b097-11ec-957c-0242ac1c0002\"]);\n",
              "//# sourceURL=js_93f3d46037"
            ]
          },
          "metadata": {}
        },
        {
          "output_type": "display_data",
          "data": {
            "text/plain": [
              "<IPython.core.display.Javascript object>"
            ],
            "application/javascript": [
              "window[\"14098bb2-b097-11ec-957c-0242ac1c0002\"] = google.colab.output.setActiveOutputArea(window[\"13f3f54a-b097-11ec-957c-0242ac1c0002\"]);\n",
              "//# sourceURL=js_21b7bfcfd0"
            ]
          },
          "metadata": {}
        },
        {
          "output_type": "display_data",
          "data": {
            "text/plain": [
              "<IPython.core.display.Javascript object>"
            ],
            "application/javascript": [
              "window[\"140c2192-b097-11ec-957c-0242ac1c0002\"] = google.colab.output.getActiveOutputArea();\n",
              "//# sourceURL=js_2fa7e697b6"
            ]
          },
          "metadata": {}
        },
        {
          "output_type": "display_data",
          "data": {
            "text/plain": [
              "<IPython.core.display.Javascript object>"
            ],
            "application/javascript": [
              "window[\"140cac02-b097-11ec-957c-0242ac1c0002\"] = document.querySelector(\"#id10-0-0\");\n",
              "//# sourceURL=js_494a42dc1a"
            ]
          },
          "metadata": {}
        },
        {
          "output_type": "display_data",
          "data": {
            "text/plain": [
              "<IPython.core.display.Javascript object>"
            ],
            "application/javascript": [
              "window[\"140d7ee8-b097-11ec-957c-0242ac1c0002\"] = google.colab.output.setActiveOutputArea(window[\"140cac02-b097-11ec-957c-0242ac1c0002\"]);\n",
              "//# sourceURL=js_8282a05858"
            ]
          },
          "metadata": {}
        },
        {
          "output_type": "display_data",
          "data": {
            "text/plain": [
              "<IPython.core.display.Javascript object>"
            ],
            "application/javascript": [
              "window[\"14218ee2-b097-11ec-957c-0242ac1c0002\"] = google.colab.output.setActiveOutputArea(window[\"140c2192-b097-11ec-957c-0242ac1c0002\"]);\n",
              "//# sourceURL=js_078c1cb433"
            ]
          },
          "metadata": {}
        },
        {
          "output_type": "display_data",
          "data": {
            "text/plain": [
              "<IPython.core.display.Javascript object>"
            ],
            "application/javascript": [
              "window[\"14241b1c-b097-11ec-957c-0242ac1c0002\"] = google.colab.output.getActiveOutputArea();\n",
              "//# sourceURL=js_8bad14d4e8"
            ]
          },
          "metadata": {}
        },
        {
          "output_type": "display_data",
          "data": {
            "text/plain": [
              "<IPython.core.display.Javascript object>"
            ],
            "application/javascript": [
              "window[\"142471ca-b097-11ec-957c-0242ac1c0002\"] = document.querySelector(\"#id10-0-0\");\n",
              "//# sourceURL=js_95f2ae9b19"
            ]
          },
          "metadata": {}
        },
        {
          "output_type": "display_data",
          "data": {
            "text/plain": [
              "<IPython.core.display.Javascript object>"
            ],
            "application/javascript": [
              "window[\"1424ca3a-b097-11ec-957c-0242ac1c0002\"] = google.colab.output.setActiveOutputArea(window[\"142471ca-b097-11ec-957c-0242ac1c0002\"]);\n",
              "//# sourceURL=js_9ca02cdfef"
            ]
          },
          "metadata": {}
        },
        {
          "output_type": "display_data",
          "data": {
            "text/plain": [
              "<IPython.core.display.Javascript object>"
            ],
            "application/javascript": [
              "window[\"14392692-b097-11ec-957c-0242ac1c0002\"] = google.colab.output.setActiveOutputArea(window[\"14241b1c-b097-11ec-957c-0242ac1c0002\"]);\n",
              "//# sourceURL=js_b538786a3a"
            ]
          },
          "metadata": {}
        },
        {
          "output_type": "display_data",
          "data": {
            "text/plain": [
              "<IPython.core.display.Javascript object>"
            ],
            "application/javascript": [
              "window[\"143c41d8-b097-11ec-957c-0242ac1c0002\"] = google.colab.output.getActiveOutputArea();\n",
              "//# sourceURL=js_bdbd2522aa"
            ]
          },
          "metadata": {}
        },
        {
          "output_type": "display_data",
          "data": {
            "text/plain": [
              "<IPython.core.display.Javascript object>"
            ],
            "application/javascript": [
              "window[\"143cdbac-b097-11ec-957c-0242ac1c0002\"] = document.querySelector(\"#id10-0-0\");\n",
              "//# sourceURL=js_6d5cb45e71"
            ]
          },
          "metadata": {}
        },
        {
          "output_type": "display_data",
          "data": {
            "text/plain": [
              "<IPython.core.display.Javascript object>"
            ],
            "application/javascript": [
              "window[\"143d6446-b097-11ec-957c-0242ac1c0002\"] = google.colab.output.setActiveOutputArea(window[\"143cdbac-b097-11ec-957c-0242ac1c0002\"]);\n",
              "//# sourceURL=js_272a7d66a3"
            ]
          },
          "metadata": {}
        },
        {
          "output_type": "display_data",
          "data": {
            "text/plain": [
              "<IPython.core.display.Javascript object>"
            ],
            "application/javascript": [
              "window[\"1452fcd4-b097-11ec-957c-0242ac1c0002\"] = google.colab.output.setActiveOutputArea(window[\"143c41d8-b097-11ec-957c-0242ac1c0002\"]);\n",
              "//# sourceURL=js_25ba9fde33"
            ]
          },
          "metadata": {}
        },
        {
          "output_type": "display_data",
          "data": {
            "text/plain": [
              "<IPython.core.display.Javascript object>"
            ],
            "application/javascript": [
              "window[\"14559700-b097-11ec-957c-0242ac1c0002\"] = google.colab.output.getActiveOutputArea();\n",
              "//# sourceURL=js_f17f2cc3c6"
            ]
          },
          "metadata": {}
        },
        {
          "output_type": "display_data",
          "data": {
            "text/plain": [
              "<IPython.core.display.Javascript object>"
            ],
            "application/javascript": [
              "window[\"1455dea4-b097-11ec-957c-0242ac1c0002\"] = document.querySelector(\"#id10-0-0\");\n",
              "//# sourceURL=js_9bbada597e"
            ]
          },
          "metadata": {}
        },
        {
          "output_type": "display_data",
          "data": {
            "text/plain": [
              "<IPython.core.display.Javascript object>"
            ],
            "application/javascript": [
              "window[\"14562576-b097-11ec-957c-0242ac1c0002\"] = google.colab.output.setActiveOutputArea(window[\"1455dea4-b097-11ec-957c-0242ac1c0002\"]);\n",
              "//# sourceURL=js_7057c6e629"
            ]
          },
          "metadata": {}
        },
        {
          "output_type": "display_data",
          "data": {
            "text/plain": [
              "<IPython.core.display.Javascript object>"
            ],
            "application/javascript": [
              "window[\"146af38e-b097-11ec-957c-0242ac1c0002\"] = google.colab.output.setActiveOutputArea(window[\"14559700-b097-11ec-957c-0242ac1c0002\"]);\n",
              "//# sourceURL=js_956946cc2a"
            ]
          },
          "metadata": {}
        },
        {
          "output_type": "display_data",
          "data": {
            "text/plain": [
              "<IPython.core.display.Javascript object>"
            ],
            "application/javascript": [
              "window[\"146d507a-b097-11ec-957c-0242ac1c0002\"] = google.colab.output.getActiveOutputArea();\n",
              "//# sourceURL=js_eb187c62b8"
            ]
          },
          "metadata": {}
        },
        {
          "output_type": "display_data",
          "data": {
            "text/plain": [
              "<IPython.core.display.Javascript object>"
            ],
            "application/javascript": [
              "window[\"146da430-b097-11ec-957c-0242ac1c0002\"] = document.querySelector(\"#id10-0-0\");\n",
              "//# sourceURL=js_9eeef5b57c"
            ]
          },
          "metadata": {}
        },
        {
          "output_type": "display_data",
          "data": {
            "text/plain": [
              "<IPython.core.display.Javascript object>"
            ],
            "application/javascript": [
              "window[\"146dfe26-b097-11ec-957c-0242ac1c0002\"] = google.colab.output.setActiveOutputArea(window[\"146da430-b097-11ec-957c-0242ac1c0002\"]);\n",
              "//# sourceURL=js_10d4e47fb7"
            ]
          },
          "metadata": {}
        },
        {
          "output_type": "display_data",
          "data": {
            "text/plain": [
              "<IPython.core.display.Javascript object>"
            ],
            "application/javascript": [
              "window[\"1481f066-b097-11ec-957c-0242ac1c0002\"] = google.colab.output.setActiveOutputArea(window[\"146d507a-b097-11ec-957c-0242ac1c0002\"]);\n",
              "//# sourceURL=js_f5392fed32"
            ]
          },
          "metadata": {}
        },
        {
          "output_type": "display_data",
          "data": {
            "text/plain": [
              "<IPython.core.display.Javascript object>"
            ],
            "application/javascript": [
              "window[\"14847426-b097-11ec-957c-0242ac1c0002\"] = google.colab.output.getActiveOutputArea();\n",
              "//# sourceURL=js_0844cc3753"
            ]
          },
          "metadata": {}
        },
        {
          "output_type": "display_data",
          "data": {
            "text/plain": [
              "<IPython.core.display.Javascript object>"
            ],
            "application/javascript": [
              "window[\"1484f2ca-b097-11ec-957c-0242ac1c0002\"] = document.querySelector(\"#id10-0-0\");\n",
              "//# sourceURL=js_e104ab64ac"
            ]
          },
          "metadata": {}
        },
        {
          "output_type": "display_data",
          "data": {
            "text/plain": [
              "<IPython.core.display.Javascript object>"
            ],
            "application/javascript": [
              "window[\"14853ff0-b097-11ec-957c-0242ac1c0002\"] = google.colab.output.setActiveOutputArea(window[\"1484f2ca-b097-11ec-957c-0242ac1c0002\"]);\n",
              "//# sourceURL=js_f7e0c1245b"
            ]
          },
          "metadata": {}
        },
        {
          "output_type": "display_data",
          "data": {
            "text/plain": [
              "<IPython.core.display.Javascript object>"
            ],
            "application/javascript": [
              "window[\"1498f626-b097-11ec-957c-0242ac1c0002\"] = google.colab.output.setActiveOutputArea(window[\"14847426-b097-11ec-957c-0242ac1c0002\"]);\n",
              "//# sourceURL=js_4ad84e671e"
            ]
          },
          "metadata": {}
        },
        {
          "output_type": "display_data",
          "data": {
            "text/plain": [
              "<IPython.core.display.Javascript object>"
            ],
            "application/javascript": [
              "window[\"149ae0c6-b097-11ec-957c-0242ac1c0002\"] = google.colab.output.getActiveOutputArea();\n",
              "//# sourceURL=js_6fa6ad005f"
            ]
          },
          "metadata": {}
        },
        {
          "output_type": "display_data",
          "data": {
            "text/plain": [
              "<IPython.core.display.Javascript object>"
            ],
            "application/javascript": [
              "window[\"149b687a-b097-11ec-957c-0242ac1c0002\"] = document.querySelector(\"#id10-0-0\");\n",
              "//# sourceURL=js_6eaeeb9972"
            ]
          },
          "metadata": {}
        },
        {
          "output_type": "display_data",
          "data": {
            "text/plain": [
              "<IPython.core.display.Javascript object>"
            ],
            "application/javascript": [
              "window[\"149bbbb8-b097-11ec-957c-0242ac1c0002\"] = google.colab.output.setActiveOutputArea(window[\"149b687a-b097-11ec-957c-0242ac1c0002\"]);\n",
              "//# sourceURL=js_038f3ed480"
            ]
          },
          "metadata": {}
        },
        {
          "output_type": "display_data",
          "data": {
            "text/plain": [
              "<IPython.core.display.Javascript object>"
            ],
            "application/javascript": [
              "window[\"14afec96-b097-11ec-957c-0242ac1c0002\"] = google.colab.output.setActiveOutputArea(window[\"149ae0c6-b097-11ec-957c-0242ac1c0002\"]);\n",
              "//# sourceURL=js_ddc657c86c"
            ]
          },
          "metadata": {}
        },
        {
          "output_type": "display_data",
          "data": {
            "text/plain": [
              "<IPython.core.display.Javascript object>"
            ],
            "application/javascript": [
              "window[\"14b2bb60-b097-11ec-957c-0242ac1c0002\"] = google.colab.output.getActiveOutputArea();\n",
              "//# sourceURL=js_930b775225"
            ]
          },
          "metadata": {}
        },
        {
          "output_type": "display_data",
          "data": {
            "text/plain": [
              "<IPython.core.display.Javascript object>"
            ],
            "application/javascript": [
              "window[\"14b33608-b097-11ec-957c-0242ac1c0002\"] = document.querySelector(\"#id10-0-0\");\n",
              "//# sourceURL=js_4539cb4217"
            ]
          },
          "metadata": {}
        },
        {
          "output_type": "display_data",
          "data": {
            "text/plain": [
              "<IPython.core.display.Javascript object>"
            ],
            "application/javascript": [
              "window[\"14b3bf60-b097-11ec-957c-0242ac1c0002\"] = google.colab.output.setActiveOutputArea(window[\"14b33608-b097-11ec-957c-0242ac1c0002\"]);\n",
              "//# sourceURL=js_62c14cc8c1"
            ]
          },
          "metadata": {}
        },
        {
          "output_type": "display_data",
          "data": {
            "text/plain": [
              "<IPython.core.display.Javascript object>"
            ],
            "application/javascript": [
              "window[\"14c98868-b097-11ec-957c-0242ac1c0002\"] = google.colab.output.setActiveOutputArea(window[\"14b2bb60-b097-11ec-957c-0242ac1c0002\"]);\n",
              "//# sourceURL=js_309b36d4c9"
            ]
          },
          "metadata": {}
        },
        {
          "output_type": "display_data",
          "data": {
            "text/plain": [
              "<IPython.core.display.Javascript object>"
            ],
            "application/javascript": [
              "window[\"14cca156-b097-11ec-957c-0242ac1c0002\"] = google.colab.output.getActiveOutputArea();\n",
              "//# sourceURL=js_a5e35db85b"
            ]
          },
          "metadata": {}
        },
        {
          "output_type": "display_data",
          "data": {
            "text/plain": [
              "<IPython.core.display.Javascript object>"
            ],
            "application/javascript": [
              "window[\"14cd22b6-b097-11ec-957c-0242ac1c0002\"] = document.querySelector(\"#id10-0-0\");\n",
              "//# sourceURL=js_f82056f6c2"
            ]
          },
          "metadata": {}
        },
        {
          "output_type": "display_data",
          "data": {
            "text/plain": [
              "<IPython.core.display.Javascript object>"
            ],
            "application/javascript": [
              "window[\"14cdb370-b097-11ec-957c-0242ac1c0002\"] = google.colab.output.setActiveOutputArea(window[\"14cd22b6-b097-11ec-957c-0242ac1c0002\"]);\n",
              "//# sourceURL=js_306ba5e62b"
            ]
          },
          "metadata": {}
        },
        {
          "output_type": "display_data",
          "data": {
            "text/plain": [
              "<IPython.core.display.Javascript object>"
            ],
            "application/javascript": [
              "window[\"14e13f3a-b097-11ec-957c-0242ac1c0002\"] = google.colab.output.setActiveOutputArea(window[\"14cca156-b097-11ec-957c-0242ac1c0002\"]);\n",
              "//# sourceURL=js_f0d8759739"
            ]
          },
          "metadata": {}
        },
        {
          "output_type": "display_data",
          "data": {
            "text/plain": [
              "<IPython.core.display.Javascript object>"
            ],
            "application/javascript": [
              "window[\"14e32016-b097-11ec-957c-0242ac1c0002\"] = google.colab.output.getActiveOutputArea();\n",
              "//# sourceURL=js_8a1879f606"
            ]
          },
          "metadata": {}
        },
        {
          "output_type": "display_data",
          "data": {
            "text/plain": [
              "<IPython.core.display.Javascript object>"
            ],
            "application/javascript": [
              "window[\"14e36af8-b097-11ec-957c-0242ac1c0002\"] = document.querySelector(\"#id10-0-0\");\n",
              "//# sourceURL=js_caa5bbad8e"
            ]
          },
          "metadata": {}
        },
        {
          "output_type": "display_data",
          "data": {
            "text/plain": [
              "<IPython.core.display.Javascript object>"
            ],
            "application/javascript": [
              "window[\"14e3bf4e-b097-11ec-957c-0242ac1c0002\"] = google.colab.output.setActiveOutputArea(window[\"14e36af8-b097-11ec-957c-0242ac1c0002\"]);\n",
              "//# sourceURL=js_ff22f80e06"
            ]
          },
          "metadata": {}
        },
        {
          "output_type": "display_data",
          "data": {
            "text/plain": [
              "<IPython.core.display.Javascript object>"
            ],
            "application/javascript": [
              "window[\"14fa7dce-b097-11ec-957c-0242ac1c0002\"] = google.colab.output.setActiveOutputArea(window[\"14e32016-b097-11ec-957c-0242ac1c0002\"]);\n",
              "//# sourceURL=js_75dd826d93"
            ]
          },
          "metadata": {}
        },
        {
          "output_type": "display_data",
          "data": {
            "text/plain": [
              "<IPython.core.display.Javascript object>"
            ],
            "application/javascript": [
              "window[\"14fc7a3e-b097-11ec-957c-0242ac1c0002\"] = google.colab.output.getActiveOutputArea();\n",
              "//# sourceURL=js_df4d6e1c8f"
            ]
          },
          "metadata": {}
        },
        {
          "output_type": "display_data",
          "data": {
            "text/plain": [
              "<IPython.core.display.Javascript object>"
            ],
            "application/javascript": [
              "window[\"14fcccc8-b097-11ec-957c-0242ac1c0002\"] = document.querySelector(\"#id10-0-0\");\n",
              "//# sourceURL=js_e16db73f43"
            ]
          },
          "metadata": {}
        },
        {
          "output_type": "display_data",
          "data": {
            "text/plain": [
              "<IPython.core.display.Javascript object>"
            ],
            "application/javascript": [
              "window[\"14fd1160-b097-11ec-957c-0242ac1c0002\"] = google.colab.output.setActiveOutputArea(window[\"14fcccc8-b097-11ec-957c-0242ac1c0002\"]);\n",
              "//# sourceURL=js_b477f6d497"
            ]
          },
          "metadata": {}
        },
        {
          "output_type": "display_data",
          "data": {
            "text/plain": [
              "<IPython.core.display.Javascript object>"
            ],
            "application/javascript": [
              "window[\"1511e6f8-b097-11ec-957c-0242ac1c0002\"] = google.colab.output.setActiveOutputArea(window[\"14fc7a3e-b097-11ec-957c-0242ac1c0002\"]);\n",
              "//# sourceURL=js_9db368e202"
            ]
          },
          "metadata": {}
        },
        {
          "output_type": "display_data",
          "data": {
            "text/plain": [
              "<IPython.core.display.Javascript object>"
            ],
            "application/javascript": [
              "window[\"15144dd0-b097-11ec-957c-0242ac1c0002\"] = google.colab.output.getActiveOutputArea();\n",
              "//# sourceURL=js_36875998c1"
            ]
          },
          "metadata": {}
        },
        {
          "output_type": "display_data",
          "data": {
            "text/plain": [
              "<IPython.core.display.Javascript object>"
            ],
            "application/javascript": [
              "window[\"1514a474-b097-11ec-957c-0242ac1c0002\"] = document.querySelector(\"#id10-0-0\");\n",
              "//# sourceURL=js_61e386c878"
            ]
          },
          "metadata": {}
        },
        {
          "output_type": "display_data",
          "data": {
            "text/plain": [
              "<IPython.core.display.Javascript object>"
            ],
            "application/javascript": [
              "window[\"15151116-b097-11ec-957c-0242ac1c0002\"] = google.colab.output.setActiveOutputArea(window[\"1514a474-b097-11ec-957c-0242ac1c0002\"]);\n",
              "//# sourceURL=js_3f1076342e"
            ]
          },
          "metadata": {}
        },
        {
          "output_type": "display_data",
          "data": {
            "text/plain": [
              "<IPython.core.display.Javascript object>"
            ],
            "application/javascript": [
              "window[\"152a7a1a-b097-11ec-957c-0242ac1c0002\"] = google.colab.output.setActiveOutputArea(window[\"15144dd0-b097-11ec-957c-0242ac1c0002\"]);\n",
              "//# sourceURL=js_baa95ca142"
            ]
          },
          "metadata": {}
        },
        {
          "output_type": "display_data",
          "data": {
            "text/plain": [
              "<IPython.core.display.Javascript object>"
            ],
            "application/javascript": [
              "window[\"152c533a-b097-11ec-957c-0242ac1c0002\"] = google.colab.output.getActiveOutputArea();\n",
              "//# sourceURL=js_0d366bb7e6"
            ]
          },
          "metadata": {}
        },
        {
          "output_type": "display_data",
          "data": {
            "text/plain": [
              "<IPython.core.display.Javascript object>"
            ],
            "application/javascript": [
              "window[\"152ca592-b097-11ec-957c-0242ac1c0002\"] = document.querySelector(\"#id10-0-0\");\n",
              "//# sourceURL=js_21f86aec1d"
            ]
          },
          "metadata": {}
        },
        {
          "output_type": "display_data",
          "data": {
            "text/plain": [
              "<IPython.core.display.Javascript object>"
            ],
            "application/javascript": [
              "window[\"152cf920-b097-11ec-957c-0242ac1c0002\"] = google.colab.output.setActiveOutputArea(window[\"152ca592-b097-11ec-957c-0242ac1c0002\"]);\n",
              "//# sourceURL=js_3414669640"
            ]
          },
          "metadata": {}
        },
        {
          "output_type": "display_data",
          "data": {
            "text/plain": [
              "<IPython.core.display.Javascript object>"
            ],
            "application/javascript": [
              "window[\"1543d5c8-b097-11ec-957c-0242ac1c0002\"] = google.colab.output.setActiveOutputArea(window[\"152c533a-b097-11ec-957c-0242ac1c0002\"]);\n",
              "//# sourceURL=js_bf9526cdb5"
            ]
          },
          "metadata": {}
        },
        {
          "output_type": "display_data",
          "data": {
            "text/plain": [
              "<IPython.core.display.Javascript object>"
            ],
            "application/javascript": [
              "window[\"1545eff2-b097-11ec-957c-0242ac1c0002\"] = google.colab.output.getActiveOutputArea();\n",
              "//# sourceURL=js_e7031b446d"
            ]
          },
          "metadata": {}
        },
        {
          "output_type": "display_data",
          "data": {
            "text/plain": [
              "<IPython.core.display.Javascript object>"
            ],
            "application/javascript": [
              "window[\"15464e84-b097-11ec-957c-0242ac1c0002\"] = document.querySelector(\"#id10-0-0\");\n",
              "//# sourceURL=js_e70a28792f"
            ]
          },
          "metadata": {}
        },
        {
          "output_type": "display_data",
          "data": {
            "text/plain": [
              "<IPython.core.display.Javascript object>"
            ],
            "application/javascript": [
              "window[\"1546a3ca-b097-11ec-957c-0242ac1c0002\"] = google.colab.output.setActiveOutputArea(window[\"15464e84-b097-11ec-957c-0242ac1c0002\"]);\n",
              "//# sourceURL=js_8c41b9f550"
            ]
          },
          "metadata": {}
        },
        {
          "output_type": "display_data",
          "data": {
            "text/plain": [
              "<IPython.core.display.Javascript object>"
            ],
            "application/javascript": [
              "window[\"156653aa-b097-11ec-957c-0242ac1c0002\"] = google.colab.output.setActiveOutputArea(window[\"1545eff2-b097-11ec-957c-0242ac1c0002\"]);\n",
              "//# sourceURL=js_03871a4272"
            ]
          },
          "metadata": {}
        },
        {
          "output_type": "display_data",
          "data": {
            "text/plain": [
              "<IPython.core.display.Javascript object>"
            ],
            "application/javascript": [
              "window[\"156942e0-b097-11ec-957c-0242ac1c0002\"] = google.colab.output.getActiveOutputArea();\n",
              "//# sourceURL=js_dd67bb76ef"
            ]
          },
          "metadata": {}
        },
        {
          "output_type": "display_data",
          "data": {
            "text/plain": [
              "<IPython.core.display.Javascript object>"
            ],
            "application/javascript": [
              "window[\"1569dac0-b097-11ec-957c-0242ac1c0002\"] = document.querySelector(\"#id10-0-0\");\n",
              "//# sourceURL=js_4d9a3b005f"
            ]
          },
          "metadata": {}
        },
        {
          "output_type": "display_data",
          "data": {
            "text/plain": [
              "<IPython.core.display.Javascript object>"
            ],
            "application/javascript": [
              "window[\"156a6dd2-b097-11ec-957c-0242ac1c0002\"] = google.colab.output.setActiveOutputArea(window[\"1569dac0-b097-11ec-957c-0242ac1c0002\"]);\n",
              "//# sourceURL=js_7941f629f4"
            ]
          },
          "metadata": {}
        },
        {
          "output_type": "display_data",
          "data": {
            "text/plain": [
              "<IPython.core.display.Javascript object>"
            ],
            "application/javascript": [
              "window[\"157ea036-b097-11ec-957c-0242ac1c0002\"] = google.colab.output.setActiveOutputArea(window[\"156942e0-b097-11ec-957c-0242ac1c0002\"]);\n",
              "//# sourceURL=js_bebf2360bd"
            ]
          },
          "metadata": {}
        },
        {
          "output_type": "display_data",
          "data": {
            "text/plain": [
              "<IPython.core.display.Javascript object>"
            ],
            "application/javascript": [
              "window[\"15813c92-b097-11ec-957c-0242ac1c0002\"] = google.colab.output.getActiveOutputArea();\n",
              "//# sourceURL=js_fa8f522dc7"
            ]
          },
          "metadata": {}
        },
        {
          "output_type": "display_data",
          "data": {
            "text/plain": [
              "<IPython.core.display.Javascript object>"
            ],
            "application/javascript": [
              "window[\"15818ada-b097-11ec-957c-0242ac1c0002\"] = document.querySelector(\"#id10-0-0\");\n",
              "//# sourceURL=js_d62cfdde24"
            ]
          },
          "metadata": {}
        },
        {
          "output_type": "display_data",
          "data": {
            "text/plain": [
              "<IPython.core.display.Javascript object>"
            ],
            "application/javascript": [
              "window[\"1581e6b0-b097-11ec-957c-0242ac1c0002\"] = google.colab.output.setActiveOutputArea(window[\"15818ada-b097-11ec-957c-0242ac1c0002\"]);\n",
              "//# sourceURL=js_678bd139c8"
            ]
          },
          "metadata": {}
        },
        {
          "output_type": "display_data",
          "data": {
            "text/plain": [
              "<IPython.core.display.Javascript object>"
            ],
            "application/javascript": [
              "window[\"15981e26-b097-11ec-957c-0242ac1c0002\"] = google.colab.output.setActiveOutputArea(window[\"15813c92-b097-11ec-957c-0242ac1c0002\"]);\n",
              "//# sourceURL=js_846eec1f75"
            ]
          },
          "metadata": {}
        },
        {
          "output_type": "display_data",
          "data": {
            "text/plain": [
              "<IPython.core.display.Javascript object>"
            ],
            "application/javascript": [
              "window[\"159b0d98-b097-11ec-957c-0242ac1c0002\"] = google.colab.output.getActiveOutputArea();\n",
              "//# sourceURL=js_72a97f2bd9"
            ]
          },
          "metadata": {}
        },
        {
          "output_type": "display_data",
          "data": {
            "text/plain": [
              "<IPython.core.display.Javascript object>"
            ],
            "application/javascript": [
              "window[\"159b51fe-b097-11ec-957c-0242ac1c0002\"] = document.querySelector(\"#id10-0-0\");\n",
              "//# sourceURL=js_58bda8e1e4"
            ]
          },
          "metadata": {}
        },
        {
          "output_type": "display_data",
          "data": {
            "text/plain": [
              "<IPython.core.display.Javascript object>"
            ],
            "application/javascript": [
              "window[\"159b9f10-b097-11ec-957c-0242ac1c0002\"] = google.colab.output.setActiveOutputArea(window[\"159b51fe-b097-11ec-957c-0242ac1c0002\"]);\n",
              "//# sourceURL=js_c184501947"
            ]
          },
          "metadata": {}
        },
        {
          "output_type": "display_data",
          "data": {
            "text/plain": [
              "<IPython.core.display.Javascript object>"
            ],
            "application/javascript": [
              "window[\"15b017ba-b097-11ec-957c-0242ac1c0002\"] = google.colab.output.setActiveOutputArea(window[\"159b0d98-b097-11ec-957c-0242ac1c0002\"]);\n",
              "//# sourceURL=js_694a0ccc67"
            ]
          },
          "metadata": {}
        },
        {
          "output_type": "display_data",
          "data": {
            "text/plain": [
              "<IPython.core.display.Javascript object>"
            ],
            "application/javascript": [
              "window[\"15b25e94-b097-11ec-957c-0242ac1c0002\"] = google.colab.output.getActiveOutputArea();\n",
              "//# sourceURL=js_6aa22df923"
            ]
          },
          "metadata": {}
        },
        {
          "output_type": "display_data",
          "data": {
            "text/plain": [
              "<IPython.core.display.Javascript object>"
            ],
            "application/javascript": [
              "window[\"15b2b664-b097-11ec-957c-0242ac1c0002\"] = document.querySelector(\"#id10-0-0\");\n",
              "//# sourceURL=js_5da7582c46"
            ]
          },
          "metadata": {}
        },
        {
          "output_type": "display_data",
          "data": {
            "text/plain": [
              "<IPython.core.display.Javascript object>"
            ],
            "application/javascript": [
              "window[\"15b2f6a6-b097-11ec-957c-0242ac1c0002\"] = google.colab.output.setActiveOutputArea(window[\"15b2b664-b097-11ec-957c-0242ac1c0002\"]);\n",
              "//# sourceURL=js_970cd8f19c"
            ]
          },
          "metadata": {}
        },
        {
          "output_type": "display_data",
          "data": {
            "text/plain": [
              "<IPython.core.display.Javascript object>"
            ],
            "application/javascript": [
              "window[\"15c9a662-b097-11ec-957c-0242ac1c0002\"] = google.colab.output.setActiveOutputArea(window[\"15b25e94-b097-11ec-957c-0242ac1c0002\"]);\n",
              "//# sourceURL=js_b04a8e2113"
            ]
          },
          "metadata": {}
        },
        {
          "output_type": "display_data",
          "data": {
            "text/plain": [
              "<IPython.core.display.Javascript object>"
            ],
            "application/javascript": [
              "window[\"15cc8a76-b097-11ec-957c-0242ac1c0002\"] = google.colab.output.getActiveOutputArea();\n",
              "//# sourceURL=js_922a21cf75"
            ]
          },
          "metadata": {}
        },
        {
          "output_type": "display_data",
          "data": {
            "text/plain": [
              "<IPython.core.display.Javascript object>"
            ],
            "application/javascript": [
              "window[\"15cd1c02-b097-11ec-957c-0242ac1c0002\"] = document.querySelector(\"#id10-0-0\");\n",
              "//# sourceURL=js_343436e7ce"
            ]
          },
          "metadata": {}
        },
        {
          "output_type": "display_data",
          "data": {
            "text/plain": [
              "<IPython.core.display.Javascript object>"
            ],
            "application/javascript": [
              "window[\"15cdac26-b097-11ec-957c-0242ac1c0002\"] = google.colab.output.setActiveOutputArea(window[\"15cd1c02-b097-11ec-957c-0242ac1c0002\"]);\n",
              "//# sourceURL=js_5f505cdbdc"
            ]
          },
          "metadata": {}
        },
        {
          "output_type": "display_data",
          "data": {
            "text/plain": [
              "<IPython.core.display.Javascript object>"
            ],
            "application/javascript": [
              "window[\"15e7d7e0-b097-11ec-957c-0242ac1c0002\"] = google.colab.output.setActiveOutputArea(window[\"15cc8a76-b097-11ec-957c-0242ac1c0002\"]);\n",
              "//# sourceURL=js_5753743a1e"
            ]
          },
          "metadata": {}
        },
        {
          "output_type": "display_data",
          "data": {
            "text/plain": [
              "<IPython.core.display.Javascript object>"
            ],
            "application/javascript": [
              "window[\"15eb8cfa-b097-11ec-957c-0242ac1c0002\"] = google.colab.output.getActiveOutputArea();\n",
              "//# sourceURL=js_3888e2ef74"
            ]
          },
          "metadata": {}
        },
        {
          "output_type": "display_data",
          "data": {
            "text/plain": [
              "<IPython.core.display.Javascript object>"
            ],
            "application/javascript": [
              "window[\"15ec28ea-b097-11ec-957c-0242ac1c0002\"] = document.querySelector(\"#id10-0-0\");\n",
              "//# sourceURL=js_3e1c779d19"
            ]
          },
          "metadata": {}
        },
        {
          "output_type": "display_data",
          "data": {
            "text/plain": [
              "<IPython.core.display.Javascript object>"
            ],
            "application/javascript": [
              "window[\"15ecf0e0-b097-11ec-957c-0242ac1c0002\"] = google.colab.output.setActiveOutputArea(window[\"15ec28ea-b097-11ec-957c-0242ac1c0002\"]);\n",
              "//# sourceURL=js_96823382c7"
            ]
          },
          "metadata": {}
        },
        {
          "output_type": "display_data",
          "data": {
            "text/plain": [
              "<IPython.core.display.Javascript object>"
            ],
            "application/javascript": [
              "window[\"160203c2-b097-11ec-957c-0242ac1c0002\"] = google.colab.output.setActiveOutputArea(window[\"15eb8cfa-b097-11ec-957c-0242ac1c0002\"]);\n",
              "//# sourceURL=js_2afa1bf682"
            ]
          },
          "metadata": {}
        },
        {
          "output_type": "display_data",
          "data": {
            "text/plain": [
              "<IPython.core.display.Javascript object>"
            ],
            "application/javascript": [
              "window[\"1605671a-b097-11ec-957c-0242ac1c0002\"] = google.colab.output.getActiveOutputArea();\n",
              "//# sourceURL=js_10109c453c"
            ]
          },
          "metadata": {}
        },
        {
          "output_type": "display_data",
          "data": {
            "text/plain": [
              "<IPython.core.display.Javascript object>"
            ],
            "application/javascript": [
              "window[\"1605f338-b097-11ec-957c-0242ac1c0002\"] = document.querySelector(\"#id10-0-0\");\n",
              "//# sourceURL=js_b03444f5fb"
            ]
          },
          "metadata": {}
        },
        {
          "output_type": "display_data",
          "data": {
            "text/plain": [
              "<IPython.core.display.Javascript object>"
            ],
            "application/javascript": [
              "window[\"16067d94-b097-11ec-957c-0242ac1c0002\"] = google.colab.output.setActiveOutputArea(window[\"1605f338-b097-11ec-957c-0242ac1c0002\"]);\n",
              "//# sourceURL=js_c4630f5bdf"
            ]
          },
          "metadata": {}
        },
        {
          "output_type": "display_data",
          "data": {
            "text/plain": [
              "<IPython.core.display.Javascript object>"
            ],
            "application/javascript": [
              "window[\"161bf5ca-b097-11ec-957c-0242ac1c0002\"] = google.colab.output.setActiveOutputArea(window[\"1605671a-b097-11ec-957c-0242ac1c0002\"]);\n",
              "//# sourceURL=js_47fbdf86e9"
            ]
          },
          "metadata": {}
        },
        {
          "output_type": "display_data",
          "data": {
            "text/plain": [
              "<IPython.core.display.Javascript object>"
            ],
            "application/javascript": [
              "window[\"161e2fd4-b097-11ec-957c-0242ac1c0002\"] = google.colab.output.getActiveOutputArea();\n",
              "//# sourceURL=js_d458bcc74e"
            ]
          },
          "metadata": {}
        },
        {
          "output_type": "display_data",
          "data": {
            "text/plain": [
              "<IPython.core.display.Javascript object>"
            ],
            "application/javascript": [
              "window[\"161eb33c-b097-11ec-957c-0242ac1c0002\"] = document.querySelector(\"#id10-0-0\");\n",
              "//# sourceURL=js_481c8fabcc"
            ]
          },
          "metadata": {}
        },
        {
          "output_type": "display_data",
          "data": {
            "text/plain": [
              "<IPython.core.display.Javascript object>"
            ],
            "application/javascript": [
              "window[\"161f42fc-b097-11ec-957c-0242ac1c0002\"] = google.colab.output.setActiveOutputArea(window[\"161eb33c-b097-11ec-957c-0242ac1c0002\"]);\n",
              "//# sourceURL=js_9d2bc05bff"
            ]
          },
          "metadata": {}
        },
        {
          "output_type": "display_data",
          "data": {
            "text/plain": [
              "<IPython.core.display.Javascript object>"
            ],
            "application/javascript": [
              "window[\"1634d19e-b097-11ec-957c-0242ac1c0002\"] = google.colab.output.setActiveOutputArea(window[\"161e2fd4-b097-11ec-957c-0242ac1c0002\"]);\n",
              "//# sourceURL=js_10ab58a505"
            ]
          },
          "metadata": {}
        },
        {
          "output_type": "display_data",
          "data": {
            "text/plain": [
              "<IPython.core.display.Javascript object>"
            ],
            "application/javascript": [
              "window[\"16377c46-b097-11ec-957c-0242ac1c0002\"] = google.colab.output.getActiveOutputArea();\n",
              "//# sourceURL=js_38069a1b62"
            ]
          },
          "metadata": {}
        },
        {
          "output_type": "display_data",
          "data": {
            "text/plain": [
              "<IPython.core.display.Javascript object>"
            ],
            "application/javascript": [
              "window[\"1637e10e-b097-11ec-957c-0242ac1c0002\"] = document.querySelector(\"#id10-0-0\");\n",
              "//# sourceURL=js_9c148bb04b"
            ]
          },
          "metadata": {}
        },
        {
          "output_type": "display_data",
          "data": {
            "text/plain": [
              "<IPython.core.display.Javascript object>"
            ],
            "application/javascript": [
              "window[\"16382c68-b097-11ec-957c-0242ac1c0002\"] = google.colab.output.setActiveOutputArea(window[\"1637e10e-b097-11ec-957c-0242ac1c0002\"]);\n",
              "//# sourceURL=js_068e512869"
            ]
          },
          "metadata": {}
        },
        {
          "output_type": "display_data",
          "data": {
            "text/plain": [
              "<IPython.core.display.Javascript object>"
            ],
            "application/javascript": [
              "window[\"164ddbe4-b097-11ec-957c-0242ac1c0002\"] = google.colab.output.setActiveOutputArea(window[\"16377c46-b097-11ec-957c-0242ac1c0002\"]);\n",
              "//# sourceURL=js_ec5a4ced2c"
            ]
          },
          "metadata": {}
        },
        {
          "output_type": "display_data",
          "data": {
            "text/plain": [
              "<IPython.core.display.Javascript object>"
            ],
            "application/javascript": [
              "window[\"1651b566-b097-11ec-957c-0242ac1c0002\"] = google.colab.output.getActiveOutputArea();\n",
              "//# sourceURL=js_d89c97fe57"
            ]
          },
          "metadata": {}
        },
        {
          "output_type": "display_data",
          "data": {
            "text/plain": [
              "<IPython.core.display.Javascript object>"
            ],
            "application/javascript": [
              "window[\"1651ee8c-b097-11ec-957c-0242ac1c0002\"] = document.querySelector(\"#id10-0-0\");\n",
              "//# sourceURL=js_6f469549a6"
            ]
          },
          "metadata": {}
        },
        {
          "output_type": "display_data",
          "data": {
            "text/plain": [
              "<IPython.core.display.Javascript object>"
            ],
            "application/javascript": [
              "window[\"16523414-b097-11ec-957c-0242ac1c0002\"] = google.colab.output.setActiveOutputArea(window[\"1651ee8c-b097-11ec-957c-0242ac1c0002\"]);\n",
              "//# sourceURL=js_d08d1a0d62"
            ]
          },
          "metadata": {}
        },
        {
          "output_type": "display_data",
          "data": {
            "text/plain": [
              "<IPython.core.display.Javascript object>"
            ],
            "application/javascript": [
              "window[\"1666f3fe-b097-11ec-957c-0242ac1c0002\"] = google.colab.output.setActiveOutputArea(window[\"1651b566-b097-11ec-957c-0242ac1c0002\"]);\n",
              "//# sourceURL=js_8b6b8b7a68"
            ]
          },
          "metadata": {}
        },
        {
          "output_type": "display_data",
          "data": {
            "text/plain": [
              "<IPython.core.display.Javascript object>"
            ],
            "application/javascript": [
              "window[\"166a7d44-b097-11ec-957c-0242ac1c0002\"] = google.colab.output.getActiveOutputArea();\n",
              "//# sourceURL=js_2334693c46"
            ]
          },
          "metadata": {}
        },
        {
          "output_type": "display_data",
          "data": {
            "text/plain": [
              "<IPython.core.display.Javascript object>"
            ],
            "application/javascript": [
              "window[\"166aef68-b097-11ec-957c-0242ac1c0002\"] = document.querySelector(\"#id10-0-0\");\n",
              "//# sourceURL=js_45362ae1a0"
            ]
          },
          "metadata": {}
        },
        {
          "output_type": "display_data",
          "data": {
            "text/plain": [
              "<IPython.core.display.Javascript object>"
            ],
            "application/javascript": [
              "window[\"166b43be-b097-11ec-957c-0242ac1c0002\"] = google.colab.output.setActiveOutputArea(window[\"166aef68-b097-11ec-957c-0242ac1c0002\"]);\n",
              "//# sourceURL=js_551abbc996"
            ]
          },
          "metadata": {}
        },
        {
          "output_type": "display_data",
          "data": {
            "text/plain": [
              "<IPython.core.display.Javascript object>"
            ],
            "application/javascript": [
              "window[\"16813aac-b097-11ec-957c-0242ac1c0002\"] = google.colab.output.setActiveOutputArea(window[\"166a7d44-b097-11ec-957c-0242ac1c0002\"]);\n",
              "//# sourceURL=js_663a5703f5"
            ]
          },
          "metadata": {}
        },
        {
          "output_type": "display_data",
          "data": {
            "text/plain": [
              "<IPython.core.display.Javascript object>"
            ],
            "application/javascript": [
              "window[\"1682ea46-b097-11ec-957c-0242ac1c0002\"] = google.colab.output.getActiveOutputArea();\n",
              "//# sourceURL=js_b53a4e77c7"
            ]
          },
          "metadata": {}
        },
        {
          "output_type": "display_data",
          "data": {
            "text/plain": [
              "<IPython.core.display.Javascript object>"
            ],
            "application/javascript": [
              "window[\"168321a0-b097-11ec-957c-0242ac1c0002\"] = document.querySelector(\"#id10-0-0\");\n",
              "//# sourceURL=js_fdf8aa5256"
            ]
          },
          "metadata": {}
        },
        {
          "output_type": "display_data",
          "data": {
            "text/plain": [
              "<IPython.core.display.Javascript object>"
            ],
            "application/javascript": [
              "window[\"168360fc-b097-11ec-957c-0242ac1c0002\"] = google.colab.output.setActiveOutputArea(window[\"168321a0-b097-11ec-957c-0242ac1c0002\"]);\n",
              "//# sourceURL=js_c56004d550"
            ]
          },
          "metadata": {}
        },
        {
          "output_type": "display_data",
          "data": {
            "text/plain": [
              "<IPython.core.display.Javascript object>"
            ],
            "application/javascript": [
              "window[\"1699b14a-b097-11ec-957c-0242ac1c0002\"] = google.colab.output.setActiveOutputArea(window[\"1682ea46-b097-11ec-957c-0242ac1c0002\"]);\n",
              "//# sourceURL=js_f147c681d7"
            ]
          },
          "metadata": {}
        },
        {
          "output_type": "display_data",
          "data": {
            "text/plain": [
              "<IPython.core.display.Javascript object>"
            ],
            "application/javascript": [
              "window[\"169cb64c-b097-11ec-957c-0242ac1c0002\"] = google.colab.output.getActiveOutputArea();\n",
              "//# sourceURL=js_53115981f3"
            ]
          },
          "metadata": {}
        },
        {
          "output_type": "display_data",
          "data": {
            "text/plain": [
              "<IPython.core.display.Javascript object>"
            ],
            "application/javascript": [
              "window[\"169cf544-b097-11ec-957c-0242ac1c0002\"] = document.querySelector(\"#id10-0-0\");\n",
              "//# sourceURL=js_4d3fc4377f"
            ]
          },
          "metadata": {}
        },
        {
          "output_type": "display_data",
          "data": {
            "text/plain": [
              "<IPython.core.display.Javascript object>"
            ],
            "application/javascript": [
              "window[\"169d3586-b097-11ec-957c-0242ac1c0002\"] = google.colab.output.setActiveOutputArea(window[\"169cf544-b097-11ec-957c-0242ac1c0002\"]);\n",
              "//# sourceURL=js_a6ed3b2af2"
            ]
          },
          "metadata": {}
        },
        {
          "output_type": "display_data",
          "data": {
            "text/plain": [
              "<IPython.core.display.Javascript object>"
            ],
            "application/javascript": [
              "window[\"16b289fe-b097-11ec-957c-0242ac1c0002\"] = google.colab.output.setActiveOutputArea(window[\"169cb64c-b097-11ec-957c-0242ac1c0002\"]);\n",
              "//# sourceURL=js_99f8b68f1d"
            ]
          },
          "metadata": {}
        },
        {
          "output_type": "display_data",
          "data": {
            "text/plain": [
              "<IPython.core.display.Javascript object>"
            ],
            "application/javascript": [
              "window[\"16b4df2e-b097-11ec-957c-0242ac1c0002\"] = google.colab.output.getActiveOutputArea();\n",
              "//# sourceURL=js_32e6b37786"
            ]
          },
          "metadata": {}
        },
        {
          "output_type": "display_data",
          "data": {
            "text/plain": [
              "<IPython.core.display.Javascript object>"
            ],
            "application/javascript": [
              "window[\"16b520a6-b097-11ec-957c-0242ac1c0002\"] = document.querySelector(\"#id10-0-0\");\n",
              "//# sourceURL=js_d4911bd527"
            ]
          },
          "metadata": {}
        },
        {
          "output_type": "display_data",
          "data": {
            "text/plain": [
              "<IPython.core.display.Javascript object>"
            ],
            "application/javascript": [
              "window[\"16b566c4-b097-11ec-957c-0242ac1c0002\"] = google.colab.output.setActiveOutputArea(window[\"16b520a6-b097-11ec-957c-0242ac1c0002\"]);\n",
              "//# sourceURL=js_6106055543"
            ]
          },
          "metadata": {}
        },
        {
          "output_type": "display_data",
          "data": {
            "text/plain": [
              "<IPython.core.display.Javascript object>"
            ],
            "application/javascript": [
              "window[\"16cca1fe-b097-11ec-957c-0242ac1c0002\"] = google.colab.output.setActiveOutputArea(window[\"16b4df2e-b097-11ec-957c-0242ac1c0002\"]);\n",
              "//# sourceURL=js_a74cb632f0"
            ]
          },
          "metadata": {}
        },
        {
          "output_type": "display_data",
          "data": {
            "text/plain": [
              "<IPython.core.display.Javascript object>"
            ],
            "application/javascript": [
              "window[\"16cf70dc-b097-11ec-957c-0242ac1c0002\"] = google.colab.output.getActiveOutputArea();\n",
              "//# sourceURL=js_16eaa1574e"
            ]
          },
          "metadata": {}
        },
        {
          "output_type": "display_data",
          "data": {
            "text/plain": [
              "<IPython.core.display.Javascript object>"
            ],
            "application/javascript": [
              "window[\"16cfb6d2-b097-11ec-957c-0242ac1c0002\"] = document.querySelector(\"#id10-0-0\");\n",
              "//# sourceURL=js_796abd5f13"
            ]
          },
          "metadata": {}
        },
        {
          "output_type": "display_data",
          "data": {
            "text/plain": [
              "<IPython.core.display.Javascript object>"
            ],
            "application/javascript": [
              "window[\"16cff3b8-b097-11ec-957c-0242ac1c0002\"] = google.colab.output.setActiveOutputArea(window[\"16cfb6d2-b097-11ec-957c-0242ac1c0002\"]);\n",
              "//# sourceURL=js_fbf04edb42"
            ]
          },
          "metadata": {}
        },
        {
          "output_type": "display_data",
          "data": {
            "text/plain": [
              "<IPython.core.display.Javascript object>"
            ],
            "application/javascript": [
              "window[\"16e5c4cc-b097-11ec-957c-0242ac1c0002\"] = google.colab.output.setActiveOutputArea(window[\"16cf70dc-b097-11ec-957c-0242ac1c0002\"]);\n",
              "//# sourceURL=js_8b8e7ecaed"
            ]
          },
          "metadata": {}
        },
        {
          "output_type": "display_data",
          "data": {
            "text/plain": [
              "<IPython.core.display.Javascript object>"
            ],
            "application/javascript": [
              "window[\"16ea56cc-b097-11ec-957c-0242ac1c0002\"] = google.colab.output.getActiveOutputArea();\n",
              "//# sourceURL=js_c1ef753db3"
            ]
          },
          "metadata": {}
        },
        {
          "output_type": "display_data",
          "data": {
            "text/plain": [
              "<IPython.core.display.Javascript object>"
            ],
            "application/javascript": [
              "window[\"16eada98-b097-11ec-957c-0242ac1c0002\"] = document.querySelector(\"#id10-0-0\");\n",
              "//# sourceURL=js_5e5ff394db"
            ]
          },
          "metadata": {}
        },
        {
          "output_type": "display_data",
          "data": {
            "text/plain": [
              "<IPython.core.display.Javascript object>"
            ],
            "application/javascript": [
              "window[\"16eb6e4a-b097-11ec-957c-0242ac1c0002\"] = google.colab.output.setActiveOutputArea(window[\"16eada98-b097-11ec-957c-0242ac1c0002\"]);\n",
              "//# sourceURL=js_823002f58c"
            ]
          },
          "metadata": {}
        },
        {
          "output_type": "display_data",
          "data": {
            "text/plain": [
              "<IPython.core.display.Javascript object>"
            ],
            "application/javascript": [
              "window[\"1700176e-b097-11ec-957c-0242ac1c0002\"] = google.colab.output.setActiveOutputArea(window[\"16ea56cc-b097-11ec-957c-0242ac1c0002\"]);\n",
              "//# sourceURL=js_cb27109bbc"
            ]
          },
          "metadata": {}
        },
        {
          "output_type": "display_data",
          "data": {
            "text/plain": [
              "<IPython.core.display.Javascript object>"
            ],
            "application/javascript": [
              "window[\"1703eb50-b097-11ec-957c-0242ac1c0002\"] = google.colab.output.getActiveOutputArea();\n",
              "//# sourceURL=js_7d8fac2429"
            ]
          },
          "metadata": {}
        },
        {
          "output_type": "display_data",
          "data": {
            "text/plain": [
              "<IPython.core.display.Javascript object>"
            ],
            "application/javascript": [
              "window[\"170437ae-b097-11ec-957c-0242ac1c0002\"] = document.querySelector(\"#id10-0-0\");\n",
              "//# sourceURL=js_a2df48992c"
            ]
          },
          "metadata": {}
        },
        {
          "output_type": "display_data",
          "data": {
            "text/plain": [
              "<IPython.core.display.Javascript object>"
            ],
            "application/javascript": [
              "window[\"17047e76-b097-11ec-957c-0242ac1c0002\"] = google.colab.output.setActiveOutputArea(window[\"170437ae-b097-11ec-957c-0242ac1c0002\"]);\n",
              "//# sourceURL=js_e8d7886856"
            ]
          },
          "metadata": {}
        },
        {
          "output_type": "display_data",
          "data": {
            "text/plain": [
              "<IPython.core.display.Javascript object>"
            ],
            "application/javascript": [
              "window[\"1724caaa-b097-11ec-957c-0242ac1c0002\"] = google.colab.output.setActiveOutputArea(window[\"1703eb50-b097-11ec-957c-0242ac1c0002\"]);\n",
              "//# sourceURL=js_1fff6a1af7"
            ]
          },
          "metadata": {}
        },
        {
          "output_type": "display_data",
          "data": {
            "text/plain": [
              "<IPython.core.display.Javascript object>"
            ],
            "application/javascript": [
              "window[\"1728a4ea-b097-11ec-957c-0242ac1c0002\"] = google.colab.output.getActiveOutputArea();\n",
              "//# sourceURL=js_ea5d45e73d"
            ]
          },
          "metadata": {}
        },
        {
          "output_type": "display_data",
          "data": {
            "text/plain": [
              "<IPython.core.display.Javascript object>"
            ],
            "application/javascript": [
              "window[\"17293c16-b097-11ec-957c-0242ac1c0002\"] = document.querySelector(\"#id10-0-0\");\n",
              "//# sourceURL=js_a650b04ba4"
            ]
          },
          "metadata": {}
        },
        {
          "output_type": "display_data",
          "data": {
            "text/plain": [
              "<IPython.core.display.Javascript object>"
            ],
            "application/javascript": [
              "window[\"1729a0d4-b097-11ec-957c-0242ac1c0002\"] = google.colab.output.setActiveOutputArea(window[\"17293c16-b097-11ec-957c-0242ac1c0002\"]);\n",
              "//# sourceURL=js_c57b603e72"
            ]
          },
          "metadata": {}
        },
        {
          "output_type": "display_data",
          "data": {
            "text/plain": [
              "<IPython.core.display.Javascript object>"
            ],
            "application/javascript": [
              "window[\"173e2e28-b097-11ec-957c-0242ac1c0002\"] = google.colab.output.setActiveOutputArea(window[\"1728a4ea-b097-11ec-957c-0242ac1c0002\"]);\n",
              "//# sourceURL=js_773df6ffbc"
            ]
          },
          "metadata": {}
        },
        {
          "output_type": "display_data",
          "data": {
            "text/plain": [
              "<IPython.core.display.Javascript object>"
            ],
            "application/javascript": [
              "window[\"17404d0c-b097-11ec-957c-0242ac1c0002\"] = google.colab.output.getActiveOutputArea();\n",
              "//# sourceURL=js_d7d60373ca"
            ]
          },
          "metadata": {}
        },
        {
          "output_type": "display_data",
          "data": {
            "text/plain": [
              "<IPython.core.display.Javascript object>"
            ],
            "application/javascript": [
              "window[\"1740a19e-b097-11ec-957c-0242ac1c0002\"] = document.querySelector(\"#id10-0-0\");\n",
              "//# sourceURL=js_b389ac29bc"
            ]
          },
          "metadata": {}
        },
        {
          "output_type": "display_data",
          "data": {
            "text/plain": [
              "<IPython.core.display.Javascript object>"
            ],
            "application/javascript": [
              "window[\"1740ed52-b097-11ec-957c-0242ac1c0002\"] = google.colab.output.setActiveOutputArea(window[\"1740a19e-b097-11ec-957c-0242ac1c0002\"]);\n",
              "//# sourceURL=js_52ef44e1e7"
            ]
          },
          "metadata": {}
        },
        {
          "output_type": "display_data",
          "data": {
            "text/plain": [
              "<IPython.core.display.Javascript object>"
            ],
            "application/javascript": [
              "window[\"17576604-b097-11ec-957c-0242ac1c0002\"] = google.colab.output.setActiveOutputArea(window[\"17404d0c-b097-11ec-957c-0242ac1c0002\"]);\n",
              "//# sourceURL=js_a4892cea5b"
            ]
          },
          "metadata": {}
        },
        {
          "output_type": "display_data",
          "data": {
            "text/plain": [
              "<IPython.core.display.Javascript object>"
            ],
            "application/javascript": [
              "window[\"175983f8-b097-11ec-957c-0242ac1c0002\"] = google.colab.output.getActiveOutputArea();\n",
              "//# sourceURL=js_d56f9377a1"
            ]
          },
          "metadata": {}
        },
        {
          "output_type": "display_data",
          "data": {
            "text/plain": [
              "<IPython.core.display.Javascript object>"
            ],
            "application/javascript": [
              "window[\"1759ce30-b097-11ec-957c-0242ac1c0002\"] = document.querySelector(\"#id10-0-0\");\n",
              "//# sourceURL=js_4b03b78bf9"
            ]
          },
          "metadata": {}
        },
        {
          "output_type": "display_data",
          "data": {
            "text/plain": [
              "<IPython.core.display.Javascript object>"
            ],
            "application/javascript": [
              "window[\"175a1ae8-b097-11ec-957c-0242ac1c0002\"] = google.colab.output.setActiveOutputArea(window[\"1759ce30-b097-11ec-957c-0242ac1c0002\"]);\n",
              "//# sourceURL=js_e2eaa48801"
            ]
          },
          "metadata": {}
        },
        {
          "output_type": "display_data",
          "data": {
            "text/plain": [
              "<IPython.core.display.Javascript object>"
            ],
            "application/javascript": [
              "window[\"17706a5a-b097-11ec-957c-0242ac1c0002\"] = google.colab.output.setActiveOutputArea(window[\"175983f8-b097-11ec-957c-0242ac1c0002\"]);\n",
              "//# sourceURL=js_8fe134b26f"
            ]
          },
          "metadata": {}
        },
        {
          "output_type": "display_data",
          "data": {
            "text/plain": [
              "<IPython.core.display.Javascript object>"
            ],
            "application/javascript": [
              "window[\"177350b2-b097-11ec-957c-0242ac1c0002\"] = google.colab.output.getActiveOutputArea();\n",
              "//# sourceURL=js_8d19e0b39b"
            ]
          },
          "metadata": {}
        },
        {
          "output_type": "display_data",
          "data": {
            "text/plain": [
              "<IPython.core.display.Javascript object>"
            ],
            "application/javascript": [
              "window[\"1773891a-b097-11ec-957c-0242ac1c0002\"] = document.querySelector(\"#id10-0-0\");\n",
              "//# sourceURL=js_1d7f21304a"
            ]
          },
          "metadata": {}
        },
        {
          "output_type": "display_data",
          "data": {
            "text/plain": [
              "<IPython.core.display.Javascript object>"
            ],
            "application/javascript": [
              "window[\"1774c546-b097-11ec-957c-0242ac1c0002\"] = google.colab.output.setActiveOutputArea(window[\"1773891a-b097-11ec-957c-0242ac1c0002\"]);\n",
              "//# sourceURL=js_f40f8613da"
            ]
          },
          "metadata": {}
        },
        {
          "output_type": "display_data",
          "data": {
            "text/plain": [
              "<IPython.core.display.Javascript object>"
            ],
            "application/javascript": [
              "window[\"1789e8b8-b097-11ec-957c-0242ac1c0002\"] = google.colab.output.setActiveOutputArea(window[\"177350b2-b097-11ec-957c-0242ac1c0002\"]);\n",
              "//# sourceURL=js_e3dfd35dd7"
            ]
          },
          "metadata": {}
        },
        {
          "output_type": "display_data",
          "data": {
            "text/plain": [
              "<IPython.core.display.Javascript object>"
            ],
            "application/javascript": [
              "window[\"178d01f6-b097-11ec-957c-0242ac1c0002\"] = google.colab.output.getActiveOutputArea();\n",
              "//# sourceURL=js_6aeb042790"
            ]
          },
          "metadata": {}
        },
        {
          "output_type": "display_data",
          "data": {
            "text/plain": [
              "<IPython.core.display.Javascript object>"
            ],
            "application/javascript": [
              "window[\"178d8f68-b097-11ec-957c-0242ac1c0002\"] = document.querySelector(\"#id10-0-0\");\n",
              "//# sourceURL=js_c47a16e444"
            ]
          },
          "metadata": {}
        },
        {
          "output_type": "display_data",
          "data": {
            "text/plain": [
              "<IPython.core.display.Javascript object>"
            ],
            "application/javascript": [
              "window[\"178ddb6c-b097-11ec-957c-0242ac1c0002\"] = google.colab.output.setActiveOutputArea(window[\"178d8f68-b097-11ec-957c-0242ac1c0002\"]);\n",
              "//# sourceURL=js_210dae4d19"
            ]
          },
          "metadata": {}
        },
        {
          "output_type": "display_data",
          "data": {
            "text/plain": [
              "<IPython.core.display.Javascript object>"
            ],
            "application/javascript": [
              "window[\"17a1d50e-b097-11ec-957c-0242ac1c0002\"] = google.colab.output.setActiveOutputArea(window[\"178d01f6-b097-11ec-957c-0242ac1c0002\"]);\n",
              "//# sourceURL=js_84d66a4479"
            ]
          },
          "metadata": {}
        },
        {
          "output_type": "display_data",
          "data": {
            "text/plain": [
              "<IPython.core.display.Javascript object>"
            ],
            "application/javascript": [
              "window[\"17a4e884-b097-11ec-957c-0242ac1c0002\"] = google.colab.output.getActiveOutputArea();\n",
              "//# sourceURL=js_7f41a9c60f"
            ]
          },
          "metadata": {}
        },
        {
          "output_type": "display_data",
          "data": {
            "text/plain": [
              "<IPython.core.display.Javascript object>"
            ],
            "application/javascript": [
              "window[\"17a576b4-b097-11ec-957c-0242ac1c0002\"] = document.querySelector(\"#id10-0-0\");\n",
              "//# sourceURL=js_87e5070203"
            ]
          },
          "metadata": {}
        },
        {
          "output_type": "display_data",
          "data": {
            "text/plain": [
              "<IPython.core.display.Javascript object>"
            ],
            "application/javascript": [
              "window[\"17a6021e-b097-11ec-957c-0242ac1c0002\"] = google.colab.output.setActiveOutputArea(window[\"17a576b4-b097-11ec-957c-0242ac1c0002\"]);\n",
              "//# sourceURL=js_a93f0dd418"
            ]
          },
          "metadata": {}
        },
        {
          "output_type": "display_data",
          "data": {
            "text/plain": [
              "<IPython.core.display.Javascript object>"
            ],
            "application/javascript": [
              "window[\"17bb9c32-b097-11ec-957c-0242ac1c0002\"] = google.colab.output.setActiveOutputArea(window[\"17a4e884-b097-11ec-957c-0242ac1c0002\"]);\n",
              "//# sourceURL=js_1d1c2c8b9b"
            ]
          },
          "metadata": {}
        },
        {
          "output_type": "display_data",
          "data": {
            "text/plain": [
              "<IPython.core.display.Javascript object>"
            ],
            "application/javascript": [
              "window[\"17be7d80-b097-11ec-957c-0242ac1c0002\"] = google.colab.output.getActiveOutputArea();\n",
              "//# sourceURL=js_f6f39387d7"
            ]
          },
          "metadata": {}
        },
        {
          "output_type": "display_data",
          "data": {
            "text/plain": [
              "<IPython.core.display.Javascript object>"
            ],
            "application/javascript": [
              "window[\"17bf034a-b097-11ec-957c-0242ac1c0002\"] = document.querySelector(\"#id10-0-0\");\n",
              "//# sourceURL=js_bb947304c6"
            ]
          },
          "metadata": {}
        },
        {
          "output_type": "display_data",
          "data": {
            "text/plain": [
              "<IPython.core.display.Javascript object>"
            ],
            "application/javascript": [
              "window[\"17bf945e-b097-11ec-957c-0242ac1c0002\"] = google.colab.output.setActiveOutputArea(window[\"17bf034a-b097-11ec-957c-0242ac1c0002\"]);\n",
              "//# sourceURL=js_81c6e76df0"
            ]
          },
          "metadata": {}
        },
        {
          "output_type": "display_data",
          "data": {
            "text/plain": [
              "<IPython.core.display.Javascript object>"
            ],
            "application/javascript": [
              "window[\"17d40948-b097-11ec-957c-0242ac1c0002\"] = google.colab.output.setActiveOutputArea(window[\"17be7d80-b097-11ec-957c-0242ac1c0002\"]);\n",
              "//# sourceURL=js_202022e8f7"
            ]
          },
          "metadata": {}
        },
        {
          "output_type": "display_data",
          "data": {
            "text/plain": [
              "<IPython.core.display.Javascript object>"
            ],
            "application/javascript": [
              "window[\"17d7b6ce-b097-11ec-957c-0242ac1c0002\"] = google.colab.output.getActiveOutputArea();\n",
              "//# sourceURL=js_b26abfe0b7"
            ]
          },
          "metadata": {}
        },
        {
          "output_type": "display_data",
          "data": {
            "text/plain": [
              "<IPython.core.display.Javascript object>"
            ],
            "application/javascript": [
              "window[\"17d83bbc-b097-11ec-957c-0242ac1c0002\"] = document.querySelector(\"#id10-0-0\");\n",
              "//# sourceURL=js_b31f9a620e"
            ]
          },
          "metadata": {}
        },
        {
          "output_type": "display_data",
          "data": {
            "text/plain": [
              "<IPython.core.display.Javascript object>"
            ],
            "application/javascript": [
              "window[\"17d91690-b097-11ec-957c-0242ac1c0002\"] = google.colab.output.setActiveOutputArea(window[\"17d83bbc-b097-11ec-957c-0242ac1c0002\"]);\n",
              "//# sourceURL=js_1b6328892a"
            ]
          },
          "metadata": {}
        },
        {
          "output_type": "display_data",
          "data": {
            "text/plain": [
              "<IPython.core.display.Javascript object>"
            ],
            "application/javascript": [
              "window[\"17f0e144-b097-11ec-957c-0242ac1c0002\"] = google.colab.output.setActiveOutputArea(window[\"17d7b6ce-b097-11ec-957c-0242ac1c0002\"]);\n",
              "//# sourceURL=js_3d9986bf40"
            ]
          },
          "metadata": {}
        },
        {
          "output_type": "display_data",
          "data": {
            "text/plain": [
              "<IPython.core.display.Javascript object>"
            ],
            "application/javascript": [
              "window[\"17f2f326-b097-11ec-957c-0242ac1c0002\"] = google.colab.output.getActiveOutputArea();\n",
              "//# sourceURL=js_33e870a6b7"
            ]
          },
          "metadata": {}
        },
        {
          "output_type": "display_data",
          "data": {
            "text/plain": [
              "<IPython.core.display.Javascript object>"
            ],
            "application/javascript": [
              "window[\"17f33cc8-b097-11ec-957c-0242ac1c0002\"] = document.querySelector(\"#id10-0-0\");\n",
              "//# sourceURL=js_57d1f2fa47"
            ]
          },
          "metadata": {}
        },
        {
          "output_type": "display_data",
          "data": {
            "text/plain": [
              "<IPython.core.display.Javascript object>"
            ],
            "application/javascript": [
              "window[\"17f39100-b097-11ec-957c-0242ac1c0002\"] = google.colab.output.setActiveOutputArea(window[\"17f33cc8-b097-11ec-957c-0242ac1c0002\"]);\n",
              "//# sourceURL=js_7e9b11e741"
            ]
          },
          "metadata": {}
        },
        {
          "output_type": "display_data",
          "data": {
            "text/plain": [
              "<IPython.core.display.Javascript object>"
            ],
            "application/javascript": [
              "window[\"180a95da-b097-11ec-957c-0242ac1c0002\"] = google.colab.output.setActiveOutputArea(window[\"17f2f326-b097-11ec-957c-0242ac1c0002\"]);\n",
              "//# sourceURL=js_cd484dbb92"
            ]
          },
          "metadata": {}
        },
        {
          "output_type": "display_data",
          "data": {
            "text/plain": [
              "<IPython.core.display.Javascript object>"
            ],
            "application/javascript": [
              "window[\"180cfe74-b097-11ec-957c-0242ac1c0002\"] = google.colab.output.getActiveOutputArea();\n",
              "//# sourceURL=js_34c51466a6"
            ]
          },
          "metadata": {}
        },
        {
          "output_type": "display_data",
          "data": {
            "text/plain": [
              "<IPython.core.display.Javascript object>"
            ],
            "application/javascript": [
              "window[\"180d4ffa-b097-11ec-957c-0242ac1c0002\"] = document.querySelector(\"#id10-0-0\");\n",
              "//# sourceURL=js_050f5668f3"
            ]
          },
          "metadata": {}
        },
        {
          "output_type": "display_data",
          "data": {
            "text/plain": [
              "<IPython.core.display.Javascript object>"
            ],
            "application/javascript": [
              "window[\"180dae5a-b097-11ec-957c-0242ac1c0002\"] = google.colab.output.setActiveOutputArea(window[\"180d4ffa-b097-11ec-957c-0242ac1c0002\"]);\n",
              "//# sourceURL=js_1be5cd155f"
            ]
          },
          "metadata": {}
        },
        {
          "output_type": "display_data",
          "data": {
            "text/plain": [
              "<Figure size 432x288 with 1 Axes>"
            ],
            "image/png": "[encoded data removed]"
          },
          "metadata": {
            "needs_background": "light"
          }
        },
        {
          "output_type": "display_data",
          "data": {
            "text/plain": [
              "<IPython.core.display.Javascript object>"
            ],
            "application/javascript": [
              "window[\"182313ee-b097-11ec-957c-0242ac1c0002\"] = google.colab.output.setActiveOutputArea(window[\"180cfe74-b097-11ec-957c-0242ac1c0002\"]);\n",
              "//# sourceURL=js_f6ab943cf7"
            ]
          },
          "metadata": {}
        }
      ]
    },
    {
      "cell_type": "markdown",
      "source": [
        "## DQN"
      ],
      "metadata": {
        "id": "i2xFzo5Nt_Yp"
      }
    },
    {
      "cell_type": "code",
      "source": [
        "\"\"\"\n",
        "initialize replay memory D\n",
        "initialize action-value function Q with random weights\n",
        "observe initial state s\n",
        "repeat\n",
        "  select an action a\n",
        "    with probability e select a random action\n",
        "    otherwise select a = argmax a' Q(s,a')\n",
        "  carry out action a \n",
        "  observe reward r and new state s'\n",
        "  store experience <s,a,r,s'> in replay memory D\n",
        "\n",
        "  sample random transitions <ss,aa,rr,ss'> from replay memory\n",
        "  calculate target for each minibatch transition\n",
        "    if ss' is terminal state then tt = rr\n",
        "    otherwise tt = rr + gamma*max a' Q(ss',aa')\n",
        "  train the Q network using (tt-Q(ss,aa))^2 as loss\n",
        "\n",
        "  s = s'\n",
        "\n",
        "until terminated\n",
        "\"\"\""
      ],
      "metadata": {
        "id": "6waBYzkISxoC",
        "colab": {
          "base_uri": "https://localhost:8080/",
          "height": 72
        },
        "outputId": "44635e2e-66a6-4301-9ede-e4f9522e6ac5"
      },
      "execution_count": 8,
      "outputs": [
        {
          "output_type": "execute_result",
          "data": {
            "text/plain": [
              "\"\\ninitialize replay memory D\\ninitialize action-value function Q with random weights\\nobserve initial state s\\nrepeat\\n  select an action a\\n    with probability e select a random action\\n    otherwise select a = argmax a' Q(s,a')\\n  carry out action a \\n  observe reward r and new state s'\\n  store experience <s,a,r,s'> in replay memory D\\n\\n  sample random transitions <ss,aa,rr,ss'> from replay memory\\n  calculate target for each minibatch transition\\n    if ss' is terminal state then tt = rr\\n    otherwise tt = rr + gamma*max a' Q(ss',aa')\\n  train the Q network using (tt-Q(ss,aa))^2 as loss\\n\\n  s = s'\\n\\nuntil terminated\\n\""
            ],
            "application/vnd.google.colaboratory.intrinsic+json": {
              "type": "string"
            }
          },
          "metadata": {},
          "execution_count": 8
        }
      ]
    },
    {
      "cell_type": "code",
      "source": [
        "import random\n",
        "import math\n",
        "import torch\n",
        "import torch.nn as nn\n",
        "import torch.optim as optim\n",
        "import numpy as np\n",
        "from collections import deque"
      ],
      "metadata": {
        "id": "9aGvfjn0xefE"
      },
      "execution_count": 4,
      "outputs": []
    },
    {
      "cell_type": "code",
      "source": [
        "rewards = []\n",
        "epsilon_decay = []\n",
        "episode_list = []\n",
        "episode = 500\n",
        "D = deque(maxlen=5000)\n",
        "\n",
        "#parameter\n",
        "decay = 0.99\n",
        "epsilon = 1\n",
        "alpha = 0.001\n",
        "gamma = 0.9\n",
        "num_batch = 256\n",
        "weight = 256"
      ],
      "metadata": {
        "id": "jb5N6xIOvukK"
      },
      "execution_count": 86,
      "outputs": []
    },
    {
      "cell_type": "code",
      "source": [
        "env = DGridEnvironment()\n",
        "observation_space = env.observation_space.n\n",
        "action_space = env.action_space.n\n",
        "\n",
        "model = nn.Sequential(\n",
        "    nn.Linear(2,weight), \n",
        "    nn.ReLU(),\n",
        "    nn.Linear(weight,action_space))\n",
        "\n",
        "optimizer = optim.Adam(model.parameters(),alpha)"
      ],
      "metadata": {
        "id": "qFSabkedSLMR"
      },
      "execution_count": 14,
      "outputs": []
    },
    {
      "cell_type": "code",
      "source": [
        "#repeat for each episode \n",
        "for ep in range(1,episode+1):\n",
        "  \n",
        "  #initialize replay memory D\n",
        "  D = []\n",
        "  #observe the initial state s \n",
        "  state = env.reset()\n",
        "  env.render()\n",
        "  \n",
        "  done = False\n",
        "  epsilon = epsilon * decay\n",
        "  \n",
        "\n",
        "  cumulative_rewards = 0\n",
        "  #repeat for each step of episode\n",
        "  while not done:\n",
        "    \n",
        "    state_torch = torch.FloatTensor([state])\n",
        "    #select an action a from state s(e.g. epsilon-greedy) and execute it\n",
        "    if np.random.random() < epsilon: \n",
        "      action = torch.LongTensor([np.random.choice(action_space)]) #exploration \n",
        "\n",
        "    else:\n",
        "      action = model(state_torch).detach().max(1)[1] #exploit\n",
        "   \n",
        "    #Receive immediate reward r, Observe the new state s'\n",
        "    next_state, reward, done, _ = env.step(action)\n",
        "    \n",
        "    #store experience <s,a,r,s'> in replay memory D\n",
        "    D.append((state_torch,action,torch.FloatTensor([reward]),torch.FloatTensor([next_state])))\n",
        "\n",
        "    #learning - train NN\n",
        "    #sample random transitions <ss,aa,rr,ss'> from replay memory\n",
        "    if len(D) >= num_batch : \n",
        "      #calculate target for each minibatch transition\n",
        "      batch = random.sample(D, num_batch)\n",
        "      ss, aa, rr, ss_dash = zip(*batch)\n",
        "  \n",
        "      ss = torch.cat(ss)\n",
        "      aa = torch.cat(aa)\n",
        "      rr = torch.cat(rr)\n",
        "      ss_dash = torch.cat(ss_dash)\n",
        "\n",
        "      #if ss' is terminal state then tt = rr\n",
        "      if done:\n",
        "        target = rr\n",
        "      #otherwise tt = rr + gamma*max a' Q(ss',aa')\n",
        "      else:\n",
        "        target = rr + gamma * model(ss_dash).detach().max(1)[0]\n",
        "        \n",
        "      #train the Q network using (tt-Q(ss,aa))^2 as loss\n",
        "\n",
        "      loss_func = nn.MSELoss()\n",
        "      output = torch.gather(model(ss),1,aa.unsqueeze(axis=-1)).squeeze()\n",
        "      loss = loss_func(output,target)\n",
        "\n",
        "\n",
        "      optimizer.zero_grad()\n",
        "      loss.backward()\n",
        "      optimizer.step()\n",
        "\n",
        "      cumulative_rewards+=reward\n",
        "      state = next_state\n",
        "\n",
        "\n",
        "  if (ep)%10== 0 : \n",
        "    print(\"--------------------------------\")  \n",
        "    print('episode:',ep)\n",
        "    print('epsilon:',epsilon)\n",
        "    print('rewards:',cumulative_rewards)\n",
        "\n",
        "        \n",
        "  episode_list.append(ep)\n",
        "  epsilon_decay.append(epsilon)\n",
        "  rewards.append(cumulative_rewards)\n",
        "      \n",
        "  \n",
        "env.close()\n"
      ],
      "metadata": {
        "id": "ajjAos6gwHSY",
        "colab": {
          "base_uri": "https://localhost:8080/",
          "height": 1000
        },
        "outputId": "c7d3f5a9-88d3-4a77-9326-43a90c1493b0"
      },
      "execution_count": 87,
      "outputs": [
        {
          "output_type": "stream",
          "name": "stdout",
          "text": [
            "--------------------------------\n",
            "episode: 10\n",
            "epsilon: 0.9043820750088043\n",
            "rewards: 0\n",
            "--------------------------------\n",
            "episode: 20\n",
            "epsilon: 0.8179069375972307\n",
            "rewards: 0\n",
            "--------------------------------\n",
            "episode: 30\n",
            "epsilon: 0.7397003733882802\n",
            "rewards: 0\n",
            "--------------------------------\n",
            "episode: 40\n",
            "epsilon: 0.6689717585696803\n",
            "rewards: 0\n",
            "--------------------------------\n",
            "episode: 50\n",
            "epsilon: 0.6050060671375365\n",
            "rewards: 0\n",
            "--------------------------------\n",
            "episode: 60\n",
            "epsilon: 0.5471566423907612\n",
            "rewards: 0\n",
            "--------------------------------\n",
            "episode: 70\n",
            "epsilon: 0.49483865960020695\n",
            "rewards: 0\n",
            "--------------------------------\n",
            "episode: 80\n",
            "epsilon: 0.44752321376381066\n",
            "rewards: 0\n",
            "--------------------------------\n",
            "episode: 90\n",
            "epsilon: 0.4047319726783239\n",
            "rewards: 0\n",
            "--------------------------------\n",
            "episode: 100\n",
            "epsilon: 0.36603234127322926\n",
            "rewards: 0\n",
            "--------------------------------\n",
            "episode: 110\n",
            "epsilon: 0.33103308832101386\n",
            "rewards: 0\n",
            "--------------------------------\n",
            "episode: 120\n",
            "epsilon: 0.29938039131233124\n",
            "rewards: 0\n",
            "--------------------------------\n",
            "episode: 130\n",
            "epsilon: 0.270754259511994\n",
            "rewards: 0\n",
            "--------------------------------\n",
            "episode: 140\n",
            "epsilon: 0.24486529903492946\n",
            "rewards: 0\n",
            "--------------------------------\n",
            "episode: 150\n",
            "epsilon: 0.22145178723886094\n",
            "rewards: 0\n",
            "--------------------------------\n",
            "episode: 160\n",
            "epsilon: 0.20027702685748935\n",
            "rewards: 0\n",
            "--------------------------------\n",
            "episode: 170\n",
            "epsilon: 0.18112695312597027\n",
            "rewards: 0\n",
            "--------------------------------\n",
            "episode: 180\n",
            "epsilon: 0.16380796970808745\n",
            "rewards: 0\n",
            "--------------------------------\n",
            "episode: 190\n",
            "epsilon: 0.1481449915475795\n",
            "rewards: 393\n",
            "--------------------------------\n",
            "episode: 200\n",
            "epsilon: 0.13397967485796175\n",
            "rewards: 0\n",
            "--------------------------------\n",
            "episode: 210\n",
            "epsilon: 0.1211688163570484\n",
            "rewards: 0\n",
            "--------------------------------\n",
            "episode: 220\n",
            "epsilon: 0.10958290556334822\n",
            "rewards: 0\n",
            "--------------------------------\n",
            "episode: 230\n",
            "epsilon: 0.09910481551887473\n",
            "rewards: 133\n",
            "--------------------------------\n",
            "episode: 240\n",
            "epsilon: 0.08962861870232469\n",
            "rewards: 123\n",
            "--------------------------------\n",
            "episode: 250\n",
            "epsilon: 0.08105851616218133\n",
            "rewards: 0\n",
            "--------------------------------\n",
            "episode: 260\n",
            "epsilon: 0.07330786904388827\n",
            "rewards: 204\n",
            "--------------------------------\n",
            "episode: 270\n",
            "epsilon: 0.06629832272038537\n",
            "rewards: 54\n",
            "--------------------------------\n",
            "episode: 280\n",
            "epsilon: 0.05995901467146548\n",
            "rewards: 0\n",
            "--------------------------------\n",
            "episode: 290\n",
            "epsilon: 0.054225858104063294\n",
            "rewards: 0\n",
            "--------------------------------\n",
            "episode: 300\n",
            "epsilon: 0.04904089407128576\n",
            "rewards: 9\n",
            "--------------------------------\n",
            "episode: 310\n",
            "epsilon: 0.04435170554047638\n",
            "rewards: 1448\n",
            "--------------------------------\n",
            "episode: 320\n",
            "epsilon: 0.04011088748687551\n",
            "rewards: 745\n",
            "--------------------------------\n",
            "episode: 330\n",
            "epsilon: 0.036275567655825146\n",
            "rewards: 9\n",
            "--------------------------------\n",
            "episode: 340\n",
            "epsilon: 0.03280697314869741\n",
            "rewards: 497\n",
            "--------------------------------\n",
            "episode: 350\n",
            "epsilon: 0.029670038450977095\n",
            "rewards: 13\n",
            "--------------------------------\n",
            "episode: 360\n",
            "epsilon: 0.026833050939885677\n",
            "rewards: 15\n",
            "--------------------------------\n",
            "episode: 370\n",
            "epsilon: 0.024267330287830756\n",
            "rewards: 0\n",
            "--------------------------------\n",
            "episode: 380\n",
            "epsilon: 0.02194693852063239\n",
            "rewards: 15\n",
            "--------------------------------\n",
            "episode: 390\n",
            "epsilon: 0.01984841779938018\n",
            "rewards: 13\n",
            "--------------------------------\n",
            "episode: 400\n",
            "epsilon: 0.017950553275045134\n",
            "rewards: 0\n",
            "--------------------------------\n",
            "episode: 410\n",
            "epsilon: 0.01623415861844141\n",
            "rewards: 13\n",
            "--------------------------------\n",
            "episode: 420\n",
            "epsilon: 0.014681882057368112\n",
            "rewards: 9\n",
            "--------------------------------\n",
            "episode: 430\n",
            "epsilon: 0.013278030960077106\n",
            "rewards: 1320\n",
            "--------------------------------\n",
            "episode: 440\n",
            "epsilon: 0.01200841319170568\n",
            "rewards: 9\n",
            "--------------------------------\n",
            "episode: 450\n",
            "epsilon: 0.010860193639877886\n",
            "rewards: 15\n",
            "--------------------------------\n",
            "episode: 460\n",
            "epsilon: 0.009821764459030182\n",
            "rewards: 9\n",
            "--------------------------------\n",
            "episode: 470\n",
            "epsilon: 0.00888262772170544\n",
            "rewards: 9\n",
            "--------------------------------\n",
            "episode: 480\n",
            "epsilon: 0.008033289290486696\n",
            "rewards: 13\n",
            "--------------------------------\n",
            "episode: 490\n",
            "epsilon: 0.0072651628376763635\n",
            "rewards: 9\n",
            "--------------------------------\n",
            "episode: 500\n",
            "epsilon: 0.006570483042414605\n",
            "rewards: 13\n"
          ]
        },
        {
          "output_type": "display_data",
          "data": {
            "text/plain": [
              "<Figure size 432x288 with 1 Axes>"
            ],
            "image/png": "[encoded data removed]"
          },
          "metadata": {
            "needs_background": "light"
          }
        }
      ]
    },
    {
      "cell_type": "code",
      "source": [
        "import matplotlib.pyplot as plt\n",
        "#epsilon decay per episode \n",
        "with output_grid.output_to(0, 0):\n",
        "  plt.plot(episode_list,epsilon_decay)\n",
        "  plt.xlabel(\"episode\")\n",
        "  plt.ylabel(\"epsilon decay\")"
      ],
      "metadata": {
        "colab": {
          "base_uri": "https://localhost:8080/",
          "height": 279
        },
        "id": "zYfpKAFxiQ5s",
        "outputId": "48251e24-c759-41e7-d32c-78c271cff089"
      },
      "execution_count": 88,
      "outputs": [
        {
          "output_type": "display_data",
          "data": {
            "text/plain": [
              "<IPython.core.display.Javascript object>"
            ],
            "application/javascript": [
              "window[\"5cfd6f80-b099-11ec-957c-0242ac1c0002\"] = google.colab.output.getActiveOutputArea();\n",
              "//# sourceURL=js_22c33862b6"
            ]
          },
          "metadata": {}
        },
        {
          "output_type": "display_data",
          "data": {
            "text/plain": [
              "<IPython.core.display.Javascript object>"
            ],
            "application/javascript": [
              "window[\"5cfdb40e-b099-11ec-957c-0242ac1c0002\"] = document.querySelector(\"#id10-0-0\");\n",
              "//# sourceURL=js_ee6dceb850"
            ]
          },
          "metadata": {}
        },
        {
          "output_type": "display_data",
          "data": {
            "text/plain": [
              "<IPython.core.display.Javascript object>"
            ],
            "application/javascript": [
              "window[\"5cfdfa4a-b099-11ec-957c-0242ac1c0002\"] = google.colab.output.setActiveOutputArea(window[\"5cfdb40e-b099-11ec-957c-0242ac1c0002\"]);\n",
              "//# sourceURL=js_532d1ef625"
            ]
          },
          "metadata": {}
        },
        {
          "output_type": "display_data",
          "data": {
            "text/plain": [
              "<Figure size 432x288 with 1 Axes>"
            ],
            "image/png": "[encoded data removed]"
          },
          "metadata": {
            "needs_background": "light"
          }
        },
        {
          "output_type": "display_data",
          "data": {
            "text/plain": [
              "<IPython.core.display.Javascript object>"
            ],
            "application/javascript": [
              "window[\"5d1377a8-b099-11ec-957c-0242ac1c0002\"] = google.colab.output.setActiveOutputArea(window[\"5cfd6f80-b099-11ec-957c-0242ac1c0002\"]);\n",
              "//# sourceURL=js_d114274541"
            ]
          },
          "metadata": {}
        }
      ]
    },
    {
      "cell_type": "code",
      "source": [
        "#rewards per episode \n",
        "with output_grid.output_to(0, 0):\n",
        "  plt.plot(episode_list,rewards)\n",
        "  plt.xlabel(\"episode\")\n",
        "  plt.ylabel(\"rewards\")"
      ],
      "metadata": {
        "colab": {
          "base_uri": "https://localhost:8080/",
          "height": 279
        },
        "id": "fPvszdUGiXu_",
        "outputId": "73eeb053-1711-445b-e707-2161e539ca5b"
      },
      "execution_count": 89,
      "outputs": [
        {
          "output_type": "display_data",
          "data": {
            "text/plain": [
              "<IPython.core.display.Javascript object>"
            ],
            "application/javascript": [
              "window[\"5f587644-b099-11ec-957c-0242ac1c0002\"] = google.colab.output.getActiveOutputArea();\n",
              "//# sourceURL=js_a723471de2"
            ]
          },
          "metadata": {}
        },
        {
          "output_type": "display_data",
          "data": {
            "text/plain": [
              "<IPython.core.display.Javascript object>"
            ],
            "application/javascript": [
              "window[\"5f59352a-b099-11ec-957c-0242ac1c0002\"] = document.querySelector(\"#id10-0-0\");\n",
              "//# sourceURL=js_1656346857"
            ]
          },
          "metadata": {}
        },
        {
          "output_type": "display_data",
          "data": {
            "text/plain": [
              "<IPython.core.display.Javascript object>"
            ],
            "application/javascript": [
              "window[\"5f59fafa-b099-11ec-957c-0242ac1c0002\"] = google.colab.output.setActiveOutputArea(window[\"5f59352a-b099-11ec-957c-0242ac1c0002\"]);\n",
              "//# sourceURL=js_9020f6b1ac"
            ]
          },
          "metadata": {}
        },
        {
          "output_type": "display_data",
          "data": {
            "text/plain": [
              "<Figure size 432x288 with 1 Axes>"
            ],
            "image/png": "[encoded data removed]"
          },
          "metadata": {
            "needs_background": "light"
          }
        },
        {
          "output_type": "display_data",
          "data": {
            "text/plain": [
              "<IPython.core.display.Javascript object>"
            ],
            "application/javascript": [
              "window[\"5f78c656-b099-11ec-957c-0242ac1c0002\"] = google.colab.output.setActiveOutputArea(window[\"5f587644-b099-11ec-957c-0242ac1c0002\"]);\n",
              "//# sourceURL=js_0df2ca6cf2"
            ]
          },
          "metadata": {}
        }
      ]
    },
    {
      "cell_type": "markdown",
      "source": [
        "Evaluation"
      ],
      "metadata": {
        "id": "NEuxHQCZlOCT"
      }
    },
    {
      "cell_type": "code",
      "source": [
        "class GreedyAgent:\n",
        "  def __init__(self, env):\n",
        "    self.env = env\n",
        "    self.observation_space = env.observation_space\n",
        "    self.action_space = env.action_space\n",
        "    self.weight = 256\n",
        "\n",
        "  def model(self,state):\n",
        "    self.model = nn.Sequential(\n",
        "      nn.Linear(2,weight), \n",
        "      nn.ReLU(),\n",
        "      nn.Linear(weight,action_space))\n",
        "\n",
        "  def step(self, observation):\n",
        "    state= torch.FloatTensor([observation])\n",
        "    return model(state).detach().max(1)[1]"
      ],
      "metadata": {
        "id": "fyUQMbiwwj8q"
      },
      "execution_count": 97,
      "outputs": []
    },
    {
      "cell_type": "code",
      "source": [
        "env = DGridEnvironment()\n",
        "agent = GreedyAgent(env)\n",
        "\n",
        "ev_result = []\n",
        "ev_ep = []\n",
        "episode = 5\n",
        "\n",
        "for ep in range (1,episode+1):\n",
        "  obs = env.reset()\n",
        "  done = False\n",
        "  cumulative_rewards = 0 \n",
        "  while not done: \n",
        "    action = agent.step(obs)\n",
        "    obs, reward, done, _= env.step(action)\n",
        "    \n",
        "    cumulative_rewards+=reward\n",
        "    state = next_state\n",
        "    \n",
        "  print(\"--------------------------------\")  \n",
        "  print('episode:',ep)\n",
        "  print('rewards:',cumulative_rewards)\n",
        "\n",
        "      \n",
        "  ev_ep.append(ep)\n",
        "  ev_result.append(cumulative_rewards)"
      ],
      "metadata": {
        "colab": {
          "base_uri": "https://localhost:8080/"
        },
        "id": "wboCKQCCxHih",
        "outputId": "10102a45-f4f1-4f2d-b30a-ad88c6010795"
      },
      "execution_count": 99,
      "outputs": [
        {
          "output_type": "stream",
          "name": "stdout",
          "text": [
            "--------------------------------\n",
            "episode: 1\n",
            "rewards: 349975\n",
            "--------------------------------\n",
            "episode: 2\n",
            "rewards: 349975\n",
            "--------------------------------\n",
            "episode: 3\n",
            "rewards: 349975\n",
            "--------------------------------\n",
            "episode: 4\n",
            "rewards: 349975\n",
            "--------------------------------\n",
            "episode: 5\n",
            "rewards: 349975\n"
          ]
        }
      ]
    },
    {
      "cell_type": "code",
      "source": [
        "#rewards per episode \n",
        "with output_grid.output_to(0, 0):\n",
        "  plt.plot(ev_ep,ev_result)\n",
        "  plt.xlabel(\"episode\")\n",
        "  plt.ylabel(\"rewards\")"
      ],
      "metadata": {
        "colab": {
          "base_uri": "https://localhost:8080/",
          "height": 279
        },
        "id": "tzYy7qrtkKQD",
        "outputId": "2593540a-018d-42b4-bfd6-695eac77eda6"
      },
      "execution_count": 100,
      "outputs": [
        {
          "output_type": "display_data",
          "data": {
            "text/plain": [
              "<IPython.core.display.Javascript object>"
            ],
            "application/javascript": [
              "window[\"77d80b2a-b09a-11ec-957c-0242ac1c0002\"] = google.colab.output.getActiveOutputArea();\n",
              "//# sourceURL=js_4833116f1d"
            ]
          },
          "metadata": {}
        },
        {
          "output_type": "display_data",
          "data": {
            "text/plain": [
              "<IPython.core.display.Javascript object>"
            ],
            "application/javascript": [
              "window[\"77d8a1ac-b09a-11ec-957c-0242ac1c0002\"] = document.querySelector(\"#id18-0-0\");\n",
              "//# sourceURL=js_dbdccdbff4"
            ]
          },
          "metadata": {}
        },
        {
          "output_type": "display_data",
          "data": {
            "text/plain": [
              "<IPython.core.display.Javascript object>"
            ],
            "application/javascript": [
              "window[\"77d8f3dc-b09a-11ec-957c-0242ac1c0002\"] = google.colab.output.setActiveOutputArea(window[\"77d8a1ac-b09a-11ec-957c-0242ac1c0002\"]);\n",
              "//# sourceURL=js_134f5d7ffb"
            ]
          },
          "metadata": {}
        },
        {
          "output_type": "display_data",
          "data": {
            "text/plain": [
              "<Figure size 432x288 with 1 Axes>"
            ],
            "image/png": "[encoded data removed]"
          },
          "metadata": {
            "needs_background": "light"
          }
        },
        {
          "output_type": "display_data",
          "data": {
            "text/plain": [
              "<IPython.core.display.Javascript object>"
            ],
            "application/javascript": [
              "window[\"77ee1df2-b09a-11ec-957c-0242ac1c0002\"] = google.colab.output.setActiveOutputArea(window[\"77d80b2a-b09a-11ec-957c-0242ac1c0002\"]);\n",
              "//# sourceURL=js_8902e2f094"
            ]
          },
          "metadata": {}
        }
      ]
    }
  ]
}