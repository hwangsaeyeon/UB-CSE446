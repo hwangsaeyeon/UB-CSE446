{
  "nbformat": 4,
  "nbformat_minor": 0,
  "metadata": {
    "colab": {
      "name": "saeyeonh_final_project.ipynb",
      "provenance": [],
      "collapsed_sections": [
        "zmq7_N84Xop1",
        "nCL2_MmSvPb6",
        "xp0coeX6jdQp"
      ]
    },
    "kernelspec": {
      "name": "python3",
      "display_name": "Python 3"
    },
    "language_info": {
      "name": "python"
    }
  },
  "cells": [
    {
      "cell_type": "code",
      "source": [
        "\"I certify that the code and data in this assignment were generated independently, using only the tools and resources defined in the course and that I did not receive any external help, coaching, or contributions during the production of this work.\""
      ],
      "metadata": {
        "colab": {
          "base_uri": "https://localhost:8080/",
          "height": 53
        },
        "id": "iijYd7wqTx-o",
        "outputId": "fffc2935-0dcb-431e-a9f1-952e6a3b44d9"
      },
      "execution_count": null,
      "outputs": [
        {
          "output_type": "execute_result",
          "data": {
            "text/plain": [
              "'I certify that the code and data in this assignment were generated independently, using only the tools and resources defined in the course and that I did not receive any external help, coaching, or contributions during the production of this work.'"
            ],
            "application/vnd.google.colaboratory.intrinsic+json": {
              "type": "string"
            }
          },
          "metadata": {},
          "execution_count": 1
        }
      ]
    },
    {
      "cell_type": "markdown",
      "source": [
        "#Reinforcement Learning Final Project - Saeyeon Hwang"
      ],
      "metadata": {
        "id": "EiPJ2Vb-jmxr"
      }
    },
    {
      "cell_type": "markdown",
      "source": [
        "reference: https://github.com/uoe-agents/pressureplate"
      ],
      "metadata": {
        "id": "kh9BLczrCh9x"
      }
    },
    {
      "cell_type": "markdown",
      "source": [
        "## MARL Grid Environment"
      ],
      "metadata": {
        "id": "zmq7_N84Xop1"
      }
    },
    {
      "cell_type": "code",
      "execution_count": null,
      "metadata": {
        "id": "inOwIYZUBVjN"
      },
      "outputs": [],
      "source": [
        "import numpy as np\n",
        "import gym\n",
        "from gym import spaces\n",
        "import copy\n",
        "from copy import copy\n",
        "import matplotlib.pyplot as plt\n",
        "from google.colab import widgets"
      ]
    },
    {
      "cell_type": "code",
      "source": [
        "class MAGridWorld(gym.Env):\n",
        "    \n",
        "    metadata = { 'render.modes' : ['human', 'rgb_array'] }\n",
        "        \n",
        "    def __init__(self, size, n_agents):\n",
        "        self.size = size\n",
        "        self._grid_size = (self.size, self.size)\n",
        "        self.world = np.zeros((self._grid_size))\n",
        "        self._timestep = None\n",
        "        self._max_timestep = int(self.size*4)\n",
        "        self.n_agents = n_agents\n",
        "        self.dist = int((self.size-1)/(n_agents-1))\n",
        "        self._step_cost = -0.1\n",
        "        self.observation_space = spaces.Box(low=0, high=self.size, shape=(self.size, self.size))\n",
        "        self.action_space = spaces.Discrete(5)\n",
        "\n",
        "    def reset(self):\n",
        "        self.agent_pos = []\n",
        "        self.goal_pos = []\n",
        "        self._timestep = 0\n",
        "        self.done = [False for i in range(self.n_agents)] #agent 수 만큼 done개수 필요 \n",
        "        for i in range(self.n_agents):\n",
        "            self.agent_pos.append([self.size-1, i*self.dist])\n",
        "            self.goal_pos.append([0, i*self.dist])\n",
        "        self.goal_pos.reverse()\n",
        "        observation = self.agent_pos\n",
        "        return observation\n",
        "\n",
        "\n",
        "    def _compute_distance(self, x, y):\n",
        "        dist = np.abs(x[0]-y[0]) + np.abs(x[1]-y[1])\n",
        "        return dist\n",
        "\n",
        "\n",
        "    def _is_inside_grid(self, pos):\n",
        "        return (0 <= pos[0] < self._grid_size[0]) and (0 <= pos[1] < self._grid_size[1])\n",
        "\n",
        "\n",
        "    def _is_collision(self, new_pos, agent):\n",
        "        for i in range(self.n_agents):\n",
        "            if i == agent:\n",
        "                continue\n",
        "            elif new_pos == self.agent_pos[i]:\n",
        "                return True\n",
        "            elif new_pos == self.goal_pos[i]:\n",
        "                return True\n",
        "\n",
        "    def step(self, actions):\n",
        "        self._timestep += 1\n",
        "        old_pos = self.agent_pos.copy()\n",
        "        rewards = [0 for _ in range(self.n_agents)]\n",
        "\n",
        "        for i in range(self.n_agents):\n",
        "            self.update_agent_pos(i, actions[i])\n",
        "            old_dist = self._compute_distance(old_pos[i], self.goal_pos[i])\n",
        "            new_dist = self._compute_distance(self.agent_pos[i], self.goal_pos[i])\n",
        "            \n",
        "            if new_dist < old_dist:\n",
        "                rewards[i] = -0.1\n",
        "            elif new_dist > old_dist:\n",
        "                rewards[i] = -0.5\n",
        "\n",
        "            elif (new_dist == old_dist) and not self.done[i]:\n",
        "                rewards[i] = -0.5\n",
        "            \n",
        "            if (self.agent_pos[i] == self.goal_pos[i]):\n",
        "                self.done[i] = True\n",
        "                rewards[i] = 1\n",
        "            else:\n",
        "                self.done[i] = False\n",
        "\n",
        "        if self._timestep >= self._max_timestep:\n",
        "            self.done = [True for i in range(self.n_agents)]\n",
        "            \n",
        "        observation = self.agent_pos\n",
        "        info = {}\n",
        "        return observation, rewards, self.done, info #all(done)\n",
        "\n",
        "\n",
        "\n",
        "    def update_agent_pos(self, agent, action):\n",
        "        next_pos = copy(self.agent_pos[agent])\n",
        "        if action == 0: # Down\n",
        "            next_pos[0] += 1\n",
        "        elif action == 1: # Up\n",
        "            next_pos[0] -= 1\n",
        "        elif action == 2: # Right\n",
        "            next_pos[1] += 1\n",
        "        elif action == 3: # Left\n",
        "            next_pos[1] -= 1\n",
        "        elif action == 4: # No move\n",
        "            pass\n",
        "        else:\n",
        "            raise Exception('Action is not valid')\n",
        "            \n",
        "        if self._is_inside_grid(next_pos) and not self._is_collision(next_pos, agent):\n",
        "            self.agent_pos[agent] = next_pos\n",
        "        else:\n",
        "            pass\n",
        "        \n",
        "\n",
        "    def render(self):\n",
        "        state = np.copy(self.world)\n",
        "        for i in range(self.n_agents):\n",
        "            state[tuple(self.agent_pos[i])] = 1 - (0.1 * i)\n",
        "            state[tuple(self.goal_pos[i])] = 1 - (0.1 * i)\n",
        "        return plt.imshow(state)"
      ],
      "metadata": {
        "id": "fKpfGsDvBcbF"
      },
      "execution_count": null,
      "outputs": []
    },
    {
      "cell_type": "code",
      "source": [
        "config = {\n",
        "    'N_AGENTS': 2,\n",
        "    'GRID_SIZE': 6\n",
        "}"
      ],
      "metadata": {
        "id": "kcyKAt9yCaQv"
      },
      "execution_count": null,
      "outputs": []
    },
    {
      "cell_type": "code",
      "source": [
        "if __name__ == '__main__':\n",
        "    n_agents = config['N_AGENTS']\n",
        "    size = config['GRID_SIZE']\n",
        "    env = MAGridWorld(size=size, n_agents=n_agents)\n",
        "    env.reset()\n",
        "    env.render()\n",
        "    action_n = [4,4]\n",
        "    state, reward, done, _ = env.step(action_n)\n",
        "    print('state', state)\n",
        "    print('reward', reward)\n",
        "    print('done', done)\n",
        "    env.render()"
      ],
      "metadata": {
        "colab": {
          "base_uri": "https://localhost:8080/",
          "height": 320
        },
        "id": "kPEQ_QFDCcVV",
        "outputId": "63685f1a-e256-4210-b778-5a939ec52a4a"
      },
      "execution_count": null,
      "outputs": [
        {
          "output_type": "stream",
          "name": "stdout",
          "text": [
            "state [[5, 0], [5, 5]]\n",
            "reward [-0.5, -0.5]\n",
            "done [False, False]\n"
          ]
        },
        {
          "output_type": "display_data",
          "data": {
            "text/plain": [
              "<Figure size 432x288 with 1 Axes>"
            ],
            "image/png": "[encoded data removed]"
          },
          "metadata": {
            "needs_background": "light"
          }
        }
      ]
    },
    {
      "cell_type": "code",
      "source": [
        "class RandomAgent:\n",
        "    \n",
        "    def __init__(self, env):\n",
        "        self.env = env\n",
        "        self.observation_space = env.observation_space\n",
        "        self.action_space = env.action_space\n",
        "\n",
        "    def step(self, observation):\n",
        "        return [np.random.choice(self.action_space.n) for _ in range(6)]"
      ],
      "metadata": {
        "id": "xBlIe8_HC7hU"
      },
      "execution_count": null,
      "outputs": []
    },
    {
      "cell_type": "code",
      "source": [
        "n_agents = config['N_AGENTS']\n",
        "size = config['GRID_SIZE']\n",
        "env = MAGridWorld(size=size,n_agents=n_agents)\n",
        "agent = RandomAgent(env)\n",
        "\n",
        "obs = env.reset()\n",
        "done = False\n",
        "\n",
        "output_grid = widgets.Grid(1, 1)\n",
        "with output_grid.output_to(0, 0):\n",
        "  env.render()\n",
        "\n",
        "for i in range(100):\n",
        "  action = agent.step(obs)\n",
        "  state, reward, done, _ = env.step(action)\n",
        "  print('state', state)\n",
        "  print('reward', reward)\n",
        "  print('done', done)"
      ],
      "metadata": {
        "id": "VAdpyMurDITn",
        "colab": {
          "base_uri": "https://localhost:8080/",
          "height": 1000
        },
        "outputId": "b494c18c-acc0-441b-9616-8d50715bf60a"
      },
      "execution_count": null,
      "outputs": [
        {
          "output_type": "display_data",
          "data": {
            "text/plain": [
              "<IPython.core.display.HTML object>"
            ],
            "text/html": [
              "<style>\n",
              "       table#id2, #id2 > tbody > tr > th, #id2 > tbody > tr > td {\n",
              "         border: 1px solid lightgray;\n",
              "         border-collapse:collapse;\n",
              "         \n",
              "        }</style>"
            ]
          },
          "metadata": {}
        },
        {
          "output_type": "display_data",
          "data": {
            "text/plain": [
              "<IPython.core.display.HTML object>"
            ],
            "text/html": [
              "<table id=id2><tr><td id=id2-0-0></td></tr></table>"
            ]
          },
          "metadata": {}
        },
        {
          "output_type": "display_data",
          "data": {
            "text/plain": [
              "<IPython.core.display.Javascript object>"
            ],
            "application/javascript": [
              "window[\"3be03796-d115-11ec-9cfc-0242ac1c0002\"] = google.colab.output.getActiveOutputArea();\n",
              "//# sourceURL=js_602afa5370"
            ]
          },
          "metadata": {}
        },
        {
          "output_type": "display_data",
          "data": {
            "text/plain": [
              "<IPython.core.display.Javascript object>"
            ],
            "application/javascript": [
              "window[\"3be11c06-d115-11ec-9cfc-0242ac1c0002\"] = document.querySelector(\"#id2-0-0\");\n",
              "//# sourceURL=js_8ba2809bf4"
            ]
          },
          "metadata": {}
        },
        {
          "output_type": "display_data",
          "data": {
            "text/plain": [
              "<IPython.core.display.Javascript object>"
            ],
            "application/javascript": [
              "window[\"3be24662-d115-11ec-9cfc-0242ac1c0002\"] = google.colab.output.setActiveOutputArea(window[\"3be11c06-d115-11ec-9cfc-0242ac1c0002\"]);\n",
              "//# sourceURL=js_3aebf895d3"
            ]
          },
          "metadata": {}
        },
        {
          "output_type": "display_data",
          "data": {
            "text/plain": [
              "<Figure size 432x288 with 1 Axes>"
            ],
            "image/png": "[encoded data removed]"
          },
          "metadata": {
            "needs_background": "light"
          }
        },
        {
          "output_type": "display_data",
          "data": {
            "text/plain": [
              "<IPython.core.display.Javascript object>"
            ],
            "application/javascript": [
              "window[\"3c163b52-d115-11ec-9cfc-0242ac1c0002\"] = google.colab.output.setActiveOutputArea(window[\"3be03796-d115-11ec-9cfc-0242ac1c0002\"]);\n",
              "//# sourceURL=js_114a7a1e58"
            ]
          },
          "metadata": {}
        },
        {
          "output_type": "stream",
          "name": "stdout",
          "text": [
            "state [[4, 0], [5, 1], [5, 2], [5, 3], [5, 4], [5, 5]]\n",
            "reward [-0.1, -0.5, -0.5, -0.5, -0.5, -0.5]\n",
            "done [False, False, False, False, False, False]\n",
            "state [[4, 1], [5, 1], [4, 2], [5, 3], [4, 4], [5, 5]]\n",
            "reward [-0.1, -0.5, -0.1, -0.5, -0.1, -0.5]\n",
            "done [False, False, False, False, False, False]\n",
            "state [[4, 1], [5, 2], [4, 2], [5, 3], [4, 3], [5, 5]]\n",
            "reward [-0.5, -0.1, -0.5, -0.5, -0.1, -0.5]\n",
            "done [False, False, False, False, False, False]\n",
            "state [[3, 1], [5, 2], [4, 1], [5, 3], [4, 2], [5, 5]]\n",
            "reward [-0.1, -0.5, -0.5, -0.5, -0.1, -0.5]\n",
            "done [False, False, False, False, False, False]\n",
            "state [[2, 1], [5, 2], [3, 1], [5, 3], [4, 2], [5, 5]]\n",
            "reward [-0.1, -0.5, -0.1, -0.5, -0.5, -0.5]\n",
            "done [False, False, False, False, False, False]\n",
            "state [[2, 1], [5, 2], [3, 1], [4, 3], [4, 2], [5, 5]]\n",
            "reward [-0.5, -0.5, -0.5, -0.1, -0.5, -0.5]\n",
            "done [False, False, False, False, False, False]\n",
            "state [[2, 2], [5, 2], [3, 1], [4, 4], [4, 2], [5, 4]]\n",
            "reward [-0.1, -0.5, -0.5, -0.5, -0.5, -0.1]\n",
            "done [False, False, False, False, False, False]\n",
            "state [[3, 2], [5, 3], [3, 0], [4, 4], [5, 2], [5, 4]]\n",
            "reward [-0.5, -0.1, -0.5, -0.5, -0.5, -0.5]\n",
            "done [False, False, False, False, False, False]\n",
            "state [[3, 2], [5, 3], [3, 0], [4, 4], [4, 2], [5, 4]]\n",
            "reward [-0.5, -0.5, -0.5, -0.5, -0.1, -0.5]\n",
            "done [False, False, False, False, False, False]\n",
            "state [[3, 2], [5, 2], [2, 0], [4, 3], [4, 1], [5, 3]]\n",
            "reward [-0.5, -0.5, -0.1, -0.1, -0.1, -0.1]\n",
            "done [False, False, False, False, False, False]\n",
            "state [[2, 2], [4, 2], [2, 0], [4, 3], [3, 1], [5, 3]]\n",
            "reward [-0.1, -0.1, -0.5, -0.5, -0.1, -0.5]\n",
            "done [False, False, False, False, False, False]\n",
            "state [[3, 2], [4, 1], [3, 0], [4, 2], [3, 1], [5, 3]]\n",
            "reward [-0.5, -0.5, -0.5, -0.1, -0.5, -0.5]\n",
            "done [False, False, False, False, False, False]\n",
            "state [[3, 2], [4, 1], [3, 0], [4, 3], [3, 1], [5, 4]]\n",
            "reward [-0.5, -0.5, -0.5, -0.5, -0.5, -0.5]\n",
            "done [False, False, False, False, False, False]\n",
            "state [[4, 2], [5, 1], [3, 0], [4, 4], [3, 1], [5, 4]]\n",
            "reward [-0.5, -0.5, -0.5, -0.5, -0.5, -0.5]\n",
            "done [False, False, False, False, False, False]\n",
            "state [[3, 2], [5, 0], [3, 0], [4, 4], [4, 1], [5, 4]]\n",
            "reward [-0.1, -0.5, -0.5, -0.5, -0.5, -0.5]\n",
            "done [False, False, False, False, False, False]\n",
            "state [[3, 2], [5, 0], [3, 0], [3, 4], [4, 0], [5, 5]]\n",
            "reward [-0.5, -0.5, -0.5, -0.1, -0.5, -0.5]\n",
            "done [False, False, False, False, False, False]\n",
            "state [[3, 3], [5, 1], [3, 0], [2, 4], [4, 0], [5, 5]]\n",
            "reward [-0.1, -0.1, -0.5, -0.1, -0.5, -0.5]\n",
            "done [False, False, False, False, False, False]\n",
            "state [[3, 3], [5, 1], [2, 0], [3, 4], [3, 0], [4, 5]]\n",
            "reward [-0.5, -0.5, -0.1, -0.5, -0.1, -0.1]\n",
            "done [False, False, False, False, False, False]\n",
            "state [[4, 3], [5, 0], [2, 0], [3, 3], [4, 0], [3, 5]]\n",
            "reward [-0.5, -0.5, -0.5, -0.1, -0.5, -0.1]\n",
            "done [False, False, False, False, False, False]\n",
            "state [[4, 3], [5, 1], [3, 0], [3, 3], [4, 0], [4, 5]]\n",
            "reward [-0.5, -0.1, -0.5, -0.5, -0.5, -0.5]\n",
            "done [False, False, False, False, False, False]\n",
            "state [[4, 4], [4, 1], [3, 0], [2, 3], [5, 0], [3, 5]]\n",
            "reward [-0.1, -0.1, -0.5, -0.1, -0.5, -0.1]\n",
            "done [False, False, False, False, False, False]\n",
            "state [[4, 3], [5, 1], [3, 1], [3, 3], [5, 0], [2, 5]]\n",
            "reward [-0.5, -0.5, -0.1, -0.5, -0.5, -0.1]\n",
            "done [False, False, False, False, False, False]\n",
            "state [[4, 3], [5, 2], [3, 0], [2, 3], [5, 0], [3, 5]]\n",
            "reward [-0.5, -0.1, -0.5, -0.1, -0.5, -0.5]\n",
            "done [False, False, False, False, False, False]\n",
            "state [[4, 4], [4, 2], [3, 0], [2, 3], [5, 1], [3, 5]]\n",
            "reward [-0.1, -0.1, -0.5, -0.5, -0.1, -0.5]\n",
            "done [True, True, True, True, True, True]\n",
            "state [[5, 4], [4, 2], [3, 0], [2, 2], [5, 1], [3, 4]]\n",
            "reward [-0.5, 0, 0, -0.1, 0, -0.1]\n",
            "done [True, True, True, True, True, True]\n",
            "state [[5, 4], [3, 2], [3, 0], [2, 3], [4, 1], [3, 3]]\n",
            "reward [0, -0.1, 0, -0.5, -0.1, -0.1]\n",
            "done [True, True, True, True, True, True]\n",
            "state [[5, 5], [2, 2], [3, 1], [2, 3], [4, 1], [3, 2]]\n",
            "reward [-0.1, -0.1, -0.1, 0, 0, -0.1]\n",
            "done [True, True, True, True, True, True]\n",
            "state [[5, 5], [1, 2], [3, 1], [2, 3], [5, 1], [3, 2]]\n",
            "reward [0, -0.1, 0, 0, -0.5, 0]\n",
            "done [True, True, True, True, True, True]\n",
            "state [[5, 5], [2, 2], [4, 1], [1, 3], [5, 0], [4, 2]]\n",
            "reward [0, -0.5, -0.5, -0.1, -0.5, -0.5]\n",
            "done [True, True, True, True, True, True]\n",
            "state [[4, 5], [2, 3], [4, 1], [1, 3], [5, 1], [3, 2]]\n",
            "reward [-0.1, -0.1, 0, 0, -0.1, -0.1]\n",
            "done [True, True, True, True, True, True]\n",
            "state [[5, 5], [2, 3], [4, 0], [1, 3], [5, 1], [4, 2]]\n",
            "reward [-0.5, 0, -0.5, 0, 0, -0.5]\n",
            "done [True, True, True, True, True, True]\n",
            "state [[5, 5], [2, 3], [5, 0], [1, 3], [4, 1], [4, 2]]\n",
            "reward [0, 0, -0.5, 0, -0.1, 0]\n",
            "done [True, True, True, True, True, True]\n",
            "state [[5, 4], [2, 2], [5, 0], [1, 4], [4, 1], [5, 2]]\n",
            "reward [-0.5, -0.5, 0, -0.5, 0, -0.5]\n",
            "done [True, True, True, True, True, True]\n",
            "state [[4, 4], [1, 2], [5, 0], [1, 5], [5, 1], [4, 2]]\n",
            "reward [-0.1, -0.1, 0, -0.5, -0.5, -0.1]\n",
            "done [True, True, True, True, True, True]\n",
            "state [[4, 5], [1, 2], [5, 0], [2, 5], [5, 1], [4, 1]]\n",
            "reward [-0.1, 0, 0, -0.5, 0, -0.1]\n",
            "done [True, True, True, True, True, True]\n",
            "state [[4, 5], [2, 2], [5, 0], [2, 5], [5, 1], [4, 0]]\n",
            "reward [0, -0.5, 0, 0, 0, -0.1]\n",
            "done [True, True, True, True, True, True]\n",
            "state [[4, 4], [1, 2], [5, 0], [3, 5], [5, 1], [4, 1]]\n",
            "reward [-0.5, -0.1, 0, -0.5, 0, -0.5]\n",
            "done [True, True, True, True, True, True]\n",
            "state [[5, 4], [1, 2], [5, 0], [3, 5], [5, 1], [4, 1]]\n",
            "reward [-0.5, 0, 0, 0, 0, 0]\n",
            "done [True, True, True, True, True, True]\n",
            "state [[5, 3], [2, 2], [4, 0], [2, 5], [5, 2], [4, 1]]\n",
            "reward [-0.5, -0.5, -0.1, -0.1, -0.5, 0]\n",
            "done [True, True, True, True, True, True]\n",
            "state [[4, 3], [3, 2], [4, 0], [2, 5], [5, 2], [3, 1]]\n",
            "reward [-0.1, -0.5, 0, 0, 0, -0.1]\n",
            "done [True, True, True, True, True, True]\n",
            "state [[5, 3], [2, 2], [4, 0], [2, 5], [5, 2], [4, 1]]\n",
            "reward [-0.5, -0.1, 0, 0, 0, -0.5]\n",
            "done [True, True, True, True, True, True]\n",
            "state [[5, 3], [1, 2], [5, 0], [1, 5], [5, 2], [4, 1]]\n",
            "reward [0, -0.1, -0.5, -0.1, 0, 0]\n",
            "done [True, True, True, True, True, True]\n",
            "state [[5, 3], [1, 2], [5, 0], [1, 5], [5, 1], [4, 2]]\n",
            "reward [0, 0, 0, 0, -0.1, -0.5]\n",
            "done [True, True, True, True, True, True]\n",
            "state [[5, 4], [2, 2], [5, 0], [1, 5], [5, 1], [3, 2]]\n",
            "reward [-0.1, -0.5, 0, 0, 0, -0.1]\n",
            "done [True, True, True, True, True, True]\n",
            "state [[5, 5], [2, 3], [5, 0], [1, 5], [5, 2], [4, 2]]\n",
            "reward [-0.1, -0.1, 0, 0, -0.5, -0.5]\n",
            "done [True, True, True, True, True, True]\n",
            "state [[5, 5], [3, 3], [5, 0], [1, 5], [5, 3], [3, 2]]\n",
            "reward [0, -0.5, 0, 0, -0.5, -0.1]\n",
            "done [True, True, True, True, True, True]\n",
            "state [[5, 4], [4, 3], [5, 1], [1, 5], [5, 3], [4, 2]]\n",
            "reward [-0.5, -0.5, -0.1, 0, 0, -0.5]\n",
            "done [True, True, True, True, True, True]\n",
            "state [[5, 4], [4, 3], [5, 2], [1, 5], [5, 3], [4, 1]]\n",
            "reward [0, 0, -0.1, 0, 0, -0.1]\n",
            "done [True, True, True, True, True, True]\n",
            "state [[5, 5], [4, 4], [5, 2], [1, 4], [5, 3], [3, 1]]\n",
            "reward [-0.1, -0.1, 0, -0.1, 0, -0.1]\n",
            "done [True, True, True, True, True, True]\n",
            "state [[5, 4], [3, 4], [5, 2], [1, 5], [5, 3], [4, 1]]\n",
            "reward [-0.5, -0.1, 0, -0.5, 0, -0.5]\n",
            "done [True, True, True, True, True, True]\n",
            "state [[5, 4], [4, 4], [5, 2], [1, 4], [5, 3], [4, 1]]\n",
            "reward [0, -0.5, 0, -0.1, 0, 0]\n",
            "done [True, True, True, True, True, True]\n",
            "state [[5, 5], [4, 5], [5, 2], [2, 4], [5, 3], [4, 0]]\n",
            "reward [-0.1, -0.5, 0, -0.5, 0, -0.1]\n",
            "done [True, True, True, True, True, True]\n",
            "state [[5, 4], [4, 5], [5, 2], [3, 4], [5, 3], [3, 0]]\n",
            "reward [-0.5, 0, 0, -0.5, 0, -0.1]\n",
            "done [True, True, True, True, True, True]\n",
            "state [[5, 4], [4, 5], [5, 1], [4, 4], [5, 3], [3, 0]]\n",
            "reward [0, 0, -0.5, -0.5, 0, 0]\n",
            "done [True, True, True, True, True, True]\n",
            "state [[5, 5], [4, 5], [4, 1], [4, 4], [5, 2], [3, 0]]\n",
            "reward [-0.1, 0, -0.1, 0, -0.1, 0]\n",
            "done [True, True, True, True, True, True]\n",
            "state [[5, 5], [4, 5], [5, 1], [3, 4], [5, 2], [4, 0]]\n",
            "reward [0, 0, -0.5, -0.1, 0, -0.5]\n",
            "done [True, True, True, True, True, True]\n",
            "state [[5, 5], [3, 5], [5, 0], [3, 4], [5, 3], [4, 0]]\n",
            "reward [0, -0.1, -0.5, 0, -0.5, 0]\n",
            "done [True, True, True, True, True, True]\n",
            "state [[5, 4], [2, 5], [5, 1], [2, 4], [5, 2], [3, 0]]\n",
            "reward [-0.5, -0.1, -0.1, -0.1, -0.1, -0.1]\n",
            "done [True, True, True, True, True, True]\n",
            "state [[5, 3], [2, 5], [5, 1], [3, 4], [5, 2], [3, 0]]\n",
            "reward [-0.5, 0, 0, -0.5, 0, 0]\n",
            "done [True, True, True, True, True, True]\n",
            "state [[5, 3], [2, 5], [5, 1], [3, 5], [5, 2], [2, 0]]\n",
            "reward [0, 0, 0, -0.5, 0, -0.1]\n",
            "done [True, True, True, True, True, True]\n",
            "state [[5, 4], [2, 5], [5, 1], [3, 5], [5, 3], [2, 1]]\n",
            "reward [-0.1, 0, 0, 0, -0.5, -0.5]\n",
            "done [True, True, True, True, True, True]\n",
            "state [[5, 4], [2, 5], [5, 1], [3, 5], [5, 2], [1, 1]]\n",
            "reward [0, 0, 0, 0, -0.1, -0.1]\n",
            "done [True, True, True, True, True, True]\n",
            "state [[5, 4], [2, 4], [5, 1], [3, 5], [5, 2], [1, 1]]\n",
            "reward [0, -0.1, 0, 0, 0, 0]\n",
            "done [True, True, True, True, True, True]\n",
            "state [[5, 5], [2, 5], [5, 1], [3, 5], [5, 2], [1, 0]]\n",
            "reward [-0.1, -0.5, 0, 0, 0, -0.1]\n",
            "done [True, True, True, True, True, True]\n",
            "state [[5, 5], [2, 5], [4, 1], [3, 5], [4, 2], [1, 0]]\n",
            "reward [0, 0, -0.1, 0, -0.1, 0]\n",
            "done [True, True, True, True, True, True]\n",
            "state [[5, 4], [1, 5], [4, 0], [2, 5], [4, 1], [1, 1]]\n",
            "reward [-0.5, -0.1, -0.5, -0.1, -0.1, -0.5]\n",
            "done [True, True, True, True, True, True]\n",
            "state [[5, 3], [1, 5], [5, 0], [3, 5], [3, 1], [1, 1]]\n",
            "reward [-0.5, 0, -0.5, -0.5, -0.1, 0]\n",
            "done [True, True, True, True, True, True]\n",
            "state [[4, 3], [1, 5], [5, 0], [2, 5], [3, 2], [1, 1]]\n",
            "reward [-0.1, 0, 0, -0.1, -0.5, 0]\n",
            "done [True, True, True, True, True, True]\n",
            "state [[5, 3], [1, 5], [4, 0], [2, 4], [2, 2], [2, 1]]\n",
            "reward [-0.5, 0, -0.1, -0.1, -0.1, -0.5]\n",
            "done [True, True, True, True, True, True]\n",
            "state [[5, 3], [1, 5], [4, 1], [2, 3], [2, 2], [2, 1]]\n",
            "reward [0, 0, -0.1, -0.1, 0, 0]\n",
            "done [True, True, True, True, True, True]\n",
            "state [[5, 4], [1, 5], [4, 0], [3, 3], [1, 2], [2, 2]]\n",
            "reward [-0.1, 0, -0.5, -0.5, -0.1, -0.5]\n",
            "done [True, True, True, True, True, True]\n",
            "state [[5, 4], [2, 5], [4, 0], [3, 2], [1, 2], [2, 2]]\n",
            "reward [0, -0.5, 0, -0.1, 0, 0]\n",
            "done [True, True, True, True, True, True]\n",
            "state [[5, 3], [2, 5], [3, 0], [3, 2], [1, 3], [1, 2]]\n",
            "reward [-0.5, 0, -0.1, 0, -0.5, -0.1]\n",
            "done [True, True, True, True, True, True]\n",
            "state [[5, 4], [2, 5], [2, 0], [3, 3], [1, 3], [2, 2]]\n",
            "reward [-0.1, 0, -0.1, -0.5, 0, -0.5]\n",
            "done [True, True, True, True, True, True]\n",
            "state [[5, 5], [2, 5], [2, 0], [3, 3], [1, 3], [1, 2]]\n",
            "reward [-0.1, 0, 0, 0, 0, -0.1]\n",
            "done [True, True, True, True, True, True]\n",
            "state [[5, 4], [2, 5], [2, 1], [3, 4], [1, 4], [1, 1]]\n",
            "reward [-0.5, 0, -0.1, -0.5, -0.5, -0.1]\n",
            "done [True, True, True, True, True, True]\n",
            "state [[5, 4], [2, 5], [2, 0], [3, 4], [2, 4], [1, 1]]\n",
            "reward [0, 0, -0.5, 0, -0.5, 0]\n",
            "done [True, True, True, True, True, True]\n",
            "state [[5, 5], [2, 5], [2, 0], [4, 4], [2, 4], [1, 1]]\n",
            "reward [-0.1, 0, 0, -0.5, 0, 0]\n",
            "done [True, True, True, True, True, True]\n",
            "state [[5, 5], [1, 5], [1, 0], [4, 4], [3, 4], [2, 1]]\n",
            "reward [0, -0.1, -0.1, 0, -0.5, -0.5]\n",
            "done [True, True, True, True, True, True]\n",
            "state [[5, 4], [1, 5], [2, 0], [4, 4], [2, 4], [2, 1]]\n",
            "reward [-0.5, 0, -0.5, 0, -0.1, 0]\n",
            "done [True, True, True, True, True, True]\n",
            "state [[5, 4], [1, 5], [1, 0], [4, 4], [3, 4], [2, 2]]\n",
            "reward [0, 0, -0.1, 0, -0.5, -0.5]\n",
            "done [True, True, True, True, True, True]\n",
            "state [[5, 4], [1, 4], [2, 0], [4, 3], [3, 3], [2, 2]]\n",
            "reward [0, -0.1, -0.5, -0.1, -0.1, 0]\n",
            "done [True, True, True, True, True, True]\n",
            "state [[5, 4], [1, 3], [2, 1], [4, 3], [3, 3], [2, 2]]\n",
            "reward [0, -0.5, -0.1, 0, 0, 0]\n",
            "done [True, True, True, True, True, True]\n",
            "state [[5, 4], [1, 3], [3, 1], [4, 3], [3, 3], [2, 1]]\n",
            "reward [0, 0, -0.5, 0, 0, -0.1]\n",
            "done [True, True, True, True, True, True]\n",
            "state [[5, 4], [1, 3], [3, 2], [4, 2], [3, 4], [1, 1]]\n",
            "reward [0, 0, -0.1, -0.1, -0.5, -0.1]\n",
            "done [True, True, True, True, True, True]\n",
            "state [[5, 3], [1, 3], [3, 3], [3, 2], [3, 4], [1, 0]]\n",
            "reward [-0.5, 0, -0.1, -0.1, 0, -0.1]\n",
            "done [True, True, True, True, True, True]\n",
            "state [[5, 3], [2, 3], [3, 3], [2, 2], [3, 5], [1, 1]]\n",
            "reward [0, -0.5, 0, -0.1, -0.5, -0.5]\n",
            "done [True, True, True, True, True, True]\n",
            "state [[5, 2], [2, 3], [3, 4], [3, 2], [4, 5], [1, 0]]\n",
            "reward [-0.5, 0, -0.5, -0.5, -0.5, -0.1]\n",
            "done [True, True, True, True, True, True]\n",
            "state [[5, 1], [2, 4], [3, 4], [3, 1], [4, 5], [1, 0]]\n",
            "reward [-0.5, -0.1, 0, -0.5, 0, 0]\n",
            "done [True, True, True, True, True, True]\n",
            "state [[5, 0], [2, 5], [3, 4], [4, 1], [5, 5], [0, 0]]\n",
            "reward [-0.5, -0.5, 0, -0.5, -0.5, 1]\n",
            "done [True, True, True, True, True, True]\n",
            "state [[5, 0], [1, 5], [3, 4], [5, 1], [5, 5], [0, 0]]\n",
            "reward [0, -0.1, 0, -0.5, 0, 1]\n",
            "done [True, True, True, True, True, True]\n",
            "state [[5, 0], [1, 5], [3, 5], [5, 1], [4, 5], [0, 0]]\n",
            "reward [0, 0, -0.5, 0, -0.1, 1]\n",
            "done [True, True, True, True, True, True]\n",
            "state [[5, 0], [1, 5], [3, 4], [5, 1], [4, 4], [0, 0]]\n",
            "reward [0, 0, -0.1, 0, -0.1, 1]\n",
            "done [True, True, True, True, True, True]\n",
            "state [[5, 0], [1, 5], [2, 4], [5, 2], [4, 4], [1, 0]]\n",
            "reward [0, 0, -0.1, -0.1, 0, -0.5]\n",
            "done [True, True, True, True, True, True]\n",
            "state [[4, 0], [2, 5], [2, 4], [5, 1], [4, 3], [1, 1]]\n",
            "reward [-0.1, -0.5, 0, -0.5, -0.1, -0.5]\n",
            "done [True, True, True, True, True, True]\n",
            "state [[5, 0], [2, 5], [3, 4], [5, 2], [4, 4], [1, 2]]\n",
            "reward [-0.5, 0, -0.5, -0.1, -0.5, -0.5]\n",
            "done [True, True, True, True, True, True]\n",
            "state [[5, 0], [1, 5], [3, 3], [5, 3], [4, 3], [1, 2]]\n",
            "reward [0, -0.1, -0.1, -0.5, -0.1, 0]\n",
            "done [True, True, True, True, True, True]\n",
            "state [[5, 0], [1, 5], [3, 3], [5, 3], [4, 3], [1, 2]]\n",
            "reward [0, 0, 0, 0, 0, 0]\n",
            "done [True, True, True, True, True, True]\n",
            "state [[5, 0], [1, 4], [2, 3], [5, 3], [4, 3], [1, 2]]\n",
            "reward [0, -0.1, -0.1, 0, 0, 0]\n",
            "done [True, True, True, True, True, True]\n",
            "state [[5, 0], [1, 4], [2, 4], [5, 3], [3, 3], [1, 2]]\n",
            "reward [0, 0, -0.5, 0, -0.1, 0]\n",
            "done [True, True, True, True, True, True]\n"
          ]
        }
      ]
    },
    {
      "cell_type": "markdown",
      "source": [
        "##Q Learning in MAGridWorld "
      ],
      "metadata": {
        "id": "nCL2_MmSvPb6"
      }
    },
    {
      "cell_type": "code",
      "source": [
        "config = {\n",
        "    'N_AGENTS':2,\n",
        "    'GRID_SIZE':6\n",
        "}"
      ],
      "metadata": {
        "id": "Mz449MAax_Vk"
      },
      "execution_count": null,
      "outputs": []
    },
    {
      "cell_type": "code",
      "source": [
        "import numpy as np\n",
        "import pandas as pd\n",
        "\n",
        "rewards = []\n",
        "epsilon_decay = []\n",
        "episode_list = []\n",
        "\n",
        "rewards1 = []\n",
        "rewards2 = []\n",
        "\n",
        "n_agents = config['N_AGENTS']\n",
        "size = config['GRID_SIZE']\n",
        "env = MAGridWorld(size=size,n_agents=n_agents)\n",
        "\n",
        "observation_space = env.observation_space\n",
        "action_space = env.action_space\n",
        "\n",
        "Q1 = np.zeros([36,5]) #obs, action \n",
        "Q2 = np.zeros([36,5]) #obs, action \n",
        "\n",
        "obs = env.reset()\n",
        "print('goal_pos', env.goal_pos)\n",
        "print('agent_pos', obs)\n",
        "\n",
        "epsilon=1\n",
        "#repeat for each episode \n",
        "for ep in range(1000):\n",
        "  \n",
        "  #observe the initial state s \n",
        "  obs = env.reset()\n",
        "\n",
        "  done = [False,False]\n",
        "  epsilon = epsilon * 0.99\n",
        "  \n",
        "  cumulative_rewards = 0\n",
        "  reward1 = 0\n",
        "  reward2 = 0 \n",
        "  #repeat for each step of episode\n",
        "  for t in range(200):\n",
        "    state = obs\n",
        "    state1 = 6*obs[0][0] + obs[0][1]\n",
        "    state2 = 6*obs[1][0] + obs[1][1]\n",
        "    #select an action a from state s(e.g. epsilon-greedy) and execute it\n",
        "    if np.random.random() < epsilon: \n",
        "      action = [np.random.choice(action_space.n) for _ in range(2)] #exploration \n",
        "    else:\n",
        "      action1 = np.argmax(Q1[state1,:])\n",
        "      action2 = np.argmax(Q2[state2,:])\n",
        "      action = [action1, action2] #exploit\n",
        "\n",
        "    #Receive immediate reward r, Observe the new state s'\n",
        "    next_obs, reward, done, _ = env.step(action)\n",
        "    \n",
        "    #print('state', state)\n",
        "    #print('reward', reward)\n",
        "    #print('done', done)\n",
        "    #print('------------')\n",
        "\n",
        "    #Update the table entry for Q(s,a) as follows:\n",
        "    next_state1 = 6*next_obs[0][0] + next_obs[0][1]\n",
        "    next_state2 = 6*next_obs[1][0] + next_obs[1][1]\n",
        "\n",
        "    Q1[state1,action[0]] = Q1[state1,action[0]] + (reward[0]+0.9*np.max(Q1[next_state1,:])-Q1[state1,action[0]])\n",
        "    Q2[state2,action[1]] = Q2[state2,action[1]] + (reward[1]+0.9*np.max(Q2[next_state2,:])-Q2[state2,action[1]])\n",
        "    #Q[state,action] = Q[state,action] + alpha*(reward + gamma*np.max(Q[next_state,:]) - Q[state,action])\n",
        "    \n",
        "    obs = next_obs\n",
        "\n",
        "    sum_reward_agent = 0\n",
        "    for i in reward:\n",
        "      sum_reward_agent+=i\n",
        "    cumulative_rewards += sum_reward_agent\n",
        "    \n",
        "    reward1 += reward[0]\n",
        "    reward2 += reward[1]\n",
        "\n",
        "    if done[0]==True and done[1]==True:\n",
        "      #print(state)\n",
        "      break \n",
        "\n",
        "  \n",
        "  if (ep-1)%20 == 0:\n",
        "    print(\"--------------------------------\")  \n",
        "    print('episode:',ep)  \n",
        "    print('epsilon:',epsilon)\n",
        "    print('rewards:',cumulative_rewards)\n",
        "    print('timesteps:',t)\n",
        "    \n",
        "  episode_list.append(ep)\n",
        "  epsilon_decay.append(epsilon)\n",
        "  rewards.append(cumulative_rewards)\n",
        "  rewards1.append(reward1)\n",
        "  rewards2.append(reward2)\n",
        "    \n",
        "\n",
        "env.close()\n"
      ],
      "metadata": {
        "colab": {
          "base_uri": "https://localhost:8080/"
        },
        "id": "JFNAb7V_wPoq",
        "outputId": "39dfbdc4-f123-4f23-87c6-c5d4b7dc09ab"
      },
      "execution_count": null,
      "outputs": [
        {
          "output_type": "stream",
          "name": "stdout",
          "text": [
            "goal_pos [[0, 5], [0, 0]]\n",
            "agent_pos [[5, 0], [5, 5]]\n",
            "--------------------------------\n",
            "episode: 1\n",
            "epsilon: 0.9801\n",
            "rewards: -18.8\n",
            "timesteps: 23\n",
            "--------------------------------\n",
            "episode: 21\n",
            "epsilon: 0.8016305895390458\n",
            "rewards: -14.399999999999999\n",
            "timesteps: 23\n",
            "--------------------------------\n",
            "episode: 41\n",
            "epsilon: 0.6556592205741436\n",
            "rewards: -13.599999999999996\n",
            "timesteps: 23\n",
            "--------------------------------\n",
            "episode: 61\n",
            "epsilon: 0.536268225207185\n",
            "rewards: -16.4\n",
            "timesteps: 23\n",
            "--------------------------------\n",
            "episode: 81\n",
            "epsilon: 0.4386175018099108\n",
            "rewards: -0.9000000000000017\n",
            "timesteps: 12\n",
            "--------------------------------\n",
            "episode: 101\n",
            "epsilon: 0.358748297681892\n",
            "rewards: -12.099999999999998\n",
            "timesteps: 23\n",
            "--------------------------------\n",
            "episode: 121\n",
            "epsilon: 0.29342272152521587\n",
            "rewards: -13.999999999999998\n",
            "timesteps: 23\n",
            "--------------------------------\n",
            "episode: 141\n",
            "epsilon: 0.23999247958413436\n",
            "rewards: -0.5000000000000009\n",
            "timesteps: 12\n",
            "--------------------------------\n",
            "episode: 161\n",
            "epsilon: 0.1962915140230253\n",
            "rewards: 0.20000000000000018\n",
            "timesteps: 9\n",
            "--------------------------------\n",
            "episode: 181\n",
            "epsilon: 0.1605481911108965\n",
            "rewards: -4.600000000000001\n",
            "timesteps: 18\n",
            "--------------------------------\n",
            "episode: 201\n",
            "epsilon: 0.1313134793282883\n",
            "rewards: -2.7\n",
            "timesteps: 15\n",
            "--------------------------------\n",
            "episode: 221\n",
            "epsilon: 0.1074022057426376\n",
            "rewards: 0.20000000000000018\n",
            "timesteps: 9\n",
            "--------------------------------\n",
            "episode: 241\n",
            "epsilon: 0.08784500919014843\n",
            "rewards: 2.0999999999999996\n",
            "timesteps: 12\n",
            "--------------------------------\n",
            "episode: 261\n",
            "epsilon: 0.07184904244991488\n",
            "rewards: 0.20000000000000018\n",
            "timesteps: 9\n",
            "--------------------------------\n",
            "episode: 281\n",
            "epsilon: 0.058765830279503314\n",
            "rewards: -1.8000000000000012\n",
            "timesteps: 11\n",
            "--------------------------------\n",
            "episode: 301\n",
            "epsilon: 0.048064980279267165\n",
            "rewards: 0.20000000000000018\n",
            "timesteps: 9\n",
            "--------------------------------\n",
            "episode: 321\n",
            "epsilon: 0.03931268082588668\n",
            "rewards: 0.20000000000000018\n",
            "timesteps: 9\n",
            "--------------------------------\n",
            "episode: 341\n",
            "epsilon: 0.032154114383038335\n",
            "rewards: -1.0\n",
            "timesteps: 14\n",
            "--------------------------------\n",
            "episode: 361\n",
            "epsilon: 0.02629907322618195\n",
            "rewards: 0.20000000000000018\n",
            "timesteps: 9\n",
            "--------------------------------\n",
            "episode: 381\n",
            "epsilon: 0.021510194444071803\n",
            "rewards: 0.20000000000000018\n",
            "timesteps: 9\n",
            "--------------------------------\n",
            "episode: 401\n",
            "epsilon: 0.017593337264871736\n",
            "rewards: 0.20000000000000018\n",
            "timesteps: 9\n",
            "--------------------------------\n",
            "episode: 421\n",
            "epsilon: 0.014389712604426485\n",
            "rewards: 0.20000000000000018\n",
            "timesteps: 9\n",
            "--------------------------------\n",
            "episode: 441\n",
            "epsilon: 0.011769445769190737\n",
            "rewards: 0.20000000000000018\n",
            "timesteps: 9\n",
            "--------------------------------\n",
            "episode: 461\n",
            "epsilon: 0.00962631134629548\n",
            "rewards: 0.20000000000000018\n",
            "timesteps: 9\n",
            "--------------------------------\n",
            "episode: 481\n",
            "epsilon: 0.00787342683360601\n",
            "rewards: 0.20000000000000018\n",
            "timesteps: 9\n",
            "--------------------------------\n",
            "episode: 501\n",
            "epsilon: 0.006439730429870554\n",
            "rewards: 0.20000000000000018\n",
            "timesteps: 9\n",
            "--------------------------------\n",
            "episode: 521\n",
            "epsilon: 0.005267100194847124\n",
            "rewards: 0.20000000000000018\n",
            "timesteps: 9\n",
            "--------------------------------\n",
            "episode: 541\n",
            "epsilon: 0.004307997790385188\n",
            "rewards: 0.20000000000000018\n",
            "timesteps: 9\n",
            "--------------------------------\n",
            "episode: 561\n",
            "epsilon: 0.003523541279909585\n",
            "rewards: 1.6\n",
            "timesteps: 11\n",
            "--------------------------------\n",
            "episode: 581\n",
            "epsilon: 0.0028819288577482754\n",
            "rewards: 0.20000000000000018\n",
            "timesteps: 9\n",
            "--------------------------------\n",
            "episode: 601\n",
            "epsilon: 0.0023571496064139765\n",
            "rewards: 0.20000000000000018\n",
            "timesteps: 9\n",
            "--------------------------------\n",
            "episode: 621\n",
            "epsilon: 0.0019279290160405735\n",
            "rewards: 0.20000000000000018\n",
            "timesteps: 9\n",
            "--------------------------------\n",
            "episode: 641\n",
            "epsilon: 0.0015768665174145879\n",
            "rewards: 0.20000000000000018\n",
            "timesteps: 9\n",
            "--------------------------------\n",
            "episode: 661\n",
            "epsilon: 0.0012897300642581763\n",
            "rewards: 0.20000000000000018\n",
            "timesteps: 9\n",
            "--------------------------------\n",
            "episode: 681\n",
            "epsilon: 0.0010548791671844847\n",
            "rewards: 0.20000000000000018\n",
            "timesteps: 9\n",
            "--------------------------------\n",
            "episode: 701\n",
            "epsilon: 0.0008627929891669789\n",
            "rewards: 0.20000000000000018\n",
            "timesteps: 9\n",
            "--------------------------------\n",
            "episode: 721\n",
            "epsilon: 0.0007056843715499244\n",
            "rewards: 0.20000000000000018\n",
            "timesteps: 9\n",
            "--------------------------------\n",
            "episode: 741\n",
            "epsilon: 0.0005771841432446249\n",
            "rewards: 0.20000000000000018\n",
            "timesteps: 9\n",
            "--------------------------------\n",
            "episode: 761\n",
            "epsilon: 0.00047208291503089234\n",
            "rewards: 0.20000000000000018\n",
            "timesteps: 9\n",
            "--------------------------------\n",
            "episode: 781\n",
            "epsilon: 0.0003861198913248908\n",
            "rewards: 0.20000000000000018\n",
            "timesteps: 9\n",
            "--------------------------------\n",
            "episode: 801\n",
            "epsilon: 0.000315810137858917\n",
            "rewards: 0.20000000000000018\n",
            "timesteps: 9\n",
            "--------------------------------\n",
            "episode: 821\n",
            "epsilon: 0.0002583033027183462\n",
            "rewards: 0.20000000000000018\n",
            "timesteps: 9\n",
            "--------------------------------\n",
            "episode: 841\n",
            "epsilon: 0.00021126806329761292\n",
            "rewards: 0.20000000000000018\n",
            "timesteps: 9\n",
            "--------------------------------\n",
            "episode: 861\n",
            "epsilon: 0.0001727976146638485\n",
            "rewards: 0.20000000000000018\n",
            "timesteps: 9\n",
            "--------------------------------\n",
            "episode: 881\n",
            "epsilon: 0.00014133236783381463\n",
            "rewards: 0.20000000000000018\n",
            "timesteps: 9\n",
            "--------------------------------\n",
            "episode: 901\n",
            "epsilon: 0.0001155967241583207\n",
            "rewards: 0.20000000000000018\n",
            "timesteps: 9\n",
            "--------------------------------\n",
            "episode: 921\n",
            "epsilon: 9.454736265260388e-05\n",
            "rewards: 0.20000000000000018\n",
            "timesteps: 9\n",
            "--------------------------------\n",
            "episode: 941\n",
            "epsilon: 7.733094384508598e-05\n",
            "rewards: 0.20000000000000018\n",
            "timesteps: 9\n",
            "--------------------------------\n",
            "episode: 961\n",
            "epsilon: 6.324951546183769e-05\n",
            "rewards: 0.20000000000000018\n",
            "timesteps: 9\n",
            "--------------------------------\n",
            "episode: 981\n",
            "epsilon: 5.173221749590036e-05\n",
            "rewards: 0.20000000000000018\n",
            "timesteps: 9\n"
          ]
        }
      ]
    },
    {
      "cell_type": "code",
      "source": [
        "#epsilon decay per episode \n",
        "with output_grid.output_to(0, 0):\n",
        "  plt.plot(episode_list,epsilon_decay)\n",
        "  plt.xlabel(\"episode\")\n",
        "  plt.ylabel(\"epsilon decay\")"
      ],
      "metadata": {
        "colab": {
          "base_uri": "https://localhost:8080/",
          "height": 54
        },
        "id": "oRGqbOQep5SL",
        "outputId": "9d759b3f-0d00-43e7-a773-aeaceddefa8a"
      },
      "execution_count": null,
      "outputs": [
        {
          "output_type": "display_data",
          "data": {
            "text/plain": [
              "<IPython.core.display.Javascript object>"
            ],
            "application/javascript": [
              "window[\"3dd36172-d115-11ec-9cfc-0242ac1c0002\"] = google.colab.output.getActiveOutputArea();\n",
              "//# sourceURL=js_439dc53cc2"
            ]
          },
          "metadata": {}
        },
        {
          "output_type": "display_data",
          "data": {
            "text/plain": [
              "<IPython.core.display.Javascript object>"
            ],
            "application/javascript": [
              "window[\"3dd409b0-d115-11ec-9cfc-0242ac1c0002\"] = document.querySelector(\"#id2-0-0\");\n",
              "//# sourceURL=js_1147b0635e"
            ]
          },
          "metadata": {}
        },
        {
          "output_type": "display_data",
          "data": {
            "text/plain": [
              "<IPython.core.display.Javascript object>"
            ],
            "application/javascript": [
              "window[\"3dd486f6-d115-11ec-9cfc-0242ac1c0002\"] = google.colab.output.setActiveOutputArea(window[\"3dd409b0-d115-11ec-9cfc-0242ac1c0002\"]);\n",
              "//# sourceURL=js_aeab795e22"
            ]
          },
          "metadata": {}
        },
        {
          "output_type": "display_data",
          "data": {
            "text/plain": [
              "<Figure size 432x288 with 1 Axes>"
            ],
            "image/png": "[encoded data removed]"
          },
          "metadata": {
            "needs_background": "light"
          }
        },
        {
          "output_type": "display_data",
          "data": {
            "text/plain": [
              "<IPython.core.display.Javascript object>"
            ],
            "application/javascript": [
              "window[\"3dfd4636-d115-11ec-9cfc-0242ac1c0002\"] = google.colab.output.setActiveOutputArea(window[\"3dd36172-d115-11ec-9cfc-0242ac1c0002\"]);\n",
              "//# sourceURL=js_323da1cbb8"
            ]
          },
          "metadata": {}
        }
      ]
    },
    {
      "cell_type": "code",
      "source": [
        "#rewards per episode \n",
        "with output_grid.output_to(0, 0):\n",
        "  plt.plot(episode_list,rewards)\n",
        "  plt.xlabel(\"episode\")\n",
        "  plt.ylabel(\"rewards\")"
      ],
      "metadata": {
        "colab": {
          "base_uri": "https://localhost:8080/",
          "height": 54
        },
        "id": "QeAA0sEDp8Mi",
        "outputId": "dd599f84-ab5a-4127-a1b8-57676fc633bf"
      },
      "execution_count": null,
      "outputs": [
        {
          "output_type": "display_data",
          "data": {
            "text/plain": [
              "<IPython.core.display.Javascript object>"
            ],
            "application/javascript": [
              "window[\"3e028182-d115-11ec-9cfc-0242ac1c0002\"] = google.colab.output.getActiveOutputArea();\n",
              "//# sourceURL=js_1160f3dcaf"
            ]
          },
          "metadata": {}
        },
        {
          "output_type": "display_data",
          "data": {
            "text/plain": [
              "<IPython.core.display.Javascript object>"
            ],
            "application/javascript": [
              "window[\"3e0314bc-d115-11ec-9cfc-0242ac1c0002\"] = document.querySelector(\"#id2-0-0\");\n",
              "//# sourceURL=js_a701614dcc"
            ]
          },
          "metadata": {}
        },
        {
          "output_type": "display_data",
          "data": {
            "text/plain": [
              "<IPython.core.display.Javascript object>"
            ],
            "application/javascript": [
              "window[\"3e0386a4-d115-11ec-9cfc-0242ac1c0002\"] = google.colab.output.setActiveOutputArea(window[\"3e0314bc-d115-11ec-9cfc-0242ac1c0002\"]);\n",
              "//# sourceURL=js_3964c710f9"
            ]
          },
          "metadata": {}
        },
        {
          "output_type": "display_data",
          "data": {
            "text/plain": [
              "<Figure size 432x288 with 1 Axes>"
            ],
            "image/png": "[encoded data removed]"
          },
          "metadata": {
            "needs_background": "light"
          }
        },
        {
          "output_type": "display_data",
          "data": {
            "text/plain": [
              "<IPython.core.display.Javascript object>"
            ],
            "application/javascript": [
              "window[\"3e339ede-d115-11ec-9cfc-0242ac1c0002\"] = google.colab.output.setActiveOutputArea(window[\"3e028182-d115-11ec-9cfc-0242ac1c0002\"]);\n",
              "//# sourceURL=js_3f52d13a73"
            ]
          },
          "metadata": {}
        }
      ]
    },
    {
      "cell_type": "code",
      "source": [
        "#rewards per episode \n",
        "with output_grid.output_to(0, 0):\n",
        "  plt.plot(episode_list,rewards,label='rewards sum')\n",
        "  plt.plot(episode_list,rewards1,label='rewards 1')\n",
        "  plt.plot(episode_list,rewards2, label='rewards 2')\n",
        "  plt.xlabel(\"episode\")\n",
        "  plt.ylabel(\"rewards\")\n",
        "  plt.legend()"
      ],
      "metadata": {
        "colab": {
          "base_uri": "https://localhost:8080/",
          "height": 54
        },
        "id": "Po2tTPOgrrf_",
        "outputId": "6cf8dd5e-31b4-49a2-cd79-2ea82b627036"
      },
      "execution_count": null,
      "outputs": [
        {
          "output_type": "display_data",
          "data": {
            "text/plain": [
              "<IPython.core.display.Javascript object>"
            ],
            "application/javascript": [
              "window[\"3e3b6d26-d115-11ec-9cfc-0242ac1c0002\"] = google.colab.output.getActiveOutputArea();\n",
              "//# sourceURL=js_3cb4408b82"
            ]
          },
          "metadata": {}
        },
        {
          "output_type": "display_data",
          "data": {
            "text/plain": [
              "<IPython.core.display.Javascript object>"
            ],
            "application/javascript": [
              "window[\"3e3c5218-d115-11ec-9cfc-0242ac1c0002\"] = document.querySelector(\"#id2-0-0\");\n",
              "//# sourceURL=js_8602d172f8"
            ]
          },
          "metadata": {}
        },
        {
          "output_type": "display_data",
          "data": {
            "text/plain": [
              "<IPython.core.display.Javascript object>"
            ],
            "application/javascript": [
              "window[\"3e3d0aaa-d115-11ec-9cfc-0242ac1c0002\"] = google.colab.output.setActiveOutputArea(window[\"3e3c5218-d115-11ec-9cfc-0242ac1c0002\"]);\n",
              "//# sourceURL=js_1c867b85b6"
            ]
          },
          "metadata": {}
        },
        {
          "output_type": "display_data",
          "data": {
            "text/plain": [
              "<Figure size 432x288 with 1 Axes>"
            ],
            "image/png": "[encoded data removed]"
          },
          "metadata": {
            "needs_background": "light"
          }
        },
        {
          "output_type": "display_data",
          "data": {
            "text/plain": [
              "<IPython.core.display.Javascript object>"
            ],
            "application/javascript": [
              "window[\"3e71eeb4-d115-11ec-9cfc-0242ac1c0002\"] = google.colab.output.setActiveOutputArea(window[\"3e3b6d26-d115-11ec-9cfc-0242ac1c0002\"]);\n",
              "//# sourceURL=js_e3873ed8bd"
            ]
          },
          "metadata": {}
        }
      ]
    },
    {
      "cell_type": "markdown",
      "source": [
        "evaluation"
      ],
      "metadata": {
        "id": "V0Xsf_eaTzud"
      }
    },
    {
      "cell_type": "code",
      "source": [
        "rewards = []\n",
        "episode = []\n",
        "\n",
        "\n",
        "#repeat for each episode \n",
        "for ep in range(10):\n",
        "\n",
        "  #observe the initial state s \n",
        "  obs = env.reset()\n",
        "  done = [False,False]\n",
        "  \n",
        "  cumulative_rewards = 0\n",
        "  #repeat for each step of episode\n",
        "  for t in range(200): \n",
        "\n",
        "    state1 = 6*obs[0][0] + obs[0][1]\n",
        "    state2 = 6*obs[1][0] + obs[1][1]\n",
        "    #select an action a from state s(e.g. epsilon-greedy) and execute it\n",
        "    action1 = np.argmax(Q1[state1,:])\n",
        "    action2 = np.argmax(Q2[state2,:])\n",
        "    action = [action1, action2] #exploit\n",
        "\n",
        "    #Receive immediate reward r, Observe the new state s'\n",
        "    next_obs, reward, done, _ = env.step(action)\n",
        "    \n",
        "    #Update the table entry for Q(s,a) as follows:\n",
        "    next_state1 = 6*next_obs[0][0]+ next_obs[0][1]\n",
        "    next_state2 = 6*next_obs[1][0] + next_obs[1][1]\n",
        "    Q1[state1,action1] = Q1[state1,action1] + (reward[0] + 0.9*np.max(Q1[next_state1,:]) - Q1[state1,action1])\n",
        "    Q2[state2,action2] = Q2[state2,action2] + (reward[1] + 0.9*np.max(Q2[next_state2,:]) - Q2[state2,action2])\n",
        "    \n",
        "    for i in reward:\n",
        "      cumulative_rewards += i\n",
        "    obs = next_obs\n",
        "\n",
        "    if done[0]==True and done[1]==True:\n",
        "      break\n",
        "\n",
        "\n",
        "  print(\"--------------------------------\")  \n",
        "  print('episode:',ep)  \n",
        "  print('epsilon:',epsilon)\n",
        "  print('rewards:',cumulative_rewards)\n",
        "    \n",
        "  episode.append(ep)\n",
        "  rewards.append(cumulative_rewards)\n",
        "  \n",
        "  \n",
        "env.close()"
      ],
      "metadata": {
        "colab": {
          "base_uri": "https://localhost:8080/"
        },
        "id": "h8hq4DnTTzTI",
        "outputId": "926e4514-f0cf-4561-b28b-309fa91b1611"
      },
      "execution_count": null,
      "outputs": [
        {
          "output_type": "stream",
          "name": "stdout",
          "text": [
            "--------------------------------\n",
            "episode: 0\n",
            "epsilon: 4.317124741065784e-05\n",
            "rewards: 0.1999999999999995\n",
            "--------------------------------\n",
            "episode: 1\n",
            "epsilon: 4.317124741065784e-05\n",
            "rewards: 0.1999999999999995\n",
            "--------------------------------\n",
            "episode: 2\n",
            "epsilon: 4.317124741065784e-05\n",
            "rewards: 0.1999999999999995\n",
            "--------------------------------\n",
            "episode: 3\n",
            "epsilon: 4.317124741065784e-05\n",
            "rewards: 0.1999999999999995\n",
            "--------------------------------\n",
            "episode: 4\n",
            "epsilon: 4.317124741065784e-05\n",
            "rewards: 0.1999999999999995\n",
            "--------------------------------\n",
            "episode: 5\n",
            "epsilon: 4.317124741065784e-05\n",
            "rewards: 0.1999999999999995\n",
            "--------------------------------\n",
            "episode: 6\n",
            "epsilon: 4.317124741065784e-05\n",
            "rewards: 0.1999999999999995\n",
            "--------------------------------\n",
            "episode: 7\n",
            "epsilon: 4.317124741065784e-05\n",
            "rewards: 0.1999999999999995\n",
            "--------------------------------\n",
            "episode: 8\n",
            "epsilon: 4.317124741065784e-05\n",
            "rewards: 0.1999999999999995\n",
            "--------------------------------\n",
            "episode: 9\n",
            "epsilon: 4.317124741065784e-05\n",
            "rewards: 0.1999999999999995\n"
          ]
        }
      ]
    },
    {
      "cell_type": "code",
      "source": [
        "#rewards per episode \n",
        "with output_grid.output_to(0, 0):\n",
        "  plt.plot(episode,rewards)\n",
        "  plt.xlabel(\"episode\")\n",
        "  plt.ylabel(\"rewards\")"
      ],
      "metadata": {
        "colab": {
          "base_uri": "https://localhost:8080/",
          "height": 54
        },
        "id": "DDjlW4SmVayc",
        "outputId": "7abe2eaa-f4c4-44ed-d72a-569e842a97e8"
      },
      "execution_count": null,
      "outputs": [
        {
          "output_type": "display_data",
          "data": {
            "text/plain": [
              "<IPython.core.display.Javascript object>"
            ],
            "application/javascript": [
              "window[\"3e886324-d115-11ec-9cfc-0242ac1c0002\"] = google.colab.output.getActiveOutputArea();\n",
              "//# sourceURL=js_83b20e9742"
            ]
          },
          "metadata": {}
        },
        {
          "output_type": "display_data",
          "data": {
            "text/plain": [
              "<IPython.core.display.Javascript object>"
            ],
            "application/javascript": [
              "window[\"3e8905ae-d115-11ec-9cfc-0242ac1c0002\"] = document.querySelector(\"#id2-0-0\");\n",
              "//# sourceURL=js_634f0d74d6"
            ]
          },
          "metadata": {}
        },
        {
          "output_type": "display_data",
          "data": {
            "text/plain": [
              "<IPython.core.display.Javascript object>"
            ],
            "application/javascript": [
              "window[\"3e89b15c-d115-11ec-9cfc-0242ac1c0002\"] = google.colab.output.setActiveOutputArea(window[\"3e8905ae-d115-11ec-9cfc-0242ac1c0002\"]);\n",
              "//# sourceURL=js_2d0d680aef"
            ]
          },
          "metadata": {}
        },
        {
          "output_type": "display_data",
          "data": {
            "text/plain": [
              "<Figure size 432x288 with 1 Axes>"
            ],
            "image/png": "[encoded data removed]"
          },
          "metadata": {
            "needs_background": "light"
          }
        },
        {
          "output_type": "display_data",
          "data": {
            "text/plain": [
              "<IPython.core.display.Javascript object>"
            ],
            "application/javascript": [
              "window[\"3ed42e30-d115-11ec-9cfc-0242ac1c0002\"] = google.colab.output.setActiveOutputArea(window[\"3e886324-d115-11ec-9cfc-0242ac1c0002\"]);\n",
              "//# sourceURL=js_84daff4ab2"
            ]
          },
          "metadata": {}
        }
      ]
    },
    {
      "cell_type": "markdown",
      "source": [
        "## Actor Critic in MAGrid World"
      ],
      "metadata": {
        "id": "YT3yCbSJTnFv"
      }
    },
    {
      "cell_type": "code",
      "source": [
        "import random\n",
        "import math\n",
        "import torch\n",
        "import torch.nn as nn\n",
        "import torch.optim as optim\n",
        "import numpy as np\n",
        "import torch.nn.functional as F\n",
        "from torch.distributions import Categorical"
      ],
      "metadata": {
        "id": "gbMEIur5Vz1t"
      },
      "execution_count": null,
      "outputs": []
    },
    {
      "cell_type": "code",
      "source": [
        "config = {\n",
        "    'N_AGENTS': 2,\n",
        "    'GRID_SIZE': 6\n",
        "}"
      ],
      "metadata": {
        "id": "CdTM3aXHx4qi"
      },
      "execution_count": null,
      "outputs": []
    },
    {
      "cell_type": "code",
      "source": [
        "#Neural Network Model for Actor and Critic \n",
        "class ActorCritic(nn.Module):\n",
        "  def __init__(self,obs_space,action_space):\n",
        "    super(ActorCritic, self).__init__()\n",
        "    self.obs_space = obs_space\n",
        "    self.action_space = action_space\n",
        "    self.linear = nn.Linear(self.obs_space,128)\n",
        "    self.actor = nn.Linear(128,self.action_space)\n",
        "    self.critic = nn.Linear(128,1)\n",
        "\n",
        "  def Actor(self, state):\n",
        "    output = F.relu(self.linear(state))\n",
        "    output = F.softmax(self.actor(output))\n",
        "    return output\n",
        "  \n",
        "  def Critic(self, state):\n",
        "    output = F.relu(self.linear(state))\n",
        "    output = self.critic(output)\n",
        "    return output "
      ],
      "metadata": {
        "id": "U3pbBFKpVvcm"
      },
      "execution_count": null,
      "outputs": []
    },
    {
      "cell_type": "code",
      "source": [
        "from gym.core import RewardWrapper\n",
        "#-----------------------------------------------#\n",
        "n_agents = config['N_AGENTS']\n",
        "size = config['GRID_SIZE']\n",
        "env = MAGridWorld(size=size,n_agents=n_agents)\n",
        "action_space = env.action_space.n\n",
        "\n",
        "rewards = []\n",
        "episode_list = []\n",
        "rewards1 = []\n",
        "rewards2 = []\n",
        "\n",
        "obs = env.reset()\n",
        "print('goal_pos', env.goal_pos)\n",
        "print('agent_pos', obs)\n",
        "#-----------------------------------------------#\n",
        "\n",
        "\n",
        "ac1 = ActorCritic(36, action_space)\n",
        "optimizer1 = optim.Adam(ac1.parameters(),3e-4)\n",
        "\n",
        "ac2 = ActorCritic(36, action_space)\n",
        "optimizer2 = optim.Adam(ac2.parameters(),3e-4)\n",
        "\n",
        "for ep in range(1000): #for each episode\n",
        "  \n",
        "  #Initialize S\n",
        "  obs = env.reset()\n",
        "\n",
        "  loss1 = 0\n",
        "  loss2 = 0 \n",
        "  cumulative_rewards = 0\n",
        "  reward1 = 0\n",
        "  reward2 = 0 \n",
        "  \n",
        "  for t in range(100): #for each timesteps\n",
        "    state = obs \n",
        "    state1 = torch.zeros([1,36])\n",
        "    integer_1 = 6*state[0][0] + state[0][1]\n",
        "    state1[0,integer_1] = 1\n",
        "\n",
        "    integer_2 = 6*state[1][0] + state[1][1]\n",
        "    state2 = torch.zeros([1,36])\n",
        "    state2[0,integer_2] = 1\n",
        "\n",
        "    #Take action A, observe S', R \n",
        "    probs1 = ac1.Actor(state1)\n",
        "    m1 = Categorical(probs1)\n",
        "    action1 = m1.sample()\n",
        "\n",
        "\n",
        "    probs2 = ac2.Actor(state2)\n",
        "    m2 = Categorical(probs2)\n",
        "    action2 = m2.sample()\n",
        "\n",
        "\n",
        "    next_obs, reward, done, _ = env.step([action1,action2])\n",
        "\n",
        "    \n",
        "    #advantage function = TD error\n",
        "    #a <- R + gamma * v(S',w) - v(S,w)\n",
        "    next_state = next_obs\n",
        "    integer_1 = 6*next_state[0][0] + next_state[0][1]\n",
        "    next_state1 = torch.zeros([1,36])\n",
        "    next_state1[0,integer_1] = 1\n",
        "\n",
        "    value1 = ac1.Critic(state1)\n",
        "    next_value1 = ac1.Critic(next_state1)\n",
        "\n",
        "    integer_2 = 6*next_state[1][0] + next_state[1][1]\n",
        "    next_state2 = torch.zeros([1,36])\n",
        "    next_state2[0,integer_2] = 1\n",
        "\n",
        "    value2 = ac2.Critic(state2)\n",
        "    next_value2 = ac2.Critic(next_state2)\n",
        "\n",
        "\n",
        "    target1 = torch.tensor(reward[0]) + 0.9 * next_value1\n",
        "    target2 = torch.tensor(reward[1]) + 0.9 * next_value2\n",
        "    if done[0] == True :\n",
        "      target1 = torch.tensor(reward[0])\n",
        "    if done[1] == True:\n",
        "      target2 = torch.tensor(reward[1])\n",
        "\n",
        "\n",
        "    #update critic by minimizing loss\n",
        "    lossC1 = F.smooth_l1_loss(target1, value1)\n",
        "    lossC2 = F.smooth_l1_loss(target2, value2)\n",
        "\n",
        "    #update actor by minimizing loss\n",
        "    lossA1 = -m1.log_prob(action1) * (target1 - value1)\n",
        "    loss1 += lossC1 + lossA1.sum()\n",
        "\n",
        "    lossA2 = -m2.log_prob(action2) * (target2 - value2)\n",
        "    loss2 += lossC2 + lossA2.sum()\n",
        "\n",
        "    #S<-S'\n",
        "    obs = next_obs\n",
        "\n",
        "    #compute comulative reward \n",
        "    sum_reward_agent = 0\n",
        "    for i in reward:\n",
        "      sum_reward_agent+=i\n",
        "    reward1 += reward[0]\n",
        "    reward2 += reward[1]\n",
        "    cumulative_rewards += sum_reward_agent\n",
        "\n",
        "    if done[0] == True and done[1] == True:\n",
        "      print(state)\n",
        "      break \n",
        "\n",
        "\n",
        "  #backpropagation \n",
        "  optimizer1.zero_grad()\n",
        "  optimizer2.zero_grad()  \n",
        "  \n",
        "  loss1.backward()\n",
        "  loss2.backward()\n",
        "  \n",
        "  optimizer1.step()\n",
        "  optimizer2.step()\n",
        "\n",
        "  if (ep)%10== 0 : \n",
        "    print('episode:',ep,end=' ')\n",
        "    print('rewards:',cumulative_rewards)\n",
        "\n",
        "  episode_list.append(ep)\n",
        "  rewards.append(cumulative_rewards)\n",
        "  rewards1.append(reward1)\n",
        "  rewards2.append(reward2)\n",
        "\n",
        "env.close()"
      ],
      "metadata": {
        "colab": {
          "base_uri": "https://localhost:8080/"
        },
        "id": "i2g0ZkonTszH",
        "outputId": "b506d6b5-273f-4925-a255-86730384e340"
      },
      "execution_count": null,
      "outputs": [
        {
          "output_type": "stream",
          "name": "stdout",
          "text": [
            "goal_pos [[0, 5], [0, 0]]\n",
            "agent_pos [[5, 0], [5, 5]]\n",
            "[[2, 0], [1, 2]]\n",
            "episode: 0 rewards: -16.399999999999995\n",
            "[[4, 1], [5, 2]]\n",
            "[[3, 3], [3, 4]]\n"
          ]
        },
        {
          "output_type": "stream",
          "name": "stderr",
          "text": [
            "/usr/local/lib/python3.7/dist-packages/ipykernel_launcher.py:13: UserWarning: Implicit dimension choice for softmax has been deprecated. Change the call to include dim=X as an argument.\n",
            "  del sys.path[0]\n",
            "/usr/local/lib/python3.7/dist-packages/ipykernel_launcher.py:87: UserWarning: Using a target size (torch.Size([1, 1])) that is different to the input size (torch.Size([])). This will likely lead to incorrect results due to broadcasting. Please ensure they have the same size.\n",
            "/usr/local/lib/python3.7/dist-packages/ipykernel_launcher.py:88: UserWarning: Using a target size (torch.Size([1, 1])) that is different to the input size (torch.Size([])). This will likely lead to incorrect results due to broadcasting. Please ensure they have the same size.\n"
          ]
        },
        {
          "output_type": "stream",
          "name": "stdout",
          "text": [
            "[[2, 0], [3, 0]]\n",
            "[[0, 1], [1, 4]]\n",
            "[[3, 4], [2, 2]]\n",
            "[[4, 1], [2, 5]]\n",
            "[[4, 3], [5, 4]]\n",
            "[[4, 0], [3, 1]]\n",
            "[[3, 1], [5, 3]]\n",
            "[[1, 4], [4, 1]]\n",
            "episode: 10 rewards: -13.999999999999996\n",
            "[[3, 2], [4, 3]]\n",
            "[[1, 1], [1, 5]]\n",
            "[[2, 0], [1, 5]]\n",
            "[[5, 0], [3, 5]]\n",
            "[[3, 0], [5, 0]]\n",
            "[[0, 1], [1, 1]]\n",
            "[[5, 0], [5, 3]]\n",
            "[[5, 0], [5, 4]]\n",
            "[[4, 1], [1, 2]]\n",
            "[[4, 3], [2, 3]]\n",
            "episode: 20 rewards: -15.599999999999998\n",
            "[[2, 1], [2, 3]]\n",
            "[[3, 0], [1, 4]]\n",
            "[[1, 2], [1, 4]]\n",
            "[[5, 4], [5, 5]]\n",
            "[[1, 3], [5, 5]]\n",
            "[[2, 0], [5, 2]]\n",
            "[[0, 4], [2, 0]]\n",
            "[[5, 1], [3, 4]]\n",
            "[[3, 0], [5, 5]]\n",
            "[[2, 4], [3, 2]]\n",
            "episode: 30 rewards: -13.599999999999996\n",
            "[[5, 1], [4, 0]]\n",
            "[[3, 3], [2, 4]]\n",
            "[[3, 2], [3, 4]]\n",
            "[[3, 1], [5, 2]]\n",
            "[[3, 1], [4, 5]]\n",
            "[[1, 1], [1, 0]]\n",
            "[[3, 1], [4, 5]]\n",
            "[[5, 0], [3, 4]]\n",
            "[[0, 3], [5, 1]]\n",
            "[[3, 2], [1, 4]]\n",
            "episode: 40 rewards: -15.999999999999995\n",
            "[[4, 4], [4, 1]]\n",
            "[[4, 3], [2, 4]]\n",
            "[[4, 3], [2, 0]]\n",
            "[[0, 2], [5, 2]]\n",
            "[[3, 3], [1, 4]]\n",
            "[[4, 3], [5, 2]]\n",
            "[[1, 0], [5, 2]]\n",
            "[[4, 3], [4, 5]]\n",
            "[[1, 3], [5, 2]]\n",
            "[[4, 2], [4, 4]]\n",
            "episode: 50 rewards: -16.399999999999995\n",
            "[[0, 3], [3, 2]]\n",
            "[[4, 0], [5, 2]]\n",
            "[[0, 3], [5, 0]]\n",
            "[[4, 2], [2, 1]]\n",
            "[[2, 2], [3, 4]]\n",
            "[[4, 5], [5, 0]]\n",
            "[[3, 1], [1, 1]]\n",
            "[[5, 3], [4, 4]]\n",
            "[[0, 2], [4, 0]]\n",
            "[[1, 2], [1, 3]]\n",
            "episode: 60 rewards: -14.799999999999995\n",
            "[[4, 4], [0, 4]]\n",
            "[[0, 1], [2, 2]]\n",
            "[[1, 2], [5, 1]]\n",
            "[[4, 5], [4, 0]]\n",
            "[[2, 0], [2, 4]]\n",
            "[[2, 2], [2, 3]]\n",
            "[[3, 1], [3, 3]]\n",
            "[[4, 3], [3, 4]]\n",
            "[[4, 3], [1, 2]]\n",
            "[[2, 5], [4, 1]]\n",
            "episode: 70 rewards: -15.199999999999998\n",
            "[[4, 1], [4, 2]]\n",
            "[[2, 0], [5, 0]]\n",
            "[[1, 3], [4, 3]]\n",
            "[[5, 3], [3, 1]]\n",
            "[[4, 1], [1, 2]]\n",
            "[[5, 0], [0, 2]]\n",
            "[[2, 5], [5, 1]]\n",
            "[[2, 3], [4, 3]]\n",
            "[[3, 0], [5, 1]]\n",
            "[[4, 3], [0, 3]]\n",
            "episode: 80 rewards: -15.199999999999994\n",
            "[[4, 4], [3, 4]]\n",
            "[[3, 2], [5, 3]]\n",
            "[[3, 5], [4, 3]]\n",
            "[[4, 0], [1, 1]]\n",
            "[[3, 0], [4, 0]]\n",
            "[[2, 3], [0, 2]]\n",
            "[[1, 1], [2, 4]]\n",
            "[[3, 0], [4, 0]]\n",
            "[[1, 3], [2, 2]]\n",
            "[[1, 4], [4, 4]]\n",
            "episode: 90 rewards: -14.799999999999995\n",
            "[[0, 2], [0, 3]]\n",
            "[[3, 5], [5, 4]]\n",
            "[[3, 0], [5, 5]]\n",
            "[[2, 5], [1, 4]]\n",
            "[[1, 4], [4, 4]]\n",
            "[[0, 5], [0, 0]]\n",
            "[[4, 4], [1, 4]]\n",
            "[[2, 1], [1, 1]]\n",
            "[[1, 2], [0, 3]]\n",
            "[[4, 1], [1, 4]]\n",
            "episode: 100 rewards: -15.599999999999996\n",
            "[[0, 2], [3, 3]]\n",
            "[[0, 1], [4, 3]]\n",
            "[[5, 3], [2, 4]]\n",
            "[[2, 4], [4, 1]]\n",
            "[[1, 0], [1, 1]]\n",
            "[[4, 0], [1, 3]]\n",
            "[[3, 2], [0, 2]]\n",
            "[[0, 1], [4, 4]]\n",
            "[[2, 1], [2, 2]]\n",
            "[[4, 5], [3, 0]]\n",
            "episode: 110 rewards: -14.399999999999997\n",
            "[[0, 1], [4, 5]]\n",
            "[[5, 5], [2, 2]]\n",
            "[[1, 1], [2, 1]]\n",
            "[[2, 1], [0, 0]]\n",
            "[[1, 2], [2, 2]]\n",
            "[[5, 2], [5, 3]]\n",
            "[[0, 1], [5, 1]]\n",
            "[[2, 2], [4, 3]]\n",
            "[[1, 5], [2, 1]]\n",
            "[[1, 3], [0, 2]]\n",
            "episode: 120 rewards: -13.999999999999998\n",
            "[[0, 3], [3, 4]]\n",
            "[[5, 2], [0, 1]]\n",
            "[[4, 2], [1, 4]]\n",
            "[[2, 2], [1, 2]]\n",
            "[[4, 2], [2, 3]]\n",
            "[[2, 0], [4, 0]]\n",
            "[[2, 2], [1, 0]]\n",
            "[[2, 1], [1, 0]]\n",
            "[[4, 2], [3, 2]]\n",
            "[[3, 4], [0, 2]]\n",
            "episode: 130 rewards: -14.799999999999997\n",
            "[[1, 4], [4, 2]]\n",
            "[[1, 3], [1, 5]]\n",
            "[[1, 4], [2, 0]]\n",
            "[[1, 1], [0, 1]]\n",
            "[[0, 5], [1, 0]]\n",
            "[[3, 3], [0, 1]]\n",
            "[[0, 3], [1, 2]]\n",
            "[[3, 3], [3, 5]]\n",
            "[[0, 4], [0, 0]]\n",
            "[[3, 0], [0, 0]]\n",
            "episode: 140 rewards: -8.099999999999998\n",
            "[[0, 3], [0, 0]]\n",
            "[[0, 4], [2, 1]]\n",
            "[[4, 4], [4, 2]]\n",
            "[[3, 3], [4, 1]]\n",
            "[[0, 1], [0, 2]]\n",
            "[[0, 4], [4, 2]]\n",
            "[[0, 5], [4, 0]]\n",
            "[[0, 3], [2, 0]]\n",
            "[[4, 4], [1, 0]]\n",
            "[[0, 5], [1, 2]]\n",
            "episode: 150 rewards: -4.6999999999999975\n",
            "[[0, 4], [3, 3]]\n",
            "[[0, 3], [3, 3]]\n",
            "[[1, 4], [4, 0]]\n",
            "[[3, 1], [5, 0]]\n",
            "[[2, 5], [0, 4]]\n",
            "[[5, 5], [0, 0]]\n",
            "[[0, 2], [1, 1]]\n",
            "[[0, 3], [1, 0]]\n",
            "[[4, 3], [0, 0]]\n",
            "[[0, 4], [2, 1]]\n",
            "episode: 160 rewards: -8.799999999999999\n",
            "[[1, 1], [0, 3]]\n",
            "[[1, 5], [0, 1]]\n",
            "[[0, 1], [4, 3]]\n",
            "[[3, 5], [0, 3]]\n",
            "[[0, 4], [0, 2]]\n",
            "[[5, 0], [1, 0]]\n",
            "[[4, 5], [1, 5]]\n",
            "[[0, 5], [1, 2]]\n",
            "[[2, 4], [0, 0]]\n",
            "[[1, 5], [1, 0]]\n",
            "episode: 170 rewards: -9.899999999999997\n",
            "[[3, 0], [5, 0]]\n",
            "[[1, 2], [5, 1]]\n",
            "[[0, 5], [0, 0]]\n",
            "[[3, 5], [2, 4]]\n",
            "[[0, 1], [0, 0]]\n",
            "[[2, 1], [0, 1]]\n",
            "[[0, 5], [1, 2]]\n",
            "[[2, 3], [4, 3]]\n",
            "[[1, 2], [1, 4]]\n",
            "[[1, 0], [1, 1]]\n",
            "episode: 180 rewards: -15.599999999999994\n",
            "[[0, 1], [0, 0]]\n",
            "[[3, 5], [2, 1]]\n",
            "[[0, 2], [5, 0]]\n",
            "[[0, 1], [1, 0]]\n",
            "[[0, 2], [4, 1]]\n",
            "[[3, 1], [0, 0]]\n",
            "[[2, 4], [0, 1]]\n",
            "[[1, 0], [1, 1]]\n",
            "[[2, 3], [3, 0]]\n",
            "[[0, 3], [0, 0]]\n",
            "episode: 190 rewards: -12.099999999999998\n",
            "[[1, 0], [0, 1]]\n",
            "[[2, 5], [1, 4]]\n",
            "[[1, 5], [1, 0]]\n",
            "[[0, 5], [3, 3]]\n",
            "[[0, 5], [2, 0]]\n",
            "[[3, 2], [0, 0]]\n",
            "[[5, 4], [1, 4]]\n",
            "[[2, 5], [3, 1]]\n",
            "[[2, 4], [1, 4]]\n",
            "[[2, 5], [0, 0]]\n",
            "episode: 200 rewards: -2.000000000000001\n",
            "[[0, 4], [0, 0]]\n",
            "[[2, 5], [3, 0]]\n",
            "[[1, 2], [2, 1]]\n",
            "[[0, 5], [0, 1]]\n",
            "[[1, 0], [0, 2]]\n",
            "[[0, 2], [2, 2]]\n",
            "[[1, 5], [1, 1]]\n",
            "[[2, 1], [3, 1]]\n",
            "[[0, 3], [1, 3]]\n",
            "[[1, 0], [3, 0]]\n",
            "episode: 210 rewards: -13.999999999999998\n",
            "[[0, 5], [3, 1]]\n",
            "[[0, 3], [1, 4]]\n",
            "[[3, 0], [2, 1]]\n",
            "[[0, 5], [0, 0]]\n",
            "[[0, 5], [3, 3]]\n",
            "[[2, 3], [0, 0]]\n",
            "[[0, 4], [1, 0]]\n",
            "[[1, 5], [4, 0]]\n",
            "[[0, 5], [0, 0]]\n",
            "[[1, 5], [3, 0]]\n",
            "episode: 220 rewards: -14.799999999999997\n",
            "[[2, 4], [2, 1]]\n",
            "[[1, 4], [1, 0]]\n",
            "[[0, 2], [1, 0]]\n",
            "[[1, 3], [0, 4]]\n",
            "[[2, 1], [0, 0]]\n",
            "[[5, 5], [1, 0]]\n",
            "[[3, 5], [0, 0]]\n",
            "[[1, 1], [0, 0]]\n",
            "[[1, 4], [0, 1]]\n",
            "[[3, 5], [0, 0]]\n",
            "episode: 230 rewards: -13.299999999999995\n",
            "[[1, 1], [0, 0]]\n",
            "[[2, 4], [0, 0]]\n",
            "[[0, 5], [1, 0]]\n",
            "[[0, 5], [0, 0]]\n",
            "[[1, 5], [0, 2]]\n",
            "[[0, 5], [0, 2]]\n",
            "[[0, 5], [0, 0]]\n",
            "[[0, 5], [0, 0]]\n",
            "[[0, 5], [3, 0]]\n",
            "[[0, 5], [0, 0]]\n",
            "episode: 240 rewards: 0.5\n",
            "[[2, 5], [0, 1]]\n",
            "[[3, 5], [0, 2]]\n",
            "[[0, 5], [0, 0]]\n",
            "[[0, 4], [0, 1]]\n",
            "[[0, 2], [0, 0]]\n",
            "[[0, 5], [0, 0]]\n",
            "[[0, 4], [1, 0]]\n",
            "[[0, 5], [2, 0]]\n",
            "[[2, 4], [0, 0]]\n",
            "[[0, 5], [0, 0]]\n",
            "episode: 250 rewards: -2.500000000000001\n",
            "[[0, 5], [0, 0]]\n",
            "[[1, 4], [0, 0]]\n",
            "[[0, 5], [1, 0]]\n",
            "[[0, 5], [1, 0]]\n",
            "[[2, 3], [0, 0]]\n",
            "[[0, 5], [0, 0]]\n",
            "[[0, 3], [0, 0]]\n",
            "[[0, 5], [1, 0]]\n",
            "[[0, 5], [0, 0]]\n",
            "[[0, 5], [5, 0]]\n",
            "episode: 260 rewards: -6.1999999999999975\n",
            "[[0, 2], [0, 0]]\n",
            "[[1, 4], [0, 0]]\n",
            "[[2, 5], [1, 0]]\n",
            "[[0, 3], [4, 0]]\n",
            "[[1, 5], [0, 1]]\n",
            "[[0, 4], [1, 2]]\n",
            "[[0, 5], [0, 0]]\n",
            "[[1, 2], [0, 0]]\n",
            "[[0, 3], [0, 1]]\n",
            "[[0, 5], [1, 1]]\n",
            "episode: 270 rewards: -3.4999999999999987\n",
            "[[3, 5], [0, 0]]\n",
            "[[0, 5], [1, 1]]\n",
            "[[1, 5], [5, 0]]\n",
            "[[0, 5], [0, 0]]\n",
            "[[0, 5], [0, 0]]\n",
            "[[2, 5], [4, 1]]\n",
            "[[1, 4], [0, 0]]\n",
            "[[0, 5], [0, 0]]\n",
            "[[0, 4], [0, 0]]\n",
            "[[0, 5], [0, 0]]\n",
            "episode: 280 rewards: 1.2000000000000002\n",
            "[[0, 5], [0, 0]]\n",
            "[[2, 5], [0, 0]]\n",
            "[[1, 5], [0, 0]]\n",
            "[[1, 3], [0, 1]]\n",
            "[[0, 5], [0, 0]]\n",
            "[[1, 5], [0, 0]]\n",
            "[[0, 5], [0, 0]]\n",
            "[[0, 5], [0, 0]]\n",
            "[[0, 5], [0, 0]]\n",
            "[[1, 4], [0, 0]]\n",
            "episode: 290 rewards: -9.899999999999999\n",
            "[[0, 5], [0, 0]]\n",
            "[[0, 5], [0, 0]]\n",
            "[[0, 5], [0, 0]]\n",
            "[[0, 5], [0, 0]]\n",
            "[[0, 5], [0, 0]]\n",
            "[[0, 5], [0, 0]]\n",
            "[[0, 5], [4, 0]]\n",
            "[[1, 5], [0, 0]]\n",
            "[[0, 5], [0, 0]]\n",
            "[[0, 5], [0, 0]]\n",
            "episode: 300 rewards: -3.899999999999997\n",
            "[[0, 5], [0, 0]]\n",
            "[[1, 5], [1, 0]]\n",
            "[[0, 5], [0, 0]]\n",
            "[[0, 5], [0, 0]]\n",
            "[[0, 5], [1, 0]]\n",
            "[[0, 5], [0, 0]]\n",
            "[[0, 5], [0, 0]]\n",
            "[[0, 4], [0, 1]]\n",
            "[[0, 4], [3, 0]]\n",
            "[[0, 5], [0, 0]]\n",
            "episode: 310 rewards: -4.440892098500626e-16\n",
            "[[0, 5], [0, 0]]\n",
            "[[0, 5], [0, 0]]\n",
            "[[0, 5], [0, 0]]\n",
            "[[0, 3], [1, 0]]\n",
            "[[0, 5], [0, 0]]\n",
            "[[1, 5], [0, 0]]\n",
            "[[0, 5], [0, 0]]\n",
            "[[4, 5], [0, 0]]\n",
            "[[0, 2], [3, 0]]\n",
            "[[0, 5], [0, 0]]\n",
            "episode: 320 rewards: -0.40000000000000036\n",
            "[[0, 5], [0, 0]]\n",
            "[[0, 5], [0, 0]]\n",
            "[[0, 5], [2, 0]]\n",
            "[[1, 5], [0, 0]]\n",
            "[[1, 5], [0, 3]]\n",
            "[[0, 5], [0, 0]]\n",
            "[[0, 2], [1, 3]]\n",
            "[[0, 5], [0, 0]]\n",
            "[[0, 5], [0, 0]]\n",
            "[[0, 5], [0, 0]]\n",
            "episode: 330 rewards: -1.7999999999999994\n",
            "[[0, 5], [1, 2]]\n",
            "[[0, 4], [0, 1]]\n",
            "[[1, 5], [2, 0]]\n",
            "[[0, 5], [0, 0]]\n",
            "[[0, 5], [0, 0]]\n",
            "[[0, 5], [0, 0]]\n",
            "[[0, 5], [0, 0]]\n",
            "[[0, 5], [0, 0]]\n",
            "[[0, 5], [1, 0]]\n",
            "[[0, 5], [0, 0]]\n",
            "episode: 340 rewards: -1.4\n",
            "[[0, 5], [0, 0]]\n",
            "[[0, 5], [0, 0]]\n",
            "[[0, 5], [0, 0]]\n",
            "[[3, 5], [0, 0]]\n",
            "[[0, 4], [0, 0]]\n",
            "[[0, 5], [0, 0]]\n",
            "[[0, 5], [0, 0]]\n",
            "[[0, 5], [0, 0]]\n",
            "[[1, 5], [0, 0]]\n",
            "[[0, 5], [2, 0]]\n",
            "episode: 350 rewards: -8.399999999999999\n",
            "[[0, 5], [0, 0]]\n",
            "[[0, 5], [0, 0]]\n",
            "[[0, 5], [0, 0]]\n",
            "[[0, 5], [0, 0]]\n",
            "[[0, 5], [0, 0]]\n",
            "[[1, 5], [1, 1]]\n",
            "[[0, 5], [0, 0]]\n",
            "[[0, 5], [0, 0]]\n",
            "[[0, 5], [0, 0]]\n",
            "[[0, 5], [0, 0]]\n",
            "episode: 360 rewards: -1.4999999999999996\n",
            "[[2, 5], [0, 0]]\n",
            "[[0, 5], [0, 0]]\n",
            "[[0, 5], [0, 0]]\n",
            "[[0, 5], [0, 0]]\n",
            "[[0, 5], [0, 0]]\n",
            "[[0, 5], [0, 0]]\n",
            "[[0, 5], [1, 0]]\n",
            "[[0, 3], [0, 0]]\n",
            "[[0, 5], [0, 0]]\n",
            "[[0, 5], [0, 0]]\n",
            "episode: 370 rewards: -2.1999999999999984\n",
            "[[0, 5], [0, 0]]\n",
            "[[0, 5], [0, 0]]\n",
            "[[0, 5], [0, 0]]\n",
            "[[0, 5], [0, 0]]\n",
            "[[0, 5], [0, 0]]\n",
            "[[0, 4], [0, 0]]\n",
            "[[0, 5], [0, 0]]\n",
            "[[0, 5], [0, 0]]\n",
            "[[0, 5], [0, 0]]\n",
            "[[0, 5], [0, 0]]\n",
            "episode: 380 rewards: -2.6000000000000005\n",
            "[[0, 5], [0, 0]]\n",
            "[[0, 5], [0, 0]]\n",
            "[[0, 4], [0, 0]]\n",
            "[[0, 5], [2, 0]]\n",
            "[[0, 5], [0, 0]]\n",
            "[[0, 5], [0, 0]]\n",
            "[[0, 5], [0, 0]]\n",
            "[[0, 5], [0, 0]]\n",
            "[[0, 5], [0, 0]]\n",
            "[[0, 5], [0, 0]]\n",
            "episode: 390 rewards: -0.8000000000000003\n",
            "[[0, 5], [0, 0]]\n",
            "[[0, 5], [0, 0]]\n",
            "[[0, 5], [0, 0]]\n",
            "[[0, 5], [0, 0]]\n",
            "[[0, 3], [0, 0]]\n",
            "[[0, 5], [0, 0]]\n",
            "[[0, 5], [0, 0]]\n",
            "[[0, 5], [0, 0]]\n",
            "[[0, 5], [0, 0]]\n",
            "[[0, 4], [0, 0]]\n",
            "episode: 400 rewards: -5.399999999999999\n",
            "[[0, 5], [0, 0]]\n",
            "[[0, 5], [0, 0]]\n",
            "[[0, 5], [0, 0]]\n",
            "[[0, 2], [0, 0]]\n",
            "[[0, 5], [0, 0]]\n",
            "[[0, 5], [1, 0]]\n",
            "[[0, 5], [0, 0]]\n",
            "[[0, 5], [0, 0]]\n",
            "[[0, 5], [0, 0]]\n",
            "[[0, 5], [0, 0]]\n",
            "episode: 410 rewards: -5.999999999999998\n",
            "[[0, 5], [0, 0]]\n",
            "[[0, 5], [0, 0]]\n",
            "[[0, 5], [0, 0]]\n",
            "[[1, 5], [0, 0]]\n",
            "[[1, 4], [1, 0]]\n",
            "[[0, 5], [0, 0]]\n",
            "[[0, 5], [1, 0]]\n",
            "[[0, 5], [0, 0]]\n",
            "[[1, 5], [0, 2]]\n",
            "[[0, 5], [0, 0]]\n",
            "episode: 420 rewards: -4.000000000000001\n",
            "[[0, 5], [0, 0]]\n",
            "[[0, 5], [0, 0]]\n",
            "[[0, 4], [0, 0]]\n",
            "[[0, 5], [0, 0]]\n",
            "[[0, 5], [0, 0]]\n",
            "[[1, 5], [1, 0]]\n",
            "[[0, 5], [0, 0]]\n",
            "[[0, 5], [0, 0]]\n",
            "[[0, 5], [0, 0]]\n",
            "[[0, 5], [0, 0]]\n",
            "episode: 430 rewards: 1.0999999999999996\n",
            "[[0, 5], [0, 0]]\n",
            "[[0, 5], [0, 0]]\n",
            "[[0, 5], [0, 0]]\n",
            "[[0, 5], [1, 0]]\n",
            "[[0, 5], [0, 0]]\n",
            "[[0, 5], [0, 0]]\n",
            "[[0, 3], [0, 0]]\n",
            "[[0, 5], [0, 0]]\n",
            "[[0, 5], [0, 0]]\n",
            "[[0, 5], [0, 0]]\n",
            "episode: 440 rewards: -2.4000000000000004\n",
            "[[0, 5], [0, 0]]\n",
            "[[0, 5], [0, 0]]\n",
            "[[0, 5], [0, 0]]\n",
            "[[0, 5], [0, 0]]\n",
            "[[0, 5], [0, 0]]\n",
            "[[0, 5], [0, 0]]\n",
            "[[0, 5], [0, 1]]\n",
            "[[0, 5], [0, 0]]\n",
            "[[0, 5], [0, 1]]\n",
            "[[0, 5], [0, 0]]\n",
            "episode: 450 rewards: -6.0\n",
            "[[0, 5], [0, 0]]\n",
            "[[0, 5], [0, 0]]\n",
            "[[0, 5], [0, 0]]\n",
            "[[0, 5], [1, 0]]\n",
            "[[0, 5], [0, 0]]\n",
            "[[0, 5], [0, 0]]\n",
            "[[0, 5], [0, 0]]\n",
            "[[0, 5], [0, 0]]\n",
            "[[0, 5], [0, 0]]\n",
            "[[0, 4], [0, 0]]\n",
            "episode: 460 rewards: 0.8999999999999996\n",
            "[[0, 5], [0, 0]]\n",
            "[[0, 5], [0, 0]]\n",
            "[[0, 5], [0, 0]]\n",
            "[[0, 5], [0, 0]]\n",
            "[[0, 5], [0, 0]]\n",
            "[[0, 5], [0, 0]]\n",
            "[[0, 5], [0, 0]]\n",
            "[[0, 3], [0, 1]]\n",
            "[[0, 5], [0, 0]]\n",
            "[[0, 5], [0, 0]]\n",
            "episode: 470 rewards: -0.0999999999999992\n",
            "[[0, 5], [0, 0]]\n",
            "[[0, 5], [0, 0]]\n",
            "[[0, 5], [0, 0]]\n",
            "[[0, 5], [0, 0]]\n",
            "[[0, 5], [0, 0]]\n",
            "[[0, 5], [0, 0]]\n",
            "[[1, 5], [0, 0]]\n",
            "[[0, 5], [0, 0]]\n",
            "[[0, 5], [0, 0]]\n",
            "[[0, 5], [0, 0]]\n",
            "episode: 480 rewards: -1.0\n",
            "[[0, 5], [3, 0]]\n",
            "[[0, 5], [0, 0]]\n",
            "[[0, 5], [2, 0]]\n",
            "[[0, 5], [0, 0]]\n",
            "[[0, 5], [0, 0]]\n",
            "[[0, 5], [0, 0]]\n",
            "[[0, 5], [0, 0]]\n",
            "[[0, 5], [0, 0]]\n",
            "[[0, 5], [0, 0]]\n",
            "[[0, 5], [0, 0]]\n",
            "episode: 490 rewards: -0.6999999999999997\n",
            "[[0, 5], [0, 0]]\n",
            "[[0, 5], [0, 0]]\n",
            "[[2, 5], [0, 0]]\n",
            "[[0, 5], [0, 0]]\n",
            "[[0, 5], [0, 0]]\n",
            "[[0, 5], [0, 0]]\n",
            "[[0, 5], [0, 0]]\n",
            "[[0, 5], [0, 0]]\n",
            "[[0, 5], [0, 0]]\n",
            "[[0, 5], [0, 0]]\n",
            "episode: 500 rewards: -0.5999999999999996\n",
            "[[0, 5], [0, 0]]\n",
            "[[0, 5], [0, 0]]\n",
            "[[0, 5], [1, 0]]\n",
            "[[0, 5], [0, 0]]\n",
            "[[0, 5], [0, 0]]\n",
            "[[0, 5], [0, 0]]\n",
            "[[0, 5], [0, 0]]\n",
            "[[0, 5], [0, 0]]\n",
            "[[0, 5], [0, 0]]\n",
            "[[0, 5], [0, 0]]\n",
            "episode: 510 rewards: -1.8999999999999995\n",
            "[[0, 5], [0, 0]]\n",
            "[[0, 1], [0, 2]]\n",
            "[[0, 5], [0, 0]]\n",
            "[[0, 5], [0, 0]]\n",
            "[[2, 5], [0, 0]]\n",
            "[[0, 5], [0, 0]]\n",
            "[[0, 5], [0, 0]]\n",
            "[[0, 5], [0, 0]]\n",
            "[[0, 5], [0, 0]]\n",
            "[[0, 5], [1, 0]]\n",
            "episode: 520 rewards: -10.3\n",
            "[[0, 5], [0, 0]]\n",
            "[[0, 5], [0, 0]]\n",
            "[[0, 5], [0, 0]]\n",
            "[[0, 4], [0, 0]]\n",
            "[[0, 5], [0, 0]]\n",
            "[[0, 5], [0, 0]]\n",
            "[[0, 5], [0, 0]]\n",
            "[[0, 5], [0, 0]]\n",
            "[[0, 5], [0, 0]]\n",
            "[[0, 5], [0, 0]]\n",
            "episode: 530 rewards: -1.8000000000000003\n",
            "[[2, 5], [0, 0]]\n",
            "[[0, 5], [0, 0]]\n",
            "[[0, 5], [1, 1]]\n",
            "[[0, 5], [0, 0]]\n",
            "[[0, 5], [0, 0]]\n",
            "[[0, 5], [0, 0]]\n",
            "[[0, 5], [0, 0]]\n",
            "[[0, 5], [0, 0]]\n",
            "[[0, 5], [0, 0]]\n",
            "[[0, 5], [0, 0]]\n",
            "episode: 540 rewards: -2.1000000000000005\n",
            "[[0, 5], [0, 0]]\n",
            "[[0, 5], [0, 0]]\n",
            "[[0, 4], [0, 0]]\n",
            "[[0, 5], [0, 0]]\n",
            "[[0, 5], [0, 0]]\n",
            "[[0, 5], [0, 0]]\n",
            "[[0, 5], [0, 0]]\n",
            "[[0, 5], [0, 0]]\n",
            "[[0, 5], [0, 0]]\n",
            "[[0, 5], [0, 0]]\n",
            "episode: 550 rewards: -2.3\n",
            "[[0, 5], [0, 0]]\n",
            "[[0, 2], [0, 3]]\n",
            "[[0, 5], [0, 0]]\n",
            "[[0, 5], [0, 0]]\n",
            "[[0, 5], [0, 0]]\n",
            "[[0, 5], [0, 0]]\n",
            "[[0, 5], [0, 0]]\n",
            "[[0, 5], [0, 0]]\n",
            "[[0, 5], [0, 2]]\n",
            "[[0, 5], [0, 0]]\n",
            "episode: 560 rewards: 2.1999999999999997\n",
            "[[0, 5], [0, 0]]\n",
            "[[0, 5], [0, 0]]\n",
            "[[0, 5], [0, 3]]\n",
            "[[0, 5], [0, 0]]\n",
            "[[0, 5], [0, 0]]\n",
            "[[0, 5], [0, 0]]\n",
            "[[0, 5], [0, 0]]\n",
            "[[0, 5], [0, 0]]\n",
            "[[0, 5], [0, 0]]\n",
            "[[0, 5], [0, 1]]\n",
            "episode: 570 rewards: 5.4\n",
            "[[0, 5], [0, 0]]\n",
            "[[0, 4], [0, 0]]\n",
            "[[0, 5], [0, 0]]\n",
            "[[0, 5], [0, 0]]\n",
            "[[0, 5], [0, 0]]\n",
            "[[0, 5], [0, 0]]\n",
            "[[0, 5], [0, 0]]\n",
            "[[0, 5], [0, 0]]\n",
            "[[0, 5], [0, 0]]\n",
            "[[0, 5], [0, 0]]\n",
            "episode: 580 rewards: 0.5\n",
            "[[0, 5], [0, 0]]\n",
            "[[0, 5], [0, 0]]\n",
            "[[0, 5], [0, 0]]\n",
            "[[2, 5], [0, 0]]\n",
            "[[0, 1], [0, 2]]\n",
            "[[0, 5], [0, 0]]\n",
            "[[0, 5], [0, 0]]\n",
            "[[0, 5], [0, 0]]\n",
            "[[0, 5], [0, 0]]\n",
            "[[0, 5], [0, 0]]\n",
            "episode: 590 rewards: 3.0\n",
            "[[0, 5], [0, 0]]\n",
            "[[0, 1], [0, 2]]\n",
            "[[0, 5], [0, 0]]\n",
            "[[0, 5], [0, 0]]\n",
            "[[0, 5], [0, 0]]\n",
            "[[0, 5], [1, 0]]\n",
            "[[0, 5], [0, 0]]\n",
            "[[0, 5], [0, 0]]\n",
            "[[0, 5], [0, 0]]\n",
            "[[0, 5], [0, 0]]\n",
            "episode: 600 rewards: 1.6999999999999993\n",
            "[[0, 4], [0, 0]]\n",
            "[[0, 5], [1, 0]]\n",
            "[[0, 5], [0, 0]]\n",
            "[[0, 5], [0, 0]]\n",
            "[[0, 5], [0, 0]]\n",
            "[[0, 5], [0, 0]]\n",
            "[[0, 5], [0, 0]]\n",
            "[[0, 5], [0, 0]]\n",
            "[[0, 5], [0, 0]]\n",
            "[[0, 5], [2, 0]]\n",
            "episode: 610 rewards: -5.499999999999998\n",
            "[[0, 5], [0, 0]]\n",
            "[[0, 5], [0, 0]]\n",
            "[[0, 5], [0, 0]]\n",
            "[[0, 5], [0, 0]]\n",
            "[[0, 5], [0, 0]]\n",
            "[[0, 5], [0, 0]]\n",
            "[[0, 5], [0, 0]]\n",
            "[[0, 5], [0, 0]]\n",
            "[[0, 5], [0, 0]]\n",
            "[[0, 5], [0, 0]]\n",
            "episode: 620 rewards: -5.199999999999999\n",
            "[[0, 5], [0, 0]]\n",
            "[[0, 5], [0, 0]]\n",
            "[[0, 5], [0, 0]]\n",
            "[[0, 5], [0, 0]]\n",
            "[[0, 5], [0, 0]]\n",
            "[[0, 5], [0, 0]]\n",
            "[[0, 5], [0, 0]]\n",
            "[[0, 5], [0, 0]]\n",
            "[[0, 5], [0, 0]]\n",
            "[[0, 5], [0, 0]]\n",
            "episode: 630 rewards: -2.8999999999999995\n",
            "[[0, 5], [0, 0]]\n",
            "[[1, 5], [1, 0]]\n",
            "[[0, 5], [0, 0]]\n",
            "[[0, 5], [0, 0]]\n",
            "[[0, 5], [0, 0]]\n",
            "[[0, 5], [0, 0]]\n",
            "[[0, 4], [0, 0]]\n",
            "[[0, 5], [0, 0]]\n",
            "[[0, 3], [0, 4]]\n",
            "[[0, 5], [0, 0]]\n",
            "episode: 640 rewards: 0.7000000000000002\n",
            "[[0, 5], [0, 0]]\n",
            "[[0, 5], [0, 0]]\n",
            "[[0, 5], [0, 0]]\n",
            "[[0, 5], [0, 0]]\n",
            "[[0, 5], [2, 0]]\n",
            "[[0, 5], [0, 0]]\n",
            "[[0, 5], [0, 0]]\n",
            "[[0, 5], [0, 0]]\n",
            "[[0, 5], [0, 0]]\n",
            "[[0, 5], [0, 0]]\n",
            "episode: 650 rewards: 0.6000000000000001\n",
            "[[0, 5], [0, 0]]\n",
            "[[0, 5], [0, 0]]\n",
            "[[0, 5], [0, 0]]\n",
            "[[0, 5], [0, 0]]\n",
            "[[0, 5], [0, 0]]\n",
            "[[0, 5], [0, 0]]\n",
            "[[0, 5], [0, 0]]\n",
            "[[0, 5], [0, 0]]\n",
            "[[0, 5], [0, 0]]\n",
            "[[0, 5], [1, 0]]\n",
            "episode: 660 rewards: -3.5999999999999996\n",
            "[[0, 5], [0, 0]]\n",
            "[[0, 5], [0, 0]]\n",
            "[[0, 5], [0, 0]]\n",
            "[[0, 5], [0, 0]]\n",
            "[[0, 5], [0, 0]]\n",
            "[[0, 5], [0, 0]]\n",
            "[[0, 5], [0, 0]]\n",
            "[[0, 5], [0, 0]]\n",
            "[[0, 5], [0, 0]]\n",
            "[[0, 5], [0, 0]]\n",
            "episode: 670 rewards: -5.700000000000001\n",
            "[[0, 5], [0, 0]]\n",
            "[[0, 5], [0, 0]]\n",
            "[[0, 5], [0, 0]]\n",
            "[[0, 5], [0, 0]]\n",
            "[[0, 5], [0, 1]]\n",
            "[[0, 5], [0, 0]]\n",
            "[[0, 5], [0, 0]]\n",
            "[[0, 5], [0, 0]]\n",
            "[[0, 5], [0, 0]]\n",
            "[[0, 5], [0, 0]]\n",
            "episode: 680 rewards: 2.8999999999999995\n",
            "[[0, 5], [0, 0]]\n",
            "[[0, 5], [0, 0]]\n",
            "[[0, 5], [0, 0]]\n",
            "[[0, 3], [0, 0]]\n",
            "[[0, 5], [0, 0]]\n",
            "[[0, 5], [0, 0]]\n",
            "[[0, 5], [0, 0]]\n",
            "[[0, 5], [5, 0]]\n",
            "[[0, 5], [0, 0]]\n",
            "[[1, 5], [0, 0]]\n",
            "episode: 690 rewards: -4.699999999999999\n",
            "[[0, 5], [0, 0]]\n",
            "[[0, 5], [0, 0]]\n",
            "[[0, 2], [0, 3]]\n",
            "[[0, 5], [0, 0]]\n",
            "[[0, 5], [0, 1]]\n",
            "[[0, 5], [0, 0]]\n",
            "[[0, 5], [0, 1]]\n",
            "[[0, 5], [0, 0]]\n",
            "[[0, 5], [0, 0]]\n",
            "[[0, 5], [0, 0]]\n",
            "episode: 700 rewards: -3.8999999999999995\n",
            "[[0, 5], [0, 0]]\n",
            "[[0, 5], [0, 0]]\n",
            "[[0, 5], [0, 0]]\n",
            "[[0, 5], [0, 0]]\n",
            "[[0, 5], [0, 0]]\n",
            "[[0, 5], [0, 0]]\n",
            "[[0, 5], [0, 0]]\n",
            "[[0, 5], [1, 0]]\n",
            "[[0, 5], [0, 0]]\n",
            "[[0, 5], [0, 0]]\n",
            "episode: 710 rewards: -3.3\n",
            "[[0, 5], [0, 0]]\n",
            "[[0, 5], [0, 0]]\n",
            "[[0, 5], [0, 0]]\n",
            "[[0, 5], [0, 0]]\n",
            "[[0, 5], [0, 0]]\n",
            "[[0, 5], [0, 0]]\n",
            "[[0, 5], [2, 0]]\n",
            "[[0, 5], [0, 0]]\n",
            "[[0, 5], [0, 0]]\n",
            "[[0, 5], [0, 0]]\n",
            "episode: 720 rewards: -2.3\n",
            "[[0, 5], [0, 0]]\n",
            "[[0, 5], [0, 0]]\n",
            "[[0, 2], [0, 3]]\n",
            "[[0, 5], [0, 0]]\n",
            "[[0, 5], [0, 0]]\n",
            "[[0, 5], [0, 0]]\n",
            "[[0, 5], [0, 0]]\n",
            "[[0, 5], [0, 0]]\n",
            "[[0, 5], [0, 0]]\n",
            "[[0, 5], [0, 0]]\n",
            "episode: 730 rewards: 1.6999999999999997\n",
            "[[0, 5], [0, 0]]\n",
            "[[0, 5], [0, 0]]\n",
            "[[0, 5], [0, 0]]\n",
            "[[0, 5], [0, 0]]\n",
            "[[0, 5], [0, 0]]\n",
            "[[0, 5], [0, 0]]\n",
            "[[0, 5], [0, 0]]\n",
            "[[0, 5], [0, 0]]\n",
            "[[0, 5], [0, 0]]\n",
            "[[0, 5], [0, 0]]\n",
            "episode: 740 rewards: -1.4999999999999991\n",
            "[[0, 5], [0, 0]]\n",
            "[[0, 5], [0, 0]]\n",
            "[[0, 5], [0, 0]]\n",
            "[[0, 4], [0, 0]]\n",
            "[[0, 5], [0, 0]]\n",
            "[[0, 5], [1, 0]]\n",
            "[[0, 5], [0, 0]]\n",
            "[[0, 5], [0, 0]]\n",
            "[[0, 5], [0, 0]]\n",
            "[[0, 5], [0, 0]]\n",
            "episode: 750 rewards: -8.199999999999998\n",
            "[[0, 5], [0, 0]]\n",
            "[[0, 5], [0, 0]]\n",
            "[[0, 5], [0, 0]]\n",
            "[[0, 5], [0, 0]]\n",
            "[[0, 5], [0, 0]]\n",
            "[[0, 5], [0, 0]]\n",
            "[[0, 5], [0, 0]]\n",
            "[[0, 5], [0, 0]]\n",
            "[[0, 5], [0, 0]]\n",
            "[[0, 5], [0, 0]]\n",
            "episode: 760 rewards: -1.4999999999999996\n",
            "[[0, 5], [0, 0]]\n",
            "[[0, 5], [0, 0]]\n",
            "[[0, 5], [0, 0]]\n",
            "[[0, 5], [0, 0]]\n",
            "[[0, 5], [0, 0]]\n",
            "[[0, 5], [0, 0]]\n",
            "[[0, 5], [0, 0]]\n",
            "[[0, 5], [0, 0]]\n",
            "[[0, 5], [0, 0]]\n",
            "[[0, 5], [0, 0]]\n",
            "episode: 770 rewards: 1.2999999999999994\n",
            "[[0, 5], [0, 0]]\n",
            "[[0, 5], [0, 0]]\n",
            "[[0, 5], [0, 0]]\n",
            "[[0, 5], [0, 0]]\n",
            "[[0, 5], [0, 2]]\n",
            "[[0, 5], [0, 0]]\n",
            "[[0, 5], [0, 0]]\n",
            "[[0, 5], [0, 0]]\n",
            "[[0, 5], [0, 0]]\n",
            "[[0, 5], [0, 0]]\n",
            "episode: 780 rewards: -0.49999999999999956\n",
            "[[0, 5], [0, 0]]\n",
            "[[0, 5], [0, 0]]\n",
            "[[0, 5], [0, 0]]\n",
            "[[0, 5], [0, 0]]\n",
            "[[0, 5], [0, 0]]\n",
            "[[0, 5], [0, 0]]\n",
            "[[0, 5], [0, 0]]\n",
            "[[0, 5], [0, 0]]\n",
            "[[0, 5], [0, 0]]\n",
            "[[0, 5], [0, 0]]\n",
            "episode: 790 rewards: 1.0999999999999988\n",
            "[[0, 5], [0, 0]]\n",
            "[[0, 5], [0, 0]]\n",
            "[[0, 5], [0, 0]]\n",
            "[[0, 5], [0, 0]]\n",
            "[[0, 5], [0, 0]]\n",
            "[[0, 5], [0, 0]]\n",
            "[[0, 5], [0, 0]]\n",
            "[[0, 5], [0, 0]]\n",
            "[[1, 5], [2, 0]]\n",
            "[[0, 5], [0, 0]]\n",
            "episode: 800 rewards: 4.1\n",
            "[[1, 5], [1, 0]]\n",
            "[[0, 5], [0, 0]]\n",
            "[[0, 5], [0, 0]]\n",
            "[[0, 5], [0, 0]]\n",
            "[[0, 5], [0, 0]]\n",
            "[[0, 5], [0, 0]]\n",
            "[[0, 5], [0, 0]]\n",
            "[[0, 5], [0, 0]]\n",
            "[[0, 5], [0, 0]]\n",
            "[[0, 5], [0, 0]]\n",
            "episode: 810 rewards: 2.5999999999999996\n",
            "[[0, 5], [0, 0]]\n",
            "[[0, 5], [0, 0]]\n",
            "[[0, 5], [0, 0]]\n",
            "[[0, 5], [0, 0]]\n",
            "[[0, 3], [0, 4]]\n",
            "[[0, 5], [1, 0]]\n",
            "[[0, 5], [0, 0]]\n",
            "[[0, 5], [0, 0]]\n",
            "[[0, 5], [0, 0]]\n",
            "[[0, 5], [0, 0]]\n",
            "episode: 820 rewards: -6.5\n",
            "[[0, 5], [0, 0]]\n",
            "[[0, 5], [0, 0]]\n",
            "[[0, 4], [0, 0]]\n",
            "[[0, 5], [0, 0]]\n",
            "[[0, 5], [0, 0]]\n",
            "[[0, 5], [0, 0]]\n",
            "[[0, 5], [0, 0]]\n",
            "[[0, 5], [0, 0]]\n",
            "[[0, 5], [0, 0]]\n",
            "[[0, 5], [0, 0]]\n",
            "episode: 830 rewards: -0.3000000000000007\n",
            "[[0, 5], [0, 0]]\n",
            "[[0, 5], [0, 0]]\n",
            "[[0, 5], [0, 0]]\n",
            "[[0, 5], [0, 0]]\n",
            "[[0, 5], [0, 0]]\n",
            "[[0, 5], [0, 0]]\n",
            "[[0, 5], [0, 0]]\n",
            "[[0, 5], [0, 0]]\n",
            "[[0, 5], [0, 0]]\n",
            "[[0, 5], [0, 0]]\n",
            "episode: 840 rewards: -0.40000000000000036\n",
            "[[0, 5], [0, 0]]\n",
            "[[0, 5], [0, 0]]\n",
            "[[0, 5], [0, 0]]\n",
            "[[0, 5], [0, 0]]\n",
            "[[0, 5], [0, 0]]\n",
            "[[0, 5], [1, 0]]\n",
            "[[0, 5], [0, 0]]\n",
            "[[0, 5], [0, 0]]\n",
            "[[0, 5], [0, 0]]\n",
            "[[0, 5], [0, 0]]\n",
            "episode: 850 rewards: -0.9000000000000008\n",
            "[[0, 5], [0, 0]]\n",
            "[[0, 5], [0, 0]]\n",
            "[[0, 5], [0, 0]]\n",
            "[[0, 5], [0, 0]]\n",
            "[[0, 5], [0, 0]]\n",
            "[[0, 5], [1, 0]]\n",
            "[[0, 5], [0, 0]]\n",
            "[[0, 5], [0, 0]]\n",
            "[[0, 5], [0, 0]]\n",
            "[[0, 5], [0, 0]]\n",
            "episode: 860 rewards: -3.599999999999998\n",
            "[[0, 5], [0, 0]]\n",
            "[[0, 5], [0, 0]]\n",
            "[[0, 5], [0, 0]]\n",
            "[[0, 5], [0, 0]]\n",
            "[[0, 5], [0, 0]]\n",
            "[[0, 5], [0, 0]]\n",
            "[[0, 5], [0, 0]]\n",
            "[[0, 5], [0, 0]]\n",
            "[[0, 5], [0, 0]]\n",
            "[[0, 5], [0, 0]]\n",
            "episode: 870 rewards: -1.2999999999999998\n",
            "[[0, 5], [0, 0]]\n",
            "[[0, 5], [0, 0]]\n",
            "[[0, 5], [0, 0]]\n",
            "[[0, 5], [0, 0]]\n",
            "[[0, 5], [0, 0]]\n",
            "[[0, 5], [0, 0]]\n",
            "[[0, 5], [0, 0]]\n",
            "[[0, 5], [0, 0]]\n",
            "[[0, 5], [0, 0]]\n",
            "[[0, 5], [0, 0]]\n",
            "episode: 880 rewards: 1.1\n",
            "[[0, 5], [0, 0]]\n",
            "[[0, 5], [0, 0]]\n",
            "[[0, 5], [0, 0]]\n",
            "[[0, 5], [1, 0]]\n",
            "[[0, 5], [0, 0]]\n",
            "[[0, 4], [0, 0]]\n",
            "[[0, 5], [0, 0]]\n",
            "[[0, 5], [0, 0]]\n",
            "[[0, 5], [0, 0]]\n",
            "[[0, 5], [0, 0]]\n",
            "episode: 890 rewards: -3.6000000000000005\n",
            "[[0, 5], [0, 0]]\n",
            "[[0, 5], [2, 0]]\n",
            "[[0, 5], [0, 0]]\n",
            "[[0, 5], [0, 0]]\n",
            "[[0, 5], [0, 0]]\n",
            "[[0, 5], [0, 0]]\n",
            "[[0, 5], [0, 0]]\n",
            "[[0, 4], [1, 0]]\n",
            "[[0, 5], [0, 0]]\n",
            "[[0, 5], [0, 0]]\n",
            "episode: 900 rewards: -2.8999999999999995\n",
            "[[0, 5], [1, 0]]\n",
            "[[0, 5], [0, 0]]\n",
            "[[0, 5], [1, 0]]\n",
            "[[0, 5], [0, 0]]\n",
            "[[0, 5], [0, 0]]\n",
            "[[0, 5], [0, 0]]\n",
            "[[0, 5], [0, 0]]\n",
            "[[0, 4], [0, 0]]\n",
            "[[0, 5], [0, 0]]\n",
            "[[0, 5], [0, 0]]\n",
            "episode: 910 rewards: -3.3\n",
            "[[0, 5], [0, 0]]\n",
            "[[0, 5], [0, 0]]\n",
            "[[0, 5], [0, 0]]\n",
            "[[0, 5], [0, 0]]\n",
            "[[0, 5], [0, 0]]\n",
            "[[0, 5], [0, 0]]\n",
            "[[0, 5], [0, 0]]\n",
            "[[0, 5], [0, 0]]\n",
            "[[0, 5], [0, 0]]\n",
            "[[0, 5], [0, 0]]\n",
            "episode: 920 rewards: 2.1999999999999997\n",
            "[[0, 5], [0, 0]]\n",
            "[[0, 5], [0, 0]]\n",
            "[[0, 5], [0, 0]]\n",
            "[[0, 5], [2, 0]]\n",
            "[[0, 5], [2, 0]]\n",
            "[[0, 5], [0, 0]]\n",
            "[[0, 5], [0, 0]]\n",
            "[[0, 5], [0, 0]]\n",
            "[[0, 5], [1, 0]]\n",
            "[[0, 5], [0, 0]]\n",
            "episode: 930 rewards: -0.7999999999999994\n",
            "[[0, 5], [0, 0]]\n",
            "[[0, 5], [0, 0]]\n",
            "[[0, 5], [0, 0]]\n",
            "[[0, 5], [0, 0]]\n",
            "[[0, 5], [0, 0]]\n",
            "[[0, 5], [0, 0]]\n",
            "[[0, 5], [0, 0]]\n",
            "[[0, 5], [0, 0]]\n",
            "[[0, 5], [0, 0]]\n",
            "[[0, 5], [0, 0]]\n",
            "episode: 940 rewards: -0.2999999999999998\n",
            "[[0, 5], [0, 0]]\n",
            "[[0, 5], [0, 0]]\n",
            "[[0, 5], [0, 0]]\n",
            "[[0, 5], [0, 0]]\n",
            "[[0, 5], [0, 0]]\n",
            "[[0, 5], [0, 0]]\n",
            "[[0, 5], [0, 0]]\n",
            "[[0, 5], [0, 0]]\n",
            "[[1, 5], [0, 0]]\n",
            "[[0, 5], [0, 0]]\n",
            "episode: 950 rewards: 2.500000000000001\n",
            "[[0, 5], [0, 0]]\n",
            "[[0, 5], [1, 0]]\n",
            "[[0, 5], [0, 0]]\n",
            "[[0, 5], [0, 0]]\n",
            "[[0, 5], [0, 0]]\n",
            "[[3, 5], [0, 0]]\n",
            "[[0, 5], [0, 0]]\n",
            "[[0, 5], [0, 0]]\n",
            "[[0, 5], [0, 0]]\n",
            "[[0, 5], [0, 0]]\n",
            "episode: 960 rewards: 1.3322676295501878e-15\n",
            "[[0, 5], [0, 0]]\n",
            "[[0, 5], [0, 0]]\n",
            "[[0, 5], [0, 0]]\n",
            "[[0, 5], [0, 0]]\n",
            "[[0, 5], [0, 0]]\n",
            "[[0, 5], [0, 0]]\n",
            "[[0, 5], [0, 0]]\n",
            "[[0, 5], [0, 0]]\n",
            "[[0, 5], [0, 0]]\n",
            "[[0, 5], [0, 0]]\n",
            "episode: 970 rewards: 4.5\n",
            "[[0, 5], [0, 0]]\n",
            "[[1, 5], [0, 0]]\n",
            "[[0, 5], [0, 0]]\n",
            "[[0, 5], [0, 0]]\n",
            "[[0, 5], [0, 0]]\n",
            "[[0, 5], [0, 0]]\n",
            "[[0, 5], [0, 0]]\n",
            "[[0, 5], [0, 0]]\n",
            "[[0, 5], [0, 0]]\n",
            "[[0, 5], [0, 0]]\n",
            "episode: 980 rewards: 0.09999999999999964\n",
            "[[0, 5], [0, 0]]\n",
            "[[0, 5], [0, 0]]\n",
            "[[0, 5], [0, 0]]\n",
            "[[0, 5], [2, 0]]\n",
            "[[0, 5], [0, 0]]\n",
            "[[0, 5], [0, 0]]\n",
            "[[1, 5], [0, 0]]\n",
            "[[0, 5], [0, 0]]\n",
            "[[0, 5], [0, 0]]\n",
            "[[0, 5], [0, 0]]\n",
            "episode: 990 rewards: -1.4999999999999996\n",
            "[[0, 5], [0, 0]]\n",
            "[[0, 5], [0, 0]]\n",
            "[[0, 5], [0, 0]]\n",
            "[[0, 5], [1, 0]]\n",
            "[[0, 5], [0, 0]]\n",
            "[[0, 5], [0, 0]]\n",
            "[[0, 5], [0, 0]]\n",
            "[[0, 5], [0, 0]]\n",
            "[[0, 5], [0, 0]]\n"
          ]
        }
      ]
    },
    {
      "cell_type": "code",
      "source": [
        "#rewards per episode \n",
        "with output_grid.output_to(0, 0):\n",
        "  plt.plot(episode_list,rewards)\n",
        "  plt.xlabel(\"episode\")\n",
        "  plt.ylabel(\"rewards\")"
      ],
      "metadata": {
        "colab": {
          "base_uri": "https://localhost:8080/",
          "height": 279
        },
        "id": "cZIHAYD4Evyg",
        "outputId": "f30b378c-eb1a-44f6-ea0d-1711fb9a44ee"
      },
      "execution_count": null,
      "outputs": [
        {
          "output_type": "display_data",
          "data": {
            "text/plain": [
              "<IPython.core.display.Javascript object>"
            ],
            "application/javascript": [
              "window[\"3c020364-d10e-11ec-be1a-0242ac1c0002\"] = google.colab.output.getActiveOutputArea();\n",
              "//# sourceURL=js_e84f466af8"
            ]
          },
          "metadata": {}
        },
        {
          "output_type": "display_data",
          "data": {
            "text/plain": [
              "<IPython.core.display.Javascript object>"
            ],
            "application/javascript": [
              "window[\"3c029bbc-d10e-11ec-be1a-0242ac1c0002\"] = document.querySelector(\"#id4-0-0\");\n",
              "//# sourceURL=js_37c9a5d1ec"
            ]
          },
          "metadata": {}
        },
        {
          "output_type": "display_data",
          "data": {
            "text/plain": [
              "<IPython.core.display.Javascript object>"
            ],
            "application/javascript": [
              "window[\"3c03328e-d10e-11ec-be1a-0242ac1c0002\"] = google.colab.output.setActiveOutputArea(window[\"3c029bbc-d10e-11ec-be1a-0242ac1c0002\"]);\n",
              "//# sourceURL=js_05ff8591a2"
            ]
          },
          "metadata": {}
        },
        {
          "output_type": "display_data",
          "data": {
            "text/plain": [
              "<Figure size 432x288 with 1 Axes>"
            ],
            "image/png": "[encoded data removed]"
          },
          "metadata": {
            "needs_background": "light"
          }
        },
        {
          "output_type": "display_data",
          "data": {
            "text/plain": [
              "<IPython.core.display.Javascript object>"
            ],
            "application/javascript": [
              "window[\"3c1c715e-d10e-11ec-be1a-0242ac1c0002\"] = google.colab.output.setActiveOutputArea(window[\"3c020364-d10e-11ec-be1a-0242ac1c0002\"]);\n",
              "//# sourceURL=js_43f4902362"
            ]
          },
          "metadata": {}
        }
      ]
    },
    {
      "cell_type": "code",
      "source": [
        "#rewards per episode \n",
        "with output_grid.output_to(0, 0):\n",
        "  plt.plot(episode_list,rewards1,label='rewards 1')\n",
        "  plt.plot(episode_list,rewards2, label='rewards 2')\n",
        "  plt.xlabel(\"episode\")\n",
        "  plt.ylabel(\"rewards\")\n",
        "  plt.legend()"
      ],
      "metadata": {
        "colab": {
          "base_uri": "https://localhost:8080/",
          "height": 281
        },
        "id": "qcuDfaUDz4jt",
        "outputId": "8b45b566-48e1-4bf5-9af8-752af205dd7b"
      },
      "execution_count": null,
      "outputs": [
        {
          "output_type": "display_data",
          "data": {
            "text/plain": [
              "<IPython.core.display.Javascript object>"
            ],
            "application/javascript": [
              "window[\"3c2051ca-d10e-11ec-be1a-0242ac1c0002\"] = google.colab.output.getActiveOutputArea();\n",
              "//# sourceURL=js_e47cb73d1c"
            ]
          },
          "metadata": {}
        },
        {
          "output_type": "display_data",
          "data": {
            "text/plain": [
              "<IPython.core.display.Javascript object>"
            ],
            "application/javascript": [
              "window[\"3c20cc0e-d10e-11ec-be1a-0242ac1c0002\"] = document.querySelector(\"#id4-0-0\");\n",
              "//# sourceURL=js_3d21a0a414"
            ]
          },
          "metadata": {}
        },
        {
          "output_type": "display_data",
          "data": {
            "text/plain": [
              "<IPython.core.display.Javascript object>"
            ],
            "application/javascript": [
              "window[\"3c211808-d10e-11ec-be1a-0242ac1c0002\"] = google.colab.output.setActiveOutputArea(window[\"3c20cc0e-d10e-11ec-be1a-0242ac1c0002\"]);\n",
              "//# sourceURL=js_f79e079f5e"
            ]
          },
          "metadata": {}
        },
        {
          "output_type": "display_data",
          "data": {
            "text/plain": [
              "<Figure size 432x288 with 1 Axes>"
            ],
            "image/png": "[encoded data removed]"
          },
          "metadata": {
            "needs_background": "light"
          }
        },
        {
          "output_type": "display_data",
          "data": {
            "text/plain": [
              "<IPython.core.display.Javascript object>"
            ],
            "application/javascript": [
              "window[\"3c41a8ac-d10e-11ec-be1a-0242ac1c0002\"] = google.colab.output.setActiveOutputArea(window[\"3c2051ca-d10e-11ec-be1a-0242ac1c0002\"]);\n",
              "//# sourceURL=js_9e44e703d1"
            ]
          },
          "metadata": {}
        }
      ]
    },
    {
      "cell_type": "code",
      "source": [
        "ev_result = []\n",
        "ev_ep = []\n",
        "episode = 10\n",
        "\n",
        "for ep in range (1,episode+1):\n",
        "  state= env.reset()\n",
        "  done = False\n",
        "  cumulative_rewards = 0 \n",
        "  rewards1=0\n",
        "  rewards2=0\n",
        "  for t in range(200):\n",
        "\n",
        "    integer_1 = 6*state[0][0] + state[0][1]\n",
        "    state1 = torch.zeros([1,36])\n",
        "    state1[0,integer_1] = 1\n",
        "\n",
        "    integer_2 = 6*state[1][0] + state[1][1]\n",
        "    state2 = torch.zeros([1,36])\n",
        "    state2[0,integer_2] = 1\n",
        "    \n",
        "    probs1 = ac1.Actor(state1)\n",
        "    prob1 = []\n",
        "    probs2 = ac2.Actor(state2)\n",
        "    prob2 = []\n",
        "    \n",
        "    prob1.append(np.argmax(probs1.detach()))\n",
        "    prob2.append(np.argmax(probs2.detach()))\n",
        "    \n",
        "    action1 = torch.tensor(prob1)\n",
        "    action2 = torch.tensor(prob2)\n",
        "\n",
        "    next_state, reward, done, _ = env.step([action1,action2])\n",
        "\n",
        "    sum_reward_agent = 0\n",
        "    for i in reward:\n",
        "      sum_reward_agent+=i\n",
        "    cumulative_rewards += sum_reward_agent\n",
        "    rewards1+=reward[0]\n",
        "    rewards2+=reward[1]\n",
        "    \n",
        "    state = next_state\n",
        "\n",
        "    if done[0] == True and done[1]==True:\n",
        "      break \n",
        "  \n",
        "  print(\"--------------------------------\")  \n",
        "  print('episode:',ep)\n",
        "  print('rewards:',cumulative_rewards)\n",
        "\n",
        "      \n",
        "  ev_ep.append(ep)\n",
        "  ev_result.append(cumulative_rewards)"
      ],
      "metadata": {
        "colab": {
          "base_uri": "https://localhost:8080/"
        },
        "id": "w3Z42BT7hI5h",
        "outputId": "89eeec9c-41ec-41b7-aa88-4e0770e15252"
      },
      "execution_count": null,
      "outputs": [
        {
          "output_type": "stream",
          "name": "stdout",
          "text": [
            "--------------------------------\n",
            "episode: 1\n",
            "rewards: -22.4\n",
            "--------------------------------\n",
            "episode: 2\n",
            "rewards: -22.4\n",
            "--------------------------------\n",
            "episode: 3\n",
            "rewards: -22.4\n",
            "--------------------------------\n",
            "episode: 4\n",
            "rewards: -22.4\n",
            "--------------------------------\n",
            "episode: 5\n",
            "rewards: -22.4\n",
            "--------------------------------\n",
            "episode: 6\n",
            "rewards: -22.4\n",
            "--------------------------------\n",
            "episode: 7\n",
            "rewards: -22.4\n",
            "--------------------------------\n",
            "episode: 8\n",
            "rewards: -22.4\n",
            "--------------------------------\n",
            "episode: 9\n",
            "rewards: -22.4\n",
            "--------------------------------\n",
            "episode: 10\n",
            "rewards: -22.4\n"
          ]
        },
        {
          "output_type": "stream",
          "name": "stderr",
          "text": [
            "/usr/local/lib/python3.7/dist-packages/ipykernel_launcher.py:13: UserWarning: Implicit dimension choice for softmax has been deprecated. Change the call to include dim=X as an argument.\n",
            "  del sys.path[0]\n"
          ]
        }
      ]
    },
    {
      "cell_type": "markdown",
      "source": [
        "##Multi Agent Environment - Pressure Plate"
      ],
      "metadata": {
        "id": "FYTRa_jY3pWZ"
      }
    },
    {
      "cell_type": "markdown",
      "source": [
        "### Install "
      ],
      "metadata": {
        "id": "xp0coeX6jdQp"
      }
    },
    {
      "cell_type": "code",
      "source": [
        "!git clone https://github.com/uoe-agents/pressureplate.git\n",
        "%cd /content/pressureplate/\n",
        "!pip install -e ."
      ],
      "metadata": {
        "colab": {
          "base_uri": "https://localhost:8080/"
        },
        "id": "VdWGSgwz9MCr",
        "outputId": "6bbc792c-28bb-430a-fc4d-ed0f6b7a4b03"
      },
      "execution_count": 1,
      "outputs": [
        {
          "output_type": "stream",
          "name": "stdout",
          "text": [
            "fatal: destination path 'pressureplate' already exists and is not an empty directory.\n",
            "/content/pressureplate\n",
            "Obtaining file:///content/pressureplate\n",
            "Requirement already satisfied: numpy in /usr/local/lib/python3.7/dist-packages (from pressureplate==0.0.1) (1.21.6)\n",
            "Requirement already satisfied: gym>=0.15 in /usr/local/lib/python3.7/dist-packages (from pressureplate==0.0.1) (0.17.3)\n",
            "Requirement already satisfied: pyglet in /usr/local/lib/python3.7/dist-packages (from pressureplate==0.0.1) (1.5.11)\n",
            "Collecting pyglet\n",
            "  Using cached pyglet-1.5.0-py2.py3-none-any.whl (1.0 MB)\n",
            "Requirement already satisfied: cloudpickle<1.7.0,>=1.2.0 in /usr/local/lib/python3.7/dist-packages (from gym>=0.15->pressureplate==0.0.1) (1.3.0)\n",
            "Requirement already satisfied: scipy in /usr/local/lib/python3.7/dist-packages (from gym>=0.15->pressureplate==0.0.1) (1.4.1)\n",
            "Requirement already satisfied: future in /usr/local/lib/python3.7/dist-packages (from pyglet->pressureplate==0.0.1) (0.16.0)\n",
            "Installing collected packages: pyglet, pressureplate\n",
            "  Attempting uninstall: pyglet\n",
            "    Found existing installation: pyglet 1.5.11\n",
            "    Uninstalling pyglet-1.5.11:\n",
            "      Successfully uninstalled pyglet-1.5.11\n",
            "  Attempting uninstall: pressureplate\n",
            "    Found existing installation: pressureplate 0.0.1\n",
            "    Can't uninstall 'pressureplate'. No files were found to uninstall.\n",
            "  Running setup.py develop for pressureplate\n",
            "Successfully installed pressureplate-0.0.1 pyglet-1.5.0\n"
          ]
        }
      ]
    },
    {
      "cell_type": "markdown",
      "source": [
        "video"
      ],
      "metadata": {
        "id": "Pr2ut-jWfzfd"
      }
    },
    {
      "cell_type": "code",
      "source": [
        "!apt-get install python-opengl -y\n",
        "!apt install xvfb -y\n",
        "!pip install pyvirtualdisplay\n",
        "!pip install piglet"
      ],
      "metadata": {
        "colab": {
          "base_uri": "https://localhost:8080/"
        },
        "id": "dTms7GgRgvoK",
        "outputId": "d70e5631-bac3-45ff-b7f9-7a68b6708b4e"
      },
      "execution_count": 2,
      "outputs": [
        {
          "output_type": "stream",
          "name": "stdout",
          "text": [
            "Reading package lists... Done\n",
            "Building dependency tree       \n",
            "Reading state information... Done\n",
            "python-opengl is already the newest version (3.1.0+dfsg-1).\n",
            "The following packages were automatically installed and are no longer required:\n",
            "  libnvidia-common-460 nsight-compute-2020.2.0\n",
            "Use 'apt autoremove' to remove them.\n",
            "0 upgraded, 0 newly installed, 0 to remove and 42 not upgraded.\n",
            "Reading package lists... Done\n",
            "Building dependency tree       \n",
            "Reading state information... Done\n",
            "xvfb is already the newest version (2:1.19.6-1ubuntu4.10).\n",
            "The following packages were automatically installed and are no longer required:\n",
            "  libnvidia-common-460 nsight-compute-2020.2.0\n",
            "Use 'apt autoremove' to remove them.\n",
            "0 upgraded, 0 newly installed, 0 to remove and 42 not upgraded.\n",
            "Requirement already satisfied: pyvirtualdisplay in /usr/local/lib/python3.7/dist-packages (3.0)\n",
            "Requirement already satisfied: piglet in /usr/local/lib/python3.7/dist-packages (1.0.0)\n",
            "Requirement already satisfied: piglet-templates in /usr/local/lib/python3.7/dist-packages (from piglet) (1.2.0)\n",
            "Requirement already satisfied: attrs in /usr/local/lib/python3.7/dist-packages (from piglet-templates->piglet) (21.4.0)\n",
            "Requirement already satisfied: markupsafe in /usr/local/lib/python3.7/dist-packages (from piglet-templates->piglet) (2.0.1)\n",
            "Requirement already satisfied: pyparsing in /usr/local/lib/python3.7/dist-packages (from piglet-templates->piglet) (3.0.8)\n",
            "Requirement already satisfied: astunparse in /usr/local/lib/python3.7/dist-packages (from piglet-templates->piglet) (1.6.3)\n",
            "Requirement already satisfied: wheel<1.0,>=0.23.0 in /usr/local/lib/python3.7/dist-packages (from astunparse->piglet-templates->piglet) (0.37.1)\n",
            "Requirement already satisfied: six<2.0,>=1.6.1 in /usr/local/lib/python3.7/dist-packages (from astunparse->piglet-templates->piglet) (1.15.0)\n"
          ]
        }
      ]
    },
    {
      "cell_type": "code",
      "source": [
        "import gym\n",
        "import matplotlib.pyplot as plt\n",
        "from gym import wrappers\n",
        "%matplotlib inline"
      ],
      "metadata": {
        "id": "T4ypbGowg2Qy"
      },
      "execution_count": 3,
      "outputs": []
    },
    {
      "cell_type": "code",
      "source": [
        "from pyvirtualdisplay import Display\n",
        "display = Display(visible=0, size=(1400, 900))\n",
        "display.start()"
      ],
      "metadata": {
        "colab": {
          "base_uri": "https://localhost:8080/"
        },
        "id": "kwYWTNZVg5Df",
        "outputId": "624c0282-8a9e-4aa4-bcf5-3d93752150ff"
      },
      "execution_count": 4,
      "outputs": [
        {
          "output_type": "execute_result",
          "data": {
            "text/plain": [
              "<pyvirtualdisplay.display.Display at 0x7f551160a190>"
            ]
          },
          "metadata": {},
          "execution_count": 4
        }
      ]
    },
    {
      "cell_type": "code",
      "source": [
        "!pip install bash"
      ],
      "metadata": {
        "colab": {
          "base_uri": "https://localhost:8080/"
        },
        "id": "FCXMu0rshZtY",
        "outputId": "0f7758ab-c60b-42b5-8522-604abd74628a"
      },
      "execution_count": 5,
      "outputs": [
        {
          "output_type": "stream",
          "name": "stdout",
          "text": [
            "Requirement already satisfied: bash in /usr/local/lib/python3.7/dist-packages (0.6)\n"
          ]
        }
      ]
    },
    {
      "cell_type": "code",
      "source": [
        "# This code creates a virtual display to draw game images on. \n",
        "# If you are running locally, just ignore it\n",
        "import os\n",
        "if type(os.environ.get(\"DISPLAY\")) is not str or len(os.environ.get(\"DISPLAY\"))==0:\n",
        "    !bash ../xvfb start\n",
        "    %env DISPLAY=:1"
      ],
      "metadata": {
        "id": "uzrY7HLTg69W"
      },
      "execution_count": 6,
      "outputs": []
    },
    {
      "cell_type": "code",
      "source": [
        "import gym\n",
        "from gym import logger as gymlogger\n",
        "from gym.wrappers import Monitor\n",
        "gymlogger.set_level(40) # error only\n",
        "\n",
        "\n",
        "import numpy as np\n",
        "import random\n",
        "import matplotlib\n",
        "import matplotlib.pyplot as plt\n",
        "%matplotlib inline\n",
        "import math\n",
        "import glob\n",
        "import io\n",
        "import base64\n",
        "from IPython.display import HTML\n",
        "\n",
        "from IPython import display as ipythondisplay"
      ],
      "metadata": {
        "id": "o8xGrI5yg9I7"
      },
      "execution_count": 7,
      "outputs": []
    },
    {
      "cell_type": "code",
      "source": [
        "!pip install pyglet==1.5.11"
      ],
      "metadata": {
        "colab": {
          "base_uri": "https://localhost:8080/"
        },
        "id": "8J4FY8CyhAR1",
        "outputId": "bc753965-74c0-4ff2-ffc8-b13ca4af57ee"
      },
      "execution_count": 8,
      "outputs": [
        {
          "output_type": "stream",
          "name": "stdout",
          "text": [
            "Collecting pyglet==1.5.11\n",
            "  Using cached pyglet-1.5.11-py3-none-any.whl (1.1 MB)\n",
            "Installing collected packages: pyglet\n",
            "  Attempting uninstall: pyglet\n",
            "    Found existing installation: pyglet 1.5.0\n",
            "    Uninstalling pyglet-1.5.0:\n",
            "      Successfully uninstalled pyglet-1.5.0\n",
            "\u001b[31mERROR: pip's dependency resolver does not currently take into account all the packages that are installed. This behaviour is the source of the following dependency conflicts.\n",
            "gym 0.17.3 requires pyglet<=1.5.0,>=1.4.0, but you have pyglet 1.5.11 which is incompatible.\u001b[0m\n",
            "Successfully installed pyglet-1.5.11\n"
          ]
        }
      ]
    },
    {
      "cell_type": "code",
      "source": [
        "import pressureplate\n",
        "import numpy as np\n",
        "import pandas as pd\n",
        "from IPython import display as ipythondisplay\n",
        "from PIL import Image\n",
        "from pyvirtualdisplay import Display"
      ],
      "metadata": {
        "id": "wO7bPuoaqWOx"
      },
      "execution_count": 9,
      "outputs": []
    },
    {
      "cell_type": "markdown",
      "source": [
        "### Q-learning"
      ],
      "metadata": {
        "id": "OqBSX9LAPAY1"
      }
    },
    {
      "cell_type": "code",
      "source": [
        "# Render an episode and save as a GIF file\n",
        "display = Display(visible=0, size=(400, 300))\n",
        "display.start()\n",
        "\n",
        "env = gym.make('pressureplate-linear-4p-v0')\n",
        "\n",
        "rewards = []\n",
        "epsilon_decay = []\n",
        "episode_list = []\n",
        "\n",
        "rewards1 = []\n",
        "rewards2 = []\n",
        "rewards3 = []\n",
        "rewards4 = []\n",
        "\n",
        "Q1 = np.zeros([15*9,5]) #obs, action \n",
        "Q2 = np.zeros([15*9,5]) \n",
        "Q3 = np.zeros([15*9,5])\n",
        "Q4 = np.zeros([15*9,5])\n",
        "\n",
        "\n",
        "epsilon=1\n",
        "\n",
        "env.reset()\n",
        "screen = env.render(mode='rgb_array')\n",
        "im = Image.fromarray(screen)\n",
        "images = [im]\n",
        "\n",
        "\n",
        "#repeat for each episode \n",
        "for ep in range(1000):\n",
        "  \n",
        "  #observe the initial state s \n",
        "  obs = env.reset()\n",
        "  epsilon = epsilon * 0.99\n",
        "  \n",
        "  cumulative_rewards = 0\n",
        "  reward1 = 0\n",
        "  reward2 = 0 \n",
        "  reward3 = 0\n",
        "  reward4 = 0 \n",
        "\n",
        "  #repeat for each step of episode\n",
        "  for t in range(200):\n",
        "    state = obs\n",
        "    state1 = int(9*obs[0][-1] + obs[0][-2])\n",
        "    state2 = int(9*obs[1][-1] + obs[1][-2]) \n",
        "    state3 = int(9*obs[2][-1] + obs[2][-2])\n",
        "    state4 = int(9*obs[3][-1] + obs[3][-2])\n",
        "    #select an action a from state s(e.g. epsilon-greedy) and execute it\n",
        "    if np.random.random() < epsilon: \n",
        "      action = [np.random.choice(5) for _ in range(4)] #exploration \n",
        "    else:\n",
        "      action1 = np.argmax(Q1[state1,:])\n",
        "      action2 = np.argmax(Q2[state2,:])\n",
        "      action3 = np.argmax(Q3[state3,:])\n",
        "      action4 = np.argmax(Q4[state4,:])\n",
        "      action = [action1, action2, action3, action4] #exploit\n",
        "\n",
        "    #Receive immediate reward r, Observe the new state s'\n",
        "    next_obs, reward, done, _ = env.step(action)\n",
        "        \n",
        "    #Update the table entry for Q(s,a) as follows:\n",
        "    next_state1 = int(9*next_obs[0][-1] + next_obs[0][-2])\n",
        "    next_state2 = int(9*next_obs[1][-1] + next_obs[1][-2])\n",
        "    next_state3 = int(9*next_obs[2][-1] + next_obs[2][-2])\n",
        "    next_state4 = int(9*next_obs[3][-1] + next_obs[3][-2])\n",
        "\n",
        "    if done[0] == False:\n",
        "      Q1[state1,action[0]] = Q1[state1,action[0]] + (reward[0]+0.9*np.max(Q1[next_state1,:])-Q1[state1,action[0]])\n",
        "    if done[1] == False:\n",
        "      Q2[state2,action[1]] = Q2[state2,action[1]] + (reward[1]+0.9*np.max(Q2[next_state2,:])-Q2[state2,action[1]])\n",
        "    if done[2] == False:\n",
        "      Q3[state3,action[2]] = Q3[state3,action[2]] + (reward[2]+0.9*np.max(Q3[next_state3,:])-Q3[state3,action[2]])\n",
        "    if done[3] == False:\n",
        "      Q4[state4,action[3]] = Q4[state4,action[3]] + (reward[3]+0.9*np.max(Q4[next_state4,:])-Q4[state4,action[3]])\n",
        "    #Q[state,action] = Q[state,action] + alpha*(reward + gamma*np.max(Q[next_state,:]) - Q[state,action])\n",
        "    \n",
        "    obs = next_obs\n",
        "\n",
        "    sum_reward_agent = 0\n",
        "    for i in reward:\n",
        "      sum_reward_agent+=i\n",
        "    cumulative_rewards += sum_reward_agent\n",
        "    \n",
        "    reward1 += reward[0]\n",
        "    reward2 += reward[1]\n",
        "    reward3 += reward[2]\n",
        "    reward4 += reward[3]\n",
        "\n",
        "    if ep == 999:\n",
        "      if t % 1 == 0:\n",
        "        screen = env.render(mode='rgb_array')\n",
        "        images.append(Image.fromarray(screen))\n",
        "\n",
        "    if done[0]==True and done[1]==True and done[2]==True and done[3]==True:\n",
        "      break \n",
        "\n",
        "  \n",
        "  if (ep-1)%20 == 0:\n",
        "    print(\"--------------------------------\")  \n",
        "    print('episode:',ep)  \n",
        "    print('epsilon:',epsilon)\n",
        "    print('rewards:',cumulative_rewards)\n",
        "    \n",
        "  episode_list.append(ep)\n",
        "  epsilon_decay.append(epsilon)\n",
        "  rewards.append(cumulative_rewards)\n",
        "  rewards1.append(reward1)\n",
        "  rewards2.append(reward2)\n",
        "  rewards3.append(reward3)\n",
        "  rewards4.append(reward4)\n",
        "    \n",
        "\n",
        "env.close()\n",
        "\n",
        "\n",
        "\n",
        "# Save GIF image\n",
        "image_file = 'q-learning-pressureplate-linear-4p-v0.gif'\n",
        "# loop=0: loop forever, duration=1: play each frame for 1ms\n",
        "images[0].save(\n",
        "    image_file, save_all=True, append_images=images[1:], loop=0, duration=1)\n"
      ],
      "metadata": {
        "colab": {
          "base_uri": "https://localhost:8080/"
        },
        "id": "dQ6ua68T3w8I",
        "outputId": "a10d01b3-25e9-42d0-b319-3b328d015b33"
      },
      "execution_count": null,
      "outputs": [
        {
          "output_type": "stream",
          "name": "stdout",
          "text": [
            "--------------------------------\n",
            "episode: 1\n",
            "epsilon: 0.9801\n",
            "rewards: -1841.9\n",
            "--------------------------------\n",
            "episode: 21\n",
            "epsilon: 0.8016305895390458\n",
            "rewards: -1327.8000000000006\n",
            "--------------------------------\n",
            "episode: 41\n",
            "epsilon: 0.6556592205741436\n",
            "rewards: -1095.6000000000004\n",
            "--------------------------------\n",
            "episode: 61\n",
            "epsilon: 0.536268225207185\n",
            "rewards: -550.3000000000001\n",
            "--------------------------------\n",
            "episode: 81\n",
            "epsilon: 0.4386175018099108\n",
            "rewards: -587.9000000000002\n",
            "--------------------------------\n",
            "episode: 101\n",
            "epsilon: 0.358748297681892\n",
            "rewards: -318.9000000000001\n",
            "--------------------------------\n",
            "episode: 121\n",
            "epsilon: 0.29342272152521587\n",
            "rewards: -208.29999999999998\n",
            "--------------------------------\n",
            "episode: 141\n",
            "epsilon: 0.23999247958413436\n",
            "rewards: -201.69999999999996\n",
            "--------------------------------\n",
            "episode: 161\n",
            "epsilon: 0.1962915140230253\n",
            "rewards: -265.0\n",
            "--------------------------------\n",
            "episode: 181\n",
            "epsilon: 0.1605481911108965\n",
            "rewards: -184.59999999999997\n",
            "--------------------------------\n",
            "episode: 201\n",
            "epsilon: 0.1313134793282883\n",
            "rewards: -225.5999999999999\n",
            "--------------------------------\n",
            "episode: 221\n",
            "epsilon: 0.1074022057426376\n",
            "rewards: -214.89999999999995\n",
            "--------------------------------\n",
            "episode: 241\n",
            "epsilon: 0.08784500919014843\n",
            "rewards: -970.9000000000005\n",
            "--------------------------------\n",
            "episode: 261\n",
            "epsilon: 0.07184904244991488\n",
            "rewards: -164.8\n",
            "--------------------------------\n",
            "episode: 281\n",
            "epsilon: 0.058765830279503314\n",
            "rewards: -170.79999999999998\n",
            "--------------------------------\n",
            "episode: 301\n",
            "epsilon: 0.048064980279267165\n",
            "rewards: -191.09999999999997\n",
            "--------------------------------\n",
            "episode: 321\n",
            "epsilon: 0.03931268082588668\n",
            "rewards: -114.89999999999999\n",
            "--------------------------------\n",
            "episode: 341\n",
            "epsilon: 0.032154114383038335\n",
            "rewards: -102.39999999999999\n",
            "--------------------------------\n",
            "episode: 361\n",
            "epsilon: 0.02629907322618195\n",
            "rewards: -124.19999999999999\n",
            "--------------------------------\n",
            "episode: 381\n",
            "epsilon: 0.021510194444071803\n",
            "rewards: -99.19999999999997\n",
            "--------------------------------\n",
            "episode: 401\n",
            "epsilon: 0.017593337264871736\n",
            "rewards: -223.1\n",
            "--------------------------------\n",
            "episode: 421\n",
            "epsilon: 0.014389712604426485\n",
            "rewards: -104.0\n",
            "--------------------------------\n",
            "episode: 441\n",
            "epsilon: 0.011769445769190737\n",
            "rewards: -130.1\n",
            "--------------------------------\n",
            "episode: 461\n",
            "epsilon: 0.00962631134629548\n",
            "rewards: -132.49999999999997\n",
            "--------------------------------\n",
            "episode: 481\n",
            "epsilon: 0.00787342683360601\n",
            "rewards: -133.1\n",
            "--------------------------------\n",
            "episode: 501\n",
            "epsilon: 0.006439730429870554\n",
            "rewards: -104.29999999999998\n",
            "--------------------------------\n",
            "episode: 521\n",
            "epsilon: 0.005267100194847124\n",
            "rewards: -130.79999999999998\n",
            "--------------------------------\n",
            "episode: 541\n",
            "epsilon: 0.004307997790385188\n",
            "rewards: -245.1\n",
            "--------------------------------\n",
            "episode: 561\n",
            "epsilon: 0.003523541279909585\n",
            "rewards: -182.19999999999996\n",
            "--------------------------------\n",
            "episode: 581\n",
            "epsilon: 0.0028819288577482754\n",
            "rewards: -124.3\n",
            "--------------------------------\n",
            "episode: 601\n",
            "epsilon: 0.0023571496064139765\n",
            "rewards: -116.6\n",
            "--------------------------------\n",
            "episode: 621\n",
            "epsilon: 0.0019279290160405735\n",
            "rewards: -118.9\n",
            "--------------------------------\n",
            "episode: 641\n",
            "epsilon: 0.0015768665174145879\n",
            "rewards: -132.79999999999998\n",
            "--------------------------------\n",
            "episode: 661\n",
            "epsilon: 0.0012897300642581763\n",
            "rewards: -96.3\n",
            "--------------------------------\n",
            "episode: 681\n",
            "epsilon: 0.0010548791671844847\n",
            "rewards: -108.99999999999999\n",
            "--------------------------------\n",
            "episode: 701\n",
            "epsilon: 0.0008627929891669789\n",
            "rewards: -102.99999999999999\n",
            "--------------------------------\n",
            "episode: 721\n",
            "epsilon: 0.0007056843715499244\n",
            "rewards: -100.6\n",
            "--------------------------------\n",
            "episode: 741\n",
            "epsilon: 0.0005771841432446249\n",
            "rewards: -111.59999999999998\n",
            "--------------------------------\n",
            "episode: 761\n",
            "epsilon: 0.00047208291503089234\n",
            "rewards: -149.2\n",
            "--------------------------------\n",
            "episode: 781\n",
            "epsilon: 0.0003861198913248908\n",
            "rewards: -91.19999999999999\n",
            "--------------------------------\n",
            "episode: 801\n",
            "epsilon: 0.000315810137858917\n",
            "rewards: -95.3\n",
            "--------------------------------\n",
            "episode: 821\n",
            "epsilon: 0.0002583033027183462\n",
            "rewards: -102.99999999999999\n",
            "--------------------------------\n",
            "episode: 841\n",
            "epsilon: 0.00021126806329761292\n",
            "rewards: -98.29999999999998\n",
            "--------------------------------\n",
            "episode: 861\n",
            "epsilon: 0.0001727976146638485\n",
            "rewards: -108.99999999999999\n",
            "--------------------------------\n",
            "episode: 881\n",
            "epsilon: 0.00014133236783381463\n",
            "rewards: -107.59999999999998\n",
            "--------------------------------\n",
            "episode: 901\n",
            "epsilon: 0.0001155967241583207\n",
            "rewards: -98.29999999999998\n",
            "--------------------------------\n",
            "episode: 921\n",
            "epsilon: 9.454736265260388e-05\n",
            "rewards: -111.89999999999999\n",
            "--------------------------------\n",
            "episode: 941\n",
            "epsilon: 7.733094384508598e-05\n",
            "rewards: -115.99999999999999\n",
            "--------------------------------\n",
            "episode: 961\n",
            "epsilon: 6.324951546183769e-05\n",
            "rewards: -102.99999999999999\n",
            "--------------------------------\n",
            "episode: 981\n",
            "epsilon: 5.173221749590036e-05\n",
            "rewards: -98.29999999999998\n"
          ]
        }
      ]
    },
    {
      "cell_type": "code",
      "source": [
        "#rewards per episode \n",
        "output_grid = widgets.Grid(1, 1)\n",
        "with output_grid.output_to(0, 0):\n",
        "  plt.plot(episode_list,rewards,label='rewards sum')\n",
        "  plt.xlabel(\"episode\")\n",
        "  plt.ylabel(\"rewards\")\n",
        "  plt.legend()"
      ],
      "metadata": {
        "colab": {
          "base_uri": "https://localhost:8080/",
          "height": 286
        },
        "id": "E8LktD8XIaV4",
        "outputId": "84cc44b6-5d9a-4542-8b55-6fcfb8306f15"
      },
      "execution_count": null,
      "outputs": [
        {
          "output_type": "display_data",
          "data": {
            "text/plain": [
              "<IPython.core.display.HTML object>"
            ],
            "text/html": [
              "<style>\n",
              "       table#id24, #id24 > tbody > tr > th, #id24 > tbody > tr > td {\n",
              "         border: 1px solid lightgray;\n",
              "         border-collapse:collapse;\n",
              "         \n",
              "        }</style>"
            ]
          },
          "metadata": {}
        },
        {
          "output_type": "display_data",
          "data": {
            "text/plain": [
              "<IPython.core.display.HTML object>"
            ],
            "text/html": [
              "<table id=id24><tr><td id=id24-0-0></td></tr></table>"
            ]
          },
          "metadata": {}
        },
        {
          "output_type": "display_data",
          "data": {
            "text/plain": [
              "<IPython.core.display.Javascript object>"
            ],
            "application/javascript": [
              "window[\"df69ade0-d177-11ec-8b78-0242ac1c0002\"] = google.colab.output.getActiveOutputArea();\n",
              "//# sourceURL=js_964de18dc6"
            ]
          },
          "metadata": {}
        },
        {
          "output_type": "display_data",
          "data": {
            "text/plain": [
              "<IPython.core.display.Javascript object>"
            ],
            "application/javascript": [
              "window[\"df6a2450-d177-11ec-8b78-0242ac1c0002\"] = document.querySelector(\"#id24-0-0\");\n",
              "//# sourceURL=js_58765167ff"
            ]
          },
          "metadata": {}
        },
        {
          "output_type": "display_data",
          "data": {
            "text/plain": [
              "<IPython.core.display.Javascript object>"
            ],
            "application/javascript": [
              "window[\"df6a8288-d177-11ec-8b78-0242ac1c0002\"] = google.colab.output.setActiveOutputArea(window[\"df6a2450-d177-11ec-8b78-0242ac1c0002\"]);\n",
              "//# sourceURL=js_b9a364c868"
            ]
          },
          "metadata": {}
        },
        {
          "output_type": "display_data",
          "data": {
            "text/plain": [
              "<Figure size 432x288 with 1 Axes>"
            ],
            "image/png": "[encoded data removed]"
          },
          "metadata": {
            "needs_background": "light"
          }
        },
        {
          "output_type": "display_data",
          "data": {
            "text/plain": [
              "<IPython.core.display.Javascript object>"
            ],
            "application/javascript": [
              "window[\"df88b00a-d177-11ec-8b78-0242ac1c0002\"] = google.colab.output.setActiveOutputArea(window[\"df69ade0-d177-11ec-8b78-0242ac1c0002\"]);\n",
              "//# sourceURL=js_6116f0c9ab"
            ]
          },
          "metadata": {}
        }
      ]
    },
    {
      "cell_type": "code",
      "source": [
        "#rewards per episode \n",
        "with output_grid.output_to(0, 0):\n",
        "  plt.plot(episode_list,rewards,label='rewards sum')\n",
        "  plt.plot(episode_list,rewards1,label='rewards 1')\n",
        "  plt.plot(episode_list,rewards2, label='rewards 2')\n",
        "  plt.plot(episode_list,rewards3,label='rewards 3')\n",
        "  plt.plot(episode_list,rewards4,label='rewards 4')\n",
        "  plt.xlabel(\"episode\")\n",
        "  plt.ylabel(\"rewards\")\n",
        "  plt.legend()"
      ],
      "metadata": {
        "colab": {
          "base_uri": "https://localhost:8080/",
          "height": 279
        },
        "id": "nxhie0P6UAqD",
        "outputId": "e10610a2-16c7-44fe-c72e-3ffacb24e1ed"
      },
      "execution_count": null,
      "outputs": [
        {
          "output_type": "display_data",
          "data": {
            "text/plain": [
              "<IPython.core.display.Javascript object>"
            ],
            "application/javascript": [
              "window[\"e068fd2c-d177-11ec-8b78-0242ac1c0002\"] = google.colab.output.getActiveOutputArea();\n",
              "//# sourceURL=js_8693d7e6a6"
            ]
          },
          "metadata": {}
        },
        {
          "output_type": "display_data",
          "data": {
            "text/plain": [
              "<IPython.core.display.Javascript object>"
            ],
            "application/javascript": [
              "window[\"e06940b6-d177-11ec-8b78-0242ac1c0002\"] = document.querySelector(\"#id24-0-0\");\n",
              "//# sourceURL=js_a392a453d7"
            ]
          },
          "metadata": {}
        },
        {
          "output_type": "display_data",
          "data": {
            "text/plain": [
              "<IPython.core.display.Javascript object>"
            ],
            "application/javascript": [
              "window[\"e06982ba-d177-11ec-8b78-0242ac1c0002\"] = google.colab.output.setActiveOutputArea(window[\"e06940b6-d177-11ec-8b78-0242ac1c0002\"]);\n",
              "//# sourceURL=js_44d57f0996"
            ]
          },
          "metadata": {}
        },
        {
          "output_type": "display_data",
          "data": {
            "text/plain": [
              "<Figure size 432x288 with 1 Axes>"
            ],
            "image/png": "[encoded data removed]"
          },
          "metadata": {
            "needs_background": "light"
          }
        },
        {
          "output_type": "display_data",
          "data": {
            "text/plain": [
              "<IPython.core.display.Javascript object>"
            ],
            "application/javascript": [
              "window[\"e08a62aa-d177-11ec-8b78-0242ac1c0002\"] = google.colab.output.setActiveOutputArea(window[\"e068fd2c-d177-11ec-8b78-0242ac1c0002\"]);\n",
              "//# sourceURL=js_ecc50c3f3c"
            ]
          },
          "metadata": {}
        }
      ]
    },
    {
      "cell_type": "markdown",
      "source": [
        "###Actor-Critic"
      ],
      "metadata": {
        "id": "5tR7erWNmBrM"
      }
    },
    {
      "cell_type": "code",
      "source": [
        "import random\n",
        "import math\n",
        "import torch\n",
        "import torch.nn as nn\n",
        "import torch.optim as optim\n",
        "import numpy as np\n",
        "import torch.nn.functional as F\n",
        "from torch.distributions import Categorical"
      ],
      "metadata": {
        "id": "bkA5dcdsRA18"
      },
      "execution_count": 10,
      "outputs": []
    },
    {
      "cell_type": "code",
      "source": [
        "import numpy as np\n",
        "import gym\n",
        "from gym import spaces\n",
        "import copy\n",
        "from copy import copy\n",
        "import matplotlib.pyplot as plt\n",
        "from google.colab import widgets"
      ],
      "metadata": {
        "id": "oVffX5LyQ-jQ"
      },
      "execution_count": 11,
      "outputs": []
    },
    {
      "cell_type": "code",
      "source": [
        "#Neural Network Model for Actor and Critic \n",
        "class ActorCritic(nn.Module):\n",
        "  def __init__(self,obs_space,action_space):\n",
        "    super(ActorCritic, self).__init__()\n",
        "    self.obs_space = obs_space\n",
        "    self.action_space = action_space\n",
        "    self.linear = nn.Linear(self.obs_space,128)\n",
        "    self.actor = nn.Linear(128,self.action_space)\n",
        "    self.critic = nn.Linear(128,1)\n",
        "\n",
        "  def Actor(self, state):\n",
        "    output = F.relu(self.linear(state))\n",
        "    output = F.softmax(self.actor(output))\n",
        "    return output\n",
        "  \n",
        "  def Critic(self, state):\n",
        "    output = F.relu(self.linear(state))\n",
        "    output = self.critic(output)\n",
        "    return output \n",
        "\n",
        "  def state_one_hot(self,state):\n",
        "    onehot = torch.zeros(1,15*9)\n",
        "    pos = 9*state[-1] + state[-2]\n",
        "    onehot[0,int(pos)] = 1\n",
        "    return onehot\n",
        "  \n",
        "  def action(self,state):\n",
        "    probs = self.Actor(state)\n",
        "    m = Categorical(probs)\n",
        "    action = m.sample()\n",
        "    return m, action\n",
        "\n",
        "  def Loss(self,state,done,reward,next_state,m,action,loss):\n",
        "    value =  self.Critic(state)\n",
        "    target = torch.tensor(reward) + 0.9 * self.Critic(next_state)\n",
        "    if done:\n",
        "      target = torch.tensor(reward)\n",
        "    lossC = (target-value).pow(2)\n",
        "    lossA = -m.log_prob(action) * (target - value)\n",
        "    loss += lossC + lossA.mean()\n",
        "    return loss \n"
      ],
      "metadata": {
        "id": "x4lBOgM0Q7KM"
      },
      "execution_count": 12,
      "outputs": []
    },
    {
      "cell_type": "code",
      "source": [
        "from gym.core import RewardWrapper\n",
        "#-----------------------------------------------#\n",
        "env = gym.make('pressureplate-linear-4p-v0')\n",
        "\n",
        "rewards = []\n",
        "episode_list = []\n",
        "rewards1 = []\n",
        "rewards2 = []\n",
        "rewards3 = []\n",
        "rewards4 = []\n",
        "\n",
        "# Render an episode and save as a GIF file\n",
        "display = Display(visible=0, size=(400, 300))\n",
        "display.start()\n",
        "env.reset()\n",
        "screen = env.render(mode='rgb_array')\n",
        "im = Image.fromarray(screen)\n",
        "images = [im]\n",
        "#-----------------------------------------------#\n",
        "\n",
        "ac1 = ActorCritic(9*15, 5) #obs, action_space\n",
        "optimizer1 = optim.Adam(ac1.parameters())\n",
        "\n",
        "ac2 = ActorCritic(9*15, 5)\n",
        "optimizer2 = optim.Adam(ac2.parameters())\n",
        "\n",
        "ac3 = ActorCritic(9*15, 5)\n",
        "optimizer3 = optim.Adam(ac3.parameters())\n",
        "\n",
        "ac4 = ActorCritic(9*15, 5)\n",
        "optimizer4 = optim.Adam(ac4.parameters())\n",
        "\n",
        "for ep in range(500): #for each episode\n",
        "  \n",
        "  #Initialize S\n",
        "  obs = env.reset()\n",
        "  loss1 = 0\n",
        "  loss2 = 0 \n",
        "  loss3 = 0\n",
        "  loss4 = 0 \n",
        "  cumulative_rewards = 0\n",
        "  reward1 = 0\n",
        "  reward2 = 0 \n",
        "  reward3 = 0\n",
        "  reward4 = 0 \n",
        "  \n",
        "  for t in range(200): #for each timesteps\n",
        "    state = obs \n",
        "    state1 = ac1.state_one_hot(state[0])\n",
        "    state2 = ac2.state_one_hot(state[1])\n",
        "    state3 = ac3.state_one_hot(state[2])\n",
        "    state4 = ac4.state_one_hot(state[3])\n",
        "\n",
        "    #Take action A, observe S', R \n",
        "    m1,action1 = ac1.action(state1)\n",
        "    m2,action2 = ac2.action(state2)\n",
        "    m3,action3 = ac3.action(state3)\n",
        "    m4,action4 = ac4.action(state4)\n",
        "\n",
        "    next_obs, reward, done, _ = env.step([action1,action2,action3,action4])\n",
        "\n",
        "    #advantage function = TD error\n",
        "    #a <- R + gamma * v(S',w) - v(S,w)\n",
        "    next_state = next_obs\n",
        "\n",
        "    next_state1 = ac1.state_one_hot(next_state[0])\n",
        "    next_state2 = ac2.state_one_hot(next_state[1])\n",
        "    next_state3 = ac3.state_one_hot(next_state[2])\n",
        "    next_state4 = ac4.state_one_hot(next_state[3])\n",
        "\n",
        "    #update critic by minimizing loss\n",
        "    #update actor by minimizing loss\n",
        "    loss1 = ac1.Loss(state1,done[0],reward[0],next_state1,m1,action1,loss1)\n",
        "    loss2 = ac2.Loss(state2,done[1],reward[1],next_state2,m2,action2,loss2)\n",
        "    loss3 = ac3.Loss(state3,done[2],reward[2],next_state3,m3,action3,loss3)\n",
        "    loss4 = ac4.Loss(state1,done[3],reward[3],next_state4,m4,action4,loss4)\n",
        "\n",
        "    #S<-S'\n",
        "    obs = next_obs\n",
        "\n",
        "    #compute comulative reward \n",
        "    sum_reward_agent = 0\n",
        "    for i in reward:\n",
        "      sum_reward_agent+=i\n",
        "    reward1 += reward[0]\n",
        "    reward2 += reward[1]\n",
        "    reward3 += reward[2]\n",
        "    reward4 += reward[3]\n",
        "    cumulative_rewards += sum_reward_agent\n",
        "\n",
        "    # Render screen every 10 steps when episode arrives at 1000\n",
        "    if ep ==499:\n",
        "      if t % 1 == 0:\n",
        "        screen = env.render(mode='rgb_array')\n",
        "        images.append(Image.fromarray(screen))\n",
        "\n",
        "    if done[0] == True and done[1] == True and done[2] == True and done[3] == True:\n",
        "      print(t)\n",
        "      break \n",
        "\n",
        "\n",
        "  #backpropagation \n",
        "\n",
        "  optimizer1.zero_grad()\n",
        "  loss1.backward()\n",
        "  optimizer1.step()\n",
        "  \n",
        "  optimizer2.zero_grad()\n",
        "  loss2.backward()\n",
        "  optimizer2.step()\n",
        "  \n",
        "  optimizer3.zero_grad()\n",
        "  loss3.backward()  \n",
        "  optimizer3.step()\n",
        "  \n",
        "  optimizer4.zero_grad()\n",
        "  loss4.backward()\n",
        "  optimizer4.step()\n",
        "\n",
        "  if (ep-1)%10 == 0:\n",
        "    print('episode:',ep,end=' ')\n",
        "    print('rewards:',cumulative_rewards)\n",
        "\n",
        "  episode_list.append(ep)\n",
        "  rewards.append(cumulative_rewards)\n",
        "  rewards1.append(reward1)\n",
        "  rewards2.append(reward2)\n",
        "  rewards3.append(reward3)\n",
        "  rewards4.append(reward4)\n",
        "\n",
        "env.close()\n",
        "\n",
        "# Save GIF image\n",
        "image_file = 'actor-critic-pressureplate-linear-4p-v0.gif'\n",
        "# loop=0: loop forever, duration=1: play each frame for 1ms\n",
        "images[0].save(\n",
        "    image_file, save_all=True, append_images=images[1:], loop=0, duration=1)"
      ],
      "metadata": {
        "id": "Eue337YoEaJu",
        "colab": {
          "base_uri": "https://localhost:8080/"
        },
        "outputId": "ccd45f16-65bf-47dc-cf00-9db6003d27a0"
      },
      "execution_count": null,
      "outputs": [
        {
          "output_type": "stream",
          "name": "stderr",
          "text": [
            "/usr/local/lib/python3.7/dist-packages/ipykernel_launcher.py:13: UserWarning: Implicit dimension choice for softmax has been deprecated. Change the call to include dim=X as an argument.\n",
            "  del sys.path[0]\n"
          ]
        },
        {
          "output_type": "stream",
          "name": "stdout",
          "text": [
            "episode: 1 rewards: -1883.3000000000002\n"
          ]
        }
      ]
    },
    {
      "cell_type": "code",
      "source": [
        "#rewards per episode \n",
        "output_grid = widgets.Grid(1, 1)\n",
        "with output_grid.output_to(0, 0):\n",
        "  plt.plot(episode_list,rewards,label='rewards sum')\n",
        "  plt.xlabel(\"episode\")\n",
        "  plt.ylabel(\"rewards\")\n",
        "  plt.legend()"
      ],
      "metadata": {
        "colab": {
          "base_uri": "https://localhost:8080/",
          "height": 283
        },
        "id": "6V64iLu6oiZr",
        "outputId": "742f55d4-d993-418d-af23-5daa89826562"
      },
      "execution_count": 93,
      "outputs": [
        {
          "output_type": "display_data",
          "data": {
            "text/plain": [
              "<IPython.core.display.HTML object>"
            ],
            "text/html": [
              "<style>\n",
              "       table#id16, #id16 > tbody > tr > th, #id16 > tbody > tr > td {\n",
              "         border: 1px solid lightgray;\n",
              "         border-collapse:collapse;\n",
              "         \n",
              "        }</style>"
            ]
          },
          "metadata": {}
        },
        {
          "output_type": "display_data",
          "data": {
            "text/plain": [
              "<IPython.core.display.HTML object>"
            ],
            "text/html": [
              "<table id=id16><tr><td id=id16-0-0></td></tr></table>"
            ]
          },
          "metadata": {}
        },
        {
          "output_type": "display_data",
          "data": {
            "text/plain": [
              "<IPython.core.display.Javascript object>"
            ],
            "application/javascript": [
              "window[\"8f8f1358-d1a6-11ec-a2cb-0242ac1c0002\"] = google.colab.output.getActiveOutputArea();\n",
              "//# sourceURL=js_8d9bf386ee"
            ]
          },
          "metadata": {}
        },
        {
          "output_type": "display_data",
          "data": {
            "text/plain": [
              "<IPython.core.display.Javascript object>"
            ],
            "application/javascript": [
              "window[\"8f8f78ac-d1a6-11ec-a2cb-0242ac1c0002\"] = document.querySelector(\"#id16-0-0\");\n",
              "//# sourceURL=js_de421cd960"
            ]
          },
          "metadata": {}
        },
        {
          "output_type": "display_data",
          "data": {
            "text/plain": [
              "<IPython.core.display.Javascript object>"
            ],
            "application/javascript": [
              "window[\"8f8ffb38-d1a6-11ec-a2cb-0242ac1c0002\"] = google.colab.output.setActiveOutputArea(window[\"8f8f78ac-d1a6-11ec-a2cb-0242ac1c0002\"]);\n",
              "//# sourceURL=js_d6545843c3"
            ]
          },
          "metadata": {}
        },
        {
          "output_type": "display_data",
          "data": {
            "text/plain": [
              "<Figure size 432x288 with 1 Axes>"
            ],
            "image/png": "[encoded data removed]"
          },
          "metadata": {
            "needs_background": "light"
          }
        },
        {
          "output_type": "display_data",
          "data": {
            "text/plain": [
              "<IPython.core.display.Javascript object>"
            ],
            "application/javascript": [
              "window[\"8facb3ae-d1a6-11ec-a2cb-0242ac1c0002\"] = google.colab.output.setActiveOutputArea(window[\"8f8f1358-d1a6-11ec-a2cb-0242ac1c0002\"]);\n",
              "//# sourceURL=js_33ea24fa3a"
            ]
          },
          "metadata": {}
        }
      ]
    },
    {
      "cell_type": "code",
      "source": [
        "#rewards per episode \n",
        "with output_grid.output_to(0, 0):\n",
        "  plt.plot(episode_list,rewards,label='rewards sum')\n",
        "  plt.plot(episode_list,rewards1,label='rewards 1')\n",
        "  plt.plot(episode_list,rewards2, label='rewards 2')\n",
        "  plt.plot(episode_list,rewards3,label='rewards 3')\n",
        "  plt.plot(episode_list,rewards4,label='rewards 4')\n",
        "  plt.xlabel(\"episode\")\n",
        "  plt.ylabel(\"rewards\")\n",
        "  plt.legend()"
      ],
      "metadata": {
        "colab": {
          "base_uri": "https://localhost:8080/",
          "height": 279
        },
        "id": "QJIfFdHgooMq",
        "outputId": "3db849d6-f9c3-4e16-bf53-55bf729ab53e"
      },
      "execution_count": 94,
      "outputs": [
        {
          "output_type": "display_data",
          "data": {
            "text/plain": [
              "<IPython.core.display.Javascript object>"
            ],
            "application/javascript": [
              "window[\"8fb1d532-d1a6-11ec-a2cb-0242ac1c0002\"] = google.colab.output.getActiveOutputArea();\n",
              "//# sourceURL=js_9781700291"
            ]
          },
          "metadata": {}
        },
        {
          "output_type": "display_data",
          "data": {
            "text/plain": [
              "<IPython.core.display.Javascript object>"
            ],
            "application/javascript": [
              "window[\"8fb2325c-d1a6-11ec-a2cb-0242ac1c0002\"] = document.querySelector(\"#id16-0-0\");\n",
              "//# sourceURL=js_909e4600cb"
            ]
          },
          "metadata": {}
        },
        {
          "output_type": "display_data",
          "data": {
            "text/plain": [
              "<IPython.core.display.Javascript object>"
            ],
            "application/javascript": [
              "window[\"8fb28c66-d1a6-11ec-a2cb-0242ac1c0002\"] = google.colab.output.setActiveOutputArea(window[\"8fb2325c-d1a6-11ec-a2cb-0242ac1c0002\"]);\n",
              "//# sourceURL=js_3801639456"
            ]
          },
          "metadata": {}
        },
        {
          "output_type": "display_data",
          "data": {
            "text/plain": [
              "<Figure size 432x288 with 1 Axes>"
            ],
            "image/png": "[encoded data removed]"
          },
          "metadata": {
            "needs_background": "light"
          }
        },
        {
          "output_type": "display_data",
          "data": {
            "text/plain": [
              "<IPython.core.display.Javascript object>"
            ],
            "application/javascript": [
              "window[\"8fd5058e-d1a6-11ec-a2cb-0242ac1c0002\"] = google.colab.output.setActiveOutputArea(window[\"8fb1d532-d1a6-11ec-a2cb-0242ac1c0002\"]);\n",
              "//# sourceURL=js_215445c972"
            ]
          },
          "metadata": {}
        }
      ]
    }
  ]
}
